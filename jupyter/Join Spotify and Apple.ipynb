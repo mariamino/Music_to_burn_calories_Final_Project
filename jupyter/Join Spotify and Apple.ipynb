{
 "cells": [
  {
   "cell_type": "code",
   "execution_count": 1,
   "id": "eb991128",
   "metadata": {},
   "outputs": [],
   "source": [
    "import pandas as pd\n",
    "import numpy as np\n",
    "import datetime"
   ]
  },
  {
   "cell_type": "code",
   "execution_count": 2,
   "id": "61af74b3",
   "metadata": {},
   "outputs": [],
   "source": [
    "music = pd.read_json('../data/mydataspotify/StreamingHistory0.json')"
   ]
  },
  {
   "cell_type": "code",
   "execution_count": 3,
   "id": "5c8f11fa",
   "metadata": {},
   "outputs": [
    {
     "data": {
      "text/plain": [
       "(10000, 4)"
      ]
     },
     "execution_count": 3,
     "metadata": {},
     "output_type": "execute_result"
    }
   ],
   "source": [
    "music.shape"
   ]
  },
  {
   "cell_type": "code",
   "execution_count": 4,
   "id": "08a80c60",
   "metadata": {},
   "outputs": [],
   "source": [
    "music2 = pd.read_json('../data/mydataspotify/StreamingHistory1.json')"
   ]
  },
  {
   "cell_type": "code",
   "execution_count": 5,
   "id": "0ab3a56b",
   "metadata": {},
   "outputs": [
    {
     "data": {
      "text/plain": [
       "(6530, 4)"
      ]
     },
     "execution_count": 5,
     "metadata": {},
     "output_type": "execute_result"
    }
   ],
   "source": [
    "music2.shape"
   ]
  },
  {
   "cell_type": "code",
   "execution_count": 6,
   "id": "06a3a290",
   "metadata": {},
   "outputs": [],
   "source": [
    "music = pd.concat([music, music2], axis=0, ignore_index=True)"
   ]
  },
  {
   "cell_type": "code",
   "execution_count": 7,
   "id": "fca1a589",
   "metadata": {},
   "outputs": [
    {
     "data": {
      "text/plain": [
       "(16530, 4)"
      ]
     },
     "execution_count": 7,
     "metadata": {},
     "output_type": "execute_result"
    }
   ],
   "source": [
    "music.shape"
   ]
  },
  {
   "cell_type": "code",
   "execution_count": 8,
   "id": "831e59c8",
   "metadata": {
    "scrolled": true
   },
   "outputs": [
    {
     "data": {
      "text/html": [
       "<div>\n",
       "<style scoped>\n",
       "    .dataframe tbody tr th:only-of-type {\n",
       "        vertical-align: middle;\n",
       "    }\n",
       "\n",
       "    .dataframe tbody tr th {\n",
       "        vertical-align: top;\n",
       "    }\n",
       "\n",
       "    .dataframe thead th {\n",
       "        text-align: right;\n",
       "    }\n",
       "</style>\n",
       "<table border=\"1\" class=\"dataframe\">\n",
       "  <thead>\n",
       "    <tr style=\"text-align: right;\">\n",
       "      <th></th>\n",
       "      <th>endTime</th>\n",
       "      <th>artistName</th>\n",
       "      <th>trackName</th>\n",
       "      <th>msPlayed</th>\n",
       "    </tr>\n",
       "  </thead>\n",
       "  <tbody>\n",
       "    <tr>\n",
       "      <th>0</th>\n",
       "      <td>2021-11-12 15:22</td>\n",
       "      <td>Myke Towers</td>\n",
       "      <td>Experimento</td>\n",
       "      <td>106394</td>\n",
       "    </tr>\n",
       "    <tr>\n",
       "      <th>1</th>\n",
       "      <td>2021-11-13 08:53</td>\n",
       "      <td>Tame Impala</td>\n",
       "      <td>The Less I Know The Better</td>\n",
       "      <td>3712</td>\n",
       "    </tr>\n",
       "    <tr>\n",
       "      <th>2</th>\n",
       "      <td>2021-11-13 08:56</td>\n",
       "      <td>Tame Impala</td>\n",
       "      <td>The Less I Know The Better</td>\n",
       "      <td>213141</td>\n",
       "    </tr>\n",
       "    <tr>\n",
       "      <th>3</th>\n",
       "      <td>2021-11-13 09:33</td>\n",
       "      <td>Goth Babe</td>\n",
       "      <td>Canary Islands</td>\n",
       "      <td>3904</td>\n",
       "    </tr>\n",
       "    <tr>\n",
       "      <th>4</th>\n",
       "      <td>2021-11-13 09:36</td>\n",
       "      <td>Goth Babe</td>\n",
       "      <td>Canary Islands</td>\n",
       "      <td>201042</td>\n",
       "    </tr>\n",
       "  </tbody>\n",
       "</table>\n",
       "</div>"
      ],
      "text/plain": [
       "            endTime   artistName                   trackName  msPlayed\n",
       "0  2021-11-12 15:22  Myke Towers                 Experimento    106394\n",
       "1  2021-11-13 08:53  Tame Impala  The Less I Know The Better      3712\n",
       "2  2021-11-13 08:56  Tame Impala  The Less I Know The Better    213141\n",
       "3  2021-11-13 09:33    Goth Babe              Canary Islands      3904\n",
       "4  2021-11-13 09:36    Goth Babe              Canary Islands    201042"
      ]
     },
     "execution_count": 8,
     "metadata": {},
     "output_type": "execute_result"
    }
   ],
   "source": [
    "music.head()"
   ]
  },
  {
   "cell_type": "code",
   "execution_count": 9,
   "id": "b9882229",
   "metadata": {},
   "outputs": [],
   "source": [
    "music['sgPlayed'] = music['msPlayed']/1000"
   ]
  },
  {
   "cell_type": "code",
   "execution_count": 10,
   "id": "3b8aec0a",
   "metadata": {},
   "outputs": [],
   "source": [
    "music['minPlayed'] = music['sgPlayed']/60"
   ]
  },
  {
   "cell_type": "code",
   "execution_count": 11,
   "id": "85874688",
   "metadata": {},
   "outputs": [
    {
     "data": {
      "text/plain": [
       "Series([], dtype: int64)"
      ]
     },
     "execution_count": 11,
     "metadata": {},
     "output_type": "execute_result"
    }
   ],
   "source": [
    "nan_cols=music.isna().sum()\n",
    "\n",
    "nan_cols[nan_cols>0]"
   ]
  },
  {
   "cell_type": "code",
   "execution_count": 12,
   "id": "a8db8d65",
   "metadata": {},
   "outputs": [],
   "source": [
    "music['endTime'] = pd.to_datetime(music['endTime'])"
   ]
  },
  {
   "cell_type": "code",
   "execution_count": 13,
   "id": "d553b98b",
   "metadata": {},
   "outputs": [
    {
     "name": "stdout",
     "output_type": "stream",
     "text": [
      "<class 'pandas.core.frame.DataFrame'>\n",
      "RangeIndex: 16530 entries, 0 to 16529\n",
      "Data columns (total 6 columns):\n",
      " #   Column      Non-Null Count  Dtype         \n",
      "---  ------      --------------  -----         \n",
      " 0   endTime     16530 non-null  datetime64[ns]\n",
      " 1   artistName  16530 non-null  object        \n",
      " 2   trackName   16530 non-null  object        \n",
      " 3   msPlayed    16530 non-null  int64         \n",
      " 4   sgPlayed    16530 non-null  float64       \n",
      " 5   minPlayed   16530 non-null  float64       \n",
      "dtypes: datetime64[ns](1), float64(2), int64(1), object(2)\n",
      "memory usage: 775.0+ KB\n"
     ]
    }
   ],
   "source": [
    "music.info()"
   ]
  },
  {
   "cell_type": "code",
   "execution_count": 14,
   "id": "52b4ef03",
   "metadata": {},
   "outputs": [],
   "source": [
    "music.rename(columns={'endTime':'date'}, inplace=True)"
   ]
  },
  {
   "cell_type": "code",
   "execution_count": 15,
   "id": "f6b5edfa",
   "metadata": {},
   "outputs": [],
   "source": [
    "music.set_index('date', inplace=True)"
   ]
  },
  {
   "cell_type": "code",
   "execution_count": 16,
   "id": "bfd96ee1",
   "metadata": {
    "scrolled": true
   },
   "outputs": [
    {
     "data": {
      "text/html": [
       "<div>\n",
       "<style scoped>\n",
       "    .dataframe tbody tr th:only-of-type {\n",
       "        vertical-align: middle;\n",
       "    }\n",
       "\n",
       "    .dataframe tbody tr th {\n",
       "        vertical-align: top;\n",
       "    }\n",
       "\n",
       "    .dataframe thead th {\n",
       "        text-align: right;\n",
       "    }\n",
       "</style>\n",
       "<table border=\"1\" class=\"dataframe\">\n",
       "  <thead>\n",
       "    <tr style=\"text-align: right;\">\n",
       "      <th></th>\n",
       "      <th>artistName</th>\n",
       "      <th>trackName</th>\n",
       "      <th>msPlayed</th>\n",
       "      <th>sgPlayed</th>\n",
       "      <th>minPlayed</th>\n",
       "    </tr>\n",
       "    <tr>\n",
       "      <th>date</th>\n",
       "      <th></th>\n",
       "      <th></th>\n",
       "      <th></th>\n",
       "      <th></th>\n",
       "      <th></th>\n",
       "    </tr>\n",
       "  </thead>\n",
       "  <tbody>\n",
       "    <tr>\n",
       "      <th>2022-01-01 01:47:00</th>\n",
       "      <td>Doja Cat</td>\n",
       "      <td>You Right</td>\n",
       "      <td>186173</td>\n",
       "      <td>186.173</td>\n",
       "      <td>3.102883</td>\n",
       "    </tr>\n",
       "    <tr>\n",
       "      <th>2022-01-01 01:51:00</th>\n",
       "      <td>Doja Cat</td>\n",
       "      <td>Say So</td>\n",
       "      <td>237893</td>\n",
       "      <td>237.893</td>\n",
       "      <td>3.964883</td>\n",
       "    </tr>\n",
       "    <tr>\n",
       "      <th>2022-01-01 01:54:00</th>\n",
       "      <td>Doja Cat</td>\n",
       "      <td>Cyber Sex</td>\n",
       "      <td>165733</td>\n",
       "      <td>165.733</td>\n",
       "      <td>2.762217</td>\n",
       "    </tr>\n",
       "    <tr>\n",
       "      <th>2022-01-01 01:56:00</th>\n",
       "      <td>Doja Cat</td>\n",
       "      <td>Woman</td>\n",
       "      <td>172626</td>\n",
       "      <td>172.626</td>\n",
       "      <td>2.877100</td>\n",
       "    </tr>\n",
       "    <tr>\n",
       "      <th>2022-01-01 01:59:00</th>\n",
       "      <td>Doja Cat</td>\n",
       "      <td>Ride</td>\n",
       "      <td>176733</td>\n",
       "      <td>176.733</td>\n",
       "      <td>2.945550</td>\n",
       "    </tr>\n",
       "  </tbody>\n",
       "</table>\n",
       "</div>"
      ],
      "text/plain": [
       "                    artistName  trackName  msPlayed  sgPlayed  minPlayed\n",
       "date                                                                    \n",
       "2022-01-01 01:47:00   Doja Cat  You Right    186173   186.173   3.102883\n",
       "2022-01-01 01:51:00   Doja Cat     Say So    237893   237.893   3.964883\n",
       "2022-01-01 01:54:00   Doja Cat  Cyber Sex    165733   165.733   2.762217\n",
       "2022-01-01 01:56:00   Doja Cat      Woman    172626   172.626   2.877100\n",
       "2022-01-01 01:59:00   Doja Cat       Ride    176733   176.733   2.945550"
      ]
     },
     "execution_count": 16,
     "metadata": {},
     "output_type": "execute_result"
    }
   ],
   "source": [
    "music.loc['Jan 2022' : 'Feb 2022'][:5]"
   ]
  },
  {
   "cell_type": "code",
   "execution_count": 17,
   "id": "adc4c049",
   "metadata": {},
   "outputs": [
    {
     "data": {
      "text/html": [
       "<div>\n",
       "<style scoped>\n",
       "    .dataframe tbody tr th:only-of-type {\n",
       "        vertical-align: middle;\n",
       "    }\n",
       "\n",
       "    .dataframe tbody tr th {\n",
       "        vertical-align: top;\n",
       "    }\n",
       "\n",
       "    .dataframe thead th {\n",
       "        text-align: right;\n",
       "    }\n",
       "</style>\n",
       "<table border=\"1\" class=\"dataframe\">\n",
       "  <thead>\n",
       "    <tr style=\"text-align: right;\">\n",
       "      <th></th>\n",
       "      <th>artistName</th>\n",
       "      <th>trackName</th>\n",
       "      <th>msPlayed</th>\n",
       "      <th>sgPlayed</th>\n",
       "      <th>minPlayed</th>\n",
       "    </tr>\n",
       "    <tr>\n",
       "      <th>date</th>\n",
       "      <th></th>\n",
       "      <th></th>\n",
       "      <th></th>\n",
       "      <th></th>\n",
       "      <th></th>\n",
       "    </tr>\n",
       "  </thead>\n",
       "  <tbody>\n",
       "    <tr>\n",
       "      <th>2021-11-13 21:22:00</th>\n",
       "      <td>Myke Towers</td>\n",
       "      <td>Experimento</td>\n",
       "      <td>8150</td>\n",
       "      <td>8.150</td>\n",
       "      <td>0.135833</td>\n",
       "    </tr>\n",
       "    <tr>\n",
       "      <th>2021-11-13 21:22:00</th>\n",
       "      <td>ROSALÍA</td>\n",
       "      <td>LA FAMA (with The Weeknd)</td>\n",
       "      <td>36061</td>\n",
       "      <td>36.061</td>\n",
       "      <td>0.601017</td>\n",
       "    </tr>\n",
       "    <tr>\n",
       "      <th>2021-11-13 21:25:00</th>\n",
       "      <td>Jorja Smith</td>\n",
       "      <td>Home</td>\n",
       "      <td>166425</td>\n",
       "      <td>166.425</td>\n",
       "      <td>2.773750</td>\n",
       "    </tr>\n",
       "    <tr>\n",
       "      <th>2021-11-13 21:28:00</th>\n",
       "      <td>Jorja Smith</td>\n",
       "      <td>Home</td>\n",
       "      <td>166425</td>\n",
       "      <td>166.425</td>\n",
       "      <td>2.773750</td>\n",
       "    </tr>\n",
       "    <tr>\n",
       "      <th>2021-11-13 21:34:00</th>\n",
       "      <td>Jorja Smith</td>\n",
       "      <td>Bussdown (feat. Shaybo)</td>\n",
       "      <td>5418</td>\n",
       "      <td>5.418</td>\n",
       "      <td>0.090300</td>\n",
       "    </tr>\n",
       "  </tbody>\n",
       "</table>\n",
       "</div>"
      ],
      "text/plain": [
       "                      artistName                  trackName  msPlayed  \\\n",
       "date                                                                    \n",
       "2021-11-13 21:22:00  Myke Towers                Experimento      8150   \n",
       "2021-11-13 21:22:00      ROSALÍA  LA FAMA (with The Weeknd)     36061   \n",
       "2021-11-13 21:25:00  Jorja Smith                       Home    166425   \n",
       "2021-11-13 21:28:00  Jorja Smith                       Home    166425   \n",
       "2021-11-13 21:34:00  Jorja Smith    Bussdown (feat. Shaybo)      5418   \n",
       "\n",
       "                     sgPlayed  minPlayed  \n",
       "date                                      \n",
       "2021-11-13 21:22:00     8.150   0.135833  \n",
       "2021-11-13 21:22:00    36.061   0.601017  \n",
       "2021-11-13 21:25:00   166.425   2.773750  \n",
       "2021-11-13 21:28:00   166.425   2.773750  \n",
       "2021-11-13 21:34:00     5.418   0.090300  "
      ]
     },
     "execution_count": 17,
     "metadata": {},
     "output_type": "execute_result"
    }
   ],
   "source": [
    "music.between_time('21:00','22:00')[:5]"
   ]
  },
  {
   "cell_type": "code",
   "execution_count": 18,
   "id": "bcb5a573",
   "metadata": {},
   "outputs": [
    {
     "data": {
      "image/png": "[encoded data removed]",
      "text/plain": [
       "<Figure size 1728x576 with 1 Axes>"
      ]
     },
     "metadata": {
      "needs_background": "light"
     },
     "output_type": "display_data"
    }
   ],
   "source": [
    "import matplotlib.pyplot as plt\n",
    "import datetime\n",
    "import matplotlib.dates as mdates\n",
    "\n",
    "fig, ax = plt.subplots(figsize=(24, 8))\n",
    "\n",
    "profit_color = ['green' if p > 4000 else 'grey' for p in music.resample('M')['minPlayed'].sum()]\n",
    "\n",
    "ax.xaxis.set_major_formatter(mdates.DateFormatter('%Y-%b'))\n",
    "\n",
    "music.resample('M')['minPlayed'].sum()\\\n",
    ".plot.bar(color=profit_color, ax=ax, title='Monthly Minutes Played in Spotify');\n"
   ]
  },
  {
   "cell_type": "markdown",
   "id": "73ad3eb5",
   "metadata": {},
   "source": [
    "# Apple"
   ]
  },
  {
   "cell_type": "code",
   "execution_count": 19,
   "id": "c148855b",
   "metadata": {},
   "outputs": [
    {
     "name": "stderr",
     "output_type": "stream",
     "text": [
      "/var/folders/s4/79ykyqjn7f16bdl_zqjgsbzh0000gp/T/ipykernel_61493/3312075173.py:1: DtypeWarning: Columns (1) have mixed types. Specify dtype option on import or set low_memory=False.\n",
      "  apple = pd.read_csv('../data/apple_health_export/ActiveEnergyBurned.csv')\n"
     ]
    }
   ],
   "source": [
    "apple = pd.read_csv('../data/apple_health_export/ActiveEnergyBurned.csv')"
   ]
  },
  {
   "cell_type": "code",
   "execution_count": 20,
   "id": "a44f97e0",
   "metadata": {
    "scrolled": false
   },
   "outputs": [
    {
     "name": "stdout",
     "output_type": "stream",
     "text": [
      "<class 'pandas.core.frame.DataFrame'>\n",
      "RangeIndex: 336135 entries, 0 to 336134\n",
      "Data columns (total 9 columns):\n",
      " #   Column         Non-Null Count   Dtype  \n",
      "---  ------         --------------   -----  \n",
      " 0   sourceName     336135 non-null  object \n",
      " 1   sourceVersion  336135 non-null  object \n",
      " 2   device         330600 non-null  object \n",
      " 3   type           336135 non-null  object \n",
      " 4   unit           336135 non-null  object \n",
      " 5   creationDate   336135 non-null  object \n",
      " 6   startDate      336135 non-null  object \n",
      " 7   endDate        336135 non-null  object \n",
      " 8   value          336135 non-null  float64\n",
      "dtypes: float64(1), object(8)\n",
      "memory usage: 23.1+ MB\n"
     ]
    }
   ],
   "source": [
    "apple.info()"
   ]
  },
  {
   "cell_type": "code",
   "execution_count": 21,
   "id": "54325f6d",
   "metadata": {
    "scrolled": true
   },
   "outputs": [],
   "source": [
    "apple = apple.astype({'startDate': 'datetime64[ns]','endDate': 'datetime64[ns]'})"
   ]
  },
  {
   "cell_type": "code",
   "execution_count": 22,
   "id": "232ac224",
   "metadata": {},
   "outputs": [],
   "source": [
    "#apple['diff'] = apple['endDate'] - apple['startDate']"
   ]
  },
  {
   "cell_type": "code",
   "execution_count": 23,
   "id": "6cfff850",
   "metadata": {},
   "outputs": [],
   "source": [
    "#apple.tail(50)"
   ]
  },
  {
   "cell_type": "code",
   "execution_count": 24,
   "id": "1332ccc1",
   "metadata": {},
   "outputs": [],
   "source": [
    "#apple['diff'].min()"
   ]
  },
  {
   "cell_type": "code",
   "execution_count": 25,
   "id": "f4a9e57c",
   "metadata": {},
   "outputs": [],
   "source": [
    "apple.drop(columns=['sourceName','sourceVersion','device','type','unit', 'creationDate', 'endDate'], inplace= True)"
   ]
  },
  {
   "cell_type": "code",
   "execution_count": 26,
   "id": "acaea602",
   "metadata": {},
   "outputs": [],
   "source": [
    "apple.columns = ['date','kcal']"
   ]
  },
  {
   "cell_type": "code",
   "execution_count": 27,
   "id": "e72dd2d4",
   "metadata": {},
   "outputs": [],
   "source": [
    "apple['date'] = apple['date'].dt.floor('Min')"
   ]
  },
  {
   "cell_type": "code",
   "execution_count": 28,
   "id": "2c19c8ed",
   "metadata": {},
   "outputs": [
    {
     "data": {
      "text/html": [
       "<div>\n",
       "<style scoped>\n",
       "    .dataframe tbody tr th:only-of-type {\n",
       "        vertical-align: middle;\n",
       "    }\n",
       "\n",
       "    .dataframe tbody tr th {\n",
       "        vertical-align: top;\n",
       "    }\n",
       "\n",
       "    .dataframe thead th {\n",
       "        text-align: right;\n",
       "    }\n",
       "</style>\n",
       "<table border=\"1\" class=\"dataframe\">\n",
       "  <thead>\n",
       "    <tr style=\"text-align: right;\">\n",
       "      <th></th>\n",
       "      <th>date</th>\n",
       "      <th>kcal</th>\n",
       "    </tr>\n",
       "  </thead>\n",
       "  <tbody>\n",
       "    <tr>\n",
       "      <th>1127</th>\n",
       "      <td>2020-12-15 21:30:00</td>\n",
       "      <td>8.0</td>\n",
       "    </tr>\n",
       "    <tr>\n",
       "      <th>1142</th>\n",
       "      <td>2020-12-15 21:30:00</td>\n",
       "      <td>8.0</td>\n",
       "    </tr>\n",
       "    <tr>\n",
       "      <th>1440</th>\n",
       "      <td>2020-12-30 23:30:00</td>\n",
       "      <td>1.0</td>\n",
       "    </tr>\n",
       "    <tr>\n",
       "      <th>1593</th>\n",
       "      <td>2021-01-07 13:50:00</td>\n",
       "      <td>1.0</td>\n",
       "    </tr>\n",
       "    <tr>\n",
       "      <th>1834</th>\n",
       "      <td>2020-12-30 23:30:00</td>\n",
       "      <td>1.0</td>\n",
       "    </tr>\n",
       "  </tbody>\n",
       "</table>\n",
       "</div>"
      ],
      "text/plain": [
       "                    date  kcal\n",
       "1127 2020-12-15 21:30:00   8.0\n",
       "1142 2020-12-15 21:30:00   8.0\n",
       "1440 2020-12-30 23:30:00   1.0\n",
       "1593 2021-01-07 13:50:00   1.0\n",
       "1834 2020-12-30 23:30:00   1.0"
      ]
     },
     "execution_count": 28,
     "metadata": {},
     "output_type": "execute_result"
    }
   ],
   "source": [
    "apple.loc[apple.date.duplicated(keep=False)][:5]"
   ]
  },
  {
   "cell_type": "code",
   "execution_count": 29,
   "id": "3abeef9b",
   "metadata": {},
   "outputs": [],
   "source": [
    "app = apple.groupby(['date'])['kcal'].sum()"
   ]
  },
  {
   "cell_type": "code",
   "execution_count": 30,
   "id": "c0291b04",
   "metadata": {},
   "outputs": [
    {
     "data": {
      "text/html": [
       "<div>\n",
       "<style scoped>\n",
       "    .dataframe tbody tr th:only-of-type {\n",
       "        vertical-align: middle;\n",
       "    }\n",
       "\n",
       "    .dataframe tbody tr th {\n",
       "        vertical-align: top;\n",
       "    }\n",
       "\n",
       "    .dataframe thead th {\n",
       "        text-align: right;\n",
       "    }\n",
       "</style>\n",
       "<table border=\"1\" class=\"dataframe\">\n",
       "  <thead>\n",
       "    <tr style=\"text-align: right;\">\n",
       "      <th></th>\n",
       "      <th>date</th>\n",
       "      <th>kcal</th>\n",
       "    </tr>\n",
       "  </thead>\n",
       "  <tbody>\n",
       "    <tr>\n",
       "      <th>1127</th>\n",
       "      <td>2020-12-15 21:30:00</td>\n",
       "      <td>8.0</td>\n",
       "    </tr>\n",
       "    <tr>\n",
       "      <th>1142</th>\n",
       "      <td>2020-12-15 21:30:00</td>\n",
       "      <td>8.0</td>\n",
       "    </tr>\n",
       "    <tr>\n",
       "      <th>1440</th>\n",
       "      <td>2020-12-30 23:30:00</td>\n",
       "      <td>1.0</td>\n",
       "    </tr>\n",
       "    <tr>\n",
       "      <th>1593</th>\n",
       "      <td>2021-01-07 13:50:00</td>\n",
       "      <td>1.0</td>\n",
       "    </tr>\n",
       "    <tr>\n",
       "      <th>1834</th>\n",
       "      <td>2020-12-30 23:30:00</td>\n",
       "      <td>1.0</td>\n",
       "    </tr>\n",
       "  </tbody>\n",
       "</table>\n",
       "</div>"
      ],
      "text/plain": [
       "                    date  kcal\n",
       "1127 2020-12-15 21:30:00   8.0\n",
       "1142 2020-12-15 21:30:00   8.0\n",
       "1440 2020-12-30 23:30:00   1.0\n",
       "1593 2021-01-07 13:50:00   1.0\n",
       "1834 2020-12-30 23:30:00   1.0"
      ]
     },
     "execution_count": 30,
     "metadata": {},
     "output_type": "execute_result"
    }
   ],
   "source": [
    "apple.loc[apple.date.duplicated(keep=False)][:5]"
   ]
  },
  {
   "cell_type": "code",
   "execution_count": 31,
   "id": "92910070",
   "metadata": {},
   "outputs": [],
   "source": [
    "app = pd.DataFrame(app)"
   ]
  },
  {
   "cell_type": "code",
   "execution_count": 32,
   "id": "8faddbc2",
   "metadata": {},
   "outputs": [],
   "source": [
    "app.reset_index(inplace=True)"
   ]
  },
  {
   "cell_type": "code",
   "execution_count": 33,
   "id": "a68f7e02",
   "metadata": {
    "scrolled": false
   },
   "outputs": [
    {
     "data": {
      "text/html": [
       "<div>\n",
       "<style scoped>\n",
       "    .dataframe tbody tr th:only-of-type {\n",
       "        vertical-align: middle;\n",
       "    }\n",
       "\n",
       "    .dataframe tbody tr th {\n",
       "        vertical-align: top;\n",
       "    }\n",
       "\n",
       "    .dataframe thead th {\n",
       "        text-align: right;\n",
       "    }\n",
       "</style>\n",
       "<table border=\"1\" class=\"dataframe\">\n",
       "  <thead>\n",
       "    <tr style=\"text-align: right;\">\n",
       "      <th></th>\n",
       "      <th>date</th>\n",
       "      <th>kcal</th>\n",
       "    </tr>\n",
       "  </thead>\n",
       "  <tbody>\n",
       "    <tr>\n",
       "      <th>0</th>\n",
       "      <td>2016-05-28 08:00:00</td>\n",
       "      <td>239.0</td>\n",
       "    </tr>\n",
       "    <tr>\n",
       "      <th>1</th>\n",
       "      <td>2020-11-05 13:40:00</td>\n",
       "      <td>1.0</td>\n",
       "    </tr>\n",
       "    <tr>\n",
       "      <th>2</th>\n",
       "      <td>2020-11-05 15:30:00</td>\n",
       "      <td>1.0</td>\n",
       "    </tr>\n",
       "    <tr>\n",
       "      <th>3</th>\n",
       "      <td>2020-11-05 15:40:00</td>\n",
       "      <td>3.0</td>\n",
       "    </tr>\n",
       "    <tr>\n",
       "      <th>4</th>\n",
       "      <td>2020-11-05 15:50:00</td>\n",
       "      <td>2.0</td>\n",
       "    </tr>\n",
       "  </tbody>\n",
       "</table>\n",
       "</div>"
      ],
      "text/plain": [
       "                 date   kcal\n",
       "0 2016-05-28 08:00:00  239.0\n",
       "1 2020-11-05 13:40:00    1.0\n",
       "2 2020-11-05 15:30:00    1.0\n",
       "3 2020-11-05 15:40:00    3.0\n",
       "4 2020-11-05 15:50:00    2.0"
      ]
     },
     "execution_count": 33,
     "metadata": {},
     "output_type": "execute_result"
    }
   ],
   "source": [
    "app.head()"
   ]
  },
  {
   "cell_type": "code",
   "execution_count": 34,
   "id": "999e1b00",
   "metadata": {},
   "outputs": [],
   "source": [
    "music.reset_index(inplace=True)"
   ]
  },
  {
   "cell_type": "code",
   "execution_count": 35,
   "id": "03a2dca5",
   "metadata": {},
   "outputs": [
    {
     "data": {
      "text/html": [
       "<div>\n",
       "<style scoped>\n",
       "    .dataframe tbody tr th:only-of-type {\n",
       "        vertical-align: middle;\n",
       "    }\n",
       "\n",
       "    .dataframe tbody tr th {\n",
       "        vertical-align: top;\n",
       "    }\n",
       "\n",
       "    .dataframe thead th {\n",
       "        text-align: right;\n",
       "    }\n",
       "</style>\n",
       "<table border=\"1\" class=\"dataframe\">\n",
       "  <thead>\n",
       "    <tr style=\"text-align: right;\">\n",
       "      <th></th>\n",
       "      <th>date</th>\n",
       "      <th>artistName</th>\n",
       "      <th>trackName</th>\n",
       "      <th>msPlayed</th>\n",
       "      <th>sgPlayed</th>\n",
       "      <th>minPlayed</th>\n",
       "    </tr>\n",
       "  </thead>\n",
       "  <tbody>\n",
       "    <tr>\n",
       "      <th>0</th>\n",
       "      <td>2021-11-12 15:22:00</td>\n",
       "      <td>Myke Towers</td>\n",
       "      <td>Experimento</td>\n",
       "      <td>106394</td>\n",
       "      <td>106.394</td>\n",
       "      <td>1.773233</td>\n",
       "    </tr>\n",
       "    <tr>\n",
       "      <th>1</th>\n",
       "      <td>2021-11-13 08:53:00</td>\n",
       "      <td>Tame Impala</td>\n",
       "      <td>The Less I Know The Better</td>\n",
       "      <td>3712</td>\n",
       "      <td>3.712</td>\n",
       "      <td>0.061867</td>\n",
       "    </tr>\n",
       "    <tr>\n",
       "      <th>2</th>\n",
       "      <td>2021-11-13 08:56:00</td>\n",
       "      <td>Tame Impala</td>\n",
       "      <td>The Less I Know The Better</td>\n",
       "      <td>213141</td>\n",
       "      <td>213.141</td>\n",
       "      <td>3.552350</td>\n",
       "    </tr>\n",
       "    <tr>\n",
       "      <th>3</th>\n",
       "      <td>2021-11-13 09:33:00</td>\n",
       "      <td>Goth Babe</td>\n",
       "      <td>Canary Islands</td>\n",
       "      <td>3904</td>\n",
       "      <td>3.904</td>\n",
       "      <td>0.065067</td>\n",
       "    </tr>\n",
       "    <tr>\n",
       "      <th>4</th>\n",
       "      <td>2021-11-13 09:36:00</td>\n",
       "      <td>Goth Babe</td>\n",
       "      <td>Canary Islands</td>\n",
       "      <td>201042</td>\n",
       "      <td>201.042</td>\n",
       "      <td>3.350700</td>\n",
       "    </tr>\n",
       "  </tbody>\n",
       "</table>\n",
       "</div>"
      ],
      "text/plain": [
       "                 date   artistName                   trackName  msPlayed  \\\n",
       "0 2021-11-12 15:22:00  Myke Towers                 Experimento    106394   \n",
       "1 2021-11-13 08:53:00  Tame Impala  The Less I Know The Better      3712   \n",
       "2 2021-11-13 08:56:00  Tame Impala  The Less I Know The Better    213141   \n",
       "3 2021-11-13 09:33:00    Goth Babe              Canary Islands      3904   \n",
       "4 2021-11-13 09:36:00    Goth Babe              Canary Islands    201042   \n",
       "\n",
       "   sgPlayed  minPlayed  \n",
       "0   106.394   1.773233  \n",
       "1     3.712   0.061867  \n",
       "2   213.141   3.552350  \n",
       "3     3.904   0.065067  \n",
       "4   201.042   3.350700  "
      ]
     },
     "execution_count": 35,
     "metadata": {},
     "output_type": "execute_result"
    }
   ],
   "source": [
    "music.head()"
   ]
  },
  {
   "cell_type": "code",
   "execution_count": 36,
   "id": "42a81c7f",
   "metadata": {},
   "outputs": [
    {
     "data": {
      "text/plain": [
       "(16530, 6)"
      ]
     },
     "execution_count": 36,
     "metadata": {},
     "output_type": "execute_result"
    }
   ],
   "source": [
    "music.shape"
   ]
  },
  {
   "cell_type": "code",
   "execution_count": 37,
   "id": "20eccb72",
   "metadata": {},
   "outputs": [],
   "source": [
    "music2 = music.merge(app, how='left', on= 'date')"
   ]
  },
  {
   "cell_type": "code",
   "execution_count": 38,
   "id": "8ec85eca",
   "metadata": {},
   "outputs": [
    {
     "data": {
      "text/plain": [
       "array([  nan, 1.852, 0.734, ..., 2.709, 4.671, 1.446])"
      ]
     },
     "execution_count": 38,
     "metadata": {},
     "output_type": "execute_result"
    }
   ],
   "source": [
    "music2.kcal.unique()"
   ]
  },
  {
   "cell_type": "code",
   "execution_count": 39,
   "id": "e99a56c1",
   "metadata": {},
   "outputs": [
    {
     "data": {
      "text/plain": [
       "(16530, 7)"
      ]
     },
     "execution_count": 39,
     "metadata": {},
     "output_type": "execute_result"
    }
   ],
   "source": [
    "music2.shape"
   ]
  },
  {
   "cell_type": "code",
   "execution_count": 40,
   "id": "ba928811",
   "metadata": {},
   "outputs": [
    {
     "data": {
      "text/plain": [
       "kcal    6558\n",
       "dtype: int64"
      ]
     },
     "execution_count": 40,
     "metadata": {},
     "output_type": "execute_result"
    }
   ],
   "source": [
    "nan_cols=music2.isna().sum()\n",
    "\n",
    "nan_cols[nan_cols>0]"
   ]
  },
  {
   "cell_type": "code",
   "execution_count": 41,
   "id": "a3187799",
   "metadata": {},
   "outputs": [],
   "source": [
    "music2 = music2.dropna()"
   ]
  },
  {
   "cell_type": "code",
   "execution_count": 42,
   "id": "bc9c79f5",
   "metadata": {},
   "outputs": [
    {
     "data": {
      "text/plain": [
       "(9972, 7)"
      ]
     },
     "execution_count": 42,
     "metadata": {},
     "output_type": "execute_result"
    }
   ],
   "source": [
    "music2.shape"
   ]
  },
  {
   "cell_type": "code",
   "execution_count": 43,
   "id": "0d52a775",
   "metadata": {},
   "outputs": [],
   "source": [
    "music2 = music2.reset_index(drop=True)"
   ]
  },
  {
   "cell_type": "code",
   "execution_count": 44,
   "id": "7a53b296",
   "metadata": {},
   "outputs": [
    {
     "data": {
      "text/html": [
       "<div>\n",
       "<style scoped>\n",
       "    .dataframe tbody tr th:only-of-type {\n",
       "        vertical-align: middle;\n",
       "    }\n",
       "\n",
       "    .dataframe tbody tr th {\n",
       "        vertical-align: top;\n",
       "    }\n",
       "\n",
       "    .dataframe thead th {\n",
       "        text-align: right;\n",
       "    }\n",
       "</style>\n",
       "<table border=\"1\" class=\"dataframe\">\n",
       "  <thead>\n",
       "    <tr style=\"text-align: right;\">\n",
       "      <th></th>\n",
       "      <th>date</th>\n",
       "      <th>artistName</th>\n",
       "      <th>trackName</th>\n",
       "      <th>msPlayed</th>\n",
       "      <th>sgPlayed</th>\n",
       "      <th>minPlayed</th>\n",
       "      <th>kcal</th>\n",
       "    </tr>\n",
       "  </thead>\n",
       "  <tbody>\n",
       "    <tr>\n",
       "      <th>0</th>\n",
       "      <td>2021-11-13 10:04:00</td>\n",
       "      <td>The Strokes</td>\n",
       "      <td>You Only Live Once</td>\n",
       "      <td>189227</td>\n",
       "      <td>189.227</td>\n",
       "      <td>3.153783</td>\n",
       "      <td>1.852</td>\n",
       "    </tr>\n",
       "    <tr>\n",
       "      <th>1</th>\n",
       "      <td>2021-11-13 10:19:00</td>\n",
       "      <td>ROSALÍA</td>\n",
       "      <td>LA FAMA (with The Weeknd)</td>\n",
       "      <td>367373</td>\n",
       "      <td>367.373</td>\n",
       "      <td>6.122883</td>\n",
       "      <td>0.734</td>\n",
       "    </tr>\n",
       "    <tr>\n",
       "      <th>2</th>\n",
       "      <td>2021-11-13 11:00:00</td>\n",
       "      <td>Jesse &amp; Joy</td>\n",
       "      <td>Dueles</td>\n",
       "      <td>91830</td>\n",
       "      <td>91.830</td>\n",
       "      <td>1.530500</td>\n",
       "      <td>23.267</td>\n",
       "    </tr>\n",
       "    <tr>\n",
       "      <th>3</th>\n",
       "      <td>2021-11-13 11:11:00</td>\n",
       "      <td>Eminem</td>\n",
       "      <td>Without Me</td>\n",
       "      <td>317503</td>\n",
       "      <td>317.503</td>\n",
       "      <td>5.291717</td>\n",
       "      <td>17.610</td>\n",
       "    </tr>\n",
       "    <tr>\n",
       "      <th>4</th>\n",
       "      <td>2021-11-13 11:41:00</td>\n",
       "      <td>Jorja Smith</td>\n",
       "      <td>Bussdown (feat. Shaybo)</td>\n",
       "      <td>152850</td>\n",
       "      <td>152.850</td>\n",
       "      <td>2.547500</td>\n",
       "      <td>16.181</td>\n",
       "    </tr>\n",
       "  </tbody>\n",
       "</table>\n",
       "</div>"
      ],
      "text/plain": [
       "                 date   artistName                  trackName  msPlayed  \\\n",
       "0 2021-11-13 10:04:00  The Strokes         You Only Live Once    189227   \n",
       "1 2021-11-13 10:19:00      ROSALÍA  LA FAMA (with The Weeknd)    367373   \n",
       "2 2021-11-13 11:00:00  Jesse & Joy                     Dueles     91830   \n",
       "3 2021-11-13 11:11:00       Eminem                 Without Me    317503   \n",
       "4 2021-11-13 11:41:00  Jorja Smith    Bussdown (feat. Shaybo)    152850   \n",
       "\n",
       "   sgPlayed  minPlayed    kcal  \n",
       "0   189.227   3.153783   1.852  \n",
       "1   367.373   6.122883   0.734  \n",
       "2    91.830   1.530500  23.267  \n",
       "3   317.503   5.291717  17.610  \n",
       "4   152.850   2.547500  16.181  "
      ]
     },
     "execution_count": 44,
     "metadata": {},
     "output_type": "execute_result"
    }
   ],
   "source": [
    "music2.head()"
   ]
  },
  {
   "cell_type": "code",
   "execution_count": 45,
   "id": "25885433",
   "metadata": {},
   "outputs": [
    {
     "data": {
      "text/plain": [
       "<bound method SeriesGroupBy.aggregate of <pandas.core.groupby.generic.SeriesGroupBy object at 0x7fc7bc3fcdc0>>"
      ]
     },
     "execution_count": 45,
     "metadata": {},
     "output_type": "execute_result"
    }
   ],
   "source": [
    "music2.groupby(['artistName'])['kcal'].agg"
   ]
  },
  {
   "cell_type": "code",
   "execution_count": 46,
   "id": "fbf843e8",
   "metadata": {},
   "outputs": [
    {
     "data": {
      "text/html": [
       "<div>\n",
       "<style scoped>\n",
       "    .dataframe tbody tr th:only-of-type {\n",
       "        vertical-align: middle;\n",
       "    }\n",
       "\n",
       "    .dataframe tbody tr th {\n",
       "        vertical-align: top;\n",
       "    }\n",
       "\n",
       "    .dataframe thead th {\n",
       "        text-align: right;\n",
       "    }\n",
       "</style>\n",
       "<table border=\"1\" class=\"dataframe\">\n",
       "  <thead>\n",
       "    <tr style=\"text-align: right;\">\n",
       "      <th></th>\n",
       "      <th>date</th>\n",
       "      <th>artistName</th>\n",
       "      <th>trackName</th>\n",
       "      <th>msPlayed</th>\n",
       "      <th>sgPlayed</th>\n",
       "      <th>minPlayed</th>\n",
       "      <th>kcal</th>\n",
       "    </tr>\n",
       "  </thead>\n",
       "  <tbody>\n",
       "    <tr>\n",
       "      <th>2766</th>\n",
       "      <td>2022-05-06 19:07:00</td>\n",
       "      <td>Daddy Yankee</td>\n",
       "      <td>RUMBATÓN</td>\n",
       "      <td>244155</td>\n",
       "      <td>244.155</td>\n",
       "      <td>4.06925</td>\n",
       "      <td>33.084</td>\n",
       "    </tr>\n",
       "  </tbody>\n",
       "</table>\n",
       "</div>"
      ],
      "text/plain": [
       "                    date    artistName trackName  msPlayed  sgPlayed  \\\n",
       "2766 2022-05-06 19:07:00  Daddy Yankee  RUMBATÓN    244155   244.155   \n",
       "\n",
       "      minPlayed    kcal  \n",
       "2766    4.06925  33.084  "
      ]
     },
     "execution_count": 46,
     "metadata": {},
     "output_type": "execute_result"
    }
   ],
   "source": [
    "music2.loc[music2['kcal'] == music2['kcal'].max()]"
   ]
  },
  {
   "cell_type": "code",
   "execution_count": 47,
   "id": "8103fbce",
   "metadata": {},
   "outputs": [
    {
     "data": {
      "text/html": [
       "<div>\n",
       "<style scoped>\n",
       "    .dataframe tbody tr th:only-of-type {\n",
       "        vertical-align: middle;\n",
       "    }\n",
       "\n",
       "    .dataframe tbody tr th {\n",
       "        vertical-align: top;\n",
       "    }\n",
       "\n",
       "    .dataframe thead th {\n",
       "        text-align: right;\n",
       "    }\n",
       "</style>\n",
       "<table border=\"1\" class=\"dataframe\">\n",
       "  <thead>\n",
       "    <tr style=\"text-align: right;\">\n",
       "      <th></th>\n",
       "      <th>date</th>\n",
       "      <th>artistName</th>\n",
       "      <th>trackName</th>\n",
       "      <th>msPlayed</th>\n",
       "      <th>sgPlayed</th>\n",
       "      <th>minPlayed</th>\n",
       "      <th>kcal</th>\n",
       "    </tr>\n",
       "  </thead>\n",
       "  <tbody>\n",
       "    <tr>\n",
       "      <th>2766</th>\n",
       "      <td>2022-05-06 19:07:00</td>\n",
       "      <td>Daddy Yankee</td>\n",
       "      <td>RUMBATÓN</td>\n",
       "      <td>244155</td>\n",
       "      <td>244.155</td>\n",
       "      <td>4.069250</td>\n",
       "      <td>33.084</td>\n",
       "    </tr>\n",
       "    <tr>\n",
       "      <th>89</th>\n",
       "      <td>2021-11-18 14:34:00</td>\n",
       "      <td>Hannah Montana</td>\n",
       "      <td>Ordinary Girl</td>\n",
       "      <td>177506</td>\n",
       "      <td>177.506</td>\n",
       "      <td>2.958433</td>\n",
       "      <td>31.657</td>\n",
       "    </tr>\n",
       "    <tr>\n",
       "      <th>87</th>\n",
       "      <td>2021-11-18 14:08:00</td>\n",
       "      <td>Sabrina Carpenter</td>\n",
       "      <td>Skin</td>\n",
       "      <td>177500</td>\n",
       "      <td>177.500</td>\n",
       "      <td>2.958333</td>\n",
       "      <td>29.808</td>\n",
       "    </tr>\n",
       "    <tr>\n",
       "      <th>157</th>\n",
       "      <td>2021-11-28 13:35:00</td>\n",
       "      <td>Matthias Tanzmann</td>\n",
       "      <td>Masina</td>\n",
       "      <td>84121</td>\n",
       "      <td>84.121</td>\n",
       "      <td>1.402017</td>\n",
       "      <td>28.649</td>\n",
       "    </tr>\n",
       "    <tr>\n",
       "      <th>156</th>\n",
       "      <td>2021-11-28 13:35:00</td>\n",
       "      <td>Nicki Nicole</td>\n",
       "      <td>Sabe</td>\n",
       "      <td>29300</td>\n",
       "      <td>29.300</td>\n",
       "      <td>0.488333</td>\n",
       "      <td>28.649</td>\n",
       "    </tr>\n",
       "    <tr>\n",
       "      <th>267</th>\n",
       "      <td>2021-12-16 11:58:00</td>\n",
       "      <td>Tiago PZK</td>\n",
       "      <td>Salimo de Noche</td>\n",
       "      <td>105093</td>\n",
       "      <td>105.093</td>\n",
       "      <td>1.751550</td>\n",
       "      <td>27.363</td>\n",
       "    </tr>\n",
       "    <tr>\n",
       "      <th>2767</th>\n",
       "      <td>2022-05-06 19:12:00</td>\n",
       "      <td>Quevedo</td>\n",
       "      <td>Piel de Cordero</td>\n",
       "      <td>210830</td>\n",
       "      <td>210.830</td>\n",
       "      <td>3.513833</td>\n",
       "      <td>27.290</td>\n",
       "    </tr>\n",
       "    <tr>\n",
       "      <th>749</th>\n",
       "      <td>2022-01-26 20:09:00</td>\n",
       "      <td>Tiago PZK</td>\n",
       "      <td>Entre Nosotros (Remix) [con Nicki Nicole]</td>\n",
       "      <td>260000</td>\n",
       "      <td>260.000</td>\n",
       "      <td>4.333333</td>\n",
       "      <td>25.992</td>\n",
       "    </tr>\n",
       "    <tr>\n",
       "      <th>88</th>\n",
       "      <td>2021-11-18 14:19:00</td>\n",
       "      <td>Madison Beer</td>\n",
       "      <td>Home with You</td>\n",
       "      <td>190576</td>\n",
       "      <td>190.576</td>\n",
       "      <td>3.176267</td>\n",
       "      <td>25.783</td>\n",
       "    </tr>\n",
       "    <tr>\n",
       "      <th>187</th>\n",
       "      <td>2021-11-29 20:44:00</td>\n",
       "      <td>Loui</td>\n",
       "      <td>Talkin' Bout (feat. Saweetie)</td>\n",
       "      <td>126225</td>\n",
       "      <td>126.225</td>\n",
       "      <td>2.103750</td>\n",
       "      <td>25.768</td>\n",
       "    </tr>\n",
       "  </tbody>\n",
       "</table>\n",
       "</div>"
      ],
      "text/plain": [
       "                    date         artistName  \\\n",
       "2766 2022-05-06 19:07:00       Daddy Yankee   \n",
       "89   2021-11-18 14:34:00     Hannah Montana   \n",
       "87   2021-11-18 14:08:00  Sabrina Carpenter   \n",
       "157  2021-11-28 13:35:00  Matthias Tanzmann   \n",
       "156  2021-11-28 13:35:00       Nicki Nicole   \n",
       "267  2021-12-16 11:58:00          Tiago PZK   \n",
       "2767 2022-05-06 19:12:00            Quevedo   \n",
       "749  2022-01-26 20:09:00          Tiago PZK   \n",
       "88   2021-11-18 14:19:00       Madison Beer   \n",
       "187  2021-11-29 20:44:00               Loui   \n",
       "\n",
       "                                      trackName  msPlayed  sgPlayed  \\\n",
       "2766                                   RUMBATÓN    244155   244.155   \n",
       "89                                Ordinary Girl    177506   177.506   \n",
       "87                                         Skin    177500   177.500   \n",
       "157                                      Masina     84121    84.121   \n",
       "156                                        Sabe     29300    29.300   \n",
       "267                             Salimo de Noche    105093   105.093   \n",
       "2767                            Piel de Cordero    210830   210.830   \n",
       "749   Entre Nosotros (Remix) [con Nicki Nicole]    260000   260.000   \n",
       "88                                Home with You    190576   190.576   \n",
       "187               Talkin' Bout (feat. Saweetie)    126225   126.225   \n",
       "\n",
       "      minPlayed    kcal  \n",
       "2766   4.069250  33.084  \n",
       "89     2.958433  31.657  \n",
       "87     2.958333  29.808  \n",
       "157    1.402017  28.649  \n",
       "156    0.488333  28.649  \n",
       "267    1.751550  27.363  \n",
       "2767   3.513833  27.290  \n",
       "749    4.333333  25.992  \n",
       "88     3.176267  25.783  \n",
       "187    2.103750  25.768  "
      ]
     },
     "execution_count": 47,
     "metadata": {},
     "output_type": "execute_result"
    }
   ],
   "source": [
    "music2.sort_values(by=['kcal'], ascending=False)[:10]"
   ]
  },
  {
   "cell_type": "code",
   "execution_count": 57,
   "id": "2b9e129e",
   "metadata": {},
   "outputs": [],
   "source": [
    "suma = music2.groupby(['artistName'])['kcal'].sum()"
   ]
  },
  {
   "cell_type": "code",
   "execution_count": 67,
   "id": "a994b00f",
   "metadata": {
    "scrolled": true
   },
   "outputs": [],
   "source": [
    "suma = pd.DataFrame(suma)"
   ]
  },
  {
   "cell_type": "code",
   "execution_count": 70,
   "id": "2a922b16",
   "metadata": {
    "scrolled": true
   },
   "outputs": [],
   "source": [
    "suma.reset_index(drop=False, inplace=True)"
   ]
  },
  {
   "cell_type": "code",
   "execution_count": 71,
   "id": "0b53a6f5",
   "metadata": {},
   "outputs": [
    {
     "data": {
      "text/html": [
       "<div>\n",
       "<style scoped>\n",
       "    .dataframe tbody tr th:only-of-type {\n",
       "        vertical-align: middle;\n",
       "    }\n",
       "\n",
       "    .dataframe tbody tr th {\n",
       "        vertical-align: top;\n",
       "    }\n",
       "\n",
       "    .dataframe thead th {\n",
       "        text-align: right;\n",
       "    }\n",
       "</style>\n",
       "<table border=\"1\" class=\"dataframe\">\n",
       "  <thead>\n",
       "    <tr style=\"text-align: right;\">\n",
       "      <th></th>\n",
       "      <th>artistName</th>\n",
       "      <th>kcal</th>\n",
       "    </tr>\n",
       "  </thead>\n",
       "  <tbody>\n",
       "    <tr>\n",
       "      <th>0</th>\n",
       "      <td>070 Shake</td>\n",
       "      <td>0.312</td>\n",
       "    </tr>\n",
       "    <tr>\n",
       "      <th>1</th>\n",
       "      <td>102 Boyz</td>\n",
       "      <td>10.000</td>\n",
       "    </tr>\n",
       "    <tr>\n",
       "      <th>2</th>\n",
       "      <td>2 VIVE</td>\n",
       "      <td>0.437</td>\n",
       "    </tr>\n",
       "    <tr>\n",
       "      <th>3</th>\n",
       "      <td>2021 Wrapped</td>\n",
       "      <td>0.253</td>\n",
       "    </tr>\n",
       "    <tr>\n",
       "      <th>4</th>\n",
       "      <td>2Pac</td>\n",
       "      <td>3.254</td>\n",
       "    </tr>\n",
       "  </tbody>\n",
       "</table>\n",
       "</div>"
      ],
      "text/plain": [
       "     artistName    kcal\n",
       "0     070 Shake   0.312\n",
       "1      102 Boyz  10.000\n",
       "2        2 VIVE   0.437\n",
       "3  2021 Wrapped   0.253\n",
       "4          2Pac   3.254"
      ]
     },
     "execution_count": 71,
     "metadata": {},
     "output_type": "execute_result"
    }
   ],
   "source": [
    "suma.head()"
   ]
  },
  {
   "cell_type": "code",
   "execution_count": 72,
   "id": "86de7652",
   "metadata": {},
   "outputs": [
    {
     "data": {
      "text/html": [
       "<div>\n",
       "<style scoped>\n",
       "    .dataframe tbody tr th:only-of-type {\n",
       "        vertical-align: middle;\n",
       "    }\n",
       "\n",
       "    .dataframe tbody tr th {\n",
       "        vertical-align: top;\n",
       "    }\n",
       "\n",
       "    .dataframe thead th {\n",
       "        text-align: right;\n",
       "    }\n",
       "</style>\n",
       "<table border=\"1\" class=\"dataframe\">\n",
       "  <thead>\n",
       "    <tr style=\"text-align: right;\">\n",
       "      <th></th>\n",
       "      <th>artistName</th>\n",
       "      <th>kcal</th>\n",
       "    </tr>\n",
       "  </thead>\n",
       "  <tbody>\n",
       "    <tr>\n",
       "      <th>1501</th>\n",
       "      <td>Quevedo</td>\n",
       "      <td>166.214</td>\n",
       "    </tr>\n",
       "  </tbody>\n",
       "</table>\n",
       "</div>"
      ],
      "text/plain": [
       "     artistName     kcal\n",
       "1501    Quevedo  166.214"
      ]
     },
     "execution_count": 72,
     "metadata": {},
     "output_type": "execute_result"
    }
   ],
   "source": [
    "suma.loc[suma['artistName'] == 'Quevedo']"
   ]
  },
  {
   "cell_type": "code",
   "execution_count": 75,
   "id": "adb372b1",
   "metadata": {},
   "outputs": [
    {
     "data": {
      "text/html": [
       "<div>\n",
       "<style scoped>\n",
       "    .dataframe tbody tr th:only-of-type {\n",
       "        vertical-align: middle;\n",
       "    }\n",
       "\n",
       "    .dataframe tbody tr th {\n",
       "        vertical-align: top;\n",
       "    }\n",
       "\n",
       "    .dataframe thead th {\n",
       "        text-align: right;\n",
       "    }\n",
       "</style>\n",
       "<table border=\"1\" class=\"dataframe\">\n",
       "  <thead>\n",
       "    <tr style=\"text-align: right;\">\n",
       "      <th></th>\n",
       "      <th>artistName</th>\n",
       "      <th>kcal</th>\n",
       "    </tr>\n",
       "  </thead>\n",
       "  <tbody>\n",
       "    <tr>\n",
       "      <th>1508</th>\n",
       "      <td>ROSALÍA</td>\n",
       "      <td>307.894</td>\n",
       "    </tr>\n",
       "    <tr>\n",
       "      <th>163</th>\n",
       "      <td>Bad Bunny</td>\n",
       "      <td>266.390</td>\n",
       "    </tr>\n",
       "    <tr>\n",
       "      <th>206</th>\n",
       "      <td>Beyoncé</td>\n",
       "      <td>182.794</td>\n",
       "    </tr>\n",
       "    <tr>\n",
       "      <th>1501</th>\n",
       "      <td>Quevedo</td>\n",
       "      <td>166.214</td>\n",
       "    </tr>\n",
       "    <tr>\n",
       "      <th>1515</th>\n",
       "      <td>Rauw Alejandro</td>\n",
       "      <td>164.763</td>\n",
       "    </tr>\n",
       "    <tr>\n",
       "      <th>1031</th>\n",
       "      <td>Labrinth</td>\n",
       "      <td>133.718</td>\n",
       "    </tr>\n",
       "    <tr>\n",
       "      <th>61</th>\n",
       "      <td>Alicia Keys</td>\n",
       "      <td>126.274</td>\n",
       "    </tr>\n",
       "    <tr>\n",
       "      <th>478</th>\n",
       "      <td>David Guetta</td>\n",
       "      <td>120.670</td>\n",
       "    </tr>\n",
       "    <tr>\n",
       "      <th>631</th>\n",
       "      <td>Feid</td>\n",
       "      <td>111.691</td>\n",
       "    </tr>\n",
       "    <tr>\n",
       "      <th>1287</th>\n",
       "      <td>Mora</td>\n",
       "      <td>99.856</td>\n",
       "    </tr>\n",
       "  </tbody>\n",
       "</table>\n",
       "</div>"
      ],
      "text/plain": [
       "          artistName     kcal\n",
       "1508         ROSALÍA  307.894\n",
       "163        Bad Bunny  266.390\n",
       "206          Beyoncé  182.794\n",
       "1501         Quevedo  166.214\n",
       "1515  Rauw Alejandro  164.763\n",
       "1031        Labrinth  133.718\n",
       "61       Alicia Keys  126.274\n",
       "478     David Guetta  120.670\n",
       "631             Feid  111.691\n",
       "1287            Mora   99.856"
      ]
     },
     "execution_count": 75,
     "metadata": {},
     "output_type": "execute_result"
    }
   ],
   "source": [
    "suma.sort_values(by=['kcal'], ascending=False)[:10]"
   ]
  },
  {
   "cell_type": "code",
   "execution_count": 76,
   "id": "0c2e6be3",
   "metadata": {},
   "outputs": [],
   "source": [
    "sumacan = music2.groupby(['trackName'])['kcal'].sum()"
   ]
  },
  {
   "cell_type": "code",
   "execution_count": 77,
   "id": "2c14dcca",
   "metadata": {
    "scrolled": true
   },
   "outputs": [],
   "source": [
    "sumacan = pd.DataFrame(sumacan)"
   ]
  },
  {
   "cell_type": "code",
   "execution_count": 78,
   "id": "db9b9c61",
   "metadata": {
    "scrolled": true
   },
   "outputs": [],
   "source": [
    "sumacan.reset_index(drop=False, inplace=True)"
   ]
  },
  {
   "cell_type": "code",
   "execution_count": 79,
   "id": "4ccc26fa",
   "metadata": {},
   "outputs": [
    {
     "data": {
      "text/html": [
       "<div>\n",
       "<style scoped>\n",
       "    .dataframe tbody tr th:only-of-type {\n",
       "        vertical-align: middle;\n",
       "    }\n",
       "\n",
       "    .dataframe tbody tr th {\n",
       "        vertical-align: top;\n",
       "    }\n",
       "\n",
       "    .dataframe thead th {\n",
       "        text-align: right;\n",
       "    }\n",
       "</style>\n",
       "<table border=\"1\" class=\"dataframe\">\n",
       "  <thead>\n",
       "    <tr style=\"text-align: right;\">\n",
       "      <th></th>\n",
       "      <th>trackName</th>\n",
       "      <th>kcal</th>\n",
       "    </tr>\n",
       "  </thead>\n",
       "  <tbody>\n",
       "    <tr>\n",
       "      <th>2817</th>\n",
       "      <td>Piel de Cordero</td>\n",
       "      <td>61.715</td>\n",
       "    </tr>\n",
       "    <tr>\n",
       "      <th>1918</th>\n",
       "      <td>La Bachata</td>\n",
       "      <td>57.330</td>\n",
       "    </tr>\n",
       "    <tr>\n",
       "      <th>1895</th>\n",
       "      <td>LA COMBI VERSACE</td>\n",
       "      <td>55.104</td>\n",
       "    </tr>\n",
       "    <tr>\n",
       "      <th>2682</th>\n",
       "      <td>Ordinary Girl</td>\n",
       "      <td>53.974</td>\n",
       "    </tr>\n",
       "    <tr>\n",
       "      <th>1701</th>\n",
       "      <td>I'm Good (Blue)</td>\n",
       "      <td>50.559</td>\n",
       "    </tr>\n",
       "    <tr>\n",
       "      <th>3233</th>\n",
       "      <td>Sistema De Patio</td>\n",
       "      <td>50.286</td>\n",
       "    </tr>\n",
       "    <tr>\n",
       "      <th>2564</th>\n",
       "      <td>Normal</td>\n",
       "      <td>45.943</td>\n",
       "    </tr>\n",
       "    <tr>\n",
       "      <th>1065</th>\n",
       "      <td>ESCALOFRÍOS</td>\n",
       "      <td>45.186</td>\n",
       "    </tr>\n",
       "    <tr>\n",
       "      <th>43</th>\n",
       "      <td>2/Catorce</td>\n",
       "      <td>44.781</td>\n",
       "    </tr>\n",
       "    <tr>\n",
       "      <th>3203</th>\n",
       "      <td>Si Tú Te Vas (feat. Yung Beef) - Remix</td>\n",
       "      <td>42.777</td>\n",
       "    </tr>\n",
       "  </tbody>\n",
       "</table>\n",
       "</div>"
      ],
      "text/plain": [
       "                                   trackName    kcal\n",
       "2817                         Piel de Cordero  61.715\n",
       "1918                              La Bachata  57.330\n",
       "1895                        LA COMBI VERSACE  55.104\n",
       "2682                           Ordinary Girl  53.974\n",
       "1701                         I'm Good (Blue)  50.559\n",
       "3233                        Sistema De Patio  50.286\n",
       "2564                                  Normal  45.943\n",
       "1065                             ESCALOFRÍOS  45.186\n",
       "43                                 2/Catorce  44.781\n",
       "3203  Si Tú Te Vas (feat. Yung Beef) - Remix  42.777"
      ]
     },
     "execution_count": 79,
     "metadata": {},
     "output_type": "execute_result"
    }
   ],
   "source": [
    "sumacan.sort_values(by=['kcal'], ascending=False)[:10]"
   ]
  },
  {
   "cell_type": "code",
   "execution_count": 81,
   "id": "42237fc1",
   "metadata": {},
   "outputs": [
    {
     "data": {
      "text/html": [
       "<div>\n",
       "<style scoped>\n",
       "    .dataframe tbody tr th:only-of-type {\n",
       "        vertical-align: middle;\n",
       "    }\n",
       "\n",
       "    .dataframe tbody tr th {\n",
       "        vertical-align: top;\n",
       "    }\n",
       "\n",
       "    .dataframe thead th {\n",
       "        text-align: right;\n",
       "    }\n",
       "</style>\n",
       "<table border=\"1\" class=\"dataframe\">\n",
       "  <thead>\n",
       "    <tr style=\"text-align: right;\">\n",
       "      <th></th>\n",
       "      <th>date</th>\n",
       "      <th>artistName</th>\n",
       "      <th>trackName</th>\n",
       "      <th>msPlayed</th>\n",
       "      <th>sgPlayed</th>\n",
       "      <th>minPlayed</th>\n",
       "      <th>kcal</th>\n",
       "    </tr>\n",
       "  </thead>\n",
       "  <tbody>\n",
       "    <tr>\n",
       "      <th>89</th>\n",
       "      <td>2021-11-18 14:34:00</td>\n",
       "      <td>Hannah Montana</td>\n",
       "      <td>Ordinary Girl</td>\n",
       "      <td>177506</td>\n",
       "      <td>177.506</td>\n",
       "      <td>2.958433</td>\n",
       "      <td>31.657</td>\n",
       "    </tr>\n",
       "    <tr>\n",
       "      <th>189</th>\n",
       "      <td>2021-11-29 21:09:00</td>\n",
       "      <td>Hannah Montana</td>\n",
       "      <td>Ordinary Girl</td>\n",
       "      <td>99570</td>\n",
       "      <td>99.570</td>\n",
       "      <td>1.659500</td>\n",
       "      <td>15.305</td>\n",
       "    </tr>\n",
       "    <tr>\n",
       "      <th>217</th>\n",
       "      <td>2021-12-07 14:09:00</td>\n",
       "      <td>Hannah Montana</td>\n",
       "      <td>Ordinary Girl</td>\n",
       "      <td>177506</td>\n",
       "      <td>177.506</td>\n",
       "      <td>2.958433</td>\n",
       "      <td>6.333</td>\n",
       "    </tr>\n",
       "    <tr>\n",
       "      <th>784</th>\n",
       "      <td>2022-01-28 09:49:00</td>\n",
       "      <td>Hannah Montana</td>\n",
       "      <td>Ordinary Girl</td>\n",
       "      <td>177507</td>\n",
       "      <td>177.507</td>\n",
       "      <td>2.958450</td>\n",
       "      <td>0.172</td>\n",
       "    </tr>\n",
       "    <tr>\n",
       "      <th>880</th>\n",
       "      <td>2022-02-02 18:46:00</td>\n",
       "      <td>Hannah Montana</td>\n",
       "      <td>Ordinary Girl</td>\n",
       "      <td>177506</td>\n",
       "      <td>177.506</td>\n",
       "      <td>2.958433</td>\n",
       "      <td>0.115</td>\n",
       "    </tr>\n",
       "    <tr>\n",
       "      <th>997</th>\n",
       "      <td>2022-02-06 19:39:00</td>\n",
       "      <td>Hannah Montana</td>\n",
       "      <td>Ordinary Girl</td>\n",
       "      <td>176437</td>\n",
       "      <td>176.437</td>\n",
       "      <td>2.940617</td>\n",
       "      <td>0.189</td>\n",
       "    </tr>\n",
       "    <tr>\n",
       "      <th>1565</th>\n",
       "      <td>2022-03-24 19:32:00</td>\n",
       "      <td>Hannah Montana</td>\n",
       "      <td>Ordinary Girl</td>\n",
       "      <td>177507</td>\n",
       "      <td>177.507</td>\n",
       "      <td>2.958450</td>\n",
       "      <td>0.136</td>\n",
       "    </tr>\n",
       "    <tr>\n",
       "      <th>3124</th>\n",
       "      <td>2022-05-17 08:52:00</td>\n",
       "      <td>Hannah Montana</td>\n",
       "      <td>Ordinary Girl</td>\n",
       "      <td>177507</td>\n",
       "      <td>177.507</td>\n",
       "      <td>2.958450</td>\n",
       "      <td>0.067</td>\n",
       "    </tr>\n",
       "  </tbody>\n",
       "</table>\n",
       "</div>"
      ],
      "text/plain": [
       "                    date      artistName      trackName  msPlayed  sgPlayed  \\\n",
       "89   2021-11-18 14:34:00  Hannah Montana  Ordinary Girl    177506   177.506   \n",
       "189  2021-11-29 21:09:00  Hannah Montana  Ordinary Girl     99570    99.570   \n",
       "217  2021-12-07 14:09:00  Hannah Montana  Ordinary Girl    177506   177.506   \n",
       "784  2022-01-28 09:49:00  Hannah Montana  Ordinary Girl    177507   177.507   \n",
       "880  2022-02-02 18:46:00  Hannah Montana  Ordinary Girl    177506   177.506   \n",
       "997  2022-02-06 19:39:00  Hannah Montana  Ordinary Girl    176437   176.437   \n",
       "1565 2022-03-24 19:32:00  Hannah Montana  Ordinary Girl    177507   177.507   \n",
       "3124 2022-05-17 08:52:00  Hannah Montana  Ordinary Girl    177507   177.507   \n",
       "\n",
       "      minPlayed    kcal  \n",
       "89     2.958433  31.657  \n",
       "189    1.659500  15.305  \n",
       "217    2.958433   6.333  \n",
       "784    2.958450   0.172  \n",
       "880    2.958433   0.115  \n",
       "997    2.940617   0.189  \n",
       "1565   2.958450   0.136  \n",
       "3124   2.958450   0.067  "
      ]
     },
     "execution_count": 81,
     "metadata": {},
     "output_type": "execute_result"
    }
   ],
   "source": [
    "music2.loc[music2['trackName'] == 'Ordinary Girl']"
   ]
  },
  {
   "cell_type": "code",
   "execution_count": 82,
   "id": "3b2324f4",
   "metadata": {},
   "outputs": [
    {
     "data": {
      "text/html": [
       "<div>\n",
       "<style scoped>\n",
       "    .dataframe tbody tr th:only-of-type {\n",
       "        vertical-align: middle;\n",
       "    }\n",
       "\n",
       "    .dataframe tbody tr th {\n",
       "        vertical-align: top;\n",
       "    }\n",
       "\n",
       "    .dataframe thead th {\n",
       "        text-align: right;\n",
       "    }\n",
       "</style>\n",
       "<table border=\"1\" class=\"dataframe\">\n",
       "  <thead>\n",
       "    <tr style=\"text-align: right;\">\n",
       "      <th></th>\n",
       "      <th>date</th>\n",
       "      <th>kcal</th>\n",
       "    </tr>\n",
       "  </thead>\n",
       "  <tbody>\n",
       "    <tr>\n",
       "      <th>88439</th>\n",
       "      <td>2021-11-18 14:34:00</td>\n",
       "      <td>31.657</td>\n",
       "    </tr>\n",
       "  </tbody>\n",
       "</table>\n",
       "</div>"
      ],
      "text/plain": [
       "                     date    kcal\n",
       "88439 2021-11-18 14:34:00  31.657"
      ]
     },
     "execution_count": 82,
     "metadata": {},
     "output_type": "execute_result"
    }
   ],
   "source": [
    "apple.loc[apple['date'] == '2021-11-18 14:34:00']"
   ]
  },
  {
   "cell_type": "code",
   "execution_count": null,
   "id": "317863e0",
   "metadata": {},
   "outputs": [],
   "source": []
  }
 ],
 "metadata": {
  "kernelspec": {
   "display_name": "Python 3 (ipykernel)",
   "language": "python",
   "name": "python3"
  },
  "language_info": {
   "codemirror_mode": {
    "name": "ipython",
    "version": 3
   },
   "file_extension": ".py",
   "mimetype": "text/x-python",
   "name": "python",
   "nbconvert_exporter": "python",
   "pygments_lexer": "ipython3",
   "version": "3.9.12"
  }
 },
 "nbformat": 4,
 "nbformat_minor": 5
}
