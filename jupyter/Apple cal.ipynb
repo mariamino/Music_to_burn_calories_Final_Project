{
 "cells": [
  {
   "cell_type": "markdown",
   "id": "38f35c41",
   "metadata": {},
   "source": [
    "# 1. Apple Watch data cleaning"
   ]
  },
  {
   "cell_type": "code",
   "execution_count": 2,
   "id": "0a02408a",
   "metadata": {},
   "outputs": [],
   "source": [
    "import pandas as pd\n",
    "import numpy as np\n",
    "import datetime\n",
    "from tqdm.notebook import tqdm\n",
    "from collections import Counter\n",
    "import math"
   ]
  },
  {
   "cell_type": "code",
   "execution_count": 2,
   "id": "a02b4105",
   "metadata": {},
   "outputs": [
    {
     "name": "stderr",
     "output_type": "stream",
     "text": [
      "/var/folders/s4/79ykyqjn7f16bdl_zqjgsbzh0000gp/T/ipykernel_84298/1635027116.py:1: DtypeWarning: Columns (1) have mixed types. Specify dtype option on import or set low_memory=False.\n",
      "  apple = pd.read_csv('../../proyecto_final/data/apple_health_export/ActiveEnergyBurned.csv')\n"
     ]
    }
   ],
   "source": [
    "apple = pd.read_csv('../../proyecto_final/data/apple_health_export/ActiveEnergyBurned.csv')"
   ]
  },
  {
   "cell_type": "code",
   "execution_count": 3,
   "id": "4eb8fc62",
   "metadata": {},
   "outputs": [],
   "source": [
    "apple = apple.astype({'startDate': 'datetime64[ns]','endDate': 'datetime64[ns]'})"
   ]
  },
  {
   "cell_type": "code",
   "execution_count": 4,
   "id": "23a8504f",
   "metadata": {},
   "outputs": [],
   "source": [
    "apple['diff'] = apple['endDate'] - apple['startDate']"
   ]
  },
  {
   "cell_type": "code",
   "execution_count": 5,
   "id": "f4a9e57c",
   "metadata": {},
   "outputs": [],
   "source": [
    "apple.drop(columns=['sourceName','sourceVersion','device','type', 'creationDate'], inplace= True)"
   ]
  },
  {
   "cell_type": "code",
   "execution_count": 6,
   "id": "4f301c7a",
   "metadata": {
    "scrolled": true
   },
   "outputs": [
    {
     "data": {
      "text/html": [
       "<div>\n",
       "<style scoped>\n",
       "    .dataframe tbody tr th:only-of-type {\n",
       "        vertical-align: middle;\n",
       "    }\n",
       "\n",
       "    .dataframe tbody tr th {\n",
       "        vertical-align: top;\n",
       "    }\n",
       "\n",
       "    .dataframe thead th {\n",
       "        text-align: right;\n",
       "    }\n",
       "</style>\n",
       "<table border=\"1\" class=\"dataframe\">\n",
       "  <thead>\n",
       "    <tr style=\"text-align: right;\">\n",
       "      <th></th>\n",
       "      <th>unit</th>\n",
       "      <th>startDate</th>\n",
       "      <th>endDate</th>\n",
       "      <th>value</th>\n",
       "      <th>diff</th>\n",
       "    </tr>\n",
       "  </thead>\n",
       "  <tbody>\n",
       "    <tr>\n",
       "      <th>0</th>\n",
       "      <td>kcal</td>\n",
       "      <td>2016-05-28 08:00:00</td>\n",
       "      <td>2016-05-28 08:36:00</td>\n",
       "      <td>239.0</td>\n",
       "      <td>0 days 00:36:00</td>\n",
       "    </tr>\n",
       "    <tr>\n",
       "      <th>1</th>\n",
       "      <td>kcal</td>\n",
       "      <td>2020-11-05 13:40:00</td>\n",
       "      <td>2020-11-05 13:49:59</td>\n",
       "      <td>1.0</td>\n",
       "      <td>0 days 00:09:59</td>\n",
       "    </tr>\n",
       "    <tr>\n",
       "      <th>2</th>\n",
       "      <td>kcal</td>\n",
       "      <td>2020-11-05 15:30:00</td>\n",
       "      <td>2020-11-05 15:39:59</td>\n",
       "      <td>1.0</td>\n",
       "      <td>0 days 00:09:59</td>\n",
       "    </tr>\n",
       "    <tr>\n",
       "      <th>3</th>\n",
       "      <td>kcal</td>\n",
       "      <td>2020-11-05 15:40:00</td>\n",
       "      <td>2020-11-05 15:49:59</td>\n",
       "      <td>3.0</td>\n",
       "      <td>0 days 00:09:59</td>\n",
       "    </tr>\n",
       "    <tr>\n",
       "      <th>4</th>\n",
       "      <td>kcal</td>\n",
       "      <td>2020-11-05 15:50:00</td>\n",
       "      <td>2020-11-05 15:59:59</td>\n",
       "      <td>2.0</td>\n",
       "      <td>0 days 00:09:59</td>\n",
       "    </tr>\n",
       "  </tbody>\n",
       "</table>\n",
       "</div>"
      ],
      "text/plain": [
       "   unit           startDate             endDate  value            diff\n",
       "0  kcal 2016-05-28 08:00:00 2016-05-28 08:36:00  239.0 0 days 00:36:00\n",
       "1  kcal 2020-11-05 13:40:00 2020-11-05 13:49:59    1.0 0 days 00:09:59\n",
       "2  kcal 2020-11-05 15:30:00 2020-11-05 15:39:59    1.0 0 days 00:09:59\n",
       "3  kcal 2020-11-05 15:40:00 2020-11-05 15:49:59    3.0 0 days 00:09:59\n",
       "4  kcal 2020-11-05 15:50:00 2020-11-05 15:59:59    2.0 0 days 00:09:59"
      ]
     },
     "execution_count": 6,
     "metadata": {},
     "output_type": "execute_result"
    }
   ],
   "source": [
    "apple.head(5)"
   ]
  },
  {
   "cell_type": "code",
   "execution_count": 7,
   "id": "d7281ed6",
   "metadata": {},
   "outputs": [
    {
     "name": "stdout",
     "output_type": "stream",
     "text": [
      "<class 'pandas.core.frame.DataFrame'>\n",
      "RangeIndex: 336135 entries, 0 to 336134\n",
      "Data columns (total 5 columns):\n",
      " #   Column     Non-Null Count   Dtype          \n",
      "---  ------     --------------   -----          \n",
      " 0   unit       336135 non-null  object         \n",
      " 1   startDate  336135 non-null  datetime64[ns] \n",
      " 2   endDate    336135 non-null  datetime64[ns] \n",
      " 3   value      336135 non-null  float64        \n",
      " 4   diff       336135 non-null  timedelta64[ns]\n",
      "dtypes: datetime64[ns](2), float64(1), object(1), timedelta64[ns](1)\n",
      "memory usage: 12.8+ MB\n"
     ]
    }
   ],
   "source": [
    "apple.info()"
   ]
  },
  {
   "cell_type": "code",
   "execution_count": 8,
   "id": "f81f79cb",
   "metadata": {},
   "outputs": [
    {
     "data": {
      "text/plain": [
       "36.0"
      ]
     },
     "execution_count": 8,
     "metadata": {},
     "output_type": "execute_result"
    }
   ],
   "source": [
    "apple['diff'][0].seconds/60"
   ]
  },
  {
   "cell_type": "code",
   "execution_count": 9,
   "id": "890320aa",
   "metadata": {},
   "outputs": [
    {
     "data": {
      "text/plain": [
       "6.638888888888889"
      ]
     },
     "execution_count": 9,
     "metadata": {},
     "output_type": "execute_result"
    }
   ],
   "source": [
    "apple.value[0]/(apple['diff'][0].seconds/60)"
   ]
  },
  {
   "cell_type": "code",
   "execution_count": 10,
   "id": "bb6e890a",
   "metadata": {},
   "outputs": [
    {
     "data": {
      "text/html": [
       "<div>\n",
       "<style scoped>\n",
       "    .dataframe tbody tr th:only-of-type {\n",
       "        vertical-align: middle;\n",
       "    }\n",
       "\n",
       "    .dataframe tbody tr th {\n",
       "        vertical-align: top;\n",
       "    }\n",
       "\n",
       "    .dataframe thead th {\n",
       "        text-align: right;\n",
       "    }\n",
       "</style>\n",
       "<table border=\"1\" class=\"dataframe\">\n",
       "  <thead>\n",
       "    <tr style=\"text-align: right;\">\n",
       "      <th></th>\n",
       "      <th>unit</th>\n",
       "      <th>startDate</th>\n",
       "      <th>endDate</th>\n",
       "      <th>value</th>\n",
       "      <th>diff</th>\n",
       "      <th>cal_min</th>\n",
       "    </tr>\n",
       "  </thead>\n",
       "  <tbody>\n",
       "    <tr>\n",
       "      <th>0</th>\n",
       "      <td>kcal</td>\n",
       "      <td>2016-05-28 08:00:00</td>\n",
       "      <td>2016-05-28 08:36:00</td>\n",
       "      <td>239.0</td>\n",
       "      <td>0 days 00:36:00</td>\n",
       "      <td>6.638889</td>\n",
       "    </tr>\n",
       "    <tr>\n",
       "      <th>1</th>\n",
       "      <td>kcal</td>\n",
       "      <td>2020-11-05 13:40:00</td>\n",
       "      <td>2020-11-05 13:49:59</td>\n",
       "      <td>1.0</td>\n",
       "      <td>0 days 00:09:59</td>\n",
       "      <td>0.100167</td>\n",
       "    </tr>\n",
       "    <tr>\n",
       "      <th>2</th>\n",
       "      <td>kcal</td>\n",
       "      <td>2020-11-05 15:30:00</td>\n",
       "      <td>2020-11-05 15:39:59</td>\n",
       "      <td>1.0</td>\n",
       "      <td>0 days 00:09:59</td>\n",
       "      <td>0.100167</td>\n",
       "    </tr>\n",
       "    <tr>\n",
       "      <th>3</th>\n",
       "      <td>kcal</td>\n",
       "      <td>2020-11-05 15:40:00</td>\n",
       "      <td>2020-11-05 15:49:59</td>\n",
       "      <td>3.0</td>\n",
       "      <td>0 days 00:09:59</td>\n",
       "      <td>0.300501</td>\n",
       "    </tr>\n",
       "    <tr>\n",
       "      <th>4</th>\n",
       "      <td>kcal</td>\n",
       "      <td>2020-11-05 15:50:00</td>\n",
       "      <td>2020-11-05 15:59:59</td>\n",
       "      <td>2.0</td>\n",
       "      <td>0 days 00:09:59</td>\n",
       "      <td>0.200334</td>\n",
       "    </tr>\n",
       "  </tbody>\n",
       "</table>\n",
       "</div>"
      ],
      "text/plain": [
       "   unit           startDate             endDate  value            diff  \\\n",
       "0  kcal 2016-05-28 08:00:00 2016-05-28 08:36:00  239.0 0 days 00:36:00   \n",
       "1  kcal 2020-11-05 13:40:00 2020-11-05 13:49:59    1.0 0 days 00:09:59   \n",
       "2  kcal 2020-11-05 15:30:00 2020-11-05 15:39:59    1.0 0 days 00:09:59   \n",
       "3  kcal 2020-11-05 15:40:00 2020-11-05 15:49:59    3.0 0 days 00:09:59   \n",
       "4  kcal 2020-11-05 15:50:00 2020-11-05 15:59:59    2.0 0 days 00:09:59   \n",
       "\n",
       "    cal_min  \n",
       "0  6.638889  \n",
       "1  0.100167  \n",
       "2  0.100167  \n",
       "3  0.300501  \n",
       "4  0.200334  "
      ]
     },
     "execution_count": 10,
     "metadata": {},
     "output_type": "execute_result"
    }
   ],
   "source": [
    "apple['cal_min']=[apple.value[i]/(apple['diff'][i].seconds/60) for i in range(len(apple))]\n",
    "\n",
    "apple.head()"
   ]
  },
  {
   "cell_type": "code",
   "execution_count": 11,
   "id": "07a856c9",
   "metadata": {},
   "outputs": [],
   "source": [
    "apple.drop(columns=['value','unit'], inplace= True)"
   ]
  },
  {
   "cell_type": "code",
   "execution_count": 12,
   "id": "905c4dd4",
   "metadata": {},
   "outputs": [
    {
     "data": {
      "text/html": [
       "<div>\n",
       "<style scoped>\n",
       "    .dataframe tbody tr th:only-of-type {\n",
       "        vertical-align: middle;\n",
       "    }\n",
       "\n",
       "    .dataframe tbody tr th {\n",
       "        vertical-align: top;\n",
       "    }\n",
       "\n",
       "    .dataframe thead th {\n",
       "        text-align: right;\n",
       "    }\n",
       "</style>\n",
       "<table border=\"1\" class=\"dataframe\">\n",
       "  <thead>\n",
       "    <tr style=\"text-align: right;\">\n",
       "      <th></th>\n",
       "      <th>startDate</th>\n",
       "      <th>endDate</th>\n",
       "      <th>diff</th>\n",
       "      <th>cal_min</th>\n",
       "    </tr>\n",
       "  </thead>\n",
       "  <tbody>\n",
       "    <tr>\n",
       "      <th>0</th>\n",
       "      <td>2016-05-28 08:00:00</td>\n",
       "      <td>2016-05-28 08:36:00</td>\n",
       "      <td>0 days 00:36:00</td>\n",
       "      <td>6.638889</td>\n",
       "    </tr>\n",
       "    <tr>\n",
       "      <th>1</th>\n",
       "      <td>2020-11-05 13:40:00</td>\n",
       "      <td>2020-11-05 13:49:59</td>\n",
       "      <td>0 days 00:09:59</td>\n",
       "      <td>0.100167</td>\n",
       "    </tr>\n",
       "    <tr>\n",
       "      <th>2</th>\n",
       "      <td>2020-11-05 15:30:00</td>\n",
       "      <td>2020-11-05 15:39:59</td>\n",
       "      <td>0 days 00:09:59</td>\n",
       "      <td>0.100167</td>\n",
       "    </tr>\n",
       "    <tr>\n",
       "      <th>3</th>\n",
       "      <td>2020-11-05 15:40:00</td>\n",
       "      <td>2020-11-05 15:49:59</td>\n",
       "      <td>0 days 00:09:59</td>\n",
       "      <td>0.300501</td>\n",
       "    </tr>\n",
       "    <tr>\n",
       "      <th>4</th>\n",
       "      <td>2020-11-05 15:50:00</td>\n",
       "      <td>2020-11-05 15:59:59</td>\n",
       "      <td>0 days 00:09:59</td>\n",
       "      <td>0.200334</td>\n",
       "    </tr>\n",
       "  </tbody>\n",
       "</table>\n",
       "</div>"
      ],
      "text/plain": [
       "            startDate             endDate            diff   cal_min\n",
       "0 2016-05-28 08:00:00 2016-05-28 08:36:00 0 days 00:36:00  6.638889\n",
       "1 2020-11-05 13:40:00 2020-11-05 13:49:59 0 days 00:09:59  0.100167\n",
       "2 2020-11-05 15:30:00 2020-11-05 15:39:59 0 days 00:09:59  0.100167\n",
       "3 2020-11-05 15:40:00 2020-11-05 15:49:59 0 days 00:09:59  0.300501\n",
       "4 2020-11-05 15:50:00 2020-11-05 15:59:59 0 days 00:09:59  0.200334"
      ]
     },
     "execution_count": 12,
     "metadata": {},
     "output_type": "execute_result"
    }
   ],
   "source": [
    "apple.head()"
   ]
  },
  {
   "cell_type": "code",
   "execution_count": 13,
   "id": "e03579f8",
   "metadata": {},
   "outputs": [
    {
     "data": {
      "application/vnd.jupyter.widget-view+json": {
       "model_id": "2f90c93bd57a42afb042093861d7d7e5",
       "version_major": 2,
       "version_minor": 0
      },
      "text/plain": [
       "  0%|          | 0/336135 [00:00<?, ?it/s]"
      ]
     },
     "metadata": {},
     "output_type": "display_data"
    }
   ],
   "source": [
    "\n",
    "l = [pd.date_range(start = apple.startDate[i], end=apple.endDate[i], freq=\"1min\").strftime('%Y-%m-%d %H:%M') for i in tqdm(range(len(apple)))]"
   ]
  },
  {
   "cell_type": "code",
   "execution_count": 14,
   "id": "d130526b",
   "metadata": {},
   "outputs": [],
   "source": [
    "flat_list = [item for sublist in l for item in sublist]"
   ]
  },
  {
   "cell_type": "code",
   "execution_count": 15,
   "id": "5b2d0c46",
   "metadata": {},
   "outputs": [],
   "source": [
    "df = pd.DataFrame()"
   ]
  },
  {
   "cell_type": "code",
   "execution_count": 16,
   "id": "314b383b",
   "metadata": {
    "scrolled": false
   },
   "outputs": [],
   "source": [
    "df['date'] = flat_list"
   ]
  },
  {
   "cell_type": "code",
   "execution_count": 17,
   "id": "de2b0b28",
   "metadata": {},
   "outputs": [
    {
     "data": {
      "text/html": [
       "<div>\n",
       "<style scoped>\n",
       "    .dataframe tbody tr th:only-of-type {\n",
       "        vertical-align: middle;\n",
       "    }\n",
       "\n",
       "    .dataframe tbody tr th {\n",
       "        vertical-align: top;\n",
       "    }\n",
       "\n",
       "    .dataframe thead th {\n",
       "        text-align: right;\n",
       "    }\n",
       "</style>\n",
       "<table border=\"1\" class=\"dataframe\">\n",
       "  <thead>\n",
       "    <tr style=\"text-align: right;\">\n",
       "      <th></th>\n",
       "      <th>date</th>\n",
       "    </tr>\n",
       "  </thead>\n",
       "  <tbody>\n",
       "    <tr>\n",
       "      <th>538341</th>\n",
       "      <td>2022-11-11 08:20</td>\n",
       "    </tr>\n",
       "    <tr>\n",
       "      <th>538342</th>\n",
       "      <td>2022-11-11 08:21</td>\n",
       "    </tr>\n",
       "    <tr>\n",
       "      <th>538343</th>\n",
       "      <td>2022-11-11 08:22</td>\n",
       "    </tr>\n",
       "    <tr>\n",
       "      <th>538344</th>\n",
       "      <td>2022-11-11 08:23</td>\n",
       "    </tr>\n",
       "    <tr>\n",
       "      <th>538345</th>\n",
       "      <td>2022-11-11 08:24</td>\n",
       "    </tr>\n",
       "  </tbody>\n",
       "</table>\n",
       "</div>"
      ],
      "text/plain": [
       "                    date\n",
       "538341  2022-11-11 08:20\n",
       "538342  2022-11-11 08:21\n",
       "538343  2022-11-11 08:22\n",
       "538344  2022-11-11 08:23\n",
       "538345  2022-11-11 08:24"
      ]
     },
     "execution_count": 17,
     "metadata": {},
     "output_type": "execute_result"
    }
   ],
   "source": [
    "df.tail()"
   ]
  },
  {
   "cell_type": "code",
   "execution_count": 18,
   "id": "b4c387f1",
   "metadata": {
    "scrolled": true
   },
   "outputs": [],
   "source": [
    "apple.rename(columns={'startDate':'date'}, inplace=True)"
   ]
  },
  {
   "cell_type": "code",
   "execution_count": 19,
   "id": "0cfad6be",
   "metadata": {},
   "outputs": [
    {
     "data": {
      "text/plain": [
       "Index(['date', 'endDate', 'diff', 'cal_min'], dtype='object')"
      ]
     },
     "execution_count": 19,
     "metadata": {},
     "output_type": "execute_result"
    }
   ],
   "source": [
    "apple.columns"
   ]
  },
  {
   "cell_type": "code",
   "execution_count": 20,
   "id": "04346128",
   "metadata": {},
   "outputs": [],
   "source": [
    "apple.drop(columns=['endDate', 'diff'], inplace=True)"
   ]
  },
  {
   "cell_type": "code",
   "execution_count": 21,
   "id": "0936eab2",
   "metadata": {
    "scrolled": true
   },
   "outputs": [],
   "source": [
    "df = df.astype({'date': 'datetime64[ns]'})"
   ]
  },
  {
   "cell_type": "code",
   "execution_count": 22,
   "id": "2de84d9e",
   "metadata": {},
   "outputs": [
    {
     "name": "stdout",
     "output_type": "stream",
     "text": [
      "<class 'pandas.core.frame.DataFrame'>\n",
      "RangeIndex: 538346 entries, 0 to 538345\n",
      "Data columns (total 1 columns):\n",
      " #   Column  Non-Null Count   Dtype         \n",
      "---  ------  --------------   -----         \n",
      " 0   date    538346 non-null  datetime64[ns]\n",
      "dtypes: datetime64[ns](1)\n",
      "memory usage: 4.1 MB\n"
     ]
    }
   ],
   "source": [
    "df.info()"
   ]
  },
  {
   "cell_type": "code",
   "execution_count": 23,
   "id": "f3fda661",
   "metadata": {},
   "outputs": [],
   "source": [
    "df = df.merge(apple,how='left', on= 'date')"
   ]
  },
  {
   "cell_type": "code",
   "execution_count": 24,
   "id": "e0ed027e",
   "metadata": {},
   "outputs": [],
   "source": [
    "df.cal_min.ffill(inplace=True)"
   ]
  },
  {
   "cell_type": "markdown",
   "id": "1bd44daa",
   "metadata": {},
   "source": [
    "# 2. Spotify data cleaning"
   ]
  },
  {
   "cell_type": "code",
   "execution_count": 25,
   "id": "7a391b78",
   "metadata": {},
   "outputs": [],
   "source": [
    "mus = pd.read_json('../../proyecto_final/data/mydataspotify/StreamingHistory0.json')"
   ]
  },
  {
   "cell_type": "code",
   "execution_count": 26,
   "id": "5c8f11fa",
   "metadata": {},
   "outputs": [
    {
     "data": {
      "text/plain": [
       "(10000, 4)"
      ]
     },
     "execution_count": 26,
     "metadata": {},
     "output_type": "execute_result"
    }
   ],
   "source": [
    "mus.shape"
   ]
  },
  {
   "cell_type": "code",
   "execution_count": 27,
   "id": "08a80c60",
   "metadata": {},
   "outputs": [],
   "source": [
    "music2 = pd.read_json('../../proyecto_final/data/mydataspotify/StreamingHistory1.json')"
   ]
  },
  {
   "cell_type": "code",
   "execution_count": 28,
   "id": "0ab3a56b",
   "metadata": {},
   "outputs": [
    {
     "data": {
      "text/plain": [
       "(6530, 4)"
      ]
     },
     "execution_count": 28,
     "metadata": {},
     "output_type": "execute_result"
    }
   ],
   "source": [
    "music2.shape"
   ]
  },
  {
   "cell_type": "code",
   "execution_count": 29,
   "id": "06a3a290",
   "metadata": {},
   "outputs": [],
   "source": [
    "music = pd.concat([mus, music2], axis=0, ignore_index=True)"
   ]
  },
  {
   "cell_type": "code",
   "execution_count": 30,
   "id": "fca1a589",
   "metadata": {},
   "outputs": [
    {
     "data": {
      "text/plain": [
       "(16530, 4)"
      ]
     },
     "execution_count": 30,
     "metadata": {},
     "output_type": "execute_result"
    }
   ],
   "source": [
    "music.shape"
   ]
  },
  {
   "cell_type": "code",
   "execution_count": 31,
   "id": "e646d40f",
   "metadata": {
    "scrolled": true
   },
   "outputs": [],
   "source": [
    "music.rename(columns={'endTime':'date'}, inplace=True)"
   ]
  },
  {
   "cell_type": "code",
   "execution_count": 32,
   "id": "f92e378f",
   "metadata": {
    "scrolled": true
   },
   "outputs": [],
   "source": [
    "music = music.astype({'date': 'datetime64[ns]'})"
   ]
  },
  {
   "cell_type": "code",
   "execution_count": 33,
   "id": "d7964ed5",
   "metadata": {},
   "outputs": [
    {
     "data": {
      "text/plain": [
       "(16530, 4)"
      ]
     },
     "execution_count": 33,
     "metadata": {},
     "output_type": "execute_result"
    }
   ],
   "source": [
    "music.shape"
   ]
  },
  {
   "cell_type": "code",
   "execution_count": 34,
   "id": "2c20a3fa",
   "metadata": {
    "scrolled": true
   },
   "outputs": [
    {
     "data": {
      "text/html": [
       "<div>\n",
       "<style scoped>\n",
       "    .dataframe tbody tr th:only-of-type {\n",
       "        vertical-align: middle;\n",
       "    }\n",
       "\n",
       "    .dataframe tbody tr th {\n",
       "        vertical-align: top;\n",
       "    }\n",
       "\n",
       "    .dataframe thead th {\n",
       "        text-align: right;\n",
       "    }\n",
       "</style>\n",
       "<table border=\"1\" class=\"dataframe\">\n",
       "  <thead>\n",
       "    <tr style=\"text-align: right;\">\n",
       "      <th></th>\n",
       "      <th>date</th>\n",
       "      <th>cal_min</th>\n",
       "    </tr>\n",
       "  </thead>\n",
       "  <tbody>\n",
       "    <tr>\n",
       "      <th>0</th>\n",
       "      <td>2016-05-28 08:00:00</td>\n",
       "      <td>6.638889</td>\n",
       "    </tr>\n",
       "    <tr>\n",
       "      <th>1</th>\n",
       "      <td>2016-05-28 08:01:00</td>\n",
       "      <td>6.638889</td>\n",
       "    </tr>\n",
       "    <tr>\n",
       "      <th>2</th>\n",
       "      <td>2016-05-28 08:02:00</td>\n",
       "      <td>6.638889</td>\n",
       "    </tr>\n",
       "    <tr>\n",
       "      <th>3</th>\n",
       "      <td>2016-05-28 08:03:00</td>\n",
       "      <td>6.638889</td>\n",
       "    </tr>\n",
       "    <tr>\n",
       "      <th>4</th>\n",
       "      <td>2016-05-28 08:04:00</td>\n",
       "      <td>6.638889</td>\n",
       "    </tr>\n",
       "  </tbody>\n",
       "</table>\n",
       "</div>"
      ],
      "text/plain": [
       "                 date   cal_min\n",
       "0 2016-05-28 08:00:00  6.638889\n",
       "1 2016-05-28 08:01:00  6.638889\n",
       "2 2016-05-28 08:02:00  6.638889\n",
       "3 2016-05-28 08:03:00  6.638889\n",
       "4 2016-05-28 08:04:00  6.638889"
      ]
     },
     "execution_count": 34,
     "metadata": {},
     "output_type": "execute_result"
    }
   ],
   "source": [
    "df.head()"
   ]
  },
  {
   "cell_type": "code",
   "execution_count": 35,
   "id": "03bb6457",
   "metadata": {},
   "outputs": [
    {
     "data": {
      "text/plain": [
       "(538364, 2)"
      ]
     },
     "execution_count": 35,
     "metadata": {},
     "output_type": "execute_result"
    }
   ],
   "source": [
    "df.shape"
   ]
  },
  {
   "cell_type": "code",
   "execution_count": 36,
   "id": "ca9fb430",
   "metadata": {
    "scrolled": true
   },
   "outputs": [
    {
     "data": {
      "text/plain": [
       "(16530, 4)"
      ]
     },
     "execution_count": 36,
     "metadata": {},
     "output_type": "execute_result"
    }
   ],
   "source": [
    "music.shape"
   ]
  },
  {
   "cell_type": "code",
   "execution_count": 37,
   "id": "5664d43c",
   "metadata": {},
   "outputs": [
    {
     "data": {
      "text/html": [
       "<div>\n",
       "<style scoped>\n",
       "    .dataframe tbody tr th:only-of-type {\n",
       "        vertical-align: middle;\n",
       "    }\n",
       "\n",
       "    .dataframe tbody tr th {\n",
       "        vertical-align: top;\n",
       "    }\n",
       "\n",
       "    .dataframe thead th {\n",
       "        text-align: right;\n",
       "    }\n",
       "</style>\n",
       "<table border=\"1\" class=\"dataframe\">\n",
       "  <thead>\n",
       "    <tr style=\"text-align: right;\">\n",
       "      <th></th>\n",
       "      <th>date</th>\n",
       "      <th>artistName</th>\n",
       "      <th>trackName</th>\n",
       "      <th>msPlayed</th>\n",
       "    </tr>\n",
       "  </thead>\n",
       "  <tbody>\n",
       "    <tr>\n",
       "      <th>11162</th>\n",
       "      <td>2022-08-07 11:54:00</td>\n",
       "      <td>Boza</td>\n",
       "      <td>Ella - Remix</td>\n",
       "      <td>330478</td>\n",
       "    </tr>\n",
       "    <tr>\n",
       "      <th>11163</th>\n",
       "      <td>2022-08-07 11:54:00</td>\n",
       "      <td>Joje</td>\n",
       "      <td>1234</td>\n",
       "      <td>120000</td>\n",
       "    </tr>\n",
       "    <tr>\n",
       "      <th>11164</th>\n",
       "      <td>2022-08-07 11:54:00</td>\n",
       "      <td>TM</td>\n",
       "      <td>Nextbike</td>\n",
       "      <td>165340</td>\n",
       "    </tr>\n",
       "    <tr>\n",
       "      <th>11165</th>\n",
       "      <td>2022-08-07 11:54:00</td>\n",
       "      <td>KASIMIR1441</td>\n",
       "      <td>TEK TEK</td>\n",
       "      <td>109924</td>\n",
       "    </tr>\n",
       "    <tr>\n",
       "      <th>11166</th>\n",
       "      <td>2022-08-07 11:54:00</td>\n",
       "      <td>Jhayco</td>\n",
       "      <td>Dile (Homenaje)</td>\n",
       "      <td>228933</td>\n",
       "    </tr>\n",
       "    <tr>\n",
       "      <th>11167</th>\n",
       "      <td>2022-08-07 11:54:00</td>\n",
       "      <td>Jhayco</td>\n",
       "      <td>Tokyo</td>\n",
       "      <td>11912</td>\n",
       "    </tr>\n",
       "    <tr>\n",
       "      <th>11168</th>\n",
       "      <td>2022-08-07 11:54:00</td>\n",
       "      <td>Rauw Alejandro</td>\n",
       "      <td>Desesperados</td>\n",
       "      <td>224997</td>\n",
       "    </tr>\n",
       "    <tr>\n",
       "      <th>11169</th>\n",
       "      <td>2022-08-07 11:54:00</td>\n",
       "      <td>Rauw Alejandro</td>\n",
       "      <td>Desesperados</td>\n",
       "      <td>302</td>\n",
       "    </tr>\n",
       "    <tr>\n",
       "      <th>11170</th>\n",
       "      <td>2022-08-07 11:54:00</td>\n",
       "      <td>Omar Montes</td>\n",
       "      <td>Carita Morena</td>\n",
       "      <td>111300</td>\n",
       "    </tr>\n",
       "    <tr>\n",
       "      <th>11171</th>\n",
       "      <td>2022-08-07 11:54:00</td>\n",
       "      <td>Robinio</td>\n",
       "      <td>Cash</td>\n",
       "      <td>145968</td>\n",
       "    </tr>\n",
       "    <tr>\n",
       "      <th>11172</th>\n",
       "      <td>2022-08-07 11:54:00</td>\n",
       "      <td>Ezco 44</td>\n",
       "      <td>50 Dinger</td>\n",
       "      <td>111513</td>\n",
       "    </tr>\n",
       "    <tr>\n",
       "      <th>11173</th>\n",
       "      <td>2022-08-07 11:54:00</td>\n",
       "      <td>65Goonz</td>\n",
       "      <td>Juice</td>\n",
       "      <td>148652</td>\n",
       "    </tr>\n",
       "    <tr>\n",
       "      <th>11174</th>\n",
       "      <td>2022-08-07 11:54:00</td>\n",
       "      <td>KASIMIR1441</td>\n",
       "      <td>KK</td>\n",
       "      <td>97877</td>\n",
       "    </tr>\n",
       "    <tr>\n",
       "      <th>11175</th>\n",
       "      <td>2022-08-07 11:54:00</td>\n",
       "      <td>65Goonz</td>\n",
       "      <td>Wedding Boyz</td>\n",
       "      <td>139493</td>\n",
       "    </tr>\n",
       "    <tr>\n",
       "      <th>11176</th>\n",
       "      <td>2022-08-07 11:54:00</td>\n",
       "      <td>Tiago PZK</td>\n",
       "      <td>Salimo de Noche</td>\n",
       "      <td>177857</td>\n",
       "    </tr>\n",
       "    <tr>\n",
       "      <th>11177</th>\n",
       "      <td>2022-08-07 11:54:00</td>\n",
       "      <td>Eladio Carrion</td>\n",
       "      <td>No Te Deseo el Mal</td>\n",
       "      <td>19783</td>\n",
       "    </tr>\n",
       "    <tr>\n",
       "      <th>11178</th>\n",
       "      <td>2022-08-07 11:54:00</td>\n",
       "      <td>Lyanno</td>\n",
       "      <td>En Tu Cuerpo - Remix</td>\n",
       "      <td>310860</td>\n",
       "    </tr>\n",
       "    <tr>\n",
       "      <th>11179</th>\n",
       "      <td>2022-08-07 11:54:00</td>\n",
       "      <td>Rusherking</td>\n",
       "      <td>Bendición</td>\n",
       "      <td>169213</td>\n",
       "    </tr>\n",
       "    <tr>\n",
       "      <th>11180</th>\n",
       "      <td>2022-08-07 11:54:00</td>\n",
       "      <td>Lyanno</td>\n",
       "      <td>Dos Opciones</td>\n",
       "      <td>224405</td>\n",
       "    </tr>\n",
       "    <tr>\n",
       "      <th>11181</th>\n",
       "      <td>2022-08-07 11:54:00</td>\n",
       "      <td>Jey Blessing</td>\n",
       "      <td>Suave - Remix</td>\n",
       "      <td>25263</td>\n",
       "    </tr>\n",
       "    <tr>\n",
       "      <th>11182</th>\n",
       "      <td>2022-08-07 11:54:00</td>\n",
       "      <td>Pusho</td>\n",
       "      <td>La Llamada</td>\n",
       "      <td>26378</td>\n",
       "    </tr>\n",
       "    <tr>\n",
       "      <th>11183</th>\n",
       "      <td>2022-08-07 11:54:00</td>\n",
       "      <td>65Goonz</td>\n",
       "      <td>Goony Tales</td>\n",
       "      <td>129747</td>\n",
       "    </tr>\n",
       "    <tr>\n",
       "      <th>11184</th>\n",
       "      <td>2022-08-07 11:54:00</td>\n",
       "      <td>Tainy</td>\n",
       "      <td>UNA MÁS</td>\n",
       "      <td>166929</td>\n",
       "    </tr>\n",
       "    <tr>\n",
       "      <th>11185</th>\n",
       "      <td>2022-08-07 11:54:00</td>\n",
       "      <td>Tabib</td>\n",
       "      <td>Teufel Der Euro</td>\n",
       "      <td>177692</td>\n",
       "    </tr>\n",
       "    <tr>\n",
       "      <th>11186</th>\n",
       "      <td>2022-08-07 11:54:00</td>\n",
       "      <td>Rauw Alejandro</td>\n",
       "      <td>Aquel Nap ZzZz</td>\n",
       "      <td>295039</td>\n",
       "    </tr>\n",
       "  </tbody>\n",
       "</table>\n",
       "</div>"
      ],
      "text/plain": [
       "                     date      artistName             trackName  msPlayed\n",
       "11162 2022-08-07 11:54:00            Boza          Ella - Remix    330478\n",
       "11163 2022-08-07 11:54:00            Joje                  1234    120000\n",
       "11164 2022-08-07 11:54:00              TM              Nextbike    165340\n",
       "11165 2022-08-07 11:54:00     KASIMIR1441               TEK TEK    109924\n",
       "11166 2022-08-07 11:54:00          Jhayco       Dile (Homenaje)    228933\n",
       "11167 2022-08-07 11:54:00          Jhayco                 Tokyo     11912\n",
       "11168 2022-08-07 11:54:00  Rauw Alejandro          Desesperados    224997\n",
       "11169 2022-08-07 11:54:00  Rauw Alejandro          Desesperados       302\n",
       "11170 2022-08-07 11:54:00     Omar Montes         Carita Morena    111300\n",
       "11171 2022-08-07 11:54:00         Robinio                  Cash    145968\n",
       "11172 2022-08-07 11:54:00         Ezco 44             50 Dinger    111513\n",
       "11173 2022-08-07 11:54:00         65Goonz                 Juice    148652\n",
       "11174 2022-08-07 11:54:00     KASIMIR1441                    KK     97877\n",
       "11175 2022-08-07 11:54:00         65Goonz          Wedding Boyz    139493\n",
       "11176 2022-08-07 11:54:00       Tiago PZK       Salimo de Noche    177857\n",
       "11177 2022-08-07 11:54:00  Eladio Carrion    No Te Deseo el Mal     19783\n",
       "11178 2022-08-07 11:54:00          Lyanno  En Tu Cuerpo - Remix    310860\n",
       "11179 2022-08-07 11:54:00      Rusherking             Bendición    169213\n",
       "11180 2022-08-07 11:54:00          Lyanno          Dos Opciones    224405\n",
       "11181 2022-08-07 11:54:00    Jey Blessing         Suave - Remix     25263\n",
       "11182 2022-08-07 11:54:00           Pusho            La Llamada     26378\n",
       "11183 2022-08-07 11:54:00         65Goonz           Goony Tales    129747\n",
       "11184 2022-08-07 11:54:00           Tainy               UNA MÁS    166929\n",
       "11185 2022-08-07 11:54:00           Tabib       Teufel Der Euro    177692\n",
       "11186 2022-08-07 11:54:00  Rauw Alejandro        Aquel Nap ZzZz    295039"
      ]
     },
     "execution_count": 37,
     "metadata": {},
     "output_type": "execute_result"
    }
   ],
   "source": [
    "music.loc[music['date']=='2022-08-07 11:54:00']"
   ]
  },
  {
   "cell_type": "code",
   "execution_count": 38,
   "id": "5da77947",
   "metadata": {},
   "outputs": [],
   "source": [
    "music.drop_duplicates(subset='date', inplace=True)"
   ]
  },
  {
   "cell_type": "code",
   "execution_count": 39,
   "id": "bd1ef626",
   "metadata": {
    "scrolled": true
   },
   "outputs": [
    {
     "data": {
      "text/plain": [
       "date                 cal_min \n",
       "2022-09-25 15:11:00  4.200000    24\n",
       "2022-07-15 14:38:00  5.140000    24\n",
       "2022-09-24 11:38:00  3.420000    24\n",
       "2022-07-15 14:34:00  2.860000    24\n",
       "2022-07-15 14:32:00  7.830000    24\n",
       "                                 ..\n",
       "2021-12-14 11:39:00  0.060500     1\n",
       "2021-12-14 11:40:00  0.060500     1\n",
       "2021-12-14 11:41:00  0.060500     1\n",
       "2021-12-14 11:42:00  0.060500     1\n",
       "2022-11-11 08:24:00  0.421935     1\n",
       "Length: 318286, dtype: int64"
      ]
     },
     "execution_count": 39,
     "metadata": {},
     "output_type": "execute_result"
    }
   ],
   "source": [
    "df.value_counts()"
   ]
  },
  {
   "cell_type": "code",
   "execution_count": 40,
   "id": "37e636bb",
   "metadata": {},
   "outputs": [
    {
     "data": {
      "text/html": [
       "<div>\n",
       "<style scoped>\n",
       "    .dataframe tbody tr th:only-of-type {\n",
       "        vertical-align: middle;\n",
       "    }\n",
       "\n",
       "    .dataframe tbody tr th {\n",
       "        vertical-align: top;\n",
       "    }\n",
       "\n",
       "    .dataframe thead th {\n",
       "        text-align: right;\n",
       "    }\n",
       "</style>\n",
       "<table border=\"1\" class=\"dataframe\">\n",
       "  <thead>\n",
       "    <tr style=\"text-align: right;\">\n",
       "      <th></th>\n",
       "      <th>date</th>\n",
       "      <th>cal_min</th>\n",
       "    </tr>\n",
       "  </thead>\n",
       "  <tbody>\n",
       "    <tr>\n",
       "      <th>457646</th>\n",
       "      <td>2022-09-25 15:10:00</td>\n",
       "      <td>2.3</td>\n",
       "    </tr>\n",
       "    <tr>\n",
       "      <th>457647</th>\n",
       "      <td>2022-09-25 15:10:00</td>\n",
       "      <td>2.3</td>\n",
       "    </tr>\n",
       "    <tr>\n",
       "      <th>457648</th>\n",
       "      <td>2022-09-25 15:10:00</td>\n",
       "      <td>2.3</td>\n",
       "    </tr>\n",
       "    <tr>\n",
       "      <th>457649</th>\n",
       "      <td>2022-09-25 15:10:00</td>\n",
       "      <td>2.3</td>\n",
       "    </tr>\n",
       "    <tr>\n",
       "      <th>457650</th>\n",
       "      <td>2022-09-25 15:10:00</td>\n",
       "      <td>2.3</td>\n",
       "    </tr>\n",
       "    <tr>\n",
       "      <th>457651</th>\n",
       "      <td>2022-09-25 15:10:00</td>\n",
       "      <td>2.3</td>\n",
       "    </tr>\n",
       "    <tr>\n",
       "      <th>457652</th>\n",
       "      <td>2022-09-25 15:10:00</td>\n",
       "      <td>2.3</td>\n",
       "    </tr>\n",
       "    <tr>\n",
       "      <th>457653</th>\n",
       "      <td>2022-09-25 15:10:00</td>\n",
       "      <td>2.3</td>\n",
       "    </tr>\n",
       "    <tr>\n",
       "      <th>457654</th>\n",
       "      <td>2022-09-25 15:10:00</td>\n",
       "      <td>2.3</td>\n",
       "    </tr>\n",
       "    <tr>\n",
       "      <th>457655</th>\n",
       "      <td>2022-09-25 15:10:00</td>\n",
       "      <td>2.3</td>\n",
       "    </tr>\n",
       "    <tr>\n",
       "      <th>457656</th>\n",
       "      <td>2022-09-25 15:10:00</td>\n",
       "      <td>2.3</td>\n",
       "    </tr>\n",
       "    <tr>\n",
       "      <th>457657</th>\n",
       "      <td>2022-09-25 15:10:00</td>\n",
       "      <td>2.3</td>\n",
       "    </tr>\n",
       "    <tr>\n",
       "      <th>457658</th>\n",
       "      <td>2022-09-25 15:10:00</td>\n",
       "      <td>2.3</td>\n",
       "    </tr>\n",
       "    <tr>\n",
       "      <th>457659</th>\n",
       "      <td>2022-09-25 15:10:00</td>\n",
       "      <td>2.3</td>\n",
       "    </tr>\n",
       "    <tr>\n",
       "      <th>457660</th>\n",
       "      <td>2022-09-25 15:10:00</td>\n",
       "      <td>2.3</td>\n",
       "    </tr>\n",
       "    <tr>\n",
       "      <th>457661</th>\n",
       "      <td>2022-09-25 15:10:00</td>\n",
       "      <td>2.3</td>\n",
       "    </tr>\n",
       "    <tr>\n",
       "      <th>457662</th>\n",
       "      <td>2022-09-25 15:10:00</td>\n",
       "      <td>2.3</td>\n",
       "    </tr>\n",
       "    <tr>\n",
       "      <th>457663</th>\n",
       "      <td>2022-09-25 15:10:00</td>\n",
       "      <td>2.3</td>\n",
       "    </tr>\n",
       "    <tr>\n",
       "      <th>457664</th>\n",
       "      <td>2022-09-25 15:10:00</td>\n",
       "      <td>2.3</td>\n",
       "    </tr>\n",
       "    <tr>\n",
       "      <th>457665</th>\n",
       "      <td>2022-09-25 15:10:00</td>\n",
       "      <td>2.3</td>\n",
       "    </tr>\n",
       "    <tr>\n",
       "      <th>457666</th>\n",
       "      <td>2022-09-25 15:10:00</td>\n",
       "      <td>2.3</td>\n",
       "    </tr>\n",
       "    <tr>\n",
       "      <th>457667</th>\n",
       "      <td>2022-09-25 15:10:00</td>\n",
       "      <td>2.3</td>\n",
       "    </tr>\n",
       "    <tr>\n",
       "      <th>457668</th>\n",
       "      <td>2022-09-25 15:10:00</td>\n",
       "      <td>2.3</td>\n",
       "    </tr>\n",
       "  </tbody>\n",
       "</table>\n",
       "</div>"
      ],
      "text/plain": [
       "                      date  cal_min\n",
       "457646 2022-09-25 15:10:00      2.3\n",
       "457647 2022-09-25 15:10:00      2.3\n",
       "457648 2022-09-25 15:10:00      2.3\n",
       "457649 2022-09-25 15:10:00      2.3\n",
       "457650 2022-09-25 15:10:00      2.3\n",
       "457651 2022-09-25 15:10:00      2.3\n",
       "457652 2022-09-25 15:10:00      2.3\n",
       "457653 2022-09-25 15:10:00      2.3\n",
       "457654 2022-09-25 15:10:00      2.3\n",
       "457655 2022-09-25 15:10:00      2.3\n",
       "457656 2022-09-25 15:10:00      2.3\n",
       "457657 2022-09-25 15:10:00      2.3\n",
       "457658 2022-09-25 15:10:00      2.3\n",
       "457659 2022-09-25 15:10:00      2.3\n",
       "457660 2022-09-25 15:10:00      2.3\n",
       "457661 2022-09-25 15:10:00      2.3\n",
       "457662 2022-09-25 15:10:00      2.3\n",
       "457663 2022-09-25 15:10:00      2.3\n",
       "457664 2022-09-25 15:10:00      2.3\n",
       "457665 2022-09-25 15:10:00      2.3\n",
       "457666 2022-09-25 15:10:00      2.3\n",
       "457667 2022-09-25 15:10:00      2.3\n",
       "457668 2022-09-25 15:10:00      2.3"
      ]
     },
     "execution_count": 40,
     "metadata": {},
     "output_type": "execute_result"
    }
   ],
   "source": [
    "df.loc[df['date']=='2022-09-25 15:10:00']"
   ]
  },
  {
   "cell_type": "code",
   "execution_count": 41,
   "id": "c5a3bd8b",
   "metadata": {},
   "outputs": [],
   "source": [
    "df.drop_duplicates(subset='date', inplace=True)"
   ]
  },
  {
   "cell_type": "code",
   "execution_count": 42,
   "id": "90ed9630",
   "metadata": {},
   "outputs": [
    {
     "data": {
      "text/plain": [
       "2016-05-28 08:00:00    1\n",
       "2022-06-13 10:21:00    1\n",
       "2022-06-13 10:28:00    1\n",
       "2022-06-13 10:27:00    1\n",
       "2022-06-13 10:26:00    1\n",
       "Name: date, dtype: int64"
      ]
     },
     "execution_count": 42,
     "metadata": {},
     "output_type": "execute_result"
    }
   ],
   "source": [
    "df.date.value_counts().head()"
   ]
  },
  {
   "cell_type": "code",
   "execution_count": 43,
   "id": "40a51381",
   "metadata": {},
   "outputs": [
    {
     "data": {
      "text/plain": [
       "(15028, 4)"
      ]
     },
     "execution_count": 43,
     "metadata": {},
     "output_type": "execute_result"
    }
   ],
   "source": [
    "music.shape"
   ]
  },
  {
   "cell_type": "code",
   "execution_count": 44,
   "id": "8d1b9a9b",
   "metadata": {},
   "outputs": [],
   "source": [
    "music['sgPlayed'] = music['msPlayed']/1000"
   ]
  },
  {
   "cell_type": "code",
   "execution_count": 45,
   "id": "8779b9f6",
   "metadata": {},
   "outputs": [],
   "source": [
    "music['minPlayed'] = music['sgPlayed']/60"
   ]
  },
  {
   "cell_type": "markdown",
   "id": "4ba0258d",
   "metadata": {},
   "source": [
    "# Music to burn calories Analysis"
   ]
  },
  {
   "cell_type": "code",
   "execution_count": 46,
   "id": "6b1ded46",
   "metadata": {},
   "outputs": [],
   "source": [
    "music = music.merge(df ,how='left', on= 'date')"
   ]
  },
  {
   "cell_type": "code",
   "execution_count": 47,
   "id": "39aaafde",
   "metadata": {},
   "outputs": [
    {
     "data": {
      "text/plain": [
       "cal_min    4374\n",
       "dtype: int64"
      ]
     },
     "execution_count": 47,
     "metadata": {},
     "output_type": "execute_result"
    }
   ],
   "source": [
    "nan_cols=music.isna().sum()\n",
    "\n",
    "nan_cols[nan_cols>0]"
   ]
  },
  {
   "cell_type": "code",
   "execution_count": 48,
   "id": "4baa5352",
   "metadata": {},
   "outputs": [],
   "source": [
    "music.cal_min.ffill(inplace=True)"
   ]
  },
  {
   "cell_type": "code",
   "execution_count": 49,
   "id": "1142f1ae",
   "metadata": {},
   "outputs": [
    {
     "data": {
      "text/plain": [
       "Series([], dtype: int64)"
      ]
     },
     "execution_count": 49,
     "metadata": {},
     "output_type": "execute_result"
    }
   ],
   "source": [
    "nan_cols=music.isna().sum()\n",
    "\n",
    "nan_cols[nan_cols>0]"
   ]
  },
  {
   "cell_type": "code",
   "execution_count": 50,
   "id": "381354bb",
   "metadata": {},
   "outputs": [],
   "source": [
    "music.to_csv('../../proyecto_final/data/clean_data/usermusic&usercal.csv', index=False)"
   ]
  },
  {
   "cell_type": "code",
   "execution_count": 51,
   "id": "9ce3db5e",
   "metadata": {},
   "outputs": [
    {
     "data": {
      "text/plain": [
       "(15028, 7)"
      ]
     },
     "execution_count": 51,
     "metadata": {},
     "output_type": "execute_result"
    }
   ],
   "source": [
    "music.shape"
   ]
  },
  {
   "cell_type": "code",
   "execution_count": 52,
   "id": "17cbd0d8",
   "metadata": {
    "scrolled": true
   },
   "outputs": [
    {
     "data": {
      "text/html": [
       "<div>\n",
       "<style scoped>\n",
       "    .dataframe tbody tr th:only-of-type {\n",
       "        vertical-align: middle;\n",
       "    }\n",
       "\n",
       "    .dataframe tbody tr th {\n",
       "        vertical-align: top;\n",
       "    }\n",
       "\n",
       "    .dataframe thead th {\n",
       "        text-align: right;\n",
       "    }\n",
       "</style>\n",
       "<table border=\"1\" class=\"dataframe\">\n",
       "  <thead>\n",
       "    <tr style=\"text-align: right;\">\n",
       "      <th></th>\n",
       "      <th>date</th>\n",
       "      <th>artistName</th>\n",
       "      <th>trackName</th>\n",
       "      <th>msPlayed</th>\n",
       "      <th>sgPlayed</th>\n",
       "      <th>minPlayed</th>\n",
       "      <th>cal_min</th>\n",
       "    </tr>\n",
       "  </thead>\n",
       "  <tbody>\n",
       "    <tr>\n",
       "      <th>0</th>\n",
       "      <td>2021-11-12 15:22:00</td>\n",
       "      <td>Myke Towers</td>\n",
       "      <td>Experimento</td>\n",
       "      <td>106394</td>\n",
       "      <td>106.394</td>\n",
       "      <td>1.773233</td>\n",
       "      <td>0.316418</td>\n",
       "    </tr>\n",
       "    <tr>\n",
       "      <th>1</th>\n",
       "      <td>2021-11-13 08:53:00</td>\n",
       "      <td>Tame Impala</td>\n",
       "      <td>The Less I Know The Better</td>\n",
       "      <td>3712</td>\n",
       "      <td>3.712</td>\n",
       "      <td>0.061867</td>\n",
       "      <td>0.210588</td>\n",
       "    </tr>\n",
       "    <tr>\n",
       "      <th>2</th>\n",
       "      <td>2021-11-13 08:56:00</td>\n",
       "      <td>Tame Impala</td>\n",
       "      <td>The Less I Know The Better</td>\n",
       "      <td>213141</td>\n",
       "      <td>213.141</td>\n",
       "      <td>3.552350</td>\n",
       "      <td>0.210588</td>\n",
       "    </tr>\n",
       "    <tr>\n",
       "      <th>3</th>\n",
       "      <td>2021-11-13 09:33:00</td>\n",
       "      <td>Goth Babe</td>\n",
       "      <td>Canary Islands</td>\n",
       "      <td>3904</td>\n",
       "      <td>3.904</td>\n",
       "      <td>0.065067</td>\n",
       "      <td>0.316364</td>\n",
       "    </tr>\n",
       "    <tr>\n",
       "      <th>4</th>\n",
       "      <td>2021-11-13 09:36:00</td>\n",
       "      <td>Goth Babe</td>\n",
       "      <td>Canary Islands</td>\n",
       "      <td>201042</td>\n",
       "      <td>201.042</td>\n",
       "      <td>3.350700</td>\n",
       "      <td>0.316364</td>\n",
       "    </tr>\n",
       "  </tbody>\n",
       "</table>\n",
       "</div>"
      ],
      "text/plain": [
       "                 date   artistName                   trackName  msPlayed  \\\n",
       "0 2021-11-12 15:22:00  Myke Towers                 Experimento    106394   \n",
       "1 2021-11-13 08:53:00  Tame Impala  The Less I Know The Better      3712   \n",
       "2 2021-11-13 08:56:00  Tame Impala  The Less I Know The Better    213141   \n",
       "3 2021-11-13 09:33:00    Goth Babe              Canary Islands      3904   \n",
       "4 2021-11-13 09:36:00    Goth Babe              Canary Islands    201042   \n",
       "\n",
       "   sgPlayed  minPlayed   cal_min  \n",
       "0   106.394   1.773233  0.316418  \n",
       "1     3.712   0.061867  0.210588  \n",
       "2   213.141   3.552350  0.210588  \n",
       "3     3.904   0.065067  0.316364  \n",
       "4   201.042   3.350700  0.316364  "
      ]
     },
     "execution_count": 52,
     "metadata": {},
     "output_type": "execute_result"
    }
   ],
   "source": [
    "music.head()"
   ]
  },
  {
   "cell_type": "markdown",
   "id": "e3dc209c",
   "metadata": {},
   "source": [
    "## Most calories burned while listening a song"
   ]
  },
  {
   "cell_type": "code",
   "execution_count": 53,
   "id": "b1354f49",
   "metadata": {
    "scrolled": true
   },
   "outputs": [
    {
     "data": {
      "text/html": [
       "<div>\n",
       "<style scoped>\n",
       "    .dataframe tbody tr th:only-of-type {\n",
       "        vertical-align: middle;\n",
       "    }\n",
       "\n",
       "    .dataframe tbody tr th {\n",
       "        vertical-align: top;\n",
       "    }\n",
       "\n",
       "    .dataframe thead th {\n",
       "        text-align: right;\n",
       "    }\n",
       "</style>\n",
       "<table border=\"1\" class=\"dataframe\">\n",
       "  <thead>\n",
       "    <tr style=\"text-align: right;\">\n",
       "      <th></th>\n",
       "      <th>date</th>\n",
       "      <th>artistName</th>\n",
       "      <th>trackName</th>\n",
       "      <th>msPlayed</th>\n",
       "      <th>sgPlayed</th>\n",
       "      <th>minPlayed</th>\n",
       "      <th>cal_min</th>\n",
       "    </tr>\n",
       "  </thead>\n",
       "  <tbody>\n",
       "    <tr>\n",
       "      <th>13872</th>\n",
       "      <td>2022-10-22 15:26:00</td>\n",
       "      <td>Florence + The Machine</td>\n",
       "      <td>You've Got The Love</td>\n",
       "      <td>168666</td>\n",
       "      <td>168.666</td>\n",
       "      <td>2.8111</td>\n",
       "      <td>9.93</td>\n",
       "    </tr>\n",
       "  </tbody>\n",
       "</table>\n",
       "</div>"
      ],
      "text/plain": [
       "                     date              artistName            trackName  \\\n",
       "13872 2022-10-22 15:26:00  Florence + The Machine  You've Got The Love   \n",
       "\n",
       "       msPlayed  sgPlayed  minPlayed  cal_min  \n",
       "13872    168666   168.666     2.8111     9.93  "
      ]
     },
     "execution_count": 53,
     "metadata": {},
     "output_type": "execute_result"
    }
   ],
   "source": [
    "music.loc[music['cal_min'] == music['cal_min'].max()]"
   ]
  },
  {
   "cell_type": "markdown",
   "id": "6c6d06f2",
   "metadata": {},
   "source": [
    "Florence and the machine - You've got the love es la canción que he escuchado en el momento en el que estaba quemando una mayor cantidad de calorías."
   ]
  },
  {
   "cell_type": "code",
   "execution_count": 54,
   "id": "7dbec9b0",
   "metadata": {
    "scrolled": true
   },
   "outputs": [
    {
     "data": {
      "text/html": [
       "<div>\n",
       "<style scoped>\n",
       "    .dataframe tbody tr th:only-of-type {\n",
       "        vertical-align: middle;\n",
       "    }\n",
       "\n",
       "    .dataframe tbody tr th {\n",
       "        vertical-align: top;\n",
       "    }\n",
       "\n",
       "    .dataframe thead th {\n",
       "        text-align: right;\n",
       "    }\n",
       "</style>\n",
       "<table border=\"1\" class=\"dataframe\">\n",
       "  <thead>\n",
       "    <tr style=\"text-align: right;\">\n",
       "      <th></th>\n",
       "      <th>date</th>\n",
       "      <th>artistName</th>\n",
       "      <th>trackName</th>\n",
       "      <th>msPlayed</th>\n",
       "      <th>sgPlayed</th>\n",
       "      <th>minPlayed</th>\n",
       "      <th>cal_min</th>\n",
       "    </tr>\n",
       "  </thead>\n",
       "  <tbody>\n",
       "    <tr>\n",
       "      <th>13872</th>\n",
       "      <td>2022-10-22 15:26:00</td>\n",
       "      <td>Florence + The Machine</td>\n",
       "      <td>You've Got The Love</td>\n",
       "      <td>168666</td>\n",
       "      <td>168.666</td>\n",
       "      <td>2.811100</td>\n",
       "      <td>9.93</td>\n",
       "    </tr>\n",
       "    <tr>\n",
       "      <th>13102</th>\n",
       "      <td>2022-10-03 14:44:00</td>\n",
       "      <td>Jamule</td>\n",
       "      <td>KISSENSCHLACHT</td>\n",
       "      <td>171069</td>\n",
       "      <td>171.069</td>\n",
       "      <td>2.851150</td>\n",
       "      <td>9.81</td>\n",
       "    </tr>\n",
       "    <tr>\n",
       "      <th>12822</th>\n",
       "      <td>2022-09-25 09:12:00</td>\n",
       "      <td>Rayo &amp; Toby</td>\n",
       "      <td>Ninfómana</td>\n",
       "      <td>9930</td>\n",
       "      <td>9.930</td>\n",
       "      <td>0.165500</td>\n",
       "      <td>8.88</td>\n",
       "    </tr>\n",
       "    <tr>\n",
       "      <th>13105</th>\n",
       "      <td>2022-10-03 14:51:00</td>\n",
       "      <td>Miksu / Macloud</td>\n",
       "      <td>Nachts wach (Lila Wolken Bootleg)</td>\n",
       "      <td>158080</td>\n",
       "      <td>158.080</td>\n",
       "      <td>2.634667</td>\n",
       "      <td>8.79</td>\n",
       "    </tr>\n",
       "    <tr>\n",
       "      <th>13454</th>\n",
       "      <td>2022-10-13 12:33:00</td>\n",
       "      <td>Sam Smith</td>\n",
       "      <td>Unholy (feat. Kim Petras)</td>\n",
       "      <td>156943</td>\n",
       "      <td>156.943</td>\n",
       "      <td>2.615717</td>\n",
       "      <td>8.64</td>\n",
       "    </tr>\n",
       "    <tr>\n",
       "      <th>13451</th>\n",
       "      <td>2022-10-13 12:24:00</td>\n",
       "      <td>Beyoncé</td>\n",
       "      <td>Daddy Lessons</td>\n",
       "      <td>287986</td>\n",
       "      <td>287.986</td>\n",
       "      <td>4.799767</td>\n",
       "      <td>8.55</td>\n",
       "    </tr>\n",
       "    <tr>\n",
       "      <th>14075</th>\n",
       "      <td>2022-10-24 17:59:00</td>\n",
       "      <td>Beyoncé</td>\n",
       "      <td>CUFF IT</td>\n",
       "      <td>225388</td>\n",
       "      <td>225.388</td>\n",
       "      <td>3.756467</td>\n",
       "      <td>8.52</td>\n",
       "    </tr>\n",
       "    <tr>\n",
       "      <th>13452</th>\n",
       "      <td>2022-10-13 12:26:00</td>\n",
       "      <td>Beyoncé</td>\n",
       "      <td>Yoncé - Homecoming Live</td>\n",
       "      <td>68351</td>\n",
       "      <td>68.351</td>\n",
       "      <td>1.139183</td>\n",
       "      <td>8.40</td>\n",
       "    </tr>\n",
       "    <tr>\n",
       "      <th>13453</th>\n",
       "      <td>2022-10-13 12:31:00</td>\n",
       "      <td>Beyoncé</td>\n",
       "      <td>Daddy Lessons</td>\n",
       "      <td>287986</td>\n",
       "      <td>287.986</td>\n",
       "      <td>4.799767</td>\n",
       "      <td>8.40</td>\n",
       "    </tr>\n",
       "    <tr>\n",
       "      <th>13321</th>\n",
       "      <td>2022-10-10 12:29:00</td>\n",
       "      <td>Ben Böhmer</td>\n",
       "      <td>In Memoriam - Live from Printworks London</td>\n",
       "      <td>377499</td>\n",
       "      <td>377.499</td>\n",
       "      <td>6.291650</td>\n",
       "      <td>8.22</td>\n",
       "    </tr>\n",
       "  </tbody>\n",
       "</table>\n",
       "</div>"
      ],
      "text/plain": [
       "                     date              artistName  \\\n",
       "13872 2022-10-22 15:26:00  Florence + The Machine   \n",
       "13102 2022-10-03 14:44:00                  Jamule   \n",
       "12822 2022-09-25 09:12:00             Rayo & Toby   \n",
       "13105 2022-10-03 14:51:00         Miksu / Macloud   \n",
       "13454 2022-10-13 12:33:00               Sam Smith   \n",
       "13451 2022-10-13 12:24:00                 Beyoncé   \n",
       "14075 2022-10-24 17:59:00                 Beyoncé   \n",
       "13452 2022-10-13 12:26:00                 Beyoncé   \n",
       "13453 2022-10-13 12:31:00                 Beyoncé   \n",
       "13321 2022-10-10 12:29:00              Ben Böhmer   \n",
       "\n",
       "                                       trackName  msPlayed  sgPlayed  \\\n",
       "13872                        You've Got The Love    168666   168.666   \n",
       "13102                             KISSENSCHLACHT    171069   171.069   \n",
       "12822                                  Ninfómana      9930     9.930   \n",
       "13105          Nachts wach (Lila Wolken Bootleg)    158080   158.080   \n",
       "13454                  Unholy (feat. Kim Petras)    156943   156.943   \n",
       "13451                              Daddy Lessons    287986   287.986   \n",
       "14075                                    CUFF IT    225388   225.388   \n",
       "13452                    Yoncé - Homecoming Live     68351    68.351   \n",
       "13453                              Daddy Lessons    287986   287.986   \n",
       "13321  In Memoriam - Live from Printworks London    377499   377.499   \n",
       "\n",
       "       minPlayed  cal_min  \n",
       "13872   2.811100     9.93  \n",
       "13102   2.851150     9.81  \n",
       "12822   0.165500     8.88  \n",
       "13105   2.634667     8.79  \n",
       "13454   2.615717     8.64  \n",
       "13451   4.799767     8.55  \n",
       "14075   3.756467     8.52  \n",
       "13452   1.139183     8.40  \n",
       "13453   4.799767     8.40  \n",
       "13321   6.291650     8.22  "
      ]
     },
     "execution_count": 54,
     "metadata": {},
     "output_type": "execute_result"
    }
   ],
   "source": [
    "music.sort_values(by=['cal_min'], ascending=False)[:10]"
   ]
  },
  {
   "cell_type": "code",
   "execution_count": 55,
   "id": "93ce9b4c",
   "metadata": {},
   "outputs": [
    {
     "data": {
      "text/plain": [
       "(15028, 7)"
      ]
     },
     "execution_count": 55,
     "metadata": {},
     "output_type": "execute_result"
    }
   ],
   "source": [
    "music.shape"
   ]
  },
  {
   "cell_type": "markdown",
   "id": "00c29c02",
   "metadata": {},
   "source": [
    "## Most streamed artists and calories burned"
   ]
  },
  {
   "cell_type": "code",
   "execution_count": 56,
   "id": "5f0c370d",
   "metadata": {},
   "outputs": [],
   "source": [
    "artist = music.groupby(['artistName'])['cal_min'].sum()"
   ]
  },
  {
   "cell_type": "code",
   "execution_count": 57,
   "id": "c290ebef",
   "metadata": {},
   "outputs": [],
   "source": [
    "artist = pd.DataFrame(artist)"
   ]
  },
  {
   "cell_type": "code",
   "execution_count": 58,
   "id": "92b94775",
   "metadata": {},
   "outputs": [],
   "source": [
    "artist.reset_index(drop=False, inplace=True)"
   ]
  },
  {
   "cell_type": "code",
   "execution_count": 59,
   "id": "452191d9",
   "metadata": {
    "scrolled": false
   },
   "outputs": [
    {
     "data": {
      "text/html": [
       "<div>\n",
       "<style scoped>\n",
       "    .dataframe tbody tr th:only-of-type {\n",
       "        vertical-align: middle;\n",
       "    }\n",
       "\n",
       "    .dataframe tbody tr th {\n",
       "        vertical-align: top;\n",
       "    }\n",
       "\n",
       "    .dataframe thead th {\n",
       "        text-align: right;\n",
       "    }\n",
       "</style>\n",
       "<table border=\"1\" class=\"dataframe\">\n",
       "  <thead>\n",
       "    <tr style=\"text-align: right;\">\n",
       "      <th></th>\n",
       "      <th>artistName</th>\n",
       "      <th>cal_min</th>\n",
       "    </tr>\n",
       "  </thead>\n",
       "  <tbody>\n",
       "    <tr>\n",
       "      <th>219</th>\n",
       "      <td>Bad Bunny</td>\n",
       "      <td>395.875314</td>\n",
       "    </tr>\n",
       "    <tr>\n",
       "      <th>1866</th>\n",
       "      <td>ROSALÍA</td>\n",
       "      <td>350.443970</td>\n",
       "    </tr>\n",
       "    <tr>\n",
       "      <th>1854</th>\n",
       "      <td>Quevedo</td>\n",
       "      <td>258.186482</td>\n",
       "    </tr>\n",
       "    <tr>\n",
       "      <th>274</th>\n",
       "      <td>Beyoncé</td>\n",
       "      <td>177.302282</td>\n",
       "    </tr>\n",
       "    <tr>\n",
       "      <th>2368</th>\n",
       "      <td>WILLOW</td>\n",
       "      <td>148.251626</td>\n",
       "    </tr>\n",
       "    <tr>\n",
       "      <th>1877</th>\n",
       "      <td>Rauw Alejandro</td>\n",
       "      <td>135.244929</td>\n",
       "    </tr>\n",
       "    <tr>\n",
       "      <th>190</th>\n",
       "      <td>Avril Lavigne</td>\n",
       "      <td>117.463126</td>\n",
       "    </tr>\n",
       "    <tr>\n",
       "      <th>1484</th>\n",
       "      <td>Manuel Turizo</td>\n",
       "      <td>111.631728</td>\n",
       "    </tr>\n",
       "    <tr>\n",
       "      <th>92</th>\n",
       "      <td>Alicia Keys</td>\n",
       "      <td>106.578428</td>\n",
       "    </tr>\n",
       "    <tr>\n",
       "      <th>300</th>\n",
       "      <td>Bizarrap</td>\n",
       "      <td>103.983952</td>\n",
       "    </tr>\n",
       "  </tbody>\n",
       "</table>\n",
       "</div>"
      ],
      "text/plain": [
       "          artistName     cal_min\n",
       "219        Bad Bunny  395.875314\n",
       "1866         ROSALÍA  350.443970\n",
       "1854         Quevedo  258.186482\n",
       "274          Beyoncé  177.302282\n",
       "2368          WILLOW  148.251626\n",
       "1877  Rauw Alejandro  135.244929\n",
       "190    Avril Lavigne  117.463126\n",
       "1484   Manuel Turizo  111.631728\n",
       "92       Alicia Keys  106.578428\n",
       "300         Bizarrap  103.983952"
      ]
     },
     "execution_count": 59,
     "metadata": {},
     "output_type": "execute_result"
    }
   ],
   "source": [
    "artist.sort_values(by=['cal_min'], ascending=False)[:10]"
   ]
  },
  {
   "cell_type": "markdown",
   "id": "ff979f73",
   "metadata": {},
   "source": [
    "Esta lista muestra los artistas con los que he quemado más calorías."
   ]
  },
  {
   "cell_type": "markdown",
   "id": "bf0f9c34",
   "metadata": {},
   "source": [
    "Pero... ¿serán estos los artistas con más escuchas?"
   ]
  },
  {
   "cell_type": "code",
   "execution_count": 60,
   "id": "4a2ed8ca",
   "metadata": {},
   "outputs": [],
   "source": [
    "moststreamed = music.groupby(['artistName'])['minPlayed'].sum()"
   ]
  },
  {
   "cell_type": "code",
   "execution_count": 61,
   "id": "91938c22",
   "metadata": {},
   "outputs": [],
   "source": [
    "moststreamed = pd.DataFrame(moststreamed)"
   ]
  },
  {
   "cell_type": "code",
   "execution_count": 62,
   "id": "7bfbe023",
   "metadata": {},
   "outputs": [],
   "source": [
    "moststreamed.reset_index(drop=False, inplace=True)"
   ]
  },
  {
   "cell_type": "code",
   "execution_count": 63,
   "id": "e2c80692",
   "metadata": {
    "scrolled": true
   },
   "outputs": [
    {
     "data": {
      "text/html": [
       "<div>\n",
       "<style scoped>\n",
       "    .dataframe tbody tr th:only-of-type {\n",
       "        vertical-align: middle;\n",
       "    }\n",
       "\n",
       "    .dataframe tbody tr th {\n",
       "        vertical-align: top;\n",
       "    }\n",
       "\n",
       "    .dataframe thead th {\n",
       "        text-align: right;\n",
       "    }\n",
       "</style>\n",
       "<table border=\"1\" class=\"dataframe\">\n",
       "  <thead>\n",
       "    <tr style=\"text-align: right;\">\n",
       "      <th></th>\n",
       "      <th>artistName</th>\n",
       "      <th>minPlayed</th>\n",
       "    </tr>\n",
       "  </thead>\n",
       "  <tbody>\n",
       "    <tr>\n",
       "      <th>219</th>\n",
       "      <td>Bad Bunny</td>\n",
       "      <td>1429.738850</td>\n",
       "    </tr>\n",
       "    <tr>\n",
       "      <th>2352</th>\n",
       "      <td>Viene y Va con Dani G Schulz</td>\n",
       "      <td>1057.849450</td>\n",
       "    </tr>\n",
       "    <tr>\n",
       "      <th>1866</th>\n",
       "      <td>ROSALÍA</td>\n",
       "      <td>1056.325467</td>\n",
       "    </tr>\n",
       "    <tr>\n",
       "      <th>1854</th>\n",
       "      <td>Quevedo</td>\n",
       "      <td>766.343367</td>\n",
       "    </tr>\n",
       "    <tr>\n",
       "      <th>1561</th>\n",
       "      <td>Mi Mejor Versión con Isa Garcia</td>\n",
       "      <td>616.482517</td>\n",
       "    </tr>\n",
       "    <tr>\n",
       "      <th>92</th>\n",
       "      <td>Alicia Keys</td>\n",
       "      <td>594.901383</td>\n",
       "    </tr>\n",
       "    <tr>\n",
       "      <th>775</th>\n",
       "      <td>Estas Rica</td>\n",
       "      <td>556.932400</td>\n",
       "    </tr>\n",
       "    <tr>\n",
       "      <th>1877</th>\n",
       "      <td>Rauw Alejandro</td>\n",
       "      <td>552.405783</td>\n",
       "    </tr>\n",
       "    <tr>\n",
       "      <th>827</th>\n",
       "      <td>Fitness Stuff (for normal people)</td>\n",
       "      <td>478.182717</td>\n",
       "    </tr>\n",
       "    <tr>\n",
       "      <th>1073</th>\n",
       "      <td>Jazz Relajante</td>\n",
       "      <td>471.831100</td>\n",
       "    </tr>\n",
       "  </tbody>\n",
       "</table>\n",
       "</div>"
      ],
      "text/plain": [
       "                             artistName    minPlayed\n",
       "219                           Bad Bunny  1429.738850\n",
       "2352       Viene y Va con Dani G Schulz  1057.849450\n",
       "1866                            ROSALÍA  1056.325467\n",
       "1854                            Quevedo   766.343367\n",
       "1561    Mi Mejor Versión con Isa Garcia   616.482517\n",
       "92                          Alicia Keys   594.901383\n",
       "775                          Estas Rica   556.932400\n",
       "1877                     Rauw Alejandro   552.405783\n",
       "827   Fitness Stuff (for normal people)   478.182717\n",
       "1073                     Jazz Relajante   471.831100"
      ]
     },
     "execution_count": 63,
     "metadata": {},
     "output_type": "execute_result"
    }
   ],
   "source": [
    "moststreamed.sort_values(by=['minPlayed'], ascending=False)[:10]"
   ]
  },
  {
   "cell_type": "code",
   "execution_count": 64,
   "id": "6ef39a20",
   "metadata": {},
   "outputs": [],
   "source": [
    "mostS = moststreamed.sort_values(by=['minPlayed'], ascending=False)[:10]"
   ]
  },
  {
   "cell_type": "code",
   "execution_count": 65,
   "id": "e55b4ae8",
   "metadata": {
    "scrolled": true
   },
   "outputs": [],
   "source": [
    "mostS = list(mostS.artistName)"
   ]
  },
  {
   "cell_type": "code",
   "execution_count": 66,
   "id": "7386fa46",
   "metadata": {},
   "outputs": [],
   "source": [
    "mostC = artist.sort_values(by=['cal_min'], ascending=False)[:10]"
   ]
  },
  {
   "cell_type": "code",
   "execution_count": 67,
   "id": "7245cbe9",
   "metadata": {},
   "outputs": [],
   "source": [
    "mostC = list(mostC.artistName)"
   ]
  },
  {
   "cell_type": "code",
   "execution_count": 68,
   "id": "924ba644",
   "metadata": {},
   "outputs": [],
   "source": [
    "counterA = Counter(mostS)\n",
    "counterB = Counter(mostC)"
   ]
  },
  {
   "cell_type": "code",
   "execution_count": 69,
   "id": "c17b6d50",
   "metadata": {},
   "outputs": [],
   "source": [
    "def counter_cosine_similarity(c1, c2):\n",
    "    terms = set(c1).union(c2)\n",
    "    dotprod = sum(c1.get(k, 0) * c2.get(k, 0) for k in terms)\n",
    "    magA = math.sqrt(sum(c1.get(k, 0)**2 for k in terms))\n",
    "    magB = math.sqrt(sum(c2.get(k, 0)**2 for k in terms))\n",
    "    return dotprod / (magA * magB)"
   ]
  },
  {
   "cell_type": "code",
   "execution_count": 70,
   "id": "36d4a8f5",
   "metadata": {},
   "outputs": [
    {
     "data": {
      "text/plain": [
       "0.4999999999999999"
      ]
     },
     "execution_count": 70,
     "metadata": {},
     "output_type": "execute_result"
    }
   ],
   "source": [
    "counter_cosine_similarity(counterA, counterB)"
   ]
  },
  {
   "cell_type": "markdown",
   "id": "ecebd375",
   "metadata": {},
   "source": [
    "Como se puede observar, hay menos del 50% de similaridad entre la lista de artistas más escuchados por el usuario y aquellos artistas con los que quema más calorías, por lo que podemos mantener la hipótesis de que estos artistas prefiere escucharlos cuando entrena o realiza actividad física."
   ]
  },
  {
   "cell_type": "markdown",
   "id": "61d423a6",
   "metadata": {},
   "source": [
    "## Most streamed tracks and calories burned"
   ]
  },
  {
   "cell_type": "code",
   "execution_count": 71,
   "id": "88141512",
   "metadata": {},
   "outputs": [],
   "source": [
    "track = music.groupby(['trackName'])['cal_min'].sum()"
   ]
  },
  {
   "cell_type": "code",
   "execution_count": 72,
   "id": "8e2501b4",
   "metadata": {},
   "outputs": [],
   "source": [
    "track = pd.DataFrame(track)"
   ]
  },
  {
   "cell_type": "code",
   "execution_count": 73,
   "id": "f38a9852",
   "metadata": {},
   "outputs": [],
   "source": [
    "track.reset_index(drop=False, inplace=True)"
   ]
  },
  {
   "cell_type": "code",
   "execution_count": 74,
   "id": "b8f1a860",
   "metadata": {},
   "outputs": [
    {
     "data": {
      "text/html": [
       "<div>\n",
       "<style scoped>\n",
       "    .dataframe tbody tr th:only-of-type {\n",
       "        vertical-align: middle;\n",
       "    }\n",
       "\n",
       "    .dataframe tbody tr th {\n",
       "        vertical-align: top;\n",
       "    }\n",
       "\n",
       "    .dataframe thead th {\n",
       "        text-align: right;\n",
       "    }\n",
       "</style>\n",
       "<table border=\"1\" class=\"dataframe\">\n",
       "  <thead>\n",
       "    <tr style=\"text-align: right;\">\n",
       "      <th></th>\n",
       "      <th>trackName</th>\n",
       "      <th>cal_min</th>\n",
       "    </tr>\n",
       "  </thead>\n",
       "  <tbody>\n",
       "    <tr>\n",
       "      <th>2531</th>\n",
       "      <td>La Bachata</td>\n",
       "      <td>94.367196</td>\n",
       "    </tr>\n",
       "    <tr>\n",
       "      <th>3732</th>\n",
       "      <td>Piel de Cordero</td>\n",
       "      <td>59.640876</td>\n",
       "    </tr>\n",
       "    <tr>\n",
       "      <th>5182</th>\n",
       "      <td>Wait a Minute!</td>\n",
       "      <td>51.061894</td>\n",
       "    </tr>\n",
       "    <tr>\n",
       "      <th>5593</th>\n",
       "      <td>hover like a GODDESS</td>\n",
       "      <td>50.335614</td>\n",
       "    </tr>\n",
       "    <tr>\n",
       "      <th>879</th>\n",
       "      <td>Cayó La Noche (feat. Cruz Cafuné, Abhir Hathi,...</td>\n",
       "      <td>48.057017</td>\n",
       "    </tr>\n",
       "    <tr>\n",
       "      <th>3481</th>\n",
       "      <td>Ojitos Lindos</td>\n",
       "      <td>47.935293</td>\n",
       "    </tr>\n",
       "    <tr>\n",
       "      <th>1145</th>\n",
       "      <td>Daddy Lessons</td>\n",
       "      <td>45.052125</td>\n",
       "    </tr>\n",
       "    <tr>\n",
       "      <th>1129</th>\n",
       "      <td>DESPECHÁ</td>\n",
       "      <td>43.410375</td>\n",
       "    </tr>\n",
       "    <tr>\n",
       "      <th>2241</th>\n",
       "      <td>I'm Good (Blue)</td>\n",
       "      <td>40.961847</td>\n",
       "    </tr>\n",
       "    <tr>\n",
       "      <th>2508</th>\n",
       "      <td>LA COMBI VERSACE</td>\n",
       "      <td>40.904029</td>\n",
       "    </tr>\n",
       "  </tbody>\n",
       "</table>\n",
       "</div>"
      ],
      "text/plain": [
       "                                              trackName    cal_min\n",
       "2531                                         La Bachata  94.367196\n",
       "3732                                    Piel de Cordero  59.640876\n",
       "5182                                     Wait a Minute!  51.061894\n",
       "5593                               hover like a GODDESS  50.335614\n",
       "879   Cayó La Noche (feat. Cruz Cafuné, Abhir Hathi,...  48.057017\n",
       "3481                                      Ojitos Lindos  47.935293\n",
       "1145                                      Daddy Lessons  45.052125\n",
       "1129                                           DESPECHÁ  43.410375\n",
       "2241                                    I'm Good (Blue)  40.961847\n",
       "2508                                   LA COMBI VERSACE  40.904029"
      ]
     },
     "execution_count": 74,
     "metadata": {},
     "output_type": "execute_result"
    }
   ],
   "source": [
    "track.sort_values(by=['cal_min'], ascending=False)[:10]"
   ]
  },
  {
   "cell_type": "markdown",
   "id": "f4474db7",
   "metadata": {},
   "source": [
    "Esta lista muestra las canciones con los que he quemado más calorías. Pero... ¿serán estas las canciones con más escuchas?"
   ]
  },
  {
   "cell_type": "code",
   "execution_count": 75,
   "id": "f6697ffa",
   "metadata": {},
   "outputs": [],
   "source": [
    "trackmoststreamed = music.groupby(['trackName'])['minPlayed'].sum()"
   ]
  },
  {
   "cell_type": "code",
   "execution_count": 76,
   "id": "8083ec9d",
   "metadata": {},
   "outputs": [],
   "source": [
    "trackmoststreamed = pd.DataFrame(trackmoststreamed)"
   ]
  },
  {
   "cell_type": "code",
   "execution_count": 77,
   "id": "07e3549e",
   "metadata": {},
   "outputs": [],
   "source": [
    "trackmoststreamed.reset_index(drop=False, inplace=True)"
   ]
  },
  {
   "cell_type": "code",
   "execution_count": 78,
   "id": "ab2f6b23",
   "metadata": {
    "scrolled": true
   },
   "outputs": [
    {
     "data": {
      "text/html": [
       "<div>\n",
       "<style scoped>\n",
       "    .dataframe tbody tr th:only-of-type {\n",
       "        vertical-align: middle;\n",
       "    }\n",
       "\n",
       "    .dataframe tbody tr th {\n",
       "        vertical-align: top;\n",
       "    }\n",
       "\n",
       "    .dataframe thead th {\n",
       "        text-align: right;\n",
       "    }\n",
       "</style>\n",
       "<table border=\"1\" class=\"dataframe\">\n",
       "  <thead>\n",
       "    <tr style=\"text-align: right;\">\n",
       "      <th></th>\n",
       "      <th>trackName</th>\n",
       "      <th>minPlayed</th>\n",
       "    </tr>\n",
       "  </thead>\n",
       "  <tbody>\n",
       "    <tr>\n",
       "      <th>879</th>\n",
       "      <td>Cayó La Noche (feat. Cruz Cafuné, Abhir Hathi,...</td>\n",
       "      <td>398.207183</td>\n",
       "    </tr>\n",
       "    <tr>\n",
       "      <th>3732</th>\n",
       "      <td>Piel de Cordero</td>\n",
       "      <td>223.503667</td>\n",
       "    </tr>\n",
       "    <tr>\n",
       "      <th>3481</th>\n",
       "      <td>Ojitos Lindos</td>\n",
       "      <td>208.195033</td>\n",
       "    </tr>\n",
       "    <tr>\n",
       "      <th>8</th>\n",
       "      <td>#55 Cómo cambiar hábitos con gracia</td>\n",
       "      <td>166.790783</td>\n",
       "    </tr>\n",
       "    <tr>\n",
       "      <th>3411</th>\n",
       "      <td>Nostálgico</td>\n",
       "      <td>152.148300</td>\n",
       "    </tr>\n",
       "    <tr>\n",
       "      <th>1534</th>\n",
       "      <td>Ep 24 / How Much Protein You Need to Lose Fat,...</td>\n",
       "      <td>147.602967</td>\n",
       "    </tr>\n",
       "    <tr>\n",
       "      <th>2531</th>\n",
       "      <td>La Bachata</td>\n",
       "      <td>136.581300</td>\n",
       "    </tr>\n",
       "    <tr>\n",
       "      <th>5151</th>\n",
       "      <td>Volando - Remix</td>\n",
       "      <td>119.104567</td>\n",
       "    </tr>\n",
       "    <tr>\n",
       "      <th>3066</th>\n",
       "      <td>Mi Luz (ft. Rels B)</td>\n",
       "      <td>118.128300</td>\n",
       "    </tr>\n",
       "    <tr>\n",
       "      <th>1776</th>\n",
       "      <td>Formentera</td>\n",
       "      <td>109.635967</td>\n",
       "    </tr>\n",
       "  </tbody>\n",
       "</table>\n",
       "</div>"
      ],
      "text/plain": [
       "                                              trackName   minPlayed\n",
       "879   Cayó La Noche (feat. Cruz Cafuné, Abhir Hathi,...  398.207183\n",
       "3732                                    Piel de Cordero  223.503667\n",
       "3481                                      Ojitos Lindos  208.195033\n",
       "8                   #55 Cómo cambiar hábitos con gracia  166.790783\n",
       "3411                                         Nostálgico  152.148300\n",
       "1534  Ep 24 / How Much Protein You Need to Lose Fat,...  147.602967\n",
       "2531                                         La Bachata  136.581300\n",
       "5151                                    Volando - Remix  119.104567\n",
       "3066                                Mi Luz (ft. Rels B)  118.128300\n",
       "1776                                         Formentera  109.635967"
      ]
     },
     "execution_count": 78,
     "metadata": {},
     "output_type": "execute_result"
    }
   ],
   "source": [
    "trackmoststreamed.sort_values(by=['minPlayed'], ascending=False)[:10]"
   ]
  },
  {
   "cell_type": "code",
   "execution_count": 79,
   "id": "3f26b6f0",
   "metadata": {},
   "outputs": [],
   "source": [
    "mostS = trackmoststreamed.sort_values(by=['minPlayed'], ascending=False)[:10]"
   ]
  },
  {
   "cell_type": "code",
   "execution_count": 80,
   "id": "19b031a8",
   "metadata": {
    "scrolled": true
   },
   "outputs": [],
   "source": [
    "mostS = list(mostS.trackName)"
   ]
  },
  {
   "cell_type": "code",
   "execution_count": 81,
   "id": "09ccb16e",
   "metadata": {},
   "outputs": [],
   "source": [
    "mostC = track.sort_values(by=['cal_min'], ascending=False)[:10]"
   ]
  },
  {
   "cell_type": "code",
   "execution_count": 82,
   "id": "8270b9bf",
   "metadata": {},
   "outputs": [],
   "source": [
    "mostC = list(mostC.trackName)"
   ]
  },
  {
   "cell_type": "code",
   "execution_count": 83,
   "id": "26481c52",
   "metadata": {},
   "outputs": [],
   "source": [
    "counterC = Counter(mostS)\n",
    "counterD = Counter(mostC)"
   ]
  },
  {
   "cell_type": "code",
   "execution_count": 84,
   "id": "3f3121e7",
   "metadata": {},
   "outputs": [
    {
     "data": {
      "text/plain": [
       "0.3999999999999999"
      ]
     },
     "execution_count": 84,
     "metadata": {},
     "output_type": "execute_result"
    }
   ],
   "source": [
    "counter_cosine_similarity(counterC, counterD)"
   ]
  },
  {
   "cell_type": "markdown",
   "id": "ba93dae9",
   "metadata": {},
   "source": [
    "Como se puede observar, hay menos del 20% de similaridad entre la lista de canciones más escuchados por el usuario y aquellas canciones con las que quema más calorías, por lo que podemos mantener la hipótesis de que estas canciones prefiere escucharlas cuando entrena o realiza actividad física."
   ]
  },
  {
   "cell_type": "markdown",
   "id": "661f46b4",
   "metadata": {},
   "source": [
    "## Próximos pasos"
   ]
  },
  {
   "cell_type": "markdown",
   "id": "284b848f",
   "metadata": {},
   "source": [
    "- testeo de hipótesis\n",
    "- información de kaggle (genero + danceability + energy + loudness + speechiness)\n",
    "- scrappeo shazam (género)\n",
    "- API spotipy (¿puedo sacar ccas de la cancion y género?) - vamos a hacer esto\n",
    "\n",
    "Más datos:\n",
    "- Información de heart rate\n",
    "- Información de entrenamientos"
   ]
  },
  {
   "cell_type": "code",
   "execution_count": 76,
   "id": "74836a95",
   "metadata": {
    "scrolled": true
   },
   "outputs": [
    {
     "name": "stderr",
     "output_type": "stream",
     "text": [
      "/var/folders/s4/79ykyqjn7f16bdl_zqjgsbzh0000gp/T/ipykernel_5011/826925066.py:1: DtypeWarning: Columns (1) have mixed types. Specify dtype option on import or set low_memory=False.\n",
      "  heart_ori = pd.read_csv('../../proyecto_final/data/apple_health_export/HeartRate.csv')\n"
     ]
    }
   ],
   "source": [
    "heart_ori = pd.read_csv('../../proyecto_final/data/apple_health_export/HeartRate.csv')"
   ]
  },
  {
   "cell_type": "code",
   "execution_count": 77,
   "id": "33d46781",
   "metadata": {},
   "outputs": [],
   "source": [
    "heart = heart_ori.copy()"
   ]
  },
  {
   "cell_type": "code",
   "execution_count": 78,
   "id": "8abddd18",
   "metadata": {},
   "outputs": [
    {
     "data": {
      "text/html": [
       "<div>\n",
       "<style scoped>\n",
       "    .dataframe tbody tr th:only-of-type {\n",
       "        vertical-align: middle;\n",
       "    }\n",
       "\n",
       "    .dataframe tbody tr th {\n",
       "        vertical-align: top;\n",
       "    }\n",
       "\n",
       "    .dataframe thead th {\n",
       "        text-align: right;\n",
       "    }\n",
       "</style>\n",
       "<table border=\"1\" class=\"dataframe\">\n",
       "  <thead>\n",
       "    <tr style=\"text-align: right;\">\n",
       "      <th></th>\n",
       "      <th>sourceName</th>\n",
       "      <th>sourceVersion</th>\n",
       "      <th>device</th>\n",
       "      <th>type</th>\n",
       "      <th>unit</th>\n",
       "      <th>creationDate</th>\n",
       "      <th>startDate</th>\n",
       "      <th>endDate</th>\n",
       "      <th>value</th>\n",
       "    </tr>\n",
       "  </thead>\n",
       "  <tbody>\n",
       "    <tr>\n",
       "      <th>0</th>\n",
       "      <td>Zepp Life</td>\n",
       "      <td>202010291402.0</td>\n",
       "      <td>NaN</td>\n",
       "      <td>HeartRate</td>\n",
       "      <td>count/min</td>\n",
       "      <td>2020-11-05 19:18:44 +0100</td>\n",
       "      <td>2020-11-03 00:00:00 +0100</td>\n",
       "      <td>2020-11-03 00:00:59 +0100</td>\n",
       "      <td>73.0</td>\n",
       "    </tr>\n",
       "    <tr>\n",
       "      <th>1</th>\n",
       "      <td>Zepp Life</td>\n",
       "      <td>202010291402.0</td>\n",
       "      <td>NaN</td>\n",
       "      <td>HeartRate</td>\n",
       "      <td>count/min</td>\n",
       "      <td>2020-11-05 19:18:44 +0100</td>\n",
       "      <td>2020-11-03 00:01:00 +0100</td>\n",
       "      <td>2020-11-03 00:01:59 +0100</td>\n",
       "      <td>69.0</td>\n",
       "    </tr>\n",
       "    <tr>\n",
       "      <th>2</th>\n",
       "      <td>Zepp Life</td>\n",
       "      <td>202010291402.0</td>\n",
       "      <td>NaN</td>\n",
       "      <td>HeartRate</td>\n",
       "      <td>count/min</td>\n",
       "      <td>2020-11-05 19:18:44 +0100</td>\n",
       "      <td>2020-11-03 00:02:00 +0100</td>\n",
       "      <td>2020-11-03 00:02:59 +0100</td>\n",
       "      <td>69.0</td>\n",
       "    </tr>\n",
       "    <tr>\n",
       "      <th>3</th>\n",
       "      <td>Zepp Life</td>\n",
       "      <td>202010291402.0</td>\n",
       "      <td>NaN</td>\n",
       "      <td>HeartRate</td>\n",
       "      <td>count/min</td>\n",
       "      <td>2020-11-05 19:18:44 +0100</td>\n",
       "      <td>2020-11-03 00:03:00 +0100</td>\n",
       "      <td>2020-11-03 00:03:59 +0100</td>\n",
       "      <td>70.0</td>\n",
       "    </tr>\n",
       "    <tr>\n",
       "      <th>4</th>\n",
       "      <td>Zepp Life</td>\n",
       "      <td>202010291402.0</td>\n",
       "      <td>NaN</td>\n",
       "      <td>HeartRate</td>\n",
       "      <td>count/min</td>\n",
       "      <td>2020-11-05 19:18:44 +0100</td>\n",
       "      <td>2020-11-03 00:04:00 +0100</td>\n",
       "      <td>2020-11-03 00:04:59 +0100</td>\n",
       "      <td>70.0</td>\n",
       "    </tr>\n",
       "  </tbody>\n",
       "</table>\n",
       "</div>"
      ],
      "text/plain": [
       "  sourceName   sourceVersion device       type       unit  \\\n",
       "0  Zepp Life  202010291402.0    NaN  HeartRate  count/min   \n",
       "1  Zepp Life  202010291402.0    NaN  HeartRate  count/min   \n",
       "2  Zepp Life  202010291402.0    NaN  HeartRate  count/min   \n",
       "3  Zepp Life  202010291402.0    NaN  HeartRate  count/min   \n",
       "4  Zepp Life  202010291402.0    NaN  HeartRate  count/min   \n",
       "\n",
       "                creationDate                  startDate  \\\n",
       "0  2020-11-05 19:18:44 +0100  2020-11-03 00:00:00 +0100   \n",
       "1  2020-11-05 19:18:44 +0100  2020-11-03 00:01:00 +0100   \n",
       "2  2020-11-05 19:18:44 +0100  2020-11-03 00:02:00 +0100   \n",
       "3  2020-11-05 19:18:44 +0100  2020-11-03 00:03:00 +0100   \n",
       "4  2020-11-05 19:18:44 +0100  2020-11-03 00:04:00 +0100   \n",
       "\n",
       "                     endDate  value  \n",
       "0  2020-11-03 00:00:59 +0100   73.0  \n",
       "1  2020-11-03 00:01:59 +0100   69.0  \n",
       "2  2020-11-03 00:02:59 +0100   69.0  \n",
       "3  2020-11-03 00:03:59 +0100   70.0  \n",
       "4  2020-11-03 00:04:59 +0100   70.0  "
      ]
     },
     "execution_count": 78,
     "metadata": {},
     "output_type": "execute_result"
    }
   ],
   "source": [
    "heart.head()"
   ]
  },
  {
   "cell_type": "code",
   "execution_count": 79,
   "id": "18e327e3",
   "metadata": {},
   "outputs": [],
   "source": [
    "heart.rename(columns={'value': 'count_min'}, inplace=True)"
   ]
  },
  {
   "cell_type": "code",
   "execution_count": 80,
   "id": "1ae11114",
   "metadata": {},
   "outputs": [],
   "source": [
    "heart = heart.drop(columns=['sourceName','sourceVersion','device','type','unit','creationDate'])"
   ]
  },
  {
   "cell_type": "code",
   "execution_count": 81,
   "id": "1016b3a6",
   "metadata": {},
   "outputs": [
    {
     "data": {
      "text/html": [
       "<div>\n",
       "<style scoped>\n",
       "    .dataframe tbody tr th:only-of-type {\n",
       "        vertical-align: middle;\n",
       "    }\n",
       "\n",
       "    .dataframe tbody tr th {\n",
       "        vertical-align: top;\n",
       "    }\n",
       "\n",
       "    .dataframe thead th {\n",
       "        text-align: right;\n",
       "    }\n",
       "</style>\n",
       "<table border=\"1\" class=\"dataframe\">\n",
       "  <thead>\n",
       "    <tr style=\"text-align: right;\">\n",
       "      <th></th>\n",
       "      <th>startDate</th>\n",
       "      <th>endDate</th>\n",
       "      <th>count_min</th>\n",
       "    </tr>\n",
       "  </thead>\n",
       "  <tbody>\n",
       "    <tr>\n",
       "      <th>542423</th>\n",
       "      <td>2022-11-11 09:19:33 +0100</td>\n",
       "      <td>2022-11-11 09:19:33 +0100</td>\n",
       "      <td>116.0</td>\n",
       "    </tr>\n",
       "    <tr>\n",
       "      <th>542424</th>\n",
       "      <td>2022-11-11 09:20:10 +0100</td>\n",
       "      <td>2022-11-11 09:20:10 +0100</td>\n",
       "      <td>102.0</td>\n",
       "    </tr>\n",
       "    <tr>\n",
       "      <th>542425</th>\n",
       "      <td>2022-11-11 09:20:17 +0100</td>\n",
       "      <td>2022-11-11 09:20:17 +0100</td>\n",
       "      <td>110.0</td>\n",
       "    </tr>\n",
       "    <tr>\n",
       "      <th>542426</th>\n",
       "      <td>2022-11-11 09:20:18 +0100</td>\n",
       "      <td>2022-11-11 09:20:18 +0100</td>\n",
       "      <td>108.0</td>\n",
       "    </tr>\n",
       "    <tr>\n",
       "      <th>542427</th>\n",
       "      <td>2022-11-11 09:20:27 +0100</td>\n",
       "      <td>2022-11-11 09:20:27 +0100</td>\n",
       "      <td>96.0</td>\n",
       "    </tr>\n",
       "  </tbody>\n",
       "</table>\n",
       "</div>"
      ],
      "text/plain": [
       "                        startDate                    endDate  count_min\n",
       "542423  2022-11-11 09:19:33 +0100  2022-11-11 09:19:33 +0100      116.0\n",
       "542424  2022-11-11 09:20:10 +0100  2022-11-11 09:20:10 +0100      102.0\n",
       "542425  2022-11-11 09:20:17 +0100  2022-11-11 09:20:17 +0100      110.0\n",
       "542426  2022-11-11 09:20:18 +0100  2022-11-11 09:20:18 +0100      108.0\n",
       "542427  2022-11-11 09:20:27 +0100  2022-11-11 09:20:27 +0100       96.0"
      ]
     },
     "execution_count": 81,
     "metadata": {},
     "output_type": "execute_result"
    }
   ],
   "source": [
    "heart.tail()"
   ]
  },
  {
   "cell_type": "code",
   "execution_count": 82,
   "id": "62744a43",
   "metadata": {},
   "outputs": [],
   "source": [
    "heart = heart.astype({'startDate': 'datetime64[ns]', 'endDate':'datetime64[ns]'})"
   ]
  },
  {
   "cell_type": "code",
   "execution_count": 83,
   "id": "9a009cd1",
   "metadata": {},
   "outputs": [],
   "source": [
    "heart['diff'] = heart['endDate']-heart['startDate']"
   ]
  },
  {
   "cell_type": "code",
   "execution_count": 84,
   "id": "351a7cf0",
   "metadata": {},
   "outputs": [
    {
     "data": {
      "text/html": [
       "<div>\n",
       "<style scoped>\n",
       "    .dataframe tbody tr th:only-of-type {\n",
       "        vertical-align: middle;\n",
       "    }\n",
       "\n",
       "    .dataframe tbody tr th {\n",
       "        vertical-align: top;\n",
       "    }\n",
       "\n",
       "    .dataframe thead th {\n",
       "        text-align: right;\n",
       "    }\n",
       "</style>\n",
       "<table border=\"1\" class=\"dataframe\">\n",
       "  <thead>\n",
       "    <tr style=\"text-align: right;\">\n",
       "      <th></th>\n",
       "      <th>startDate</th>\n",
       "      <th>endDate</th>\n",
       "      <th>count_min</th>\n",
       "      <th>diff</th>\n",
       "    </tr>\n",
       "  </thead>\n",
       "  <tbody>\n",
       "    <tr>\n",
       "      <th>463982</th>\n",
       "      <td>2022-01-06 10:03:27</td>\n",
       "      <td>2022-01-06 10:41:19</td>\n",
       "      <td>121.4450</td>\n",
       "      <td>0 days 00:37:52</td>\n",
       "    </tr>\n",
       "    <tr>\n",
       "      <th>473596</th>\n",
       "      <td>2022-02-21 16:49:06</td>\n",
       "      <td>2022-02-21 17:16:37</td>\n",
       "      <td>109.0740</td>\n",
       "      <td>0 days 00:27:31</td>\n",
       "    </tr>\n",
       "    <tr>\n",
       "      <th>463118</th>\n",
       "      <td>2022-01-04 13:31:39</td>\n",
       "      <td>2022-01-04 13:57:36</td>\n",
       "      <td>115.1870</td>\n",
       "      <td>0 days 00:25:57</td>\n",
       "    </tr>\n",
       "    <tr>\n",
       "      <th>463114</th>\n",
       "      <td>2022-01-04 12:20:10</td>\n",
       "      <td>2022-01-04 12:45:24</td>\n",
       "      <td>116.8250</td>\n",
       "      <td>0 days 00:25:14</td>\n",
       "    </tr>\n",
       "    <tr>\n",
       "      <th>497955</th>\n",
       "      <td>2022-04-25 18:45:51</td>\n",
       "      <td>2022-04-25 19:10:21</td>\n",
       "      <td>97.5628</td>\n",
       "      <td>0 days 00:24:30</td>\n",
       "    </tr>\n",
       "  </tbody>\n",
       "</table>\n",
       "</div>"
      ],
      "text/plain": [
       "                 startDate             endDate  count_min            diff\n",
       "463982 2022-01-06 10:03:27 2022-01-06 10:41:19   121.4450 0 days 00:37:52\n",
       "473596 2022-02-21 16:49:06 2022-02-21 17:16:37   109.0740 0 days 00:27:31\n",
       "463118 2022-01-04 13:31:39 2022-01-04 13:57:36   115.1870 0 days 00:25:57\n",
       "463114 2022-01-04 12:20:10 2022-01-04 12:45:24   116.8250 0 days 00:25:14\n",
       "497955 2022-04-25 18:45:51 2022-04-25 19:10:21    97.5628 0 days 00:24:30"
      ]
     },
     "execution_count": 84,
     "metadata": {},
     "output_type": "execute_result"
    }
   ],
   "source": [
    "heart.sort_values(['diff'], ascending=False)[:5]"
   ]
  },
  {
   "cell_type": "code",
   "execution_count": 85,
   "id": "9178f214",
   "metadata": {},
   "outputs": [
    {
     "name": "stdout",
     "output_type": "stream",
     "text": [
      "<class 'pandas.core.frame.DataFrame'>\n",
      "RangeIndex: 542428 entries, 0 to 542427\n",
      "Data columns (total 4 columns):\n",
      " #   Column     Non-Null Count   Dtype          \n",
      "---  ------     --------------   -----          \n",
      " 0   startDate  542428 non-null  datetime64[ns] \n",
      " 1   endDate    542428 non-null  datetime64[ns] \n",
      " 2   count_min  542428 non-null  float64        \n",
      " 3   diff       542428 non-null  timedelta64[ns]\n",
      "dtypes: datetime64[ns](2), float64(1), timedelta64[ns](1)\n",
      "memory usage: 16.6 MB\n"
     ]
    }
   ],
   "source": [
    "heart.info()"
   ]
  },
  {
   "cell_type": "code",
   "execution_count": 86,
   "id": "fa84ea10",
   "metadata": {},
   "outputs": [
    {
     "data": {
      "text/plain": [
       "(542428, 4)"
      ]
     },
     "execution_count": 86,
     "metadata": {},
     "output_type": "execute_result"
    }
   ],
   "source": [
    "heart.shape"
   ]
  },
  {
   "cell_type": "code",
   "execution_count": 153,
   "id": "9492bd29",
   "metadata": {},
   "outputs": [
    {
     "data": {
      "text/html": [
       "<div>\n",
       "<style scoped>\n",
       "    .dataframe tbody tr th:only-of-type {\n",
       "        vertical-align: middle;\n",
       "    }\n",
       "\n",
       "    .dataframe tbody tr th {\n",
       "        vertical-align: top;\n",
       "    }\n",
       "\n",
       "    .dataframe thead th {\n",
       "        text-align: right;\n",
       "    }\n",
       "</style>\n",
       "<table border=\"1\" class=\"dataframe\">\n",
       "  <thead>\n",
       "    <tr style=\"text-align: right;\">\n",
       "      <th></th>\n",
       "      <th>count_min</th>\n",
       "    </tr>\n",
       "    <tr>\n",
       "      <th>date</th>\n",
       "      <th></th>\n",
       "    </tr>\n",
       "  </thead>\n",
       "  <tbody>\n",
       "    <tr>\n",
       "      <th>2022-11-11 08:19:33</th>\n",
       "      <td>116.0</td>\n",
       "    </tr>\n",
       "    <tr>\n",
       "      <th>2022-11-11 08:20:10</th>\n",
       "      <td>102.0</td>\n",
       "    </tr>\n",
       "    <tr>\n",
       "      <th>2022-11-11 08:20:17</th>\n",
       "      <td>110.0</td>\n",
       "    </tr>\n",
       "    <tr>\n",
       "      <th>2022-11-11 08:20:18</th>\n",
       "      <td>108.0</td>\n",
       "    </tr>\n",
       "    <tr>\n",
       "      <th>2022-11-11 08:20:27</th>\n",
       "      <td>96.0</td>\n",
       "    </tr>\n",
       "  </tbody>\n",
       "</table>\n",
       "</div>"
      ],
      "text/plain": [
       "                     count_min\n",
       "date                          \n",
       "2022-11-11 08:19:33      116.0\n",
       "2022-11-11 08:20:10      102.0\n",
       "2022-11-11 08:20:17      110.0\n",
       "2022-11-11 08:20:18      108.0\n",
       "2022-11-11 08:20:27       96.0"
      ]
     },
     "execution_count": 153,
     "metadata": {},
     "output_type": "execute_result"
    }
   ],
   "source": [
    "heart.tail()"
   ]
  },
  {
   "cell_type": "code",
   "execution_count": 155,
   "id": "ad3f2d9a",
   "metadata": {},
   "outputs": [],
   "source": [
    "l = pd.date_range(start='2020-11-02 23:00:00', end='2022-11-11 08:20:00', freq='1min').strftime('%Y-%m-%d %H:%M')"
   ]
  },
  {
   "cell_type": "code",
   "execution_count": 157,
   "id": "c8c77d6e",
   "metadata": {},
   "outputs": [],
   "source": [
    "l = pd.DataFrame(l)"
   ]
  },
  {
   "cell_type": "code",
   "execution_count": 165,
   "id": "4a5c9794",
   "metadata": {},
   "outputs": [],
   "source": [
    "l.rename(columns={0:'date'}, inplace=True)"
   ]
  },
  {
   "cell_type": "code",
   "execution_count": 168,
   "id": "1e9f7ce4",
   "metadata": {},
   "outputs": [],
   "source": [
    "l= l.astype({'date':'datetime64[ns]'})"
   ]
  },
  {
   "cell_type": "code",
   "execution_count": 170,
   "id": "d528e397",
   "metadata": {},
   "outputs": [],
   "source": [
    "l = l.merge(heart, on='date', how='left')"
   ]
  },
  {
   "cell_type": "code",
   "execution_count": 173,
   "id": "e153b9ae",
   "metadata": {},
   "outputs": [],
   "source": [
    "l.count_min.ffill(inplace=True)"
   ]
  },
  {
   "cell_type": "code",
   "execution_count": 174,
   "id": "28a66eb2",
   "metadata": {},
   "outputs": [
    {
     "data": {
      "text/plain": [
       "Series([], dtype: int64)"
      ]
     },
     "execution_count": 174,
     "metadata": {},
     "output_type": "execute_result"
    }
   ],
   "source": [
    "nan_cols=l.isna().sum()\n",
    "nan_cols[nan_cols>0]"
   ]
  },
  {
   "cell_type": "code",
   "execution_count": 175,
   "id": "f7befa35",
   "metadata": {},
   "outputs": [],
   "source": [
    "data = pd.read_csv('../../proyecto_final/data/clean_data/usermusic&usercal.csv')"
   ]
  },
  {
   "cell_type": "code",
   "execution_count": 176,
   "id": "37ad8a82",
   "metadata": {},
   "outputs": [
    {
     "data": {
      "text/plain": [
       "(15028, 7)"
      ]
     },
     "execution_count": 176,
     "metadata": {},
     "output_type": "execute_result"
    }
   ],
   "source": [
    "data.shape"
   ]
  },
  {
   "cell_type": "code",
   "execution_count": 177,
   "id": "f0f26d40",
   "metadata": {
    "scrolled": true
   },
   "outputs": [
    {
     "data": {
      "text/html": [
       "<div>\n",
       "<style scoped>\n",
       "    .dataframe tbody tr th:only-of-type {\n",
       "        vertical-align: middle;\n",
       "    }\n",
       "\n",
       "    .dataframe tbody tr th {\n",
       "        vertical-align: top;\n",
       "    }\n",
       "\n",
       "    .dataframe thead th {\n",
       "        text-align: right;\n",
       "    }\n",
       "</style>\n",
       "<table border=\"1\" class=\"dataframe\">\n",
       "  <thead>\n",
       "    <tr style=\"text-align: right;\">\n",
       "      <th></th>\n",
       "      <th>date</th>\n",
       "      <th>artistName</th>\n",
       "      <th>trackName</th>\n",
       "      <th>msPlayed</th>\n",
       "      <th>sgPlayed</th>\n",
       "      <th>minPlayed</th>\n",
       "      <th>cal_min</th>\n",
       "    </tr>\n",
       "  </thead>\n",
       "  <tbody>\n",
       "    <tr>\n",
       "      <th>0</th>\n",
       "      <td>2021-11-12 15:22:00</td>\n",
       "      <td>Myke Towers</td>\n",
       "      <td>Experimento</td>\n",
       "      <td>106394</td>\n",
       "      <td>106.394</td>\n",
       "      <td>1.773233</td>\n",
       "      <td>0.316418</td>\n",
       "    </tr>\n",
       "    <tr>\n",
       "      <th>1</th>\n",
       "      <td>2021-11-13 08:53:00</td>\n",
       "      <td>Tame Impala</td>\n",
       "      <td>The Less I Know The Better</td>\n",
       "      <td>3712</td>\n",
       "      <td>3.712</td>\n",
       "      <td>0.061867</td>\n",
       "      <td>0.210588</td>\n",
       "    </tr>\n",
       "    <tr>\n",
       "      <th>2</th>\n",
       "      <td>2021-11-13 08:56:00</td>\n",
       "      <td>Tame Impala</td>\n",
       "      <td>The Less I Know The Better</td>\n",
       "      <td>213141</td>\n",
       "      <td>213.141</td>\n",
       "      <td>3.552350</td>\n",
       "      <td>0.210588</td>\n",
       "    </tr>\n",
       "    <tr>\n",
       "      <th>3</th>\n",
       "      <td>2021-11-13 09:33:00</td>\n",
       "      <td>Goth Babe</td>\n",
       "      <td>Canary Islands</td>\n",
       "      <td>3904</td>\n",
       "      <td>3.904</td>\n",
       "      <td>0.065067</td>\n",
       "      <td>0.316364</td>\n",
       "    </tr>\n",
       "    <tr>\n",
       "      <th>4</th>\n",
       "      <td>2021-11-13 09:36:00</td>\n",
       "      <td>Goth Babe</td>\n",
       "      <td>Canary Islands</td>\n",
       "      <td>201042</td>\n",
       "      <td>201.042</td>\n",
       "      <td>3.350700</td>\n",
       "      <td>0.316364</td>\n",
       "    </tr>\n",
       "  </tbody>\n",
       "</table>\n",
       "</div>"
      ],
      "text/plain": [
       "                  date   artistName                   trackName  msPlayed  \\\n",
       "0  2021-11-12 15:22:00  Myke Towers                 Experimento    106394   \n",
       "1  2021-11-13 08:53:00  Tame Impala  The Less I Know The Better      3712   \n",
       "2  2021-11-13 08:56:00  Tame Impala  The Less I Know The Better    213141   \n",
       "3  2021-11-13 09:33:00    Goth Babe              Canary Islands      3904   \n",
       "4  2021-11-13 09:36:00    Goth Babe              Canary Islands    201042   \n",
       "\n",
       "   sgPlayed  minPlayed   cal_min  \n",
       "0   106.394   1.773233  0.316418  \n",
       "1     3.712   0.061867  0.210588  \n",
       "2   213.141   3.552350  0.210588  \n",
       "3     3.904   0.065067  0.316364  \n",
       "4   201.042   3.350700  0.316364  "
      ]
     },
     "execution_count": 177,
     "metadata": {},
     "output_type": "execute_result"
    }
   ],
   "source": [
    "data.head()"
   ]
  },
  {
   "cell_type": "code",
   "execution_count": 178,
   "id": "67478a57",
   "metadata": {},
   "outputs": [],
   "source": [
    "data = data.astype({'date':'datetime64[ns]'})"
   ]
  },
  {
   "cell_type": "code",
   "execution_count": 179,
   "id": "8d922f2c",
   "metadata": {},
   "outputs": [],
   "source": [
    "data = data.merge(l, on='date', how='left')"
   ]
  },
  {
   "cell_type": "code",
   "execution_count": 180,
   "id": "4e96af0e",
   "metadata": {},
   "outputs": [
    {
     "data": {
      "text/html": [
       "<div>\n",
       "<style scoped>\n",
       "    .dataframe tbody tr th:only-of-type {\n",
       "        vertical-align: middle;\n",
       "    }\n",
       "\n",
       "    .dataframe tbody tr th {\n",
       "        vertical-align: top;\n",
       "    }\n",
       "\n",
       "    .dataframe thead th {\n",
       "        text-align: right;\n",
       "    }\n",
       "</style>\n",
       "<table border=\"1\" class=\"dataframe\">\n",
       "  <thead>\n",
       "    <tr style=\"text-align: right;\">\n",
       "      <th></th>\n",
       "      <th>date</th>\n",
       "      <th>artistName</th>\n",
       "      <th>trackName</th>\n",
       "      <th>msPlayed</th>\n",
       "      <th>sgPlayed</th>\n",
       "      <th>minPlayed</th>\n",
       "      <th>cal_min</th>\n",
       "      <th>count_min</th>\n",
       "    </tr>\n",
       "  </thead>\n",
       "  <tbody>\n",
       "    <tr>\n",
       "      <th>0</th>\n",
       "      <td>2021-11-12 15:22:00</td>\n",
       "      <td>Myke Towers</td>\n",
       "      <td>Experimento</td>\n",
       "      <td>106394</td>\n",
       "      <td>106.394</td>\n",
       "      <td>1.773233</td>\n",
       "      <td>0.316418</td>\n",
       "      <td>100.0</td>\n",
       "    </tr>\n",
       "    <tr>\n",
       "      <th>1</th>\n",
       "      <td>2021-11-13 08:53:00</td>\n",
       "      <td>Tame Impala</td>\n",
       "      <td>The Less I Know The Better</td>\n",
       "      <td>3712</td>\n",
       "      <td>3.712</td>\n",
       "      <td>0.061867</td>\n",
       "      <td>0.210588</td>\n",
       "      <td>67.0</td>\n",
       "    </tr>\n",
       "    <tr>\n",
       "      <th>2</th>\n",
       "      <td>2021-11-13 08:56:00</td>\n",
       "      <td>Tame Impala</td>\n",
       "      <td>The Less I Know The Better</td>\n",
       "      <td>213141</td>\n",
       "      <td>213.141</td>\n",
       "      <td>3.552350</td>\n",
       "      <td>0.210588</td>\n",
       "      <td>67.0</td>\n",
       "    </tr>\n",
       "    <tr>\n",
       "      <th>3</th>\n",
       "      <td>2021-11-13 09:33:00</td>\n",
       "      <td>Goth Babe</td>\n",
       "      <td>Canary Islands</td>\n",
       "      <td>3904</td>\n",
       "      <td>3.904</td>\n",
       "      <td>0.065067</td>\n",
       "      <td>0.316364</td>\n",
       "      <td>67.0</td>\n",
       "    </tr>\n",
       "    <tr>\n",
       "      <th>4</th>\n",
       "      <td>2021-11-13 09:36:00</td>\n",
       "      <td>Goth Babe</td>\n",
       "      <td>Canary Islands</td>\n",
       "      <td>201042</td>\n",
       "      <td>201.042</td>\n",
       "      <td>3.350700</td>\n",
       "      <td>0.316364</td>\n",
       "      <td>67.0</td>\n",
       "    </tr>\n",
       "  </tbody>\n",
       "</table>\n",
       "</div>"
      ],
      "text/plain": [
       "                 date   artistName                   trackName  msPlayed  \\\n",
       "0 2021-11-12 15:22:00  Myke Towers                 Experimento    106394   \n",
       "1 2021-11-13 08:53:00  Tame Impala  The Less I Know The Better      3712   \n",
       "2 2021-11-13 08:56:00  Tame Impala  The Less I Know The Better    213141   \n",
       "3 2021-11-13 09:33:00    Goth Babe              Canary Islands      3904   \n",
       "4 2021-11-13 09:36:00    Goth Babe              Canary Islands    201042   \n",
       "\n",
       "   sgPlayed  minPlayed   cal_min  count_min  \n",
       "0   106.394   1.773233  0.316418      100.0  \n",
       "1     3.712   0.061867  0.210588       67.0  \n",
       "2   213.141   3.552350  0.210588       67.0  \n",
       "3     3.904   0.065067  0.316364       67.0  \n",
       "4   201.042   3.350700  0.316364       67.0  "
      ]
     },
     "execution_count": 180,
     "metadata": {},
     "output_type": "execute_result"
    }
   ],
   "source": [
    "data.head()"
   ]
  },
  {
   "cell_type": "code",
   "execution_count": 182,
   "id": "27fcd1d1",
   "metadata": {},
   "outputs": [],
   "source": [
    "data.count_min.ffill(inplace=True)"
   ]
  },
  {
   "cell_type": "code",
   "execution_count": 183,
   "id": "1715286f",
   "metadata": {
    "scrolled": true
   },
   "outputs": [
    {
     "data": {
      "text/plain": [
       "Series([], dtype: int64)"
      ]
     },
     "execution_count": 183,
     "metadata": {},
     "output_type": "execute_result"
    }
   ],
   "source": [
    "nan_cols= data.isna().sum()\n",
    "nan_cols[nan_cols>0]"
   ]
  },
  {
   "cell_type": "markdown",
   "id": "0a49e360",
   "metadata": {},
   "source": [
    "# Análisis de la data"
   ]
  },
  {
   "cell_type": "code",
   "execution_count": 188,
   "id": "54e9798e",
   "metadata": {},
   "outputs": [
    {
     "data": {
      "text/html": [
       "<div>\n",
       "<style scoped>\n",
       "    .dataframe tbody tr th:only-of-type {\n",
       "        vertical-align: middle;\n",
       "    }\n",
       "\n",
       "    .dataframe tbody tr th {\n",
       "        vertical-align: top;\n",
       "    }\n",
       "\n",
       "    .dataframe thead th {\n",
       "        text-align: right;\n",
       "    }\n",
       "</style>\n",
       "<table border=\"1\" class=\"dataframe\">\n",
       "  <thead>\n",
       "    <tr style=\"text-align: right;\">\n",
       "      <th></th>\n",
       "      <th>date</th>\n",
       "      <th>artistName</th>\n",
       "      <th>trackName</th>\n",
       "      <th>msPlayed</th>\n",
       "      <th>sgPlayed</th>\n",
       "      <th>minPlayed</th>\n",
       "      <th>cal_min</th>\n",
       "      <th>count_min</th>\n",
       "    </tr>\n",
       "  </thead>\n",
       "  <tbody>\n",
       "    <tr>\n",
       "      <th>13320</th>\n",
       "      <td>2022-10-10 12:23:00</td>\n",
       "      <td>Mark Forster</td>\n",
       "      <td>Mellow Mellow</td>\n",
       "      <td>15130</td>\n",
       "      <td>15.130</td>\n",
       "      <td>0.252167</td>\n",
       "      <td>3.42</td>\n",
       "      <td>177.0</td>\n",
       "    </tr>\n",
       "    <tr>\n",
       "      <th>13318</th>\n",
       "      <td>2022-10-10 12:16:00</td>\n",
       "      <td>Munic HB</td>\n",
       "      <td>Pico y Pala</td>\n",
       "      <td>82407</td>\n",
       "      <td>82.407</td>\n",
       "      <td>1.373450</td>\n",
       "      <td>2.86</td>\n",
       "      <td>175.0</td>\n",
       "    </tr>\n",
       "    <tr>\n",
       "      <th>13319</th>\n",
       "      <td>2022-10-10 12:18:00</td>\n",
       "      <td>Feid</td>\n",
       "      <td>Feliz Cumpleaños Ferxxo</td>\n",
       "      <td>113450</td>\n",
       "      <td>113.450</td>\n",
       "      <td>1.890833</td>\n",
       "      <td>2.86</td>\n",
       "      <td>175.0</td>\n",
       "    </tr>\n",
       "    <tr>\n",
       "      <th>13454</th>\n",
       "      <td>2022-10-13 12:33:00</td>\n",
       "      <td>Sam Smith</td>\n",
       "      <td>Unholy (feat. Kim Petras)</td>\n",
       "      <td>156943</td>\n",
       "      <td>156.943</td>\n",
       "      <td>2.615717</td>\n",
       "      <td>8.64</td>\n",
       "      <td>171.0</td>\n",
       "    </tr>\n",
       "    <tr>\n",
       "      <th>13455</th>\n",
       "      <td>2022-10-13 12:37:00</td>\n",
       "      <td>Mega</td>\n",
       "      <td>Chariot</td>\n",
       "      <td>216755</td>\n",
       "      <td>216.755</td>\n",
       "      <td>3.612583</td>\n",
       "      <td>6.80</td>\n",
       "      <td>171.0</td>\n",
       "    </tr>\n",
       "    <tr>\n",
       "      <th>13317</th>\n",
       "      <td>2022-10-10 12:14:00</td>\n",
       "      <td>DELLAFUENTE</td>\n",
       "      <td>K alegría</td>\n",
       "      <td>140575</td>\n",
       "      <td>140.575</td>\n",
       "      <td>2.342917</td>\n",
       "      <td>2.86</td>\n",
       "      <td>170.0</td>\n",
       "    </tr>\n",
       "    <tr>\n",
       "      <th>13120</th>\n",
       "      <td>2022-10-03 15:33:00</td>\n",
       "      <td>Luar La L</td>\n",
       "      <td>Caile</td>\n",
       "      <td>141340</td>\n",
       "      <td>141.340</td>\n",
       "      <td>2.355667</td>\n",
       "      <td>5.14</td>\n",
       "      <td>168.0</td>\n",
       "    </tr>\n",
       "    <tr>\n",
       "      <th>9885</th>\n",
       "      <td>2022-07-31 11:44:00</td>\n",
       "      <td>Megan Thee Stallion</td>\n",
       "      <td>Sweetest Pie</td>\n",
       "      <td>201334</td>\n",
       "      <td>201.334</td>\n",
       "      <td>3.355567</td>\n",
       "      <td>5.78</td>\n",
       "      <td>167.0</td>\n",
       "    </tr>\n",
       "    <tr>\n",
       "      <th>9886</th>\n",
       "      <td>2022-07-31 11:47:00</td>\n",
       "      <td>Cat Burns</td>\n",
       "      <td>go (feat. Sam Smith)</td>\n",
       "      <td>215841</td>\n",
       "      <td>215.841</td>\n",
       "      <td>3.597350</td>\n",
       "      <td>5.78</td>\n",
       "      <td>167.0</td>\n",
       "    </tr>\n",
       "    <tr>\n",
       "      <th>12699</th>\n",
       "      <td>2022-09-24 11:01:00</td>\n",
       "      <td>Jessie J</td>\n",
       "      <td>Bang Bang</td>\n",
       "      <td>199386</td>\n",
       "      <td>199.386</td>\n",
       "      <td>3.323100</td>\n",
       "      <td>4.52</td>\n",
       "      <td>164.0</td>\n",
       "    </tr>\n",
       "  </tbody>\n",
       "</table>\n",
       "</div>"
      ],
      "text/plain": [
       "                     date           artistName                  trackName  \\\n",
       "13320 2022-10-10 12:23:00         Mark Forster              Mellow Mellow   \n",
       "13318 2022-10-10 12:16:00             Munic HB                Pico y Pala   \n",
       "13319 2022-10-10 12:18:00                 Feid    Feliz Cumpleaños Ferxxo   \n",
       "13454 2022-10-13 12:33:00            Sam Smith  Unholy (feat. Kim Petras)   \n",
       "13455 2022-10-13 12:37:00                 Mega                    Chariot   \n",
       "13317 2022-10-10 12:14:00          DELLAFUENTE                  K alegría   \n",
       "13120 2022-10-03 15:33:00            Luar La L                      Caile   \n",
       "9885  2022-07-31 11:44:00  Megan Thee Stallion               Sweetest Pie   \n",
       "9886  2022-07-31 11:47:00            Cat Burns       go (feat. Sam Smith)   \n",
       "12699 2022-09-24 11:01:00             Jessie J                  Bang Bang   \n",
       "\n",
       "       msPlayed  sgPlayed  minPlayed  cal_min  count_min  \n",
       "13320     15130    15.130   0.252167     3.42      177.0  \n",
       "13318     82407    82.407   1.373450     2.86      175.0  \n",
       "13319    113450   113.450   1.890833     2.86      175.0  \n",
       "13454    156943   156.943   2.615717     8.64      171.0  \n",
       "13455    216755   216.755   3.612583     6.80      171.0  \n",
       "13317    140575   140.575   2.342917     2.86      170.0  \n",
       "13120    141340   141.340   2.355667     5.14      168.0  \n",
       "9885     201334   201.334   3.355567     5.78      167.0  \n",
       "9886     215841   215.841   3.597350     5.78      167.0  \n",
       "12699    199386   199.386   3.323100     4.52      164.0  "
      ]
     },
     "execution_count": 188,
     "metadata": {},
     "output_type": "execute_result"
    }
   ],
   "source": [
    "data.sort_values(by='count_min', ascending=False)[:10]"
   ]
  },
  {
   "cell_type": "code",
   "execution_count": 206,
   "id": "2da87e00",
   "metadata": {},
   "outputs": [],
   "source": [
    "heartar = data.groupby(['trackName'])['count_min'].median()"
   ]
  },
  {
   "cell_type": "code",
   "execution_count": 207,
   "id": "7f8d9853",
   "metadata": {},
   "outputs": [],
   "source": [
    "heartar = pd.DataFrame(heartar)"
   ]
  },
  {
   "cell_type": "code",
   "execution_count": 208,
   "id": "42ce3806",
   "metadata": {},
   "outputs": [
    {
     "data": {
      "text/html": [
       "<div>\n",
       "<style scoped>\n",
       "    .dataframe tbody tr th:only-of-type {\n",
       "        vertical-align: middle;\n",
       "    }\n",
       "\n",
       "    .dataframe tbody tr th {\n",
       "        vertical-align: top;\n",
       "    }\n",
       "\n",
       "    .dataframe thead th {\n",
       "        text-align: right;\n",
       "    }\n",
       "</style>\n",
       "<table border=\"1\" class=\"dataframe\">\n",
       "  <thead>\n",
       "    <tr style=\"text-align: right;\">\n",
       "      <th></th>\n",
       "      <th>count_min</th>\n",
       "    </tr>\n",
       "    <tr>\n",
       "      <th>trackName</th>\n",
       "      <th></th>\n",
       "    </tr>\n",
       "  </thead>\n",
       "  <tbody>\n",
       "    <tr>\n",
       "      <th>Don't Leave Me Lonely (feat. YEBBA)</th>\n",
       "      <td>59.0</td>\n",
       "    </tr>\n",
       "    <tr>\n",
       "      <th>Being Human - Single Version</th>\n",
       "      <td>59.0</td>\n",
       "    </tr>\n",
       "    <tr>\n",
       "      <th>Just Another Thing We Don't Talk About</th>\n",
       "      <td>59.0</td>\n",
       "    </tr>\n",
       "    <tr>\n",
       "      <th>Dilemma (feat. Kelly Rowland)</th>\n",
       "      <td>59.0</td>\n",
       "    </tr>\n",
       "    <tr>\n",
       "      <th>Poison</th>\n",
       "      <td>59.0</td>\n",
       "    </tr>\n",
       "    <tr>\n",
       "      <th>Hot In Herre</th>\n",
       "      <td>59.0</td>\n",
       "    </tr>\n",
       "    <tr>\n",
       "      <th>Dilemma</th>\n",
       "      <td>59.0</td>\n",
       "    </tr>\n",
       "    <tr>\n",
       "      <th>No Scrubs</th>\n",
       "      <td>59.0</td>\n",
       "    </tr>\n",
       "    <tr>\n",
       "      <th>Sunrise___</th>\n",
       "      <td>59.0</td>\n",
       "    </tr>\n",
       "    <tr>\n",
       "      <th>Dias De Luta, Dias De Gloria</th>\n",
       "      <td>59.0</td>\n",
       "    </tr>\n",
       "  </tbody>\n",
       "</table>\n",
       "</div>"
      ],
      "text/plain": [
       "                                        count_min\n",
       "trackName                                        \n",
       "Don't Leave Me Lonely (feat. YEBBA)          59.0\n",
       "Being Human - Single Version                 59.0\n",
       "Just Another Thing We Don't Talk About       59.0\n",
       "Dilemma (feat. Kelly Rowland)                59.0\n",
       "Poison                                       59.0\n",
       "Hot In Herre                                 59.0\n",
       "Dilemma                                      59.0\n",
       "No Scrubs                                    59.0\n",
       "Sunrise___                                   59.0\n",
       "Dias De Luta, Dias De Gloria                 59.0"
      ]
     },
     "execution_count": 208,
     "metadata": {},
     "output_type": "execute_result"
    }
   ],
   "source": [
    "heartar.sort_values(by='count_min', ascending=True)[:10]"
   ]
  },
  {
   "cell_type": "code",
   "execution_count": null,
   "id": "291265fb",
   "metadata": {},
   "outputs": [],
   "source": []
  }
 ],
 "metadata": {
  "kernelspec": {
   "display_name": "Python 3 (ipykernel)",
   "language": "python",
   "name": "python3"
  },
  "language_info": {
   "codemirror_mode": {
    "name": "ipython",
    "version": 3
   },
   "file_extension": ".py",
   "mimetype": "text/x-python",
   "name": "python",
   "nbconvert_exporter": "python",
   "pygments_lexer": "ipython3",
   "version": "3.9.12"
  }
 },
 "nbformat": 4,
 "nbformat_minor": 5
}
