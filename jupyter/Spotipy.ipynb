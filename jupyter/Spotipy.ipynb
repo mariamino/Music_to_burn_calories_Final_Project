{
 "cells": [
  {
   "cell_type": "code",
   "execution_count": 1,
   "id": "63a16796",
   "metadata": {
    "scrolled": true
   },
   "outputs": [
    {
     "name": "stdout",
     "output_type": "stream",
     "text": [
      "Requirement already satisfied: spotipy in /Users/maria/opt/anaconda3/lib/python3.9/site-packages (2.21.0)\n",
      "Requirement already satisfied: six>=1.15.0 in /Users/maria/opt/anaconda3/lib/python3.9/site-packages (from spotipy) (1.16.0)\n",
      "Requirement already satisfied: requests>=2.25.0 in /Users/maria/opt/anaconda3/lib/python3.9/site-packages (from spotipy) (2.27.1)\n",
      "Requirement already satisfied: redis>=3.5.3 in /Users/maria/opt/anaconda3/lib/python3.9/site-packages (from spotipy) (4.4.0)\n",
      "Requirement already satisfied: urllib3>=1.26.0 in /Users/maria/opt/anaconda3/lib/python3.9/site-packages (from spotipy) (1.26.9)\n",
      "Requirement already satisfied: async-timeout>=4.0.2 in /Users/maria/opt/anaconda3/lib/python3.9/site-packages (from redis>=3.5.3->spotipy) (4.0.2)\n",
      "Requirement already satisfied: certifi>=2017.4.17 in /Users/maria/opt/anaconda3/lib/python3.9/site-packages (from requests>=2.25.0->spotipy) (2021.10.8)\n",
      "Requirement already satisfied: charset-normalizer~=2.0.0 in /Users/maria/opt/anaconda3/lib/python3.9/site-packages (from requests>=2.25.0->spotipy) (2.0.4)\n",
      "Requirement already satisfied: idna<4,>=2.5 in /Users/maria/opt/anaconda3/lib/python3.9/site-packages (from requests>=2.25.0->spotipy) (3.3)\n",
      "Note: you may need to restart the kernel to use updated packages.\n"
     ]
    }
   ],
   "source": [
    "pip install spotipy --upgrade"
   ]
  },
  {
   "cell_type": "code",
   "execution_count": 2,
   "id": "1fb87cfe",
   "metadata": {
    "scrolled": false
   },
   "outputs": [
    {
     "name": "stdout",
     "output_type": "stream",
     "text": [
      "Requirement already satisfied: clipboard in /Users/maria/opt/anaconda3/lib/python3.9/site-packages (0.0.4)\n",
      "Requirement already satisfied: pyperclip>=1.3 in /Users/maria/opt/anaconda3/lib/python3.9/site-packages (from clipboard) (1.8.2)\n",
      "Note: you may need to restart the kernel to use updated packages.\n"
     ]
    }
   ],
   "source": [
    "pip install clipboard"
   ]
  },
  {
   "cell_type": "code",
   "execution_count": 3,
   "id": "4938b34c",
   "metadata": {},
   "outputs": [
    {
     "name": "stdout",
     "output_type": "stream",
     "text": [
      "Requirement already satisfied: tqdm in /Users/maria/opt/anaconda3/lib/python3.9/site-packages (4.64.0)\n",
      "Note: you may need to restart the kernel to use updated packages.\n"
     ]
    }
   ],
   "source": [
    "%pip install tqdm"
   ]
  },
  {
   "cell_type": "code",
   "execution_count": 4,
   "id": "c56f8d84",
   "metadata": {},
   "outputs": [],
   "source": [
    "import pandas as pd\n",
    "import spotipy as sp\n",
    "from spotipy.oauth2 import SpotifyClientCredentials\n",
    "import clipboard\n",
    "from tqdm.notebook import tqdm"
   ]
  },
  {
   "cell_type": "code",
   "execution_count": 5,
   "id": "b365aff7",
   "metadata": {},
   "outputs": [],
   "source": [
    "auth_manager = SpotifyClientCredentials('a73d30556eba483fa2f6901678510692', '96937d6cdfe94f87944e79a475e9d679')\n",
    "sp = sp.Spotify(auth_manager=auth_manager)"
   ]
  },
  {
   "cell_type": "code",
   "execution_count": 6,
   "id": "0e22da97",
   "metadata": {
    "scrolled": false
   },
   "outputs": [
    {
     "data": {
      "text/plain": [
       "[{'danceability': 0.609,\n",
       "  'energy': 0.444,\n",
       "  'key': 7,\n",
       "  'loudness': -9.129,\n",
       "  'mode': 1,\n",
       "  'speechiness': 0.106,\n",
       "  'acousticness': 0.603,\n",
       "  'instrumentalness': 6.86e-06,\n",
       "  'liveness': 0.104,\n",
       "  'valence': 0.166,\n",
       "  'tempo': 118.402,\n",
       "  'type': 'audio_features',\n",
       "  'id': '3XVBdLihbNbxUwZosxcGuJ',\n",
       "  'uri': 'spotify:track:3XVBdLihbNbxUwZosxcGuJ',\n",
       "  'track_href': 'https://api.spotify.com/v1/tracks/3XVBdLihbNbxUwZosxcGuJ',\n",
       "  'analysis_url': 'https://api.spotify.com/v1/audio-analysis/3XVBdLihbNbxUwZosxcGuJ',\n",
       "  'duration_ms': 228707,\n",
       "  'time_signature': 3}]"
      ]
     },
     "execution_count": 6,
     "metadata": {},
     "output_type": "execute_result"
    }
   ],
   "source": [
    "sp.audio_features('https://open.spotify.com/track/3XVBdLihbNbxUwZosxcGuJ?si=4cdf178a4f9f4561')"
   ]
  },
  {
   "cell_type": "markdown",
   "id": "efab7403",
   "metadata": {},
   "source": [
    "# Scrapeo de los links de las canciones"
   ]
  },
  {
   "cell_type": "markdown",
   "id": "d5f98633",
   "metadata": {},
   "source": [
    "Para poder utilizar la API de Spotify necesitas conocer la URL de las canciones que quieres scrapear, como solo contamos con el nombre del artista y de la canción, necesitamos escrapear spotify para obtener el link de las canciones."
   ]
  },
  {
   "cell_type": "code",
   "execution_count": 7,
   "id": "bba61ee5",
   "metadata": {},
   "outputs": [
    {
     "name": "stdout",
     "output_type": "stream",
     "text": [
      "Requirement already satisfied: joblib in /Users/maria/opt/anaconda3/lib/python3.9/site-packages (1.1.0)\n",
      "Note: you may need to restart the kernel to use updated packages.\n"
     ]
    }
   ],
   "source": [
    "%pip install joblib"
   ]
  },
  {
   "cell_type": "code",
   "execution_count": 8,
   "id": "9a56a0ab",
   "metadata": {},
   "outputs": [],
   "source": [
    "from joblib import Parallel, delayed"
   ]
  },
  {
   "cell_type": "code",
   "execution_count": 9,
   "id": "e3a056ff",
   "metadata": {},
   "outputs": [
    {
     "name": "stderr",
     "output_type": "stream",
     "text": [
      "[WDM] - Downloading: 100%|█████████████████| 8.61M/8.61M [00:04<00:00, 2.08MB/s]\n"
     ]
    }
   ],
   "source": [
    "from selenium import webdriver\n",
    "from selenium.webdriver.common.by import By\n",
    "import time\n",
    "from webdriver_manager.chrome import ChromeDriverManager\n",
    "PATH=ChromeDriverManager().install()"
   ]
  },
  {
   "cell_type": "code",
   "execution_count": 10,
   "id": "3d666f8f",
   "metadata": {},
   "outputs": [],
   "source": [
    "music0 = pd.read_json('../../proyecto_final/data/mydataspotify/StreamingHistory0.json')"
   ]
  },
  {
   "cell_type": "code",
   "execution_count": 11,
   "id": "72676e91",
   "metadata": {},
   "outputs": [],
   "source": [
    "music1 = pd.read_json('../../proyecto_final/data/mydataspotify/StreamingHistory1.json')"
   ]
  },
  {
   "cell_type": "code",
   "execution_count": 12,
   "id": "8e7950dd",
   "metadata": {},
   "outputs": [],
   "source": [
    "music = pd.concat([music0, music1], axis=0)"
   ]
  },
  {
   "cell_type": "code",
   "execution_count": 13,
   "id": "6fba1cf3",
   "metadata": {},
   "outputs": [],
   "source": [
    "music.to_csv('../../proyecto_final/data/mydataspotify/CompleteStreamingHistory.csv', index=False)"
   ]
  },
  {
   "cell_type": "code",
   "execution_count": 14,
   "id": "d5f70a40",
   "metadata": {},
   "outputs": [],
   "source": [
    "pep=[]"
   ]
  },
  {
   "cell_type": "code",
   "execution_count": 15,
   "id": "7b2ece87",
   "metadata": {},
   "outputs": [],
   "source": [
    "url='https://open.spotify.com/search/Elephant%20Tame%20Impala'"
   ]
  },
  {
   "cell_type": "code",
   "execution_count": 16,
   "id": "6c71773d",
   "metadata": {
    "scrolled": true
   },
   "outputs": [
    {
     "data": {
      "text/html": [
       "<div>\n",
       "<style scoped>\n",
       "    .dataframe tbody tr th:only-of-type {\n",
       "        vertical-align: middle;\n",
       "    }\n",
       "\n",
       "    .dataframe tbody tr th {\n",
       "        vertical-align: top;\n",
       "    }\n",
       "\n",
       "    .dataframe thead th {\n",
       "        text-align: right;\n",
       "    }\n",
       "</style>\n",
       "<table border=\"1\" class=\"dataframe\">\n",
       "  <thead>\n",
       "    <tr style=\"text-align: right;\">\n",
       "      <th></th>\n",
       "      <th>endTime</th>\n",
       "      <th>artistName</th>\n",
       "      <th>trackName</th>\n",
       "      <th>msPlayed</th>\n",
       "    </tr>\n",
       "  </thead>\n",
       "  <tbody>\n",
       "    <tr>\n",
       "      <th>0</th>\n",
       "      <td>2021-11-12 15:22</td>\n",
       "      <td>Myke Towers</td>\n",
       "      <td>Experimento</td>\n",
       "      <td>106394</td>\n",
       "    </tr>\n",
       "    <tr>\n",
       "      <th>1</th>\n",
       "      <td>2021-11-13 08:53</td>\n",
       "      <td>Tame Impala</td>\n",
       "      <td>The Less I Know The Better</td>\n",
       "      <td>3712</td>\n",
       "    </tr>\n",
       "    <tr>\n",
       "      <th>2</th>\n",
       "      <td>2021-11-13 08:56</td>\n",
       "      <td>Tame Impala</td>\n",
       "      <td>The Less I Know The Better</td>\n",
       "      <td>213141</td>\n",
       "    </tr>\n",
       "    <tr>\n",
       "      <th>3</th>\n",
       "      <td>2021-11-13 09:33</td>\n",
       "      <td>Goth Babe</td>\n",
       "      <td>Canary Islands</td>\n",
       "      <td>3904</td>\n",
       "    </tr>\n",
       "    <tr>\n",
       "      <th>4</th>\n",
       "      <td>2021-11-13 09:36</td>\n",
       "      <td>Goth Babe</td>\n",
       "      <td>Canary Islands</td>\n",
       "      <td>201042</td>\n",
       "    </tr>\n",
       "  </tbody>\n",
       "</table>\n",
       "</div>"
      ],
      "text/plain": [
       "            endTime   artistName                   trackName  msPlayed\n",
       "0  2021-11-12 15:22  Myke Towers                 Experimento    106394\n",
       "1  2021-11-13 08:53  Tame Impala  The Less I Know The Better      3712\n",
       "2  2021-11-13 08:56  Tame Impala  The Less I Know The Better    213141\n",
       "3  2021-11-13 09:33    Goth Babe              Canary Islands      3904\n",
       "4  2021-11-13 09:36    Goth Babe              Canary Islands    201042"
      ]
     },
     "execution_count": 16,
     "metadata": {},
     "output_type": "execute_result"
    }
   ],
   "source": [
    "music.head()"
   ]
  },
  {
   "cell_type": "code",
   "execution_count": 17,
   "id": "0afd0f3a",
   "metadata": {
    "scrolled": true
   },
   "outputs": [],
   "source": [
    "df = music"
   ]
  },
  {
   "cell_type": "code",
   "execution_count": 18,
   "id": "7596ba25",
   "metadata": {},
   "outputs": [],
   "source": [
    "df.drop_duplicates(subset='trackName', ignore_index=True, inplace=True)"
   ]
  },
  {
   "cell_type": "code",
   "execution_count": 19,
   "id": "bfe1ad2d",
   "metadata": {
    "scrolled": true
   },
   "outputs": [
    {
     "data": {
      "text/html": [
       "<div>\n",
       "<style scoped>\n",
       "    .dataframe tbody tr th:only-of-type {\n",
       "        vertical-align: middle;\n",
       "    }\n",
       "\n",
       "    .dataframe tbody tr th {\n",
       "        vertical-align: top;\n",
       "    }\n",
       "\n",
       "    .dataframe thead th {\n",
       "        text-align: right;\n",
       "    }\n",
       "</style>\n",
       "<table border=\"1\" class=\"dataframe\">\n",
       "  <thead>\n",
       "    <tr style=\"text-align: right;\">\n",
       "      <th></th>\n",
       "      <th>artistName</th>\n",
       "      <th>trackName</th>\n",
       "    </tr>\n",
       "  </thead>\n",
       "  <tbody>\n",
       "    <tr>\n",
       "      <th>0</th>\n",
       "      <td>Myke Towers</td>\n",
       "      <td>Experimento</td>\n",
       "    </tr>\n",
       "    <tr>\n",
       "      <th>1</th>\n",
       "      <td>Tame Impala</td>\n",
       "      <td>The Less I Know The Better</td>\n",
       "    </tr>\n",
       "    <tr>\n",
       "      <th>2</th>\n",
       "      <td>Goth Babe</td>\n",
       "      <td>Canary Islands</td>\n",
       "    </tr>\n",
       "    <tr>\n",
       "      <th>3</th>\n",
       "      <td>Steve Lacy</td>\n",
       "      <td>Some</td>\n",
       "    </tr>\n",
       "    <tr>\n",
       "      <th>4</th>\n",
       "      <td>Tame Impala</td>\n",
       "      <td>Feels Like We Only Go Backwards</td>\n",
       "    </tr>\n",
       "  </tbody>\n",
       "</table>\n",
       "</div>"
      ],
      "text/plain": [
       "    artistName                        trackName\n",
       "0  Myke Towers                      Experimento\n",
       "1  Tame Impala       The Less I Know The Better\n",
       "2    Goth Babe                   Canary Islands\n",
       "3   Steve Lacy                             Some\n",
       "4  Tame Impala  Feels Like We Only Go Backwards"
      ]
     },
     "execution_count": 19,
     "metadata": {},
     "output_type": "execute_result"
    }
   ],
   "source": [
    "df.drop(columns=['endTime','msPlayed']).head()"
   ]
  },
  {
   "cell_type": "code",
   "execution_count": 20,
   "id": "4e618099",
   "metadata": {},
   "outputs": [],
   "source": [
    "df['search'] = df['trackName'] + ' ' + df['artistName']"
   ]
  },
  {
   "cell_type": "code",
   "execution_count": 21,
   "id": "bc8ea470",
   "metadata": {},
   "outputs": [],
   "source": [
    "df['search'] = df.search.str.replace(' ','%20')"
   ]
  },
  {
   "cell_type": "code",
   "execution_count": 22,
   "id": "9325a51e",
   "metadata": {
    "scrolled": true
   },
   "outputs": [
    {
     "data": {
      "text/html": [
       "<div>\n",
       "<style scoped>\n",
       "    .dataframe tbody tr th:only-of-type {\n",
       "        vertical-align: middle;\n",
       "    }\n",
       "\n",
       "    .dataframe tbody tr th {\n",
       "        vertical-align: top;\n",
       "    }\n",
       "\n",
       "    .dataframe thead th {\n",
       "        text-align: right;\n",
       "    }\n",
       "</style>\n",
       "<table border=\"1\" class=\"dataframe\">\n",
       "  <thead>\n",
       "    <tr style=\"text-align: right;\">\n",
       "      <th></th>\n",
       "      <th>endTime</th>\n",
       "      <th>artistName</th>\n",
       "      <th>trackName</th>\n",
       "      <th>msPlayed</th>\n",
       "      <th>search</th>\n",
       "    </tr>\n",
       "  </thead>\n",
       "  <tbody>\n",
       "    <tr>\n",
       "      <th>0</th>\n",
       "      <td>2021-11-12 15:22</td>\n",
       "      <td>Myke Towers</td>\n",
       "      <td>Experimento</td>\n",
       "      <td>106394</td>\n",
       "      <td>Experimento%20Myke%20Towers</td>\n",
       "    </tr>\n",
       "    <tr>\n",
       "      <th>1</th>\n",
       "      <td>2021-11-13 08:53</td>\n",
       "      <td>Tame Impala</td>\n",
       "      <td>The Less I Know The Better</td>\n",
       "      <td>3712</td>\n",
       "      <td>The%20Less%20I%20Know%20The%20Better%20Tame%20...</td>\n",
       "    </tr>\n",
       "    <tr>\n",
       "      <th>2</th>\n",
       "      <td>2021-11-13 09:33</td>\n",
       "      <td>Goth Babe</td>\n",
       "      <td>Canary Islands</td>\n",
       "      <td>3904</td>\n",
       "      <td>Canary%20Islands%20Goth%20Babe</td>\n",
       "    </tr>\n",
       "    <tr>\n",
       "      <th>3</th>\n",
       "      <td>2021-11-13 09:38</td>\n",
       "      <td>Steve Lacy</td>\n",
       "      <td>Some</td>\n",
       "      <td>118393</td>\n",
       "      <td>Some%20Steve%20Lacy</td>\n",
       "    </tr>\n",
       "    <tr>\n",
       "      <th>4</th>\n",
       "      <td>2021-11-13 09:41</td>\n",
       "      <td>Tame Impala</td>\n",
       "      <td>Feels Like We Only Go Backwards</td>\n",
       "      <td>192960</td>\n",
       "      <td>Feels%20Like%20We%20Only%20Go%20Backwards%20Ta...</td>\n",
       "    </tr>\n",
       "  </tbody>\n",
       "</table>\n",
       "</div>"
      ],
      "text/plain": [
       "            endTime   artistName                        trackName  msPlayed  \\\n",
       "0  2021-11-12 15:22  Myke Towers                      Experimento    106394   \n",
       "1  2021-11-13 08:53  Tame Impala       The Less I Know The Better      3712   \n",
       "2  2021-11-13 09:33    Goth Babe                   Canary Islands      3904   \n",
       "3  2021-11-13 09:38   Steve Lacy                             Some    118393   \n",
       "4  2021-11-13 09:41  Tame Impala  Feels Like We Only Go Backwards    192960   \n",
       "\n",
       "                                              search  \n",
       "0                        Experimento%20Myke%20Towers  \n",
       "1  The%20Less%20I%20Know%20The%20Better%20Tame%20...  \n",
       "2                     Canary%20Islands%20Goth%20Babe  \n",
       "3                                Some%20Steve%20Lacy  \n",
       "4  Feels%20Like%20We%20Only%20Go%20Backwards%20Ta...  "
      ]
     },
     "execution_count": 22,
     "metadata": {},
     "output_type": "execute_result"
    }
   ],
   "source": [
    "df.head()"
   ]
  },
  {
   "cell_type": "code",
   "execution_count": 23,
   "id": "10f8502e",
   "metadata": {},
   "outputs": [],
   "source": [
    "df['search'] = 'https://open.spotify.com/search/' + df['search']"
   ]
  },
  {
   "cell_type": "code",
   "execution_count": 24,
   "id": "d1343b6e",
   "metadata": {
    "scrolled": true
   },
   "outputs": [
    {
     "data": {
      "text/html": [
       "<div>\n",
       "<style scoped>\n",
       "    .dataframe tbody tr th:only-of-type {\n",
       "        vertical-align: middle;\n",
       "    }\n",
       "\n",
       "    .dataframe tbody tr th {\n",
       "        vertical-align: top;\n",
       "    }\n",
       "\n",
       "    .dataframe thead th {\n",
       "        text-align: right;\n",
       "    }\n",
       "</style>\n",
       "<table border=\"1\" class=\"dataframe\">\n",
       "  <thead>\n",
       "    <tr style=\"text-align: right;\">\n",
       "      <th></th>\n",
       "      <th>endTime</th>\n",
       "      <th>artistName</th>\n",
       "      <th>trackName</th>\n",
       "      <th>msPlayed</th>\n",
       "      <th>search</th>\n",
       "    </tr>\n",
       "  </thead>\n",
       "  <tbody>\n",
       "    <tr>\n",
       "      <th>0</th>\n",
       "      <td>2021-11-12 15:22</td>\n",
       "      <td>Myke Towers</td>\n",
       "      <td>Experimento</td>\n",
       "      <td>106394</td>\n",
       "      <td>https://open.spotify.com/search/Experimento%20...</td>\n",
       "    </tr>\n",
       "    <tr>\n",
       "      <th>1</th>\n",
       "      <td>2021-11-13 08:53</td>\n",
       "      <td>Tame Impala</td>\n",
       "      <td>The Less I Know The Better</td>\n",
       "      <td>3712</td>\n",
       "      <td>https://open.spotify.com/search/The%20Less%20I...</td>\n",
       "    </tr>\n",
       "    <tr>\n",
       "      <th>2</th>\n",
       "      <td>2021-11-13 09:33</td>\n",
       "      <td>Goth Babe</td>\n",
       "      <td>Canary Islands</td>\n",
       "      <td>3904</td>\n",
       "      <td>https://open.spotify.com/search/Canary%20Islan...</td>\n",
       "    </tr>\n",
       "    <tr>\n",
       "      <th>3</th>\n",
       "      <td>2021-11-13 09:38</td>\n",
       "      <td>Steve Lacy</td>\n",
       "      <td>Some</td>\n",
       "      <td>118393</td>\n",
       "      <td>https://open.spotify.com/search/Some%20Steve%2...</td>\n",
       "    </tr>\n",
       "    <tr>\n",
       "      <th>4</th>\n",
       "      <td>2021-11-13 09:41</td>\n",
       "      <td>Tame Impala</td>\n",
       "      <td>Feels Like We Only Go Backwards</td>\n",
       "      <td>192960</td>\n",
       "      <td>https://open.spotify.com/search/Feels%20Like%2...</td>\n",
       "    </tr>\n",
       "  </tbody>\n",
       "</table>\n",
       "</div>"
      ],
      "text/plain": [
       "            endTime   artistName                        trackName  msPlayed  \\\n",
       "0  2021-11-12 15:22  Myke Towers                      Experimento    106394   \n",
       "1  2021-11-13 08:53  Tame Impala       The Less I Know The Better      3712   \n",
       "2  2021-11-13 09:33    Goth Babe                   Canary Islands      3904   \n",
       "3  2021-11-13 09:38   Steve Lacy                             Some    118393   \n",
       "4  2021-11-13 09:41  Tame Impala  Feels Like We Only Go Backwards    192960   \n",
       "\n",
       "                                              search  \n",
       "0  https://open.spotify.com/search/Experimento%20...  \n",
       "1  https://open.spotify.com/search/The%20Less%20I...  \n",
       "2  https://open.spotify.com/search/Canary%20Islan...  \n",
       "3  https://open.spotify.com/search/Some%20Steve%2...  \n",
       "4  https://open.spotify.com/search/Feels%20Like%2...  "
      ]
     },
     "execution_count": 24,
     "metadata": {},
     "output_type": "execute_result"
    }
   ],
   "source": [
    "df.head()"
   ]
  },
  {
   "cell_type": "code",
   "execution_count": 25,
   "id": "2ca026c3",
   "metadata": {},
   "outputs": [],
   "source": [
    "uri=[]"
   ]
  },
  {
   "cell_type": "code",
   "execution_count": null,
   "id": "87114206",
   "metadata": {
    "scrolled": true
   },
   "outputs": [
    {
     "data": {
      "application/vnd.jupyter.widget-view+json": {
       "model_id": "ce5621069aec40cfb58c187aa02fb246",
       "version_major": 2,
       "version_minor": 0
      },
      "text/plain": [
       "  0%|          | 0/6085 [00:00<?, ?it/s]"
      ]
     },
     "metadata": {},
     "output_type": "display_data"
    },
    {
     "name": "stderr",
     "output_type": "stream",
     "text": [
      "/var/folders/s4/79ykyqjn7f16bdl_zqjgsbzh0000gp/T/ipykernel_14170/863171515.py:4: DeprecationWarning: executable_path has been deprecated, please pass in a Service object\n",
      "  driver=webdriver.Chrome(PATH)\n"
     ]
    },
    {
     "name": "stdout",
     "output_type": "stream",
     "text": [
      "error 1\n",
      "todo OK\n",
      "https://open.spotify.com/track/6c32C8T3KlXrbvWSoD5aON?si=7faa3447201146b4\n"
     ]
    },
    {
     "name": "stderr",
     "output_type": "stream",
     "text": [
      "/var/folders/s4/79ykyqjn7f16bdl_zqjgsbzh0000gp/T/ipykernel_14170/863171515.py:4: DeprecationWarning: executable_path has been deprecated, please pass in a Service object\n",
      "  driver=webdriver.Chrome(PATH)\n"
     ]
    },
    {
     "name": "stdout",
     "output_type": "stream",
     "text": [
      "error 4\n",
      "todo OK\n",
      "https://open.spotify.com/track/6c32C8T3KlXrbvWSoD5aON?si=7faa3447201146b4\n"
     ]
    },
    {
     "name": "stderr",
     "output_type": "stream",
     "text": [
      "/var/folders/s4/79ykyqjn7f16bdl_zqjgsbzh0000gp/T/ipykernel_14170/863171515.py:4: DeprecationWarning: executable_path has been deprecated, please pass in a Service object\n",
      "  driver=webdriver.Chrome(PATH)\n"
     ]
    },
    {
     "name": "stdout",
     "output_type": "stream",
     "text": [
      "todo OK\n",
      "https://open.spotify.com/track/7MuU7UbVaKyu4HkHBoHwrD?si=92d251b2ab054626\n"
     ]
    },
    {
     "name": "stderr",
     "output_type": "stream",
     "text": [
      "/var/folders/s4/79ykyqjn7f16bdl_zqjgsbzh0000gp/T/ipykernel_14170/863171515.py:4: DeprecationWarning: executable_path has been deprecated, please pass in a Service object\n",
      "  driver=webdriver.Chrome(PATH)\n"
     ]
    },
    {
     "name": "stdout",
     "output_type": "stream",
     "text": [
      "error 1\n",
      "todo OK\n",
      "https://open.spotify.com/track/4riDfclV7kPDT9D58FpmHd?si=fd1dca8f4d094b65\n"
     ]
    },
    {
     "name": "stderr",
     "output_type": "stream",
     "text": [
      "/var/folders/s4/79ykyqjn7f16bdl_zqjgsbzh0000gp/T/ipykernel_14170/863171515.py:4: DeprecationWarning: executable_path has been deprecated, please pass in a Service object\n",
      "  driver=webdriver.Chrome(PATH)\n"
     ]
    },
    {
     "name": "stdout",
     "output_type": "stream",
     "text": [
      "error 1\n",
      "todo OK\n",
      "https://open.spotify.com/track/0LtOwyZoSNZKJWHqjzADpW?si=b0f8b456fb6c444c\n"
     ]
    },
    {
     "name": "stderr",
     "output_type": "stream",
     "text": [
      "/var/folders/s4/79ykyqjn7f16bdl_zqjgsbzh0000gp/T/ipykernel_14170/863171515.py:4: DeprecationWarning: executable_path has been deprecated, please pass in a Service object\n",
      "  driver=webdriver.Chrome(PATH)\n"
     ]
    },
    {
     "name": "stdout",
     "output_type": "stream",
     "text": [
      "todo OK\n",
      "https://open.spotify.com/track/2t0wwvR15fc3K1ey8OiOaN?si=5ff5fab972034298\n"
     ]
    },
    {
     "name": "stderr",
     "output_type": "stream",
     "text": [
      "/var/folders/s4/79ykyqjn7f16bdl_zqjgsbzh0000gp/T/ipykernel_14170/863171515.py:4: DeprecationWarning: executable_path has been deprecated, please pass in a Service object\n",
      "  driver=webdriver.Chrome(PATH)\n"
     ]
    },
    {
     "name": "stdout",
     "output_type": "stream",
     "text": [
      "error 1\n",
      "error 4\n",
      "todo OK\n",
      "https://open.spotify.com/track/2t0wwvR15fc3K1ey8OiOaN?si=5ff5fab972034298\n"
     ]
    },
    {
     "name": "stderr",
     "output_type": "stream",
     "text": [
      "/var/folders/s4/79ykyqjn7f16bdl_zqjgsbzh0000gp/T/ipykernel_14170/863171515.py:4: DeprecationWarning: executable_path has been deprecated, please pass in a Service object\n",
      "  driver=webdriver.Chrome(PATH)\n"
     ]
    },
    {
     "name": "stdout",
     "output_type": "stream",
     "text": [
      "error 1\n",
      "todo OK\n",
      "https://open.spotify.com/track/3E73eFyGL6v10qlK3jiLyR?si=3dfe9870c7c345dd\n"
     ]
    },
    {
     "name": "stderr",
     "output_type": "stream",
     "text": [
      "/var/folders/s4/79ykyqjn7f16bdl_zqjgsbzh0000gp/T/ipykernel_14170/863171515.py:4: DeprecationWarning: executable_path has been deprecated, please pass in a Service object\n",
      "  driver=webdriver.Chrome(PATH)\n"
     ]
    },
    {
     "name": "stdout",
     "output_type": "stream",
     "text": [
      "error 1\n",
      "todo OK\n",
      "https://open.spotify.com/track/2d3QlXE6FXFDeodiS66yjM?si=fc0b80e179f14114\n"
     ]
    },
    {
     "name": "stderr",
     "output_type": "stream",
     "text": [
      "/var/folders/s4/79ykyqjn7f16bdl_zqjgsbzh0000gp/T/ipykernel_14170/863171515.py:4: DeprecationWarning: executable_path has been deprecated, please pass in a Service object\n",
      "  driver=webdriver.Chrome(PATH)\n"
     ]
    },
    {
     "name": "stdout",
     "output_type": "stream",
     "text": [
      "todo OK\n",
      "https://open.spotify.com/track/12jmugLskEWmYRLKYfMNSk?si=7f87e862f7e24692\n"
     ]
    },
    {
     "name": "stderr",
     "output_type": "stream",
     "text": [
      "/var/folders/s4/79ykyqjn7f16bdl_zqjgsbzh0000gp/T/ipykernel_14170/863171515.py:4: DeprecationWarning: executable_path has been deprecated, please pass in a Service object\n",
      "  driver=webdriver.Chrome(PATH)\n"
     ]
    },
    {
     "name": "stdout",
     "output_type": "stream",
     "text": [
      "error 1\n",
      "todo OK\n",
      "https://open.spotify.com/track/4fPBB44eDH71YohayI4eKV?si=95dff630b0bd4451\n"
     ]
    },
    {
     "name": "stderr",
     "output_type": "stream",
     "text": [
      "/var/folders/s4/79ykyqjn7f16bdl_zqjgsbzh0000gp/T/ipykernel_14170/863171515.py:4: DeprecationWarning: executable_path has been deprecated, please pass in a Service object\n",
      "  driver=webdriver.Chrome(PATH)\n"
     ]
    },
    {
     "name": "stdout",
     "output_type": "stream",
     "text": [
      "todo OK\n",
      "https://open.spotify.com/track/3gBUiBPKh4ept9hoG0G93N?si=2cd3cda39c2e4bb1\n"
     ]
    },
    {
     "name": "stderr",
     "output_type": "stream",
     "text": [
      "/var/folders/s4/79ykyqjn7f16bdl_zqjgsbzh0000gp/T/ipykernel_14170/863171515.py:4: DeprecationWarning: executable_path has been deprecated, please pass in a Service object\n",
      "  driver=webdriver.Chrome(PATH)\n"
     ]
    },
    {
     "name": "stdout",
     "output_type": "stream",
     "text": [
      "error 1\n",
      "todo OK\n",
      "https://open.spotify.com/track/7w87IxuO7BDcJ3YUqCyMTT?si=92be27bda3a644fa\n"
     ]
    },
    {
     "name": "stderr",
     "output_type": "stream",
     "text": [
      "/var/folders/s4/79ykyqjn7f16bdl_zqjgsbzh0000gp/T/ipykernel_14170/863171515.py:4: DeprecationWarning: executable_path has been deprecated, please pass in a Service object\n",
      "  driver=webdriver.Chrome(PATH)\n"
     ]
    },
    {
     "name": "stdout",
     "output_type": "stream",
     "text": [
      "error 1\n",
      "todo OK\n",
      "https://open.spotify.com/track/6qZjm61s6u8Ead9sWxCDro?si=e035621e6fd446d8\n"
     ]
    },
    {
     "name": "stderr",
     "output_type": "stream",
     "text": [
      "/var/folders/s4/79ykyqjn7f16bdl_zqjgsbzh0000gp/T/ipykernel_14170/863171515.py:4: DeprecationWarning: executable_path has been deprecated, please pass in a Service object\n",
      "  driver=webdriver.Chrome(PATH)\n"
     ]
    },
    {
     "name": "stdout",
     "output_type": "stream",
     "text": [
      "error 4\n",
      "todo OK\n",
      "https://open.spotify.com/track/6qZjm61s6u8Ead9sWxCDro?si=e035621e6fd446d8\n"
     ]
    },
    {
     "name": "stderr",
     "output_type": "stream",
     "text": [
      "/var/folders/s4/79ykyqjn7f16bdl_zqjgsbzh0000gp/T/ipykernel_14170/863171515.py:4: DeprecationWarning: executable_path has been deprecated, please pass in a Service object\n",
      "  driver=webdriver.Chrome(PATH)\n"
     ]
    },
    {
     "name": "stdout",
     "output_type": "stream",
     "text": [
      "error 1\n",
      "error 4\n",
      "todo OK\n",
      "https://open.spotify.com/track/6qZjm61s6u8Ead9sWxCDro?si=e035621e6fd446d8\n"
     ]
    },
    {
     "name": "stderr",
     "output_type": "stream",
     "text": [
      "/var/folders/s4/79ykyqjn7f16bdl_zqjgsbzh0000gp/T/ipykernel_14170/863171515.py:4: DeprecationWarning: executable_path has been deprecated, please pass in a Service object\n",
      "  driver=webdriver.Chrome(PATH)\n"
     ]
    },
    {
     "name": "stdout",
     "output_type": "stream",
     "text": [
      "error 1\n",
      "todo OK\n",
      "https://open.spotify.com/track/0RhO0RV0YKyF05kZ4uQOHW?si=82d16d89a34e4dcd\n"
     ]
    },
    {
     "name": "stderr",
     "output_type": "stream",
     "text": [
      "/var/folders/s4/79ykyqjn7f16bdl_zqjgsbzh0000gp/T/ipykernel_14170/863171515.py:4: DeprecationWarning: executable_path has been deprecated, please pass in a Service object\n",
      "  driver=webdriver.Chrome(PATH)\n"
     ]
    },
    {
     "name": "stdout",
     "output_type": "stream",
     "text": [
      "error 1\n",
      "error 4\n",
      "todo OK\n",
      "https://open.spotify.com/track/0RhO0RV0YKyF05kZ4uQOHW?si=82d16d89a34e4dcd\n"
     ]
    },
    {
     "name": "stderr",
     "output_type": "stream",
     "text": [
      "/var/folders/s4/79ykyqjn7f16bdl_zqjgsbzh0000gp/T/ipykernel_14170/863171515.py:4: DeprecationWarning: executable_path has been deprecated, please pass in a Service object\n",
      "  driver=webdriver.Chrome(PATH)\n"
     ]
    },
    {
     "name": "stdout",
     "output_type": "stream",
     "text": [
      "error 1\n",
      "error 4\n",
      "todo OK\n",
      "https://open.spotify.com/track/0RhO0RV0YKyF05kZ4uQOHW?si=82d16d89a34e4dcd\n"
     ]
    },
    {
     "name": "stderr",
     "output_type": "stream",
     "text": [
      "/var/folders/s4/79ykyqjn7f16bdl_zqjgsbzh0000gp/T/ipykernel_14170/863171515.py:4: DeprecationWarning: executable_path has been deprecated, please pass in a Service object\n",
      "  driver=webdriver.Chrome(PATH)\n"
     ]
    },
    {
     "name": "stdout",
     "output_type": "stream",
     "text": [
      "error 1\n",
      "error 4\n",
      "todo OK\n",
      "https://open.spotify.com/track/0RhO0RV0YKyF05kZ4uQOHW?si=82d16d89a34e4dcd\n"
     ]
    },
    {
     "name": "stderr",
     "output_type": "stream",
     "text": [
      "/var/folders/s4/79ykyqjn7f16bdl_zqjgsbzh0000gp/T/ipykernel_14170/863171515.py:4: DeprecationWarning: executable_path has been deprecated, please pass in a Service object\n",
      "  driver=webdriver.Chrome(PATH)\n"
     ]
    },
    {
     "name": "stdout",
     "output_type": "stream",
     "text": [
      "error 1\n",
      "todo OK\n",
      "https://open.spotify.com/track/0QPZhPlcaKUKZbhNv0Hj4i?si=91f8c76a7d3c45dd\n"
     ]
    },
    {
     "name": "stderr",
     "output_type": "stream",
     "text": [
      "/var/folders/s4/79ykyqjn7f16bdl_zqjgsbzh0000gp/T/ipykernel_14170/863171515.py:4: DeprecationWarning: executable_path has been deprecated, please pass in a Service object\n",
      "  driver=webdriver.Chrome(PATH)\n"
     ]
    },
    {
     "name": "stdout",
     "output_type": "stream",
     "text": [
      "todo OK\n",
      "https://open.spotify.com/track/1iRvhKiXRElIH2Uf4gd95P?si=8eae67641f854391\n"
     ]
    },
    {
     "name": "stderr",
     "output_type": "stream",
     "text": [
      "/var/folders/s4/79ykyqjn7f16bdl_zqjgsbzh0000gp/T/ipykernel_14170/863171515.py:4: DeprecationWarning: executable_path has been deprecated, please pass in a Service object\n",
      "  driver=webdriver.Chrome(PATH)\n"
     ]
    },
    {
     "name": "stdout",
     "output_type": "stream",
     "text": [
      "error 4\n",
      "todo OK\n",
      "https://open.spotify.com/track/1iRvhKiXRElIH2Uf4gd95P?si=8eae67641f854391\n"
     ]
    },
    {
     "name": "stderr",
     "output_type": "stream",
     "text": [
      "/var/folders/s4/79ykyqjn7f16bdl_zqjgsbzh0000gp/T/ipykernel_14170/863171515.py:4: DeprecationWarning: executable_path has been deprecated, please pass in a Service object\n",
      "  driver=webdriver.Chrome(PATH)\n"
     ]
    },
    {
     "name": "stdout",
     "output_type": "stream",
     "text": [
      "error 1\n",
      "todo OK\n",
      "https://open.spotify.com/track/2SL6oP2YAEQbqsrkOzRGO4?si=8502d7fdb0aa4103\n"
     ]
    },
    {
     "name": "stderr",
     "output_type": "stream",
     "text": [
      "/var/folders/s4/79ykyqjn7f16bdl_zqjgsbzh0000gp/T/ipykernel_14170/863171515.py:4: DeprecationWarning: executable_path has been deprecated, please pass in a Service object\n",
      "  driver=webdriver.Chrome(PATH)\n"
     ]
    },
    {
     "name": "stdout",
     "output_type": "stream",
     "text": [
      "error 1\n",
      "todo OK\n",
      "https://open.spotify.com/track/7lQ8MOhq6IN2w8EYcFNSUk?si=3450006682d943a0\n"
     ]
    },
    {
     "name": "stderr",
     "output_type": "stream",
     "text": [
      "/var/folders/s4/79ykyqjn7f16bdl_zqjgsbzh0000gp/T/ipykernel_14170/863171515.py:4: DeprecationWarning: executable_path has been deprecated, please pass in a Service object\n",
      "  driver=webdriver.Chrome(PATH)\n"
     ]
    },
    {
     "name": "stdout",
     "output_type": "stream",
     "text": [
      "error 1\n",
      "todo OK\n",
      "https://open.spotify.com/track/1v7L65Lzy0j0vdpRjJewt1?si=86df3c5aee2a43d0\n"
     ]
    },
    {
     "name": "stderr",
     "output_type": "stream",
     "text": [
      "/var/folders/s4/79ykyqjn7f16bdl_zqjgsbzh0000gp/T/ipykernel_14170/863171515.py:4: DeprecationWarning: executable_path has been deprecated, please pass in a Service object\n",
      "  driver=webdriver.Chrome(PATH)\n"
     ]
    },
    {
     "name": "stdout",
     "output_type": "stream",
     "text": [
      "error 1\n",
      "error 4\n",
      "todo OK\n",
      "https://open.spotify.com/track/1v7L65Lzy0j0vdpRjJewt1?si=86df3c5aee2a43d0\n"
     ]
    },
    {
     "name": "stderr",
     "output_type": "stream",
     "text": [
      "/var/folders/s4/79ykyqjn7f16bdl_zqjgsbzh0000gp/T/ipykernel_14170/863171515.py:4: DeprecationWarning: executable_path has been deprecated, please pass in a Service object\n",
      "  driver=webdriver.Chrome(PATH)\n"
     ]
    },
    {
     "name": "stdout",
     "output_type": "stream",
     "text": [
      "error 1\n",
      "error 4\n",
      "todo OK\n",
      "https://open.spotify.com/track/1v7L65Lzy0j0vdpRjJewt1?si=86df3c5aee2a43d0\n"
     ]
    },
    {
     "name": "stderr",
     "output_type": "stream",
     "text": [
      "/var/folders/s4/79ykyqjn7f16bdl_zqjgsbzh0000gp/T/ipykernel_14170/863171515.py:4: DeprecationWarning: executable_path has been deprecated, please pass in a Service object\n",
      "  driver=webdriver.Chrome(PATH)\n"
     ]
    },
    {
     "name": "stdout",
     "output_type": "stream",
     "text": [
      "error 1\n",
      "error 4\n",
      "todo OK\n",
      "https://open.spotify.com/track/1v7L65Lzy0j0vdpRjJewt1?si=86df3c5aee2a43d0\n"
     ]
    },
    {
     "name": "stderr",
     "output_type": "stream",
     "text": [
      "/var/folders/s4/79ykyqjn7f16bdl_zqjgsbzh0000gp/T/ipykernel_14170/863171515.py:4: DeprecationWarning: executable_path has been deprecated, please pass in a Service object\n",
      "  driver=webdriver.Chrome(PATH)\n"
     ]
    },
    {
     "name": "stdout",
     "output_type": "stream",
     "text": [
      "todo OK\n",
      "https://open.spotify.com/track/1EvR32o6JMqRyE6pm2emhk?si=dfe46cdb02934433\n"
     ]
    },
    {
     "name": "stderr",
     "output_type": "stream",
     "text": [
      "/var/folders/s4/79ykyqjn7f16bdl_zqjgsbzh0000gp/T/ipykernel_14170/863171515.py:4: DeprecationWarning: executable_path has been deprecated, please pass in a Service object\n",
      "  driver=webdriver.Chrome(PATH)\n"
     ]
    },
    {
     "name": "stdout",
     "output_type": "stream",
     "text": [
      "error 1\n",
      "todo OK\n",
      "https://open.spotify.com/track/4CDIEKHMb2MBgvgHBkhiJD?si=6aa4c0e9ef4540c9\n"
     ]
    },
    {
     "name": "stderr",
     "output_type": "stream",
     "text": [
      "/var/folders/s4/79ykyqjn7f16bdl_zqjgsbzh0000gp/T/ipykernel_14170/863171515.py:4: DeprecationWarning: executable_path has been deprecated, please pass in a Service object\n",
      "  driver=webdriver.Chrome(PATH)\n"
     ]
    },
    {
     "name": "stdout",
     "output_type": "stream",
     "text": [
      "todo OK\n",
      "https://open.spotify.com/track/4LHZ5lPxwIhMyyTIJOEj4V?si=f9472c7cf8bf41cc\n"
     ]
    },
    {
     "name": "stderr",
     "output_type": "stream",
     "text": [
      "/var/folders/s4/79ykyqjn7f16bdl_zqjgsbzh0000gp/T/ipykernel_14170/863171515.py:4: DeprecationWarning: executable_path has been deprecated, please pass in a Service object\n",
      "  driver=webdriver.Chrome(PATH)\n"
     ]
    },
    {
     "name": "stdout",
     "output_type": "stream",
     "text": [
      "error 1\n",
      "error 4\n",
      "todo OK\n",
      "https://open.spotify.com/track/4LHZ5lPxwIhMyyTIJOEj4V?si=f9472c7cf8bf41cc\n"
     ]
    },
    {
     "name": "stderr",
     "output_type": "stream",
     "text": [
      "/var/folders/s4/79ykyqjn7f16bdl_zqjgsbzh0000gp/T/ipykernel_14170/863171515.py:4: DeprecationWarning: executable_path has been deprecated, please pass in a Service object\n",
      "  driver=webdriver.Chrome(PATH)\n"
     ]
    },
    {
     "name": "stdout",
     "output_type": "stream",
     "text": [
      "error 1\n",
      "todo OK\n",
      "https://open.spotify.com/track/6kUaRtXf19fu5IQWjmwsEJ?si=7ddda64cb65d4a69\n"
     ]
    },
    {
     "name": "stderr",
     "output_type": "stream",
     "text": [
      "/var/folders/s4/79ykyqjn7f16bdl_zqjgsbzh0000gp/T/ipykernel_14170/863171515.py:4: DeprecationWarning: executable_path has been deprecated, please pass in a Service object\n",
      "  driver=webdriver.Chrome(PATH)\n"
     ]
    },
    {
     "name": "stdout",
     "output_type": "stream",
     "text": [
      "error 1\n",
      "todo OK\n",
      "https://open.spotify.com/track/3yfqSUWxFvZELEM4PmlwIR?si=d2c2bb13e3bb46f9\n"
     ]
    },
    {
     "name": "stderr",
     "output_type": "stream",
     "text": [
      "/var/folders/s4/79ykyqjn7f16bdl_zqjgsbzh0000gp/T/ipykernel_14170/863171515.py:4: DeprecationWarning: executable_path has been deprecated, please pass in a Service object\n",
      "  driver=webdriver.Chrome(PATH)\n"
     ]
    },
    {
     "name": "stdout",
     "output_type": "stream",
     "text": [
      "error 1\n",
      "todo OK\n",
      "https://open.spotify.com/track/23wfXwnsPZYe5A1xXRHb3J?si=df8df1aa651a4774\n"
     ]
    },
    {
     "name": "stderr",
     "output_type": "stream",
     "text": [
      "/var/folders/s4/79ykyqjn7f16bdl_zqjgsbzh0000gp/T/ipykernel_14170/863171515.py:4: DeprecationWarning: executable_path has been deprecated, please pass in a Service object\n",
      "  driver=webdriver.Chrome(PATH)\n"
     ]
    },
    {
     "name": "stdout",
     "output_type": "stream",
     "text": [
      "error 1\n",
      "error 4\n",
      "todo OK\n",
      "https://open.spotify.com/track/23wfXwnsPZYe5A1xXRHb3J?si=df8df1aa651a4774\n"
     ]
    },
    {
     "name": "stderr",
     "output_type": "stream",
     "text": [
      "/var/folders/s4/79ykyqjn7f16bdl_zqjgsbzh0000gp/T/ipykernel_14170/863171515.py:4: DeprecationWarning: executable_path has been deprecated, please pass in a Service object\n",
      "  driver=webdriver.Chrome(PATH)\n"
     ]
    },
    {
     "name": "stdout",
     "output_type": "stream",
     "text": [
      "error 1\n",
      "todo OK\n",
      "https://open.spotify.com/track/0F2sfIqC4Csaiow6WBbAbC?si=e5cf18995e5f4317\n"
     ]
    },
    {
     "name": "stderr",
     "output_type": "stream",
     "text": [
      "/var/folders/s4/79ykyqjn7f16bdl_zqjgsbzh0000gp/T/ipykernel_14170/863171515.py:4: DeprecationWarning: executable_path has been deprecated, please pass in a Service object\n",
      "  driver=webdriver.Chrome(PATH)\n"
     ]
    },
    {
     "name": "stdout",
     "output_type": "stream",
     "text": [
      "todo OK\n",
      "https://open.spotify.com/track/6cS9PmLky2NhLOhpIsUlow?si=74e663e5381c47df\n"
     ]
    },
    {
     "name": "stderr",
     "output_type": "stream",
     "text": [
      "/var/folders/s4/79ykyqjn7f16bdl_zqjgsbzh0000gp/T/ipykernel_14170/863171515.py:4: DeprecationWarning: executable_path has been deprecated, please pass in a Service object\n",
      "  driver=webdriver.Chrome(PATH)\n"
     ]
    },
    {
     "name": "stdout",
     "output_type": "stream",
     "text": [
      "error 4\n",
      "todo OK\n",
      "https://open.spotify.com/track/6cS9PmLky2NhLOhpIsUlow?si=74e663e5381c47df\n"
     ]
    },
    {
     "name": "stderr",
     "output_type": "stream",
     "text": [
      "/var/folders/s4/79ykyqjn7f16bdl_zqjgsbzh0000gp/T/ipykernel_14170/863171515.py:4: DeprecationWarning: executable_path has been deprecated, please pass in a Service object\n",
      "  driver=webdriver.Chrome(PATH)\n"
     ]
    },
    {
     "name": "stdout",
     "output_type": "stream",
     "text": [
      "todo OK\n",
      "https://open.spotify.com/track/5aDyBLLClzgvg1W0avKyiZ?si=ba6784dd33094c66\n"
     ]
    },
    {
     "name": "stderr",
     "output_type": "stream",
     "text": [
      "/var/folders/s4/79ykyqjn7f16bdl_zqjgsbzh0000gp/T/ipykernel_14170/863171515.py:4: DeprecationWarning: executable_path has been deprecated, please pass in a Service object\n",
      "  driver=webdriver.Chrome(PATH)\n"
     ]
    },
    {
     "name": "stdout",
     "output_type": "stream",
     "text": [
      "error 4\n",
      "todo OK\n",
      "https://open.spotify.com/track/5aDyBLLClzgvg1W0avKyiZ?si=ba6784dd33094c66\n"
     ]
    },
    {
     "name": "stderr",
     "output_type": "stream",
     "text": [
      "/var/folders/s4/79ykyqjn7f16bdl_zqjgsbzh0000gp/T/ipykernel_14170/863171515.py:4: DeprecationWarning: executable_path has been deprecated, please pass in a Service object\n",
      "  driver=webdriver.Chrome(PATH)\n"
     ]
    },
    {
     "name": "stdout",
     "output_type": "stream",
     "text": [
      "todo OK\n",
      "https://open.spotify.com/track/6or1bKJiZ06IlK0vFvY75k?si=6db1859ff1e6457a\n"
     ]
    },
    {
     "name": "stderr",
     "output_type": "stream",
     "text": [
      "/var/folders/s4/79ykyqjn7f16bdl_zqjgsbzh0000gp/T/ipykernel_14170/863171515.py:4: DeprecationWarning: executable_path has been deprecated, please pass in a Service object\n",
      "  driver=webdriver.Chrome(PATH)\n"
     ]
    },
    {
     "name": "stdout",
     "output_type": "stream",
     "text": [
      "error 1\n",
      "error 4\n",
      "todo OK\n",
      "https://open.spotify.com/track/6or1bKJiZ06IlK0vFvY75k?si=6db1859ff1e6457a\n"
     ]
    },
    {
     "name": "stderr",
     "output_type": "stream",
     "text": [
      "/var/folders/s4/79ykyqjn7f16bdl_zqjgsbzh0000gp/T/ipykernel_14170/863171515.py:4: DeprecationWarning: executable_path has been deprecated, please pass in a Service object\n",
      "  driver=webdriver.Chrome(PATH)\n"
     ]
    },
    {
     "name": "stdout",
     "output_type": "stream",
     "text": [
      "error 1\n",
      "error 4\n",
      "todo OK\n",
      "https://open.spotify.com/track/6or1bKJiZ06IlK0vFvY75k?si=6db1859ff1e6457a\n"
     ]
    },
    {
     "name": "stderr",
     "output_type": "stream",
     "text": [
      "/var/folders/s4/79ykyqjn7f16bdl_zqjgsbzh0000gp/T/ipykernel_14170/863171515.py:4: DeprecationWarning: executable_path has been deprecated, please pass in a Service object\n",
      "  driver=webdriver.Chrome(PATH)\n"
     ]
    },
    {
     "name": "stdout",
     "output_type": "stream",
     "text": [
      "error 1\n",
      "error 4\n",
      "todo OK\n",
      "https://open.spotify.com/track/6or1bKJiZ06IlK0vFvY75k?si=6db1859ff1e6457a\n"
     ]
    },
    {
     "name": "stderr",
     "output_type": "stream",
     "text": [
      "/var/folders/s4/79ykyqjn7f16bdl_zqjgsbzh0000gp/T/ipykernel_14170/863171515.py:4: DeprecationWarning: executable_path has been deprecated, please pass in a Service object\n",
      "  driver=webdriver.Chrome(PATH)\n"
     ]
    },
    {
     "name": "stdout",
     "output_type": "stream",
     "text": [
      "error 1\n",
      "todo OK\n",
      "https://open.spotify.com/track/1IJlrWzWI5Ukk5BSl1gnYD?si=1e756b81946f49b6\n"
     ]
    },
    {
     "name": "stderr",
     "output_type": "stream",
     "text": [
      "/var/folders/s4/79ykyqjn7f16bdl_zqjgsbzh0000gp/T/ipykernel_14170/863171515.py:4: DeprecationWarning: executable_path has been deprecated, please pass in a Service object\n",
      "  driver=webdriver.Chrome(PATH)\n"
     ]
    },
    {
     "name": "stdout",
     "output_type": "stream",
     "text": [
      "error 1\n",
      "error 4\n",
      "todo OK\n",
      "https://open.spotify.com/track/1IJlrWzWI5Ukk5BSl1gnYD?si=1e756b81946f49b6\n"
     ]
    },
    {
     "name": "stderr",
     "output_type": "stream",
     "text": [
      "/var/folders/s4/79ykyqjn7f16bdl_zqjgsbzh0000gp/T/ipykernel_14170/863171515.py:4: DeprecationWarning: executable_path has been deprecated, please pass in a Service object\n",
      "  driver=webdriver.Chrome(PATH)\n"
     ]
    },
    {
     "name": "stdout",
     "output_type": "stream",
     "text": [
      "error 1\n",
      "todo OK\n",
      "https://open.spotify.com/track/1MkDGQvM8CRrMIcHxjTni5?si=26f0a87f071e4b99\n"
     ]
    },
    {
     "name": "stderr",
     "output_type": "stream",
     "text": [
      "/var/folders/s4/79ykyqjn7f16bdl_zqjgsbzh0000gp/T/ipykernel_14170/863171515.py:4: DeprecationWarning: executable_path has been deprecated, please pass in a Service object\n",
      "  driver=webdriver.Chrome(PATH)\n"
     ]
    },
    {
     "name": "stdout",
     "output_type": "stream",
     "text": [
      "error 4\n",
      "todo OK\n",
      "https://open.spotify.com/track/1MkDGQvM8CRrMIcHxjTni5?si=26f0a87f071e4b99\n"
     ]
    },
    {
     "name": "stderr",
     "output_type": "stream",
     "text": [
      "/var/folders/s4/79ykyqjn7f16bdl_zqjgsbzh0000gp/T/ipykernel_14170/863171515.py:4: DeprecationWarning: executable_path has been deprecated, please pass in a Service object\n",
      "  driver=webdriver.Chrome(PATH)\n"
     ]
    },
    {
     "name": "stdout",
     "output_type": "stream",
     "text": [
      "error 1\n",
      "todo OK\n",
      "https://open.spotify.com/track/6iS2fgOEJFlpGftO81En1i?si=61076f8415b344f3\n"
     ]
    },
    {
     "name": "stderr",
     "output_type": "stream",
     "text": [
      "/var/folders/s4/79ykyqjn7f16bdl_zqjgsbzh0000gp/T/ipykernel_14170/863171515.py:4: DeprecationWarning: executable_path has been deprecated, please pass in a Service object\n",
      "  driver=webdriver.Chrome(PATH)\n"
     ]
    },
    {
     "name": "stdout",
     "output_type": "stream",
     "text": [
      "todo OK\n",
      "https://open.spotify.com/track/2i1RPs2CVW6Iw92PuWcQgF?si=1012a5875dae4a43\n"
     ]
    },
    {
     "name": "stderr",
     "output_type": "stream",
     "text": [
      "/var/folders/s4/79ykyqjn7f16bdl_zqjgsbzh0000gp/T/ipykernel_14170/863171515.py:4: DeprecationWarning: executable_path has been deprecated, please pass in a Service object\n",
      "  driver=webdriver.Chrome(PATH)\n"
     ]
    },
    {
     "name": "stdout",
     "output_type": "stream",
     "text": [
      "error 4\n",
      "todo OK\n",
      "https://open.spotify.com/track/2i1RPs2CVW6Iw92PuWcQgF?si=1012a5875dae4a43\n"
     ]
    },
    {
     "name": "stderr",
     "output_type": "stream",
     "text": [
      "/var/folders/s4/79ykyqjn7f16bdl_zqjgsbzh0000gp/T/ipykernel_14170/863171515.py:4: DeprecationWarning: executable_path has been deprecated, please pass in a Service object\n",
      "  driver=webdriver.Chrome(PATH)\n"
     ]
    },
    {
     "name": "stdout",
     "output_type": "stream",
     "text": [
      "error 4\n",
      "todo OK\n",
      "https://open.spotify.com/track/2i1RPs2CVW6Iw92PuWcQgF?si=1012a5875dae4a43\n"
     ]
    },
    {
     "name": "stderr",
     "output_type": "stream",
     "text": [
      "/var/folders/s4/79ykyqjn7f16bdl_zqjgsbzh0000gp/T/ipykernel_14170/863171515.py:4: DeprecationWarning: executable_path has been deprecated, please pass in a Service object\n",
      "  driver=webdriver.Chrome(PATH)\n"
     ]
    },
    {
     "name": "stdout",
     "output_type": "stream",
     "text": [
      "error 1\n",
      "todo OK\n",
      "https://open.spotify.com/track/6Uj1ctrBOjOas8xZXGqKk4?si=83dbf6cbf1f44988\n"
     ]
    },
    {
     "name": "stderr",
     "output_type": "stream",
     "text": [
      "/var/folders/s4/79ykyqjn7f16bdl_zqjgsbzh0000gp/T/ipykernel_14170/863171515.py:4: DeprecationWarning: executable_path has been deprecated, please pass in a Service object\n",
      "  driver=webdriver.Chrome(PATH)\n"
     ]
    },
    {
     "name": "stdout",
     "output_type": "stream",
     "text": [
      "error 1\n",
      "todo OK\n",
      "https://open.spotify.com/track/0CsR9Y9SnC6ZWmekmVqSHz?si=b4b12e5da41145c3\n"
     ]
    },
    {
     "name": "stderr",
     "output_type": "stream",
     "text": [
      "/var/folders/s4/79ykyqjn7f16bdl_zqjgsbzh0000gp/T/ipykernel_14170/863171515.py:4: DeprecationWarning: executable_path has been deprecated, please pass in a Service object\n",
      "  driver=webdriver.Chrome(PATH)\n"
     ]
    },
    {
     "name": "stdout",
     "output_type": "stream",
     "text": [
      "error 1\n",
      "error 4\n",
      "todo OK\n",
      "https://open.spotify.com/track/0CsR9Y9SnC6ZWmekmVqSHz?si=b4b12e5da41145c3\n"
     ]
    },
    {
     "name": "stderr",
     "output_type": "stream",
     "text": [
      "/var/folders/s4/79ykyqjn7f16bdl_zqjgsbzh0000gp/T/ipykernel_14170/863171515.py:4: DeprecationWarning: executable_path has been deprecated, please pass in a Service object\n",
      "  driver=webdriver.Chrome(PATH)\n"
     ]
    },
    {
     "name": "stdout",
     "output_type": "stream",
     "text": [
      "todo OK\n",
      "https://open.spotify.com/track/3Vi5XqYrmQgOYBajMWSvCi?si=e870998e18b443eb\n"
     ]
    },
    {
     "name": "stderr",
     "output_type": "stream",
     "text": [
      "/var/folders/s4/79ykyqjn7f16bdl_zqjgsbzh0000gp/T/ipykernel_14170/863171515.py:4: DeprecationWarning: executable_path has been deprecated, please pass in a Service object\n",
      "  driver=webdriver.Chrome(PATH)\n"
     ]
    },
    {
     "name": "stdout",
     "output_type": "stream",
     "text": [
      "error 1\n",
      "todo OK\n",
      "https://open.spotify.com/track/0W6I02J9xcqK8MtSeosEXb?si=bceab2421c1945d2\n"
     ]
    },
    {
     "name": "stderr",
     "output_type": "stream",
     "text": [
      "/var/folders/s4/79ykyqjn7f16bdl_zqjgsbzh0000gp/T/ipykernel_14170/863171515.py:4: DeprecationWarning: executable_path has been deprecated, please pass in a Service object\n",
      "  driver=webdriver.Chrome(PATH)\n"
     ]
    },
    {
     "name": "stdout",
     "output_type": "stream",
     "text": [
      "error 1\n",
      "error 4\n",
      "todo OK\n",
      "https://open.spotify.com/track/0W6I02J9xcqK8MtSeosEXb?si=bceab2421c1945d2\n"
     ]
    },
    {
     "name": "stderr",
     "output_type": "stream",
     "text": [
      "/var/folders/s4/79ykyqjn7f16bdl_zqjgsbzh0000gp/T/ipykernel_14170/863171515.py:4: DeprecationWarning: executable_path has been deprecated, please pass in a Service object\n",
      "  driver=webdriver.Chrome(PATH)\n"
     ]
    },
    {
     "name": "stdout",
     "output_type": "stream",
     "text": [
      "error 1\n",
      "error 4\n",
      "todo OK\n",
      "https://open.spotify.com/track/0W6I02J9xcqK8MtSeosEXb?si=bceab2421c1945d2\n"
     ]
    },
    {
     "name": "stderr",
     "output_type": "stream",
     "text": [
      "/var/folders/s4/79ykyqjn7f16bdl_zqjgsbzh0000gp/T/ipykernel_14170/863171515.py:4: DeprecationWarning: executable_path has been deprecated, please pass in a Service object\n",
      "  driver=webdriver.Chrome(PATH)\n"
     ]
    },
    {
     "name": "stdout",
     "output_type": "stream",
     "text": [
      "error 1\n",
      "error 4\n",
      "todo OK\n",
      "https://open.spotify.com/track/0W6I02J9xcqK8MtSeosEXb?si=bceab2421c1945d2\n"
     ]
    },
    {
     "name": "stderr",
     "output_type": "stream",
     "text": [
      "/var/folders/s4/79ykyqjn7f16bdl_zqjgsbzh0000gp/T/ipykernel_14170/863171515.py:4: DeprecationWarning: executable_path has been deprecated, please pass in a Service object\n",
      "  driver=webdriver.Chrome(PATH)\n"
     ]
    },
    {
     "name": "stdout",
     "output_type": "stream",
     "text": [
      "error 1\n",
      "error 4\n",
      "todo OK\n",
      "https://open.spotify.com/track/0W6I02J9xcqK8MtSeosEXb?si=bceab2421c1945d2\n"
     ]
    },
    {
     "name": "stderr",
     "output_type": "stream",
     "text": [
      "/var/folders/s4/79ykyqjn7f16bdl_zqjgsbzh0000gp/T/ipykernel_14170/863171515.py:4: DeprecationWarning: executable_path has been deprecated, please pass in a Service object\n",
      "  driver=webdriver.Chrome(PATH)\n"
     ]
    },
    {
     "name": "stdout",
     "output_type": "stream",
     "text": [
      "error 4\n",
      "todo OK\n",
      "https://open.spotify.com/track/0W6I02J9xcqK8MtSeosEXb?si=bceab2421c1945d2\n"
     ]
    },
    {
     "name": "stderr",
     "output_type": "stream",
     "text": [
      "/var/folders/s4/79ykyqjn7f16bdl_zqjgsbzh0000gp/T/ipykernel_14170/863171515.py:4: DeprecationWarning: executable_path has been deprecated, please pass in a Service object\n",
      "  driver=webdriver.Chrome(PATH)\n"
     ]
    },
    {
     "name": "stdout",
     "output_type": "stream",
     "text": [
      "error 1\n",
      "error 4\n",
      "todo OK\n",
      "https://open.spotify.com/track/0W6I02J9xcqK8MtSeosEXb?si=bceab2421c1945d2\n"
     ]
    },
    {
     "name": "stderr",
     "output_type": "stream",
     "text": [
      "/var/folders/s4/79ykyqjn7f16bdl_zqjgsbzh0000gp/T/ipykernel_14170/863171515.py:4: DeprecationWarning: executable_path has been deprecated, please pass in a Service object\n",
      "  driver=webdriver.Chrome(PATH)\n"
     ]
    },
    {
     "name": "stdout",
     "output_type": "stream",
     "text": [
      "error 1\n",
      "error 4\n",
      "todo OK\n",
      "https://open.spotify.com/track/0W6I02J9xcqK8MtSeosEXb?si=bceab2421c1945d2\n"
     ]
    },
    {
     "name": "stderr",
     "output_type": "stream",
     "text": [
      "/var/folders/s4/79ykyqjn7f16bdl_zqjgsbzh0000gp/T/ipykernel_14170/863171515.py:4: DeprecationWarning: executable_path has been deprecated, please pass in a Service object\n",
      "  driver=webdriver.Chrome(PATH)\n"
     ]
    },
    {
     "name": "stdout",
     "output_type": "stream",
     "text": [
      "error 1\n",
      "error 4\n",
      "todo OK\n",
      "https://open.spotify.com/track/0W6I02J9xcqK8MtSeosEXb?si=bceab2421c1945d2\n"
     ]
    },
    {
     "name": "stderr",
     "output_type": "stream",
     "text": [
      "/var/folders/s4/79ykyqjn7f16bdl_zqjgsbzh0000gp/T/ipykernel_14170/863171515.py:4: DeprecationWarning: executable_path has been deprecated, please pass in a Service object\n",
      "  driver=webdriver.Chrome(PATH)\n"
     ]
    },
    {
     "name": "stdout",
     "output_type": "stream",
     "text": [
      "error 1\n",
      "todo OK\n",
      "https://open.spotify.com/track/1ZR473PTTSHGcnyRyidBoA?si=590884d5c6454757\n"
     ]
    },
    {
     "name": "stderr",
     "output_type": "stream",
     "text": [
      "/var/folders/s4/79ykyqjn7f16bdl_zqjgsbzh0000gp/T/ipykernel_14170/863171515.py:4: DeprecationWarning: executable_path has been deprecated, please pass in a Service object\n",
      "  driver=webdriver.Chrome(PATH)\n"
     ]
    },
    {
     "name": "stdout",
     "output_type": "stream",
     "text": [
      "error 1\n",
      "todo OK\n",
      "https://open.spotify.com/track/6I3Evf3nNhxFA5lSM37Y0v?si=48a0a9fc40b74c7a\n"
     ]
    },
    {
     "name": "stderr",
     "output_type": "stream",
     "text": [
      "/var/folders/s4/79ykyqjn7f16bdl_zqjgsbzh0000gp/T/ipykernel_14170/863171515.py:4: DeprecationWarning: executable_path has been deprecated, please pass in a Service object\n",
      "  driver=webdriver.Chrome(PATH)\n"
     ]
    },
    {
     "name": "stdout",
     "output_type": "stream",
     "text": [
      "error 1\n",
      "todo OK\n",
      "https://open.spotify.com/track/5QBVRETMnR1sKyrQAMypDu?si=75f057f0a63a4060\n"
     ]
    },
    {
     "name": "stderr",
     "output_type": "stream",
     "text": [
      "/var/folders/s4/79ykyqjn7f16bdl_zqjgsbzh0000gp/T/ipykernel_14170/863171515.py:4: DeprecationWarning: executable_path has been deprecated, please pass in a Service object\n",
      "  driver=webdriver.Chrome(PATH)\n"
     ]
    },
    {
     "name": "stdout",
     "output_type": "stream",
     "text": [
      "todo OK\n",
      "https://open.spotify.com/track/6ESn78HoJcRVX6nCqewWtU?si=aea95651ab884a8f\n"
     ]
    },
    {
     "name": "stderr",
     "output_type": "stream",
     "text": [
      "/var/folders/s4/79ykyqjn7f16bdl_zqjgsbzh0000gp/T/ipykernel_14170/863171515.py:4: DeprecationWarning: executable_path has been deprecated, please pass in a Service object\n",
      "  driver=webdriver.Chrome(PATH)\n"
     ]
    },
    {
     "name": "stdout",
     "output_type": "stream",
     "text": [
      "error 1\n",
      "error 4\n",
      "todo OK\n",
      "https://open.spotify.com/track/6ESn78HoJcRVX6nCqewWtU?si=aea95651ab884a8f\n"
     ]
    },
    {
     "name": "stderr",
     "output_type": "stream",
     "text": [
      "/var/folders/s4/79ykyqjn7f16bdl_zqjgsbzh0000gp/T/ipykernel_14170/863171515.py:4: DeprecationWarning: executable_path has been deprecated, please pass in a Service object\n",
      "  driver=webdriver.Chrome(PATH)\n"
     ]
    },
    {
     "name": "stdout",
     "output_type": "stream",
     "text": [
      "todo OK\n",
      "https://open.spotify.com/track/4XeqABCbUqyznqTgB8Ckzj?si=e6070821de9e4d4c\n"
     ]
    },
    {
     "name": "stderr",
     "output_type": "stream",
     "text": [
      "/var/folders/s4/79ykyqjn7f16bdl_zqjgsbzh0000gp/T/ipykernel_14170/863171515.py:4: DeprecationWarning: executable_path has been deprecated, please pass in a Service object\n",
      "  driver=webdriver.Chrome(PATH)\n"
     ]
    },
    {
     "name": "stdout",
     "output_type": "stream",
     "text": [
      "todo OK\n",
      "https://open.spotify.com/track/6eGMWnY9RsEWLDRFcdGWBf?si=b14c89fbfe244a20\n"
     ]
    },
    {
     "name": "stderr",
     "output_type": "stream",
     "text": [
      "/var/folders/s4/79ykyqjn7f16bdl_zqjgsbzh0000gp/T/ipykernel_14170/863171515.py:4: DeprecationWarning: executable_path has been deprecated, please pass in a Service object\n",
      "  driver=webdriver.Chrome(PATH)\n"
     ]
    },
    {
     "name": "stdout",
     "output_type": "stream",
     "text": [
      "error 1\n",
      "todo OK\n",
      "https://open.spotify.com/track/1X3ltingEVNGRoJf1dvZfQ?si=3eac86928bdc46c3\n"
     ]
    },
    {
     "name": "stderr",
     "output_type": "stream",
     "text": [
      "/var/folders/s4/79ykyqjn7f16bdl_zqjgsbzh0000gp/T/ipykernel_14170/863171515.py:4: DeprecationWarning: executable_path has been deprecated, please pass in a Service object\n",
      "  driver=webdriver.Chrome(PATH)\n"
     ]
    },
    {
     "name": "stdout",
     "output_type": "stream",
     "text": [
      "error 1\n",
      "todo OK\n",
      "https://open.spotify.com/track/0mr8FAnN9X70p5KRUwMIJx?si=120e2e6fb0624ee2\n"
     ]
    },
    {
     "name": "stderr",
     "output_type": "stream",
     "text": [
      "/var/folders/s4/79ykyqjn7f16bdl_zqjgsbzh0000gp/T/ipykernel_14170/863171515.py:4: DeprecationWarning: executable_path has been deprecated, please pass in a Service object\n",
      "  driver=webdriver.Chrome(PATH)\n"
     ]
    },
    {
     "name": "stdout",
     "output_type": "stream",
     "text": [
      "error 4\n",
      "todo OK\n",
      "https://open.spotify.com/track/0mr8FAnN9X70p5KRUwMIJx?si=120e2e6fb0624ee2\n"
     ]
    },
    {
     "name": "stderr",
     "output_type": "stream",
     "text": [
      "/var/folders/s4/79ykyqjn7f16bdl_zqjgsbzh0000gp/T/ipykernel_14170/863171515.py:4: DeprecationWarning: executable_path has been deprecated, please pass in a Service object\n",
      "  driver=webdriver.Chrome(PATH)\n"
     ]
    },
    {
     "name": "stdout",
     "output_type": "stream",
     "text": [
      "error 1\n",
      "error 4\n",
      "todo OK\n",
      "https://open.spotify.com/track/0mr8FAnN9X70p5KRUwMIJx?si=120e2e6fb0624ee2\n"
     ]
    },
    {
     "name": "stderr",
     "output_type": "stream",
     "text": [
      "/var/folders/s4/79ykyqjn7f16bdl_zqjgsbzh0000gp/T/ipykernel_14170/863171515.py:4: DeprecationWarning: executable_path has been deprecated, please pass in a Service object\n",
      "  driver=webdriver.Chrome(PATH)\n"
     ]
    },
    {
     "name": "stdout",
     "output_type": "stream",
     "text": [
      "error 1\n",
      "todo OK\n",
      "https://open.spotify.com/track/7Bm8yhEknZk1NdlaifB11k?si=bf7ad26727dd4ab5\n"
     ]
    },
    {
     "name": "stderr",
     "output_type": "stream",
     "text": [
      "/var/folders/s4/79ykyqjn7f16bdl_zqjgsbzh0000gp/T/ipykernel_14170/863171515.py:4: DeprecationWarning: executable_path has been deprecated, please pass in a Service object\n",
      "  driver=webdriver.Chrome(PATH)\n"
     ]
    },
    {
     "name": "stdout",
     "output_type": "stream",
     "text": [
      "error 1\n",
      "todo OK\n",
      "https://open.spotify.com/track/5RePVaFWSQweMQzWwBGAlT?si=252885f57c034fed\n"
     ]
    },
    {
     "name": "stderr",
     "output_type": "stream",
     "text": [
      "/var/folders/s4/79ykyqjn7f16bdl_zqjgsbzh0000gp/T/ipykernel_14170/863171515.py:4: DeprecationWarning: executable_path has been deprecated, please pass in a Service object\n",
      "  driver=webdriver.Chrome(PATH)\n"
     ]
    },
    {
     "name": "stdout",
     "output_type": "stream",
     "text": [
      "error 1\n",
      "error 4\n",
      "todo OK\n",
      "https://open.spotify.com/track/5RePVaFWSQweMQzWwBGAlT?si=252885f57c034fed\n"
     ]
    },
    {
     "name": "stderr",
     "output_type": "stream",
     "text": [
      "/var/folders/s4/79ykyqjn7f16bdl_zqjgsbzh0000gp/T/ipykernel_14170/863171515.py:4: DeprecationWarning: executable_path has been deprecated, please pass in a Service object\n",
      "  driver=webdriver.Chrome(PATH)\n"
     ]
    },
    {
     "name": "stdout",
     "output_type": "stream",
     "text": [
      "error 1\n",
      "error 4\n",
      "todo OK\n",
      "https://open.spotify.com/track/5RePVaFWSQweMQzWwBGAlT?si=252885f57c034fed\n"
     ]
    },
    {
     "name": "stderr",
     "output_type": "stream",
     "text": [
      "/var/folders/s4/79ykyqjn7f16bdl_zqjgsbzh0000gp/T/ipykernel_14170/863171515.py:4: DeprecationWarning: executable_path has been deprecated, please pass in a Service object\n",
      "  driver=webdriver.Chrome(PATH)\n"
     ]
    },
    {
     "name": "stdout",
     "output_type": "stream",
     "text": [
      "error 1\n",
      "todo OK\n",
      "https://open.spotify.com/track/0wkQHjULGZeZC15hOl9jl4?si=90ed9891c8ac4046\n"
     ]
    },
    {
     "name": "stderr",
     "output_type": "stream",
     "text": [
      "/var/folders/s4/79ykyqjn7f16bdl_zqjgsbzh0000gp/T/ipykernel_14170/863171515.py:4: DeprecationWarning: executable_path has been deprecated, please pass in a Service object\n",
      "  driver=webdriver.Chrome(PATH)\n"
     ]
    },
    {
     "name": "stdout",
     "output_type": "stream",
     "text": [
      "error 1\n",
      "error 4\n",
      "todo OK\n",
      "https://open.spotify.com/track/0wkQHjULGZeZC15hOl9jl4?si=90ed9891c8ac4046\n"
     ]
    },
    {
     "name": "stderr",
     "output_type": "stream",
     "text": [
      "/var/folders/s4/79ykyqjn7f16bdl_zqjgsbzh0000gp/T/ipykernel_14170/863171515.py:4: DeprecationWarning: executable_path has been deprecated, please pass in a Service object\n",
      "  driver=webdriver.Chrome(PATH)\n"
     ]
    },
    {
     "name": "stdout",
     "output_type": "stream",
     "text": [
      "error 1\n",
      "error 4\n",
      "todo OK\n",
      "https://open.spotify.com/track/0wkQHjULGZeZC15hOl9jl4?si=90ed9891c8ac4046\n"
     ]
    },
    {
     "name": "stderr",
     "output_type": "stream",
     "text": [
      "/var/folders/s4/79ykyqjn7f16bdl_zqjgsbzh0000gp/T/ipykernel_14170/863171515.py:4: DeprecationWarning: executable_path has been deprecated, please pass in a Service object\n",
      "  driver=webdriver.Chrome(PATH)\n"
     ]
    },
    {
     "name": "stdout",
     "output_type": "stream",
     "text": [
      "error 1\n",
      "todo OK\n",
      "https://open.spotify.com/track/073yIM7v2j6XadD4Nkn0Fh?si=142fb68d7e1f4d04\n"
     ]
    },
    {
     "name": "stderr",
     "output_type": "stream",
     "text": [
      "/var/folders/s4/79ykyqjn7f16bdl_zqjgsbzh0000gp/T/ipykernel_14170/863171515.py:4: DeprecationWarning: executable_path has been deprecated, please pass in a Service object\n",
      "  driver=webdriver.Chrome(PATH)\n"
     ]
    },
    {
     "name": "stdout",
     "output_type": "stream",
     "text": [
      "todo OK\n",
      "https://open.spotify.com/track/5bQLsyTrUaMQRfr6whwGe5?si=c76cc62c236e4de2\n"
     ]
    },
    {
     "name": "stderr",
     "output_type": "stream",
     "text": [
      "/var/folders/s4/79ykyqjn7f16bdl_zqjgsbzh0000gp/T/ipykernel_14170/863171515.py:4: DeprecationWarning: executable_path has been deprecated, please pass in a Service object\n",
      "  driver=webdriver.Chrome(PATH)\n"
     ]
    },
    {
     "name": "stdout",
     "output_type": "stream",
     "text": [
      "error 1\n",
      "error 4\n",
      "todo OK\n",
      "https://open.spotify.com/track/5bQLsyTrUaMQRfr6whwGe5?si=c76cc62c236e4de2\n"
     ]
    },
    {
     "name": "stderr",
     "output_type": "stream",
     "text": [
      "/var/folders/s4/79ykyqjn7f16bdl_zqjgsbzh0000gp/T/ipykernel_14170/863171515.py:4: DeprecationWarning: executable_path has been deprecated, please pass in a Service object\n",
      "  driver=webdriver.Chrome(PATH)\n"
     ]
    },
    {
     "name": "stdout",
     "output_type": "stream",
     "text": [
      "error 1\n",
      "todo OK\n",
      "https://open.spotify.com/track/4Z8HZSApeddaRM2ovivUj4?si=16ea1abada2c4de6\n"
     ]
    },
    {
     "name": "stderr",
     "output_type": "stream",
     "text": [
      "/var/folders/s4/79ykyqjn7f16bdl_zqjgsbzh0000gp/T/ipykernel_14170/863171515.py:4: DeprecationWarning: executable_path has been deprecated, please pass in a Service object\n",
      "  driver=webdriver.Chrome(PATH)\n"
     ]
    },
    {
     "name": "stdout",
     "output_type": "stream",
     "text": [
      "error 1\n",
      "todo OK\n",
      "https://open.spotify.com/track/4LpUpiYoZ2M3Z1kmhn4EQo?si=0b29401e9fd24c0f\n"
     ]
    },
    {
     "name": "stderr",
     "output_type": "stream",
     "text": [
      "/var/folders/s4/79ykyqjn7f16bdl_zqjgsbzh0000gp/T/ipykernel_14170/863171515.py:4: DeprecationWarning: executable_path has been deprecated, please pass in a Service object\n",
      "  driver=webdriver.Chrome(PATH)\n"
     ]
    },
    {
     "name": "stdout",
     "output_type": "stream",
     "text": [
      "error 1\n",
      "todo OK\n",
      "https://open.spotify.com/track/52ojopYMUzeNcudsoz7O9D?si=d6ac3d4c80ce476c\n"
     ]
    },
    {
     "name": "stderr",
     "output_type": "stream",
     "text": [
      "/var/folders/s4/79ykyqjn7f16bdl_zqjgsbzh0000gp/T/ipykernel_14170/863171515.py:4: DeprecationWarning: executable_path has been deprecated, please pass in a Service object\n",
      "  driver=webdriver.Chrome(PATH)\n"
     ]
    },
    {
     "name": "stdout",
     "output_type": "stream",
     "text": [
      "todo OK\n",
      "https://open.spotify.com/track/56NkIxSZZiMpFP5ZNSxtnT?si=1ebe038eed8d4ead\n"
     ]
    },
    {
     "name": "stderr",
     "output_type": "stream",
     "text": [
      "/var/folders/s4/79ykyqjn7f16bdl_zqjgsbzh0000gp/T/ipykernel_14170/863171515.py:4: DeprecationWarning: executable_path has been deprecated, please pass in a Service object\n",
      "  driver=webdriver.Chrome(PATH)\n"
     ]
    },
    {
     "name": "stdout",
     "output_type": "stream",
     "text": [
      "error 1\n",
      "todo OK\n",
      "https://open.spotify.com/track/5ncofiedz9Ej6YkvvXMKVn?si=06c68273d4ce445b\n"
     ]
    },
    {
     "name": "stderr",
     "output_type": "stream",
     "text": [
      "/var/folders/s4/79ykyqjn7f16bdl_zqjgsbzh0000gp/T/ipykernel_14170/863171515.py:4: DeprecationWarning: executable_path has been deprecated, please pass in a Service object\n",
      "  driver=webdriver.Chrome(PATH)\n"
     ]
    },
    {
     "name": "stdout",
     "output_type": "stream",
     "text": [
      "todo OK\n",
      "https://open.spotify.com/track/6V78ktWCGcJIIB5DPJBoPn?si=25c3b431cb154a82\n"
     ]
    },
    {
     "name": "stderr",
     "output_type": "stream",
     "text": [
      "/var/folders/s4/79ykyqjn7f16bdl_zqjgsbzh0000gp/T/ipykernel_14170/863171515.py:4: DeprecationWarning: executable_path has been deprecated, please pass in a Service object\n",
      "  driver=webdriver.Chrome(PATH)\n"
     ]
    },
    {
     "name": "stdout",
     "output_type": "stream",
     "text": [
      "error 1\n",
      "todo OK\n",
      "https://open.spotify.com/track/4ZWU1yATGjEQQz2FCnmX3b?si=9d40c34f93324192\n"
     ]
    },
    {
     "name": "stderr",
     "output_type": "stream",
     "text": [
      "/var/folders/s4/79ykyqjn7f16bdl_zqjgsbzh0000gp/T/ipykernel_14170/863171515.py:4: DeprecationWarning: executable_path has been deprecated, please pass in a Service object\n",
      "  driver=webdriver.Chrome(PATH)\n"
     ]
    },
    {
     "name": "stdout",
     "output_type": "stream",
     "text": [
      "todo OK\n",
      "https://open.spotify.com/track/7gD2QkknRa4ZvlRVyU6ZO0?si=9b6d6e90d0b34009\n"
     ]
    },
    {
     "name": "stderr",
     "output_type": "stream",
     "text": [
      "/var/folders/s4/79ykyqjn7f16bdl_zqjgsbzh0000gp/T/ipykernel_14170/863171515.py:4: DeprecationWarning: executable_path has been deprecated, please pass in a Service object\n",
      "  driver=webdriver.Chrome(PATH)\n"
     ]
    },
    {
     "name": "stdout",
     "output_type": "stream",
     "text": [
      "error 1\n",
      "todo OK\n",
      "https://open.spotify.com/track/1MO5KuLnSaY1dlkWGDjHkT?si=b730aa486b8249dd\n"
     ]
    },
    {
     "name": "stderr",
     "output_type": "stream",
     "text": [
      "/var/folders/s4/79ykyqjn7f16bdl_zqjgsbzh0000gp/T/ipykernel_14170/863171515.py:4: DeprecationWarning: executable_path has been deprecated, please pass in a Service object\n",
      "  driver=webdriver.Chrome(PATH)\n"
     ]
    },
    {
     "name": "stdout",
     "output_type": "stream",
     "text": [
      "error 1\n",
      "todo OK\n",
      "https://open.spotify.com/track/4B6ko7lt1sUtyFzBDF4yfK?si=572b422129404dab\n"
     ]
    },
    {
     "name": "stderr",
     "output_type": "stream",
     "text": [
      "/var/folders/s4/79ykyqjn7f16bdl_zqjgsbzh0000gp/T/ipykernel_14170/863171515.py:4: DeprecationWarning: executable_path has been deprecated, please pass in a Service object\n",
      "  driver=webdriver.Chrome(PATH)\n"
     ]
    },
    {
     "name": "stdout",
     "output_type": "stream",
     "text": [
      "error 1\n",
      "todo OK\n",
      "https://open.spotify.com/track/0DXI6c9tNWsI4tvUftkQN8?si=018077e547e74df9\n"
     ]
    },
    {
     "name": "stderr",
     "output_type": "stream",
     "text": [
      "/var/folders/s4/79ykyqjn7f16bdl_zqjgsbzh0000gp/T/ipykernel_14170/863171515.py:4: DeprecationWarning: executable_path has been deprecated, please pass in a Service object\n",
      "  driver=webdriver.Chrome(PATH)\n"
     ]
    },
    {
     "name": "stdout",
     "output_type": "stream",
     "text": [
      "error 1\n",
      "todo OK\n",
      "https://open.spotify.com/track/1JpZMDDAkfhnrO6nXIQZ2g?si=2e0e278eb965432c\n"
     ]
    },
    {
     "name": "stderr",
     "output_type": "stream",
     "text": [
      "/var/folders/s4/79ykyqjn7f16bdl_zqjgsbzh0000gp/T/ipykernel_14170/863171515.py:4: DeprecationWarning: executable_path has been deprecated, please pass in a Service object\n",
      "  driver=webdriver.Chrome(PATH)\n"
     ]
    },
    {
     "name": "stdout",
     "output_type": "stream",
     "text": [
      "error 1\n",
      "todo OK\n",
      "https://open.spotify.com/track/3JOXwHPhtdRU3kYKcf64Gj?si=da2fe8d43ff04636\n"
     ]
    },
    {
     "name": "stderr",
     "output_type": "stream",
     "text": [
      "/var/folders/s4/79ykyqjn7f16bdl_zqjgsbzh0000gp/T/ipykernel_14170/863171515.py:4: DeprecationWarning: executable_path has been deprecated, please pass in a Service object\n",
      "  driver=webdriver.Chrome(PATH)\n"
     ]
    },
    {
     "name": "stdout",
     "output_type": "stream",
     "text": [
      "error 1\n",
      "todo OK\n",
      "https://open.spotify.com/track/4Ja8Kgt3UEVd22kGfVBQ6g?si=b4dfe228f4f64dcd\n"
     ]
    },
    {
     "name": "stderr",
     "output_type": "stream",
     "text": [
      "/var/folders/s4/79ykyqjn7f16bdl_zqjgsbzh0000gp/T/ipykernel_14170/863171515.py:4: DeprecationWarning: executable_path has been deprecated, please pass in a Service object\n",
      "  driver=webdriver.Chrome(PATH)\n"
     ]
    },
    {
     "name": "stdout",
     "output_type": "stream",
     "text": [
      "todo OK\n",
      "https://open.spotify.com/track/633Z9EGuNeZ6fXvjD1gnN6?si=76235dff71164d17\n"
     ]
    },
    {
     "name": "stderr",
     "output_type": "stream",
     "text": [
      "/var/folders/s4/79ykyqjn7f16bdl_zqjgsbzh0000gp/T/ipykernel_14170/863171515.py:4: DeprecationWarning: executable_path has been deprecated, please pass in a Service object\n",
      "  driver=webdriver.Chrome(PATH)\n"
     ]
    },
    {
     "name": "stdout",
     "output_type": "stream",
     "text": [
      "error 1\n",
      "todo OK\n",
      "https://open.spotify.com/track/78DVpEWwmJFC25KGz8fJuE?si=b8dcaafe7c484775\n"
     ]
    },
    {
     "name": "stderr",
     "output_type": "stream",
     "text": [
      "/var/folders/s4/79ykyqjn7f16bdl_zqjgsbzh0000gp/T/ipykernel_14170/863171515.py:4: DeprecationWarning: executable_path has been deprecated, please pass in a Service object\n",
      "  driver=webdriver.Chrome(PATH)\n"
     ]
    },
    {
     "name": "stdout",
     "output_type": "stream",
     "text": [
      "error 1\n",
      "todo OK\n",
      "https://open.spotify.com/track/0uWLyUK9WECq0nKz0DiA4A?si=ef52d204cc294f71\n"
     ]
    },
    {
     "name": "stderr",
     "output_type": "stream",
     "text": [
      "/var/folders/s4/79ykyqjn7f16bdl_zqjgsbzh0000gp/T/ipykernel_14170/863171515.py:4: DeprecationWarning: executable_path has been deprecated, please pass in a Service object\n",
      "  driver=webdriver.Chrome(PATH)\n"
     ]
    },
    {
     "name": "stdout",
     "output_type": "stream",
     "text": [
      "todo OK\n",
      "https://open.spotify.com/track/0wQCKR9OFjYu5Kzrk7WivJ?si=9d4f6985f3294640\n"
     ]
    },
    {
     "name": "stderr",
     "output_type": "stream",
     "text": [
      "/var/folders/s4/79ykyqjn7f16bdl_zqjgsbzh0000gp/T/ipykernel_14170/863171515.py:4: DeprecationWarning: executable_path has been deprecated, please pass in a Service object\n",
      "  driver=webdriver.Chrome(PATH)\n"
     ]
    },
    {
     "name": "stdout",
     "output_type": "stream",
     "text": [
      "error 1\n",
      "todo OK\n",
      "https://open.spotify.com/track/6kQYMqjobmB8MkWwa9OUyA?si=1f1dbec962994ffe\n"
     ]
    },
    {
     "name": "stderr",
     "output_type": "stream",
     "text": [
      "/var/folders/s4/79ykyqjn7f16bdl_zqjgsbzh0000gp/T/ipykernel_14170/863171515.py:4: DeprecationWarning: executable_path has been deprecated, please pass in a Service object\n",
      "  driver=webdriver.Chrome(PATH)\n"
     ]
    },
    {
     "name": "stdout",
     "output_type": "stream",
     "text": [
      "error 1\n",
      "todo OK\n",
      "https://open.spotify.com/track/3tiEqRIKJxAxCqGFQt8k4r?si=65d5dd92237c4bde\n"
     ]
    },
    {
     "name": "stderr",
     "output_type": "stream",
     "text": [
      "/var/folders/s4/79ykyqjn7f16bdl_zqjgsbzh0000gp/T/ipykernel_14170/863171515.py:4: DeprecationWarning: executable_path has been deprecated, please pass in a Service object\n",
      "  driver=webdriver.Chrome(PATH)\n"
     ]
    },
    {
     "name": "stdout",
     "output_type": "stream",
     "text": [
      "todo OK\n",
      "https://open.spotify.com/track/7zrL3xak0qZQ10HlNxP9HD?si=582cb4d63c594d30\n"
     ]
    },
    {
     "name": "stderr",
     "output_type": "stream",
     "text": [
      "/var/folders/s4/79ykyqjn7f16bdl_zqjgsbzh0000gp/T/ipykernel_14170/863171515.py:4: DeprecationWarning: executable_path has been deprecated, please pass in a Service object\n",
      "  driver=webdriver.Chrome(PATH)\n"
     ]
    },
    {
     "name": "stdout",
     "output_type": "stream",
     "text": [
      "error 1\n",
      "error 4\n",
      "todo OK\n",
      "https://open.spotify.com/track/7zrL3xak0qZQ10HlNxP9HD?si=582cb4d63c594d30\n"
     ]
    },
    {
     "name": "stderr",
     "output_type": "stream",
     "text": [
      "/var/folders/s4/79ykyqjn7f16bdl_zqjgsbzh0000gp/T/ipykernel_14170/863171515.py:4: DeprecationWarning: executable_path has been deprecated, please pass in a Service object\n",
      "  driver=webdriver.Chrome(PATH)\n"
     ]
    },
    {
     "name": "stdout",
     "output_type": "stream",
     "text": [
      "error 1\n",
      "todo OK\n",
      "https://open.spotify.com/track/25NjrLbcrjU4TiI5BZQirh?si=a7df6a91ade94723\n"
     ]
    },
    {
     "name": "stderr",
     "output_type": "stream",
     "text": [
      "/var/folders/s4/79ykyqjn7f16bdl_zqjgsbzh0000gp/T/ipykernel_14170/863171515.py:4: DeprecationWarning: executable_path has been deprecated, please pass in a Service object\n",
      "  driver=webdriver.Chrome(PATH)\n"
     ]
    },
    {
     "name": "stdout",
     "output_type": "stream",
     "text": [
      "error 1\n",
      "todo OK\n",
      "https://open.spotify.com/track/464uJVLmr0fDJGXOnciaDe?si=dd9b6fa24d1041b8\n"
     ]
    },
    {
     "name": "stderr",
     "output_type": "stream",
     "text": [
      "/var/folders/s4/79ykyqjn7f16bdl_zqjgsbzh0000gp/T/ipykernel_14170/863171515.py:4: DeprecationWarning: executable_path has been deprecated, please pass in a Service object\n",
      "  driver=webdriver.Chrome(PATH)\n"
     ]
    },
    {
     "name": "stdout",
     "output_type": "stream",
     "text": [
      "error 1\n",
      "todo OK\n",
      "https://open.spotify.com/track/3qwi91kUb1BJ62DRTfcqv8?si=e965814adba3427b\n"
     ]
    },
    {
     "name": "stderr",
     "output_type": "stream",
     "text": [
      "/var/folders/s4/79ykyqjn7f16bdl_zqjgsbzh0000gp/T/ipykernel_14170/863171515.py:4: DeprecationWarning: executable_path has been deprecated, please pass in a Service object\n",
      "  driver=webdriver.Chrome(PATH)\n"
     ]
    },
    {
     "name": "stdout",
     "output_type": "stream",
     "text": [
      "error 1\n",
      "todo OK\n",
      "https://open.spotify.com/track/780be5fB7823aHG06mwTat?si=9402887034014bae\n"
     ]
    },
    {
     "name": "stderr",
     "output_type": "stream",
     "text": [
      "/var/folders/s4/79ykyqjn7f16bdl_zqjgsbzh0000gp/T/ipykernel_14170/863171515.py:4: DeprecationWarning: executable_path has been deprecated, please pass in a Service object\n",
      "  driver=webdriver.Chrome(PATH)\n"
     ]
    },
    {
     "name": "stdout",
     "output_type": "stream",
     "text": [
      "error 1\n",
      "error 4\n",
      "todo OK\n",
      "https://open.spotify.com/track/780be5fB7823aHG06mwTat?si=9402887034014bae\n"
     ]
    },
    {
     "name": "stderr",
     "output_type": "stream",
     "text": [
      "/var/folders/s4/79ykyqjn7f16bdl_zqjgsbzh0000gp/T/ipykernel_14170/863171515.py:4: DeprecationWarning: executable_path has been deprecated, please pass in a Service object\n",
      "  driver=webdriver.Chrome(PATH)\n"
     ]
    },
    {
     "name": "stdout",
     "output_type": "stream",
     "text": [
      "error 1\n",
      "todo OK\n",
      "https://open.spotify.com/track/6z7fZRrQfOH3ZjWEkC4QhC?si=5677f3930ea64079\n"
     ]
    },
    {
     "name": "stderr",
     "output_type": "stream",
     "text": [
      "/var/folders/s4/79ykyqjn7f16bdl_zqjgsbzh0000gp/T/ipykernel_14170/863171515.py:4: DeprecationWarning: executable_path has been deprecated, please pass in a Service object\n",
      "  driver=webdriver.Chrome(PATH)\n"
     ]
    },
    {
     "name": "stdout",
     "output_type": "stream",
     "text": [
      "error 1\n",
      "todo OK\n",
      "https://open.spotify.com/track/5XeFesFbtLpXzIVDNQP22n?si=308840d2813e42ba\n"
     ]
    },
    {
     "name": "stderr",
     "output_type": "stream",
     "text": [
      "/var/folders/s4/79ykyqjn7f16bdl_zqjgsbzh0000gp/T/ipykernel_14170/863171515.py:4: DeprecationWarning: executable_path has been deprecated, please pass in a Service object\n",
      "  driver=webdriver.Chrome(PATH)\n"
     ]
    },
    {
     "name": "stdout",
     "output_type": "stream",
     "text": [
      "todo OK\n",
      "https://open.spotify.com/track/3AiXzUyFAFZVBGVAADPN5a?si=b5241fdebf7c4cd3\n"
     ]
    },
    {
     "name": "stderr",
     "output_type": "stream",
     "text": [
      "/var/folders/s4/79ykyqjn7f16bdl_zqjgsbzh0000gp/T/ipykernel_14170/863171515.py:4: DeprecationWarning: executable_path has been deprecated, please pass in a Service object\n",
      "  driver=webdriver.Chrome(PATH)\n"
     ]
    },
    {
     "name": "stdout",
     "output_type": "stream",
     "text": [
      "error 1\n",
      "todo OK\n",
      "https://open.spotify.com/track/2iUmqdfGZcHIhS3b9E9EWq?si=d7f0e6c149c14f5f\n"
     ]
    },
    {
     "name": "stderr",
     "output_type": "stream",
     "text": [
      "/var/folders/s4/79ykyqjn7f16bdl_zqjgsbzh0000gp/T/ipykernel_14170/863171515.py:4: DeprecationWarning: executable_path has been deprecated, please pass in a Service object\n",
      "  driver=webdriver.Chrome(PATH)\n"
     ]
    },
    {
     "name": "stdout",
     "output_type": "stream",
     "text": [
      "error 1\n",
      "todo OK\n",
      "https://open.spotify.com/track/4hTXeWayUVMwoz6v1CviSN?si=79f4ec63bdca45e7\n"
     ]
    },
    {
     "name": "stderr",
     "output_type": "stream",
     "text": [
      "/var/folders/s4/79ykyqjn7f16bdl_zqjgsbzh0000gp/T/ipykernel_14170/863171515.py:4: DeprecationWarning: executable_path has been deprecated, please pass in a Service object\n",
      "  driver=webdriver.Chrome(PATH)\n"
     ]
    },
    {
     "name": "stdout",
     "output_type": "stream",
     "text": [
      "error 1\n",
      "error 4\n",
      "todo OK\n",
      "https://open.spotify.com/track/4hTXeWayUVMwoz6v1CviSN?si=79f4ec63bdca45e7\n"
     ]
    },
    {
     "name": "stderr",
     "output_type": "stream",
     "text": [
      "/var/folders/s4/79ykyqjn7f16bdl_zqjgsbzh0000gp/T/ipykernel_14170/863171515.py:4: DeprecationWarning: executable_path has been deprecated, please pass in a Service object\n",
      "  driver=webdriver.Chrome(PATH)\n"
     ]
    },
    {
     "name": "stdout",
     "output_type": "stream",
     "text": [
      "error 1\n",
      "todo OK\n",
      "https://open.spotify.com/track/2Xr1dTzJee307rmrkt8c0g?si=9f36a808441b4212\n"
     ]
    },
    {
     "name": "stderr",
     "output_type": "stream",
     "text": [
      "/var/folders/s4/79ykyqjn7f16bdl_zqjgsbzh0000gp/T/ipykernel_14170/863171515.py:4: DeprecationWarning: executable_path has been deprecated, please pass in a Service object\n",
      "  driver=webdriver.Chrome(PATH)\n"
     ]
    },
    {
     "name": "stdout",
     "output_type": "stream",
     "text": [
      "error 1\n",
      "error 4\n",
      "todo OK\n",
      "https://open.spotify.com/track/2Xr1dTzJee307rmrkt8c0g?si=9f36a808441b4212\n"
     ]
    },
    {
     "name": "stderr",
     "output_type": "stream",
     "text": [
      "/var/folders/s4/79ykyqjn7f16bdl_zqjgsbzh0000gp/T/ipykernel_14170/863171515.py:4: DeprecationWarning: executable_path has been deprecated, please pass in a Service object\n",
      "  driver=webdriver.Chrome(PATH)\n"
     ]
    },
    {
     "name": "stdout",
     "output_type": "stream",
     "text": [
      "todo OK\n",
      "https://open.spotify.com/track/4Ny1rlxyM3Lfo37Q0e7Kaj?si=7dfa979047d641b4\n"
     ]
    },
    {
     "name": "stderr",
     "output_type": "stream",
     "text": [
      "/var/folders/s4/79ykyqjn7f16bdl_zqjgsbzh0000gp/T/ipykernel_14170/863171515.py:4: DeprecationWarning: executable_path has been deprecated, please pass in a Service object\n",
      "  driver=webdriver.Chrome(PATH)\n"
     ]
    },
    {
     "name": "stdout",
     "output_type": "stream",
     "text": [
      "todo OK\n",
      "https://open.spotify.com/track/4Ny1rlxyM3Lfo37Q0e7Kaj?si=7dfa979047d641b4\n"
     ]
    },
    {
     "name": "stderr",
     "output_type": "stream",
     "text": [
      "/var/folders/s4/79ykyqjn7f16bdl_zqjgsbzh0000gp/T/ipykernel_14170/863171515.py:4: DeprecationWarning: executable_path has been deprecated, please pass in a Service object\n",
      "  driver=webdriver.Chrome(PATH)\n"
     ]
    },
    {
     "name": "stdout",
     "output_type": "stream",
     "text": [
      "error 4\n",
      "todo OK\n",
      "https://open.spotify.com/track/4Ny1rlxyM3Lfo37Q0e7Kaj?si=7dfa979047d641b4\n"
     ]
    },
    {
     "name": "stderr",
     "output_type": "stream",
     "text": [
      "/var/folders/s4/79ykyqjn7f16bdl_zqjgsbzh0000gp/T/ipykernel_14170/863171515.py:4: DeprecationWarning: executable_path has been deprecated, please pass in a Service object\n",
      "  driver=webdriver.Chrome(PATH)\n"
     ]
    },
    {
     "name": "stdout",
     "output_type": "stream",
     "text": [
      "todo OK\n",
      "https://open.spotify.com/track/7MDfN1ldfTMtuXXdVz2Pzc?si=7a7bf66af5f345ec\n"
     ]
    },
    {
     "name": "stderr",
     "output_type": "stream",
     "text": [
      "/var/folders/s4/79ykyqjn7f16bdl_zqjgsbzh0000gp/T/ipykernel_14170/863171515.py:4: DeprecationWarning: executable_path has been deprecated, please pass in a Service object\n",
      "  driver=webdriver.Chrome(PATH)\n"
     ]
    },
    {
     "name": "stdout",
     "output_type": "stream",
     "text": [
      "error 1\n",
      "todo OK\n",
      "https://open.spotify.com/track/3AyuigFWbuirWHvidbMz8O?si=5c05383878b145a3\n"
     ]
    },
    {
     "name": "stderr",
     "output_type": "stream",
     "text": [
      "/var/folders/s4/79ykyqjn7f16bdl_zqjgsbzh0000gp/T/ipykernel_14170/863171515.py:4: DeprecationWarning: executable_path has been deprecated, please pass in a Service object\n",
      "  driver=webdriver.Chrome(PATH)\n"
     ]
    },
    {
     "name": "stdout",
     "output_type": "stream",
     "text": [
      "error 1\n",
      "todo OK\n",
      "https://open.spotify.com/track/5vddPg2RoRtqLwg3Pz3aI6?si=7fb86f4f30b94b58\n"
     ]
    },
    {
     "name": "stderr",
     "output_type": "stream",
     "text": [
      "/var/folders/s4/79ykyqjn7f16bdl_zqjgsbzh0000gp/T/ipykernel_14170/863171515.py:4: DeprecationWarning: executable_path has been deprecated, please pass in a Service object\n",
      "  driver=webdriver.Chrome(PATH)\n"
     ]
    },
    {
     "name": "stdout",
     "output_type": "stream",
     "text": [
      "error 1\n",
      "todo OK\n",
      "https://open.spotify.com/track/2RYYWXDhJQ1KqmX2vzObl6?si=f55a275cd5db4353\n"
     ]
    },
    {
     "name": "stderr",
     "output_type": "stream",
     "text": [
      "/var/folders/s4/79ykyqjn7f16bdl_zqjgsbzh0000gp/T/ipykernel_14170/863171515.py:4: DeprecationWarning: executable_path has been deprecated, please pass in a Service object\n",
      "  driver=webdriver.Chrome(PATH)\n"
     ]
    },
    {
     "name": "stdout",
     "output_type": "stream",
     "text": [
      "error 1\n",
      "todo OK\n",
      "https://open.spotify.com/track/12TZwNl53k1rCVO6XdE3BT?si=71460eedb41c4db6\n"
     ]
    },
    {
     "name": "stderr",
     "output_type": "stream",
     "text": [
      "/var/folders/s4/79ykyqjn7f16bdl_zqjgsbzh0000gp/T/ipykernel_14170/863171515.py:4: DeprecationWarning: executable_path has been deprecated, please pass in a Service object\n",
      "  driver=webdriver.Chrome(PATH)\n"
     ]
    },
    {
     "name": "stdout",
     "output_type": "stream",
     "text": [
      "error 1\n",
      "todo OK\n",
      "https://open.spotify.com/track/05icsjFI0vFFKrwtam1pr8?si=aede6f4d6764426d\n"
     ]
    },
    {
     "name": "stderr",
     "output_type": "stream",
     "text": [
      "/var/folders/s4/79ykyqjn7f16bdl_zqjgsbzh0000gp/T/ipykernel_14170/863171515.py:4: DeprecationWarning: executable_path has been deprecated, please pass in a Service object\n",
      "  driver=webdriver.Chrome(PATH)\n"
     ]
    },
    {
     "name": "stdout",
     "output_type": "stream",
     "text": [
      "error 1\n",
      "todo OK\n",
      "https://open.spotify.com/track/45Hvu246Exavl9m1WOcwQw?si=35d57e63e94448f4\n"
     ]
    },
    {
     "name": "stderr",
     "output_type": "stream",
     "text": [
      "/var/folders/s4/79ykyqjn7f16bdl_zqjgsbzh0000gp/T/ipykernel_14170/863171515.py:4: DeprecationWarning: executable_path has been deprecated, please pass in a Service object\n",
      "  driver=webdriver.Chrome(PATH)\n"
     ]
    },
    {
     "name": "stdout",
     "output_type": "stream",
     "text": [
      "error 1\n",
      "todo OK\n",
      "https://open.spotify.com/track/4t3VdwIdGpFEiAbosYO0ZD?si=62ff3bb272bd4d9d\n"
     ]
    },
    {
     "name": "stderr",
     "output_type": "stream",
     "text": [
      "/var/folders/s4/79ykyqjn7f16bdl_zqjgsbzh0000gp/T/ipykernel_14170/863171515.py:4: DeprecationWarning: executable_path has been deprecated, please pass in a Service object\n",
      "  driver=webdriver.Chrome(PATH)\n"
     ]
    },
    {
     "name": "stdout",
     "output_type": "stream",
     "text": [
      "error 1\n",
      "todo OK\n",
      "https://open.spotify.com/track/31t1744XySgMwG8woRUnNE?si=bb13b15df9a74c30\n"
     ]
    },
    {
     "name": "stderr",
     "output_type": "stream",
     "text": [
      "/var/folders/s4/79ykyqjn7f16bdl_zqjgsbzh0000gp/T/ipykernel_14170/863171515.py:4: DeprecationWarning: executable_path has been deprecated, please pass in a Service object\n",
      "  driver=webdriver.Chrome(PATH)\n"
     ]
    },
    {
     "name": "stdout",
     "output_type": "stream",
     "text": [
      "error 1\n",
      "error 4\n",
      "todo OK\n",
      "https://open.spotify.com/track/31t1744XySgMwG8woRUnNE?si=bb13b15df9a74c30\n"
     ]
    },
    {
     "name": "stderr",
     "output_type": "stream",
     "text": [
      "/var/folders/s4/79ykyqjn7f16bdl_zqjgsbzh0000gp/T/ipykernel_14170/863171515.py:4: DeprecationWarning: executable_path has been deprecated, please pass in a Service object\n",
      "  driver=webdriver.Chrome(PATH)\n"
     ]
    },
    {
     "name": "stdout",
     "output_type": "stream",
     "text": [
      "todo OK\n",
      "https://open.spotify.com/track/5RmGKBLOYl9hbNE7BuDmur?si=b5de15acab9949a6\n"
     ]
    },
    {
     "name": "stderr",
     "output_type": "stream",
     "text": [
      "/var/folders/s4/79ykyqjn7f16bdl_zqjgsbzh0000gp/T/ipykernel_14170/863171515.py:4: DeprecationWarning: executable_path has been deprecated, please pass in a Service object\n",
      "  driver=webdriver.Chrome(PATH)\n"
     ]
    },
    {
     "name": "stdout",
     "output_type": "stream",
     "text": [
      "error 1\n",
      "error 4\n",
      "todo OK\n",
      "https://open.spotify.com/track/5RmGKBLOYl9hbNE7BuDmur?si=b5de15acab9949a6\n"
     ]
    },
    {
     "name": "stderr",
     "output_type": "stream",
     "text": [
      "/var/folders/s4/79ykyqjn7f16bdl_zqjgsbzh0000gp/T/ipykernel_14170/863171515.py:4: DeprecationWarning: executable_path has been deprecated, please pass in a Service object\n",
      "  driver=webdriver.Chrome(PATH)\n"
     ]
    },
    {
     "name": "stdout",
     "output_type": "stream",
     "text": [
      "error 4\n",
      "todo OK\n",
      "https://open.spotify.com/track/5RmGKBLOYl9hbNE7BuDmur?si=b5de15acab9949a6\n"
     ]
    },
    {
     "name": "stderr",
     "output_type": "stream",
     "text": [
      "/var/folders/s4/79ykyqjn7f16bdl_zqjgsbzh0000gp/T/ipykernel_14170/863171515.py:4: DeprecationWarning: executable_path has been deprecated, please pass in a Service object\n",
      "  driver=webdriver.Chrome(PATH)\n"
     ]
    },
    {
     "name": "stdout",
     "output_type": "stream",
     "text": [
      "error 1\n",
      "error 4\n",
      "todo OK\n",
      "https://open.spotify.com/track/5RmGKBLOYl9hbNE7BuDmur?si=b5de15acab9949a6\n"
     ]
    },
    {
     "name": "stderr",
     "output_type": "stream",
     "text": [
      "/var/folders/s4/79ykyqjn7f16bdl_zqjgsbzh0000gp/T/ipykernel_14170/863171515.py:4: DeprecationWarning: executable_path has been deprecated, please pass in a Service object\n",
      "  driver=webdriver.Chrome(PATH)\n"
     ]
    },
    {
     "name": "stdout",
     "output_type": "stream",
     "text": [
      "error 1\n",
      "error 4\n",
      "todo OK\n",
      "https://open.spotify.com/track/5RmGKBLOYl9hbNE7BuDmur?si=b5de15acab9949a6\n"
     ]
    },
    {
     "name": "stderr",
     "output_type": "stream",
     "text": [
      "/var/folders/s4/79ykyqjn7f16bdl_zqjgsbzh0000gp/T/ipykernel_14170/863171515.py:4: DeprecationWarning: executable_path has been deprecated, please pass in a Service object\n",
      "  driver=webdriver.Chrome(PATH)\n"
     ]
    },
    {
     "name": "stdout",
     "output_type": "stream",
     "text": [
      "error 1\n",
      "error 4\n",
      "todo OK\n",
      "https://open.spotify.com/track/5RmGKBLOYl9hbNE7BuDmur?si=b5de15acab9949a6\n"
     ]
    },
    {
     "name": "stderr",
     "output_type": "stream",
     "text": [
      "/var/folders/s4/79ykyqjn7f16bdl_zqjgsbzh0000gp/T/ipykernel_14170/863171515.py:4: DeprecationWarning: executable_path has been deprecated, please pass in a Service object\n",
      "  driver=webdriver.Chrome(PATH)\n"
     ]
    },
    {
     "name": "stdout",
     "output_type": "stream",
     "text": [
      "error 1\n",
      "error 4\n",
      "todo OK\n",
      "https://open.spotify.com/track/5RmGKBLOYl9hbNE7BuDmur?si=b5de15acab9949a6\n"
     ]
    },
    {
     "name": "stderr",
     "output_type": "stream",
     "text": [
      "/var/folders/s4/79ykyqjn7f16bdl_zqjgsbzh0000gp/T/ipykernel_14170/863171515.py:4: DeprecationWarning: executable_path has been deprecated, please pass in a Service object\n",
      "  driver=webdriver.Chrome(PATH)\n"
     ]
    },
    {
     "name": "stdout",
     "output_type": "stream",
     "text": [
      "error 1\n",
      "error 4\n",
      "todo OK\n",
      "https://open.spotify.com/track/5RmGKBLOYl9hbNE7BuDmur?si=b5de15acab9949a6\n"
     ]
    },
    {
     "name": "stderr",
     "output_type": "stream",
     "text": [
      "/var/folders/s4/79ykyqjn7f16bdl_zqjgsbzh0000gp/T/ipykernel_14170/863171515.py:4: DeprecationWarning: executable_path has been deprecated, please pass in a Service object\n",
      "  driver=webdriver.Chrome(PATH)\n"
     ]
    },
    {
     "name": "stdout",
     "output_type": "stream",
     "text": [
      "error 1\n",
      "error 4\n",
      "todo OK\n",
      "https://open.spotify.com/track/5RmGKBLOYl9hbNE7BuDmur?si=b5de15acab9949a6\n"
     ]
    },
    {
     "name": "stderr",
     "output_type": "stream",
     "text": [
      "/var/folders/s4/79ykyqjn7f16bdl_zqjgsbzh0000gp/T/ipykernel_14170/863171515.py:4: DeprecationWarning: executable_path has been deprecated, please pass in a Service object\n",
      "  driver=webdriver.Chrome(PATH)\n"
     ]
    },
    {
     "name": "stdout",
     "output_type": "stream",
     "text": [
      "todo OK\n",
      "https://open.spotify.com/track/1PZrHbJjt5t7dP9OGRxcD0?si=13e514c448af43b7\n"
     ]
    },
    {
     "name": "stderr",
     "output_type": "stream",
     "text": [
      "/var/folders/s4/79ykyqjn7f16bdl_zqjgsbzh0000gp/T/ipykernel_14170/863171515.py:4: DeprecationWarning: executable_path has been deprecated, please pass in a Service object\n",
      "  driver=webdriver.Chrome(PATH)\n"
     ]
    },
    {
     "name": "stdout",
     "output_type": "stream",
     "text": [
      "error 4\n",
      "todo OK\n",
      "https://open.spotify.com/track/1PZrHbJjt5t7dP9OGRxcD0?si=13e514c448af43b7\n"
     ]
    },
    {
     "name": "stderr",
     "output_type": "stream",
     "text": [
      "/var/folders/s4/79ykyqjn7f16bdl_zqjgsbzh0000gp/T/ipykernel_14170/863171515.py:4: DeprecationWarning: executable_path has been deprecated, please pass in a Service object\n",
      "  driver=webdriver.Chrome(PATH)\n"
     ]
    },
    {
     "name": "stdout",
     "output_type": "stream",
     "text": [
      "todo OK\n",
      "https://open.spotify.com/track/25nzKGDiua1lE9Qo5V19GL?si=c3ff3507d33540f3\n"
     ]
    },
    {
     "name": "stderr",
     "output_type": "stream",
     "text": [
      "/var/folders/s4/79ykyqjn7f16bdl_zqjgsbzh0000gp/T/ipykernel_14170/863171515.py:4: DeprecationWarning: executable_path has been deprecated, please pass in a Service object\n",
      "  driver=webdriver.Chrome(PATH)\n"
     ]
    },
    {
     "name": "stdout",
     "output_type": "stream",
     "text": [
      "todo OK\n",
      "https://open.spotify.com/track/57h4OYRuqBvgE87biicEzq?si=be343948e64c42d7\n"
     ]
    },
    {
     "name": "stderr",
     "output_type": "stream",
     "text": [
      "/var/folders/s4/79ykyqjn7f16bdl_zqjgsbzh0000gp/T/ipykernel_14170/863171515.py:4: DeprecationWarning: executable_path has been deprecated, please pass in a Service object\n",
      "  driver=webdriver.Chrome(PATH)\n"
     ]
    },
    {
     "name": "stdout",
     "output_type": "stream",
     "text": [
      "error 1\n",
      "error 4\n",
      "todo OK\n",
      "https://open.spotify.com/track/57h4OYRuqBvgE87biicEzq?si=be343948e64c42d7\n"
     ]
    },
    {
     "name": "stderr",
     "output_type": "stream",
     "text": [
      "/var/folders/s4/79ykyqjn7f16bdl_zqjgsbzh0000gp/T/ipykernel_14170/863171515.py:4: DeprecationWarning: executable_path has been deprecated, please pass in a Service object\n",
      "  driver=webdriver.Chrome(PATH)\n"
     ]
    },
    {
     "name": "stdout",
     "output_type": "stream",
     "text": [
      "error 1\n",
      "error 4\n",
      "todo OK\n",
      "https://open.spotify.com/track/57h4OYRuqBvgE87biicEzq?si=be343948e64c42d7\n"
     ]
    },
    {
     "name": "stderr",
     "output_type": "stream",
     "text": [
      "/var/folders/s4/79ykyqjn7f16bdl_zqjgsbzh0000gp/T/ipykernel_14170/863171515.py:4: DeprecationWarning: executable_path has been deprecated, please pass in a Service object\n",
      "  driver=webdriver.Chrome(PATH)\n"
     ]
    },
    {
     "name": "stdout",
     "output_type": "stream",
     "text": [
      "todo OK\n",
      "https://open.spotify.com/track/2OmSPqvPsPK5m5X6UByh5S?si=3c08cb64542f4d25\n"
     ]
    },
    {
     "name": "stderr",
     "output_type": "stream",
     "text": [
      "/var/folders/s4/79ykyqjn7f16bdl_zqjgsbzh0000gp/T/ipykernel_14170/863171515.py:4: DeprecationWarning: executable_path has been deprecated, please pass in a Service object\n",
      "  driver=webdriver.Chrome(PATH)\n"
     ]
    },
    {
     "name": "stdout",
     "output_type": "stream",
     "text": [
      "error 1\n",
      "error 4\n",
      "todo OK\n",
      "https://open.spotify.com/track/2OmSPqvPsPK5m5X6UByh5S?si=3c08cb64542f4d25\n"
     ]
    },
    {
     "name": "stderr",
     "output_type": "stream",
     "text": [
      "/var/folders/s4/79ykyqjn7f16bdl_zqjgsbzh0000gp/T/ipykernel_14170/863171515.py:4: DeprecationWarning: executable_path has been deprecated, please pass in a Service object\n",
      "  driver=webdriver.Chrome(PATH)\n"
     ]
    },
    {
     "name": "stdout",
     "output_type": "stream",
     "text": [
      "error 1\n",
      "error 4\n",
      "todo OK\n",
      "https://open.spotify.com/track/2OmSPqvPsPK5m5X6UByh5S?si=3c08cb64542f4d25\n"
     ]
    },
    {
     "name": "stderr",
     "output_type": "stream",
     "text": [
      "/var/folders/s4/79ykyqjn7f16bdl_zqjgsbzh0000gp/T/ipykernel_14170/863171515.py:4: DeprecationWarning: executable_path has been deprecated, please pass in a Service object\n",
      "  driver=webdriver.Chrome(PATH)\n"
     ]
    },
    {
     "name": "stdout",
     "output_type": "stream",
     "text": [
      "todo OK\n",
      "https://open.spotify.com/track/2YZDh5CecWx0qlFiTvqVQ9?si=3c78bd8cc40f4fec\n"
     ]
    },
    {
     "name": "stderr",
     "output_type": "stream",
     "text": [
      "/var/folders/s4/79ykyqjn7f16bdl_zqjgsbzh0000gp/T/ipykernel_14170/863171515.py:4: DeprecationWarning: executable_path has been deprecated, please pass in a Service object\n",
      "  driver=webdriver.Chrome(PATH)\n"
     ]
    },
    {
     "name": "stdout",
     "output_type": "stream",
     "text": [
      "error 1\n",
      "error 4\n",
      "todo OK\n",
      "https://open.spotify.com/track/2YZDh5CecWx0qlFiTvqVQ9?si=3c78bd8cc40f4fec\n"
     ]
    },
    {
     "name": "stderr",
     "output_type": "stream",
     "text": [
      "/var/folders/s4/79ykyqjn7f16bdl_zqjgsbzh0000gp/T/ipykernel_14170/863171515.py:4: DeprecationWarning: executable_path has been deprecated, please pass in a Service object\n",
      "  driver=webdriver.Chrome(PATH)\n"
     ]
    },
    {
     "name": "stdout",
     "output_type": "stream",
     "text": [
      "error 1\n",
      "error 4\n",
      "todo OK\n",
      "https://open.spotify.com/track/2YZDh5CecWx0qlFiTvqVQ9?si=3c78bd8cc40f4fec\n"
     ]
    },
    {
     "name": "stderr",
     "output_type": "stream",
     "text": [
      "/var/folders/s4/79ykyqjn7f16bdl_zqjgsbzh0000gp/T/ipykernel_14170/863171515.py:4: DeprecationWarning: executable_path has been deprecated, please pass in a Service object\n",
      "  driver=webdriver.Chrome(PATH)\n"
     ]
    },
    {
     "name": "stdout",
     "output_type": "stream",
     "text": [
      "error 1\n",
      "error 4\n",
      "todo OK\n",
      "https://open.spotify.com/track/2YZDh5CecWx0qlFiTvqVQ9?si=3c78bd8cc40f4fec\n"
     ]
    },
    {
     "name": "stderr",
     "output_type": "stream",
     "text": [
      "/var/folders/s4/79ykyqjn7f16bdl_zqjgsbzh0000gp/T/ipykernel_14170/863171515.py:4: DeprecationWarning: executable_path has been deprecated, please pass in a Service object\n",
      "  driver=webdriver.Chrome(PATH)\n"
     ]
    },
    {
     "name": "stdout",
     "output_type": "stream",
     "text": [
      "error 1\n",
      "error 4\n",
      "todo OK\n",
      "https://open.spotify.com/track/2YZDh5CecWx0qlFiTvqVQ9?si=3c78bd8cc40f4fec\n"
     ]
    },
    {
     "name": "stderr",
     "output_type": "stream",
     "text": [
      "/var/folders/s4/79ykyqjn7f16bdl_zqjgsbzh0000gp/T/ipykernel_14170/863171515.py:4: DeprecationWarning: executable_path has been deprecated, please pass in a Service object\n",
      "  driver=webdriver.Chrome(PATH)\n"
     ]
    },
    {
     "name": "stdout",
     "output_type": "stream",
     "text": [
      "todo OK\n",
      "https://open.spotify.com/track/4kELKaXaNP4EQR8Q8xNIID?si=fa02b8c69f6445d4\n"
     ]
    },
    {
     "name": "stderr",
     "output_type": "stream",
     "text": [
      "/var/folders/s4/79ykyqjn7f16bdl_zqjgsbzh0000gp/T/ipykernel_14170/863171515.py:4: DeprecationWarning: executable_path has been deprecated, please pass in a Service object\n",
      "  driver=webdriver.Chrome(PATH)\n"
     ]
    },
    {
     "name": "stdout",
     "output_type": "stream",
     "text": [
      "error 1\n",
      "error 4\n",
      "todo OK\n",
      "https://open.spotify.com/track/4kELKaXaNP4EQR8Q8xNIID?si=fa02b8c69f6445d4\n"
     ]
    },
    {
     "name": "stderr",
     "output_type": "stream",
     "text": [
      "/var/folders/s4/79ykyqjn7f16bdl_zqjgsbzh0000gp/T/ipykernel_14170/863171515.py:4: DeprecationWarning: executable_path has been deprecated, please pass in a Service object\n",
      "  driver=webdriver.Chrome(PATH)\n"
     ]
    },
    {
     "name": "stdout",
     "output_type": "stream",
     "text": [
      "error 1\n",
      "error 4\n",
      "todo OK\n",
      "https://open.spotify.com/track/4kELKaXaNP4EQR8Q8xNIID?si=fa02b8c69f6445d4\n"
     ]
    },
    {
     "name": "stderr",
     "output_type": "stream",
     "text": [
      "/var/folders/s4/79ykyqjn7f16bdl_zqjgsbzh0000gp/T/ipykernel_14170/863171515.py:4: DeprecationWarning: executable_path has been deprecated, please pass in a Service object\n",
      "  driver=webdriver.Chrome(PATH)\n"
     ]
    },
    {
     "name": "stdout",
     "output_type": "stream",
     "text": [
      "todo OK\n",
      "https://open.spotify.com/track/6GsD646HrIDJJpzoY9T1Rt?si=846103b614c84291\n"
     ]
    },
    {
     "name": "stderr",
     "output_type": "stream",
     "text": [
      "/var/folders/s4/79ykyqjn7f16bdl_zqjgsbzh0000gp/T/ipykernel_14170/863171515.py:4: DeprecationWarning: executable_path has been deprecated, please pass in a Service object\n",
      "  driver=webdriver.Chrome(PATH)\n"
     ]
    },
    {
     "name": "stdout",
     "output_type": "stream",
     "text": [
      "error 1\n",
      "error 4\n",
      "todo OK\n",
      "https://open.spotify.com/track/6GsD646HrIDJJpzoY9T1Rt?si=846103b614c84291\n"
     ]
    },
    {
     "name": "stderr",
     "output_type": "stream",
     "text": [
      "/var/folders/s4/79ykyqjn7f16bdl_zqjgsbzh0000gp/T/ipykernel_14170/863171515.py:4: DeprecationWarning: executable_path has been deprecated, please pass in a Service object\n",
      "  driver=webdriver.Chrome(PATH)\n"
     ]
    },
    {
     "name": "stdout",
     "output_type": "stream",
     "text": [
      "error 1\n",
      "error 4\n",
      "todo OK\n",
      "https://open.spotify.com/track/6GsD646HrIDJJpzoY9T1Rt?si=846103b614c84291\n"
     ]
    },
    {
     "name": "stderr",
     "output_type": "stream",
     "text": [
      "/var/folders/s4/79ykyqjn7f16bdl_zqjgsbzh0000gp/T/ipykernel_14170/863171515.py:4: DeprecationWarning: executable_path has been deprecated, please pass in a Service object\n",
      "  driver=webdriver.Chrome(PATH)\n"
     ]
    },
    {
     "name": "stdout",
     "output_type": "stream",
     "text": [
      "error 1\n",
      "todo OK\n",
      "https://open.spotify.com/track/1lV3QHHMAQt0Kc1ioZq2MP?si=11a655b6db98496d\n"
     ]
    },
    {
     "name": "stderr",
     "output_type": "stream",
     "text": [
      "/var/folders/s4/79ykyqjn7f16bdl_zqjgsbzh0000gp/T/ipykernel_14170/863171515.py:4: DeprecationWarning: executable_path has been deprecated, please pass in a Service object\n",
      "  driver=webdriver.Chrome(PATH)\n"
     ]
    },
    {
     "name": "stdout",
     "output_type": "stream",
     "text": [
      "error 1\n",
      "error 4\n",
      "todo OK\n",
      "https://open.spotify.com/track/1lV3QHHMAQt0Kc1ioZq2MP?si=11a655b6db98496d\n"
     ]
    },
    {
     "name": "stderr",
     "output_type": "stream",
     "text": [
      "/var/folders/s4/79ykyqjn7f16bdl_zqjgsbzh0000gp/T/ipykernel_14170/863171515.py:4: DeprecationWarning: executable_path has been deprecated, please pass in a Service object\n",
      "  driver=webdriver.Chrome(PATH)\n"
     ]
    },
    {
     "name": "stdout",
     "output_type": "stream",
     "text": [
      "error 1\n",
      "error 4\n",
      "todo OK\n",
      "https://open.spotify.com/track/1lV3QHHMAQt0Kc1ioZq2MP?si=11a655b6db98496d\n"
     ]
    },
    {
     "name": "stderr",
     "output_type": "stream",
     "text": [
      "/var/folders/s4/79ykyqjn7f16bdl_zqjgsbzh0000gp/T/ipykernel_14170/863171515.py:4: DeprecationWarning: executable_path has been deprecated, please pass in a Service object\n",
      "  driver=webdriver.Chrome(PATH)\n"
     ]
    },
    {
     "name": "stdout",
     "output_type": "stream",
     "text": [
      "error 1\n",
      "error 4\n",
      "todo OK\n",
      "https://open.spotify.com/track/1lV3QHHMAQt0Kc1ioZq2MP?si=11a655b6db98496d\n"
     ]
    },
    {
     "name": "stderr",
     "output_type": "stream",
     "text": [
      "/var/folders/s4/79ykyqjn7f16bdl_zqjgsbzh0000gp/T/ipykernel_14170/863171515.py:4: DeprecationWarning: executable_path has been deprecated, please pass in a Service object\n",
      "  driver=webdriver.Chrome(PATH)\n"
     ]
    },
    {
     "name": "stdout",
     "output_type": "stream",
     "text": [
      "todo OK\n",
      "https://open.spotify.com/track/7AeM3O8qWnX5jevjHs8inC?si=01fa191f55ad4bc9\n"
     ]
    },
    {
     "name": "stderr",
     "output_type": "stream",
     "text": [
      "/var/folders/s4/79ykyqjn7f16bdl_zqjgsbzh0000gp/T/ipykernel_14170/863171515.py:4: DeprecationWarning: executable_path has been deprecated, please pass in a Service object\n",
      "  driver=webdriver.Chrome(PATH)\n"
     ]
    },
    {
     "name": "stdout",
     "output_type": "stream",
     "text": [
      "todo OK\n",
      "https://open.spotify.com/track/5zNW5ARjYhJQJz1AChP33n?si=d85bdf793fe74ec5\n"
     ]
    },
    {
     "name": "stderr",
     "output_type": "stream",
     "text": [
      "/var/folders/s4/79ykyqjn7f16bdl_zqjgsbzh0000gp/T/ipykernel_14170/863171515.py:4: DeprecationWarning: executable_path has been deprecated, please pass in a Service object\n",
      "  driver=webdriver.Chrome(PATH)\n"
     ]
    },
    {
     "name": "stdout",
     "output_type": "stream",
     "text": [
      "todo OK\n",
      "https://open.spotify.com/track/5SixeLvPsYpk7qq9lo5xYg?si=7cc08b242dfa4fb5\n"
     ]
    },
    {
     "name": "stderr",
     "output_type": "stream",
     "text": [
      "/var/folders/s4/79ykyqjn7f16bdl_zqjgsbzh0000gp/T/ipykernel_14170/863171515.py:4: DeprecationWarning: executable_path has been deprecated, please pass in a Service object\n",
      "  driver=webdriver.Chrome(PATH)\n"
     ]
    },
    {
     "name": "stdout",
     "output_type": "stream",
     "text": [
      "error 4\n",
      "todo OK\n",
      "https://open.spotify.com/track/5SixeLvPsYpk7qq9lo5xYg?si=7cc08b242dfa4fb5\n"
     ]
    },
    {
     "name": "stderr",
     "output_type": "stream",
     "text": [
      "/var/folders/s4/79ykyqjn7f16bdl_zqjgsbzh0000gp/T/ipykernel_14170/863171515.py:4: DeprecationWarning: executable_path has been deprecated, please pass in a Service object\n",
      "  driver=webdriver.Chrome(PATH)\n"
     ]
    },
    {
     "name": "stdout",
     "output_type": "stream",
     "text": [
      "error 1\n",
      "todo OK\n",
      "https://open.spotify.com/track/6Zu3aw7FfjAF9WA0fA81Oq?si=8689e571cfb9481d\n"
     ]
    },
    {
     "name": "stderr",
     "output_type": "stream",
     "text": [
      "/var/folders/s4/79ykyqjn7f16bdl_zqjgsbzh0000gp/T/ipykernel_14170/863171515.py:4: DeprecationWarning: executable_path has been deprecated, please pass in a Service object\n",
      "  driver=webdriver.Chrome(PATH)\n"
     ]
    },
    {
     "name": "stdout",
     "output_type": "stream",
     "text": [
      "error 1\n",
      "todo OK\n",
      "https://open.spotify.com/track/4fSIb4hdOQ151TILNsSEaF?si=52212f044bb24b61\n"
     ]
    },
    {
     "name": "stderr",
     "output_type": "stream",
     "text": [
      "/var/folders/s4/79ykyqjn7f16bdl_zqjgsbzh0000gp/T/ipykernel_14170/863171515.py:4: DeprecationWarning: executable_path has been deprecated, please pass in a Service object\n",
      "  driver=webdriver.Chrome(PATH)\n"
     ]
    },
    {
     "name": "stdout",
     "output_type": "stream",
     "text": [
      "error 1\n",
      "error 4\n",
      "todo OK\n",
      "https://open.spotify.com/track/4fSIb4hdOQ151TILNsSEaF?si=52212f044bb24b61\n"
     ]
    },
    {
     "name": "stderr",
     "output_type": "stream",
     "text": [
      "/var/folders/s4/79ykyqjn7f16bdl_zqjgsbzh0000gp/T/ipykernel_14170/863171515.py:4: DeprecationWarning: executable_path has been deprecated, please pass in a Service object\n",
      "  driver=webdriver.Chrome(PATH)\n"
     ]
    },
    {
     "name": "stdout",
     "output_type": "stream",
     "text": [
      "error 1\n",
      "todo OK\n",
      "https://open.spotify.com/track/3PfIrDoz19wz7qK7tYeu62?si=f590c76e53d648f7\n"
     ]
    },
    {
     "name": "stderr",
     "output_type": "stream",
     "text": [
      "/var/folders/s4/79ykyqjn7f16bdl_zqjgsbzh0000gp/T/ipykernel_14170/863171515.py:4: DeprecationWarning: executable_path has been deprecated, please pass in a Service object\n",
      "  driver=webdriver.Chrome(PATH)\n"
     ]
    },
    {
     "name": "stdout",
     "output_type": "stream",
     "text": [
      "error 1\n",
      "error 4\n",
      "todo OK\n",
      "https://open.spotify.com/track/3PfIrDoz19wz7qK7tYeu62?si=f590c76e53d648f7\n"
     ]
    },
    {
     "name": "stderr",
     "output_type": "stream",
     "text": [
      "/var/folders/s4/79ykyqjn7f16bdl_zqjgsbzh0000gp/T/ipykernel_14170/863171515.py:4: DeprecationWarning: executable_path has been deprecated, please pass in a Service object\n",
      "  driver=webdriver.Chrome(PATH)\n"
     ]
    },
    {
     "name": "stdout",
     "output_type": "stream",
     "text": [
      "todo OK\n",
      "https://open.spotify.com/track/5YaskwnGDZFDRipaqzbwQx?si=bd1b18a58147418b\n"
     ]
    },
    {
     "name": "stderr",
     "output_type": "stream",
     "text": [
      "/var/folders/s4/79ykyqjn7f16bdl_zqjgsbzh0000gp/T/ipykernel_14170/863171515.py:4: DeprecationWarning: executable_path has been deprecated, please pass in a Service object\n",
      "  driver=webdriver.Chrome(PATH)\n"
     ]
    },
    {
     "name": "stdout",
     "output_type": "stream",
     "text": [
      "error 4\n",
      "todo OK\n",
      "https://open.spotify.com/track/5YaskwnGDZFDRipaqzbwQx?si=bd1b18a58147418b\n"
     ]
    },
    {
     "name": "stderr",
     "output_type": "stream",
     "text": [
      "/var/folders/s4/79ykyqjn7f16bdl_zqjgsbzh0000gp/T/ipykernel_14170/863171515.py:4: DeprecationWarning: executable_path has been deprecated, please pass in a Service object\n",
      "  driver=webdriver.Chrome(PATH)\n"
     ]
    },
    {
     "name": "stdout",
     "output_type": "stream",
     "text": [
      "error 1\n",
      "error 4\n",
      "todo OK\n",
      "https://open.spotify.com/track/5YaskwnGDZFDRipaqzbwQx?si=bd1b18a58147418b\n"
     ]
    },
    {
     "name": "stderr",
     "output_type": "stream",
     "text": [
      "/var/folders/s4/79ykyqjn7f16bdl_zqjgsbzh0000gp/T/ipykernel_14170/863171515.py:4: DeprecationWarning: executable_path has been deprecated, please pass in a Service object\n",
      "  driver=webdriver.Chrome(PATH)\n"
     ]
    },
    {
     "name": "stdout",
     "output_type": "stream",
     "text": [
      "error 4\n",
      "todo OK\n",
      "https://open.spotify.com/track/5YaskwnGDZFDRipaqzbwQx?si=bd1b18a58147418b\n"
     ]
    },
    {
     "name": "stderr",
     "output_type": "stream",
     "text": [
      "/var/folders/s4/79ykyqjn7f16bdl_zqjgsbzh0000gp/T/ipykernel_14170/863171515.py:4: DeprecationWarning: executable_path has been deprecated, please pass in a Service object\n",
      "  driver=webdriver.Chrome(PATH)\n"
     ]
    },
    {
     "name": "stdout",
     "output_type": "stream",
     "text": [
      "error 0\n",
      "error 1\n",
      "error 2\n",
      "error 3\n",
      "error 4\n",
      "todo OK\n",
      "https://open.spotify.com/track/5YaskwnGDZFDRipaqzbwQx?si=bd1b18a58147418b\n"
     ]
    },
    {
     "name": "stderr",
     "output_type": "stream",
     "text": [
      "/var/folders/s4/79ykyqjn7f16bdl_zqjgsbzh0000gp/T/ipykernel_14170/863171515.py:4: DeprecationWarning: executable_path has been deprecated, please pass in a Service object\n",
      "  driver=webdriver.Chrome(PATH)\n"
     ]
    },
    {
     "name": "stdout",
     "output_type": "stream",
     "text": [
      "error 1\n",
      "todo OK\n",
      "https://open.spotify.com/track/7xQAfvXzm3AkraOtGPWIZg?si=ea12ece00d874d0b\n"
     ]
    },
    {
     "name": "stderr",
     "output_type": "stream",
     "text": [
      "/var/folders/s4/79ykyqjn7f16bdl_zqjgsbzh0000gp/T/ipykernel_14170/863171515.py:4: DeprecationWarning: executable_path has been deprecated, please pass in a Service object\n",
      "  driver=webdriver.Chrome(PATH)\n"
     ]
    },
    {
     "name": "stdout",
     "output_type": "stream",
     "text": [
      "error 1\n",
      "todo OK\n",
      "https://open.spotify.com/track/4DERbz1e89YD9VZt7or9GB?si=133a1af5a56e4389\n"
     ]
    },
    {
     "name": "stderr",
     "output_type": "stream",
     "text": [
      "/var/folders/s4/79ykyqjn7f16bdl_zqjgsbzh0000gp/T/ipykernel_14170/863171515.py:4: DeprecationWarning: executable_path has been deprecated, please pass in a Service object\n",
      "  driver=webdriver.Chrome(PATH)\n"
     ]
    },
    {
     "name": "stdout",
     "output_type": "stream",
     "text": [
      "error 1\n",
      "error 4\n",
      "todo OK\n",
      "https://open.spotify.com/track/4DERbz1e89YD9VZt7or9GB?si=133a1af5a56e4389\n"
     ]
    },
    {
     "name": "stderr",
     "output_type": "stream",
     "text": [
      "/var/folders/s4/79ykyqjn7f16bdl_zqjgsbzh0000gp/T/ipykernel_14170/863171515.py:4: DeprecationWarning: executable_path has been deprecated, please pass in a Service object\n",
      "  driver=webdriver.Chrome(PATH)\n"
     ]
    },
    {
     "name": "stdout",
     "output_type": "stream",
     "text": [
      "error 1\n",
      "todo OK\n",
      "https://open.spotify.com/track/78wyf1JZmuzIoX0cqtTvCd?si=402b7a454e694307\n"
     ]
    },
    {
     "name": "stderr",
     "output_type": "stream",
     "text": [
      "/var/folders/s4/79ykyqjn7f16bdl_zqjgsbzh0000gp/T/ipykernel_14170/863171515.py:4: DeprecationWarning: executable_path has been deprecated, please pass in a Service object\n",
      "  driver=webdriver.Chrome(PATH)\n"
     ]
    },
    {
     "name": "stdout",
     "output_type": "stream",
     "text": [
      "error 1\n",
      "todo OK\n",
      "https://open.spotify.com/track/4KQ0rQMuQJf2SSQMwJFNhM?si=bb3db856e228491f\n"
     ]
    },
    {
     "name": "stderr",
     "output_type": "stream",
     "text": [
      "/var/folders/s4/79ykyqjn7f16bdl_zqjgsbzh0000gp/T/ipykernel_14170/863171515.py:4: DeprecationWarning: executable_path has been deprecated, please pass in a Service object\n",
      "  driver=webdriver.Chrome(PATH)\n"
     ]
    },
    {
     "name": "stdout",
     "output_type": "stream",
     "text": [
      "error 4\n",
      "todo OK\n",
      "https://open.spotify.com/track/4KQ0rQMuQJf2SSQMwJFNhM?si=bb3db856e228491f\n"
     ]
    },
    {
     "name": "stderr",
     "output_type": "stream",
     "text": [
      "/var/folders/s4/79ykyqjn7f16bdl_zqjgsbzh0000gp/T/ipykernel_14170/863171515.py:4: DeprecationWarning: executable_path has been deprecated, please pass in a Service object\n",
      "  driver=webdriver.Chrome(PATH)\n"
     ]
    },
    {
     "name": "stdout",
     "output_type": "stream",
     "text": [
      "error 1\n",
      "todo OK\n",
      "https://open.spotify.com/track/0rdvxChAjvco05muND6SfN?si=a4a5241ecedb431a\n"
     ]
    },
    {
     "name": "stderr",
     "output_type": "stream",
     "text": [
      "/var/folders/s4/79ykyqjn7f16bdl_zqjgsbzh0000gp/T/ipykernel_14170/863171515.py:4: DeprecationWarning: executable_path has been deprecated, please pass in a Service object\n",
      "  driver=webdriver.Chrome(PATH)\n"
     ]
    },
    {
     "name": "stdout",
     "output_type": "stream",
     "text": [
      "todo OK\n",
      "https://open.spotify.com/track/505pS73CWBrQPE811qppNw?si=a8899aaba17b446d\n"
     ]
    },
    {
     "name": "stderr",
     "output_type": "stream",
     "text": [
      "/var/folders/s4/79ykyqjn7f16bdl_zqjgsbzh0000gp/T/ipykernel_14170/863171515.py:4: DeprecationWarning: executable_path has been deprecated, please pass in a Service object\n",
      "  driver=webdriver.Chrome(PATH)\n"
     ]
    },
    {
     "name": "stdout",
     "output_type": "stream",
     "text": [
      "error 1\n",
      "todo OK\n",
      "https://open.spotify.com/track/4wKEvlClvZgXcrSCSfPCxV?si=babc48fa7e9e4de3\n"
     ]
    },
    {
     "name": "stderr",
     "output_type": "stream",
     "text": [
      "/var/folders/s4/79ykyqjn7f16bdl_zqjgsbzh0000gp/T/ipykernel_14170/863171515.py:4: DeprecationWarning: executable_path has been deprecated, please pass in a Service object\n",
      "  driver=webdriver.Chrome(PATH)\n"
     ]
    },
    {
     "name": "stdout",
     "output_type": "stream",
     "text": [
      "error 1\n",
      "todo OK\n",
      "https://open.spotify.com/track/652oAvFglJKrmCCmInuLcc?si=bf9bbb4253d9480e\n"
     ]
    },
    {
     "name": "stderr",
     "output_type": "stream",
     "text": [
      "/var/folders/s4/79ykyqjn7f16bdl_zqjgsbzh0000gp/T/ipykernel_14170/863171515.py:4: DeprecationWarning: executable_path has been deprecated, please pass in a Service object\n",
      "  driver=webdriver.Chrome(PATH)\n"
     ]
    },
    {
     "name": "stdout",
     "output_type": "stream",
     "text": [
      "error 1\n",
      "todo OK\n",
      "https://open.spotify.com/track/1y3Vz6UcInyQqeYuW2k1EX?si=35e5053f6d814478\n"
     ]
    },
    {
     "name": "stderr",
     "output_type": "stream",
     "text": [
      "/var/folders/s4/79ykyqjn7f16bdl_zqjgsbzh0000gp/T/ipykernel_14170/863171515.py:4: DeprecationWarning: executable_path has been deprecated, please pass in a Service object\n",
      "  driver=webdriver.Chrome(PATH)\n"
     ]
    },
    {
     "name": "stdout",
     "output_type": "stream",
     "text": [
      "error 4\n",
      "todo OK\n",
      "https://open.spotify.com/track/1y3Vz6UcInyQqeYuW2k1EX?si=35e5053f6d814478\n"
     ]
    },
    {
     "name": "stderr",
     "output_type": "stream",
     "text": [
      "/var/folders/s4/79ykyqjn7f16bdl_zqjgsbzh0000gp/T/ipykernel_14170/863171515.py:4: DeprecationWarning: executable_path has been deprecated, please pass in a Service object\n",
      "  driver=webdriver.Chrome(PATH)\n"
     ]
    },
    {
     "name": "stdout",
     "output_type": "stream",
     "text": [
      "todo OK\n",
      "https://open.spotify.com/track/2ZpP2JzjOHH002EA7ybQXc?si=6245bccc350a4e2a\n"
     ]
    },
    {
     "name": "stderr",
     "output_type": "stream",
     "text": [
      "/var/folders/s4/79ykyqjn7f16bdl_zqjgsbzh0000gp/T/ipykernel_14170/863171515.py:4: DeprecationWarning: executable_path has been deprecated, please pass in a Service object\n",
      "  driver=webdriver.Chrome(PATH)\n"
     ]
    },
    {
     "name": "stdout",
     "output_type": "stream",
     "text": [
      "error 4\n",
      "todo OK\n",
      "https://open.spotify.com/track/2ZpP2JzjOHH002EA7ybQXc?si=6245bccc350a4e2a\n"
     ]
    },
    {
     "name": "stderr",
     "output_type": "stream",
     "text": [
      "/var/folders/s4/79ykyqjn7f16bdl_zqjgsbzh0000gp/T/ipykernel_14170/863171515.py:4: DeprecationWarning: executable_path has been deprecated, please pass in a Service object\n",
      "  driver=webdriver.Chrome(PATH)\n"
     ]
    },
    {
     "name": "stdout",
     "output_type": "stream",
     "text": [
      "error 1\n",
      "todo OK\n",
      "https://open.spotify.com/track/2my7K20Fv5OtE27cjG9sfu?si=dfd03e19e3dd41eb\n"
     ]
    },
    {
     "name": "stderr",
     "output_type": "stream",
     "text": [
      "/var/folders/s4/79ykyqjn7f16bdl_zqjgsbzh0000gp/T/ipykernel_14170/863171515.py:4: DeprecationWarning: executable_path has been deprecated, please pass in a Service object\n",
      "  driver=webdriver.Chrome(PATH)\n"
     ]
    },
    {
     "name": "stdout",
     "output_type": "stream",
     "text": [
      "error 1\n",
      "error 4\n",
      "todo OK\n",
      "https://open.spotify.com/track/2my7K20Fv5OtE27cjG9sfu?si=dfd03e19e3dd41eb\n"
     ]
    },
    {
     "name": "stderr",
     "output_type": "stream",
     "text": [
      "/var/folders/s4/79ykyqjn7f16bdl_zqjgsbzh0000gp/T/ipykernel_14170/863171515.py:4: DeprecationWarning: executable_path has been deprecated, please pass in a Service object\n",
      "  driver=webdriver.Chrome(PATH)\n"
     ]
    },
    {
     "name": "stdout",
     "output_type": "stream",
     "text": [
      "todo OK\n",
      "https://open.spotify.com/track/4gJ3503y9vLcCdxQFpv3fQ?si=ec52a886889b492b\n"
     ]
    },
    {
     "name": "stderr",
     "output_type": "stream",
     "text": [
      "/var/folders/s4/79ykyqjn7f16bdl_zqjgsbzh0000gp/T/ipykernel_14170/863171515.py:4: DeprecationWarning: executable_path has been deprecated, please pass in a Service object\n",
      "  driver=webdriver.Chrome(PATH)\n"
     ]
    },
    {
     "name": "stdout",
     "output_type": "stream",
     "text": [
      "error 4\n",
      "todo OK\n",
      "https://open.spotify.com/track/4gJ3503y9vLcCdxQFpv3fQ?si=ec52a886889b492b\n"
     ]
    },
    {
     "name": "stderr",
     "output_type": "stream",
     "text": [
      "/var/folders/s4/79ykyqjn7f16bdl_zqjgsbzh0000gp/T/ipykernel_14170/863171515.py:4: DeprecationWarning: executable_path has been deprecated, please pass in a Service object\n",
      "  driver=webdriver.Chrome(PATH)\n"
     ]
    },
    {
     "name": "stdout",
     "output_type": "stream",
     "text": [
      "error 1\n",
      "error 4\n",
      "todo OK\n",
      "https://open.spotify.com/track/4gJ3503y9vLcCdxQFpv3fQ?si=ec52a886889b492b\n"
     ]
    },
    {
     "name": "stderr",
     "output_type": "stream",
     "text": [
      "/var/folders/s4/79ykyqjn7f16bdl_zqjgsbzh0000gp/T/ipykernel_14170/863171515.py:4: DeprecationWarning: executable_path has been deprecated, please pass in a Service object\n",
      "  driver=webdriver.Chrome(PATH)\n"
     ]
    },
    {
     "name": "stdout",
     "output_type": "stream",
     "text": [
      "error 1\n",
      "error 4\n",
      "todo OK\n",
      "https://open.spotify.com/track/4gJ3503y9vLcCdxQFpv3fQ?si=ec52a886889b492b\n"
     ]
    },
    {
     "name": "stderr",
     "output_type": "stream",
     "text": [
      "/var/folders/s4/79ykyqjn7f16bdl_zqjgsbzh0000gp/T/ipykernel_14170/863171515.py:4: DeprecationWarning: executable_path has been deprecated, please pass in a Service object\n",
      "  driver=webdriver.Chrome(PATH)\n"
     ]
    },
    {
     "name": "stdout",
     "output_type": "stream",
     "text": [
      "error 1\n",
      "error 4\n",
      "todo OK\n",
      "https://open.spotify.com/track/4gJ3503y9vLcCdxQFpv3fQ?si=ec52a886889b492b\n"
     ]
    },
    {
     "name": "stderr",
     "output_type": "stream",
     "text": [
      "/var/folders/s4/79ykyqjn7f16bdl_zqjgsbzh0000gp/T/ipykernel_14170/863171515.py:4: DeprecationWarning: executable_path has been deprecated, please pass in a Service object\n",
      "  driver=webdriver.Chrome(PATH)\n"
     ]
    },
    {
     "name": "stdout",
     "output_type": "stream",
     "text": [
      "error 1\n",
      "todo OK\n",
      "https://open.spotify.com/track/4uiFw0YvHosZT3qRf1QAvs?si=329469abf2164fbb\n"
     ]
    },
    {
     "name": "stderr",
     "output_type": "stream",
     "text": [
      "/var/folders/s4/79ykyqjn7f16bdl_zqjgsbzh0000gp/T/ipykernel_14170/863171515.py:4: DeprecationWarning: executable_path has been deprecated, please pass in a Service object\n",
      "  driver=webdriver.Chrome(PATH)\n"
     ]
    },
    {
     "name": "stdout",
     "output_type": "stream",
     "text": [
      "todo OK\n",
      "https://open.spotify.com/track/37oaImGdDkQgIIUZDvFGdr?si=616cdd934ff247d7\n"
     ]
    },
    {
     "name": "stderr",
     "output_type": "stream",
     "text": [
      "/var/folders/s4/79ykyqjn7f16bdl_zqjgsbzh0000gp/T/ipykernel_14170/863171515.py:4: DeprecationWarning: executable_path has been deprecated, please pass in a Service object\n",
      "  driver=webdriver.Chrome(PATH)\n"
     ]
    },
    {
     "name": "stdout",
     "output_type": "stream",
     "text": [
      "error 1\n",
      "error 4\n",
      "todo OK\n",
      "https://open.spotify.com/track/37oaImGdDkQgIIUZDvFGdr?si=616cdd934ff247d7\n"
     ]
    },
    {
     "name": "stderr",
     "output_type": "stream",
     "text": [
      "/var/folders/s4/79ykyqjn7f16bdl_zqjgsbzh0000gp/T/ipykernel_14170/863171515.py:4: DeprecationWarning: executable_path has been deprecated, please pass in a Service object\n",
      "  driver=webdriver.Chrome(PATH)\n"
     ]
    },
    {
     "name": "stdout",
     "output_type": "stream",
     "text": [
      "error 1\n",
      "error 4\n",
      "todo OK\n",
      "https://open.spotify.com/track/37oaImGdDkQgIIUZDvFGdr?si=616cdd934ff247d7\n"
     ]
    },
    {
     "name": "stderr",
     "output_type": "stream",
     "text": [
      "/var/folders/s4/79ykyqjn7f16bdl_zqjgsbzh0000gp/T/ipykernel_14170/863171515.py:4: DeprecationWarning: executable_path has been deprecated, please pass in a Service object\n",
      "  driver=webdriver.Chrome(PATH)\n"
     ]
    },
    {
     "name": "stdout",
     "output_type": "stream",
     "text": [
      "error 1\n",
      "todo OK\n",
      "https://open.spotify.com/track/7zNGzcGEnfVld7PdlXSeSa?si=1bedd5337b7f4375\n"
     ]
    },
    {
     "name": "stderr",
     "output_type": "stream",
     "text": [
      "/var/folders/s4/79ykyqjn7f16bdl_zqjgsbzh0000gp/T/ipykernel_14170/863171515.py:4: DeprecationWarning: executable_path has been deprecated, please pass in a Service object\n",
      "  driver=webdriver.Chrome(PATH)\n"
     ]
    },
    {
     "name": "stdout",
     "output_type": "stream",
     "text": [
      "error 1\n",
      "error 4\n",
      "todo OK\n",
      "https://open.spotify.com/track/7zNGzcGEnfVld7PdlXSeSa?si=1bedd5337b7f4375\n"
     ]
    },
    {
     "name": "stderr",
     "output_type": "stream",
     "text": [
      "/var/folders/s4/79ykyqjn7f16bdl_zqjgsbzh0000gp/T/ipykernel_14170/863171515.py:4: DeprecationWarning: executable_path has been deprecated, please pass in a Service object\n",
      "  driver=webdriver.Chrome(PATH)\n"
     ]
    },
    {
     "name": "stdout",
     "output_type": "stream",
     "text": [
      "error 1\n",
      "todo OK\n",
      "https://open.spotify.com/track/3GMB07AYPzuPaH7XQpmDxq?si=ff6207c87d1a4a79\n"
     ]
    },
    {
     "name": "stderr",
     "output_type": "stream",
     "text": [
      "/var/folders/s4/79ykyqjn7f16bdl_zqjgsbzh0000gp/T/ipykernel_14170/863171515.py:4: DeprecationWarning: executable_path has been deprecated, please pass in a Service object\n",
      "  driver=webdriver.Chrome(PATH)\n"
     ]
    },
    {
     "name": "stdout",
     "output_type": "stream",
     "text": [
      "error 1\n",
      "todo OK\n",
      "https://open.spotify.com/track/3ZuFInBcAYRuRzoresTxCW?si=c44422bdaa6649f4\n"
     ]
    },
    {
     "name": "stderr",
     "output_type": "stream",
     "text": [
      "/var/folders/s4/79ykyqjn7f16bdl_zqjgsbzh0000gp/T/ipykernel_14170/863171515.py:4: DeprecationWarning: executable_path has been deprecated, please pass in a Service object\n",
      "  driver=webdriver.Chrome(PATH)\n"
     ]
    },
    {
     "name": "stdout",
     "output_type": "stream",
     "text": [
      "error 1\n",
      "error 4\n",
      "todo OK\n",
      "https://open.spotify.com/track/3ZuFInBcAYRuRzoresTxCW?si=c44422bdaa6649f4\n"
     ]
    },
    {
     "name": "stderr",
     "output_type": "stream",
     "text": [
      "/var/folders/s4/79ykyqjn7f16bdl_zqjgsbzh0000gp/T/ipykernel_14170/863171515.py:4: DeprecationWarning: executable_path has been deprecated, please pass in a Service object\n",
      "  driver=webdriver.Chrome(PATH)\n"
     ]
    },
    {
     "name": "stdout",
     "output_type": "stream",
     "text": [
      "error 1\n",
      "error 4\n",
      "todo OK\n",
      "https://open.spotify.com/track/3ZuFInBcAYRuRzoresTxCW?si=c44422bdaa6649f4\n"
     ]
    },
    {
     "name": "stderr",
     "output_type": "stream",
     "text": [
      "/var/folders/s4/79ykyqjn7f16bdl_zqjgsbzh0000gp/T/ipykernel_14170/863171515.py:4: DeprecationWarning: executable_path has been deprecated, please pass in a Service object\n",
      "  driver=webdriver.Chrome(PATH)\n"
     ]
    },
    {
     "name": "stdout",
     "output_type": "stream",
     "text": [
      "error 1\n",
      "error 4\n",
      "todo OK\n",
      "https://open.spotify.com/track/3ZuFInBcAYRuRzoresTxCW?si=c44422bdaa6649f4\n"
     ]
    },
    {
     "name": "stderr",
     "output_type": "stream",
     "text": [
      "/var/folders/s4/79ykyqjn7f16bdl_zqjgsbzh0000gp/T/ipykernel_14170/863171515.py:4: DeprecationWarning: executable_path has been deprecated, please pass in a Service object\n",
      "  driver=webdriver.Chrome(PATH)\n"
     ]
    },
    {
     "name": "stdout",
     "output_type": "stream",
     "text": [
      "error 1\n",
      "todo OK\n",
      "https://open.spotify.com/track/6WeJGp7MB7sEEf9InLEvh1?si=daed861102074061\n"
     ]
    },
    {
     "name": "stderr",
     "output_type": "stream",
     "text": [
      "/var/folders/s4/79ykyqjn7f16bdl_zqjgsbzh0000gp/T/ipykernel_14170/863171515.py:4: DeprecationWarning: executable_path has been deprecated, please pass in a Service object\n",
      "  driver=webdriver.Chrome(PATH)\n"
     ]
    },
    {
     "name": "stdout",
     "output_type": "stream",
     "text": [
      "error 1\n",
      "error 4\n",
      "todo OK\n",
      "https://open.spotify.com/track/6WeJGp7MB7sEEf9InLEvh1?si=daed861102074061\n"
     ]
    },
    {
     "name": "stderr",
     "output_type": "stream",
     "text": [
      "/var/folders/s4/79ykyqjn7f16bdl_zqjgsbzh0000gp/T/ipykernel_14170/863171515.py:4: DeprecationWarning: executable_path has been deprecated, please pass in a Service object\n",
      "  driver=webdriver.Chrome(PATH)\n"
     ]
    },
    {
     "name": "stdout",
     "output_type": "stream",
     "text": [
      "error 4\n",
      "todo OK\n",
      "https://open.spotify.com/track/6WeJGp7MB7sEEf9InLEvh1?si=daed861102074061\n"
     ]
    },
    {
     "name": "stderr",
     "output_type": "stream",
     "text": [
      "/var/folders/s4/79ykyqjn7f16bdl_zqjgsbzh0000gp/T/ipykernel_14170/863171515.py:4: DeprecationWarning: executable_path has been deprecated, please pass in a Service object\n",
      "  driver=webdriver.Chrome(PATH)\n"
     ]
    },
    {
     "name": "stdout",
     "output_type": "stream",
     "text": [
      "error 4\n",
      "todo OK\n",
      "https://open.spotify.com/track/6WeJGp7MB7sEEf9InLEvh1?si=daed861102074061\n"
     ]
    },
    {
     "name": "stderr",
     "output_type": "stream",
     "text": [
      "/var/folders/s4/79ykyqjn7f16bdl_zqjgsbzh0000gp/T/ipykernel_14170/863171515.py:4: DeprecationWarning: executable_path has been deprecated, please pass in a Service object\n",
      "  driver=webdriver.Chrome(PATH)\n"
     ]
    },
    {
     "name": "stdout",
     "output_type": "stream",
     "text": [
      "todo OK\n",
      "https://open.spotify.com/track/7ug6VGPW7YpDjj2eI4MFc5?si=1b451192424f4e5a\n"
     ]
    },
    {
     "name": "stderr",
     "output_type": "stream",
     "text": [
      "/var/folders/s4/79ykyqjn7f16bdl_zqjgsbzh0000gp/T/ipykernel_14170/863171515.py:4: DeprecationWarning: executable_path has been deprecated, please pass in a Service object\n",
      "  driver=webdriver.Chrome(PATH)\n"
     ]
    },
    {
     "name": "stdout",
     "output_type": "stream",
     "text": [
      "error 4\n",
      "todo OK\n",
      "https://open.spotify.com/track/7ug6VGPW7YpDjj2eI4MFc5?si=1b451192424f4e5a\n"
     ]
    },
    {
     "name": "stderr",
     "output_type": "stream",
     "text": [
      "/var/folders/s4/79ykyqjn7f16bdl_zqjgsbzh0000gp/T/ipykernel_14170/863171515.py:4: DeprecationWarning: executable_path has been deprecated, please pass in a Service object\n",
      "  driver=webdriver.Chrome(PATH)\n"
     ]
    },
    {
     "name": "stdout",
     "output_type": "stream",
     "text": [
      "todo OK\n",
      "https://open.spotify.com/track/0RstfX9nRY1Lfuy1808MoT?si=3dcc53bf52894213\n"
     ]
    },
    {
     "name": "stderr",
     "output_type": "stream",
     "text": [
      "/var/folders/s4/79ykyqjn7f16bdl_zqjgsbzh0000gp/T/ipykernel_14170/863171515.py:4: DeprecationWarning: executable_path has been deprecated, please pass in a Service object\n",
      "  driver=webdriver.Chrome(PATH)\n"
     ]
    },
    {
     "name": "stdout",
     "output_type": "stream",
     "text": [
      "error 1\n",
      "todo OK\n",
      "https://open.spotify.com/track/1B62o4CbdL9ckGvwsz2cgn?si=d52cceafcc7740af\n"
     ]
    },
    {
     "name": "stderr",
     "output_type": "stream",
     "text": [
      "/var/folders/s4/79ykyqjn7f16bdl_zqjgsbzh0000gp/T/ipykernel_14170/863171515.py:4: DeprecationWarning: executable_path has been deprecated, please pass in a Service object\n",
      "  driver=webdriver.Chrome(PATH)\n"
     ]
    },
    {
     "name": "stdout",
     "output_type": "stream",
     "text": [
      "error 1\n",
      "todo OK\n",
      "https://open.spotify.com/track/6pPLhloHxLWiMlAT5Xn1gw?si=2f20d5a3f86b47dc\n"
     ]
    },
    {
     "name": "stderr",
     "output_type": "stream",
     "text": [
      "/var/folders/s4/79ykyqjn7f16bdl_zqjgsbzh0000gp/T/ipykernel_14170/863171515.py:4: DeprecationWarning: executable_path has been deprecated, please pass in a Service object\n",
      "  driver=webdriver.Chrome(PATH)\n"
     ]
    },
    {
     "name": "stdout",
     "output_type": "stream",
     "text": [
      "error 1\n",
      "error 4\n",
      "todo OK\n",
      "https://open.spotify.com/track/6pPLhloHxLWiMlAT5Xn1gw?si=2f20d5a3f86b47dc\n"
     ]
    },
    {
     "name": "stderr",
     "output_type": "stream",
     "text": [
      "/var/folders/s4/79ykyqjn7f16bdl_zqjgsbzh0000gp/T/ipykernel_14170/863171515.py:4: DeprecationWarning: executable_path has been deprecated, please pass in a Service object\n",
      "  driver=webdriver.Chrome(PATH)\n"
     ]
    },
    {
     "name": "stdout",
     "output_type": "stream",
     "text": [
      "todo OK\n",
      "https://open.spotify.com/track/3oCd8HkxnzvAWHxaZi3jIB?si=079cb8f0e8274f95\n"
     ]
    },
    {
     "name": "stderr",
     "output_type": "stream",
     "text": [
      "/var/folders/s4/79ykyqjn7f16bdl_zqjgsbzh0000gp/T/ipykernel_14170/863171515.py:4: DeprecationWarning: executable_path has been deprecated, please pass in a Service object\n",
      "  driver=webdriver.Chrome(PATH)\n"
     ]
    },
    {
     "name": "stdout",
     "output_type": "stream",
     "text": [
      "error 1\n",
      "todo OK\n",
      "https://open.spotify.com/track/0V5cvmTKsYmF5FmGGEAfmS?si=11a7e87cd7904d7f\n"
     ]
    },
    {
     "name": "stderr",
     "output_type": "stream",
     "text": [
      "/var/folders/s4/79ykyqjn7f16bdl_zqjgsbzh0000gp/T/ipykernel_14170/863171515.py:4: DeprecationWarning: executable_path has been deprecated, please pass in a Service object\n",
      "  driver=webdriver.Chrome(PATH)\n"
     ]
    },
    {
     "name": "stdout",
     "output_type": "stream",
     "text": [
      "error 1\n",
      "todo OK\n",
      "https://open.spotify.com/track/2dW05vYi45Fd65qGrVzPEB?si=029eaf8cf92e4219\n"
     ]
    },
    {
     "name": "stderr",
     "output_type": "stream",
     "text": [
      "/var/folders/s4/79ykyqjn7f16bdl_zqjgsbzh0000gp/T/ipykernel_14170/863171515.py:4: DeprecationWarning: executable_path has been deprecated, please pass in a Service object\n",
      "  driver=webdriver.Chrome(PATH)\n"
     ]
    },
    {
     "name": "stdout",
     "output_type": "stream",
     "text": [
      "todo OK\n",
      "https://open.spotify.com/track/2Tq3fayHpjP2nOZlBEjt3N?si=c5860dce9d2f49e3\n"
     ]
    },
    {
     "name": "stderr",
     "output_type": "stream",
     "text": [
      "/var/folders/s4/79ykyqjn7f16bdl_zqjgsbzh0000gp/T/ipykernel_14170/863171515.py:4: DeprecationWarning: executable_path has been deprecated, please pass in a Service object\n",
      "  driver=webdriver.Chrome(PATH)\n"
     ]
    },
    {
     "name": "stdout",
     "output_type": "stream",
     "text": [
      "todo OK\n",
      "https://open.spotify.com/track/0bndF6tTweNXPjwpPL7Slt?si=8d33af59a76e4d70\n"
     ]
    },
    {
     "name": "stderr",
     "output_type": "stream",
     "text": [
      "/var/folders/s4/79ykyqjn7f16bdl_zqjgsbzh0000gp/T/ipykernel_14170/863171515.py:4: DeprecationWarning: executable_path has been deprecated, please pass in a Service object\n",
      "  driver=webdriver.Chrome(PATH)\n"
     ]
    },
    {
     "name": "stdout",
     "output_type": "stream",
     "text": [
      "error 1\n",
      "todo OK\n",
      "https://open.spotify.com/track/35PKfoynRpVFoAUE3D5Kc6?si=3628bfdf65074337\n"
     ]
    },
    {
     "name": "stderr",
     "output_type": "stream",
     "text": [
      "/var/folders/s4/79ykyqjn7f16bdl_zqjgsbzh0000gp/T/ipykernel_14170/863171515.py:4: DeprecationWarning: executable_path has been deprecated, please pass in a Service object\n",
      "  driver=webdriver.Chrome(PATH)\n"
     ]
    },
    {
     "name": "stdout",
     "output_type": "stream",
     "text": [
      "error 1\n",
      "todo OK\n",
      "https://open.spotify.com/track/3G6hD9B2ZHOsgf4WfNu7X1?si=ddfbf6d1e5824fda\n"
     ]
    },
    {
     "name": "stderr",
     "output_type": "stream",
     "text": [
      "/var/folders/s4/79ykyqjn7f16bdl_zqjgsbzh0000gp/T/ipykernel_14170/863171515.py:4: DeprecationWarning: executable_path has been deprecated, please pass in a Service object\n",
      "  driver=webdriver.Chrome(PATH)\n"
     ]
    },
    {
     "name": "stdout",
     "output_type": "stream",
     "text": [
      "error 1\n",
      "error 4\n",
      "todo OK\n",
      "https://open.spotify.com/track/3G6hD9B2ZHOsgf4WfNu7X1?si=ddfbf6d1e5824fda\n"
     ]
    },
    {
     "name": "stderr",
     "output_type": "stream",
     "text": [
      "/var/folders/s4/79ykyqjn7f16bdl_zqjgsbzh0000gp/T/ipykernel_14170/863171515.py:4: DeprecationWarning: executable_path has been deprecated, please pass in a Service object\n",
      "  driver=webdriver.Chrome(PATH)\n"
     ]
    },
    {
     "name": "stdout",
     "output_type": "stream",
     "text": [
      "error 1\n",
      "todo OK\n",
      "https://open.spotify.com/track/0eu4C55hL6x29mmeAjytzC?si=d07d46ddf25c487b\n"
     ]
    },
    {
     "name": "stderr",
     "output_type": "stream",
     "text": [
      "/var/folders/s4/79ykyqjn7f16bdl_zqjgsbzh0000gp/T/ipykernel_14170/863171515.py:4: DeprecationWarning: executable_path has been deprecated, please pass in a Service object\n",
      "  driver=webdriver.Chrome(PATH)\n"
     ]
    },
    {
     "name": "stdout",
     "output_type": "stream",
     "text": [
      "error 1\n",
      "todo OK\n",
      "https://open.spotify.com/track/3BIIJgBJJ7NhhCv4MI6n7w?si=3a6bbe679e1f4c03\n"
     ]
    },
    {
     "name": "stderr",
     "output_type": "stream",
     "text": [
      "/var/folders/s4/79ykyqjn7f16bdl_zqjgsbzh0000gp/T/ipykernel_14170/863171515.py:4: DeprecationWarning: executable_path has been deprecated, please pass in a Service object\n",
      "  driver=webdriver.Chrome(PATH)\n"
     ]
    },
    {
     "name": "stdout",
     "output_type": "stream",
     "text": [
      "error 1\n",
      "error 4\n",
      "todo OK\n",
      "https://open.spotify.com/track/3BIIJgBJJ7NhhCv4MI6n7w?si=3a6bbe679e1f4c03\n"
     ]
    },
    {
     "name": "stderr",
     "output_type": "stream",
     "text": [
      "/var/folders/s4/79ykyqjn7f16bdl_zqjgsbzh0000gp/T/ipykernel_14170/863171515.py:4: DeprecationWarning: executable_path has been deprecated, please pass in a Service object\n",
      "  driver=webdriver.Chrome(PATH)\n"
     ]
    },
    {
     "name": "stdout",
     "output_type": "stream",
     "text": [
      "error 4\n",
      "todo OK\n",
      "https://open.spotify.com/track/3BIIJgBJJ7NhhCv4MI6n7w?si=3a6bbe679e1f4c03\n"
     ]
    },
    {
     "name": "stderr",
     "output_type": "stream",
     "text": [
      "/var/folders/s4/79ykyqjn7f16bdl_zqjgsbzh0000gp/T/ipykernel_14170/863171515.py:4: DeprecationWarning: executable_path has been deprecated, please pass in a Service object\n",
      "  driver=webdriver.Chrome(PATH)\n"
     ]
    },
    {
     "name": "stdout",
     "output_type": "stream",
     "text": [
      "todo OK\n",
      "https://open.spotify.com/track/5xvUgoVED1F4mBu8FL0HaW?si=d6bea55128354667\n"
     ]
    },
    {
     "name": "stderr",
     "output_type": "stream",
     "text": [
      "/var/folders/s4/79ykyqjn7f16bdl_zqjgsbzh0000gp/T/ipykernel_14170/863171515.py:4: DeprecationWarning: executable_path has been deprecated, please pass in a Service object\n",
      "  driver=webdriver.Chrome(PATH)\n"
     ]
    },
    {
     "name": "stdout",
     "output_type": "stream",
     "text": [
      "todo OK\n",
      "https://open.spotify.com/track/2kIq7Oq6YNfdUuTrmPC4w1?si=7f5a0a2a32e548a3\n"
     ]
    },
    {
     "name": "stderr",
     "output_type": "stream",
     "text": [
      "/var/folders/s4/79ykyqjn7f16bdl_zqjgsbzh0000gp/T/ipykernel_14170/863171515.py:4: DeprecationWarning: executable_path has been deprecated, please pass in a Service object\n",
      "  driver=webdriver.Chrome(PATH)\n"
     ]
    },
    {
     "name": "stdout",
     "output_type": "stream",
     "text": [
      "todo OK\n",
      "https://open.spotify.com/track/3E7dfMvvCLUddWissuqMwr?si=82b580d5827a454d\n"
     ]
    },
    {
     "name": "stderr",
     "output_type": "stream",
     "text": [
      "/var/folders/s4/79ykyqjn7f16bdl_zqjgsbzh0000gp/T/ipykernel_14170/863171515.py:4: DeprecationWarning: executable_path has been deprecated, please pass in a Service object\n",
      "  driver=webdriver.Chrome(PATH)\n"
     ]
    },
    {
     "name": "stdout",
     "output_type": "stream",
     "text": [
      "todo OK\n",
      "https://open.spotify.com/track/33IQnmtJYjCcrvUUMQgi80?si=7d4db8dc17cd4453\n"
     ]
    },
    {
     "name": "stderr",
     "output_type": "stream",
     "text": [
      "/var/folders/s4/79ykyqjn7f16bdl_zqjgsbzh0000gp/T/ipykernel_14170/863171515.py:4: DeprecationWarning: executable_path has been deprecated, please pass in a Service object\n",
      "  driver=webdriver.Chrome(PATH)\n"
     ]
    },
    {
     "name": "stdout",
     "output_type": "stream",
     "text": [
      "error 4\n",
      "todo OK\n",
      "https://open.spotify.com/track/33IQnmtJYjCcrvUUMQgi80?si=7d4db8dc17cd4453\n"
     ]
    },
    {
     "name": "stderr",
     "output_type": "stream",
     "text": [
      "/var/folders/s4/79ykyqjn7f16bdl_zqjgsbzh0000gp/T/ipykernel_14170/863171515.py:4: DeprecationWarning: executable_path has been deprecated, please pass in a Service object\n",
      "  driver=webdriver.Chrome(PATH)\n"
     ]
    },
    {
     "name": "stdout",
     "output_type": "stream",
     "text": [
      "todo OK\n",
      "https://open.spotify.com/track/2z4U9d5OAA4YLNXoCgioxo?si=eec268c052964f0d\n"
     ]
    },
    {
     "name": "stderr",
     "output_type": "stream",
     "text": [
      "/var/folders/s4/79ykyqjn7f16bdl_zqjgsbzh0000gp/T/ipykernel_14170/863171515.py:4: DeprecationWarning: executable_path has been deprecated, please pass in a Service object\n",
      "  driver=webdriver.Chrome(PATH)\n"
     ]
    },
    {
     "name": "stdout",
     "output_type": "stream",
     "text": [
      "error 1\n",
      "todo OK\n",
      "https://open.spotify.com/track/07HPV6hzecJmMJwsIX8YVU?si=9f2825ef5ddb4559\n"
     ]
    },
    {
     "name": "stderr",
     "output_type": "stream",
     "text": [
      "/var/folders/s4/79ykyqjn7f16bdl_zqjgsbzh0000gp/T/ipykernel_14170/863171515.py:4: DeprecationWarning: executable_path has been deprecated, please pass in a Service object\n",
      "  driver=webdriver.Chrome(PATH)\n"
     ]
    },
    {
     "name": "stdout",
     "output_type": "stream",
     "text": [
      "error 1\n",
      "error 4\n",
      "todo OK\n",
      "https://open.spotify.com/track/07HPV6hzecJmMJwsIX8YVU?si=9f2825ef5ddb4559\n"
     ]
    },
    {
     "name": "stderr",
     "output_type": "stream",
     "text": [
      "/var/folders/s4/79ykyqjn7f16bdl_zqjgsbzh0000gp/T/ipykernel_14170/863171515.py:4: DeprecationWarning: executable_path has been deprecated, please pass in a Service object\n",
      "  driver=webdriver.Chrome(PATH)\n"
     ]
    },
    {
     "name": "stdout",
     "output_type": "stream",
     "text": [
      "error 1\n",
      "todo OK\n",
      "https://open.spotify.com/track/7gQ5c5HY6zMsIck6QLY9dJ?si=6a2b90edc4be46d0\n"
     ]
    },
    {
     "name": "stderr",
     "output_type": "stream",
     "text": [
      "/var/folders/s4/79ykyqjn7f16bdl_zqjgsbzh0000gp/T/ipykernel_14170/863171515.py:4: DeprecationWarning: executable_path has been deprecated, please pass in a Service object\n",
      "  driver=webdriver.Chrome(PATH)\n"
     ]
    },
    {
     "name": "stdout",
     "output_type": "stream",
     "text": [
      "error 0\n",
      "error 1\n",
      "error 2\n",
      "error 3\n",
      "error 4\n",
      "todo OK\n",
      "https://open.spotify.com/track/7gQ5c5HY6zMsIck6QLY9dJ?si=6a2b90edc4be46d0\n"
     ]
    },
    {
     "name": "stderr",
     "output_type": "stream",
     "text": [
      "/var/folders/s4/79ykyqjn7f16bdl_zqjgsbzh0000gp/T/ipykernel_14170/863171515.py:4: DeprecationWarning: executable_path has been deprecated, please pass in a Service object\n",
      "  driver=webdriver.Chrome(PATH)\n"
     ]
    },
    {
     "name": "stdout",
     "output_type": "stream",
     "text": [
      "error 1\n",
      "error 4\n",
      "todo OK\n",
      "https://open.spotify.com/track/7gQ5c5HY6zMsIck6QLY9dJ?si=6a2b90edc4be46d0\n"
     ]
    },
    {
     "name": "stderr",
     "output_type": "stream",
     "text": [
      "/var/folders/s4/79ykyqjn7f16bdl_zqjgsbzh0000gp/T/ipykernel_14170/863171515.py:4: DeprecationWarning: executable_path has been deprecated, please pass in a Service object\n",
      "  driver=webdriver.Chrome(PATH)\n"
     ]
    },
    {
     "name": "stdout",
     "output_type": "stream",
     "text": [
      "todo OK\n",
      "https://open.spotify.com/track/1hGy2eLcmC8eKx7qr1tOqx?si=b04320d2dd844b08\n"
     ]
    },
    {
     "name": "stderr",
     "output_type": "stream",
     "text": [
      "/var/folders/s4/79ykyqjn7f16bdl_zqjgsbzh0000gp/T/ipykernel_14170/863171515.py:4: DeprecationWarning: executable_path has been deprecated, please pass in a Service object\n",
      "  driver=webdriver.Chrome(PATH)\n"
     ]
    },
    {
     "name": "stdout",
     "output_type": "stream",
     "text": [
      "error 1\n",
      "error 2\n",
      "error 3\n",
      "error 4\n",
      "todo OK\n",
      "https://open.spotify.com/track/1hGy2eLcmC8eKx7qr1tOqx?si=b04320d2dd844b08\n"
     ]
    },
    {
     "name": "stderr",
     "output_type": "stream",
     "text": [
      "/var/folders/s4/79ykyqjn7f16bdl_zqjgsbzh0000gp/T/ipykernel_14170/863171515.py:4: DeprecationWarning: executable_path has been deprecated, please pass in a Service object\n",
      "  driver=webdriver.Chrome(PATH)\n"
     ]
    },
    {
     "name": "stdout",
     "output_type": "stream",
     "text": [
      "error 4\n",
      "todo OK\n",
      "https://open.spotify.com/track/1hGy2eLcmC8eKx7qr1tOqx?si=b04320d2dd844b08\n"
     ]
    },
    {
     "name": "stderr",
     "output_type": "stream",
     "text": [
      "/var/folders/s4/79ykyqjn7f16bdl_zqjgsbzh0000gp/T/ipykernel_14170/863171515.py:4: DeprecationWarning: executable_path has been deprecated, please pass in a Service object\n",
      "  driver=webdriver.Chrome(PATH)\n"
     ]
    },
    {
     "name": "stdout",
     "output_type": "stream",
     "text": [
      "todo OK\n",
      "https://open.spotify.com/track/0TzbmxnYrlMV6dEln2l9nb?si=e63c8c938b034b51\n"
     ]
    },
    {
     "name": "stderr",
     "output_type": "stream",
     "text": [
      "/var/folders/s4/79ykyqjn7f16bdl_zqjgsbzh0000gp/T/ipykernel_14170/863171515.py:4: DeprecationWarning: executable_path has been deprecated, please pass in a Service object\n",
      "  driver=webdriver.Chrome(PATH)\n"
     ]
    },
    {
     "name": "stdout",
     "output_type": "stream",
     "text": [
      "todo OK\n",
      "https://open.spotify.com/track/2y4lAQpi5VTNLu2ldeTdUH?si=dbcc2f46460e4db1\n"
     ]
    },
    {
     "name": "stderr",
     "output_type": "stream",
     "text": [
      "/var/folders/s4/79ykyqjn7f16bdl_zqjgsbzh0000gp/T/ipykernel_14170/863171515.py:4: DeprecationWarning: executable_path has been deprecated, please pass in a Service object\n",
      "  driver=webdriver.Chrome(PATH)\n"
     ]
    },
    {
     "name": "stdout",
     "output_type": "stream",
     "text": [
      "todo OK\n",
      "https://open.spotify.com/track/2y4lAQpi5VTNLu2ldeTdUH?si=dbcc2f46460e4db1\n"
     ]
    },
    {
     "name": "stderr",
     "output_type": "stream",
     "text": [
      "/var/folders/s4/79ykyqjn7f16bdl_zqjgsbzh0000gp/T/ipykernel_14170/863171515.py:4: DeprecationWarning: executable_path has been deprecated, please pass in a Service object\n",
      "  driver=webdriver.Chrome(PATH)\n"
     ]
    },
    {
     "name": "stdout",
     "output_type": "stream",
     "text": [
      "todo OK\n",
      "https://open.spotify.com/track/2KcNrONbZ0hvBPjvrDO2tx?si=1b5a0e68204e4ba0\n"
     ]
    },
    {
     "name": "stderr",
     "output_type": "stream",
     "text": [
      "/var/folders/s4/79ykyqjn7f16bdl_zqjgsbzh0000gp/T/ipykernel_14170/863171515.py:4: DeprecationWarning: executable_path has been deprecated, please pass in a Service object\n",
      "  driver=webdriver.Chrome(PATH)\n"
     ]
    },
    {
     "name": "stdout",
     "output_type": "stream",
     "text": [
      "error 1\n",
      "todo OK\n",
      "https://open.spotify.com/track/7AbLGIOzFkx6jHq5en5xiH?si=401ad137b4484bd0\n"
     ]
    },
    {
     "name": "stderr",
     "output_type": "stream",
     "text": [
      "/var/folders/s4/79ykyqjn7f16bdl_zqjgsbzh0000gp/T/ipykernel_14170/863171515.py:4: DeprecationWarning: executable_path has been deprecated, please pass in a Service object\n",
      "  driver=webdriver.Chrome(PATH)\n"
     ]
    },
    {
     "name": "stdout",
     "output_type": "stream",
     "text": [
      "error 1\n",
      "todo OK\n",
      "https://open.spotify.com/track/61OJxhoY3Ix50rYVKo8zRK?si=005dbc17d20e421b\n"
     ]
    },
    {
     "name": "stderr",
     "output_type": "stream",
     "text": [
      "/var/folders/s4/79ykyqjn7f16bdl_zqjgsbzh0000gp/T/ipykernel_14170/863171515.py:4: DeprecationWarning: executable_path has been deprecated, please pass in a Service object\n",
      "  driver=webdriver.Chrome(PATH)\n"
     ]
    },
    {
     "name": "stdout",
     "output_type": "stream",
     "text": [
      "error 1\n",
      "todo OK\n",
      "https://open.spotify.com/track/1qxZswAdBvM0JMUoV83J1b?si=1c3f239747c34337\n"
     ]
    },
    {
     "name": "stderr",
     "output_type": "stream",
     "text": [
      "/var/folders/s4/79ykyqjn7f16bdl_zqjgsbzh0000gp/T/ipykernel_14170/863171515.py:4: DeprecationWarning: executable_path has been deprecated, please pass in a Service object\n",
      "  driver=webdriver.Chrome(PATH)\n"
     ]
    },
    {
     "name": "stdout",
     "output_type": "stream",
     "text": [
      "error 1\n",
      "todo OK\n",
      "https://open.spotify.com/track/42Fm8hxhh8i0Zx0Si7XIxd?si=a14315115d0d45a3\n"
     ]
    },
    {
     "name": "stderr",
     "output_type": "stream",
     "text": [
      "/var/folders/s4/79ykyqjn7f16bdl_zqjgsbzh0000gp/T/ipykernel_14170/863171515.py:4: DeprecationWarning: executable_path has been deprecated, please pass in a Service object\n",
      "  driver=webdriver.Chrome(PATH)\n"
     ]
    },
    {
     "name": "stdout",
     "output_type": "stream",
     "text": [
      "error 1\n",
      "todo OK\n",
      "https://open.spotify.com/track/0JXXNGljqupsJaZsgSbMZV?si=b1baa7a7c92c41ab\n"
     ]
    },
    {
     "name": "stderr",
     "output_type": "stream",
     "text": [
      "/var/folders/s4/79ykyqjn7f16bdl_zqjgsbzh0000gp/T/ipykernel_14170/863171515.py:4: DeprecationWarning: executable_path has been deprecated, please pass in a Service object\n",
      "  driver=webdriver.Chrome(PATH)\n"
     ]
    },
    {
     "name": "stdout",
     "output_type": "stream",
     "text": [
      "error 1\n",
      "error 4\n",
      "todo OK\n",
      "https://open.spotify.com/track/0JXXNGljqupsJaZsgSbMZV?si=b1baa7a7c92c41ab\n"
     ]
    },
    {
     "name": "stderr",
     "output_type": "stream",
     "text": [
      "/var/folders/s4/79ykyqjn7f16bdl_zqjgsbzh0000gp/T/ipykernel_14170/863171515.py:4: DeprecationWarning: executable_path has been deprecated, please pass in a Service object\n",
      "  driver=webdriver.Chrome(PATH)\n"
     ]
    },
    {
     "name": "stdout",
     "output_type": "stream",
     "text": [
      "todo OK\n",
      "https://open.spotify.com/track/0GwMzBz32XMFIEBHrZ6qVD?si=bc1abed5e14a4905\n"
     ]
    },
    {
     "name": "stderr",
     "output_type": "stream",
     "text": [
      "/var/folders/s4/79ykyqjn7f16bdl_zqjgsbzh0000gp/T/ipykernel_14170/863171515.py:4: DeprecationWarning: executable_path has been deprecated, please pass in a Service object\n",
      "  driver=webdriver.Chrome(PATH)\n"
     ]
    },
    {
     "name": "stdout",
     "output_type": "stream",
     "text": [
      "error 1\n",
      "todo OK\n",
      "https://open.spotify.com/track/1170VohRSx6GwE6QDCHPPH?si=07bd3b58093b4e30\n"
     ]
    },
    {
     "name": "stderr",
     "output_type": "stream",
     "text": [
      "/var/folders/s4/79ykyqjn7f16bdl_zqjgsbzh0000gp/T/ipykernel_14170/863171515.py:4: DeprecationWarning: executable_path has been deprecated, please pass in a Service object\n",
      "  driver=webdriver.Chrome(PATH)\n"
     ]
    },
    {
     "name": "stdout",
     "output_type": "stream",
     "text": [
      "error 1\n",
      "error 4\n",
      "todo OK\n",
      "https://open.spotify.com/track/1170VohRSx6GwE6QDCHPPH?si=07bd3b58093b4e30\n"
     ]
    },
    {
     "name": "stderr",
     "output_type": "stream",
     "text": [
      "/var/folders/s4/79ykyqjn7f16bdl_zqjgsbzh0000gp/T/ipykernel_14170/863171515.py:4: DeprecationWarning: executable_path has been deprecated, please pass in a Service object\n",
      "  driver=webdriver.Chrome(PATH)\n"
     ]
    },
    {
     "name": "stdout",
     "output_type": "stream",
     "text": [
      "error 1\n",
      "todo OK\n",
      "https://open.spotify.com/track/5D246C2tLKCTeZgcsRfvcA?si=6086b8fdf0ec46e5\n"
     ]
    },
    {
     "name": "stderr",
     "output_type": "stream",
     "text": [
      "/var/folders/s4/79ykyqjn7f16bdl_zqjgsbzh0000gp/T/ipykernel_14170/863171515.py:4: DeprecationWarning: executable_path has been deprecated, please pass in a Service object\n",
      "  driver=webdriver.Chrome(PATH)\n"
     ]
    },
    {
     "name": "stdout",
     "output_type": "stream",
     "text": [
      "error 1\n",
      "todo OK\n",
      "https://open.spotify.com/track/3VCXx37jNGNOMns6z2OnvJ?si=0e4748f7bb7f44dd\n"
     ]
    },
    {
     "name": "stderr",
     "output_type": "stream",
     "text": [
      "/var/folders/s4/79ykyqjn7f16bdl_zqjgsbzh0000gp/T/ipykernel_14170/863171515.py:4: DeprecationWarning: executable_path has been deprecated, please pass in a Service object\n",
      "  driver=webdriver.Chrome(PATH)\n"
     ]
    },
    {
     "name": "stdout",
     "output_type": "stream",
     "text": [
      "error 1\n",
      "todo OK\n",
      "https://open.spotify.com/track/5MSshyHGM9ajWSEoBcR0jv?si=75c0057abc344a62\n"
     ]
    },
    {
     "name": "stderr",
     "output_type": "stream",
     "text": [
      "/var/folders/s4/79ykyqjn7f16bdl_zqjgsbzh0000gp/T/ipykernel_14170/863171515.py:4: DeprecationWarning: executable_path has been deprecated, please pass in a Service object\n",
      "  driver=webdriver.Chrome(PATH)\n"
     ]
    },
    {
     "name": "stdout",
     "output_type": "stream",
     "text": [
      "todo OK\n",
      "https://open.spotify.com/track/4PdLup4OaCGktZG8cvbkBz?si=39a8fa564e0c4cdc\n"
     ]
    },
    {
     "name": "stderr",
     "output_type": "stream",
     "text": [
      "/var/folders/s4/79ykyqjn7f16bdl_zqjgsbzh0000gp/T/ipykernel_14170/863171515.py:4: DeprecationWarning: executable_path has been deprecated, please pass in a Service object\n",
      "  driver=webdriver.Chrome(PATH)\n"
     ]
    },
    {
     "name": "stdout",
     "output_type": "stream",
     "text": [
      "error 1\n",
      "todo OK\n",
      "https://open.spotify.com/track/7BL33HmuFQien4olebugdj?si=6e67256a25a54cdb\n"
     ]
    },
    {
     "name": "stderr",
     "output_type": "stream",
     "text": [
      "/var/folders/s4/79ykyqjn7f16bdl_zqjgsbzh0000gp/T/ipykernel_14170/863171515.py:4: DeprecationWarning: executable_path has been deprecated, please pass in a Service object\n",
      "  driver=webdriver.Chrome(PATH)\n"
     ]
    },
    {
     "name": "stdout",
     "output_type": "stream",
     "text": [
      "error 1\n",
      "todo OK\n",
      "https://open.spotify.com/track/4BsLwvaJOTOHDNg7xMpvrL?si=be29cf704a0c4727\n"
     ]
    },
    {
     "name": "stderr",
     "output_type": "stream",
     "text": [
      "/var/folders/s4/79ykyqjn7f16bdl_zqjgsbzh0000gp/T/ipykernel_14170/863171515.py:4: DeprecationWarning: executable_path has been deprecated, please pass in a Service object\n",
      "  driver=webdriver.Chrome(PATH)\n"
     ]
    },
    {
     "name": "stdout",
     "output_type": "stream",
     "text": [
      "todo OK\n",
      "https://open.spotify.com/track/0y60itmpH0aPKsFiGxmtnh?si=12f20bf82bab480d\n"
     ]
    },
    {
     "name": "stderr",
     "output_type": "stream",
     "text": [
      "/var/folders/s4/79ykyqjn7f16bdl_zqjgsbzh0000gp/T/ipykernel_14170/863171515.py:4: DeprecationWarning: executable_path has been deprecated, please pass in a Service object\n",
      "  driver=webdriver.Chrome(PATH)\n"
     ]
    },
    {
     "name": "stdout",
     "output_type": "stream",
     "text": [
      "error 1\n",
      "todo OK\n",
      "https://open.spotify.com/track/20j7l6tFtc5lynXpbOQg1O?si=6613e4e871fa4d3e\n"
     ]
    },
    {
     "name": "stderr",
     "output_type": "stream",
     "text": [
      "/var/folders/s4/79ykyqjn7f16bdl_zqjgsbzh0000gp/T/ipykernel_14170/863171515.py:4: DeprecationWarning: executable_path has been deprecated, please pass in a Service object\n",
      "  driver=webdriver.Chrome(PATH)\n"
     ]
    },
    {
     "name": "stdout",
     "output_type": "stream",
     "text": [
      "error 1\n",
      "todo OK\n",
      "https://open.spotify.com/track/3HjAGIYYXG7PS7OegQa0xM?si=8dc4fbc0e013486b\n"
     ]
    },
    {
     "name": "stderr",
     "output_type": "stream",
     "text": [
      "/var/folders/s4/79ykyqjn7f16bdl_zqjgsbzh0000gp/T/ipykernel_14170/863171515.py:4: DeprecationWarning: executable_path has been deprecated, please pass in a Service object\n",
      "  driver=webdriver.Chrome(PATH)\n"
     ]
    },
    {
     "name": "stdout",
     "output_type": "stream",
     "text": [
      "error 1\n",
      "todo OK\n",
      "https://open.spotify.com/track/1F6IbA7di42uPc3cff8PXV?si=c57774a4de6242ad\n"
     ]
    },
    {
     "name": "stderr",
     "output_type": "stream",
     "text": [
      "/var/folders/s4/79ykyqjn7f16bdl_zqjgsbzh0000gp/T/ipykernel_14170/863171515.py:4: DeprecationWarning: executable_path has been deprecated, please pass in a Service object\n",
      "  driver=webdriver.Chrome(PATH)\n"
     ]
    },
    {
     "name": "stdout",
     "output_type": "stream",
     "text": [
      "error 1\n",
      "todo OK\n",
      "https://open.spotify.com/track/06nKF46jG8p1zwyP4ziAyG?si=114f815989724aba\n"
     ]
    },
    {
     "name": "stderr",
     "output_type": "stream",
     "text": [
      "/var/folders/s4/79ykyqjn7f16bdl_zqjgsbzh0000gp/T/ipykernel_14170/863171515.py:4: DeprecationWarning: executable_path has been deprecated, please pass in a Service object\n",
      "  driver=webdriver.Chrome(PATH)\n"
     ]
    },
    {
     "name": "stdout",
     "output_type": "stream",
     "text": [
      "error 1\n",
      "todo OK\n",
      "https://open.spotify.com/track/4RGWHfQeJftd5XrP8JUgFj?si=87511d6c177d45bc\n"
     ]
    },
    {
     "name": "stderr",
     "output_type": "stream",
     "text": [
      "/var/folders/s4/79ykyqjn7f16bdl_zqjgsbzh0000gp/T/ipykernel_14170/863171515.py:4: DeprecationWarning: executable_path has been deprecated, please pass in a Service object\n",
      "  driver=webdriver.Chrome(PATH)\n"
     ]
    },
    {
     "name": "stdout",
     "output_type": "stream",
     "text": [
      "error 1\n",
      "todo OK\n",
      "https://open.spotify.com/track/2i40wZkiPAGIFudrGH99nx?si=ad58165915d44574\n"
     ]
    },
    {
     "name": "stderr",
     "output_type": "stream",
     "text": [
      "/var/folders/s4/79ykyqjn7f16bdl_zqjgsbzh0000gp/T/ipykernel_14170/863171515.py:4: DeprecationWarning: executable_path has been deprecated, please pass in a Service object\n",
      "  driver=webdriver.Chrome(PATH)\n"
     ]
    },
    {
     "name": "stdout",
     "output_type": "stream",
     "text": [
      "error 1\n",
      "todo OK\n",
      "https://open.spotify.com/track/6AGOKlMZWLCaEJGnaROtF9?si=ea4ce97890f24034\n"
     ]
    },
    {
     "name": "stderr",
     "output_type": "stream",
     "text": [
      "/var/folders/s4/79ykyqjn7f16bdl_zqjgsbzh0000gp/T/ipykernel_14170/863171515.py:4: DeprecationWarning: executable_path has been deprecated, please pass in a Service object\n",
      "  driver=webdriver.Chrome(PATH)\n"
     ]
    },
    {
     "name": "stdout",
     "output_type": "stream",
     "text": [
      "error 1\n",
      "todo OK\n",
      "https://open.spotify.com/track/3nIlBeSIVnDbWFO3mExxV2?si=4b4e24aa17b44f8c\n"
     ]
    },
    {
     "name": "stderr",
     "output_type": "stream",
     "text": [
      "/var/folders/s4/79ykyqjn7f16bdl_zqjgsbzh0000gp/T/ipykernel_14170/863171515.py:4: DeprecationWarning: executable_path has been deprecated, please pass in a Service object\n",
      "  driver=webdriver.Chrome(PATH)\n"
     ]
    },
    {
     "name": "stdout",
     "output_type": "stream",
     "text": [
      "error 1\n",
      "todo OK\n",
      "https://open.spotify.com/track/2jBWraeAbImYmC7rRLPnXR?si=b71a8dd3658b4e08\n"
     ]
    },
    {
     "name": "stderr",
     "output_type": "stream",
     "text": [
      "/var/folders/s4/79ykyqjn7f16bdl_zqjgsbzh0000gp/T/ipykernel_14170/863171515.py:4: DeprecationWarning: executable_path has been deprecated, please pass in a Service object\n",
      "  driver=webdriver.Chrome(PATH)\n"
     ]
    },
    {
     "name": "stdout",
     "output_type": "stream",
     "text": [
      "error 1\n",
      "todo OK\n",
      "https://open.spotify.com/track/3R2x5zIz6rzoI1xTSB8hA7?si=72737458fd4a469d\n"
     ]
    },
    {
     "name": "stderr",
     "output_type": "stream",
     "text": [
      "/var/folders/s4/79ykyqjn7f16bdl_zqjgsbzh0000gp/T/ipykernel_14170/863171515.py:4: DeprecationWarning: executable_path has been deprecated, please pass in a Service object\n",
      "  driver=webdriver.Chrome(PATH)\n"
     ]
    },
    {
     "name": "stdout",
     "output_type": "stream",
     "text": [
      "error 1\n",
      "todo OK\n",
      "https://open.spotify.com/track/3Pm49Q2SBNpsPxzgP5gpJM?si=89fc29ebe2c04a89\n"
     ]
    },
    {
     "name": "stderr",
     "output_type": "stream",
     "text": [
      "/var/folders/s4/79ykyqjn7f16bdl_zqjgsbzh0000gp/T/ipykernel_14170/863171515.py:4: DeprecationWarning: executable_path has been deprecated, please pass in a Service object\n",
      "  driver=webdriver.Chrome(PATH)\n"
     ]
    },
    {
     "name": "stdout",
     "output_type": "stream",
     "text": [
      "error 1\n",
      "todo OK\n",
      "https://open.spotify.com/track/6fBfRNNUJfP2vuCqgSpEmW?si=0224f0e0279f48a1\n"
     ]
    },
    {
     "name": "stderr",
     "output_type": "stream",
     "text": [
      "/var/folders/s4/79ykyqjn7f16bdl_zqjgsbzh0000gp/T/ipykernel_14170/863171515.py:4: DeprecationWarning: executable_path has been deprecated, please pass in a Service object\n",
      "  driver=webdriver.Chrome(PATH)\n"
     ]
    },
    {
     "name": "stdout",
     "output_type": "stream",
     "text": [
      "todo OK\n",
      "https://open.spotify.com/track/0WKXtY7AJZvbLDj89fhVhy?si=e63ae5456ef84bde\n"
     ]
    },
    {
     "name": "stderr",
     "output_type": "stream",
     "text": [
      "/var/folders/s4/79ykyqjn7f16bdl_zqjgsbzh0000gp/T/ipykernel_14170/863171515.py:4: DeprecationWarning: executable_path has been deprecated, please pass in a Service object\n",
      "  driver=webdriver.Chrome(PATH)\n"
     ]
    },
    {
     "name": "stdout",
     "output_type": "stream",
     "text": [
      "error 1\n",
      "todo OK\n",
      "https://open.spotify.com/track/0WKXtY7AJZvbLDj89fhVhy?si=e63ae5456ef84bde\n"
     ]
    },
    {
     "name": "stderr",
     "output_type": "stream",
     "text": [
      "/var/folders/s4/79ykyqjn7f16bdl_zqjgsbzh0000gp/T/ipykernel_14170/863171515.py:4: DeprecationWarning: executable_path has been deprecated, please pass in a Service object\n",
      "  driver=webdriver.Chrome(PATH)\n"
     ]
    },
    {
     "name": "stdout",
     "output_type": "stream",
     "text": [
      "error 0\n",
      "error 1\n",
      "error 2\n",
      "error 3\n",
      "error 4\n",
      "todo OK\n",
      "https://open.spotify.com/track/0WKXtY7AJZvbLDj89fhVhy?si=e63ae5456ef84bde\n"
     ]
    },
    {
     "name": "stderr",
     "output_type": "stream",
     "text": [
      "/var/folders/s4/79ykyqjn7f16bdl_zqjgsbzh0000gp/T/ipykernel_14170/863171515.py:4: DeprecationWarning: executable_path has been deprecated, please pass in a Service object\n",
      "  driver=webdriver.Chrome(PATH)\n"
     ]
    },
    {
     "name": "stdout",
     "output_type": "stream",
     "text": [
      "error 0\n",
      "error 1\n",
      "error 2\n",
      "error 3\n",
      "error 4\n",
      "todo OK\n",
      "https://open.spotify.com/track/0WKXtY7AJZvbLDj89fhVhy?si=e63ae5456ef84bde\n"
     ]
    },
    {
     "name": "stderr",
     "output_type": "stream",
     "text": [
      "/var/folders/s4/79ykyqjn7f16bdl_zqjgsbzh0000gp/T/ipykernel_14170/863171515.py:4: DeprecationWarning: executable_path has been deprecated, please pass in a Service object\n",
      "  driver=webdriver.Chrome(PATH)\n"
     ]
    },
    {
     "name": "stdout",
     "output_type": "stream",
     "text": [
      "error 0\n",
      "error 1\n",
      "error 2\n",
      "error 3\n",
      "error 4\n",
      "todo OK\n",
      "https://open.spotify.com/track/0WKXtY7AJZvbLDj89fhVhy?si=e63ae5456ef84bde\n"
     ]
    },
    {
     "name": "stderr",
     "output_type": "stream",
     "text": [
      "/var/folders/s4/79ykyqjn7f16bdl_zqjgsbzh0000gp/T/ipykernel_14170/863171515.py:4: DeprecationWarning: executable_path has been deprecated, please pass in a Service object\n",
      "  driver=webdriver.Chrome(PATH)\n"
     ]
    },
    {
     "name": "stdout",
     "output_type": "stream",
     "text": [
      "error 0\n",
      "error 1\n",
      "error 2\n",
      "error 3\n",
      "error 4\n",
      "todo OK\n",
      "https://open.spotify.com/track/0WKXtY7AJZvbLDj89fhVhy?si=e63ae5456ef84bde\n"
     ]
    },
    {
     "name": "stderr",
     "output_type": "stream",
     "text": [
      "/var/folders/s4/79ykyqjn7f16bdl_zqjgsbzh0000gp/T/ipykernel_14170/863171515.py:4: DeprecationWarning: executable_path has been deprecated, please pass in a Service object\n",
      "  driver=webdriver.Chrome(PATH)\n"
     ]
    },
    {
     "name": "stdout",
     "output_type": "stream",
     "text": [
      "error 0\n",
      "error 1\n",
      "error 2\n",
      "error 3\n",
      "error 4\n",
      "todo OK\n",
      "https://open.spotify.com/track/0WKXtY7AJZvbLDj89fhVhy?si=e63ae5456ef84bde\n"
     ]
    },
    {
     "name": "stderr",
     "output_type": "stream",
     "text": [
      "/var/folders/s4/79ykyqjn7f16bdl_zqjgsbzh0000gp/T/ipykernel_14170/863171515.py:4: DeprecationWarning: executable_path has been deprecated, please pass in a Service object\n",
      "  driver=webdriver.Chrome(PATH)\n"
     ]
    },
    {
     "name": "stdout",
     "output_type": "stream",
     "text": [
      "error 0\n",
      "error 1\n",
      "error 2\n",
      "error 3\n",
      "error 4\n",
      "todo OK\n",
      "https://open.spotify.com/track/0WKXtY7AJZvbLDj89fhVhy?si=e63ae5456ef84bde\n"
     ]
    },
    {
     "name": "stderr",
     "output_type": "stream",
     "text": [
      "/var/folders/s4/79ykyqjn7f16bdl_zqjgsbzh0000gp/T/ipykernel_14170/863171515.py:4: DeprecationWarning: executable_path has been deprecated, please pass in a Service object\n",
      "  driver=webdriver.Chrome(PATH)\n"
     ]
    },
    {
     "name": "stdout",
     "output_type": "stream",
     "text": [
      "error 0\n",
      "error 1\n",
      "error 2\n",
      "error 3\n",
      "error 4\n",
      "todo OK\n",
      "https://open.spotify.com/track/0WKXtY7AJZvbLDj89fhVhy?si=e63ae5456ef84bde\n"
     ]
    },
    {
     "name": "stderr",
     "output_type": "stream",
     "text": [
      "/var/folders/s4/79ykyqjn7f16bdl_zqjgsbzh0000gp/T/ipykernel_14170/863171515.py:4: DeprecationWarning: executable_path has been deprecated, please pass in a Service object\n",
      "  driver=webdriver.Chrome(PATH)\n"
     ]
    },
    {
     "name": "stdout",
     "output_type": "stream",
     "text": [
      "error 0\n",
      "error 1\n",
      "error 2\n",
      "error 3\n",
      "error 4\n",
      "todo OK\n",
      "https://open.spotify.com/track/0WKXtY7AJZvbLDj89fhVhy?si=e63ae5456ef84bde\n"
     ]
    },
    {
     "name": "stderr",
     "output_type": "stream",
     "text": [
      "/var/folders/s4/79ykyqjn7f16bdl_zqjgsbzh0000gp/T/ipykernel_14170/863171515.py:4: DeprecationWarning: executable_path has been deprecated, please pass in a Service object\n",
      "  driver=webdriver.Chrome(PATH)\n"
     ]
    },
    {
     "name": "stdout",
     "output_type": "stream",
     "text": [
      "error 0\n",
      "error 1\n",
      "error 2\n",
      "error 3\n",
      "error 4\n",
      "todo OK\n",
      "https://open.spotify.com/track/0WKXtY7AJZvbLDj89fhVhy?si=e63ae5456ef84bde\n"
     ]
    },
    {
     "name": "stderr",
     "output_type": "stream",
     "text": [
      "/var/folders/s4/79ykyqjn7f16bdl_zqjgsbzh0000gp/T/ipykernel_14170/863171515.py:4: DeprecationWarning: executable_path has been deprecated, please pass in a Service object\n",
      "  driver=webdriver.Chrome(PATH)\n"
     ]
    },
    {
     "name": "stdout",
     "output_type": "stream",
     "text": [
      "error 0\n",
      "error 1\n",
      "error 2\n",
      "error 3\n",
      "error 4\n",
      "todo OK\n",
      "https://open.spotify.com/track/0WKXtY7AJZvbLDj89fhVhy?si=e63ae5456ef84bde\n"
     ]
    },
    {
     "name": "stderr",
     "output_type": "stream",
     "text": [
      "/var/folders/s4/79ykyqjn7f16bdl_zqjgsbzh0000gp/T/ipykernel_14170/863171515.py:4: DeprecationWarning: executable_path has been deprecated, please pass in a Service object\n",
      "  driver=webdriver.Chrome(PATH)\n"
     ]
    },
    {
     "name": "stdout",
     "output_type": "stream",
     "text": [
      "error 1\n",
      "todo OK\n",
      "https://open.spotify.com/track/6FE2iI43OZnszFLuLtvvmg?si=ccb1d7dcf8ac4c45\n"
     ]
    },
    {
     "name": "stderr",
     "output_type": "stream",
     "text": [
      "/var/folders/s4/79ykyqjn7f16bdl_zqjgsbzh0000gp/T/ipykernel_14170/863171515.py:4: DeprecationWarning: executable_path has been deprecated, please pass in a Service object\n",
      "  driver=webdriver.Chrome(PATH)\n"
     ]
    },
    {
     "name": "stdout",
     "output_type": "stream",
     "text": [
      "error 4\n",
      "todo OK\n",
      "https://open.spotify.com/track/6FE2iI43OZnszFLuLtvvmg?si=ccb1d7dcf8ac4c45\n"
     ]
    },
    {
     "name": "stderr",
     "output_type": "stream",
     "text": [
      "/var/folders/s4/79ykyqjn7f16bdl_zqjgsbzh0000gp/T/ipykernel_14170/863171515.py:4: DeprecationWarning: executable_path has been deprecated, please pass in a Service object\n",
      "  driver=webdriver.Chrome(PATH)\n"
     ]
    },
    {
     "name": "stdout",
     "output_type": "stream",
     "text": [
      "error 1\n",
      "error 4\n",
      "todo OK\n",
      "https://open.spotify.com/track/6FE2iI43OZnszFLuLtvvmg?si=ccb1d7dcf8ac4c45\n"
     ]
    },
    {
     "name": "stderr",
     "output_type": "stream",
     "text": [
      "/var/folders/s4/79ykyqjn7f16bdl_zqjgsbzh0000gp/T/ipykernel_14170/863171515.py:4: DeprecationWarning: executable_path has been deprecated, please pass in a Service object\n",
      "  driver=webdriver.Chrome(PATH)\n"
     ]
    },
    {
     "name": "stdout",
     "output_type": "stream",
     "text": [
      "todo OK\n",
      "https://open.spotify.com/track/1rIKgCH4H52lrvDcz50hS8?si=a71351f880f94bb4\n"
     ]
    },
    {
     "name": "stderr",
     "output_type": "stream",
     "text": [
      "/var/folders/s4/79ykyqjn7f16bdl_zqjgsbzh0000gp/T/ipykernel_14170/863171515.py:4: DeprecationWarning: executable_path has been deprecated, please pass in a Service object\n",
      "  driver=webdriver.Chrome(PATH)\n"
     ]
    },
    {
     "name": "stdout",
     "output_type": "stream",
     "text": [
      "todo OK\n",
      "https://open.spotify.com/track/03B2SfXuvDh1m9F4tqrX07?si=54597eb4e0ff442c\n"
     ]
    },
    {
     "name": "stderr",
     "output_type": "stream",
     "text": [
      "/var/folders/s4/79ykyqjn7f16bdl_zqjgsbzh0000gp/T/ipykernel_14170/863171515.py:4: DeprecationWarning: executable_path has been deprecated, please pass in a Service object\n",
      "  driver=webdriver.Chrome(PATH)\n"
     ]
    },
    {
     "name": "stdout",
     "output_type": "stream",
     "text": [
      "error 1\n",
      "error 4\n",
      "todo OK\n",
      "https://open.spotify.com/track/03B2SfXuvDh1m9F4tqrX07?si=54597eb4e0ff442c\n"
     ]
    },
    {
     "name": "stderr",
     "output_type": "stream",
     "text": [
      "/var/folders/s4/79ykyqjn7f16bdl_zqjgsbzh0000gp/T/ipykernel_14170/863171515.py:4: DeprecationWarning: executable_path has been deprecated, please pass in a Service object\n",
      "  driver=webdriver.Chrome(PATH)\n"
     ]
    },
    {
     "name": "stdout",
     "output_type": "stream",
     "text": [
      "todo OK\n",
      "https://open.spotify.com/track/6Z3KPGftGu9ZVvkAY8SaZa?si=2384acd0c368425f\n"
     ]
    },
    {
     "name": "stderr",
     "output_type": "stream",
     "text": [
      "/var/folders/s4/79ykyqjn7f16bdl_zqjgsbzh0000gp/T/ipykernel_14170/863171515.py:4: DeprecationWarning: executable_path has been deprecated, please pass in a Service object\n",
      "  driver=webdriver.Chrome(PATH)\n"
     ]
    },
    {
     "name": "stdout",
     "output_type": "stream",
     "text": [
      "error 1\n",
      "todo OK\n",
      "https://open.spotify.com/track/0l4DTppOxy7NUaEcwXuOb6?si=acb6de12707c4c42\n"
     ]
    },
    {
     "name": "stderr",
     "output_type": "stream",
     "text": [
      "/var/folders/s4/79ykyqjn7f16bdl_zqjgsbzh0000gp/T/ipykernel_14170/863171515.py:4: DeprecationWarning: executable_path has been deprecated, please pass in a Service object\n",
      "  driver=webdriver.Chrome(PATH)\n"
     ]
    },
    {
     "name": "stdout",
     "output_type": "stream",
     "text": [
      "error 1\n",
      "todo OK\n",
      "https://open.spotify.com/track/19JY2irhX8Tg6TOabli4qX?si=f89070d4508f4c1b\n"
     ]
    },
    {
     "name": "stderr",
     "output_type": "stream",
     "text": [
      "/var/folders/s4/79ykyqjn7f16bdl_zqjgsbzh0000gp/T/ipykernel_14170/863171515.py:4: DeprecationWarning: executable_path has been deprecated, please pass in a Service object\n",
      "  driver=webdriver.Chrome(PATH)\n"
     ]
    },
    {
     "name": "stdout",
     "output_type": "stream",
     "text": [
      "error 1\n",
      "todo OK\n",
      "https://open.spotify.com/track/1oew3nFNY3vMacJAsvry0S?si=04679516805b4bb7\n"
     ]
    },
    {
     "name": "stderr",
     "output_type": "stream",
     "text": [
      "/var/folders/s4/79ykyqjn7f16bdl_zqjgsbzh0000gp/T/ipykernel_14170/863171515.py:4: DeprecationWarning: executable_path has been deprecated, please pass in a Service object\n",
      "  driver=webdriver.Chrome(PATH)\n"
     ]
    },
    {
     "name": "stdout",
     "output_type": "stream",
     "text": [
      "error 1\n",
      "todo OK\n",
      "https://open.spotify.com/track/4cluDES4hQEUhmXj6TXkSo?si=201d4be304754736\n"
     ]
    },
    {
     "name": "stderr",
     "output_type": "stream",
     "text": [
      "/var/folders/s4/79ykyqjn7f16bdl_zqjgsbzh0000gp/T/ipykernel_14170/863171515.py:4: DeprecationWarning: executable_path has been deprecated, please pass in a Service object\n",
      "  driver=webdriver.Chrome(PATH)\n"
     ]
    },
    {
     "name": "stdout",
     "output_type": "stream",
     "text": [
      "error 1\n",
      "todo OK\n",
      "https://open.spotify.com/track/4y3g40TWe7fCWCayJZuGvw?si=37f8383f468648b6\n"
     ]
    },
    {
     "name": "stderr",
     "output_type": "stream",
     "text": [
      "/var/folders/s4/79ykyqjn7f16bdl_zqjgsbzh0000gp/T/ipykernel_14170/863171515.py:4: DeprecationWarning: executable_path has been deprecated, please pass in a Service object\n",
      "  driver=webdriver.Chrome(PATH)\n"
     ]
    },
    {
     "name": "stdout",
     "output_type": "stream",
     "text": [
      "todo OK\n",
      "https://open.spotify.com/track/2eAvDnpXP5W0cVtiI0PUxV?si=a53cf65b7ca149ae\n"
     ]
    },
    {
     "name": "stderr",
     "output_type": "stream",
     "text": [
      "/var/folders/s4/79ykyqjn7f16bdl_zqjgsbzh0000gp/T/ipykernel_14170/863171515.py:4: DeprecationWarning: executable_path has been deprecated, please pass in a Service object\n",
      "  driver=webdriver.Chrome(PATH)\n"
     ]
    },
    {
     "name": "stdout",
     "output_type": "stream",
     "text": [
      "error 1\n",
      "todo OK\n",
      "https://open.spotify.com/track/65L2KWL2s10PdeMWdl6AmY?si=36fe0c183c164b88\n"
     ]
    },
    {
     "name": "stderr",
     "output_type": "stream",
     "text": [
      "/var/folders/s4/79ykyqjn7f16bdl_zqjgsbzh0000gp/T/ipykernel_14170/863171515.py:4: DeprecationWarning: executable_path has been deprecated, please pass in a Service object\n",
      "  driver=webdriver.Chrome(PATH)\n"
     ]
    },
    {
     "name": "stdout",
     "output_type": "stream",
     "text": [
      "error 1\n",
      "todo OK\n",
      "https://open.spotify.com/track/6VrLYoQKdhu1Jruei06t65?si=2a6b12e9a3764940\n"
     ]
    },
    {
     "name": "stderr",
     "output_type": "stream",
     "text": [
      "/var/folders/s4/79ykyqjn7f16bdl_zqjgsbzh0000gp/T/ipykernel_14170/863171515.py:4: DeprecationWarning: executable_path has been deprecated, please pass in a Service object\n",
      "  driver=webdriver.Chrome(PATH)\n"
     ]
    },
    {
     "name": "stdout",
     "output_type": "stream",
     "text": [
      "error 1\n",
      "todo OK\n",
      "https://open.spotify.com/track/4DTrKnvkHtwQN6kBu4XXIF?si=ce276f2175fc494f\n"
     ]
    },
    {
     "name": "stderr",
     "output_type": "stream",
     "text": [
      "/var/folders/s4/79ykyqjn7f16bdl_zqjgsbzh0000gp/T/ipykernel_14170/863171515.py:4: DeprecationWarning: executable_path has been deprecated, please pass in a Service object\n",
      "  driver=webdriver.Chrome(PATH)\n"
     ]
    },
    {
     "name": "stdout",
     "output_type": "stream",
     "text": [
      "error 1\n",
      "todo OK\n",
      "https://open.spotify.com/track/0laYHRpNTS6i8FXdupHkJ4?si=080e5fadcc8e4166\n"
     ]
    },
    {
     "name": "stderr",
     "output_type": "stream",
     "text": [
      "/var/folders/s4/79ykyqjn7f16bdl_zqjgsbzh0000gp/T/ipykernel_14170/863171515.py:4: DeprecationWarning: executable_path has been deprecated, please pass in a Service object\n",
      "  driver=webdriver.Chrome(PATH)\n"
     ]
    },
    {
     "name": "stdout",
     "output_type": "stream",
     "text": [
      "error 1\n",
      "todo OK\n",
      "https://open.spotify.com/track/1vwlMes5ORHvzHXs806mCH?si=13a346473c604ca6\n"
     ]
    },
    {
     "name": "stderr",
     "output_type": "stream",
     "text": [
      "/var/folders/s4/79ykyqjn7f16bdl_zqjgsbzh0000gp/T/ipykernel_14170/863171515.py:4: DeprecationWarning: executable_path has been deprecated, please pass in a Service object\n",
      "  driver=webdriver.Chrome(PATH)\n"
     ]
    },
    {
     "name": "stdout",
     "output_type": "stream",
     "text": [
      "error 1\n",
      "todo OK\n",
      "https://open.spotify.com/track/0CZRXnV5n9zlP2F6HghLiT?si=aafa9d6206a14a3e\n"
     ]
    },
    {
     "name": "stderr",
     "output_type": "stream",
     "text": [
      "/var/folders/s4/79ykyqjn7f16bdl_zqjgsbzh0000gp/T/ipykernel_14170/863171515.py:4: DeprecationWarning: executable_path has been deprecated, please pass in a Service object\n",
      "  driver=webdriver.Chrome(PATH)\n"
     ]
    },
    {
     "name": "stdout",
     "output_type": "stream",
     "text": [
      "error 1\n",
      "todo OK\n",
      "https://open.spotify.com/track/0FT22uoD6hR3ysFDyT9Pl9?si=0474efb704024301\n"
     ]
    },
    {
     "name": "stderr",
     "output_type": "stream",
     "text": [
      "/var/folders/s4/79ykyqjn7f16bdl_zqjgsbzh0000gp/T/ipykernel_14170/863171515.py:4: DeprecationWarning: executable_path has been deprecated, please pass in a Service object\n",
      "  driver=webdriver.Chrome(PATH)\n"
     ]
    },
    {
     "name": "stdout",
     "output_type": "stream",
     "text": [
      "error 1\n",
      "todo OK\n",
      "https://open.spotify.com/track/6IwbgA2lca6IZZvo2wCL6Q?si=0cc354f6780342cd\n"
     ]
    },
    {
     "name": "stderr",
     "output_type": "stream",
     "text": [
      "/var/folders/s4/79ykyqjn7f16bdl_zqjgsbzh0000gp/T/ipykernel_14170/863171515.py:4: DeprecationWarning: executable_path has been deprecated, please pass in a Service object\n",
      "  driver=webdriver.Chrome(PATH)\n"
     ]
    },
    {
     "name": "stdout",
     "output_type": "stream",
     "text": [
      "todo OK\n",
      "https://open.spotify.com/track/2mXqei0YtZot9x558fihAg?si=f81adb3b40714213\n"
     ]
    },
    {
     "name": "stderr",
     "output_type": "stream",
     "text": [
      "/var/folders/s4/79ykyqjn7f16bdl_zqjgsbzh0000gp/T/ipykernel_14170/863171515.py:4: DeprecationWarning: executable_path has been deprecated, please pass in a Service object\n",
      "  driver=webdriver.Chrome(PATH)\n"
     ]
    },
    {
     "name": "stdout",
     "output_type": "stream",
     "text": [
      "todo OK\n",
      "https://open.spotify.com/track/3aLZ0s5ulFLcFCtIZQblpo?si=85dfec1109334b36\n"
     ]
    },
    {
     "name": "stderr",
     "output_type": "stream",
     "text": [
      "/var/folders/s4/79ykyqjn7f16bdl_zqjgsbzh0000gp/T/ipykernel_14170/863171515.py:4: DeprecationWarning: executable_path has been deprecated, please pass in a Service object\n",
      "  driver=webdriver.Chrome(PATH)\n"
     ]
    },
    {
     "name": "stdout",
     "output_type": "stream",
     "text": [
      "error 1\n",
      "todo OK\n",
      "https://open.spotify.com/track/0H9WHopZ62JeDaGau7REMw?si=b4c25580e0e84806\n"
     ]
    },
    {
     "name": "stderr",
     "output_type": "stream",
     "text": [
      "/var/folders/s4/79ykyqjn7f16bdl_zqjgsbzh0000gp/T/ipykernel_14170/863171515.py:4: DeprecationWarning: executable_path has been deprecated, please pass in a Service object\n",
      "  driver=webdriver.Chrome(PATH)\n"
     ]
    },
    {
     "name": "stdout",
     "output_type": "stream",
     "text": [
      "todo OK\n",
      "https://open.spotify.com/track/6BhnoruWw1NHd4SPE188Lc?si=52337920ac7f4ca8\n"
     ]
    },
    {
     "name": "stderr",
     "output_type": "stream",
     "text": [
      "/var/folders/s4/79ykyqjn7f16bdl_zqjgsbzh0000gp/T/ipykernel_14170/863171515.py:4: DeprecationWarning: executable_path has been deprecated, please pass in a Service object\n",
      "  driver=webdriver.Chrome(PATH)\n"
     ]
    },
    {
     "name": "stdout",
     "output_type": "stream",
     "text": [
      "error 1\n",
      "todo OK\n",
      "https://open.spotify.com/track/0gThlZWwZWkDqRKGOz2CN1?si=65435b916d6047fa\n"
     ]
    },
    {
     "name": "stderr",
     "output_type": "stream",
     "text": [
      "/var/folders/s4/79ykyqjn7f16bdl_zqjgsbzh0000gp/T/ipykernel_14170/863171515.py:4: DeprecationWarning: executable_path has been deprecated, please pass in a Service object\n",
      "  driver=webdriver.Chrome(PATH)\n"
     ]
    },
    {
     "name": "stdout",
     "output_type": "stream",
     "text": [
      "error 1\n",
      "todo OK\n",
      "https://open.spotify.com/track/2ysuyHrDnmlJexX7Mfh2J1?si=cd57f42814de4a61\n"
     ]
    },
    {
     "name": "stderr",
     "output_type": "stream",
     "text": [
      "/var/folders/s4/79ykyqjn7f16bdl_zqjgsbzh0000gp/T/ipykernel_14170/863171515.py:4: DeprecationWarning: executable_path has been deprecated, please pass in a Service object\n",
      "  driver=webdriver.Chrome(PATH)\n"
     ]
    },
    {
     "name": "stdout",
     "output_type": "stream",
     "text": [
      "error 1\n",
      "error 4\n",
      "todo OK\n",
      "https://open.spotify.com/track/2ysuyHrDnmlJexX7Mfh2J1?si=cd57f42814de4a61\n"
     ]
    },
    {
     "name": "stderr",
     "output_type": "stream",
     "text": [
      "/var/folders/s4/79ykyqjn7f16bdl_zqjgsbzh0000gp/T/ipykernel_14170/863171515.py:4: DeprecationWarning: executable_path has been deprecated, please pass in a Service object\n",
      "  driver=webdriver.Chrome(PATH)\n"
     ]
    },
    {
     "name": "stdout",
     "output_type": "stream",
     "text": [
      "todo OK\n",
      "https://open.spotify.com/track/4L2pOra0PxKrWhrSHlvgEP?si=dcefa883707f4dd2\n"
     ]
    },
    {
     "name": "stderr",
     "output_type": "stream",
     "text": [
      "/var/folders/s4/79ykyqjn7f16bdl_zqjgsbzh0000gp/T/ipykernel_14170/863171515.py:4: DeprecationWarning: executable_path has been deprecated, please pass in a Service object\n",
      "  driver=webdriver.Chrome(PATH)\n"
     ]
    },
    {
     "name": "stdout",
     "output_type": "stream",
     "text": [
      "error 1\n",
      "todo OK\n",
      "https://open.spotify.com/track/7gVC9FXLXlMla0p34PEhFI?si=8a11d02c5df340a7\n"
     ]
    },
    {
     "name": "stderr",
     "output_type": "stream",
     "text": [
      "/var/folders/s4/79ykyqjn7f16bdl_zqjgsbzh0000gp/T/ipykernel_14170/863171515.py:4: DeprecationWarning: executable_path has been deprecated, please pass in a Service object\n",
      "  driver=webdriver.Chrome(PATH)\n"
     ]
    },
    {
     "name": "stdout",
     "output_type": "stream",
     "text": [
      "todo OK\n",
      "https://open.spotify.com/track/43VwdvY43NhBMZLceHW23I?si=6b81371caf264b51\n"
     ]
    },
    {
     "name": "stderr",
     "output_type": "stream",
     "text": [
      "/var/folders/s4/79ykyqjn7f16bdl_zqjgsbzh0000gp/T/ipykernel_14170/863171515.py:4: DeprecationWarning: executable_path has been deprecated, please pass in a Service object\n",
      "  driver=webdriver.Chrome(PATH)\n"
     ]
    },
    {
     "name": "stdout",
     "output_type": "stream",
     "text": [
      "todo OK\n",
      "https://open.spotify.com/track/1NUbDvfZhIMcdrvMX293YA?si=9c57ec3766eb4e82\n"
     ]
    },
    {
     "name": "stderr",
     "output_type": "stream",
     "text": [
      "/var/folders/s4/79ykyqjn7f16bdl_zqjgsbzh0000gp/T/ipykernel_14170/863171515.py:4: DeprecationWarning: executable_path has been deprecated, please pass in a Service object\n",
      "  driver=webdriver.Chrome(PATH)\n"
     ]
    },
    {
     "name": "stdout",
     "output_type": "stream",
     "text": [
      "todo OK\n",
      "https://open.spotify.com/track/5BEZ8Zt4UqmXKyHgwH7pzT?si=5b8a4a040e3148ea\n"
     ]
    },
    {
     "name": "stderr",
     "output_type": "stream",
     "text": [
      "/var/folders/s4/79ykyqjn7f16bdl_zqjgsbzh0000gp/T/ipykernel_14170/863171515.py:4: DeprecationWarning: executable_path has been deprecated, please pass in a Service object\n",
      "  driver=webdriver.Chrome(PATH)\n"
     ]
    },
    {
     "name": "stdout",
     "output_type": "stream",
     "text": [
      "error 1\n",
      "todo OK\n",
      "https://open.spotify.com/track/1jbrKpiTZ5jSblBypybUmV?si=1def030492134bc2\n"
     ]
    },
    {
     "name": "stderr",
     "output_type": "stream",
     "text": [
      "/var/folders/s4/79ykyqjn7f16bdl_zqjgsbzh0000gp/T/ipykernel_14170/863171515.py:4: DeprecationWarning: executable_path has been deprecated, please pass in a Service object\n",
      "  driver=webdriver.Chrome(PATH)\n"
     ]
    },
    {
     "name": "stdout",
     "output_type": "stream",
     "text": [
      "error 1\n",
      "todo OK\n",
      "https://open.spotify.com/track/4Cyfmcim6aCFNEPw9Mnpt8?si=110b58b9e54d43b2\n"
     ]
    },
    {
     "name": "stderr",
     "output_type": "stream",
     "text": [
      "/var/folders/s4/79ykyqjn7f16bdl_zqjgsbzh0000gp/T/ipykernel_14170/863171515.py:4: DeprecationWarning: executable_path has been deprecated, please pass in a Service object\n",
      "  driver=webdriver.Chrome(PATH)\n"
     ]
    },
    {
     "name": "stdout",
     "output_type": "stream",
     "text": [
      "error 1\n",
      "todo OK\n",
      "https://open.spotify.com/track/2Pdo1VvYDB9FqeuNx8D1FW?si=7056c8c9a6264c9a\n"
     ]
    },
    {
     "name": "stderr",
     "output_type": "stream",
     "text": [
      "/var/folders/s4/79ykyqjn7f16bdl_zqjgsbzh0000gp/T/ipykernel_14170/863171515.py:4: DeprecationWarning: executable_path has been deprecated, please pass in a Service object\n",
      "  driver=webdriver.Chrome(PATH)\n"
     ]
    },
    {
     "name": "stdout",
     "output_type": "stream",
     "text": [
      "todo OK\n",
      "https://open.spotify.com/track/0hgEsoAu23ap8V5GFX9Y3i?si=18f9be0773994a0f\n"
     ]
    },
    {
     "name": "stderr",
     "output_type": "stream",
     "text": [
      "/var/folders/s4/79ykyqjn7f16bdl_zqjgsbzh0000gp/T/ipykernel_14170/863171515.py:4: DeprecationWarning: executable_path has been deprecated, please pass in a Service object\n",
      "  driver=webdriver.Chrome(PATH)\n"
     ]
    },
    {
     "name": "stdout",
     "output_type": "stream",
     "text": [
      "error 1\n",
      "todo OK\n",
      "https://open.spotify.com/track/5zi45XzyETxXYDFJVotQIs?si=8ff0b80a3348472c\n"
     ]
    },
    {
     "name": "stderr",
     "output_type": "stream",
     "text": [
      "/var/folders/s4/79ykyqjn7f16bdl_zqjgsbzh0000gp/T/ipykernel_14170/863171515.py:4: DeprecationWarning: executable_path has been deprecated, please pass in a Service object\n",
      "  driver=webdriver.Chrome(PATH)\n"
     ]
    },
    {
     "name": "stdout",
     "output_type": "stream",
     "text": [
      "todo OK\n",
      "https://open.spotify.com/track/6Hmj7SrLRbreLVfVS7mV1S?si=2f9fd00c34c945a1\n"
     ]
    },
    {
     "name": "stderr",
     "output_type": "stream",
     "text": [
      "/var/folders/s4/79ykyqjn7f16bdl_zqjgsbzh0000gp/T/ipykernel_14170/863171515.py:4: DeprecationWarning: executable_path has been deprecated, please pass in a Service object\n",
      "  driver=webdriver.Chrome(PATH)\n"
     ]
    },
    {
     "name": "stdout",
     "output_type": "stream",
     "text": [
      "error 1\n",
      "todo OK\n",
      "https://open.spotify.com/track/4Gcx4D4ii0nOjmItjDEtb0?si=356815fed6a1471e\n"
     ]
    },
    {
     "name": "stderr",
     "output_type": "stream",
     "text": [
      "/var/folders/s4/79ykyqjn7f16bdl_zqjgsbzh0000gp/T/ipykernel_14170/863171515.py:4: DeprecationWarning: executable_path has been deprecated, please pass in a Service object\n",
      "  driver=webdriver.Chrome(PATH)\n"
     ]
    },
    {
     "name": "stdout",
     "output_type": "stream",
     "text": [
      "todo OK\n",
      "https://open.spotify.com/track/2nvZv4qatgsDIbEqqbQLUT?si=e22a1784672a4487\n"
     ]
    },
    {
     "name": "stderr",
     "output_type": "stream",
     "text": [
      "/var/folders/s4/79ykyqjn7f16bdl_zqjgsbzh0000gp/T/ipykernel_14170/863171515.py:4: DeprecationWarning: executable_path has been deprecated, please pass in a Service object\n",
      "  driver=webdriver.Chrome(PATH)\n"
     ]
    },
    {
     "name": "stdout",
     "output_type": "stream",
     "text": [
      "error 1\n",
      "todo OK\n",
      "https://open.spotify.com/track/0NslHuacjxQYfUTOW3HCIV?si=6bb2ba02e2934666\n"
     ]
    },
    {
     "name": "stderr",
     "output_type": "stream",
     "text": [
      "/var/folders/s4/79ykyqjn7f16bdl_zqjgsbzh0000gp/T/ipykernel_14170/863171515.py:4: DeprecationWarning: executable_path has been deprecated, please pass in a Service object\n",
      "  driver=webdriver.Chrome(PATH)\n"
     ]
    },
    {
     "name": "stdout",
     "output_type": "stream",
     "text": [
      "error 1\n",
      "todo OK\n",
      "https://open.spotify.com/track/42YunpdquRjWicoxW971f4?si=757eedbe0365484a\n"
     ]
    },
    {
     "name": "stderr",
     "output_type": "stream",
     "text": [
      "/var/folders/s4/79ykyqjn7f16bdl_zqjgsbzh0000gp/T/ipykernel_14170/863171515.py:4: DeprecationWarning: executable_path has been deprecated, please pass in a Service object\n",
      "  driver=webdriver.Chrome(PATH)\n"
     ]
    },
    {
     "name": "stdout",
     "output_type": "stream",
     "text": [
      "error 1\n",
      "todo OK\n",
      "https://open.spotify.com/track/1a9czdo8IX5InOiSOg6xpv?si=36766486647749c2\n"
     ]
    },
    {
     "name": "stderr",
     "output_type": "stream",
     "text": [
      "/var/folders/s4/79ykyqjn7f16bdl_zqjgsbzh0000gp/T/ipykernel_14170/863171515.py:4: DeprecationWarning: executable_path has been deprecated, please pass in a Service object\n",
      "  driver=webdriver.Chrome(PATH)\n"
     ]
    },
    {
     "name": "stdout",
     "output_type": "stream",
     "text": [
      "todo OK\n",
      "https://open.spotify.com/track/1gW8PuRo6xydtxzpQNhjFL?si=adc19222be66498c\n"
     ]
    },
    {
     "name": "stderr",
     "output_type": "stream",
     "text": [
      "/var/folders/s4/79ykyqjn7f16bdl_zqjgsbzh0000gp/T/ipykernel_14170/863171515.py:4: DeprecationWarning: executable_path has been deprecated, please pass in a Service object\n",
      "  driver=webdriver.Chrome(PATH)\n"
     ]
    },
    {
     "name": "stdout",
     "output_type": "stream",
     "text": [
      "error 1\n",
      "todo OK\n",
      "https://open.spotify.com/track/4ENHZdi8sqEtVZiltkPZig?si=43efa82b49424e74\n"
     ]
    },
    {
     "name": "stderr",
     "output_type": "stream",
     "text": [
      "/var/folders/s4/79ykyqjn7f16bdl_zqjgsbzh0000gp/T/ipykernel_14170/863171515.py:4: DeprecationWarning: executable_path has been deprecated, please pass in a Service object\n",
      "  driver=webdriver.Chrome(PATH)\n"
     ]
    },
    {
     "name": "stdout",
     "output_type": "stream",
     "text": [
      "error 1\n",
      "todo OK\n",
      "https://open.spotify.com/track/7rL602DQps4QmrrjbinLzP?si=32b07cb96b1e46dc\n"
     ]
    },
    {
     "name": "stderr",
     "output_type": "stream",
     "text": [
      "/var/folders/s4/79ykyqjn7f16bdl_zqjgsbzh0000gp/T/ipykernel_14170/863171515.py:4: DeprecationWarning: executable_path has been deprecated, please pass in a Service object\n",
      "  driver=webdriver.Chrome(PATH)\n"
     ]
    },
    {
     "name": "stdout",
     "output_type": "stream",
     "text": [
      "error 1\n",
      "todo OK\n",
      "https://open.spotify.com/track/1PO9sdsEu8bYm8FVGNCM5D?si=71b552ba1b9645fc\n"
     ]
    },
    {
     "name": "stderr",
     "output_type": "stream",
     "text": [
      "/var/folders/s4/79ykyqjn7f16bdl_zqjgsbzh0000gp/T/ipykernel_14170/863171515.py:4: DeprecationWarning: executable_path has been deprecated, please pass in a Service object\n",
      "  driver=webdriver.Chrome(PATH)\n"
     ]
    },
    {
     "name": "stdout",
     "output_type": "stream",
     "text": [
      "error 1\n",
      "todo OK\n",
      "https://open.spotify.com/track/48ysUnnPXixuLWwjn9TLKf?si=b67e01ec3bcd4f19\n"
     ]
    },
    {
     "name": "stderr",
     "output_type": "stream",
     "text": [
      "/var/folders/s4/79ykyqjn7f16bdl_zqjgsbzh0000gp/T/ipykernel_14170/863171515.py:4: DeprecationWarning: executable_path has been deprecated, please pass in a Service object\n",
      "  driver=webdriver.Chrome(PATH)\n"
     ]
    },
    {
     "name": "stdout",
     "output_type": "stream",
     "text": [
      "error 1\n",
      "todo OK\n",
      "https://open.spotify.com/track/2mBQJhub7CudOp93E4pbcc?si=b7dcf0f1733041df\n"
     ]
    },
    {
     "name": "stderr",
     "output_type": "stream",
     "text": [
      "/var/folders/s4/79ykyqjn7f16bdl_zqjgsbzh0000gp/T/ipykernel_14170/863171515.py:4: DeprecationWarning: executable_path has been deprecated, please pass in a Service object\n",
      "  driver=webdriver.Chrome(PATH)\n"
     ]
    },
    {
     "name": "stdout",
     "output_type": "stream",
     "text": [
      "error 4\n",
      "todo OK\n",
      "https://open.spotify.com/track/2mBQJhub7CudOp93E4pbcc?si=b7dcf0f1733041df\n"
     ]
    },
    {
     "name": "stderr",
     "output_type": "stream",
     "text": [
      "/var/folders/s4/79ykyqjn7f16bdl_zqjgsbzh0000gp/T/ipykernel_14170/863171515.py:4: DeprecationWarning: executable_path has been deprecated, please pass in a Service object\n",
      "  driver=webdriver.Chrome(PATH)\n"
     ]
    },
    {
     "name": "stdout",
     "output_type": "stream",
     "text": [
      "error 1\n",
      "todo OK\n",
      "https://open.spotify.com/track/5Kw6koDTaSgZ6HcdRlr16P?si=5cca49c391314f92\n"
     ]
    },
    {
     "name": "stderr",
     "output_type": "stream",
     "text": [
      "/var/folders/s4/79ykyqjn7f16bdl_zqjgsbzh0000gp/T/ipykernel_14170/863171515.py:4: DeprecationWarning: executable_path has been deprecated, please pass in a Service object\n",
      "  driver=webdriver.Chrome(PATH)\n"
     ]
    },
    {
     "name": "stdout",
     "output_type": "stream",
     "text": [
      "error 1\n",
      "error 4\n",
      "todo OK\n",
      "https://open.spotify.com/track/5Kw6koDTaSgZ6HcdRlr16P?si=5cca49c391314f92\n"
     ]
    },
    {
     "name": "stderr",
     "output_type": "stream",
     "text": [
      "/var/folders/s4/79ykyqjn7f16bdl_zqjgsbzh0000gp/T/ipykernel_14170/863171515.py:4: DeprecationWarning: executable_path has been deprecated, please pass in a Service object\n",
      "  driver=webdriver.Chrome(PATH)\n"
     ]
    },
    {
     "name": "stdout",
     "output_type": "stream",
     "text": [
      "error 1\n",
      "todo OK\n",
      "https://open.spotify.com/track/38GBNKZUhfBkk3oNlWzRYd?si=bd4a8ba593194059\n"
     ]
    },
    {
     "name": "stderr",
     "output_type": "stream",
     "text": [
      "/var/folders/s4/79ykyqjn7f16bdl_zqjgsbzh0000gp/T/ipykernel_14170/863171515.py:4: DeprecationWarning: executable_path has been deprecated, please pass in a Service object\n",
      "  driver=webdriver.Chrome(PATH)\n"
     ]
    },
    {
     "name": "stdout",
     "output_type": "stream",
     "text": [
      "error 1\n",
      "todo OK\n",
      "https://open.spotify.com/track/2EILG4ATZdL6ddR1aYA1b4?si=773dd338c6cc43cc\n"
     ]
    },
    {
     "name": "stderr",
     "output_type": "stream",
     "text": [
      "/var/folders/s4/79ykyqjn7f16bdl_zqjgsbzh0000gp/T/ipykernel_14170/863171515.py:4: DeprecationWarning: executable_path has been deprecated, please pass in a Service object\n",
      "  driver=webdriver.Chrome(PATH)\n"
     ]
    },
    {
     "name": "stdout",
     "output_type": "stream",
     "text": [
      "error 1\n",
      "todo OK\n",
      "https://open.spotify.com/track/2EILG4ATZdL6ddR1aYA1b4?si=773dd338c6cc43cc\n"
     ]
    },
    {
     "name": "stderr",
     "output_type": "stream",
     "text": [
      "/var/folders/s4/79ykyqjn7f16bdl_zqjgsbzh0000gp/T/ipykernel_14170/863171515.py:4: DeprecationWarning: executable_path has been deprecated, please pass in a Service object\n",
      "  driver=webdriver.Chrome(PATH)\n"
     ]
    },
    {
     "name": "stdout",
     "output_type": "stream",
     "text": [
      "error 1\n",
      "error 4\n",
      "todo OK\n",
      "https://open.spotify.com/track/2EILG4ATZdL6ddR1aYA1b4?si=773dd338c6cc43cc\n"
     ]
    },
    {
     "name": "stderr",
     "output_type": "stream",
     "text": [
      "/var/folders/s4/79ykyqjn7f16bdl_zqjgsbzh0000gp/T/ipykernel_14170/863171515.py:4: DeprecationWarning: executable_path has been deprecated, please pass in a Service object\n",
      "  driver=webdriver.Chrome(PATH)\n"
     ]
    },
    {
     "name": "stdout",
     "output_type": "stream",
     "text": [
      "todo OK\n",
      "https://open.spotify.com/track/2MKzHPbEeuRn5HZp1llzHP?si=d58a7ba7d7574334\n"
     ]
    },
    {
     "name": "stderr",
     "output_type": "stream",
     "text": [
      "/var/folders/s4/79ykyqjn7f16bdl_zqjgsbzh0000gp/T/ipykernel_14170/863171515.py:4: DeprecationWarning: executable_path has been deprecated, please pass in a Service object\n",
      "  driver=webdriver.Chrome(PATH)\n"
     ]
    },
    {
     "name": "stdout",
     "output_type": "stream",
     "text": [
      "todo OK\n",
      "https://open.spotify.com/track/1xxd9UtC5bqqWZshWsFsXP?si=524ea8bde08a4084\n"
     ]
    },
    {
     "name": "stderr",
     "output_type": "stream",
     "text": [
      "/var/folders/s4/79ykyqjn7f16bdl_zqjgsbzh0000gp/T/ipykernel_14170/863171515.py:4: DeprecationWarning: executable_path has been deprecated, please pass in a Service object\n",
      "  driver=webdriver.Chrome(PATH)\n"
     ]
    },
    {
     "name": "stdout",
     "output_type": "stream",
     "text": [
      "error 1\n",
      "todo OK\n",
      "https://open.spotify.com/track/1yvMUkIOTeUNtNWlWRgANS?si=268119f4e6184309\n"
     ]
    },
    {
     "name": "stderr",
     "output_type": "stream",
     "text": [
      "/var/folders/s4/79ykyqjn7f16bdl_zqjgsbzh0000gp/T/ipykernel_14170/863171515.py:4: DeprecationWarning: executable_path has been deprecated, please pass in a Service object\n",
      "  driver=webdriver.Chrome(PATH)\n"
     ]
    },
    {
     "name": "stdout",
     "output_type": "stream",
     "text": [
      "error 1\n",
      "todo OK\n",
      "https://open.spotify.com/track/2MbgQKWhoii8bqsMBWWWgA?si=5a0592b5dec7441d\n"
     ]
    },
    {
     "name": "stderr",
     "output_type": "stream",
     "text": [
      "/var/folders/s4/79ykyqjn7f16bdl_zqjgsbzh0000gp/T/ipykernel_14170/863171515.py:4: DeprecationWarning: executable_path has been deprecated, please pass in a Service object\n",
      "  driver=webdriver.Chrome(PATH)\n"
     ]
    },
    {
     "name": "stdout",
     "output_type": "stream",
     "text": [
      "error 1\n",
      "error 4\n",
      "todo OK\n",
      "https://open.spotify.com/track/2MbgQKWhoii8bqsMBWWWgA?si=5a0592b5dec7441d\n"
     ]
    },
    {
     "name": "stderr",
     "output_type": "stream",
     "text": [
      "/var/folders/s4/79ykyqjn7f16bdl_zqjgsbzh0000gp/T/ipykernel_14170/863171515.py:4: DeprecationWarning: executable_path has been deprecated, please pass in a Service object\n",
      "  driver=webdriver.Chrome(PATH)\n"
     ]
    },
    {
     "name": "stdout",
     "output_type": "stream",
     "text": [
      "error 4\n",
      "todo OK\n",
      "https://open.spotify.com/track/2MbgQKWhoii8bqsMBWWWgA?si=5a0592b5dec7441d\n"
     ]
    },
    {
     "name": "stderr",
     "output_type": "stream",
     "text": [
      "/var/folders/s4/79ykyqjn7f16bdl_zqjgsbzh0000gp/T/ipykernel_14170/863171515.py:4: DeprecationWarning: executable_path has been deprecated, please pass in a Service object\n",
      "  driver=webdriver.Chrome(PATH)\n"
     ]
    },
    {
     "name": "stdout",
     "output_type": "stream",
     "text": [
      "error 1\n",
      "error 4\n",
      "todo OK\n",
      "https://open.spotify.com/track/2MbgQKWhoii8bqsMBWWWgA?si=5a0592b5dec7441d\n"
     ]
    },
    {
     "name": "stderr",
     "output_type": "stream",
     "text": [
      "/var/folders/s4/79ykyqjn7f16bdl_zqjgsbzh0000gp/T/ipykernel_14170/863171515.py:4: DeprecationWarning: executable_path has been deprecated, please pass in a Service object\n",
      "  driver=webdriver.Chrome(PATH)\n"
     ]
    },
    {
     "name": "stdout",
     "output_type": "stream",
     "text": [
      "error 1\n",
      "error 4\n",
      "todo OK\n",
      "https://open.spotify.com/track/2MbgQKWhoii8bqsMBWWWgA?si=5a0592b5dec7441d\n"
     ]
    },
    {
     "name": "stderr",
     "output_type": "stream",
     "text": [
      "/var/folders/s4/79ykyqjn7f16bdl_zqjgsbzh0000gp/T/ipykernel_14170/863171515.py:4: DeprecationWarning: executable_path has been deprecated, please pass in a Service object\n",
      "  driver=webdriver.Chrome(PATH)\n"
     ]
    },
    {
     "name": "stdout",
     "output_type": "stream",
     "text": [
      "error 1\n",
      "error 4\n",
      "todo OK\n",
      "https://open.spotify.com/track/2MbgQKWhoii8bqsMBWWWgA?si=5a0592b5dec7441d\n"
     ]
    },
    {
     "name": "stderr",
     "output_type": "stream",
     "text": [
      "/var/folders/s4/79ykyqjn7f16bdl_zqjgsbzh0000gp/T/ipykernel_14170/863171515.py:4: DeprecationWarning: executable_path has been deprecated, please pass in a Service object\n",
      "  driver=webdriver.Chrome(PATH)\n"
     ]
    },
    {
     "name": "stdout",
     "output_type": "stream",
     "text": [
      "error 1\n",
      "todo OK\n",
      "https://open.spotify.com/track/0WSEq9Ko4kFPt8yo3ICd6T?si=005e83fe27c94aff\n"
     ]
    },
    {
     "name": "stderr",
     "output_type": "stream",
     "text": [
      "/var/folders/s4/79ykyqjn7f16bdl_zqjgsbzh0000gp/T/ipykernel_14170/863171515.py:4: DeprecationWarning: executable_path has been deprecated, please pass in a Service object\n",
      "  driver=webdriver.Chrome(PATH)\n"
     ]
    },
    {
     "name": "stdout",
     "output_type": "stream",
     "text": [
      "error 1\n",
      "error 4\n",
      "todo OK\n",
      "https://open.spotify.com/track/0WSEq9Ko4kFPt8yo3ICd6T?si=005e83fe27c94aff\n"
     ]
    },
    {
     "name": "stderr",
     "output_type": "stream",
     "text": [
      "/var/folders/s4/79ykyqjn7f16bdl_zqjgsbzh0000gp/T/ipykernel_14170/863171515.py:4: DeprecationWarning: executable_path has been deprecated, please pass in a Service object\n",
      "  driver=webdriver.Chrome(PATH)\n"
     ]
    },
    {
     "name": "stdout",
     "output_type": "stream",
     "text": [
      "error 1\n",
      "todo OK\n",
      "https://open.spotify.com/track/3fpVWegR6YOS1Yk5HSMYIq?si=eefc8ff139c74f0d\n"
     ]
    },
    {
     "name": "stderr",
     "output_type": "stream",
     "text": [
      "/var/folders/s4/79ykyqjn7f16bdl_zqjgsbzh0000gp/T/ipykernel_14170/863171515.py:4: DeprecationWarning: executable_path has been deprecated, please pass in a Service object\n",
      "  driver=webdriver.Chrome(PATH)\n"
     ]
    },
    {
     "name": "stdout",
     "output_type": "stream",
     "text": [
      "todo OK\n",
      "https://open.spotify.com/track/5QO79kh1waicV47BqGRL3g?si=66b28c1495784c69\n"
     ]
    },
    {
     "name": "stderr",
     "output_type": "stream",
     "text": [
      "/var/folders/s4/79ykyqjn7f16bdl_zqjgsbzh0000gp/T/ipykernel_14170/863171515.py:4: DeprecationWarning: executable_path has been deprecated, please pass in a Service object\n",
      "  driver=webdriver.Chrome(PATH)\n"
     ]
    },
    {
     "name": "stdout",
     "output_type": "stream",
     "text": [
      "error 1\n",
      "error 4\n",
      "todo OK\n",
      "https://open.spotify.com/track/5QO79kh1waicV47BqGRL3g?si=66b28c1495784c69\n"
     ]
    },
    {
     "name": "stderr",
     "output_type": "stream",
     "text": [
      "/var/folders/s4/79ykyqjn7f16bdl_zqjgsbzh0000gp/T/ipykernel_14170/863171515.py:4: DeprecationWarning: executable_path has been deprecated, please pass in a Service object\n",
      "  driver=webdriver.Chrome(PATH)\n"
     ]
    },
    {
     "name": "stdout",
     "output_type": "stream",
     "text": [
      "error 1\n",
      "todo OK\n",
      "https://open.spotify.com/track/5fwSHlTEWpluwOM0Sxnh5k?si=666288cb86004eea\n"
     ]
    },
    {
     "name": "stderr",
     "output_type": "stream",
     "text": [
      "/var/folders/s4/79ykyqjn7f16bdl_zqjgsbzh0000gp/T/ipykernel_14170/863171515.py:4: DeprecationWarning: executable_path has been deprecated, please pass in a Service object\n",
      "  driver=webdriver.Chrome(PATH)\n"
     ]
    },
    {
     "name": "stdout",
     "output_type": "stream",
     "text": [
      "error 1\n",
      "todo OK\n",
      "https://open.spotify.com/track/0wI7QkCcs8FUQE1OkXUIqd?si=ec5023a0123b4877\n"
     ]
    },
    {
     "name": "stderr",
     "output_type": "stream",
     "text": [
      "/var/folders/s4/79ykyqjn7f16bdl_zqjgsbzh0000gp/T/ipykernel_14170/863171515.py:4: DeprecationWarning: executable_path has been deprecated, please pass in a Service object\n",
      "  driver=webdriver.Chrome(PATH)\n"
     ]
    },
    {
     "name": "stdout",
     "output_type": "stream",
     "text": [
      "error 1\n",
      "todo OK\n",
      "https://open.spotify.com/track/1VjNQAm7bG3MLIC5Cwb508?si=399bd6d410784b5d\n"
     ]
    },
    {
     "name": "stderr",
     "output_type": "stream",
     "text": [
      "/var/folders/s4/79ykyqjn7f16bdl_zqjgsbzh0000gp/T/ipykernel_14170/863171515.py:4: DeprecationWarning: executable_path has been deprecated, please pass in a Service object\n",
      "  driver=webdriver.Chrome(PATH)\n"
     ]
    },
    {
     "name": "stdout",
     "output_type": "stream",
     "text": [
      "error 1\n",
      "error 4\n",
      "todo OK\n",
      "https://open.spotify.com/track/1VjNQAm7bG3MLIC5Cwb508?si=399bd6d410784b5d\n"
     ]
    },
    {
     "name": "stderr",
     "output_type": "stream",
     "text": [
      "/var/folders/s4/79ykyqjn7f16bdl_zqjgsbzh0000gp/T/ipykernel_14170/863171515.py:4: DeprecationWarning: executable_path has been deprecated, please pass in a Service object\n",
      "  driver=webdriver.Chrome(PATH)\n"
     ]
    },
    {
     "name": "stdout",
     "output_type": "stream",
     "text": [
      "error 1\n",
      "error 4\n",
      "todo OK\n",
      "https://open.spotify.com/track/1VjNQAm7bG3MLIC5Cwb508?si=399bd6d410784b5d\n"
     ]
    },
    {
     "name": "stderr",
     "output_type": "stream",
     "text": [
      "/var/folders/s4/79ykyqjn7f16bdl_zqjgsbzh0000gp/T/ipykernel_14170/863171515.py:4: DeprecationWarning: executable_path has been deprecated, please pass in a Service object\n",
      "  driver=webdriver.Chrome(PATH)\n"
     ]
    },
    {
     "name": "stdout",
     "output_type": "stream",
     "text": [
      "error 1\n",
      "todo OK\n",
      "https://open.spotify.com/track/4T3fNx3CgwDRRYgmFCbD4J?si=a7cdbed93fe04322\n"
     ]
    },
    {
     "name": "stderr",
     "output_type": "stream",
     "text": [
      "/var/folders/s4/79ykyqjn7f16bdl_zqjgsbzh0000gp/T/ipykernel_14170/863171515.py:4: DeprecationWarning: executable_path has been deprecated, please pass in a Service object\n",
      "  driver=webdriver.Chrome(PATH)\n"
     ]
    },
    {
     "name": "stdout",
     "output_type": "stream",
     "text": [
      "todo OK\n",
      "https://open.spotify.com/track/7hDVYcQq6MxkdJGweuCtl9?si=288e643ef4f4414b\n"
     ]
    },
    {
     "name": "stderr",
     "output_type": "stream",
     "text": [
      "/var/folders/s4/79ykyqjn7f16bdl_zqjgsbzh0000gp/T/ipykernel_14170/863171515.py:4: DeprecationWarning: executable_path has been deprecated, please pass in a Service object\n",
      "  driver=webdriver.Chrome(PATH)\n"
     ]
    },
    {
     "name": "stdout",
     "output_type": "stream",
     "text": [
      "error 1\n",
      "todo OK\n",
      "https://open.spotify.com/track/3afkJSKX0EAMsJXTZnDXXJ?si=7f887b4892af41b3\n"
     ]
    },
    {
     "name": "stderr",
     "output_type": "stream",
     "text": [
      "/var/folders/s4/79ykyqjn7f16bdl_zqjgsbzh0000gp/T/ipykernel_14170/863171515.py:4: DeprecationWarning: executable_path has been deprecated, please pass in a Service object\n",
      "  driver=webdriver.Chrome(PATH)\n"
     ]
    },
    {
     "name": "stdout",
     "output_type": "stream",
     "text": [
      "error 1\n",
      "todo OK\n",
      "https://open.spotify.com/track/5dMUZjZFmeaNFIFSgDW3lj?si=91eb7b447a57422e\n"
     ]
    },
    {
     "name": "stderr",
     "output_type": "stream",
     "text": [
      "/var/folders/s4/79ykyqjn7f16bdl_zqjgsbzh0000gp/T/ipykernel_14170/863171515.py:4: DeprecationWarning: executable_path has been deprecated, please pass in a Service object\n",
      "  driver=webdriver.Chrome(PATH)\n"
     ]
    },
    {
     "name": "stdout",
     "output_type": "stream",
     "text": [
      "error 1\n",
      "error 4\n",
      "todo OK\n",
      "https://open.spotify.com/track/5dMUZjZFmeaNFIFSgDW3lj?si=91eb7b447a57422e\n"
     ]
    },
    {
     "name": "stderr",
     "output_type": "stream",
     "text": [
      "/var/folders/s4/79ykyqjn7f16bdl_zqjgsbzh0000gp/T/ipykernel_14170/863171515.py:4: DeprecationWarning: executable_path has been deprecated, please pass in a Service object\n",
      "  driver=webdriver.Chrome(PATH)\n"
     ]
    },
    {
     "name": "stdout",
     "output_type": "stream",
     "text": [
      "error 4\n",
      "todo OK\n",
      "https://open.spotify.com/track/5dMUZjZFmeaNFIFSgDW3lj?si=91eb7b447a57422e\n"
     ]
    },
    {
     "name": "stderr",
     "output_type": "stream",
     "text": [
      "/var/folders/s4/79ykyqjn7f16bdl_zqjgsbzh0000gp/T/ipykernel_14170/863171515.py:4: DeprecationWarning: executable_path has been deprecated, please pass in a Service object\n",
      "  driver=webdriver.Chrome(PATH)\n"
     ]
    },
    {
     "name": "stdout",
     "output_type": "stream",
     "text": [
      "error 1\n",
      "todo OK\n",
      "https://open.spotify.com/track/2ufmtcIFdFpuUYBPXK5f67?si=bfc6b7260b844067\n"
     ]
    },
    {
     "name": "stderr",
     "output_type": "stream",
     "text": [
      "/var/folders/s4/79ykyqjn7f16bdl_zqjgsbzh0000gp/T/ipykernel_14170/863171515.py:4: DeprecationWarning: executable_path has been deprecated, please pass in a Service object\n",
      "  driver=webdriver.Chrome(PATH)\n"
     ]
    },
    {
     "name": "stdout",
     "output_type": "stream",
     "text": [
      "error 1\n",
      "todo OK\n",
      "https://open.spotify.com/track/3zmzb7WcCXpEAXq1RtQ7o4?si=f45a79aff7e24247\n"
     ]
    },
    {
     "name": "stderr",
     "output_type": "stream",
     "text": [
      "/var/folders/s4/79ykyqjn7f16bdl_zqjgsbzh0000gp/T/ipykernel_14170/863171515.py:4: DeprecationWarning: executable_path has been deprecated, please pass in a Service object\n",
      "  driver=webdriver.Chrome(PATH)\n"
     ]
    },
    {
     "name": "stdout",
     "output_type": "stream",
     "text": [
      "error 1\n",
      "todo OK\n",
      "https://open.spotify.com/track/11Tfh16o0SW8KdiQdeESEX?si=985e341dc9164c06\n"
     ]
    },
    {
     "name": "stderr",
     "output_type": "stream",
     "text": [
      "/var/folders/s4/79ykyqjn7f16bdl_zqjgsbzh0000gp/T/ipykernel_14170/863171515.py:4: DeprecationWarning: executable_path has been deprecated, please pass in a Service object\n",
      "  driver=webdriver.Chrome(PATH)\n"
     ]
    },
    {
     "name": "stdout",
     "output_type": "stream",
     "text": [
      "error 1\n",
      "todo OK\n",
      "https://open.spotify.com/track/47aJFWNRqVHlwadK8HRllg?si=9596179ef4fe40c6\n"
     ]
    },
    {
     "name": "stderr",
     "output_type": "stream",
     "text": [
      "/var/folders/s4/79ykyqjn7f16bdl_zqjgsbzh0000gp/T/ipykernel_14170/863171515.py:4: DeprecationWarning: executable_path has been deprecated, please pass in a Service object\n",
      "  driver=webdriver.Chrome(PATH)\n"
     ]
    },
    {
     "name": "stdout",
     "output_type": "stream",
     "text": [
      "error 1\n",
      "error 4\n",
      "todo OK\n",
      "https://open.spotify.com/track/47aJFWNRqVHlwadK8HRllg?si=9596179ef4fe40c6\n"
     ]
    },
    {
     "name": "stderr",
     "output_type": "stream",
     "text": [
      "/var/folders/s4/79ykyqjn7f16bdl_zqjgsbzh0000gp/T/ipykernel_14170/863171515.py:4: DeprecationWarning: executable_path has been deprecated, please pass in a Service object\n",
      "  driver=webdriver.Chrome(PATH)\n"
     ]
    },
    {
     "name": "stdout",
     "output_type": "stream",
     "text": [
      "error 1\n",
      "todo OK\n",
      "https://open.spotify.com/track/5ln5yQdUywVbf8HhFsOcd6?si=758cada9253549fe\n"
     ]
    },
    {
     "name": "stderr",
     "output_type": "stream",
     "text": [
      "/var/folders/s4/79ykyqjn7f16bdl_zqjgsbzh0000gp/T/ipykernel_14170/863171515.py:4: DeprecationWarning: executable_path has been deprecated, please pass in a Service object\n",
      "  driver=webdriver.Chrome(PATH)\n"
     ]
    },
    {
     "name": "stdout",
     "output_type": "stream",
     "text": [
      "error 1\n",
      "todo OK\n",
      "https://open.spotify.com/track/7lozLnUfzcgEpMMVQI7yhA?si=90961e32f85e4c8b\n"
     ]
    },
    {
     "name": "stderr",
     "output_type": "stream",
     "text": [
      "/var/folders/s4/79ykyqjn7f16bdl_zqjgsbzh0000gp/T/ipykernel_14170/863171515.py:4: DeprecationWarning: executable_path has been deprecated, please pass in a Service object\n",
      "  driver=webdriver.Chrome(PATH)\n"
     ]
    },
    {
     "name": "stdout",
     "output_type": "stream",
     "text": [
      "error 1\n",
      "error 4\n",
      "todo OK\n",
      "https://open.spotify.com/track/7lozLnUfzcgEpMMVQI7yhA?si=90961e32f85e4c8b\n"
     ]
    },
    {
     "name": "stderr",
     "output_type": "stream",
     "text": [
      "/var/folders/s4/79ykyqjn7f16bdl_zqjgsbzh0000gp/T/ipykernel_14170/863171515.py:4: DeprecationWarning: executable_path has been deprecated, please pass in a Service object\n",
      "  driver=webdriver.Chrome(PATH)\n"
     ]
    },
    {
     "name": "stdout",
     "output_type": "stream",
     "text": [
      "error 1\n",
      "todo OK\n",
      "https://open.spotify.com/track/45bE4HXI0AwGZXfZtMp8JR?si=eed06b56177b4da5\n"
     ]
    },
    {
     "name": "stderr",
     "output_type": "stream",
     "text": [
      "/var/folders/s4/79ykyqjn7f16bdl_zqjgsbzh0000gp/T/ipykernel_14170/863171515.py:4: DeprecationWarning: executable_path has been deprecated, please pass in a Service object\n",
      "  driver=webdriver.Chrome(PATH)\n"
     ]
    },
    {
     "name": "stdout",
     "output_type": "stream",
     "text": [
      "error 4\n",
      "todo OK\n",
      "https://open.spotify.com/track/45bE4HXI0AwGZXfZtMp8JR?si=eed06b56177b4da5\n"
     ]
    },
    {
     "name": "stderr",
     "output_type": "stream",
     "text": [
      "/var/folders/s4/79ykyqjn7f16bdl_zqjgsbzh0000gp/T/ipykernel_14170/863171515.py:4: DeprecationWarning: executable_path has been deprecated, please pass in a Service object\n",
      "  driver=webdriver.Chrome(PATH)\n"
     ]
    },
    {
     "name": "stdout",
     "output_type": "stream",
     "text": [
      "error 1\n",
      "todo OK\n",
      "https://open.spotify.com/track/7y9iMe8SOB6z3NoHE2OfXl?si=b7764c7fbb594d2d\n"
     ]
    },
    {
     "name": "stderr",
     "output_type": "stream",
     "text": [
      "/var/folders/s4/79ykyqjn7f16bdl_zqjgsbzh0000gp/T/ipykernel_14170/863171515.py:4: DeprecationWarning: executable_path has been deprecated, please pass in a Service object\n",
      "  driver=webdriver.Chrome(PATH)\n"
     ]
    },
    {
     "name": "stdout",
     "output_type": "stream",
     "text": [
      "todo OK\n",
      "https://open.spotify.com/track/4riAhDvkhOUrxnmD59HfqL?si=88c2d02ee483428e\n"
     ]
    },
    {
     "name": "stderr",
     "output_type": "stream",
     "text": [
      "/var/folders/s4/79ykyqjn7f16bdl_zqjgsbzh0000gp/T/ipykernel_14170/863171515.py:4: DeprecationWarning: executable_path has been deprecated, please pass in a Service object\n",
      "  driver=webdriver.Chrome(PATH)\n"
     ]
    },
    {
     "name": "stdout",
     "output_type": "stream",
     "text": [
      "error 1\n",
      "todo OK\n",
      "https://open.spotify.com/track/4C5iYZMmSYeIUCtX3uShA7?si=c334e9a2afb24a7c\n"
     ]
    },
    {
     "name": "stderr",
     "output_type": "stream",
     "text": [
      "/var/folders/s4/79ykyqjn7f16bdl_zqjgsbzh0000gp/T/ipykernel_14170/863171515.py:4: DeprecationWarning: executable_path has been deprecated, please pass in a Service object\n",
      "  driver=webdriver.Chrome(PATH)\n"
     ]
    },
    {
     "name": "stdout",
     "output_type": "stream",
     "text": [
      "error 1\n",
      "todo OK\n",
      "https://open.spotify.com/track/7hzlzoOwCZ4D3Ow5YZK4kj?si=1f48efd0036345bd\n"
     ]
    },
    {
     "name": "stderr",
     "output_type": "stream",
     "text": [
      "/var/folders/s4/79ykyqjn7f16bdl_zqjgsbzh0000gp/T/ipykernel_14170/863171515.py:4: DeprecationWarning: executable_path has been deprecated, please pass in a Service object\n",
      "  driver=webdriver.Chrome(PATH)\n"
     ]
    },
    {
     "name": "stdout",
     "output_type": "stream",
     "text": [
      "error 1\n",
      "error 4\n",
      "todo OK\n",
      "https://open.spotify.com/track/7hzlzoOwCZ4D3Ow5YZK4kj?si=1f48efd0036345bd\n"
     ]
    },
    {
     "name": "stderr",
     "output_type": "stream",
     "text": [
      "/var/folders/s4/79ykyqjn7f16bdl_zqjgsbzh0000gp/T/ipykernel_14170/863171515.py:4: DeprecationWarning: executable_path has been deprecated, please pass in a Service object\n",
      "  driver=webdriver.Chrome(PATH)\n"
     ]
    },
    {
     "name": "stdout",
     "output_type": "stream",
     "text": [
      "error 1\n",
      "todo OK\n",
      "https://open.spotify.com/track/0Es6dDXHGqqQWoA8tlK4LG?si=75dee6e25bd74597\n"
     ]
    },
    {
     "name": "stderr",
     "output_type": "stream",
     "text": [
      "/var/folders/s4/79ykyqjn7f16bdl_zqjgsbzh0000gp/T/ipykernel_14170/863171515.py:4: DeprecationWarning: executable_path has been deprecated, please pass in a Service object\n",
      "  driver=webdriver.Chrome(PATH)\n"
     ]
    },
    {
     "name": "stdout",
     "output_type": "stream",
     "text": [
      "error 1\n",
      "todo OK\n",
      "https://open.spotify.com/track/340UVheS8z3ncW9TTUhAbc?si=8e4e3aaeab0d4799\n"
     ]
    },
    {
     "name": "stderr",
     "output_type": "stream",
     "text": [
      "/var/folders/s4/79ykyqjn7f16bdl_zqjgsbzh0000gp/T/ipykernel_14170/863171515.py:4: DeprecationWarning: executable_path has been deprecated, please pass in a Service object\n",
      "  driver=webdriver.Chrome(PATH)\n"
     ]
    },
    {
     "name": "stdout",
     "output_type": "stream",
     "text": [
      "todo OK\n",
      "https://open.spotify.com/track/0EcQcdcbQeVJn9fknj44Be?si=2d4eb981c4e84e5c\n"
     ]
    },
    {
     "name": "stderr",
     "output_type": "stream",
     "text": [
      "/var/folders/s4/79ykyqjn7f16bdl_zqjgsbzh0000gp/T/ipykernel_14170/863171515.py:4: DeprecationWarning: executable_path has been deprecated, please pass in a Service object\n",
      "  driver=webdriver.Chrome(PATH)\n"
     ]
    },
    {
     "name": "stdout",
     "output_type": "stream",
     "text": [
      "todo OK\n",
      "https://open.spotify.com/track/397sfkANMRKEuchzPCvlFL?si=5cb3a921e8b14f96\n"
     ]
    },
    {
     "name": "stderr",
     "output_type": "stream",
     "text": [
      "/var/folders/s4/79ykyqjn7f16bdl_zqjgsbzh0000gp/T/ipykernel_14170/863171515.py:4: DeprecationWarning: executable_path has been deprecated, please pass in a Service object\n",
      "  driver=webdriver.Chrome(PATH)\n"
     ]
    },
    {
     "name": "stdout",
     "output_type": "stream",
     "text": [
      "error 1\n",
      "todo OK\n",
      "https://open.spotify.com/track/2W3EgJst61RLZtPPm3EQim?si=41faa7de914248ea\n"
     ]
    },
    {
     "name": "stderr",
     "output_type": "stream",
     "text": [
      "/var/folders/s4/79ykyqjn7f16bdl_zqjgsbzh0000gp/T/ipykernel_14170/863171515.py:4: DeprecationWarning: executable_path has been deprecated, please pass in a Service object\n",
      "  driver=webdriver.Chrome(PATH)\n"
     ]
    },
    {
     "name": "stdout",
     "output_type": "stream",
     "text": [
      "todo OK\n",
      "https://open.spotify.com/track/6fxq63aKjMmi1WMI9iKX5w?si=d5b4dec6363a4c53\n"
     ]
    },
    {
     "name": "stderr",
     "output_type": "stream",
     "text": [
      "/var/folders/s4/79ykyqjn7f16bdl_zqjgsbzh0000gp/T/ipykernel_14170/863171515.py:4: DeprecationWarning: executable_path has been deprecated, please pass in a Service object\n",
      "  driver=webdriver.Chrome(PATH)\n"
     ]
    },
    {
     "name": "stdout",
     "output_type": "stream",
     "text": [
      "error 1\n",
      "todo OK\n",
      "https://open.spotify.com/track/2aHrD7iPl0rZSYXYQ8iW2Y?si=80ecb725857f4838\n"
     ]
    },
    {
     "name": "stderr",
     "output_type": "stream",
     "text": [
      "/var/folders/s4/79ykyqjn7f16bdl_zqjgsbzh0000gp/T/ipykernel_14170/863171515.py:4: DeprecationWarning: executable_path has been deprecated, please pass in a Service object\n",
      "  driver=webdriver.Chrome(PATH)\n"
     ]
    },
    {
     "name": "stdout",
     "output_type": "stream",
     "text": [
      "todo OK\n",
      "https://open.spotify.com/track/0dzKQOzNZvcnZFHyYUTTAB?si=8d4060ff459b4cc4\n"
     ]
    },
    {
     "name": "stderr",
     "output_type": "stream",
     "text": [
      "/var/folders/s4/79ykyqjn7f16bdl_zqjgsbzh0000gp/T/ipykernel_14170/863171515.py:4: DeprecationWarning: executable_path has been deprecated, please pass in a Service object\n",
      "  driver=webdriver.Chrome(PATH)\n"
     ]
    },
    {
     "name": "stdout",
     "output_type": "stream",
     "text": [
      "error 0\n",
      "error 1\n",
      "error 2\n",
      "error 3\n",
      "error 4\n",
      "todo OK\n",
      "https://open.spotify.com/track/0dzKQOzNZvcnZFHyYUTTAB?si=8d4060ff459b4cc4\n"
     ]
    },
    {
     "name": "stderr",
     "output_type": "stream",
     "text": [
      "/var/folders/s4/79ykyqjn7f16bdl_zqjgsbzh0000gp/T/ipykernel_14170/863171515.py:4: DeprecationWarning: executable_path has been deprecated, please pass in a Service object\n",
      "  driver=webdriver.Chrome(PATH)\n"
     ]
    },
    {
     "name": "stdout",
     "output_type": "stream",
     "text": [
      "error 1\n",
      "todo OK\n",
      "https://open.spotify.com/track/5NetSTs4dgiR6GLrZOQcwJ?si=409a68c499cb40a0\n"
     ]
    },
    {
     "name": "stderr",
     "output_type": "stream",
     "text": [
      "/var/folders/s4/79ykyqjn7f16bdl_zqjgsbzh0000gp/T/ipykernel_14170/863171515.py:4: DeprecationWarning: executable_path has been deprecated, please pass in a Service object\n",
      "  driver=webdriver.Chrome(PATH)\n"
     ]
    },
    {
     "name": "stdout",
     "output_type": "stream",
     "text": [
      "error 1\n",
      "error 4\n",
      "todo OK\n",
      "https://open.spotify.com/track/5NetSTs4dgiR6GLrZOQcwJ?si=409a68c499cb40a0\n"
     ]
    },
    {
     "name": "stderr",
     "output_type": "stream",
     "text": [
      "/var/folders/s4/79ykyqjn7f16bdl_zqjgsbzh0000gp/T/ipykernel_14170/863171515.py:4: DeprecationWarning: executable_path has been deprecated, please pass in a Service object\n",
      "  driver=webdriver.Chrome(PATH)\n"
     ]
    },
    {
     "name": "stdout",
     "output_type": "stream",
     "text": [
      "error 1\n",
      "error 4\n",
      "todo OK\n",
      "https://open.spotify.com/track/5NetSTs4dgiR6GLrZOQcwJ?si=409a68c499cb40a0\n"
     ]
    },
    {
     "name": "stderr",
     "output_type": "stream",
     "text": [
      "/var/folders/s4/79ykyqjn7f16bdl_zqjgsbzh0000gp/T/ipykernel_14170/863171515.py:4: DeprecationWarning: executable_path has been deprecated, please pass in a Service object\n",
      "  driver=webdriver.Chrome(PATH)\n"
     ]
    },
    {
     "name": "stdout",
     "output_type": "stream",
     "text": [
      "error 1\n",
      "todo OK\n",
      "https://open.spotify.com/track/3Kkjo3cT83cw09VJyrLNwX?si=eaeb95f3687f4cba\n"
     ]
    },
    {
     "name": "stderr",
     "output_type": "stream",
     "text": [
      "/var/folders/s4/79ykyqjn7f16bdl_zqjgsbzh0000gp/T/ipykernel_14170/863171515.py:4: DeprecationWarning: executable_path has been deprecated, please pass in a Service object\n",
      "  driver=webdriver.Chrome(PATH)\n"
     ]
    },
    {
     "name": "stdout",
     "output_type": "stream",
     "text": [
      "error 4\n",
      "todo OK\n",
      "https://open.spotify.com/track/3Kkjo3cT83cw09VJyrLNwX?si=eaeb95f3687f4cba\n"
     ]
    },
    {
     "name": "stderr",
     "output_type": "stream",
     "text": [
      "/var/folders/s4/79ykyqjn7f16bdl_zqjgsbzh0000gp/T/ipykernel_14170/863171515.py:4: DeprecationWarning: executable_path has been deprecated, please pass in a Service object\n",
      "  driver=webdriver.Chrome(PATH)\n"
     ]
    },
    {
     "name": "stdout",
     "output_type": "stream",
     "text": [
      "error 1\n",
      "error 4\n",
      "todo OK\n",
      "https://open.spotify.com/track/3Kkjo3cT83cw09VJyrLNwX?si=eaeb95f3687f4cba\n"
     ]
    },
    {
     "name": "stderr",
     "output_type": "stream",
     "text": [
      "/var/folders/s4/79ykyqjn7f16bdl_zqjgsbzh0000gp/T/ipykernel_14170/863171515.py:4: DeprecationWarning: executable_path has been deprecated, please pass in a Service object\n",
      "  driver=webdriver.Chrome(PATH)\n"
     ]
    },
    {
     "name": "stdout",
     "output_type": "stream",
     "text": [
      "error 4\n",
      "todo OK\n",
      "https://open.spotify.com/track/3Kkjo3cT83cw09VJyrLNwX?si=eaeb95f3687f4cba\n"
     ]
    },
    {
     "name": "stderr",
     "output_type": "stream",
     "text": [
      "/var/folders/s4/79ykyqjn7f16bdl_zqjgsbzh0000gp/T/ipykernel_14170/863171515.py:4: DeprecationWarning: executable_path has been deprecated, please pass in a Service object\n",
      "  driver=webdriver.Chrome(PATH)\n"
     ]
    },
    {
     "name": "stdout",
     "output_type": "stream",
     "text": [
      "error 1\n",
      "todo OK\n",
      "https://open.spotify.com/track/51tMYALx6Lkrte41DoWIPq?si=efe48dd2ce1d4ae0\n"
     ]
    },
    {
     "name": "stderr",
     "output_type": "stream",
     "text": [
      "/var/folders/s4/79ykyqjn7f16bdl_zqjgsbzh0000gp/T/ipykernel_14170/863171515.py:4: DeprecationWarning: executable_path has been deprecated, please pass in a Service object\n",
      "  driver=webdriver.Chrome(PATH)\n"
     ]
    },
    {
     "name": "stdout",
     "output_type": "stream",
     "text": [
      "error 1\n",
      "todo OK\n",
      "https://open.spotify.com/track/3oB0bcIVRVZgCkWif0H4vV?si=3524e251051d4721\n"
     ]
    },
    {
     "name": "stderr",
     "output_type": "stream",
     "text": [
      "/var/folders/s4/79ykyqjn7f16bdl_zqjgsbzh0000gp/T/ipykernel_14170/863171515.py:4: DeprecationWarning: executable_path has been deprecated, please pass in a Service object\n",
      "  driver=webdriver.Chrome(PATH)\n"
     ]
    },
    {
     "name": "stdout",
     "output_type": "stream",
     "text": [
      "error 1\n",
      "error 4\n",
      "todo OK\n",
      "https://open.spotify.com/track/3oB0bcIVRVZgCkWif0H4vV?si=3524e251051d4721\n"
     ]
    },
    {
     "name": "stderr",
     "output_type": "stream",
     "text": [
      "/var/folders/s4/79ykyqjn7f16bdl_zqjgsbzh0000gp/T/ipykernel_14170/863171515.py:4: DeprecationWarning: executable_path has been deprecated, please pass in a Service object\n",
      "  driver=webdriver.Chrome(PATH)\n"
     ]
    },
    {
     "name": "stdout",
     "output_type": "stream",
     "text": [
      "error 1\n",
      "error 4\n",
      "todo OK\n",
      "https://open.spotify.com/track/3oB0bcIVRVZgCkWif0H4vV?si=3524e251051d4721\n"
     ]
    },
    {
     "name": "stderr",
     "output_type": "stream",
     "text": [
      "/var/folders/s4/79ykyqjn7f16bdl_zqjgsbzh0000gp/T/ipykernel_14170/863171515.py:4: DeprecationWarning: executable_path has been deprecated, please pass in a Service object\n",
      "  driver=webdriver.Chrome(PATH)\n"
     ]
    },
    {
     "name": "stdout",
     "output_type": "stream",
     "text": [
      "error 1\n",
      "error 4\n",
      "todo OK\n",
      "https://open.spotify.com/track/3oB0bcIVRVZgCkWif0H4vV?si=3524e251051d4721\n"
     ]
    },
    {
     "name": "stderr",
     "output_type": "stream",
     "text": [
      "/var/folders/s4/79ykyqjn7f16bdl_zqjgsbzh0000gp/T/ipykernel_14170/863171515.py:4: DeprecationWarning: executable_path has been deprecated, please pass in a Service object\n",
      "  driver=webdriver.Chrome(PATH)\n"
     ]
    },
    {
     "name": "stdout",
     "output_type": "stream",
     "text": [
      "error 1\n",
      "error 4\n",
      "todo OK\n",
      "https://open.spotify.com/track/3oB0bcIVRVZgCkWif0H4vV?si=3524e251051d4721\n"
     ]
    },
    {
     "name": "stderr",
     "output_type": "stream",
     "text": [
      "/var/folders/s4/79ykyqjn7f16bdl_zqjgsbzh0000gp/T/ipykernel_14170/863171515.py:4: DeprecationWarning: executable_path has been deprecated, please pass in a Service object\n",
      "  driver=webdriver.Chrome(PATH)\n"
     ]
    },
    {
     "name": "stdout",
     "output_type": "stream",
     "text": [
      "error 1\n",
      "error 4\n",
      "todo OK\n",
      "https://open.spotify.com/track/3oB0bcIVRVZgCkWif0H4vV?si=3524e251051d4721\n"
     ]
    },
    {
     "name": "stderr",
     "output_type": "stream",
     "text": [
      "/var/folders/s4/79ykyqjn7f16bdl_zqjgsbzh0000gp/T/ipykernel_14170/863171515.py:4: DeprecationWarning: executable_path has been deprecated, please pass in a Service object\n",
      "  driver=webdriver.Chrome(PATH)\n"
     ]
    },
    {
     "name": "stdout",
     "output_type": "stream",
     "text": [
      "error 4\n",
      "todo OK\n",
      "https://open.spotify.com/track/3oB0bcIVRVZgCkWif0H4vV?si=3524e251051d4721\n"
     ]
    },
    {
     "name": "stderr",
     "output_type": "stream",
     "text": [
      "/var/folders/s4/79ykyqjn7f16bdl_zqjgsbzh0000gp/T/ipykernel_14170/863171515.py:4: DeprecationWarning: executable_path has been deprecated, please pass in a Service object\n",
      "  driver=webdriver.Chrome(PATH)\n"
     ]
    },
    {
     "name": "stdout",
     "output_type": "stream",
     "text": [
      "error 1\n",
      "todo OK\n",
      "https://open.spotify.com/track/23E53f3C9SJ9MqBh1f6hEw?si=2240d8db57bb4142\n"
     ]
    },
    {
     "name": "stderr",
     "output_type": "stream",
     "text": [
      "/var/folders/s4/79ykyqjn7f16bdl_zqjgsbzh0000gp/T/ipykernel_14170/863171515.py:4: DeprecationWarning: executable_path has been deprecated, please pass in a Service object\n",
      "  driver=webdriver.Chrome(PATH)\n"
     ]
    },
    {
     "name": "stdout",
     "output_type": "stream",
     "text": [
      "error 1\n",
      "todo OK\n",
      "https://open.spotify.com/track/0t8HVhFzUbriYAGX97hJvu?si=f020b4c93937425c\n"
     ]
    },
    {
     "name": "stderr",
     "output_type": "stream",
     "text": [
      "/var/folders/s4/79ykyqjn7f16bdl_zqjgsbzh0000gp/T/ipykernel_14170/863171515.py:4: DeprecationWarning: executable_path has been deprecated, please pass in a Service object\n",
      "  driver=webdriver.Chrome(PATH)\n"
     ]
    },
    {
     "name": "stdout",
     "output_type": "stream",
     "text": [
      "error 1\n",
      "todo OK\n",
      "https://open.spotify.com/track/1zYMpqZTMQsF6k6HGXea5S?si=86fa75a208cc4244\n"
     ]
    },
    {
     "name": "stderr",
     "output_type": "stream",
     "text": [
      "/var/folders/s4/79ykyqjn7f16bdl_zqjgsbzh0000gp/T/ipykernel_14170/863171515.py:4: DeprecationWarning: executable_path has been deprecated, please pass in a Service object\n",
      "  driver=webdriver.Chrome(PATH)\n"
     ]
    },
    {
     "name": "stdout",
     "output_type": "stream",
     "text": [
      "todo OK\n",
      "https://open.spotify.com/track/1t0iDaXutz0LrGzSBbWGu5?si=62673a2aa0e24bbb\n"
     ]
    },
    {
     "name": "stderr",
     "output_type": "stream",
     "text": [
      "/var/folders/s4/79ykyqjn7f16bdl_zqjgsbzh0000gp/T/ipykernel_14170/863171515.py:4: DeprecationWarning: executable_path has been deprecated, please pass in a Service object\n",
      "  driver=webdriver.Chrome(PATH)\n"
     ]
    },
    {
     "name": "stdout",
     "output_type": "stream",
     "text": [
      "error 1\n",
      "todo OK\n",
      "https://open.spotify.com/track/1t0iDaXutz0LrGzSBbWGu5?si=62673a2aa0e24bbb\n"
     ]
    },
    {
     "name": "stderr",
     "output_type": "stream",
     "text": [
      "/var/folders/s4/79ykyqjn7f16bdl_zqjgsbzh0000gp/T/ipykernel_14170/863171515.py:4: DeprecationWarning: executable_path has been deprecated, please pass in a Service object\n",
      "  driver=webdriver.Chrome(PATH)\n"
     ]
    },
    {
     "name": "stdout",
     "output_type": "stream",
     "text": [
      "error 1\n",
      "error 4\n",
      "todo OK\n",
      "https://open.spotify.com/track/1t0iDaXutz0LrGzSBbWGu5?si=62673a2aa0e24bbb\n"
     ]
    },
    {
     "name": "stderr",
     "output_type": "stream",
     "text": [
      "/var/folders/s4/79ykyqjn7f16bdl_zqjgsbzh0000gp/T/ipykernel_14170/863171515.py:4: DeprecationWarning: executable_path has been deprecated, please pass in a Service object\n",
      "  driver=webdriver.Chrome(PATH)\n"
     ]
    },
    {
     "name": "stdout",
     "output_type": "stream",
     "text": [
      "error 1\n",
      "error 4\n",
      "todo OK\n",
      "https://open.spotify.com/track/1t0iDaXutz0LrGzSBbWGu5?si=62673a2aa0e24bbb\n"
     ]
    },
    {
     "name": "stderr",
     "output_type": "stream",
     "text": [
      "/var/folders/s4/79ykyqjn7f16bdl_zqjgsbzh0000gp/T/ipykernel_14170/863171515.py:4: DeprecationWarning: executable_path has been deprecated, please pass in a Service object\n",
      "  driver=webdriver.Chrome(PATH)\n"
     ]
    },
    {
     "name": "stdout",
     "output_type": "stream",
     "text": [
      "error 1\n",
      "error 4\n",
      "todo OK\n",
      "https://open.spotify.com/track/1t0iDaXutz0LrGzSBbWGu5?si=62673a2aa0e24bbb\n"
     ]
    },
    {
     "name": "stderr",
     "output_type": "stream",
     "text": [
      "/var/folders/s4/79ykyqjn7f16bdl_zqjgsbzh0000gp/T/ipykernel_14170/863171515.py:4: DeprecationWarning: executable_path has been deprecated, please pass in a Service object\n",
      "  driver=webdriver.Chrome(PATH)\n"
     ]
    },
    {
     "name": "stdout",
     "output_type": "stream",
     "text": [
      "error 1\n",
      "todo OK\n",
      "https://open.spotify.com/track/4SF22Q0YH4aVMLqdBTMlgX?si=7e7b1490d7fb43b0\n"
     ]
    },
    {
     "name": "stderr",
     "output_type": "stream",
     "text": [
      "/var/folders/s4/79ykyqjn7f16bdl_zqjgsbzh0000gp/T/ipykernel_14170/863171515.py:4: DeprecationWarning: executable_path has been deprecated, please pass in a Service object\n",
      "  driver=webdriver.Chrome(PATH)\n"
     ]
    },
    {
     "name": "stdout",
     "output_type": "stream",
     "text": [
      "error 1\n",
      "error 4\n",
      "todo OK\n",
      "https://open.spotify.com/track/4SF22Q0YH4aVMLqdBTMlgX?si=7e7b1490d7fb43b0\n"
     ]
    },
    {
     "name": "stderr",
     "output_type": "stream",
     "text": [
      "/var/folders/s4/79ykyqjn7f16bdl_zqjgsbzh0000gp/T/ipykernel_14170/863171515.py:4: DeprecationWarning: executable_path has been deprecated, please pass in a Service object\n",
      "  driver=webdriver.Chrome(PATH)\n"
     ]
    },
    {
     "name": "stdout",
     "output_type": "stream",
     "text": [
      "error 1\n",
      "todo OK\n",
      "https://open.spotify.com/track/6geGLupyd2zeViqjHp73OW?si=f06bb02639334995\n"
     ]
    },
    {
     "name": "stderr",
     "output_type": "stream",
     "text": [
      "/var/folders/s4/79ykyqjn7f16bdl_zqjgsbzh0000gp/T/ipykernel_14170/863171515.py:4: DeprecationWarning: executable_path has been deprecated, please pass in a Service object\n",
      "  driver=webdriver.Chrome(PATH)\n"
     ]
    },
    {
     "name": "stdout",
     "output_type": "stream",
     "text": [
      "error 1\n",
      "todo OK\n",
      "https://open.spotify.com/track/0Q6Pc3dqsl6qHKZ91DPUTH?si=38c05f2b61e44f95\n"
     ]
    },
    {
     "name": "stderr",
     "output_type": "stream",
     "text": [
      "/var/folders/s4/79ykyqjn7f16bdl_zqjgsbzh0000gp/T/ipykernel_14170/863171515.py:4: DeprecationWarning: executable_path has been deprecated, please pass in a Service object\n",
      "  driver=webdriver.Chrome(PATH)\n"
     ]
    },
    {
     "name": "stdout",
     "output_type": "stream",
     "text": [
      "error 1\n",
      "todo OK\n",
      "https://open.spotify.com/track/54ApOH9ZT6Sk86t8Ayuey9?si=72235b96ec4f405f\n"
     ]
    },
    {
     "name": "stderr",
     "output_type": "stream",
     "text": [
      "/var/folders/s4/79ykyqjn7f16bdl_zqjgsbzh0000gp/T/ipykernel_14170/863171515.py:4: DeprecationWarning: executable_path has been deprecated, please pass in a Service object\n",
      "  driver=webdriver.Chrome(PATH)\n"
     ]
    },
    {
     "name": "stdout",
     "output_type": "stream",
     "text": [
      "error 1\n",
      "todo OK\n",
      "https://open.spotify.com/track/5EnaxC9amhXY55ezw87SL8?si=4438910f67ec48fd\n"
     ]
    },
    {
     "name": "stderr",
     "output_type": "stream",
     "text": [
      "/var/folders/s4/79ykyqjn7f16bdl_zqjgsbzh0000gp/T/ipykernel_14170/863171515.py:4: DeprecationWarning: executable_path has been deprecated, please pass in a Service object\n",
      "  driver=webdriver.Chrome(PATH)\n"
     ]
    },
    {
     "name": "stdout",
     "output_type": "stream",
     "text": [
      "todo OK\n",
      "https://open.spotify.com/track/671sG3ETDxC3L6qcGIrHRM?si=f9c520a27b5e4a3b\n"
     ]
    },
    {
     "name": "stderr",
     "output_type": "stream",
     "text": [
      "/var/folders/s4/79ykyqjn7f16bdl_zqjgsbzh0000gp/T/ipykernel_14170/863171515.py:4: DeprecationWarning: executable_path has been deprecated, please pass in a Service object\n",
      "  driver=webdriver.Chrome(PATH)\n"
     ]
    },
    {
     "name": "stdout",
     "output_type": "stream",
     "text": [
      "todo OK\n",
      "https://open.spotify.com/track/1G4IUy4k1fvVJjyQCIaBPU?si=3d03629022644cea\n"
     ]
    },
    {
     "name": "stderr",
     "output_type": "stream",
     "text": [
      "/var/folders/s4/79ykyqjn7f16bdl_zqjgsbzh0000gp/T/ipykernel_14170/863171515.py:4: DeprecationWarning: executable_path has been deprecated, please pass in a Service object\n",
      "  driver=webdriver.Chrome(PATH)\n"
     ]
    },
    {
     "name": "stdout",
     "output_type": "stream",
     "text": [
      "error 1\n",
      "error 4\n",
      "todo OK\n",
      "https://open.spotify.com/track/1G4IUy4k1fvVJjyQCIaBPU?si=3d03629022644cea\n"
     ]
    },
    {
     "name": "stderr",
     "output_type": "stream",
     "text": [
      "/var/folders/s4/79ykyqjn7f16bdl_zqjgsbzh0000gp/T/ipykernel_14170/863171515.py:4: DeprecationWarning: executable_path has been deprecated, please pass in a Service object\n",
      "  driver=webdriver.Chrome(PATH)\n"
     ]
    },
    {
     "name": "stdout",
     "output_type": "stream",
     "text": [
      "todo OK\n",
      "https://open.spotify.com/track/0v1EnT2sDsuLnvwo7Z3N3c?si=e74e04e0b4d74206\n"
     ]
    },
    {
     "name": "stderr",
     "output_type": "stream",
     "text": [
      "/var/folders/s4/79ykyqjn7f16bdl_zqjgsbzh0000gp/T/ipykernel_14170/863171515.py:4: DeprecationWarning: executable_path has been deprecated, please pass in a Service object\n",
      "  driver=webdriver.Chrome(PATH)\n"
     ]
    },
    {
     "name": "stdout",
     "output_type": "stream",
     "text": [
      "todo OK\n",
      "https://open.spotify.com/track/7aogFQAg0TrYKwGHurgNPg?si=3ab75c95cba34203\n"
     ]
    },
    {
     "name": "stderr",
     "output_type": "stream",
     "text": [
      "/var/folders/s4/79ykyqjn7f16bdl_zqjgsbzh0000gp/T/ipykernel_14170/863171515.py:4: DeprecationWarning: executable_path has been deprecated, please pass in a Service object\n",
      "  driver=webdriver.Chrome(PATH)\n"
     ]
    },
    {
     "name": "stdout",
     "output_type": "stream",
     "text": [
      "error 4\n",
      "todo OK\n",
      "https://open.spotify.com/track/7aogFQAg0TrYKwGHurgNPg?si=3ab75c95cba34203\n"
     ]
    },
    {
     "name": "stderr",
     "output_type": "stream",
     "text": [
      "/var/folders/s4/79ykyqjn7f16bdl_zqjgsbzh0000gp/T/ipykernel_14170/863171515.py:4: DeprecationWarning: executable_path has been deprecated, please pass in a Service object\n",
      "  driver=webdriver.Chrome(PATH)\n"
     ]
    },
    {
     "name": "stdout",
     "output_type": "stream",
     "text": [
      "error 1\n",
      "error 4\n",
      "todo OK\n",
      "https://open.spotify.com/track/7aogFQAg0TrYKwGHurgNPg?si=3ab75c95cba34203\n"
     ]
    },
    {
     "name": "stderr",
     "output_type": "stream",
     "text": [
      "/var/folders/s4/79ykyqjn7f16bdl_zqjgsbzh0000gp/T/ipykernel_14170/863171515.py:4: DeprecationWarning: executable_path has been deprecated, please pass in a Service object\n",
      "  driver=webdriver.Chrome(PATH)\n"
     ]
    },
    {
     "name": "stdout",
     "output_type": "stream",
     "text": [
      "error 1\n",
      "error 4\n",
      "todo OK\n",
      "https://open.spotify.com/track/7aogFQAg0TrYKwGHurgNPg?si=3ab75c95cba34203\n"
     ]
    },
    {
     "name": "stderr",
     "output_type": "stream",
     "text": [
      "/var/folders/s4/79ykyqjn7f16bdl_zqjgsbzh0000gp/T/ipykernel_14170/863171515.py:4: DeprecationWarning: executable_path has been deprecated, please pass in a Service object\n",
      "  driver=webdriver.Chrome(PATH)\n"
     ]
    },
    {
     "name": "stdout",
     "output_type": "stream",
     "text": [
      "error 1\n",
      "error 4\n",
      "todo OK\n",
      "https://open.spotify.com/track/7aogFQAg0TrYKwGHurgNPg?si=3ab75c95cba34203\n"
     ]
    },
    {
     "name": "stderr",
     "output_type": "stream",
     "text": [
      "/var/folders/s4/79ykyqjn7f16bdl_zqjgsbzh0000gp/T/ipykernel_14170/863171515.py:4: DeprecationWarning: executable_path has been deprecated, please pass in a Service object\n",
      "  driver=webdriver.Chrome(PATH)\n"
     ]
    },
    {
     "name": "stdout",
     "output_type": "stream",
     "text": [
      "error 1\n",
      "todo OK\n",
      "https://open.spotify.com/track/5QAya5bSSiKlh1h4qeeq38?si=3dc14cc2e4404fa7\n"
     ]
    },
    {
     "name": "stderr",
     "output_type": "stream",
     "text": [
      "/var/folders/s4/79ykyqjn7f16bdl_zqjgsbzh0000gp/T/ipykernel_14170/863171515.py:4: DeprecationWarning: executable_path has been deprecated, please pass in a Service object\n",
      "  driver=webdriver.Chrome(PATH)\n"
     ]
    },
    {
     "name": "stdout",
     "output_type": "stream",
     "text": [
      "error 1\n",
      "error 4\n",
      "todo OK\n",
      "https://open.spotify.com/track/5QAya5bSSiKlh1h4qeeq38?si=3dc14cc2e4404fa7\n"
     ]
    },
    {
     "name": "stderr",
     "output_type": "stream",
     "text": [
      "/var/folders/s4/79ykyqjn7f16bdl_zqjgsbzh0000gp/T/ipykernel_14170/863171515.py:4: DeprecationWarning: executable_path has been deprecated, please pass in a Service object\n",
      "  driver=webdriver.Chrome(PATH)\n"
     ]
    },
    {
     "name": "stdout",
     "output_type": "stream",
     "text": [
      "error 4\n",
      "todo OK\n",
      "https://open.spotify.com/track/5QAya5bSSiKlh1h4qeeq38?si=3dc14cc2e4404fa7\n"
     ]
    },
    {
     "name": "stderr",
     "output_type": "stream",
     "text": [
      "/var/folders/s4/79ykyqjn7f16bdl_zqjgsbzh0000gp/T/ipykernel_14170/863171515.py:4: DeprecationWarning: executable_path has been deprecated, please pass in a Service object\n",
      "  driver=webdriver.Chrome(PATH)\n"
     ]
    },
    {
     "name": "stdout",
     "output_type": "stream",
     "text": [
      "todo OK\n",
      "https://open.spotify.com/track/4HYDUMY0xSpeBr0AMY9cUz?si=565ebd5bb0ce4be9\n"
     ]
    },
    {
     "name": "stderr",
     "output_type": "stream",
     "text": [
      "/var/folders/s4/79ykyqjn7f16bdl_zqjgsbzh0000gp/T/ipykernel_14170/863171515.py:4: DeprecationWarning: executable_path has been deprecated, please pass in a Service object\n",
      "  driver=webdriver.Chrome(PATH)\n"
     ]
    },
    {
     "name": "stdout",
     "output_type": "stream",
     "text": [
      "todo OK\n",
      "https://open.spotify.com/track/53w7xjn8fwwU8Pc6rgMm5v?si=9da48689b0f24f32\n"
     ]
    },
    {
     "name": "stderr",
     "output_type": "stream",
     "text": [
      "/var/folders/s4/79ykyqjn7f16bdl_zqjgsbzh0000gp/T/ipykernel_14170/863171515.py:4: DeprecationWarning: executable_path has been deprecated, please pass in a Service object\n",
      "  driver=webdriver.Chrome(PATH)\n"
     ]
    },
    {
     "name": "stdout",
     "output_type": "stream",
     "text": [
      "error 1\n",
      "error 4\n",
      "todo OK\n",
      "https://open.spotify.com/track/53w7xjn8fwwU8Pc6rgMm5v?si=9da48689b0f24f32\n"
     ]
    },
    {
     "name": "stderr",
     "output_type": "stream",
     "text": [
      "/var/folders/s4/79ykyqjn7f16bdl_zqjgsbzh0000gp/T/ipykernel_14170/863171515.py:4: DeprecationWarning: executable_path has been deprecated, please pass in a Service object\n",
      "  driver=webdriver.Chrome(PATH)\n"
     ]
    },
    {
     "name": "stdout",
     "output_type": "stream",
     "text": [
      "error 1\n",
      "error 4\n",
      "todo OK\n",
      "https://open.spotify.com/track/53w7xjn8fwwU8Pc6rgMm5v?si=9da48689b0f24f32\n"
     ]
    },
    {
     "name": "stderr",
     "output_type": "stream",
     "text": [
      "/var/folders/s4/79ykyqjn7f16bdl_zqjgsbzh0000gp/T/ipykernel_14170/863171515.py:4: DeprecationWarning: executable_path has been deprecated, please pass in a Service object\n",
      "  driver=webdriver.Chrome(PATH)\n"
     ]
    },
    {
     "name": "stdout",
     "output_type": "stream",
     "text": [
      "error 1\n",
      "todo OK\n",
      "https://open.spotify.com/track/0q7psxaixBQ8FkqyVpbfky?si=6fcfb6a876e6465e\n"
     ]
    },
    {
     "name": "stderr",
     "output_type": "stream",
     "text": [
      "/var/folders/s4/79ykyqjn7f16bdl_zqjgsbzh0000gp/T/ipykernel_14170/863171515.py:4: DeprecationWarning: executable_path has been deprecated, please pass in a Service object\n",
      "  driver=webdriver.Chrome(PATH)\n"
     ]
    },
    {
     "name": "stdout",
     "output_type": "stream",
     "text": [
      "error 1\n",
      "todo OK\n",
      "https://open.spotify.com/track/2tnVG71enUj33Ic2nFN6kZ?si=fcfcded4d91e4338\n"
     ]
    },
    {
     "name": "stderr",
     "output_type": "stream",
     "text": [
      "/var/folders/s4/79ykyqjn7f16bdl_zqjgsbzh0000gp/T/ipykernel_14170/863171515.py:4: DeprecationWarning: executable_path has been deprecated, please pass in a Service object\n",
      "  driver=webdriver.Chrome(PATH)\n"
     ]
    },
    {
     "name": "stdout",
     "output_type": "stream",
     "text": [
      "todo OK\n",
      "https://open.spotify.com/track/0IqCoZ168iRc9LqfrYgpZy?si=06a688f6b6ac47ef\n"
     ]
    },
    {
     "name": "stderr",
     "output_type": "stream",
     "text": [
      "/var/folders/s4/79ykyqjn7f16bdl_zqjgsbzh0000gp/T/ipykernel_14170/863171515.py:4: DeprecationWarning: executable_path has been deprecated, please pass in a Service object\n",
      "  driver=webdriver.Chrome(PATH)\n"
     ]
    },
    {
     "name": "stdout",
     "output_type": "stream",
     "text": [
      "todo OK\n",
      "https://open.spotify.com/track/2u0cV9ctd6AcnMBbDFk88b?si=886b447936f74d68\n"
     ]
    },
    {
     "name": "stderr",
     "output_type": "stream",
     "text": [
      "/var/folders/s4/79ykyqjn7f16bdl_zqjgsbzh0000gp/T/ipykernel_14170/863171515.py:4: DeprecationWarning: executable_path has been deprecated, please pass in a Service object\n",
      "  driver=webdriver.Chrome(PATH)\n"
     ]
    },
    {
     "name": "stdout",
     "output_type": "stream",
     "text": [
      "error 1\n",
      "todo OK\n",
      "https://open.spotify.com/track/28RZOw2Kp8w8U3FElzIFJQ?si=1948c764d7124d91\n"
     ]
    },
    {
     "name": "stderr",
     "output_type": "stream",
     "text": [
      "/var/folders/s4/79ykyqjn7f16bdl_zqjgsbzh0000gp/T/ipykernel_14170/863171515.py:4: DeprecationWarning: executable_path has been deprecated, please pass in a Service object\n",
      "  driver=webdriver.Chrome(PATH)\n"
     ]
    },
    {
     "name": "stdout",
     "output_type": "stream",
     "text": [
      "todo OK\n",
      "https://open.spotify.com/track/2HpbDdD3JLpAPMJFYCeC6o?si=d5323ab535a740fa\n"
     ]
    },
    {
     "name": "stderr",
     "output_type": "stream",
     "text": [
      "/var/folders/s4/79ykyqjn7f16bdl_zqjgsbzh0000gp/T/ipykernel_14170/863171515.py:4: DeprecationWarning: executable_path has been deprecated, please pass in a Service object\n",
      "  driver=webdriver.Chrome(PATH)\n"
     ]
    },
    {
     "name": "stdout",
     "output_type": "stream",
     "text": [
      "error 1\n",
      "todo OK\n",
      "https://open.spotify.com/track/7pQMGkL6LImxSxHHuqgvpe?si=4f0f1e86082f41e8\n"
     ]
    },
    {
     "name": "stderr",
     "output_type": "stream",
     "text": [
      "/var/folders/s4/79ykyqjn7f16bdl_zqjgsbzh0000gp/T/ipykernel_14170/863171515.py:4: DeprecationWarning: executable_path has been deprecated, please pass in a Service object\n",
      "  driver=webdriver.Chrome(PATH)\n"
     ]
    },
    {
     "name": "stdout",
     "output_type": "stream",
     "text": [
      "error 1\n",
      "error 4\n",
      "todo OK\n",
      "/var/folders/s4/79ykyqjn7f16bdl_zqjgsbzh0000gp/T/ipykernel_14170/863171515.py:4: DeprecationWarning: executable_path has been deprecated, please pass in a Service object\n",
      "  driver=webdriver.Chrome(PATH)\n",
      "error 1\n",
      "todo OK\n",
      "https://open.spotify.com/track/6c32C8T3KlXrbvWSoD5aON?si=7faa3447201146b4\n",
      "/var/folders/s4/79ykyqjn7f16bdl_zqjgsbzh0000gp/T/ipykernel_14170/863171515.py:4: DeprecationWarning: executable_path has been deprecated, please pass in a Service object\n",
      "  driver=webdriver.Chrome(PATH)\n",
      "error 4\n",
      "todo OK\n",
      "https://open.spotify.com/track/6c32C8T3KlXrbvWSoD5aON?si=7faa3447201146b4\n",
      "/var/folders/s4/79ykyqjn7f16bdl_zqjgsbzh0000gp/T/ipykernel_14170/863171515.py:4: DeprecationWarning: executable_path has been deprecated, please pass in a Service object\n",
      "  driver=webdriver.Chrome(PATH)\n",
      "todo OK\n",
      "https://open.spotify.com/track/7MuU7UbVaKyu4HkHBoHwrD?si=92d251b2ab054626\n",
      "/var/folders/s4/79ykyqjn7f16bdl_zqjgsbzh0000gp/T/ipykernel_14170/863171515.py:4: DeprecationWarning: executable_path has been deprecated, please pass in a Service object\n",
      "  driver=webdriver.Chrome(PATH)\n",
      "error 1\n",
      "todo OK\n",
      "https://open.spotify.com/track/4riDfclV7kPDT9D58FpmHd?si=fd1dca8f4d094b65\n",
      "/var/folders/s4/79ykyqjn7f16bdl_zqjgsbzh0000gp/T/ipykernel_14170/863171515.py:4: DeprecationWarning: executable_path has been deprecated, please pass in a Service object\n",
      "  driver=webdriver.Chrome(PATH)\n",
      "error 1\n",
      "todo OK\n",
      "https://open.spotify.com/track/0LtOwyZoSNZKJWHqjzADpW?si=b0f8b456fb6c444c\n",
      "/var/folders/s4/79ykyqjn7f16bdl_zqjgsbzh0000gp/T/ipykernel_14170/863171515.py:4: DeprecationWarning: executable_path has been deprecated, please pass in a Service object\n",
      "  driver=webdriver.Chrome(PATH)\n",
      "todo OK\n",
      "https://open.spotify.com/track/2t0wwvR15fc3K1ey8OiOaN?si=5ff5fab972034298\n",
      "/var/folders/s4/79ykyqjn7f16bdl_zqjgsbzh0000gp/T/ipykernel_14170/863171515.py:4: DeprecationWarning: executable_path has been deprecated, please pass in a Service object\n",
      "  driver=webdriver.Chrome(PATH)\n",
      "error 1\n",
      "error 4\n",
      "todo OK\n",
      "https://open.spotify.com/track/2t0wwvR15fc3K1ey8OiOaN?si=5ff5fab972034298\n",
      "/var/folders/s4/79ykyqjn7f16bdl_zqjgsbzh0000gp/T/ipykernel_14170/863171515.py:4: DeprecationWarning: executable_path has been deprecated, please pass in a Service object\n",
      "  driver=webdriver.Chrome(PATH)\n",
      "error 1\n",
      "todo OK\n",
      "https://open.spotify.com/track/3E73eFyGL6v10qlK3jiLyR?si=3dfe9870c7c345dd\n",
      "/var/folders/s4/79ykyqjn7f16bdl_zqjgsbzh0000gp/T/ipykernel_14170/863171515.py:4: DeprecationWarning: executable_path has been deprecated, please pass in a Service object\n",
      "  driver=webdriver.Chrome(PATH)\n",
      "error 1\n",
      "todo OK\n",
      "https://open.spotify.com/track/2d3QlXE6FXFDeodiS66yjM?si=fc0b80e179f14114\n",
      "/var/folders/s4/79ykyqjn7f16bdl_zqjgsbzh0000gp/T/ipykernel_14170/863171515.py:4: DeprecationWarning: executable_path has been deprecated, please pass in a Service object\n",
      "  driver=webdriver.Chrome(PATH)\n",
      "todo OK\n",
      "https://open.spotify.com/track/12jmugLskEWmYRLKYfMNSk?si=7f87e862f7e24692\n",
      "/var/folders/s4/79ykyqjn7f16bdl_zqjgsbzh0000gp/T/ipykernel_14170/863171515.py:4: DeprecationWarning: executable_path has been deprecated, please pass in a Service object\n",
      "  driver=webdriver.Chrome(PATH)\n",
      "error 1\n",
      "todo OK\n",
      "https://open.spotify.com/track/4fPBB44eDH71YohayI4eKV?si=95dff630b0bd4451\n",
      "/var/folders/s4/79ykyqjn7f16bdl_zqjgsbzh0000gp/T/ipykernel_14170/863171515.py:4: DeprecationWarning: executable_path has been deprecated, please pass in a Service object\n",
      "  driver=webdriver.Chrome(PATH)\n",
      "todo OK\n",
      "https://open.spotify.com/track/3gBUiBPKh4ept9hoG0G93N?si=2cd3cda39c2e4bb1\n",
      "/var/folders/s4/79ykyqjn7f16bdl_zqjgsbzh0000gp/T/ipykernel_14170/863171515.py:4: DeprecationWarning: executable_path has been deprecated, please pass in a Service object\n",
      "  driver=webdriver.Chrome(PATH)\n",
      "error 1\n",
      "todo OK\n",
      "https://open.spotify.com/track/7w87IxuO7BDcJ3YUqCyMTT?si=92be27bda3a644fa\n",
      "/var/folders/s4/79ykyqjn7f16bdl_zqjgsbzh0000gp/T/ipykernel_14170/863171515.py:4: DeprecationWarning: executable_path has been deprecated, please pass in a Service object\n",
      "  driver=webdriver.Chrome(PATH)\n",
      "error 1\n",
      "todo OK\n",
      "https://open.spotify.com/track/6qZjm61s6u8Ead9sWxCDro?si=e035621e6fd446d8\n",
      "/var/folders/s4/79ykyqjn7f16bdl_zqjgsbzh0000gp/T/ipykernel_14170/863171515.py:4: DeprecationWarning: executable_path has been deprecated, please pass in a Service object\n",
      "  driver=webdriver.Chrome(PATH)\n",
      "error 4\n",
      "todo OK\n",
      "https://open.spotify.com/track/6qZjm61s6u8Ead9sWxCDro?si=e035621e6fd446d8\n",
      "/var/folders/s4/79ykyqjn7f16bdl_zqjgsbzh0000gp/T/ipykernel_14170/863171515.py:4: DeprecationWarning: executable_path has been deprecated, please pass in a Service object\n",
      "  driver=webdriver.Chrome(PATH)\n",
      "error 1\n",
      "error 4\n",
      "todo OK\n",
      "https://open.spotify.com/track/6qZjm61s6u8Ead9sWxCDro?si=e035621e6fd446d8\n",
      "/var/folders/s4/79ykyqjn7f16bdl_zqjgsbzh0000gp/T/ipykernel_14170/863171515.py:4: DeprecationWarning: executable_path has been deprecated, please pass in a Service object\n",
      "  driver=webdriver.Chrome(PATH)\n",
      "error 1\n",
      "todo OK\n",
      "https://open.spotify.com/track/0RhO0RV0YKyF05kZ4uQOHW?si=82d16d89a34e4dcd\n",
      "/var/folders/s4/79ykyqjn7f16bdl_zqjgsbzh0000gp/T/ipykernel_14170/863171515.py:4: DeprecationWarning: executable_path has been deprecated, please pass in a Service object\n",
      "  driver=webdriver.Chrome(PATH)\n",
      "error 1\n",
      "error 4\n",
      "todo OK\n",
      "https://open.spotify.com/track/0RhO0RV0YKyF05kZ4uQOHW?si=82d16d89a34e4dcd\n",
      "/var/folders/s4/79ykyqjn7f16bdl_zqjgsbzh0000gp/T/ipykernel_14170/863171515.py:4: DeprecationWarning: executable_path has been deprecated, please pass in a Service object\n",
      "  driver=webdriver.Chrome(PATH)\n",
      "error 1\n",
      "error 4\n",
      "todo OK\n",
      "https://open.spotify.com/track/0RhO0RV0YKyF05kZ4uQOHW?si=82d16d89a34e4dcd\n",
      "/var/folders/s4/79ykyqjn7f16bdl_zqjgsbzh0000gp/T/ipykernel_14170/863171515.py:4: DeprecationWarning: executable_path has been deprecated, please pass in a Service object\n",
      "  driver=webdriver.Chrome(PATH)\n",
      "error 1\n",
      "error 4\n",
      "todo OK\n",
      "https://open.spotify.com/track/0RhO0RV0YKyF05kZ4uQOHW?si=82d16d89a34e4dcd\n",
      "/var/folders/s4/79ykyqjn7f16bdl_zqjgsbzh0000gp/T/ipykernel_14170/863171515.py:4: DeprecationWarning: executable_path has been deprecated, please pass in a Service object\n",
      "  driver=webdriver.Chrome(PATH)\n",
      "error 1\n",
      "todo OK\n",
      "https://open.spotify.com/track/0QPZhPlcaKUKZbhNv0Hj4i?si=91f8c76a7d3c45dd\n",
      "/var/folders/s4/79ykyqjn7f16bdl_zqjgsbzh0000gp/T/ipykernel_14170/863171515.py:4: DeprecationWarning: executable_path has been deprecated, please pass in a Service object\n",
      "  driver=webdriver.Chrome(PATH)\n",
      "todo OK\n",
      "https://open.spotify.com/track/1iRvhKiXRElIH2Uf4gd95P?si=8eae67641f854391\n",
      "/var/folders/s4/79ykyqjn7f16bdl_zqjgsbzh0000gp/T/ipykernel_14170/863171515.py:4: DeprecationWarning: executable_path has been deprecated, please pass in a Service object\n",
      "  driver=webdriver.Chrome(PATH)\n",
      "error 4\n",
      "todo OK\n",
      "https://open.spotify.com/track/1iRvhKiXRElIH2Uf4gd95P?si=8eae67641f854391\n",
      "/var/folders/s4/79ykyqjn7f16bdl_zqjgsbzh0000gp/T/ipykernel_14170/863171515.py:4: DeprecationWarning: executable_path has been deprecated, please pass in a Service object\n",
      "  driver=webdriver.Chrome(PATH)\n",
      "error 1\n",
      "todo OK\n",
      "https://open.spotify.com/track/2SL6oP2YAEQbqsrkOzRGO4?si=8502d7fdb0aa4103\n",
      "/var/folders/s4/79ykyqjn7f16bdl_zqjgsbzh0000gp/T/ipykernel_14170/863171515.py:4: DeprecationWarning: executable_path has been deprecated, please pass in a Service object\n",
      "  driver=webdriver.Chrome(PATH)\n",
      "error 1\n",
      "todo OK\n",
      "https://open.spotify.com/track/7lQ8MOhq6IN2w8EYcFNSUk?si=3450006682d943a0\n",
      "/var/folders/s4/79ykyqjn7f16bdl_zqjgsbzh0000gp/T/ipykernel_14170/863171515.py:4: DeprecationWarning: executable_path has been deprecated, please pass in a Service object\n",
      "  driver=webdriver.Chrome(PATH)\n",
      "error 1\n",
      "todo OK\n",
      "https://open.spotify.com/track/1v7L65Lzy0j0vdpRjJewt1?si=86df3c5aee2a43d0\n",
      "/var/folders/s4/79ykyqjn7f16bdl_zqjgsbzh0000gp/T/ipykernel_14170/863171515.py:4: DeprecationWarning: executable_path has been deprecated, please pass in a Service object\n",
      "  driver=webdriver.Chrome(PATH)\n",
      "error 1\n",
      "error 4\n",
      "todo OK\n",
      "https://open.spotify.com/track/1v7L65Lzy0j0vdpRjJewt1?si=86df3c5aee2a43d0\n",
      "/var/folders/s4/79ykyqjn7f16bdl_zqjgsbzh0000gp/T/ipykernel_14170/863171515.py:4: DeprecationWarning: executable_path has been deprecated, please pass in a Service object\n",
      "  driver=webdriver.Chrome(PATH)\n",
      "error 1\n",
      "error 4\n",
      "todo OK\n",
      "https://open.spotify.com/track/1v7L65Lzy0j0vdpRjJewt1?si=86df3c5aee2a43d0\n",
      "/var/folders/s4/79ykyqjn7f16bdl_zqjgsbzh0000gp/T/ipykernel_14170/863171515.py:4: DeprecationWarning: executable_path has been deprecated, please pass in a Service object\n",
      "  driver=webdriver.Chrome(PATH)\n",
      "error 1\n",
      "error 4\n",
      "todo OK\n",
      "https://open.spotify.com/track/1v7L65Lzy0j0vdpRjJewt1?si=86df3c5aee2a43d0\n",
      "/var/folders/s4/79ykyqjn7f16bdl_zqjgsbzh0000gp/T/ipykernel_14170/863171515.py:4: DeprecationWarning: executable_path has been deprecated, please pass in a Service object\n",
      "  driver=webdriver.Chrome(PATH)\n",
      "todo OK\n",
      "https://open.spotify.com/track/1EvR32o6JMqRyE6pm2emhk?si=dfe46cdb02934433\n",
      "/var/folders/s4/79ykyqjn7f16bdl_zqjgsbzh0000gp/T/ipykernel_14170/863171515.py:4: DeprecationWarning: executable_path has been deprecated, please pass in a Service object\n",
      "  driver=webdriver.Chrome(PATH)\n",
      "error 1\n",
      "todo OK\n",
      "https://open.spotify.com/track/4CDIEKHMb2MBgvgHBkhiJD?si=6aa4c0e9ef4540c9\n",
      "/var/folders/s4/79ykyqjn7f16bdl_zqjgsbzh0000gp/T/ipykernel_14170/863171515.py:4: DeprecationWarning: executable_path has been deprecated, please pass in a Service object\n",
      "  driver=webdriver.Chrome(PATH)\n",
      "todo OK\n",
      "https://open.spotify.com/track/4LHZ5lPxwIhMyyTIJOEj4V?si=f9472c7cf8bf41cc\n",
      "/var/folders/s4/79ykyqjn7f16bdl_zqjgsbzh0000gp/T/ipykernel_14170/863171515.py:4: DeprecationWarning: executable_path has been deprecated, please pass in a Service object\n",
      "  driver=webdriver.Chrome(PATH)\n",
      "error 1\n",
      "error 4\n",
      "todo OK\n",
      "https://open.spotify.com/track/4LHZ5lPxwIhMyyTIJOEj4V?si=f9472c7cf8bf41cc\n",
      "/var/folders/s4/79ykyqjn7f16bdl_zqjgsbzh0000gp/T/ipykernel_14170/863171515.py:4: DeprecationWarning: executable_path has been deprecated, please pass in a Service object\n",
      "  driver=webdriver.Chrome(PATH)\n",
      "error 1\n",
      "todo OK\n",
      "https://open.spotify.com/track/6kUaRtXf19fu5IQWjmwsEJ?si=7ddda64cb65d4a69\n",
      "/var/folders/s4/79ykyqjn7f16bdl_zqjgsbzh0000gp/T/ipykernel_14170/863171515.py:4: DeprecationWarning: executable_path has been deprecated, please pass in a Service object\n",
      "  driver=webdriver.Chrome(PATH)\n",
      "error 1\n",
      "todo OK\n",
      "https://open.spotify.com/track/3yfqSUWxFvZELEM4PmlwIR?si=d2c2bb13e3bb46f9\n",
      "/var/folders/s4/79ykyqjn7f16bdl_zqjgsbzh0000gp/T/ipykernel_14170/863171515.py:4: DeprecationWarning: executable_path has been deprecated, please pass in a Service object\n",
      "  driver=webdriver.Chrome(PATH)\n",
      "error 1\n",
      "todo OK\n",
      "https://open.spotify.com/track/23wfXwnsPZYe5A1xXRHb3J?si=df8df1aa651a4774\n",
      "/var/folders/s4/79ykyqjn7f16bdl_zqjgsbzh0000gp/T/ipykernel_14170/863171515.py:4: DeprecationWarning: executable_path has been deprecated, please pass in a Service object\n",
      "  driver=webdriver.Chrome(PATH)\n",
      "error 1\n",
      "error 4\n",
      "todo OK\n",
      "https://open.spotify.com/track/23wfXwnsPZYe5A1xXRHb3J?si=df8df1aa651a4774\n",
      "/var/folders/s4/79ykyqjn7f16bdl_zqjgsbzh0000gp/T/ipykernel_14170/863171515.py:4: DeprecationWarning: executable_path has been deprecated, please pass in a Service object\n",
      "  driver=webdriver.Chrome(PATH)\n",
      "error 1\n",
      "todo OK\n",
      "https://open.spotify.com/track/0F2sfIqC4Csaiow6WBbAbC?si=e5cf18995e5f4317\n",
      "/var/folders/s4/79ykyqjn7f16bdl_zqjgsbzh0000gp/T/ipykernel_14170/863171515.py:4: DeprecationWarning: executable_path has been deprecated, please pass in a Service object\n",
      "  driver=webdriver.Chrome(PATH)\n",
      "todo OK\n",
      "https://open.spotify.com/track/6cS9PmLky2NhLOhpIsUlow?si=74e663e5381c47df\n",
      "/var/folders/s4/79ykyqjn7f16bdl_zqjgsbzh0000gp/T/ipykernel_14170/863171515.py:4: DeprecationWarning: executable_path has been deprecated, please pass in a Service object\n",
      "  driver=webdriver.Chrome(PATH)\n",
      "error 4\n",
      "todo OK\n",
      "https://open.spotify.com/track/6cS9PmLky2NhLOhpIsUlow?si=74e663e5381c47df\n",
      "/var/folders/s4/79ykyqjn7f16bdl_zqjgsbzh0000gp/T/ipykernel_14170/863171515.py:4: DeprecationWarning: executable_path has been deprecated, please pass in a Service object\n",
      "  driver=webdriver.Chrome(PATH)\n",
      "todo OK\n",
      "https://open.spotify.com/track/5aDyBLLClzgvg1W0avKyiZ?si=ba6784dd33094c66\n",
      "/var/folders/s4/79ykyqjn7f16bdl_zqjgsbzh0000gp/T/ipykernel_14170/863171515.py:4: DeprecationWarning: executable_path has been deprecated, please pass in a Service object\n",
      "  driver=webdriver.Chrome(PATH)\n",
      "error 4\n",
      "todo OK\n",
      "https://open.spotify.com/track/5aDyBLLClzgvg1W0avKyiZ?si=ba6784dd33094c66\n",
      "/var/folders/s4/79ykyqjn7f16bdl_zqjgsbzh0000gp/T/ipykernel_14170/863171515.py:4: DeprecationWarning: executable_path has been deprecated, please pass in a Service object\n",
      "  driver=webdriver.Chrome(PATH)\n",
      "todo OK\n",
      "https://open.spotify.com/track/6or1bKJiZ06IlK0vFvY75k?si=6db1859ff1e6457a\n",
      "/var/folders/s4/79ykyqjn7f16bdl_zqjgsbzh0000gp/T/ipykernel_14170/863171515.py:4: DeprecationWarning: executable_path has been deprecated, please pass in a Service object\n",
      "  driver=webdriver.Chrome(PATH)\n",
      "error 1\n",
      "error 4\n",
      "todo OK\n",
      "https://open.spotify.com/track/6or1bKJiZ06IlK0vFvY75k?si=6db1859ff1e6457a\n",
      "/var/folders/s4/79ykyqjn7f16bdl_zqjgsbzh0000gp/T/ipykernel_14170/863171515.py:4: DeprecationWarning: executable_path has been deprecated, please pass in a Service object\n",
      "  driver=webdriver.Chrome(PATH)\n",
      "error 1\n",
      "error 4\n",
      "todo OK\n",
      "https://open.spotify.com/track/6or1bKJiZ06IlK0vFvY75k?si=6db1859ff1e6457a\n",
      "/var/folders/s4/79ykyqjn7f16bdl_zqjgsbzh0000gp/T/ipykernel_14170/863171515.py:4: DeprecationWarning: executable_path has been deprecated, please pass in a Service object\n",
      "  driver=webdriver.Chrome(PATH)\n",
      "error 1\n",
      "error 4\n",
      "todo OK\n",
      "https://open.spotify.com/track/6or1bKJiZ06IlK0vFvY75k?si=6db1859ff1e6457a\n",
      "/var/folders/s4/79ykyqjn7f16bdl_zqjgsbzh0000gp/T/ipykernel_14170/863171515.py:4: DeprecationWarning: executable_path has been deprecated, please pass in a Service object\n",
      "  driver=webdriver.Chrome(PATH)\n",
      "error 1\n",
      "todo OK\n",
      "https://open.spotify.com/track/1IJlrWzWI5Ukk5BSl1gnYD?si=1e756b81946f49b6\n",
      "/var/folders/s4/79ykyqjn7f16bdl_zqjgsbzh0000gp/T/ipykernel_14170/863171515.py:4: DeprecationWarning: executable_path has been deprecated, please pass in a Service object\n",
      "  driver=webdriver.Chrome(PATH)\n",
      "error 1\n",
      "error 4\n",
      "todo OK\n",
      "https://open.spotify.com/track/1IJlrWzWI5Ukk5BSl1gnYD?si=1e756b81946f49b6\n",
      "/var/folders/s4/79ykyqjn7f16bdl_zqjgsbzh0000gp/T/ipykernel_14170/863171515.py:4: DeprecationWarning: executable_path has been deprecated, please pass in a Service object\n",
      "  driver=webdriver.Chrome(PATH)\n",
      "error 1\n",
      "todo OK\n",
      "https://open.spotify.com/track/1MkDGQvM8CRrMIcHxjTni5?si=26f0a87f071e4b99\n",
      "/var/folders/s4/79ykyqjn7f16bdl_zqjgsbzh0000gp/T/ipykernel_14170/863171515.py:4: DeprecationWarning: executable_path has been deprecated, please pass in a Service object\n",
      "  driver=webdriver.Chrome(PATH)\n",
      "error 4\n",
      "todo OK\n",
      "https://open.spotify.com/track/1MkDGQvM8CRrMIcHxjTni5?si=26f0a87f071e4b99\n",
      "/var/folders/s4/79ykyqjn7f16bdl_zqjgsbzh0000gp/T/ipykernel_14170/863171515.py:4: DeprecationWarning: executable_path has been deprecated, please pass in a Service object\n",
      "  driver=webdriver.Chrome(PATH)\n",
      "error 1\n",
      "todo OK\n",
      "https://open.spotify.com/track/6iS2fgOEJFlpGftO81En1i?si=61076f8415b344f3\n",
      "/var/folders/s4/79ykyqjn7f16bdl_zqjgsbzh0000gp/T/ipykernel_14170/863171515.py:4: DeprecationWarning: executable_path has been deprecated, please pass in a Service object\n",
      "  driver=webdriver.Chrome(PATH)\n",
      "todo OK\n",
      "https://open.spotify.com/track/2i1RPs2CVW6Iw92PuWcQgF?si=1012a5875dae4a43\n",
      "/var/folders/s4/79ykyqjn7f16bdl_zqjgsbzh0000gp/T/ipykernel_14170/863171515.py:4: DeprecationWarning: executable_path has been deprecated, please pass in a Service object\n",
      "  driver=webdriver.Chrome(PATH)\n",
      "error 4\n",
      "todo OK\n",
      "https://open.spotify.com/track/2i1RPs2CVW6Iw92PuWcQgF?si=1012a5875dae4a43\n",
      "/var/folders/s4/79ykyqjn7f16bdl_zqjgsbzh0000gp/T/ipykernel_14170/863171515.py:4: DeprecationWarning: executable_path has been deprecated, please pass in a Service object\n",
      "  driver=webdriver.Chrome(PATH)\n",
      "error 4\n",
      "todo OK\n",
      "https://open.spotify.com/track/2i1RPs2CVW6Iw92PuWcQgF?si=1012a5875dae4a43\n",
      "/var/folders/s4/79ykyqjn7f16bdl_zqjgsbzh0000gp/T/ipykernel_14170/863171515.py:4: DeprecationWarning: executable_path has been deprecated, please pass in a Service object\n",
      "  driver=webdriver.Chrome(PATH)\n",
      "error 1\n",
      "todo OK\n",
      "https://open.spotify.com/track/6Uj1ctrBOjOas8xZXGqKk4?si=83dbf6cbf1f44988\n",
      "/var/folders/s4/79ykyqjn7f16bdl_zqjgsbzh0000gp/T/ipykernel_14170/863171515.py:4: DeprecationWarning: executable_path has been deprecated, please pass in a Service object\n",
      "  driver=webdriver.Chrome(PATH)\n",
      "error 1\n",
      "todo OK\n",
      "https://open.spotify.com/track/0CsR9Y9SnC6ZWmekmVqSHz?si=b4b12e5da41145c3\n",
      "/var/folders/s4/79ykyqjn7f16bdl_zqjgsbzh0000gp/T/ipykernel_14170/863171515.py:4: DeprecationWarning: executable_path has been deprecated, please pass in a Service object\n",
      "  driver=webdriver.Chrome(PATH)\n",
      "error 1\n",
      "error 4\n",
      "todo OK\n",
      "https://open.spotify.com/track/0CsR9Y9SnC6ZWmekmVqSHz?si=b4b12e5da41145c3\n",
      "/var/folders/s4/79ykyqjn7f16bdl_zqjgsbzh0000gp/T/ipykernel_14170/863171515.py:4: DeprecationWarning: executable_path has been deprecated, please pass in a Service object\n",
      "  driver=webdriver.Chrome(PATH)\n",
      "todo OK\n",
      "https://open.spotify.com/track/3Vi5XqYrmQgOYBajMWSvCi?si=e870998e18b443eb\n",
      "/var/folders/s4/79ykyqjn7f16bdl_zqjgsbzh0000gp/T/ipykernel_14170/863171515.py:4: DeprecationWarning: executable_path has been deprecated, please pass in a Service object\n",
      "  driver=webdriver.Chrome(PATH)\n",
      "error 1\n",
      "todo OK\n",
      "https://open.spotify.com/track/0W6I02J9xcqK8MtSeosEXb?si=bceab2421c1945d2\n",
      "/var/folders/s4/79ykyqjn7f16bdl_zqjgsbzh0000gp/T/ipykernel_14170/863171515.py:4: DeprecationWarning: executable_path has been deprecated, please pass in a Service object\n",
      "  driver=webdriver.Chrome(PATH)\n",
      "error 1\n",
      "error 4\n",
      "todo OK\n",
      "https://open.spotify.com/track/0W6I02J9xcqK8MtSeosEXb?si=bceab2421c1945d2\n",
      "/var/folders/s4/79ykyqjn7f16bdl_zqjgsbzh0000gp/T/ipykernel_14170/863171515.py:4: DeprecationWarning: executable_path has been deprecated, please pass in a Service object\n",
      "  driver=webdriver.Chrome(PATH)\n",
      "error 1\n",
      "error 4\n",
      "todo OK\n",
      "https://open.spotify.com/track/0W6I02J9xcqK8MtSeosEXb?si=bceab2421c1945d2\n",
      "/var/folders/s4/79ykyqjn7f16bdl_zqjgsbzh0000gp/T/ipykernel_14170/863171515.py:4: DeprecationWarning: executable_path has been deprecated, please pass in a Service object\n",
      "  driver=webdriver.Chrome(PATH)\n",
      "error 1\n",
      "error 4\n",
      "todo OK\n",
      "https://open.spotify.com/track/0W6I02J9xcqK8MtSeosEXb?si=bceab2421c1945d2\n",
      "/var/folders/s4/79ykyqjn7f16bdl_zqjgsbzh0000gp/T/ipykernel_14170/863171515.py:4: DeprecationWarning: executable_path has been deprecated, please pass in a Service object\n",
      "  driver=webdriver.Chrome(PATH)\n",
      "error 1\n",
      "error 4\n",
      "todo OK\n",
      "https://open.spotify.com/track/0W6I02J9xcqK8MtSeosEXb?si=bceab2421c1945d2\n",
      "/var/folders/s4/79ykyqjn7f16bdl_zqjgsbzh0000gp/T/ipykernel_14170/863171515.py:4: DeprecationWarning: executable_path has been deprecated, please pass in a Service object\n",
      "  driver=webdriver.Chrome(PATH)\n",
      "error 4\n",
      "todo OK\n",
      "https://open.spotify.com/track/0W6I02J9xcqK8MtSeosEXb?si=bceab2421c1945d2\n",
      "/var/folders/s4/79ykyqjn7f16bdl_zqjgsbzh0000gp/T/ipykernel_14170/863171515.py:4: DeprecationWarning: executable_path has been deprecated, please pass in a Service object\n",
      "  driver=webdriver.Chrome(PATH)\n",
      "error 1\n",
      "error 4\n",
      "todo OK\n",
      "https://open.spotify.com/track/0W6I02J9xcqK8MtSeosEXb?si=bceab2421c1945d2\n",
      "/var/folders/s4/79ykyqjn7f16bdl_zqjgsbzh0000gp/T/ipykernel_14170/863171515.py:4: DeprecationWarning: executable_path has been deprecated, please pass in a Service object\n",
      "  driver=webdriver.Chrome(PATH)\n",
      "error 1\n",
      "error 4\n",
      "todo OK\n",
      "https://open.spotify.com/track/0W6I02J9xcqK8MtSeosEXb?si=bceab2421c1945d2\n",
      "/var/folders/s4/79ykyqjn7f16bdl_zqjgsbzh0000gp/T/ipykernel_14170/863171515.py:4: DeprecationWarning: executable_path has been deprecated, please pass in a Service object\n",
      "  driver=webdriver.Chrome(PATH)\n",
      "error 1\n",
      "error 4\n",
      "todo OK\n",
      "https://open.spotify.com/track/0W6I02J9xcqK8MtSeosEXb?si=bceab2421c1945d2\n",
      "/var/folders/s4/79ykyqjn7f16bdl_zqjgsbzh0000gp/T/ipykernel_14170/863171515.py:4: DeprecationWarning: executable_path has been deprecated, please pass in a Service object\n",
      "  driver=webdriver.Chrome(PATH)\n",
      "error 1\n",
      "todo OK\n",
      "https://open.spotify.com/track/1ZR473PTTSHGcnyRyidBoA?si=590884d5c6454757\n",
      "/var/folders/s4/79ykyqjn7f16bdl_zqjgsbzh0000gp/T/ipykernel_14170/863171515.py:4: DeprecationWarning: executable_path has been deprecated, please pass in a Service object\n",
      "  driver=webdriver.Chrome(PATH)\n",
      "error 1\n",
      "todo OK\n",
      "https://open.spotify.com/track/6I3Evf3nNhxFA5lSM37Y0v?si=48a0a9fc40b74c7a\n",
      "/var/folders/s4/79ykyqjn7f16bdl_zqjgsbzh0000gp/T/ipykernel_14170/863171515.py:4: DeprecationWarning: executable_path has been deprecated, please pass in a Service object\n",
      "  driver=webdriver.Chrome(PATH)\n",
      "error 1\n",
      "todo OK\n",
      "https://open.spotify.com/track/5QBVRETMnR1sKyrQAMypDu?si=75f057f0a63a4060\n",
      "/var/folders/s4/79ykyqjn7f16bdl_zqjgsbzh0000gp/T/ipykernel_14170/863171515.py:4: DeprecationWarning: executable_path has been deprecated, please pass in a Service object\n",
      "  driver=webdriver.Chrome(PATH)\n",
      "todo OK\n",
      "https://open.spotify.com/track/6ESn78HoJcRVX6nCqewWtU?si=aea95651ab884a8f\n",
      "/var/folders/s4/79ykyqjn7f16bdl_zqjgsbzh0000gp/T/ipykernel_14170/863171515.py:4: DeprecationWarning: executable_path has been deprecated, please pass in a Service object\n",
      "  driver=webdriver.Chrome(PATH)\n",
      "error 1\n",
      "error 4\n",
      "todo OK\n",
      "https://open.spotify.com/track/6ESn78HoJcRVX6nCqewWtU?si=aea95651ab884a8f\n",
      "/var/folders/s4/79ykyqjn7f16bdl_zqjgsbzh0000gp/T/ipykernel_14170/863171515.py:4: DeprecationWarning: executable_path has been deprecated, please pass in a Service object\n",
      "  driver=webdriver.Chrome(PATH)\n",
      "todo OK\n",
      "https://open.spotify.com/track/4XeqABCbUqyznqTgB8Ckzj?si=e6070821de9e4d4c\n",
      "/var/folders/s4/79ykyqjn7f16bdl_zqjgsbzh0000gp/T/ipykernel_14170/863171515.py:4: DeprecationWarning: executable_path has been deprecated, please pass in a Service object\n",
      "  driver=webdriver.Chrome(PATH)\n",
      "todo OK\n",
      "https://open.spotify.com/track/6eGMWnY9RsEWLDRFcdGWBf?si=b14c89fbfe244a20\n",
      "/var/folders/s4/79ykyqjn7f16bdl_zqjgsbzh0000gp/T/ipykernel_14170/863171515.py:4: DeprecationWarning: executable_path has been deprecated, please pass in a Service object\n",
      "  driver=webdriver.Chrome(PATH)\n",
      "error 1\n",
      "todo OK\n",
      "https://open.spotify.com/track/1X3ltingEVNGRoJf1dvZfQ?si=3eac86928bdc46c3\n",
      "/var/folders/s4/79ykyqjn7f16bdl_zqjgsbzh0000gp/T/ipykernel_14170/863171515.py:4: DeprecationWarning: executable_path has been deprecated, please pass in a Service object\n",
      "  driver=webdriver.Chrome(PATH)\n",
      "error 1\n",
      "todo OK\n",
      "https://open.spotify.com/track/0mr8FAnN9X70p5KRUwMIJx?si=120e2e6fb0624ee2\n",
      "/var/folders/s4/79ykyqjn7f16bdl_zqjgsbzh0000gp/T/ipykernel_14170/863171515.py:4: DeprecationWarning: executable_path has been deprecated, please pass in a Service object\n",
      "  driver=webdriver.Chrome(PATH)\n",
      "error 4\n",
      "todo OK\n",
      "https://open.spotify.com/track/0mr8FAnN9X70p5KRUwMIJx?si=120e2e6fb0624ee2\n",
      "/var/folders/s4/79ykyqjn7f16bdl_zqjgsbzh0000gp/T/ipykernel_14170/863171515.py:4: DeprecationWarning: executable_path has been deprecated, please pass in a Service object\n",
      "  driver=webdriver.Chrome(PATH)\n",
      "error 1\n",
      "error 4\n",
      "todo OK\n",
      "https://open.spotify.com/track/0mr8FAnN9X70p5KRUwMIJx?si=120e2e6fb0624ee2\n",
      "/var/folders/s4/79ykyqjn7f16bdl_zqjgsbzh0000gp/T/ipykernel_14170/863171515.py:4: DeprecationWarning: executable_path has been deprecated, please pass in a Service object\n",
      "  driver=webdriver.Chrome(PATH)\n",
      "error 1\n",
      "todo OK\n",
      "https://open.spotify.com/track/7Bm8yhEknZk1NdlaifB11k?si=bf7ad26727dd4ab5\n",
      "/var/folders/s4/79ykyqjn7f16bdl_zqjgsbzh0000gp/T/ipykernel_14170/863171515.py:4: DeprecationWarning: executable_path has been deprecated, please pass in a Service object\n",
      "  driver=webdriver.Chrome(PATH)\n",
      "error 1\n",
      "todo OK\n",
      "https://open.spotify.com/track/5RePVaFWSQweMQzWwBGAlT?si=252885f57c034fed\n",
      "/var/folders/s4/79ykyqjn7f16bdl_zqjgsbzh0000gp/T/ipykernel_14170/863171515.py:4: DeprecationWarning: executable_path has been deprecated, please pass in a Service object\n",
      "  driver=webdriver.Chrome(PATH)\n",
      "error 1\n",
      "error 4\n",
      "todo OK\n",
      "https://open.spotify.com/track/5RePVaFWSQweMQzWwBGAlT?si=252885f57c034fed\n",
      "/var/folders/s4/79ykyqjn7f16bdl_zqjgsbzh0000gp/T/ipykernel_14170/863171515.py:4: DeprecationWarning: executable_path has been deprecated, please pass in a Service object\n",
      "  driver=webdriver.Chrome(PATH)\n",
      "error 1\n",
      "error 4\n",
      "todo OK\n",
      "https://open.spotify.com/track/5RePVaFWSQweMQzWwBGAlT?si=252885f57c034fed\n",
      "/var/folders/s4/79ykyqjn7f16bdl_zqjgsbzh0000gp/T/ipykernel_14170/863171515.py:4: DeprecationWarning: executable_path has been deprecated, please pass in a Service object\n",
      "  driver=webdriver.Chrome(PATH)\n",
      "error 1\n",
      "todo OK\n",
      "https://open.spotify.com/track/0wkQHjULGZeZC15hOl9jl4?si=90ed9891c8ac4046\n",
      "/var/folders/s4/79ykyqjn7f16bdl_zqjgsbzh0000gp/T/ipykernel_14170/863171515.py:4: DeprecationWarning: executable_path has been deprecated, please pass in a Service object\n",
      "  driver=webdriver.Chrome(PATH)\n",
      "error 1\n",
      "error 4\n",
      "todo OK\n",
      "https://open.spotify.com/track/0wkQHjULGZeZC15hOl9jl4?si=90ed9891c8ac4046\n",
      "/var/folders/s4/79ykyqjn7f16bdl_zqjgsbzh0000gp/T/ipykernel_14170/863171515.py:4: DeprecationWarning: executable_path has been deprecated, please pass in a Service object\n",
      "  driver=webdriver.Chrome(PATH)\n",
      "error 1\n",
      "error 4\n",
      "todo OK\n",
      "https://open.spotify.com/track/0wkQHjULGZeZC15hOl9jl4?si=90ed9891c8ac4046\n",
      "/var/folders/s4/79ykyqjn7f16bdl_zqjgsbzh0000gp/T/ipykernel_14170/863171515.py:4: DeprecationWarning: executable_path has been deprecated, please pass in a Service object\n",
      "  driver=webdriver.Chrome(PATH)\n",
      "error 1\n",
      "todo OK\n",
      "https://open.spotify.com/track/073yIM7v2j6XadD4Nkn0Fh?si=142fb68d7e1f4d04\n",
      "/var/folders/s4/79ykyqjn7f16bdl_zqjgsbzh0000gp/T/ipykernel_14170/863171515.py:4: DeprecationWarning: executable_path has been deprecated, please pass in a Service object\n",
      "  driver=webdriver.Chrome(PATH)\n",
      "todo OK\n",
      "https://open.spotify.com/track/5bQLsyTrUaMQRfr6whwGe5?si=c76cc62c236e4de2\n",
      "/var/folders/s4/79ykyqjn7f16bdl_zqjgsbzh0000gp/T/ipykernel_14170/863171515.py:4: DeprecationWarning: executable_path has been deprecated, please pass in a Service object\n",
      "  driver=webdriver.Chrome(PATH)\n",
      "error 1\n",
      "error 4\n",
      "todo OK\n",
      "https://open.spotify.com/track/5bQLsyTrUaMQRfr6whwGe5?si=c76cc62c236e4de2\n",
      "/var/folders/s4/79ykyqjn7f16bdl_zqjgsbzh0000gp/T/ipykernel_14170/863171515.py:4: DeprecationWarning: executable_path has been deprecated, please pass in a Service object\n",
      "  driver=webdriver.Chrome(PATH)\n",
      "error 1\n",
      "todo OK\n",
      "https://open.spotify.com/track/4Z8HZSApeddaRM2ovivUj4?si=16ea1abada2c4de6\n",
      "/var/folders/s4/79ykyqjn7f16bdl_zqjgsbzh0000gp/T/ipykernel_14170/863171515.py:4: DeprecationWarning: executable_path has been deprecated, please pass in a Service object\n",
      "  driver=webdriver.Chrome(PATH)\n",
      "error 1\n",
      "todo OK\n",
      "https://open.spotify.com/track/4LpUpiYoZ2M3Z1kmhn4EQo?si=0b29401e9fd24c0f\n",
      "/var/folders/s4/79ykyqjn7f16bdl_zqjgsbzh0000gp/T/ipykernel_14170/863171515.py:4: DeprecationWarning: executable_path has been deprecated, please pass in a Service object\n",
      "  driver=webdriver.Chrome(PATH)\n",
      "error 1\n",
      "todo OK\n",
      "https://open.spotify.com/track/52ojopYMUzeNcudsoz7O9D?si=d6ac3d4c80ce476c\n",
      "/var/folders/s4/79ykyqjn7f16bdl_zqjgsbzh0000gp/T/ipykernel_14170/863171515.py:4: DeprecationWarning: executable_path has been deprecated, please pass in a Service object\n",
      "  driver=webdriver.Chrome(PATH)\n",
      "todo OK\n",
      "https://open.spotify.com/track/56NkIxSZZiMpFP5ZNSxtnT?si=1ebe038eed8d4ead\n",
      "/var/folders/s4/79ykyqjn7f16bdl_zqjgsbzh0000gp/T/ipykernel_14170/863171515.py:4: DeprecationWarning: executable_path has been deprecated, please pass in a Service object\n",
      "  driver=webdriver.Chrome(PATH)\n",
      "error 1\n",
      "todo OK\n",
      "https://open.spotify.com/track/5ncofiedz9Ej6YkvvXMKVn?si=06c68273d4ce445b\n",
      "/var/folders/s4/79ykyqjn7f16bdl_zqjgsbzh0000gp/T/ipykernel_14170/863171515.py:4: DeprecationWarning: executable_path has been deprecated, please pass in a Service object\n",
      "  driver=webdriver.Chrome(PATH)\n",
      "todo OK\n",
      "https://open.spotify.com/track/6V78ktWCGcJIIB5DPJBoPn?si=25c3b431cb154a82\n",
      "/var/folders/s4/79ykyqjn7f16bdl_zqjgsbzh0000gp/T/ipykernel_14170/863171515.py:4: DeprecationWarning: executable_path has been deprecated, please pass in a Service object\n",
      "  driver=webdriver.Chrome(PATH)\n",
      "error 1\n",
      "todo OK\n",
      "https://open.spotify.com/track/4ZWU1yATGjEQQz2FCnmX3b?si=9d40c34f93324192\n",
      "/var/folders/s4/79ykyqjn7f16bdl_zqjgsbzh0000gp/T/ipykernel_14170/863171515.py:4: DeprecationWarning: executable_path has been deprecated, please pass in a Service object\n",
      "  driver=webdriver.Chrome(PATH)\n",
      "todo OK\n",
      "https://open.spotify.com/track/7gD2QkknRa4ZvlRVyU6ZO0?si=9b6d6e90d0b34009\n",
      "/var/folders/s4/79ykyqjn7f16bdl_zqjgsbzh0000gp/T/ipykernel_14170/863171515.py:4: DeprecationWarning: executable_path has been deprecated, please pass in a Service object\n",
      "  driver=webdriver.Chrome(PATH)\n",
      "error 1\n",
      "todo OK\n",
      "https://open.spotify.com/track/1MO5KuLnSaY1dlkWGDjHkT?si=b730aa486b8249dd\n",
      "/var/folders/s4/79ykyqjn7f16bdl_zqjgsbzh0000gp/T/ipykernel_14170/863171515.py:4: DeprecationWarning: executable_path has been deprecated, please pass in a Service object\n",
      "  driver=webdriver.Chrome(PATH)\n",
      "error 1\n",
      "todo OK\n",
      "https://open.spotify.com/track/4B6ko7lt1sUtyFzBDF4yfK?si=572b422129404dab\n",
      "/var/folders/s4/79ykyqjn7f16bdl_zqjgsbzh0000gp/T/ipykernel_14170/863171515.py:4: DeprecationWarning: executable_path has been deprecated, please pass in a Service object\n",
      "  driver=webdriver.Chrome(PATH)\n",
      "error 1\n",
      "todo OK\n",
      "https://open.spotify.com/track/0DXI6c9tNWsI4tvUftkQN8?si=018077e547e74df9\n",
      "/var/folders/s4/79ykyqjn7f16bdl_zqjgsbzh0000gp/T/ipykernel_14170/863171515.py:4: DeprecationWarning: executable_path has been deprecated, please pass in a Service object\n",
      "  driver=webdriver.Chrome(PATH)\n",
      "error 1\n",
      "todo OK\n",
      "https://open.spotify.com/track/1JpZMDDAkfhnrO6nXIQZ2g?si=2e0e278eb965432c\n",
      "/var/folders/s4/79ykyqjn7f16bdl_zqjgsbzh0000gp/T/ipykernel_14170/863171515.py:4: DeprecationWarning: executable_path has been deprecated, please pass in a Service object\n",
      "  driver=webdriver.Chrome(PATH)\n",
      "error 1\n",
      "todo OK\n",
      "https://open.spotify.com/track/3JOXwHPhtdRU3kYKcf64Gj?si=da2fe8d43ff04636\n",
      "/var/folders/s4/79ykyqjn7f16bdl_zqjgsbzh0000gp/T/ipykernel_14170/863171515.py:4: DeprecationWarning: executable_path has been deprecated, please pass in a Service object\n",
      "  driver=webdriver.Chrome(PATH)\n",
      "error 1\n",
      "todo OK\n",
      "https://open.spotify.com/track/4Ja8Kgt3UEVd22kGfVBQ6g?si=b4dfe228f4f64dcd\n",
      "/var/folders/s4/79ykyqjn7f16bdl_zqjgsbzh0000gp/T/ipykernel_14170/863171515.py:4: DeprecationWarning: executable_path has been deprecated, please pass in a Service object\n",
      "  driver=webdriver.Chrome(PATH)\n",
      "todo OK\n",
      "https://open.spotify.com/track/633Z9EGuNeZ6fXvjD1gnN6?si=76235dff71164d17\n",
      "/var/folders/s4/79ykyqjn7f16bdl_zqjgsbzh0000gp/T/ipykernel_14170/863171515.py:4: DeprecationWarning: executable_path has been deprecated, please pass in a Service object\n",
      "  driver=webdriver.Chrome(PATH)\n",
      "error 1\n",
      "todo OK\n",
      "https://open.spotify.com/track/78DVpEWwmJFC25KGz8fJuE?si=b8dcaafe7c484775\n",
      "/var/folders/s4/79ykyqjn7f16bdl_zqjgsbzh0000gp/T/ipykernel_14170/863171515.py:4: DeprecationWarning: executable_path has been deprecated, please pass in a Service object\n",
      "  driver=webdriver.Chrome(PATH)\n",
      "error 1\n",
      "todo OK\n",
      "https://open.spotify.com/track/0uWLyUK9WECq0nKz0DiA4A?si=ef52d204cc294f71\n",
      "/var/folders/s4/79ykyqjn7f16bdl_zqjgsbzh0000gp/T/ipykernel_14170/863171515.py:4: DeprecationWarning: executable_path has been deprecated, please pass in a Service object\n",
      "  driver=webdriver.Chrome(PATH)\n",
      "todo OK\n",
      "https://open.spotify.com/track/0wQCKR9OFjYu5Kzrk7WivJ?si=9d4f6985f3294640\n",
      "/var/folders/s4/79ykyqjn7f16bdl_zqjgsbzh0000gp/T/ipykernel_14170/863171515.py:4: DeprecationWarning: executable_path has been deprecated, please pass in a Service object\n",
      "  driver=webdriver.Chrome(PATH)\n",
      "error 1\n",
      "todo OK\n",
      "https://open.spotify.com/track/6kQYMqjobmB8MkWwa9OUyA?si=1f1dbec962994ffe\n",
      "/var/folders/s4/79ykyqjn7f16bdl_zqjgsbzh0000gp/T/ipykernel_14170/863171515.py:4: DeprecationWarning: executable_path has been deprecated, please pass in a Service object\n",
      "  driver=webdriver.Chrome(PATH)\n",
      "error 1\n",
      "todo OK\n",
      "https://open.spotify.com/track/3tiEqRIKJxAxCqGFQt8k4r?si=65d5dd92237c4bde\n",
      "/var/folders/s4/79ykyqjn7f16bdl_zqjgsbzh0000gp/T/ipykernel_14170/863171515.py:4: DeprecationWarning: executable_path has been deprecated, please pass in a Service object\n",
      "  driver=webdriver.Chrome(PATH)\n",
      "todo OK\n",
      "https://open.spotify.com/track/7zrL3xak0qZQ10HlNxP9HD?si=582cb4d63c594d30\n",
      "/var/folders/s4/79ykyqjn7f16bdl_zqjgsbzh0000gp/T/ipykernel_14170/863171515.py:4: DeprecationWarning: executable_path has been deprecated, please pass in a Service object\n",
      "  driver=webdriver.Chrome(PATH)\n",
      "error 1\n",
      "error 4\n",
      "todo OK\n",
      "https://open.spotify.com/track/7zrL3xak0qZQ10HlNxP9HD?si=582cb4d63c594d30\n",
      "/var/folders/s4/79ykyqjn7f16bdl_zqjgsbzh0000gp/T/ipykernel_14170/863171515.py:4: DeprecationWarning: executable_path has been deprecated, please pass in a Service object\n",
      "  driver=webdriver.Chrome(PATH)\n",
      "error 1\n",
      "todo OK\n",
      "https://open.spotify.com/track/25NjrLbcrjU4TiI5BZQirh?si=a7df6a91ade94723\n",
      "/var/folders/s4/79ykyqjn7f16bdl_zqjgsbzh0000gp/T/ipykernel_14170/863171515.py:4: DeprecationWarning: executable_path has been deprecated, please pass in a Service object\n",
      "  driver=webdriver.Chrome(PATH)\n",
      "error 1\n",
      "todo OK\n",
      "https://open.spotify.com/track/464uJVLmr0fDJGXOnciaDe?si=dd9b6fa24d1041b8\n",
      "/var/folders/s4/79ykyqjn7f16bdl_zqjgsbzh0000gp/T/ipykernel_14170/863171515.py:4: DeprecationWarning: executable_path has been deprecated, please pass in a Service object\n",
      "  driver=webdriver.Chrome(PATH)\n",
      "error 1\n",
      "todo OK\n",
      "https://open.spotify.com/track/3qwi91kUb1BJ62DRTfcqv8?si=e965814adba3427b\n",
      "/var/folders/s4/79ykyqjn7f16bdl_zqjgsbzh0000gp/T/ipykernel_14170/863171515.py:4: DeprecationWarning: executable_path has been deprecated, please pass in a Service object\n",
      "  driver=webdriver.Chrome(PATH)\n",
      "error 1\n",
      "todo OK\n",
      "https://open.spotify.com/track/780be5fB7823aHG06mwTat?si=9402887034014bae\n",
      "/var/folders/s4/79ykyqjn7f16bdl_zqjgsbzh0000gp/T/ipykernel_14170/863171515.py:4: DeprecationWarning: executable_path has been deprecated, please pass in a Service object\n",
      "  driver=webdriver.Chrome(PATH)\n",
      "error 1\n",
      "error 4\n",
      "todo OK\n",
      "https://open.spotify.com/track/780be5fB7823aHG06mwTat?si=9402887034014bae\n",
      "/var/folders/s4/79ykyqjn7f16bdl_zqjgsbzh0000gp/T/ipykernel_14170/863171515.py:4: DeprecationWarning: executable_path has been deprecated, please pass in a Service object\n",
      "  driver=webdriver.Chrome(PATH)\n",
      "error 1\n",
      "todo OK\n",
      "https://open.spotify.com/track/6z7fZRrQfOH3ZjWEkC4QhC?si=5677f3930ea64079\n",
      "/var/folders/s4/79ykyqjn7f16bdl_zqjgsbzh0000gp/T/ipykernel_14170/863171515.py:4: DeprecationWarning: executable_path has been deprecated, please pass in a Service object\n",
      "  driver=webdriver.Chrome(PATH)\n",
      "error 1\n",
      "todo OK\n",
      "https://open.spotify.com/track/5XeFesFbtLpXzIVDNQP22n?si=308840d2813e42ba\n",
      "/var/folders/s4/79ykyqjn7f16bdl_zqjgsbzh0000gp/T/ipykernel_14170/863171515.py:4: DeprecationWarning: executable_path has been deprecated, please pass in a Service object\n",
      "  driver=webdriver.Chrome(PATH)\n",
      "todo OK\n",
      "https://open.spotify.com/track/3AiXzUyFAFZVBGVAADPN5a?si=b5241fdebf7c4cd3\n",
      "/var/folders/s4/79ykyqjn7f16bdl_zqjgsbzh0000gp/T/ipykernel_14170/863171515.py:4: DeprecationWarning: executable_path has been deprecated, please pass in a Service object\n",
      "  driver=webdriver.Chrome(PATH)\n",
      "error 1\n",
      "todo OK\n",
      "https://open.spotify.com/track/2iUmqdfGZcHIhS3b9E9EWq?si=d7f0e6c149c14f5f\n",
      "/var/folders/s4/79ykyqjn7f16bdl_zqjgsbzh0000gp/T/ipykernel_14170/863171515.py:4: DeprecationWarning: executable_path has been deprecated, please pass in a Service object\n",
      "  driver=webdriver.Chrome(PATH)\n",
      "error 1\n",
      "todo OK\n",
      "https://open.spotify.com/track/4hTXeWayUVMwoz6v1CviSN?si=79f4ec63bdca45e7\n",
      "/var/folders/s4/79ykyqjn7f16bdl_zqjgsbzh0000gp/T/ipykernel_14170/863171515.py:4: DeprecationWarning: executable_path has been deprecated, please pass in a Service object\n",
      "  driver=webdriver.Chrome(PATH)\n",
      "error 1\n",
      "error 4\n",
      "todo OK\n",
      "https://open.spotify.com/track/4hTXeWayUVMwoz6v1CviSN?si=79f4ec63bdca45e7\n",
      "/var/folders/s4/79ykyqjn7f16bdl_zqjgsbzh0000gp/T/ipykernel_14170/863171515.py:4: DeprecationWarning: executable_path has been deprecated, please pass in a Service object\n",
      "  driver=webdriver.Chrome(PATH)\n",
      "error 1\n",
      "todo OK\n",
      "https://open.spotify.com/track/2Xr1dTzJee307rmrkt8c0g?si=9f36a808441b4212\n",
      "/var/folders/s4/79ykyqjn7f16bdl_zqjgsbzh0000gp/T/ipykernel_14170/863171515.py:4: DeprecationWarning: executable_path has been deprecated, please pass in a Service object\n",
      "  driver=webdriver.Chrome(PATH)\n",
      "error 1\n",
      "error 4\n",
      "todo OK\n",
      "https://open.spotify.com/track/2Xr1dTzJee307rmrkt8c0g?si=9f36a808441b4212\n",
      "/var/folders/s4/79ykyqjn7f16bdl_zqjgsbzh0000gp/T/ipykernel_14170/863171515.py:4: DeprecationWarning: executable_path has been deprecated, please pass in a Service object\n",
      "  driver=webdriver.Chrome(PATH)\n",
      "todo OK\n",
      "https://open.spotify.com/track/4Ny1rlxyM3Lfo37Q0e7Kaj?si=7dfa979047d641b4\n",
      "/var/folders/s4/79ykyqjn7f16bdl_zqjgsbzh0000gp/T/ipykernel_14170/863171515.py:4: DeprecationWarning: executable_path has been deprecated, please pass in a Service object\n",
      "  driver=webdriver.Chrome(PATH)\n",
      "todo OK\n",
      "https://open.spotify.com/track/4Ny1rlxyM3Lfo37Q0e7Kaj?si=7dfa979047d641b4\n",
      "/var/folders/s4/79ykyqjn7f16bdl_zqjgsbzh0000gp/T/ipykernel_14170/863171515.py:4: DeprecationWarning: executable_path has been deprecated, please pass in a Service object\n",
      "  driver=webdriver.Chrome(PATH)\n",
      "error 4\n",
      "todo OK\n",
      "https://open.spotify.com/track/4Ny1rlxyM3Lfo37Q0e7Kaj?si=7dfa979047d641b4\n",
      "/var/folders/s4/79ykyqjn7f16bdl_zqjgsbzh0000gp/T/ipykernel_14170/863171515.py:4: DeprecationWarning: executable_path has been deprecated, please pass in a Service object\n",
      "  driver=webdriver.Chrome(PATH)\n",
      "todo OK\n",
      "https://open.spotify.com/track/7MDfN1ldfTMtuXXdVz2Pzc?si=7a7bf66af5f345ec\n",
      "/var/folders/s4/79ykyqjn7f16bdl_zqjgsbzh0000gp/T/ipykernel_14170/863171515.py:4: DeprecationWarning: executable_path has been deprecated, please pass in a Service object\n",
      "  driver=webdriver.Chrome(PATH)\n",
      "error 1\n",
      "todo OK\n",
      "https://open.spotify.com/track/3AyuigFWbuirWHvidbMz8O?si=5c05383878b145a3\n",
      "/var/folders/s4/79ykyqjn7f16bdl_zqjgsbzh0000gp/T/ipykernel_14170/863171515.py:4: DeprecationWarning: executable_path has been deprecated, please pass in a Service object\n",
      "  driver=webdriver.Chrome(PATH)\n",
      "error 1\n",
      "todo OK\n",
      "https://open.spotify.com/track/5vddPg2RoRtqLwg3Pz3aI6?si=7fb86f4f30b94b58\n",
      "/var/folders/s4/79ykyqjn7f16bdl_zqjgsbzh0000gp/T/ipykernel_14170/863171515.py:4: DeprecationWarning: executable_path has been deprecated, please pass in a Service object\n",
      "  driver=webdriver.Chrome(PATH)\n",
      "error 1\n",
      "todo OK\n",
      "https://open.spotify.com/track/2RYYWXDhJQ1KqmX2vzObl6?si=f55a275cd5db4353\n",
      "/var/folders/s4/79ykyqjn7f16bdl_zqjgsbzh0000gp/T/ipykernel_14170/863171515.py:4: DeprecationWarning: executable_path has been deprecated, please pass in a Service object\n",
      "  driver=webdriver.Chrome(PATH)\n",
      "error 1\n",
      "todo OK\n",
      "https://open.spotify.com/track/12TZwNl53k1rCVO6XdE3BT?si=71460eedb41c4db6\n",
      "/var/folders/s4/79ykyqjn7f16bdl_zqjgsbzh0000gp/T/ipykernel_14170/863171515.py:4: DeprecationWarning: executable_path has been deprecated, please pass in a Service object\n",
      "  driver=webdriver.Chrome(PATH)\n",
      "error 1\n",
      "todo OK\n",
      "https://open.spotify.com/track/05icsjFI0vFFKrwtam1pr8?si=aede6f4d6764426d\n",
      "/var/folders/s4/79ykyqjn7f16bdl_zqjgsbzh0000gp/T/ipykernel_14170/863171515.py:4: DeprecationWarning: executable_path has been deprecated, please pass in a Service object\n",
      "  driver=webdriver.Chrome(PATH)\n",
      "error 1\n",
      "todo OK\n",
      "https://open.spotify.com/track/45Hvu246Exavl9m1WOcwQw?si=35d57e63e94448f4\n",
      "/var/folders/s4/79ykyqjn7f16bdl_zqjgsbzh0000gp/T/ipykernel_14170/863171515.py:4: DeprecationWarning: executable_path has been deprecated, please pass in a Service object\n",
      "  driver=webdriver.Chrome(PATH)\n",
      "error 1\n",
      "todo OK\n",
      "https://open.spotify.com/track/4t3VdwIdGpFEiAbosYO0ZD?si=62ff3bb272bd4d9d\n",
      "/var/folders/s4/79ykyqjn7f16bdl_zqjgsbzh0000gp/T/ipykernel_14170/863171515.py:4: DeprecationWarning: executable_path has been deprecated, please pass in a Service object\n",
      "  driver=webdriver.Chrome(PATH)\n",
      "error 1\n",
      "todo OK\n",
      "https://open.spotify.com/track/31t1744XySgMwG8woRUnNE?si=bb13b15df9a74c30\n",
      "/var/folders/s4/79ykyqjn7f16bdl_zqjgsbzh0000gp/T/ipykernel_14170/863171515.py:4: DeprecationWarning: executable_path has been deprecated, please pass in a Service object\n",
      "  driver=webdriver.Chrome(PATH)\n",
      "error 1\n",
      "error 4\n",
      "todo OK\n",
      "https://open.spotify.com/track/31t1744XySgMwG8woRUnNE?si=bb13b15df9a74c30\n",
      "/var/folders/s4/79ykyqjn7f16bdl_zqjgsbzh0000gp/T/ipykernel_14170/863171515.py:4: DeprecationWarning: executable_path has been deprecated, please pass in a Service object\n",
      "  driver=webdriver.Chrome(PATH)\n",
      "todo OK\n",
      "https://open.spotify.com/track/5RmGKBLOYl9hbNE7BuDmur?si=b5de15acab9949a6\n",
      "/var/folders/s4/79ykyqjn7f16bdl_zqjgsbzh0000gp/T/ipykernel_14170/863171515.py:4: DeprecationWarning: executable_path has been deprecated, please pass in a Service object\n",
      "  driver=webdriver.Chrome(PATH)\n",
      "error 1\n",
      "error 4\n",
      "todo OK\n",
      "https://open.spotify.com/track/5RmGKBLOYl9hbNE7BuDmur?si=b5de15acab9949a6\n",
      "/var/folders/s4/79ykyqjn7f16bdl_zqjgsbzh0000gp/T/ipykernel_14170/863171515.py:4: DeprecationWarning: executable_path has been deprecated, please pass in a Service object\n",
      "  driver=webdriver.Chrome(PATH)\n",
      "error 4\n",
      "todo OK\n",
      "https://open.spotify.com/track/5RmGKBLOYl9hbNE7BuDmur?si=b5de15acab9949a6\n",
      "/var/folders/s4/79ykyqjn7f16bdl_zqjgsbzh0000gp/T/ipykernel_14170/863171515.py:4: DeprecationWarning: executable_path has been deprecated, please pass in a Service object\n",
      "  driver=webdriver.Chrome(PATH)\n",
      "error 1\n",
      "error 4\n",
      "todo OK\n",
      "https://open.spotify.com/track/5RmGKBLOYl9hbNE7BuDmur?si=b5de15acab9949a6\n",
      "/var/folders/s4/79ykyqjn7f16bdl_zqjgsbzh0000gp/T/ipykernel_14170/863171515.py:4: DeprecationWarning: executable_path has been deprecated, please pass in a Service object\n",
      "  driver=webdriver.Chrome(PATH)\n",
      "error 1\n",
      "error 4\n",
      "todo OK\n",
      "https://open.spotify.com/track/5RmGKBLOYl9hbNE7BuDmur?si=b5de15acab9949a6\n",
      "/var/folders/s4/79ykyqjn7f16bdl_zqjgsbzh0000gp/T/ipykernel_14170/863171515.py:4: DeprecationWarning: executable_path has been deprecated, please pass in a Service object\n",
      "  driver=webdriver.Chrome(PATH)\n",
      "error 1\n",
      "error 4\n",
      "todo OK\n",
      "https://open.spotify.com/track/5RmGKBLOYl9hbNE7BuDmur?si=b5de15acab9949a6\n",
      "/var/folders/s4/79ykyqjn7f16bdl_zqjgsbzh0000gp/T/ipykernel_14170/863171515.py:4: DeprecationWarning: executable_path has been deprecated, please pass in a Service object\n",
      "  driver=webdriver.Chrome(PATH)\n",
      "error 1\n",
      "error 4\n",
      "todo OK\n",
      "https://open.spotify.com/track/5RmGKBLOYl9hbNE7BuDmur?si=b5de15acab9949a6\n",
      "/var/folders/s4/79ykyqjn7f16bdl_zqjgsbzh0000gp/T/ipykernel_14170/863171515.py:4: DeprecationWarning: executable_path has been deprecated, please pass in a Service object\n",
      "  driver=webdriver.Chrome(PATH)\n",
      "error 1\n",
      "error 4\n",
      "todo OK\n",
      "https://open.spotify.com/track/5RmGKBLOYl9hbNE7BuDmur?si=b5de15acab9949a6\n",
      "/var/folders/s4/79ykyqjn7f16bdl_zqjgsbzh0000gp/T/ipykernel_14170/863171515.py:4: DeprecationWarning: executable_path has been deprecated, please pass in a Service object\n",
      "  driver=webdriver.Chrome(PATH)\n",
      "error 1\n",
      "error 4\n",
      "todo OK\n",
      "https://open.spotify.com/track/5RmGKBLOYl9hbNE7BuDmur?si=b5de15acab9949a6\n",
      "/var/folders/s4/79ykyqjn7f16bdl_zqjgsbzh0000gp/T/ipykernel_14170/863171515.py:4: DeprecationWarning: executable_path has been deprecated, please pass in a Service object\n",
      "  driver=webdriver.Chrome(PATH)\n",
      "todo OK\n",
      "https://open.spotify.com/track/1PZrHbJjt5t7dP9OGRxcD0?si=13e514c448af43b7\n",
      "/var/folders/s4/79ykyqjn7f16bdl_zqjgsbzh0000gp/T/ipykernel_14170/863171515.py:4: DeprecationWarning: executable_path has been deprecated, please pass in a Service object\n",
      "  driver=webdriver.Chrome(PATH)\n",
      "error 4\n",
      "todo OK\n",
      "https://open.spotify.com/track/1PZrHbJjt5t7dP9OGRxcD0?si=13e514c448af43b7\n",
      "/var/folders/s4/79ykyqjn7f16bdl_zqjgsbzh0000gp/T/ipykernel_14170/863171515.py:4: DeprecationWarning: executable_path has been deprecated, please pass in a Service object\n",
      "  driver=webdriver.Chrome(PATH)\n",
      "todo OK\n",
      "https://open.spotify.com/track/25nzKGDiua1lE9Qo5V19GL?si=c3ff3507d33540f3\n",
      "/var/folders/s4/79ykyqjn7f16bdl_zqjgsbzh0000gp/T/ipykernel_14170/863171515.py:4: DeprecationWarning: executable_path has been deprecated, please pass in a Service object\n",
      "  driver=webdriver.Chrome(PATH)\n",
      "todo OK\n",
      "https://open.spotify.com/track/57h4OYRuqBvgE87biicEzq?si=be343948e64c42d7\n",
      "/var/folders/s4/79ykyqjn7f16bdl_zqjgsbzh0000gp/T/ipykernel_14170/863171515.py:4: DeprecationWarning: executable_path has been deprecated, please pass in a Service object\n",
      "  driver=webdriver.Chrome(PATH)\n",
      "error 1\n",
      "error 4\n",
      "todo OK\n",
      "https://open.spotify.com/track/57h4OYRuqBvgE87biicEzq?si=be343948e64c42d7\n",
      "/var/folders/s4/79ykyqjn7f16bdl_zqjgsbzh0000gp/T/ipykernel_14170/863171515.py:4: DeprecationWarning: executable_path has been deprecated, please pass in a Service object\n",
      "  driver=webdriver.Chrome(PATH)\n",
      "error 1\n",
      "error 4\n",
      "todo OK\n",
      "https://open.spotify.com/track/57h4OYRuqBvgE87biicEzq?si=be343948e64c42d7\n",
      "/var/folders/s4/79ykyqjn7f16bdl_zqjgsbzh0000gp/T/ipykernel_14170/863171515.py:4: DeprecationWarning: executable_path has been deprecated, please pass in a Service object\n",
      "  driver=webdriver.Chrome(PATH)\n",
      "todo OK\n",
      "https://open.spotify.com/track/2OmSPqvPsPK5m5X6UByh5S?si=3c08cb64542f4d25\n",
      "/var/folders/s4/79ykyqjn7f16bdl_zqjgsbzh0000gp/T/ipykernel_14170/863171515.py:4: DeprecationWarning: executable_path has been deprecated, please pass in a Service object\n",
      "  driver=webdriver.Chrome(PATH)\n",
      "error 1\n",
      "error 4\n",
      "todo OK\n",
      "https://open.spotify.com/track/2OmSPqvPsPK5m5X6UByh5S?si=3c08cb64542f4d25\n",
      "/var/folders/s4/79ykyqjn7f16bdl_zqjgsbzh0000gp/T/ipykernel_14170/863171515.py:4: DeprecationWarning: executable_path has been deprecated, please pass in a Service object\n",
      "  driver=webdriver.Chrome(PATH)\n",
      "error 1\n",
      "error 4\n",
      "todo OK\n",
      "https://open.spotify.com/track/2OmSPqvPsPK5m5X6UByh5S?si=3c08cb64542f4d25\n",
      "/var/folders/s4/79ykyqjn7f16bdl_zqjgsbzh0000gp/T/ipykernel_14170/863171515.py:4: DeprecationWarning: executable_path has been deprecated, please pass in a Service object\n",
      "  driver=webdriver.Chrome(PATH)\n",
      "todo OK\n",
      "https://open.spotify.com/track/2YZDh5CecWx0qlFiTvqVQ9?si=3c78bd8cc40f4fec\n",
      "/var/folders/s4/79ykyqjn7f16bdl_zqjgsbzh0000gp/T/ipykernel_14170/863171515.py:4: DeprecationWarning: executable_path has been deprecated, please pass in a Service object\n",
      "  driver=webdriver.Chrome(PATH)\n",
      "error 1\n",
      "error 4\n",
      "todo OK\n",
      "https://open.spotify.com/track/2YZDh5CecWx0qlFiTvqVQ9?si=3c78bd8cc40f4fec\n",
      "/var/folders/s4/79ykyqjn7f16bdl_zqjgsbzh0000gp/T/ipykernel_14170/863171515.py:4: DeprecationWarning: executable_path has been deprecated, please pass in a Service object\n",
      "  driver=webdriver.Chrome(PATH)\n",
      "error 1\n",
      "error 4\n",
      "todo OK\n",
      "https://open.spotify.com/track/2YZDh5CecWx0qlFiTvqVQ9?si=3c78bd8cc40f4fec\n",
      "/var/folders/s4/79ykyqjn7f16bdl_zqjgsbzh0000gp/T/ipykernel_14170/863171515.py:4: DeprecationWarning: executable_path has been deprecated, please pass in a Service object\n",
      "  driver=webdriver.Chrome(PATH)\n",
      "error 1\n",
      "error 4\n",
      "todo OK\n",
      "https://open.spotify.com/track/2YZDh5CecWx0qlFiTvqVQ9?si=3c78bd8cc40f4fec\n",
      "/var/folders/s4/79ykyqjn7f16bdl_zqjgsbzh0000gp/T/ipykernel_14170/863171515.py:4: DeprecationWarning: executable_path has been deprecated, please pass in a Service object\n",
      "  driver=webdriver.Chrome(PATH)\n",
      "error 1\n",
      "error 4\n",
      "todo OK\n",
      "https://open.spotify.com/track/2YZDh5CecWx0qlFiTvqVQ9?si=3c78bd8cc40f4fec\n",
      "/var/folders/s4/79ykyqjn7f16bdl_zqjgsbzh0000gp/T/ipykernel_14170/863171515.py:4: DeprecationWarning: executable_path has been deprecated, please pass in a Service object\n",
      "  driver=webdriver.Chrome(PATH)\n",
      "todo OK\n",
      "https://open.spotify.com/track/4kELKaXaNP4EQR8Q8xNIID?si=fa02b8c69f6445d4\n",
      "/var/folders/s4/79ykyqjn7f16bdl_zqjgsbzh0000gp/T/ipykernel_14170/863171515.py:4: DeprecationWarning: executable_path has been deprecated, please pass in a Service object\n",
      "  driver=webdriver.Chrome(PATH)\n",
      "error 1\n",
      "error 4\n",
      "todo OK\n",
      "https://open.spotify.com/track/4kELKaXaNP4EQR8Q8xNIID?si=fa02b8c69f6445d4\n",
      "/var/folders/s4/79ykyqjn7f16bdl_zqjgsbzh0000gp/T/ipykernel_14170/863171515.py:4: DeprecationWarning: executable_path has been deprecated, please pass in a Service object\n",
      "  driver=webdriver.Chrome(PATH)\n",
      "error 1\n",
      "error 4\n",
      "todo OK\n",
      "https://open.spotify.com/track/4kELKaXaNP4EQR8Q8xNIID?si=fa02b8c69f6445d4\n",
      "/var/folders/s4/79ykyqjn7f16bdl_zqjgsbzh0000gp/T/ipykernel_14170/863171515.py:4: DeprecationWarning: executable_path has been deprecated, please pass in a Service object\n",
      "  driver=webdriver.Chrome(PATH)\n",
      "todo OK\n",
      "https://open.spotify.com/track/6GsD646HrIDJJpzoY9T1Rt?si=846103b614c84291\n",
      "/var/folders/s4/79ykyqjn7f16bdl_zqjgsbzh0000gp/T/ipykernel_14170/863171515.py:4: DeprecationWarning: executable_path has been deprecated, please pass in a Service object\n",
      "  driver=webdriver.Chrome(PATH)\n",
      "error 1\n",
      "error 4\n",
      "todo OK\n",
      "https://open.spotify.com/track/6GsD646HrIDJJpzoY9T1Rt?si=846103b614c84291\n",
      "/var/folders/s4/79ykyqjn7f16bdl_zqjgsbzh0000gp/T/ipykernel_14170/863171515.py:4: DeprecationWarning: executable_path has been deprecated, please pass in a Service object\n",
      "  driver=webdriver.Chrome(PATH)\n",
      "error 1\n",
      "error 4\n",
      "todo OK\n",
      "https://open.spotify.com/track/6GsD646HrIDJJpzoY9T1Rt?si=846103b614c84291\n",
      "/var/folders/s4/79ykyqjn7f16bdl_zqjgsbzh0000gp/T/ipykernel_14170/863171515.py:4: DeprecationWarning: executable_path has been deprecated, please pass in a Service object\n",
      "  driver=webdriver.Chrome(PATH)\n",
      "error 1\n",
      "todo OK\n",
      "https://open.spotify.com/track/1lV3QHHMAQt0Kc1ioZq2MP?si=11a655b6db98496d\n",
      "/var/folders/s4/79ykyqjn7f16bdl_zqjgsbzh0000gp/T/ipykernel_14170/863171515.py:4: DeprecationWarning: executable_path has been deprecated, please pass in a Service object\n",
      "  driver=webdriver.Chrome(PATH)\n",
      "error 1\n",
      "error 4\n",
      "todo OK\n",
      "https://open.spotify.com/track/1lV3QHHMAQt0Kc1ioZq2MP?si=11a655b6db98496d\n",
      "/var/folders/s4/79ykyqjn7f16bdl_zqjgsbzh0000gp/T/ipykernel_14170/863171515.py:4: DeprecationWarning: executable_path has been deprecated, please pass in a Service object\n",
      "  driver=webdriver.Chrome(PATH)\n",
      "error 1\n",
      "error 4\n",
      "todo OK\n",
      "https://open.spotify.com/track/1lV3QHHMAQt0Kc1ioZq2MP?si=11a655b6db98496d\n",
      "/var/folders/s4/79ykyqjn7f16bdl_zqjgsbzh0000gp/T/ipykernel_14170/863171515.py:4: DeprecationWarning: executable_path has been deprecated, please pass in a Service object\n",
      "  driver=webdriver.Chrome(PATH)\n",
      "error 1\n",
      "error 4\n",
      "todo OK\n",
      "https://open.spotify.com/track/1lV3QHHMAQt0Kc1ioZq2MP?si=11a655b6db98496d\n",
      "/var/folders/s4/79ykyqjn7f16bdl_zqjgsbzh0000gp/T/ipykernel_14170/863171515.py:4: DeprecationWarning: executable_path has been deprecated, please pass in a Service object\n",
      "  driver=webdriver.Chrome(PATH)\n",
      "todo OK\n",
      "https://open.spotify.com/track/7AeM3O8qWnX5jevjHs8inC?si=01fa191f55ad4bc9\n",
      "/var/folders/s4/79ykyqjn7f16bdl_zqjgsbzh0000gp/T/ipykernel_14170/863171515.py:4: DeprecationWarning: executable_path has been deprecated, please pass in a Service object\n",
      "  driver=webdriver.Chrome(PATH)\n",
      "todo OK\n",
      "https://open.spotify.com/track/5zNW5ARjYhJQJz1AChP33n?si=d85bdf793fe74ec5\n",
      "/var/folders/s4/79ykyqjn7f16bdl_zqjgsbzh0000gp/T/ipykernel_14170/863171515.py:4: DeprecationWarning: executable_path has been deprecated, please pass in a Service object\n",
      "  driver=webdriver.Chrome(PATH)\n",
      "todo OK\n",
      "https://open.spotify.com/track/5SixeLvPsYpk7qq9lo5xYg?si=7cc08b242dfa4fb5\n",
      "/var/folders/s4/79ykyqjn7f16bdl_zqjgsbzh0000gp/T/ipykernel_14170/863171515.py:4: DeprecationWarning: executable_path has been deprecated, please pass in a Service object\n",
      "  driver=webdriver.Chrome(PATH)\n",
      "error 4\n",
      "todo OK\n",
      "https://open.spotify.com/track/5SixeLvPsYpk7qq9lo5xYg?si=7cc08b242dfa4fb5\n",
      "/var/folders/s4/79ykyqjn7f16bdl_zqjgsbzh0000gp/T/ipykernel_14170/863171515.py:4: DeprecationWarning: executable_path has been deprecated, please pass in a Service object\n",
      "  driver=webdriver.Chrome(PATH)\n",
      "error 1\n",
      "todo OK\n",
      "https://open.spotify.com/track/6Zu3aw7FfjAF9WA0fA81Oq?si=8689e571cfb9481d\n",
      "/var/folders/s4/79ykyqjn7f16bdl_zqjgsbzh0000gp/T/ipykernel_14170/863171515.py:4: DeprecationWarning: executable_path has been deprecated, please pass in a Service object\n",
      "  driver=webdriver.Chrome(PATH)\n",
      "error 1\n",
      "todo OK\n",
      "https://open.spotify.com/track/4fSIb4hdOQ151TILNsSEaF?si=52212f044bb24b61\n",
      "/var/folders/s4/79ykyqjn7f16bdl_zqjgsbzh0000gp/T/ipykernel_14170/863171515.py:4: DeprecationWarning: executable_path has been deprecated, please pass in a Service object\n",
      "  driver=webdriver.Chrome(PATH)\n",
      "error 1\n",
      "error 4\n",
      "todo OK\n",
      "https://open.spotify.com/track/4fSIb4hdOQ151TILNsSEaF?si=52212f044bb24b61\n",
      "/var/folders/s4/79ykyqjn7f16bdl_zqjgsbzh0000gp/T/ipykernel_14170/863171515.py:4: DeprecationWarning: executable_path has been deprecated, please pass in a Service object\n",
      "  driver=webdriver.Chrome(PATH)\n",
      "error 1\n",
      "todo OK\n",
      "https://open.spotify.com/track/3PfIrDoz19wz7qK7tYeu62?si=f590c76e53d648f7\n",
      "/var/folders/s4/79ykyqjn7f16bdl_zqjgsbzh0000gp/T/ipykernel_14170/863171515.py:4: DeprecationWarning: executable_path has been deprecated, please pass in a Service object\n",
      "  driver=webdriver.Chrome(PATH)\n",
      "error 1\n",
      "error 4\n",
      "todo OK\n",
      "https://open.spotify.com/track/3PfIrDoz19wz7qK7tYeu62?si=f590c76e53d648f7\n",
      "/var/folders/s4/79ykyqjn7f16bdl_zqjgsbzh0000gp/T/ipykernel_14170/863171515.py:4: DeprecationWarning: executable_path has been deprecated, please pass in a Service object\n",
      "  driver=webdriver.Chrome(PATH)\n",
      "todo OK\n",
      "https://open.spotify.com/track/5YaskwnGDZFDRipaqzbwQx?si=bd1b18a58147418b\n",
      "/var/folders/s4/79ykyqjn7f16bdl_zqjgsbzh0000gp/T/ipykernel_14170/863171515.py:4: DeprecationWarning: executable_path has been deprecated, please pass in a Service object\n",
      "  driver=webdriver.Chrome(PATH)\n",
      "error 4\n",
      "todo OK\n",
      "https://open.spotify.com/track/5YaskwnGDZFDRipaqzbwQx?si=bd1b18a58147418b\n",
      "/var/folders/s4/79ykyqjn7f16bdl_zqjgsbzh0000gp/T/ipykernel_14170/863171515.py:4: DeprecationWarning: executable_path has been deprecated, please pass in a Service object\n",
      "  driver=webdriver.Chrome(PATH)\n",
      "error 1\n",
      "error 4\n",
      "todo OK\n",
      "https://open.spotify.com/track/5YaskwnGDZFDRipaqzbwQx?si=bd1b18a58147418b\n",
      "/var/folders/s4/79ykyqjn7f16bdl_zqjgsbzh0000gp/T/ipykernel_14170/863171515.py:4: DeprecationWarning: executable_path has been deprecated, please pass in a Service object\n",
      "  driver=webdriver.Chrome(PATH)\n",
      "error 4\n",
      "todo OK\n",
      "https://open.spotify.com/track/5YaskwnGDZFDRipaqzbwQx?si=bd1b18a58147418b\n",
      "/var/folders/s4/79ykyqjn7f16bdl_zqjgsbzh0000gp/T/ipykernel_14170/863171515.py:4: DeprecationWarning: executable_path has been deprecated, please pass in a Service object\n",
      "  driver=webdriver.Chrome(PATH)\n",
      "error 0\n",
      "error 1\n",
      "error 2\n",
      "error 3\n",
      "error 4\n",
      "todo OK\n",
      "https://open.spotify.com/track/5YaskwnGDZFDRipaqzbwQx?si=bd1b18a58147418b\n",
      "/var/folders/s4/79ykyqjn7f16bdl_zqjgsbzh0000gp/T/ipykernel_14170/863171515.py:4: DeprecationWarning: executable_path has been deprecated, please pass in a Service object\n",
      "  driver=webdriver.Chrome(PATH)\n",
      "error 1\n",
      "todo OK\n",
      "https://open.spotify.com/track/7xQAfvXzm3AkraOtGPWIZg?si=ea12ece00d874d0b\n",
      "/var/folders/s4/79ykyqjn7f16bdl_zqjgsbzh0000gp/T/ipykernel_14170/863171515.py:4: DeprecationWarning: executable_path has been deprecated, please pass in a Service object\n",
      "  driver=webdriver.Chrome(PATH)\n",
      "error 1\n",
      "todo OK\n",
      "https://open.spotify.com/track/4DERbz1e89YD9VZt7or9GB?si=133a1af5a56e4389\n",
      "/var/folders/s4/79ykyqjn7f16bdl_zqjgsbzh0000gp/T/ipykernel_14170/863171515.py:4: DeprecationWarning: executable_path has been deprecated, please pass in a Service object\n",
      "  driver=webdriver.Chrome(PATH)\n",
      "error 1\n",
      "error 4\n",
      "todo OK\n",
      "https://open.spotify.com/track/4DERbz1e89YD9VZt7or9GB?si=133a1af5a56e4389\n",
      "/var/folders/s4/79ykyqjn7f16bdl_zqjgsbzh0000gp/T/ipykernel_14170/863171515.py:4: DeprecationWarning: executable_path has been deprecated, please pass in a Service object\n",
      "  driver=webdriver.Chrome(PATH)\n",
      "error 1\n",
      "todo OK\n",
      "https://open.spotify.com/track/78wyf1JZmuzIoX0cqtTvCd?si=402b7a454e694307\n",
      "/var/folders/s4/79ykyqjn7f16bdl_zqjgsbzh0000gp/T/ipykernel_14170/863171515.py:4: DeprecationWarning: executable_path has been deprecated, please pass in a Service object\n",
      "  driver=webdriver.Chrome(PATH)\n",
      "error 1\n",
      "todo OK\n",
      "https://open.spotify.com/track/4KQ0rQMuQJf2SSQMwJFNhM?si=bb3db856e228491f\n",
      "/var/folders/s4/79ykyqjn7f16bdl_zqjgsbzh0000gp/T/ipykernel_14170/863171515.py:4: DeprecationWarning: executable_path has been deprecated, please pass in a Service object\n",
      "  driver=webdriver.Chrome(PATH)\n",
      "error 4\n",
      "todo OK\n",
      "https://open.spotify.com/track/4KQ0rQMuQJf2SSQMwJFNhM?si=bb3db856e228491f\n",
      "/var/folders/s4/79ykyqjn7f16bdl_zqjgsbzh0000gp/T/ipykernel_14170/863171515.py:4: DeprecationWarning: executable_path has been deprecated, please pass in a Service object\n",
      "  driver=webdriver.Chrome(PATH)\n",
      "error 1\n",
      "todo OK\n",
      "https://open.spotify.com/track/0rdvxChAjvco05muND6SfN?si=a4a5241ecedb431a\n",
      "/var/folders/s4/79ykyqjn7f16bdl_zqjgsbzh0000gp/T/ipykernel_14170/863171515.py:4: DeprecationWarning: executable_path has been deprecated, please pass in a Service object\n",
      "  driver=webdriver.Chrome(PATH)\n",
      "todo OK\n",
      "https://open.spotify.com/track/505pS73CWBrQPE811qppNw?si=a8899aaba17b446d\n",
      "/var/folders/s4/79ykyqjn7f16bdl_zqjgsbzh0000gp/T/ipykernel_14170/863171515.py:4: DeprecationWarning: executable_path has been deprecated, please pass in a Service object\n",
      "  driver=webdriver.Chrome(PATH)\n",
      "error 1\n",
      "todo OK\n",
      "https://open.spotify.com/track/4wKEvlClvZgXcrSCSfPCxV?si=babc48fa7e9e4de3\n",
      "/var/folders/s4/79ykyqjn7f16bdl_zqjgsbzh0000gp/T/ipykernel_14170/863171515.py:4: DeprecationWarning: executable_path has been deprecated, please pass in a Service object\n",
      "  driver=webdriver.Chrome(PATH)\n",
      "error 1\n",
      "todo OK\n",
      "https://open.spotify.com/track/652oAvFglJKrmCCmInuLcc?si=bf9bbb4253d9480e\n",
      "/var/folders/s4/79ykyqjn7f16bdl_zqjgsbzh0000gp/T/ipykernel_14170/863171515.py:4: DeprecationWarning: executable_path has been deprecated, please pass in a Service object\n",
      "  driver=webdriver.Chrome(PATH)\n",
      "error 1\n",
      "todo OK\n",
      "https://open.spotify.com/track/1y3Vz6UcInyQqeYuW2k1EX?si=35e5053f6d814478\n",
      "/var/folders/s4/79ykyqjn7f16bdl_zqjgsbzh0000gp/T/ipykernel_14170/863171515.py:4: DeprecationWarning: executable_path has been deprecated, please pass in a Service object\n",
      "  driver=webdriver.Chrome(PATH)\n",
      "error 4\n",
      "todo OK\n",
      "https://open.spotify.com/track/1y3Vz6UcInyQqeYuW2k1EX?si=35e5053f6d814478\n",
      "/var/folders/s4/79ykyqjn7f16bdl_zqjgsbzh0000gp/T/ipykernel_14170/863171515.py:4: DeprecationWarning: executable_path has been deprecated, please pass in a Service object\n",
      "  driver=webdriver.Chrome(PATH)\n",
      "todo OK\n",
      "https://open.spotify.com/track/2ZpP2JzjOHH002EA7ybQXc?si=6245bccc350a4e2a\n",
      "/var/folders/s4/79ykyqjn7f16bdl_zqjgsbzh0000gp/T/ipykernel_14170/863171515.py:4: DeprecationWarning: executable_path has been deprecated, please pass in a Service object\n",
      "  driver=webdriver.Chrome(PATH)\n",
      "error 4\n",
      "todo OK\n",
      "https://open.spotify.com/track/2ZpP2JzjOHH002EA7ybQXc?si=6245bccc350a4e2a\n",
      "/var/folders/s4/79ykyqjn7f16bdl_zqjgsbzh0000gp/T/ipykernel_14170/863171515.py:4: DeprecationWarning: executable_path has been deprecated, please pass in a Service object\n",
      "  driver=webdriver.Chrome(PATH)\n",
      "error 1\n",
      "todo OK\n",
      "https://open.spotify.com/track/2my7K20Fv5OtE27cjG9sfu?si=dfd03e19e3dd41eb\n",
      "/var/folders/s4/79ykyqjn7f16bdl_zqjgsbzh0000gp/T/ipykernel_14170/863171515.py:4: DeprecationWarning: executable_path has been deprecated, please pass in a Service object\n",
      "  driver=webdriver.Chrome(PATH)\n",
      "error 1\n",
      "error 4\n",
      "todo OK\n",
      "https://open.spotify.com/track/2my7K20Fv5OtE27cjG9sfu?si=dfd03e19e3dd41eb\n",
      "/var/folders/s4/79ykyqjn7f16bdl_zqjgsbzh0000gp/T/ipykernel_14170/863171515.py:4: DeprecationWarning: executable_path has been deprecated, please pass in a Service object\n",
      "  driver=webdriver.Chrome(PATH)\n",
      "todo OK\n",
      "https://open.spotify.com/track/4gJ3503y9vLcCdxQFpv3fQ?si=ec52a886889b492b\n",
      "/var/folders/s4/79ykyqjn7f16bdl_zqjgsbzh0000gp/T/ipykernel_14170/863171515.py:4: DeprecationWarning: executable_path has been deprecated, please pass in a Service object\n",
      "  driver=webdriver.Chrome(PATH)\n",
      "error 4\n",
      "todo OK\n",
      "https://open.spotify.com/track/4gJ3503y9vLcCdxQFpv3fQ?si=ec52a886889b492b\n",
      "/var/folders/s4/79ykyqjn7f16bdl_zqjgsbzh0000gp/T/ipykernel_14170/863171515.py:4: DeprecationWarning: executable_path has been deprecated, please pass in a Service object\n",
      "  driver=webdriver.Chrome(PATH)\n",
      "error 1\n",
      "error 4\n",
      "todo OK\n",
      "https://open.spotify.com/track/4gJ3503y9vLcCdxQFpv3fQ?si=ec52a886889b492b\n",
      "/var/folders/s4/79ykyqjn7f16bdl_zqjgsbzh0000gp/T/ipykernel_14170/863171515.py:4: DeprecationWarning: executable_path has been deprecated, please pass in a Service object\n",
      "  driver=webdriver.Chrome(PATH)\n",
      "error 1\n",
      "error 4\n",
      "todo OK\n",
      "https://open.spotify.com/track/4gJ3503y9vLcCdxQFpv3fQ?si=ec52a886889b492b\n",
      "/var/folders/s4/79ykyqjn7f16bdl_zqjgsbzh0000gp/T/ipykernel_14170/863171515.py:4: DeprecationWarning: executable_path has been deprecated, please pass in a Service object\n",
      "  driver=webdriver.Chrome(PATH)\n",
      "error 1\n",
      "error 4\n",
      "todo OK\n",
      "https://open.spotify.com/track/4gJ3503y9vLcCdxQFpv3fQ?si=ec52a886889b492b\n",
      "/var/folders/s4/79ykyqjn7f16bdl_zqjgsbzh0000gp/T/ipykernel_14170/863171515.py:4: DeprecationWarning: executable_path has been deprecated, please pass in a Service object\n",
      "  driver=webdriver.Chrome(PATH)\n",
      "error 1\n",
      "todo OK\n",
      "https://open.spotify.com/track/4uiFw0YvHosZT3qRf1QAvs?si=329469abf2164fbb\n",
      "/var/folders/s4/79ykyqjn7f16bdl_zqjgsbzh0000gp/T/ipykernel_14170/863171515.py:4: DeprecationWarning: executable_path has been deprecated, please pass in a Service object\n",
      "  driver=webdriver.Chrome(PATH)\n",
      "todo OK\n",
      "https://open.spotify.com/track/37oaImGdDkQgIIUZDvFGdr?si=616cdd934ff247d7\n",
      "/var/folders/s4/79ykyqjn7f16bdl_zqjgsbzh0000gp/T/ipykernel_14170/863171515.py:4: DeprecationWarning: executable_path has been deprecated, please pass in a Service object\n",
      "  driver=webdriver.Chrome(PATH)\n",
      "error 1\n",
      "error 4\n",
      "todo OK\n",
      "https://open.spotify.com/track/37oaImGdDkQgIIUZDvFGdr?si=616cdd934ff247d7\n",
      "/var/folders/s4/79ykyqjn7f16bdl_zqjgsbzh0000gp/T/ipykernel_14170/863171515.py:4: DeprecationWarning: executable_path has been deprecated, please pass in a Service object\n",
      "  driver=webdriver.Chrome(PATH)\n",
      "error 1\n",
      "error 4\n",
      "todo OK\n",
      "https://open.spotify.com/track/37oaImGdDkQgIIUZDvFGdr?si=616cdd934ff247d7\n",
      "/var/folders/s4/79ykyqjn7f16bdl_zqjgsbzh0000gp/T/ipykernel_14170/863171515.py:4: DeprecationWarning: executable_path has been deprecated, please pass in a Service object\n",
      "  driver=webdriver.Chrome(PATH)\n",
      "error 1\n",
      "todo OK\n",
      "https://open.spotify.com/track/7zNGzcGEnfVld7PdlXSeSa?si=1bedd5337b7f4375\n",
      "/var/folders/s4/79ykyqjn7f16bdl_zqjgsbzh0000gp/T/ipykernel_14170/863171515.py:4: DeprecationWarning: executable_path has been deprecated, please pass in a Service object\n",
      "  driver=webdriver.Chrome(PATH)\n",
      "error 1\n",
      "error 4\n",
      "todo OK\n",
      "https://open.spotify.com/track/7zNGzcGEnfVld7PdlXSeSa?si=1bedd5337b7f4375\n",
      "/var/folders/s4/79ykyqjn7f16bdl_zqjgsbzh0000gp/T/ipykernel_14170/863171515.py:4: DeprecationWarning: executable_path has been deprecated, please pass in a Service object\n",
      "  driver=webdriver.Chrome(PATH)\n",
      "error 1\n",
      "todo OK\n",
      "https://open.spotify.com/track/3GMB07AYPzuPaH7XQpmDxq?si=ff6207c87d1a4a79\n",
      "/var/folders/s4/79ykyqjn7f16bdl_zqjgsbzh0000gp/T/ipykernel_14170/863171515.py:4: DeprecationWarning: executable_path has been deprecated, please pass in a Service object\n",
      "  driver=webdriver.Chrome(PATH)\n",
      "error 1\n",
      "todo OK\n",
      "https://open.spotify.com/track/3ZuFInBcAYRuRzoresTxCW?si=c44422bdaa6649f4\n",
      "/var/folders/s4/79ykyqjn7f16bdl_zqjgsbzh0000gp/T/ipykernel_14170/863171515.py:4: DeprecationWarning: executable_path has been deprecated, please pass in a Service object\n",
      "  driver=webdriver.Chrome(PATH)\n",
      "error 1\n",
      "error 4\n",
      "todo OK\n",
      "https://open.spotify.com/track/3ZuFInBcAYRuRzoresTxCW?si=c44422bdaa6649f4\n",
      "/var/folders/s4/79ykyqjn7f16bdl_zqjgsbzh0000gp/T/ipykernel_14170/863171515.py:4: DeprecationWarning: executable_path has been deprecated, please pass in a Service object\n",
      "  driver=webdriver.Chrome(PATH)\n",
      "error 1\n",
      "error 4\n",
      "todo OK\n",
      "https://open.spotify.com/track/3ZuFInBcAYRuRzoresTxCW?si=c44422bdaa6649f4\n",
      "/var/folders/s4/79ykyqjn7f16bdl_zqjgsbzh0000gp/T/ipykernel_14170/863171515.py:4: DeprecationWarning: executable_path has been deprecated, please pass in a Service object\n",
      "  driver=webdriver.Chrome(PATH)\n",
      "error 1\n",
      "error 4\n",
      "todo OK\n",
      "https://open.spotify.com/track/3ZuFInBcAYRuRzoresTxCW?si=c44422bdaa6649f4\n",
      "/var/folders/s4/79ykyqjn7f16bdl_zqjgsbzh0000gp/T/ipykernel_14170/863171515.py:4: DeprecationWarning: executable_path has been deprecated, please pass in a Service object\n",
      "  driver=webdriver.Chrome(PATH)\n",
      "error 1\n",
      "todo OK\n",
      "https://open.spotify.com/track/6WeJGp7MB7sEEf9InLEvh1?si=daed861102074061\n",
      "/var/folders/s4/79ykyqjn7f16bdl_zqjgsbzh0000gp/T/ipykernel_14170/863171515.py:4: DeprecationWarning: executable_path has been deprecated, please pass in a Service object\n",
      "  driver=webdriver.Chrome(PATH)\n",
      "error 1\n",
      "error 4\n",
      "todo OK\n",
      "https://open.spotify.com/track/6WeJGp7MB7sEEf9InLEvh1?si=daed861102074061\n",
      "/var/folders/s4/79ykyqjn7f16bdl_zqjgsbzh0000gp/T/ipykernel_14170/863171515.py:4: DeprecationWarning: executable_path has been deprecated, please pass in a Service object\n",
      "  driver=webdriver.Chrome(PATH)\n",
      "error 4\n",
      "todo OK\n",
      "https://open.spotify.com/track/6WeJGp7MB7sEEf9InLEvh1?si=daed861102074061\n",
      "/var/folders/s4/79ykyqjn7f16bdl_zqjgsbzh0000gp/T/ipykernel_14170/863171515.py:4: DeprecationWarning: executable_path has been deprecated, please pass in a Service object\n",
      "  driver=webdriver.Chrome(PATH)\n",
      "error 4\n",
      "todo OK\n",
      "https://open.spotify.com/track/6WeJGp7MB7sEEf9InLEvh1?si=daed861102074061\n",
      "/var/folders/s4/79ykyqjn7f16bdl_zqjgsbzh0000gp/T/ipykernel_14170/863171515.py:4: DeprecationWarning: executable_path has been deprecated, please pass in a Service object\n",
      "  driver=webdriver.Chrome(PATH)\n",
      "todo OK\n",
      "https://open.spotify.com/track/7ug6VGPW7YpDjj2eI4MFc5?si=1b451192424f4e5a\n",
      "/var/folders/s4/79ykyqjn7f16bdl_zqjgsbzh0000gp/T/ipykernel_14170/863171515.py:4: DeprecationWarning: executable_path has been deprecated, please pass in a Service object\n",
      "  driver=webdriver.Chrome(PATH)\n",
      "error 4\n",
      "todo OK\n",
      "https://open.spotify.com/track/7ug6VGPW7YpDjj2eI4MFc5?si=1b451192424f4e5a\n",
      "/var/folders/s4/79ykyqjn7f16bdl_zqjgsbzh0000gp/T/ipykernel_14170/863171515.py:4: DeprecationWarning: executable_path has been deprecated, please pass in a Service object\n",
      "  driver=webdriver.Chrome(PATH)\n",
      "todo OK\n",
      "https://open.spotify.com/track/0RstfX9nRY1Lfuy1808MoT?si=3dcc53bf52894213\n",
      "/var/folders/s4/79ykyqjn7f16bdl_zqjgsbzh0000gp/T/ipykernel_14170/863171515.py:4: DeprecationWarning: executable_path has been deprecated, please pass in a Service object\n",
      "  driver=webdriver.Chrome(PATH)\n",
      "error 1\n",
      "todo OK\n",
      "https://open.spotify.com/track/1B62o4CbdL9ckGvwsz2cgn?si=d52cceafcc7740af\n",
      "/var/folders/s4/79ykyqjn7f16bdl_zqjgsbzh0000gp/T/ipykernel_14170/863171515.py:4: DeprecationWarning: executable_path has been deprecated, please pass in a Service object\n",
      "  driver=webdriver.Chrome(PATH)\n",
      "error 1\n",
      "todo OK\n",
      "https://open.spotify.com/track/6pPLhloHxLWiMlAT5Xn1gw?si=2f20d5a3f86b47dc\n",
      "/var/folders/s4/79ykyqjn7f16bdl_zqjgsbzh0000gp/T/ipykernel_14170/863171515.py:4: DeprecationWarning: executable_path has been deprecated, please pass in a Service object\n",
      "  driver=webdriver.Chrome(PATH)\n",
      "error 1\n",
      "error 4\n",
      "todo OK\n",
      "https://open.spotify.com/track/6pPLhloHxLWiMlAT5Xn1gw?si=2f20d5a3f86b47dc\n",
      "/var/folders/s4/79ykyqjn7f16bdl_zqjgsbzh0000gp/T/ipykernel_14170/863171515.py:4: DeprecationWarning: executable_path has been deprecated, please pass in a Service object\n",
      "  driver=webdriver.Chrome(PATH)\n",
      "todo OK\n",
      "https://open.spotify.com/track/3oCd8HkxnzvAWHxaZi3jIB?si=079cb8f0e8274f95\n",
      "/var/folders/s4/79ykyqjn7f16bdl_zqjgsbzh0000gp/T/ipykernel_14170/863171515.py:4: DeprecationWarning: executable_path has been deprecated, please pass in a Service object\n",
      "  driver=webdriver.Chrome(PATH)\n",
      "error 1\n",
      "todo OK\n",
      "https://open.spotify.com/track/0V5cvmTKsYmF5FmGGEAfmS?si=11a7e87cd7904d7f\n",
      "/var/folders/s4/79ykyqjn7f16bdl_zqjgsbzh0000gp/T/ipykernel_14170/863171515.py:4: DeprecationWarning: executable_path has been deprecated, please pass in a Service object\n",
      "  driver=webdriver.Chrome(PATH)\n",
      "error 1\n",
      "todo OK\n",
      "https://open.spotify.com/track/2dW05vYi45Fd65qGrVzPEB?si=029eaf8cf92e4219\n",
      "/var/folders/s4/79ykyqjn7f16bdl_zqjgsbzh0000gp/T/ipykernel_14170/863171515.py:4: DeprecationWarning: executable_path has been deprecated, please pass in a Service object\n",
      "  driver=webdriver.Chrome(PATH)\n",
      "todo OK\n",
      "https://open.spotify.com/track/2Tq3fayHpjP2nOZlBEjt3N?si=c5860dce9d2f49e3\n",
      "/var/folders/s4/79ykyqjn7f16bdl_zqjgsbzh0000gp/T/ipykernel_14170/863171515.py:4: DeprecationWarning: executable_path has been deprecated, please pass in a Service object\n",
      "  driver=webdriver.Chrome(PATH)\n",
      "todo OK\n",
      "https://open.spotify.com/track/0bndF6tTweNXPjwpPL7Slt?si=8d33af59a76e4d70\n",
      "/var/folders/s4/79ykyqjn7f16bdl_zqjgsbzh0000gp/T/ipykernel_14170/863171515.py:4: DeprecationWarning: executable_path has been deprecated, please pass in a Service object\n",
      "  driver=webdriver.Chrome(PATH)\n",
      "error 1\n",
      "todo OK\n",
      "https://open.spotify.com/track/35PKfoynRpVFoAUE3D5Kc6?si=3628bfdf65074337\n",
      "/var/folders/s4/79ykyqjn7f16bdl_zqjgsbzh0000gp/T/ipykernel_14170/863171515.py:4: DeprecationWarning: executable_path has been deprecated, please pass in a Service object\n",
      "  driver=webdriver.Chrome(PATH)\n",
      "error 1\n",
      "todo OK\n",
      "https://open.spotify.com/track/3G6hD9B2ZHOsgf4WfNu7X1?si=ddfbf6d1e5824fda\n",
      "/var/folders/s4/79ykyqjn7f16bdl_zqjgsbzh0000gp/T/ipykernel_14170/863171515.py:4: DeprecationWarning: executable_path has been deprecated, please pass in a Service object\n",
      "  driver=webdriver.Chrome(PATH)\n",
      "error 1\n",
      "error 4\n",
      "todo OK\n",
      "https://open.spotify.com/track/3G6hD9B2ZHOsgf4WfNu7X1?si=ddfbf6d1e5824fda\n",
      "/var/folders/s4/79ykyqjn7f16bdl_zqjgsbzh0000gp/T/ipykernel_14170/863171515.py:4: DeprecationWarning: executable_path has been deprecated, please pass in a Service object\n",
      "  driver=webdriver.Chrome(PATH)\n",
      "error 1\n",
      "todo OK\n",
      "https://open.spotify.com/track/0eu4C55hL6x29mmeAjytzC?si=d07d46ddf25c487b\n",
      "/var/folders/s4/79ykyqjn7f16bdl_zqjgsbzh0000gp/T/ipykernel_14170/863171515.py:4: DeprecationWarning: executable_path has been deprecated, please pass in a Service object\n",
      "  driver=webdriver.Chrome(PATH)\n",
      "error 1\n",
      "todo OK\n",
      "https://open.spotify.com/track/3BIIJgBJJ7NhhCv4MI6n7w?si=3a6bbe679e1f4c03\n",
      "/var/folders/s4/79ykyqjn7f16bdl_zqjgsbzh0000gp/T/ipykernel_14170/863171515.py:4: DeprecationWarning: executable_path has been deprecated, please pass in a Service object\n",
      "  driver=webdriver.Chrome(PATH)\n",
      "error 1\n",
      "error 4\n",
      "todo OK\n",
      "https://open.spotify.com/track/3BIIJgBJJ7NhhCv4MI6n7w?si=3a6bbe679e1f4c03\n",
      "/var/folders/s4/79ykyqjn7f16bdl_zqjgsbzh0000gp/T/ipykernel_14170/863171515.py:4: DeprecationWarning: executable_path has been deprecated, please pass in a Service object\n",
      "  driver=webdriver.Chrome(PATH)\n",
      "error 4\n",
      "todo OK\n",
      "https://open.spotify.com/track/3BIIJgBJJ7NhhCv4MI6n7w?si=3a6bbe679e1f4c03\n",
      "/var/folders/s4/79ykyqjn7f16bdl_zqjgsbzh0000gp/T/ipykernel_14170/863171515.py:4: DeprecationWarning: executable_path has been deprecated, please pass in a Service object\n",
      "  driver=webdriver.Chrome(PATH)\n",
      "todo OK\n",
      "https://open.spotify.com/track/5xvUgoVED1F4mBu8FL0HaW?si=d6bea55128354667\n",
      "/var/folders/s4/79ykyqjn7f16bdl_zqjgsbzh0000gp/T/ipykernel_14170/863171515.py:4: DeprecationWarning: executable_path has been deprecated, please pass in a Service object\n",
      "  driver=webdriver.Chrome(PATH)\n",
      "todo OK\n",
      "https://open.spotify.com/track/2kIq7Oq6YNfdUuTrmPC4w1?si=7f5a0a2a32e548a3\n",
      "/var/folders/s4/79ykyqjn7f16bdl_zqjgsbzh0000gp/T/ipykernel_14170/863171515.py:4: DeprecationWarning: executable_path has been deprecated, please pass in a Service object\n",
      "  driver=webdriver.Chrome(PATH)\n",
      "todo OK\n",
      "https://open.spotify.com/track/3E7dfMvvCLUddWissuqMwr?si=82b580d5827a454d\n",
      "/var/folders/s4/79ykyqjn7f16bdl_zqjgsbzh0000gp/T/ipykernel_14170/863171515.py:4: DeprecationWarning: executable_path has been deprecated, please pass in a Service object\n",
      "  driver=webdriver.Chrome(PATH)\n",
      "todo OK\n",
      "https://open.spotify.com/track/33IQnmtJYjCcrvUUMQgi80?si=7d4db8dc17cd4453\n",
      "/var/folders/s4/79ykyqjn7f16bdl_zqjgsbzh0000gp/T/ipykernel_14170/863171515.py:4: DeprecationWarning: executable_path has been deprecated, please pass in a Service object\n",
      "  driver=webdriver.Chrome(PATH)\n",
      "error 4\n",
      "todo OK\n",
      "https://open.spotify.com/track/33IQnmtJYjCcrvUUMQgi80?si=7d4db8dc17cd4453\n",
      "/var/folders/s4/79ykyqjn7f16bdl_zqjgsbzh0000gp/T/ipykernel_14170/863171515.py:4: DeprecationWarning: executable_path has been deprecated, please pass in a Service object\n",
      "  driver=webdriver.Chrome(PATH)\n",
      "todo OK\n",
      "https://open.spotify.com/track/2z4U9d5OAA4YLNXoCgioxo?si=eec268c052964f0d\n",
      "/var/folders/s4/79ykyqjn7f16bdl_zqjgsbzh0000gp/T/ipykernel_14170/863171515.py:4: DeprecationWarning: executable_path has been deprecated, please pass in a Service object\n",
      "  driver=webdriver.Chrome(PATH)\n",
      "error 1\n",
      "todo OK\n",
      "https://open.spotify.com/track/07HPV6hzecJmMJwsIX8YVU?si=9f2825ef5ddb4559\n",
      "/var/folders/s4/79ykyqjn7f16bdl_zqjgsbzh0000gp/T/ipykernel_14170/863171515.py:4: DeprecationWarning: executable_path has been deprecated, please pass in a Service object\n",
      "  driver=webdriver.Chrome(PATH)\n",
      "error 1\n",
      "error 4\n",
      "todo OK\n",
      "https://open.spotify.com/track/07HPV6hzecJmMJwsIX8YVU?si=9f2825ef5ddb4559\n",
      "/var/folders/s4/79ykyqjn7f16bdl_zqjgsbzh0000gp/T/ipykernel_14170/863171515.py:4: DeprecationWarning: executable_path has been deprecated, please pass in a Service object\n",
      "  driver=webdriver.Chrome(PATH)\n",
      "error 1\n",
      "todo OK\n",
      "https://open.spotify.com/track/7gQ5c5HY6zMsIck6QLY9dJ?si=6a2b90edc4be46d0\n",
      "/var/folders/s4/79ykyqjn7f16bdl_zqjgsbzh0000gp/T/ipykernel_14170/863171515.py:4: DeprecationWarning: executable_path has been deprecated, please pass in a Service object\n",
      "  driver=webdriver.Chrome(PATH)\n",
      "error 0\n",
      "error 1\n",
      "error 2\n",
      "error 3\n",
      "error 4\n",
      "todo OK\n",
      "https://open.spotify.com/track/7gQ5c5HY6zMsIck6QLY9dJ?si=6a2b90edc4be46d0\n",
      "/var/folders/s4/79ykyqjn7f16bdl_zqjgsbzh0000gp/T/ipykernel_14170/863171515.py:4: DeprecationWarning: executable_path has been deprecated, please pass in a Service object\n",
      "  driver=webdriver.Chrome(PATH)\n",
      "error 1\n",
      "error 4\n",
      "todo OK\n",
      "https://open.spotify.com/track/7gQ5c5HY6zMsIck6QLY9dJ?si=6a2b90edc4be46d0\n",
      "/var/folders/s4/79ykyqjn7f16bdl_zqjgsbzh0000gp/T/ipykernel_14170/863171515.py:4: DeprecationWarning: executable_path has been deprecated, please pass in a Service object\n",
      "  driver=webdriver.Chrome(PATH)\n",
      "todo OK\n",
      "https://open.spotify.com/track/1hGy2eLcmC8eKx7qr1tOqx?si=b04320d2dd844b08\n",
      "/var/folders/s4/79ykyqjn7f16bdl_zqjgsbzh0000gp/T/ipykernel_14170/863171515.py:4: DeprecationWarning: executable_path has been deprecated, please pass in a Service object\n",
      "  driver=webdriver.Chrome(PATH)\n",
      "error 1\n",
      "error 2\n",
      "error 3\n",
      "error 4\n",
      "todo OK\n",
      "https://open.spotify.com/track/1hGy2eLcmC8eKx7qr1tOqx?si=b04320d2dd844b08\n",
      "/var/folders/s4/79ykyqjn7f16bdl_zqjgsbzh0000gp/T/ipykernel_14170/863171515.py:4: DeprecationWarning: executable_path has been deprecated, please pass in a Service object\n",
      "  driver=webdriver.Chrome(PATH)\n",
      "error 4\n",
      "todo OK\n",
      "https://open.spotify.com/track/1hGy2eLcmC8eKx7qr1tOqx?si=b04320d2dd844b08\n",
      "/var/folders/s4/79ykyqjn7f16bdl_zqjgsbzh0000gp/T/ipykernel_14170/863171515.py:4: DeprecationWarning: executable_path has been deprecated, please pass in a Service object\n",
      "  driver=webdriver.Chrome(PATH)\n",
      "todo OK\n",
      "https://open.spotify.com/track/0TzbmxnYrlMV6dEln2l9nb?si=e63c8c938b034b51\n",
      "/var/folders/s4/79ykyqjn7f16bdl_zqjgsbzh0000gp/T/ipykernel_14170/863171515.py:4: DeprecationWarning: executable_path has been deprecated, please pass in a Service object\n",
      "  driver=webdriver.Chrome(PATH)\n",
      "todo OK\n",
      "https://open.spotify.com/track/2y4lAQpi5VTNLu2ldeTdUH?si=dbcc2f46460e4db1\n",
      "/var/folders/s4/79ykyqjn7f16bdl_zqjgsbzh0000gp/T/ipykernel_14170/863171515.py:4: DeprecationWarning: executable_path has been deprecated, please pass in a Service object\n",
      "  driver=webdriver.Chrome(PATH)\n",
      "todo OK\n",
      "https://open.spotify.com/track/2y4lAQpi5VTNLu2ldeTdUH?si=dbcc2f46460e4db1\n",
      "/var/folders/s4/79ykyqjn7f16bdl_zqjgsbzh0000gp/T/ipykernel_14170/863171515.py:4: DeprecationWarning: executable_path has been deprecated, please pass in a Service object\n",
      "  driver=webdriver.Chrome(PATH)\n",
      "todo OK\n",
      "https://open.spotify.com/track/2KcNrONbZ0hvBPjvrDO2tx?si=1b5a0e68204e4ba0\n",
      "/var/folders/s4/79ykyqjn7f16bdl_zqjgsbzh0000gp/T/ipykernel_14170/863171515.py:4: DeprecationWarning: executable_path has been deprecated, please pass in a Service object\n",
      "  driver=webdriver.Chrome(PATH)\n",
      "error 1\n",
      "todo OK\n",
      "https://open.spotify.com/track/7AbLGIOzFkx6jHq5en5xiH?si=401ad137b4484bd0\n",
      "/var/folders/s4/79ykyqjn7f16bdl_zqjgsbzh0000gp/T/ipykernel_14170/863171515.py:4: DeprecationWarning: executable_path has been deprecated, please pass in a Service object\n",
      "  driver=webdriver.Chrome(PATH)\n",
      "error 1\n",
      "todo OK\n",
      "https://open.spotify.com/track/61OJxhoY3Ix50rYVKo8zRK?si=005dbc17d20e421b\n",
      "/var/folders/s4/79ykyqjn7f16bdl_zqjgsbzh0000gp/T/ipykernel_14170/863171515.py:4: DeprecationWarning: executable_path has been deprecated, please pass in a Service object\n",
      "  driver=webdriver.Chrome(PATH)\n",
      "error 1\n",
      "todo OK\n",
      "https://open.spotify.com/track/1qxZswAdBvM0JMUoV83J1b?si=1c3f239747c34337\n",
      "/var/folders/s4/79ykyqjn7f16bdl_zqjgsbzh0000gp/T/ipykernel_14170/863171515.py:4: DeprecationWarning: executable_path has been deprecated, please pass in a Service object\n",
      "  driver=webdriver.Chrome(PATH)\n",
      "error 1\n",
      "todo OK\n",
      "https://open.spotify.com/track/42Fm8hxhh8i0Zx0Si7XIxd?si=a14315115d0d45a3\n",
      "/var/folders/s4/79ykyqjn7f16bdl_zqjgsbzh0000gp/T/ipykernel_14170/863171515.py:4: DeprecationWarning: executable_path has been deprecated, please pass in a Service object\n",
      "  driver=webdriver.Chrome(PATH)\n",
      "error 1\n",
      "todo OK\n",
      "https://open.spotify.com/track/0JXXNGljqupsJaZsgSbMZV?si=b1baa7a7c92c41ab\n",
      "/var/folders/s4/79ykyqjn7f16bdl_zqjgsbzh0000gp/T/ipykernel_14170/863171515.py:4: DeprecationWarning: executable_path has been deprecated, please pass in a Service object\n",
      "  driver=webdriver.Chrome(PATH)\n",
      "error 1\n",
      "error 4\n",
      "todo OK\n",
      "https://open.spotify.com/track/0JXXNGljqupsJaZsgSbMZV?si=b1baa7a7c92c41ab\n",
      "/var/folders/s4/79ykyqjn7f16bdl_zqjgsbzh0000gp/T/ipykernel_14170/863171515.py:4: DeprecationWarning: executable_path has been deprecated, please pass in a Service object\n",
      "  driver=webdriver.Chrome(PATH)\n",
      "todo OK\n",
      "https://open.spotify.com/track/0GwMzBz32XMFIEBHrZ6qVD?si=bc1abed5e14a4905\n",
      "/var/folders/s4/79ykyqjn7f16bdl_zqjgsbzh0000gp/T/ipykernel_14170/863171515.py:4: DeprecationWarning: executable_path has been deprecated, please pass in a Service object\n",
      "  driver=webdriver.Chrome(PATH)\n",
      "error 1\n",
      "todo OK\n",
      "https://open.spotify.com/track/1170VohRSx6GwE6QDCHPPH?si=07bd3b58093b4e30\n",
      "/var/folders/s4/79ykyqjn7f16bdl_zqjgsbzh0000gp/T/ipykernel_14170/863171515.py:4: DeprecationWarning: executable_path has been deprecated, please pass in a Service object\n",
      "  driver=webdriver.Chrome(PATH)\n",
      "error 1\n",
      "error 4\n",
      "todo OK\n",
      "https://open.spotify.com/track/1170VohRSx6GwE6QDCHPPH?si=07bd3b58093b4e30\n",
      "/var/folders/s4/79ykyqjn7f16bdl_zqjgsbzh0000gp/T/ipykernel_14170/863171515.py:4: DeprecationWarning: executable_path has been deprecated, please pass in a Service object\n",
      "  driver=webdriver.Chrome(PATH)\n",
      "error 1\n",
      "todo OK\n",
      "https://open.spotify.com/track/5D246C2tLKCTeZgcsRfvcA?si=6086b8fdf0ec46e5\n",
      "/var/folders/s4/79ykyqjn7f16bdl_zqjgsbzh0000gp/T/ipykernel_14170/863171515.py:4: DeprecationWarning: executable_path has been deprecated, please pass in a Service object\n",
      "  driver=webdriver.Chrome(PATH)\n",
      "error 1\n",
      "todo OK\n",
      "https://open.spotify.com/track/3VCXx37jNGNOMns6z2OnvJ?si=0e4748f7bb7f44dd\n",
      "/var/folders/s4/79ykyqjn7f16bdl_zqjgsbzh0000gp/T/ipykernel_14170/863171515.py:4: DeprecationWarning: executable_path has been deprecated, please pass in a Service object\n",
      "  driver=webdriver.Chrome(PATH)\n",
      "error 1\n",
      "todo OK\n",
      "https://open.spotify.com/track/5MSshyHGM9ajWSEoBcR0jv?si=75c0057abc344a62\n",
      "/var/folders/s4/79ykyqjn7f16bdl_zqjgsbzh0000gp/T/ipykernel_14170/863171515.py:4: DeprecationWarning: executable_path has been deprecated, please pass in a Service object\n",
      "  driver=webdriver.Chrome(PATH)\n",
      "todo OK\n",
      "https://open.spotify.com/track/4PdLup4OaCGktZG8cvbkBz?si=39a8fa564e0c4cdc\n",
      "/var/folders/s4/79ykyqjn7f16bdl_zqjgsbzh0000gp/T/ipykernel_14170/863171515.py:4: DeprecationWarning: executable_path has been deprecated, please pass in a Service object\n",
      "  driver=webdriver.Chrome(PATH)\n",
      "error 1\n",
      "todo OK\n",
      "https://open.spotify.com/track/7BL33HmuFQien4olebugdj?si=6e67256a25a54cdb\n",
      "/var/folders/s4/79ykyqjn7f16bdl_zqjgsbzh0000gp/T/ipykernel_14170/863171515.py:4: DeprecationWarning: executable_path has been deprecated, please pass in a Service object\n",
      "  driver=webdriver.Chrome(PATH)\n",
      "error 1\n",
      "todo OK\n",
      "https://open.spotify.com/track/4BsLwvaJOTOHDNg7xMpvrL?si=be29cf704a0c4727\n",
      "/var/folders/s4/79ykyqjn7f16bdl_zqjgsbzh0000gp/T/ipykernel_14170/863171515.py:4: DeprecationWarning: executable_path has been deprecated, please pass in a Service object\n",
      "  driver=webdriver.Chrome(PATH)\n",
      "todo OK\n",
      "https://open.spotify.com/track/0y60itmpH0aPKsFiGxmtnh?si=12f20bf82bab480d\n",
      "/var/folders/s4/79ykyqjn7f16bdl_zqjgsbzh0000gp/T/ipykernel_14170/863171515.py:4: DeprecationWarning: executable_path has been deprecated, please pass in a Service object\n",
      "  driver=webdriver.Chrome(PATH)\n",
      "error 1\n",
      "todo OK\n",
      "https://open.spotify.com/track/20j7l6tFtc5lynXpbOQg1O?si=6613e4e871fa4d3e\n",
      "/var/folders/s4/79ykyqjn7f16bdl_zqjgsbzh0000gp/T/ipykernel_14170/863171515.py:4: DeprecationWarning: executable_path has been deprecated, please pass in a Service object\n",
      "  driver=webdriver.Chrome(PATH)\n",
      "error 1\n",
      "todo OK\n",
      "https://open.spotify.com/track/3HjAGIYYXG7PS7OegQa0xM?si=8dc4fbc0e013486b\n",
      "/var/folders/s4/79ykyqjn7f16bdl_zqjgsbzh0000gp/T/ipykernel_14170/863171515.py:4: DeprecationWarning: executable_path has been deprecated, please pass in a Service object\n",
      "  driver=webdriver.Chrome(PATH)\n",
      "error 1\n",
      "todo OK\n",
      "https://open.spotify.com/track/1F6IbA7di42uPc3cff8PXV?si=c57774a4de6242ad\n",
      "/var/folders/s4/79ykyqjn7f16bdl_zqjgsbzh0000gp/T/ipykernel_14170/863171515.py:4: DeprecationWarning: executable_path has been deprecated, please pass in a Service object\n",
      "  driver=webdriver.Chrome(PATH)\n",
      "error 1\n",
      "todo OK\n",
      "https://open.spotify.com/track/06nKF46jG8p1zwyP4ziAyG?si=114f815989724aba\n",
      "/var/folders/s4/79ykyqjn7f16bdl_zqjgsbzh0000gp/T/ipykernel_14170/863171515.py:4: DeprecationWarning: executable_path has been deprecated, please pass in a Service object\n",
      "  driver=webdriver.Chrome(PATH)\n",
      "error 1\n",
      "todo OK\n",
      "https://open.spotify.com/track/4RGWHfQeJftd5XrP8JUgFj?si=87511d6c177d45bc\n",
      "/var/folders/s4/79ykyqjn7f16bdl_zqjgsbzh0000gp/T/ipykernel_14170/863171515.py:4: DeprecationWarning: executable_path has been deprecated, please pass in a Service object\n",
      "  driver=webdriver.Chrome(PATH)\n",
      "error 1\n",
      "todo OK\n",
      "https://open.spotify.com/track/2i40wZkiPAGIFudrGH99nx?si=ad58165915d44574\n",
      "/var/folders/s4/79ykyqjn7f16bdl_zqjgsbzh0000gp/T/ipykernel_14170/863171515.py:4: DeprecationWarning: executable_path has been deprecated, please pass in a Service object\n",
      "  driver=webdriver.Chrome(PATH)\n",
      "error 1\n",
      "todo OK\n",
      "https://open.spotify.com/track/6AGOKlMZWLCaEJGnaROtF9?si=ea4ce97890f24034\n",
      "/var/folders/s4/79ykyqjn7f16bdl_zqjgsbzh0000gp/T/ipykernel_14170/863171515.py:4: DeprecationWarning: executable_path has been deprecated, please pass in a Service object\n",
      "  driver=webdriver.Chrome(PATH)\n",
      "error 1\n",
      "todo OK\n",
      "https://open.spotify.com/track/3nIlBeSIVnDbWFO3mExxV2?si=4b4e24aa17b44f8c\n",
      "/var/folders/s4/79ykyqjn7f16bdl_zqjgsbzh0000gp/T/ipykernel_14170/863171515.py:4: DeprecationWarning: executable_path has been deprecated, please pass in a Service object\n",
      "  driver=webdriver.Chrome(PATH)\n",
      "error 1\n",
      "todo OK\n",
      "https://open.spotify.com/track/2jBWraeAbImYmC7rRLPnXR?si=b71a8dd3658b4e08\n",
      "/var/folders/s4/79ykyqjn7f16bdl_zqjgsbzh0000gp/T/ipykernel_14170/863171515.py:4: DeprecationWarning: executable_path has been deprecated, please pass in a Service object\n",
      "  driver=webdriver.Chrome(PATH)\n",
      "error 1\n",
      "todo OK\n",
      "https://open.spotify.com/track/3R2x5zIz6rzoI1xTSB8hA7?si=72737458fd4a469d\n",
      "/var/folders/s4/79ykyqjn7f16bdl_zqjgsbzh0000gp/T/ipykernel_14170/863171515.py:4: DeprecationWarning: executable_path has been deprecated, please pass in a Service object\n",
      "  driver=webdriver.Chrome(PATH)\n",
      "error 1\n",
      "todo OK\n",
      "https://open.spotify.com/track/3Pm49Q2SBNpsPxzgP5gpJM?si=89fc29ebe2c04a89\n",
      "/var/folders/s4/79ykyqjn7f16bdl_zqjgsbzh0000gp/T/ipykernel_14170/863171515.py:4: DeprecationWarning: executable_path has been deprecated, please pass in a Service object\n",
      "  driver=webdriver.Chrome(PATH)\n",
      "error 1\n",
      "todo OK\n",
      "https://open.spotify.com/track/6fBfRNNUJfP2vuCqgSpEmW?si=0224f0e0279f48a1\n",
      "/var/folders/s4/79ykyqjn7f16bdl_zqjgsbzh0000gp/T/ipykernel_14170/863171515.py:4: DeprecationWarning: executable_path has been deprecated, please pass in a Service object\n",
      "  driver=webdriver.Chrome(PATH)\n",
      "todo OK\n",
      "https://open.spotify.com/track/0WKXtY7AJZvbLDj89fhVhy?si=e63ae5456ef84bde\n",
      "/var/folders/s4/79ykyqjn7f16bdl_zqjgsbzh0000gp/T/ipykernel_14170/863171515.py:4: DeprecationWarning: executable_path has been deprecated, please pass in a Service object\n",
      "  driver=webdriver.Chrome(PATH)\n",
      "error 1\n",
      "todo OK\n",
      "https://open.spotify.com/track/0WKXtY7AJZvbLDj89fhVhy?si=e63ae5456ef84bde\n",
      "/var/folders/s4/79ykyqjn7f16bdl_zqjgsbzh0000gp/T/ipykernel_14170/863171515.py:4: DeprecationWarning: executable_path has been deprecated, please pass in a Service object\n",
      "  driver=webdriver.Chrome(PATH)\n",
      "error 0\n",
      "error 1\n",
      "error 2\n",
      "error 3\n",
      "error 4\n",
      "todo OK\n",
      "https://open.spotify.com/track/0WKXtY7AJZvbLDj89fhVhy?si=e63ae5456ef84bde\n",
      "/var/folders/s4/79ykyqjn7f16bdl_zqjgsbzh0000gp/T/ipykernel_14170/863171515.py:4: DeprecationWarning: executable_path has been deprecated, please pass in a Service object\n",
      "  driver=webdriver.Chrome(PATH)\n",
      "error 0\n",
      "error 1\n",
      "error 2\n",
      "error 3\n",
      "error 4\n",
      "todo OK\n",
      "https://open.spotify.com/track/0WKXtY7AJZvbLDj89fhVhy?si=e63ae5456ef84bde\n",
      "/var/folders/s4/79ykyqjn7f16bdl_zqjgsbzh0000gp/T/ipykernel_14170/863171515.py:4: DeprecationWarning: executable_path has been deprecated, please pass in a Service object\n",
      "  driver=webdriver.Chrome(PATH)\n",
      "error 0\n",
      "error 1\n",
      "error 2\n",
      "error 3\n",
      "error 4\n",
      "todo OK\n",
      "https://open.spotify.com/track/0WKXtY7AJZvbLDj89fhVhy?si=e63ae5456ef84bde\n",
      "/var/folders/s4/79ykyqjn7f16bdl_zqjgsbzh0000gp/T/ipykernel_14170/863171515.py:4: DeprecationWarning: executable_path has been deprecated, please pass in a Service object\n",
      "  driver=webdriver.Chrome(PATH)\n",
      "error 0\n",
      "error 1\n",
      "error 2\n",
      "error 3\n",
      "error 4\n",
      "todo OK\n",
      "https://open.spotify.com/track/0WKXtY7AJZvbLDj89fhVhy?si=e63ae5456ef84bde\n",
      "/var/folders/s4/79ykyqjn7f16bdl_zqjgsbzh0000gp/T/ipykernel_14170/863171515.py:4: DeprecationWarning: executable_path has been deprecated, please pass in a Service object\n",
      "  driver=webdriver.Chrome(PATH)\n",
      "error 0\n",
      "error 1\n",
      "error 2\n",
      "error 3\n",
      "error 4\n",
      "todo OK\n",
      "https://open.spotify.com/track/0WKXtY7AJZvbLDj89fhVhy?si=e63ae5456ef84bde\n",
      "/var/folders/s4/79ykyqjn7f16bdl_zqjgsbzh0000gp/T/ipykernel_14170/863171515.py:4: DeprecationWarning: executable_path has been deprecated, please pass in a Service object\n",
      "  driver=webdriver.Chrome(PATH)\n",
      "error 0\n",
      "error 1\n",
      "error 2\n",
      "error 3\n",
      "error 4\n",
      "todo OK\n",
      "https://open.spotify.com/track/0WKXtY7AJZvbLDj89fhVhy?si=e63ae5456ef84bde\n",
      "/var/folders/s4/79ykyqjn7f16bdl_zqjgsbzh0000gp/T/ipykernel_14170/863171515.py:4: DeprecationWarning: executable_path has been deprecated, please pass in a Service object\n",
      "  driver=webdriver.Chrome(PATH)\n",
      "error 0\n",
      "error 1\n",
      "error 2\n",
      "error 3\n",
      "error 4\n",
      "todo OK\n",
      "https://open.spotify.com/track/0WKXtY7AJZvbLDj89fhVhy?si=e63ae5456ef84bde\n",
      "/var/folders/s4/79ykyqjn7f16bdl_zqjgsbzh0000gp/T/ipykernel_14170/863171515.py:4: DeprecationWarning: executable_path has been deprecated, please pass in a Service object\n",
      "  driver=webdriver.Chrome(PATH)\n",
      "error 0\n",
      "error 1\n",
      "error 2\n",
      "error 3\n",
      "error 4\n",
      "todo OK\n",
      "https://open.spotify.com/track/0WKXtY7AJZvbLDj89fhVhy?si=e63ae5456ef84bde\n",
      "/var/folders/s4/79ykyqjn7f16bdl_zqjgsbzh0000gp/T/ipykernel_14170/863171515.py:4: DeprecationWarning: executable_path has been deprecated, please pass in a Service object\n",
      "  driver=webdriver.Chrome(PATH)\n",
      "error 0\n",
      "error 1\n",
      "error 2\n",
      "error 3\n",
      "error 4\n",
      "todo OK\n",
      "https://open.spotify.com/track/0WKXtY7AJZvbLDj89fhVhy?si=e63ae5456ef84bde\n",
      "/var/folders/s4/79ykyqjn7f16bdl_zqjgsbzh0000gp/T/ipykernel_14170/863171515.py:4: DeprecationWarning: executable_path has been deprecated, please pass in a Service object\n",
      "  driver=webdriver.Chrome(PATH)\n",
      "error 0\n",
      "error 1\n",
      "error 2\n",
      "error 3\n",
      "error 4\n",
      "todo OK\n",
      "https://open.spotify.com/track/0WKXtY7AJZvbLDj89fhVhy?si=e63ae5456ef84bde\n",
      "/var/folders/s4/79ykyqjn7f16bdl_zqjgsbzh0000gp/T/ipykernel_14170/863171515.py:4: DeprecationWarning: executable_path has been deprecated, please pass in a Service object\n",
      "  driver=webdriver.Chrome(PATH)\n",
      "error 1\n",
      "todo OK\n",
      "https://open.spotify.com/track/6FE2iI43OZnszFLuLtvvmg?si=ccb1d7dcf8ac4c45\n",
      "/var/folders/s4/79ykyqjn7f16bdl_zqjgsbzh0000gp/T/ipykernel_14170/863171515.py:4: DeprecationWarning: executable_path has been deprecated, please pass in a Service object\n",
      "  driver=webdriver.Chrome(PATH)\n",
      "error 4\n",
      "todo OK\n",
      "https://open.spotify.com/track/6FE2iI43OZnszFLuLtvvmg?si=ccb1d7dcf8ac4c45\n",
      "/var/folders/s4/79ykyqjn7f16bdl_zqjgsbzh0000gp/T/ipykernel_14170/863171515.py:4: DeprecationWarning: executable_path has been deprecated, please pass in a Service object\n",
      "  driver=webdriver.Chrome(PATH)\n",
      "error 1\n",
      "error 4\n",
      "todo OK\n",
      "https://open.spotify.com/track/6FE2iI43OZnszFLuLtvvmg?si=ccb1d7dcf8ac4c45\n",
      "/var/folders/s4/79ykyqjn7f16bdl_zqjgsbzh0000gp/T/ipykernel_14170/863171515.py:4: DeprecationWarning: executable_path has been deprecated, please pass in a Service object\n",
      "  driver=webdriver.Chrome(PATH)\n",
      "todo OK\n",
      "https://open.spotify.com/track/1rIKgCH4H52lrvDcz50hS8?si=a71351f880f94bb4\n",
      "/var/folders/s4/79ykyqjn7f16bdl_zqjgsbzh0000gp/T/ipykernel_14170/863171515.py:4: DeprecationWarning: executable_path has been deprecated, please pass in a Service object\n",
      "  driver=webdriver.Chrome(PATH)\n",
      "todo OK\n",
      "https://open.spotify.com/track/03B2SfXuvDh1m9F4tqrX07?si=54597eb4e0ff442c\n",
      "/var/folders/s4/79ykyqjn7f16bdl_zqjgsbzh0000gp/T/ipykernel_14170/863171515.py:4: DeprecationWarning: executable_path has been deprecated, please pass in a Service object\n",
      "  driver=webdriver.Chrome(PATH)\n",
      "error 1\n",
      "error 4\n",
      "todo OK\n",
      "https://open.spotify.com/track/03B2SfXuvDh1m9F4tqrX07?si=54597eb4e0ff442c\n",
      "/var/folders/s4/79ykyqjn7f16bdl_zqjgsbzh0000gp/T/ipykernel_14170/863171515.py:4: DeprecationWarning: executable_path has been deprecated, please pass in a Service object\n",
      "  driver=webdriver.Chrome(PATH)\n",
      "todo OK\n",
      "https://open.spotify.com/track/6Z3KPGftGu9ZVvkAY8SaZa?si=2384acd0c368425f\n",
      "/var/folders/s4/79ykyqjn7f16bdl_zqjgsbzh0000gp/T/ipykernel_14170/863171515.py:4: DeprecationWarning: executable_path has been deprecated, please pass in a Service object\n",
      "  driver=webdriver.Chrome(PATH)\n",
      "error 1\n",
      "todo OK\n",
      "https://open.spotify.com/track/0l4DTppOxy7NUaEcwXuOb6?si=acb6de12707c4c42\n",
      "/var/folders/s4/79ykyqjn7f16bdl_zqjgsbzh0000gp/T/ipykernel_14170/863171515.py:4: DeprecationWarning: executable_path has been deprecated, please pass in a Service object\n",
      "  driver=webdriver.Chrome(PATH)\n",
      "error 1\n",
      "todo OK\n",
      "https://open.spotify.com/track/19JY2irhX8Tg6TOabli4qX?si=f89070d4508f4c1b\n",
      "/var/folders/s4/79ykyqjn7f16bdl_zqjgsbzh0000gp/T/ipykernel_14170/863171515.py:4: DeprecationWarning: executable_path has been deprecated, please pass in a Service object\n",
      "  driver=webdriver.Chrome(PATH)\n",
      "error 1\n",
      "todo OK\n",
      "https://open.spotify.com/track/1oew3nFNY3vMacJAsvry0S?si=04679516805b4bb7\n",
      "/var/folders/s4/79ykyqjn7f16bdl_zqjgsbzh0000gp/T/ipykernel_14170/863171515.py:4: DeprecationWarning: executable_path has been deprecated, please pass in a Service object\n",
      "  driver=webdriver.Chrome(PATH)\n",
      "error 1\n",
      "todo OK\n",
      "https://open.spotify.com/track/4cluDES4hQEUhmXj6TXkSo?si=201d4be304754736\n",
      "/var/folders/s4/79ykyqjn7f16bdl_zqjgsbzh0000gp/T/ipykernel_14170/863171515.py:4: DeprecationWarning: executable_path has been deprecated, please pass in a Service object\n",
      "  driver=webdriver.Chrome(PATH)\n",
      "error 1\n",
      "todo OK\n",
      "https://open.spotify.com/track/4y3g40TWe7fCWCayJZuGvw?si=37f8383f468648b6\n",
      "/var/folders/s4/79ykyqjn7f16bdl_zqjgsbzh0000gp/T/ipykernel_14170/863171515.py:4: DeprecationWarning: executable_path has been deprecated, please pass in a Service object\n",
      "  driver=webdriver.Chrome(PATH)\n",
      "todo OK\n",
      "https://open.spotify.com/track/2eAvDnpXP5W0cVtiI0PUxV?si=a53cf65b7ca149ae\n",
      "/var/folders/s4/79ykyqjn7f16bdl_zqjgsbzh0000gp/T/ipykernel_14170/863171515.py:4: DeprecationWarning: executable_path has been deprecated, please pass in a Service object\n",
      "  driver=webdriver.Chrome(PATH)\n",
      "error 1\n",
      "todo OK\n",
      "https://open.spotify.com/track/65L2KWL2s10PdeMWdl6AmY?si=36fe0c183c164b88\n",
      "/var/folders/s4/79ykyqjn7f16bdl_zqjgsbzh0000gp/T/ipykernel_14170/863171515.py:4: DeprecationWarning: executable_path has been deprecated, please pass in a Service object\n",
      "  driver=webdriver.Chrome(PATH)\n",
      "error 1\n",
      "todo OK\n",
      "https://open.spotify.com/track/6VrLYoQKdhu1Jruei06t65?si=2a6b12e9a3764940\n",
      "/var/folders/s4/79ykyqjn7f16bdl_zqjgsbzh0000gp/T/ipykernel_14170/863171515.py:4: DeprecationWarning: executable_path has been deprecated, please pass in a Service object\n",
      "  driver=webdriver.Chrome(PATH)\n",
      "error 1\n",
      "todo OK\n",
      "https://open.spotify.com/track/4DTrKnvkHtwQN6kBu4XXIF?si=ce276f2175fc494f\n",
      "/var/folders/s4/79ykyqjn7f16bdl_zqjgsbzh0000gp/T/ipykernel_14170/863171515.py:4: DeprecationWarning: executable_path has been deprecated, please pass in a Service object\n",
      "  driver=webdriver.Chrome(PATH)\n",
      "error 1\n",
      "todo OK\n",
      "https://open.spotify.com/track/0laYHRpNTS6i8FXdupHkJ4?si=080e5fadcc8e4166\n",
      "/var/folders/s4/79ykyqjn7f16bdl_zqjgsbzh0000gp/T/ipykernel_14170/863171515.py:4: DeprecationWarning: executable_path has been deprecated, please pass in a Service object\n",
      "  driver=webdriver.Chrome(PATH)\n",
      "error 1\n",
      "todo OK\n",
      "https://open.spotify.com/track/1vwlMes5ORHvzHXs806mCH?si=13a346473c604ca6\n",
      "/var/folders/s4/79ykyqjn7f16bdl_zqjgsbzh0000gp/T/ipykernel_14170/863171515.py:4: DeprecationWarning: executable_path has been deprecated, please pass in a Service object\n",
      "  driver=webdriver.Chrome(PATH)\n",
      "error 1\n",
      "todo OK\n",
      "https://open.spotify.com/track/0CZRXnV5n9zlP2F6HghLiT?si=aafa9d6206a14a3e\n",
      "/var/folders/s4/79ykyqjn7f16bdl_zqjgsbzh0000gp/T/ipykernel_14170/863171515.py:4: DeprecationWarning: executable_path has been deprecated, please pass in a Service object\n",
      "  driver=webdriver.Chrome(PATH)\n",
      "error 1\n",
      "todo OK\n",
      "https://open.spotify.com/track/0FT22uoD6hR3ysFDyT9Pl9?si=0474efb704024301\n",
      "/var/folders/s4/79ykyqjn7f16bdl_zqjgsbzh0000gp/T/ipykernel_14170/863171515.py:4: DeprecationWarning: executable_path has been deprecated, please pass in a Service object\n",
      "  driver=webdriver.Chrome(PATH)\n",
      "error 1\n",
      "todo OK\n",
      "https://open.spotify.com/track/6IwbgA2lca6IZZvo2wCL6Q?si=0cc354f6780342cd\n",
      "/var/folders/s4/79ykyqjn7f16bdl_zqjgsbzh0000gp/T/ipykernel_14170/863171515.py:4: DeprecationWarning: executable_path has been deprecated, please pass in a Service object\n",
      "  driver=webdriver.Chrome(PATH)\n",
      "todo OK\n",
      "https://open.spotify.com/track/2mXqei0YtZot9x558fihAg?si=f81adb3b40714213\n",
      "/var/folders/s4/79ykyqjn7f16bdl_zqjgsbzh0000gp/T/ipykernel_14170/863171515.py:4: DeprecationWarning: executable_path has been deprecated, please pass in a Service object\n",
      "  driver=webdriver.Chrome(PATH)\n",
      "todo OK\n",
      "https://open.spotify.com/track/3aLZ0s5ulFLcFCtIZQblpo?si=85dfec1109334b36\n",
      "/var/folders/s4/79ykyqjn7f16bdl_zqjgsbzh0000gp/T/ipykernel_14170/863171515.py:4: DeprecationWarning: executable_path has been deprecated, please pass in a Service object\n",
      "  driver=webdriver.Chrome(PATH)\n",
      "error 1\n",
      "todo OK\n",
      "https://open.spotify.com/track/0H9WHopZ62JeDaGau7REMw?si=b4c25580e0e84806\n",
      "/var/folders/s4/79ykyqjn7f16bdl_zqjgsbzh0000gp/T/ipykernel_14170/863171515.py:4: DeprecationWarning: executable_path has been deprecated, please pass in a Service object\n",
      "  driver=webdriver.Chrome(PATH)\n",
      "todo OK\n",
      "https://open.spotify.com/track/6BhnoruWw1NHd4SPE188Lc?si=52337920ac7f4ca8\n",
      "/var/folders/s4/79ykyqjn7f16bdl_zqjgsbzh0000gp/T/ipykernel_14170/863171515.py:4: DeprecationWarning: executable_path has been deprecated, please pass in a Service object\n",
      "  driver=webdriver.Chrome(PATH)\n",
      "error 1\n",
      "todo OK\n",
      "https://open.spotify.com/track/0gThlZWwZWkDqRKGOz2CN1?si=65435b916d6047fa\n",
      "/var/folders/s4/79ykyqjn7f16bdl_zqjgsbzh0000gp/T/ipykernel_14170/863171515.py:4: DeprecationWarning: executable_path has been deprecated, please pass in a Service object\n",
      "  driver=webdriver.Chrome(PATH)\n",
      "error 1\n",
      "todo OK\n",
      "https://open.spotify.com/track/2ysuyHrDnmlJexX7Mfh2J1?si=cd57f42814de4a61\n",
      "/var/folders/s4/79ykyqjn7f16bdl_zqjgsbzh0000gp/T/ipykernel_14170/863171515.py:4: DeprecationWarning: executable_path has been deprecated, please pass in a Service object\n",
      "  driver=webdriver.Chrome(PATH)\n",
      "error 1\n",
      "error 4\n",
      "todo OK\n",
      "https://open.spotify.com/track/2ysuyHrDnmlJexX7Mfh2J1?si=cd57f42814de4a61\n",
      "/var/folders/s4/79ykyqjn7f16bdl_zqjgsbzh0000gp/T/ipykernel_14170/863171515.py:4: DeprecationWarning: executable_path has been deprecated, please pass in a Service object\n",
      "  driver=webdriver.Chrome(PATH)\n",
      "todo OK\n",
      "https://open.spotify.com/track/4L2pOra0PxKrWhrSHlvgEP?si=dcefa883707f4dd2\n",
      "/var/folders/s4/79ykyqjn7f16bdl_zqjgsbzh0000gp/T/ipykernel_14170/863171515.py:4: DeprecationWarning: executable_path has been deprecated, please pass in a Service object\n",
      "  driver=webdriver.Chrome(PATH)\n",
      "error 1\n",
      "todo OK\n",
      "https://open.spotify.com/track/7gVC9FXLXlMla0p34PEhFI?si=8a11d02c5df340a7\n",
      "/var/folders/s4/79ykyqjn7f16bdl_zqjgsbzh0000gp/T/ipykernel_14170/863171515.py:4: DeprecationWarning: executable_path has been deprecated, please pass in a Service object\n",
      "  driver=webdriver.Chrome(PATH)\n",
      "todo OK\n",
      "https://open.spotify.com/track/43VwdvY43NhBMZLceHW23I?si=6b81371caf264b51\n",
      "/var/folders/s4/79ykyqjn7f16bdl_zqjgsbzh0000gp/T/ipykernel_14170/863171515.py:4: DeprecationWarning: executable_path has been deprecated, please pass in a Service object\n",
      "  driver=webdriver.Chrome(PATH)\n",
      "todo OK\n",
      "https://open.spotify.com/track/1NUbDvfZhIMcdrvMX293YA?si=9c57ec3766eb4e82\n",
      "/var/folders/s4/79ykyqjn7f16bdl_zqjgsbzh0000gp/T/ipykernel_14170/863171515.py:4: DeprecationWarning: executable_path has been deprecated, please pass in a Service object\n",
      "  driver=webdriver.Chrome(PATH)\n",
      "todo OK\n",
      "https://open.spotify.com/track/5BEZ8Zt4UqmXKyHgwH7pzT?si=5b8a4a040e3148ea\n",
      "/var/folders/s4/79ykyqjn7f16bdl_zqjgsbzh0000gp/T/ipykernel_14170/863171515.py:4: DeprecationWarning: executable_path has been deprecated, please pass in a Service object\n",
      "  driver=webdriver.Chrome(PATH)\n",
      "error 1\n",
      "todo OK\n",
      "https://open.spotify.com/track/1jbrKpiTZ5jSblBypybUmV?si=1def030492134bc2\n",
      "/var/folders/s4/79ykyqjn7f16bdl_zqjgsbzh0000gp/T/ipykernel_14170/863171515.py:4: DeprecationWarning: executable_path has been deprecated, please pass in a Service object\n",
      "  driver=webdriver.Chrome(PATH)\n",
      "error 1\n",
      "todo OK\n",
      "https://open.spotify.com/track/4Cyfmcim6aCFNEPw9Mnpt8?si=110b58b9e54d43b2\n",
      "/var/folders/s4/79ykyqjn7f16bdl_zqjgsbzh0000gp/T/ipykernel_14170/863171515.py:4: DeprecationWarning: executable_path has been deprecated, please pass in a Service object\n",
      "  driver=webdriver.Chrome(PATH)\n",
      "error 1\n",
      "todo OK\n",
      "https://open.spotify.com/track/2Pdo1VvYDB9FqeuNx8D1FW?si=7056c8c9a6264c9a\n",
      "/var/folders/s4/79ykyqjn7f16bdl_zqjgsbzh0000gp/T/ipykernel_14170/863171515.py:4: DeprecationWarning: executable_path has been deprecated, please pass in a Service object\n",
      "  driver=webdriver.Chrome(PATH)\n",
      "todo OK\n",
      "https://open.spotify.com/track/0hgEsoAu23ap8V5GFX9Y3i?si=18f9be0773994a0f\n",
      "/var/folders/s4/79ykyqjn7f16bdl_zqjgsbzh0000gp/T/ipykernel_14170/863171515.py:4: DeprecationWarning: executable_path has been deprecated, please pass in a Service object\n",
      "  driver=webdriver.Chrome(PATH)\n",
      "error 1\n",
      "todo OK\n",
      "https://open.spotify.com/track/5zi45XzyETxXYDFJVotQIs?si=8ff0b80a3348472c\n",
      "/var/folders/s4/79ykyqjn7f16bdl_zqjgsbzh0000gp/T/ipykernel_14170/863171515.py:4: DeprecationWarning: executable_path has been deprecated, please pass in a Service object\n",
      "  driver=webdriver.Chrome(PATH)\n",
      "todo OK\n",
      "https://open.spotify.com/track/6Hmj7SrLRbreLVfVS7mV1S?si=2f9fd00c34c945a1\n",
      "/var/folders/s4/79ykyqjn7f16bdl_zqjgsbzh0000gp/T/ipykernel_14170/863171515.py:4: DeprecationWarning: executable_path has been deprecated, please pass in a Service object\n",
      "  driver=webdriver.Chrome(PATH)\n",
      "error 1\n",
      "todo OK\n",
      "https://open.spotify.com/track/4Gcx4D4ii0nOjmItjDEtb0?si=356815fed6a1471e\n",
      "/var/folders/s4/79ykyqjn7f16bdl_zqjgsbzh0000gp/T/ipykernel_14170/863171515.py:4: DeprecationWarning: executable_path has been deprecated, please pass in a Service object\n",
      "  driver=webdriver.Chrome(PATH)\n",
      "todo OK\n",
      "https://open.spotify.com/track/2nvZv4qatgsDIbEqqbQLUT?si=e22a1784672a4487\n",
      "/var/folders/s4/79ykyqjn7f16bdl_zqjgsbzh0000gp/T/ipykernel_14170/863171515.py:4: DeprecationWarning: executable_path has been deprecated, please pass in a Service object\n",
      "  driver=webdriver.Chrome(PATH)\n",
      "error 1\n",
      "todo OK\n",
      "https://open.spotify.com/track/0NslHuacjxQYfUTOW3HCIV?si=6bb2ba02e2934666\n",
      "/var/folders/s4/79ykyqjn7f16bdl_zqjgsbzh0000gp/T/ipykernel_14170/863171515.py:4: DeprecationWarning: executable_path has been deprecated, please pass in a Service object\n",
      "  driver=webdriver.Chrome(PATH)\n",
      "error 1\n",
      "todo OK\n",
      "https://open.spotify.com/track/42YunpdquRjWicoxW971f4?si=757eedbe0365484a\n",
      "/var/folders/s4/79ykyqjn7f16bdl_zqjgsbzh0000gp/T/ipykernel_14170/863171515.py:4: DeprecationWarning: executable_path has been deprecated, please pass in a Service object\n",
      "  driver=webdriver.Chrome(PATH)\n",
      "error 1\n",
      "todo OK\n",
      "https://open.spotify.com/track/1a9czdo8IX5InOiSOg6xpv?si=36766486647749c2\n",
      "/var/folders/s4/79ykyqjn7f16bdl_zqjgsbzh0000gp/T/ipykernel_14170/863171515.py:4: DeprecationWarning: executable_path has been deprecated, please pass in a Service object\n",
      "  driver=webdriver.Chrome(PATH)\n",
      "todo OK\n",
      "https://open.spotify.com/track/1gW8PuRo6xydtxzpQNhjFL?si=adc19222be66498c\n",
      "/var/folders/s4/79ykyqjn7f16bdl_zqjgsbzh0000gp/T/ipykernel_14170/863171515.py:4: DeprecationWarning: executable_path has been deprecated, please pass in a Service object\n",
      "  driver=webdriver.Chrome(PATH)\n",
      "error 1\n",
      "todo OK\n",
      "https://open.spotify.com/track/4ENHZdi8sqEtVZiltkPZig?si=43efa82b49424e74\n",
      "/var/folders/s4/79ykyqjn7f16bdl_zqjgsbzh0000gp/T/ipykernel_14170/863171515.py:4: DeprecationWarning: executable_path has been deprecated, please pass in a Service object\n",
      "  driver=webdriver.Chrome(PATH)\n",
      "error 1\n",
      "todo OK\n",
      "https://open.spotify.com/track/7rL602DQps4QmrrjbinLzP?si=32b07cb96b1e46dc\n",
      "/var/folders/s4/79ykyqjn7f16bdl_zqjgsbzh0000gp/T/ipykernel_14170/863171515.py:4: DeprecationWarning: executable_path has been deprecated, please pass in a Service object\n",
      "  driver=webdriver.Chrome(PATH)\n",
      "error 1\n",
      "todo OK\n",
      "https://open.spotify.com/track/1PO9sdsEu8bYm8FVGNCM5D?si=71b552ba1b9645fc\n",
      "/var/folders/s4/79ykyqjn7f16bdl_zqjgsbzh0000gp/T/ipykernel_14170/863171515.py:4: DeprecationWarning: executable_path has been deprecated, please pass in a Service object\n",
      "  driver=webdriver.Chrome(PATH)\n",
      "error 1\n",
      "todo OK\n",
      "https://open.spotify.com/track/48ysUnnPXixuLWwjn9TLKf?si=b67e01ec3bcd4f19\n",
      "/var/folders/s4/79ykyqjn7f16bdl_zqjgsbzh0000gp/T/ipykernel_14170/863171515.py:4: DeprecationWarning: executable_path has been deprecated, please pass in a Service object\n",
      "  driver=webdriver.Chrome(PATH)\n",
      "error 1\n",
      "todo OK\n",
      "https://open.spotify.com/track/2mBQJhub7CudOp93E4pbcc?si=b7dcf0f1733041df\n",
      "/var/folders/s4/79ykyqjn7f16bdl_zqjgsbzh0000gp/T/ipykernel_14170/863171515.py:4: DeprecationWarning: executable_path has been deprecated, please pass in a Service object\n",
      "  driver=webdriver.Chrome(PATH)\n",
      "error 4\n",
      "todo OK\n",
      "https://open.spotify.com/track/2mBQJhub7CudOp93E4pbcc?si=b7dcf0f1733041df\n",
      "/var/folders/s4/79ykyqjn7f16bdl_zqjgsbzh0000gp/T/ipykernel_14170/863171515.py:4: DeprecationWarning: executable_path has been deprecated, please pass in a Service object\n",
      "  driver=webdriver.Chrome(PATH)\n",
      "error 1\n",
      "todo OK\n",
      "https://open.spotify.com/track/5Kw6koDTaSgZ6HcdRlr16P?si=5cca49c391314f92\n",
      "/var/folders/s4/79ykyqjn7f16bdl_zqjgsbzh0000gp/T/ipykernel_14170/863171515.py:4: DeprecationWarning: executable_path has been deprecated, please pass in a Service object\n",
      "  driver=webdriver.Chrome(PATH)\n",
      "error 1\n",
      "error 4\n",
      "todo OK\n",
      "https://open.spotify.com/track/5Kw6koDTaSgZ6HcdRlr16P?si=5cca49c391314f92\n",
      "/var/folders/s4/79ykyqjn7f16bdl_zqjgsbzh0000gp/T/ipykernel_14170/863171515.py:4: DeprecationWarning: executable_path has been deprecated, please pass in a Service object\n",
      "  driver=webdriver.Chrome(PATH)\n",
      "error 1\n",
      "todo OK\n",
      "https://open.spotify.com/track/38GBNKZUhfBkk3oNlWzRYd?si=bd4a8ba593194059\n",
      "/var/folders/s4/79ykyqjn7f16bdl_zqjgsbzh0000gp/T/ipykernel_14170/863171515.py:4: DeprecationWarning: executable_path has been deprecated, please pass in a Service object\n",
      "  driver=webdriver.Chrome(PATH)\n",
      "error 1\n",
      "todo OK\n",
      "https://open.spotify.com/track/2EILG4ATZdL6ddR1aYA1b4?si=773dd338c6cc43cc\n",
      "/var/folders/s4/79ykyqjn7f16bdl_zqjgsbzh0000gp/T/ipykernel_14170/863171515.py:4: DeprecationWarning: executable_path has been deprecated, please pass in a Service object\n",
      "  driver=webdriver.Chrome(PATH)\n",
      "error 1\n",
      "todo OK\n",
      "https://open.spotify.com/track/2EILG4ATZdL6ddR1aYA1b4?si=773dd338c6cc43cc\n",
      "/var/folders/s4/79ykyqjn7f16bdl_zqjgsbzh0000gp/T/ipykernel_14170/863171515.py:4: DeprecationWarning: executable_path has been deprecated, please pass in a Service object\n",
      "  driver=webdriver.Chrome(PATH)\n",
      "error 1\n",
      "error 4\n",
      "todo OK\n",
      "https://open.spotify.com/track/2EILG4ATZdL6ddR1aYA1b4?si=773dd338c6cc43cc\n",
      "/var/folders/s4/79ykyqjn7f16bdl_zqjgsbzh0000gp/T/ipykernel_14170/863171515.py:4: DeprecationWarning: executable_path has been deprecated, please pass in a Service object\n",
      "  driver=webdriver.Chrome(PATH)\n",
      "todo OK\n",
      "https://open.spotify.com/track/2MKzHPbEeuRn5HZp1llzHP?si=d58a7ba7d7574334\n",
      "/var/folders/s4/79ykyqjn7f16bdl_zqjgsbzh0000gp/T/ipykernel_14170/863171515.py:4: DeprecationWarning: executable_path has been deprecated, please pass in a Service object\n",
      "  driver=webdriver.Chrome(PATH)\n",
      "todo OK\n",
      "https://open.spotify.com/track/1xxd9UtC5bqqWZshWsFsXP?si=524ea8bde08a4084\n",
      "/var/folders/s4/79ykyqjn7f16bdl_zqjgsbzh0000gp/T/ipykernel_14170/863171515.py:4: DeprecationWarning: executable_path has been deprecated, please pass in a Service object\n",
      "  driver=webdriver.Chrome(PATH)\n",
      "error 1\n",
      "todo OK\n",
      "https://open.spotify.com/track/1yvMUkIOTeUNtNWlWRgANS?si=268119f4e6184309\n",
      "/var/folders/s4/79ykyqjn7f16bdl_zqjgsbzh0000gp/T/ipykernel_14170/863171515.py:4: DeprecationWarning: executable_path has been deprecated, please pass in a Service object\n",
      "  driver=webdriver.Chrome(PATH)\n",
      "error 1\n",
      "todo OK\n",
      "https://open.spotify.com/track/2MbgQKWhoii8bqsMBWWWgA?si=5a0592b5dec7441d\n",
      "/var/folders/s4/79ykyqjn7f16bdl_zqjgsbzh0000gp/T/ipykernel_14170/863171515.py:4: DeprecationWarning: executable_path has been deprecated, please pass in a Service object\n",
      "  driver=webdriver.Chrome(PATH)\n",
      "error 1\n",
      "error 4\n",
      "todo OK\n",
      "https://open.spotify.com/track/2MbgQKWhoii8bqsMBWWWgA?si=5a0592b5dec7441d\n",
      "/var/folders/s4/79ykyqjn7f16bdl_zqjgsbzh0000gp/T/ipykernel_14170/863171515.py:4: DeprecationWarning: executable_path has been deprecated, please pass in a Service object\n",
      "  driver=webdriver.Chrome(PATH)\n",
      "error 4\n",
      "todo OK\n",
      "https://open.spotify.com/track/2MbgQKWhoii8bqsMBWWWgA?si=5a0592b5dec7441d\n",
      "/var/folders/s4/79ykyqjn7f16bdl_zqjgsbzh0000gp/T/ipykernel_14170/863171515.py:4: DeprecationWarning: executable_path has been deprecated, please pass in a Service object\n",
      "  driver=webdriver.Chrome(PATH)\n",
      "error 1\n",
      "error 4\n",
      "todo OK\n",
      "https://open.spotify.com/track/2MbgQKWhoii8bqsMBWWWgA?si=5a0592b5dec7441d\n",
      "/var/folders/s4/79ykyqjn7f16bdl_zqjgsbzh0000gp/T/ipykernel_14170/863171515.py:4: DeprecationWarning: executable_path has been deprecated, please pass in a Service object\n",
      "  driver=webdriver.Chrome(PATH)\n",
      "error 1\n",
      "error 4\n",
      "todo OK\n",
      "https://open.spotify.com/track/2MbgQKWhoii8bqsMBWWWgA?si=5a0592b5dec7441d\n",
      "/var/folders/s4/79ykyqjn7f16bdl_zqjgsbzh0000gp/T/ipykernel_14170/863171515.py:4: DeprecationWarning: executable_path has been deprecated, please pass in a Service object\n",
      "  driver=webdriver.Chrome(PATH)\n",
      "error 1\n",
      "error 4\n",
      "todo OK\n",
      "https://open.spotify.com/track/2MbgQKWhoii8bqsMBWWWgA?si=5a0592b5dec7441d\n",
      "/var/folders/s4/79ykyqjn7f16bdl_zqjgsbzh0000gp/T/ipykernel_14170/863171515.py:4: DeprecationWarning: executable_path has been deprecated, please pass in a Service object\n",
      "  driver=webdriver.Chrome(PATH)\n",
      "error 1\n",
      "todo OK\n",
      "https://open.spotify.com/track/0WSEq9Ko4kFPt8yo3ICd6T?si=005e83fe27c94aff\n",
      "/var/folders/s4/79ykyqjn7f16bdl_zqjgsbzh0000gp/T/ipykernel_14170/863171515.py:4: DeprecationWarning: executable_path has been deprecated, please pass in a Service object\n",
      "  driver=webdriver.Chrome(PATH)\n",
      "error 1\n",
      "error 4\n",
      "todo OK\n",
      "https://open.spotify.com/track/0WSEq9Ko4kFPt8yo3ICd6T?si=005e83fe27c94aff\n",
      "/var/folders/s4/79ykyqjn7f16bdl_zqjgsbzh0000gp/T/ipykernel_14170/863171515.py:4: DeprecationWarning: executable_path has been deprecated, please pass in a Service object\n",
      "  driver=webdriver.Chrome(PATH)\n",
      "error 1\n",
      "todo OK\n",
      "https://open.spotify.com/track/3fpVWegR6YOS1Yk5HSMYIq?si=eefc8ff139c74f0d\n",
      "/var/folders/s4/79ykyqjn7f16bdl_zqjgsbzh0000gp/T/ipykernel_14170/863171515.py:4: DeprecationWarning: executable_path has been deprecated, please pass in a Service object\n",
      "  driver=webdriver.Chrome(PATH)\n",
      "todo OK\n",
      "https://open.spotify.com/track/5QO79kh1waicV47BqGRL3g?si=66b28c1495784c69\n",
      "/var/folders/s4/79ykyqjn7f16bdl_zqjgsbzh0000gp/T/ipykernel_14170/863171515.py:4: DeprecationWarning: executable_path has been deprecated, please pass in a Service object\n",
      "  driver=webdriver.Chrome(PATH)\n",
      "error 1\n",
      "error 4\n",
      "todo OK\n",
      "https://open.spotify.com/track/5QO79kh1waicV47BqGRL3g?si=66b28c1495784c69\n",
      "/var/folders/s4/79ykyqjn7f16bdl_zqjgsbzh0000gp/T/ipykernel_14170/863171515.py:4: DeprecationWarning: executable_path has been deprecated, please pass in a Service object\n",
      "  driver=webdriver.Chrome(PATH)\n",
      "error 1\n",
      "todo OK\n",
      "https://open.spotify.com/track/5fwSHlTEWpluwOM0Sxnh5k?si=666288cb86004eea\n",
      "/var/folders/s4/79ykyqjn7f16bdl_zqjgsbzh0000gp/T/ipykernel_14170/863171515.py:4: DeprecationWarning: executable_path has been deprecated, please pass in a Service object\n",
      "  driver=webdriver.Chrome(PATH)\n",
      "error 1\n",
      "todo OK\n",
      "https://open.spotify.com/track/0wI7QkCcs8FUQE1OkXUIqd?si=ec5023a0123b4877\n",
      "/var/folders/s4/79ykyqjn7f16bdl_zqjgsbzh0000gp/T/ipykernel_14170/863171515.py:4: DeprecationWarning: executable_path has been deprecated, please pass in a Service object\n",
      "  driver=webdriver.Chrome(PATH)\n",
      "error 1\n",
      "todo OK\n",
      "https://open.spotify.com/track/1VjNQAm7bG3MLIC5Cwb508?si=399bd6d410784b5d\n",
      "/var/folders/s4/79ykyqjn7f16bdl_zqjgsbzh0000gp/T/ipykernel_14170/863171515.py:4: DeprecationWarning: executable_path has been deprecated, please pass in a Service object\n",
      "  driver=webdriver.Chrome(PATH)\n",
      "error 1\n",
      "error 4\n",
      "todo OK\n",
      "https://open.spotify.com/track/1VjNQAm7bG3MLIC5Cwb508?si=399bd6d410784b5d\n",
      "/var/folders/s4/79ykyqjn7f16bdl_zqjgsbzh0000gp/T/ipykernel_14170/863171515.py:4: DeprecationWarning: executable_path has been deprecated, please pass in a Service object\n",
      "  driver=webdriver.Chrome(PATH)\n",
      "error 1\n",
      "error 4\n",
      "todo OK\n",
      "https://open.spotify.com/track/1VjNQAm7bG3MLIC5Cwb508?si=399bd6d410784b5d\n",
      "/var/folders/s4/79ykyqjn7f16bdl_zqjgsbzh0000gp/T/ipykernel_14170/863171515.py:4: DeprecationWarning: executable_path has been deprecated, please pass in a Service object\n",
      "  driver=webdriver.Chrome(PATH)\n",
      "error 1\n",
      "todo OK\n",
      "https://open.spotify.com/track/4T3fNx3CgwDRRYgmFCbD4J?si=a7cdbed93fe04322\n",
      "/var/folders/s4/79ykyqjn7f16bdl_zqjgsbzh0000gp/T/ipykernel_14170/863171515.py:4: DeprecationWarning: executable_path has been deprecated, please pass in a Service object\n",
      "  driver=webdriver.Chrome(PATH)\n",
      "todo OK\n",
      "https://open.spotify.com/track/7hDVYcQq6MxkdJGweuCtl9?si=288e643ef4f4414b\n",
      "/var/folders/s4/79ykyqjn7f16bdl_zqjgsbzh0000gp/T/ipykernel_14170/863171515.py:4: DeprecationWarning: executable_path has been deprecated, please pass in a Service object\n",
      "  driver=webdriver.Chrome(PATH)\n",
      "error 1\n",
      "todo OK\n",
      "https://open.spotify.com/track/3afkJSKX0EAMsJXTZnDXXJ?si=7f887b4892af41b3\n",
      "/var/folders/s4/79ykyqjn7f16bdl_zqjgsbzh0000gp/T/ipykernel_14170/863171515.py:4: DeprecationWarning: executable_path has been deprecated, please pass in a Service object\n",
      "  driver=webdriver.Chrome(PATH)\n",
      "error 1\n",
      "todo OK\n",
      "https://open.spotify.com/track/5dMUZjZFmeaNFIFSgDW3lj?si=91eb7b447a57422e\n",
      "/var/folders/s4/79ykyqjn7f16bdl_zqjgsbzh0000gp/T/ipykernel_14170/863171515.py:4: DeprecationWarning: executable_path has been deprecated, please pass in a Service object\n",
      "  driver=webdriver.Chrome(PATH)\n",
      "error 1\n",
      "error 4\n",
      "todo OK\n",
      "https://open.spotify.com/track/5dMUZjZFmeaNFIFSgDW3lj?si=91eb7b447a57422e\n",
      "/var/folders/s4/79ykyqjn7f16bdl_zqjgsbzh0000gp/T/ipykernel_14170/863171515.py:4: DeprecationWarning: executable_path has been deprecated, please pass in a Service object\n",
      "  driver=webdriver.Chrome(PATH)\n",
      "error 4\n",
      "todo OK\n",
      "https://open.spotify.com/track/5dMUZjZFmeaNFIFSgDW3lj?si=91eb7b447a57422e\n",
      "/var/folders/s4/79ykyqjn7f16bdl_zqjgsbzh0000gp/T/ipykernel_14170/863171515.py:4: DeprecationWarning: executable_path has been deprecated, please pass in a Service object\n",
      "  driver=webdriver.Chrome(PATH)\n",
      "error 1\n",
      "todo OK\n",
      "https://open.spotify.com/track/2ufmtcIFdFpuUYBPXK5f67?si=bfc6b7260b844067\n",
      "/var/folders/s4/79ykyqjn7f16bdl_zqjgsbzh0000gp/T/ipykernel_14170/863171515.py:4: DeprecationWarning: executable_path has been deprecated, please pass in a Service object\n",
      "  driver=webdriver.Chrome(PATH)\n",
      "error 1\n",
      "todo OK\n",
      "https://open.spotify.com/track/3zmzb7WcCXpEAXq1RtQ7o4?si=f45a79aff7e24247\n",
      "/var/folders/s4/79ykyqjn7f16bdl_zqjgsbzh0000gp/T/ipykernel_14170/863171515.py:4: DeprecationWarning: executable_path has been deprecated, please pass in a Service object\n",
      "  driver=webdriver.Chrome(PATH)\n",
      "error 1\n",
      "todo OK\n",
      "https://open.spotify.com/track/11Tfh16o0SW8KdiQdeESEX?si=985e341dc9164c06\n",
      "/var/folders/s4/79ykyqjn7f16bdl_zqjgsbzh0000gp/T/ipykernel_14170/863171515.py:4: DeprecationWarning: executable_path has been deprecated, please pass in a Service object\n",
      "  driver=webdriver.Chrome(PATH)\n",
      "error 1\n",
      "todo OK\n",
      "https://open.spotify.com/track/47aJFWNRqVHlwadK8HRllg?si=9596179ef4fe40c6\n",
      "/var/folders/s4/79ykyqjn7f16bdl_zqjgsbzh0000gp/T/ipykernel_14170/863171515.py:4: DeprecationWarning: executable_path has been deprecated, please pass in a Service object\n",
      "  driver=webdriver.Chrome(PATH)\n",
      "error 1\n",
      "error 4\n",
      "todo OK\n",
      "https://open.spotify.com/track/47aJFWNRqVHlwadK8HRllg?si=9596179ef4fe40c6\n",
      "/var/folders/s4/79ykyqjn7f16bdl_zqjgsbzh0000gp/T/ipykernel_14170/863171515.py:4: DeprecationWarning: executable_path has been deprecated, please pass in a Service object\n",
      "  driver=webdriver.Chrome(PATH)\n",
      "error 1\n",
      "todo OK\n",
      "https://open.spotify.com/track/5ln5yQdUywVbf8HhFsOcd6?si=758cada9253549fe\n",
      "/var/folders/s4/79ykyqjn7f16bdl_zqjgsbzh0000gp/T/ipykernel_14170/863171515.py:4: DeprecationWarning: executable_path has been deprecated, please pass in a Service object\n",
      "  driver=webdriver.Chrome(PATH)\n",
      "error 1\n",
      "todo OK\n",
      "https://open.spotify.com/track/7lozLnUfzcgEpMMVQI7yhA?si=90961e32f85e4c8b\n",
      "/var/folders/s4/79ykyqjn7f16bdl_zqjgsbzh0000gp/T/ipykernel_14170/863171515.py:4: DeprecationWarning: executable_path has been deprecated, please pass in a Service object\n",
      "  driver=webdriver.Chrome(PATH)\n",
      "error 1\n",
      "error 4\n",
      "todo OK\n",
      "https://open.spotify.com/track/7lozLnUfzcgEpMMVQI7yhA?si=90961e32f85e4c8b\n",
      "/var/folders/s4/79ykyqjn7f16bdl_zqjgsbzh0000gp/T/ipykernel_14170/863171515.py:4: DeprecationWarning: executable_path has been deprecated, please pass in a Service object\n",
      "  driver=webdriver.Chrome(PATH)\n",
      "error 1\n",
      "todo OK\n",
      "https://open.spotify.com/track/45bE4HXI0AwGZXfZtMp8JR?si=eed06b56177b4da5\n",
      "/var/folders/s4/79ykyqjn7f16bdl_zqjgsbzh0000gp/T/ipykernel_14170/863171515.py:4: DeprecationWarning: executable_path has been deprecated, please pass in a Service object\n",
      "  driver=webdriver.Chrome(PATH)\n",
      "error 4\n",
      "todo OK\n",
      "https://open.spotify.com/track/45bE4HXI0AwGZXfZtMp8JR?si=eed06b56177b4da5\n",
      "/var/folders/s4/79ykyqjn7f16bdl_zqjgsbzh0000gp/T/ipykernel_14170/863171515.py:4: DeprecationWarning: executable_path has been deprecated, please pass in a Service object\n",
      "  driver=webdriver.Chrome(PATH)\n",
      "error 1\n",
      "todo OK\n",
      "https://open.spotify.com/track/7y9iMe8SOB6z3NoHE2OfXl?si=b7764c7fbb594d2d\n",
      "/var/folders/s4/79ykyqjn7f16bdl_zqjgsbzh0000gp/T/ipykernel_14170/863171515.py:4: DeprecationWarning: executable_path has been deprecated, please pass in a Service object\n",
      "  driver=webdriver.Chrome(PATH)\n",
      "todo OK\n",
      "https://open.spotify.com/track/4riAhDvkhOUrxnmD59HfqL?si=88c2d02ee483428e\n",
      "/var/folders/s4/79ykyqjn7f16bdl_zqjgsbzh0000gp/T/ipykernel_14170/863171515.py:4: DeprecationWarning: executable_path has been deprecated, please pass in a Service object\n",
      "  driver=webdriver.Chrome(PATH)\n",
      "error 1\n",
      "todo OK\n",
      "https://open.spotify.com/track/4C5iYZMmSYeIUCtX3uShA7?si=c334e9a2afb24a7c\n",
      "/var/folders/s4/79ykyqjn7f16bdl_zqjgsbzh0000gp/T/ipykernel_14170/863171515.py:4: DeprecationWarning: executable_path has been deprecated, please pass in a Service object\n",
      "  driver=webdriver.Chrome(PATH)\n",
      "error 1\n",
      "todo OK\n",
      "https://open.spotify.com/track/7hzlzoOwCZ4D3Ow5YZK4kj?si=1f48efd0036345bd\n",
      "/var/folders/s4/79ykyqjn7f16bdl_zqjgsbzh0000gp/T/ipykernel_14170/863171515.py:4: DeprecationWarning: executable_path has been deprecated, please pass in a Service object\n",
      "  driver=webdriver.Chrome(PATH)\n",
      "error 1\n",
      "error 4\n",
      "todo OK\n",
      "https://open.spotify.com/track/7hzlzoOwCZ4D3Ow5YZK4kj?si=1f48efd0036345bd\n",
      "/var/folders/s4/79ykyqjn7f16bdl_zqjgsbzh0000gp/T/ipykernel_14170/863171515.py:4: DeprecationWarning: executable_path has been deprecated, please pass in a Service object\n",
      "  driver=webdriver.Chrome(PATH)\n",
      "error 1\n",
      "todo OK\n",
      "https://open.spotify.com/track/0Es6dDXHGqqQWoA8tlK4LG?si=75dee6e25bd74597\n",
      "/var/folders/s4/79ykyqjn7f16bdl_zqjgsbzh0000gp/T/ipykernel_14170/863171515.py:4: DeprecationWarning: executable_path has been deprecated, please pass in a Service object\n",
      "  driver=webdriver.Chrome(PATH)\n",
      "error 1\n",
      "todo OK\n",
      "https://open.spotify.com/track/340UVheS8z3ncW9TTUhAbc?si=8e4e3aaeab0d4799\n",
      "/var/folders/s4/79ykyqjn7f16bdl_zqjgsbzh0000gp/T/ipykernel_14170/863171515.py:4: DeprecationWarning: executable_path has been deprecated, please pass in a Service object\n",
      "  driver=webdriver.Chrome(PATH)\n",
      "todo OK\n",
      "https://open.spotify.com/track/0EcQcdcbQeVJn9fknj44Be?si=2d4eb981c4e84e5c\n",
      "/var/folders/s4/79ykyqjn7f16bdl_zqjgsbzh0000gp/T/ipykernel_14170/863171515.py:4: DeprecationWarning: executable_path has been deprecated, please pass in a Service object\n",
      "  driver=webdriver.Chrome(PATH)\n",
      "todo OK\n",
      "https://open.spotify.com/track/397sfkANMRKEuchzPCvlFL?si=5cb3a921e8b14f96\n",
      "/var/folders/s4/79ykyqjn7f16bdl_zqjgsbzh0000gp/T/ipykernel_14170/863171515.py:4: DeprecationWarning: executable_path has been deprecated, please pass in a Service object\n",
      "  driver=webdriver.Chrome(PATH)\n",
      "error 1\n",
      "todo OK\n",
      "https://open.spotify.com/track/2W3EgJst61RLZtPPm3EQim?si=41faa7de914248ea\n",
      "/var/folders/s4/79ykyqjn7f16bdl_zqjgsbzh0000gp/T/ipykernel_14170/863171515.py:4: DeprecationWarning: executable_path has been deprecated, please pass in a Service object\n",
      "  driver=webdriver.Chrome(PATH)\n",
      "todo OK\n",
      "https://open.spotify.com/track/6fxq63aKjMmi1WMI9iKX5w?si=d5b4dec6363a4c53\n",
      "/var/folders/s4/79ykyqjn7f16bdl_zqjgsbzh0000gp/T/ipykernel_14170/863171515.py:4: DeprecationWarning: executable_path has been deprecated, please pass in a Service object\n",
      "  driver=webdriver.Chrome(PATH)\n",
      "error 1\n",
      "todo OK\n",
      "https://open.spotify.com/track/2aHrD7iPl0rZSYXYQ8iW2Y?si=80ecb725857f4838\n",
      "/var/folders/s4/79ykyqjn7f16bdl_zqjgsbzh0000gp/T/ipykernel_14170/863171515.py:4: DeprecationWarning: executable_path has been deprecated, please pass in a Service object\n",
      "  driver=webdriver.Chrome(PATH)\n",
      "todo OK\n",
      "https://open.spotify.com/track/0dzKQOzNZvcnZFHyYUTTAB?si=8d4060ff459b4cc4\n",
      "/var/folders/s4/79ykyqjn7f16bdl_zqjgsbzh0000gp/T/ipykernel_14170/863171515.py:4: DeprecationWarning: executable_path has been deprecated, please pass in a Service object\n",
      "  driver=webdriver.Chrome(PATH)\n",
      "error 0\n",
      "error 1\n",
      "error 2\n",
      "error 3\n",
      "error 4\n",
      "todo OK\n",
      "https://open.spotify.com/track/0dzKQOzNZvcnZFHyYUTTAB?si=8d4060ff459b4cc4\n",
      "/var/folders/s4/79ykyqjn7f16bdl_zqjgsbzh0000gp/T/ipykernel_14170/863171515.py:4: DeprecationWarning: executable_path has been deprecated, please pass in a Service object\n",
      "  driver=webdriver.Chrome(PATH)\n",
      "error 1\n",
      "todo OK\n",
      "https://open.spotify.com/track/5NetSTs4dgiR6GLrZOQcwJ?si=409a68c499cb40a0\n",
      "/var/folders/s4/79ykyqjn7f16bdl_zqjgsbzh0000gp/T/ipykernel_14170/863171515.py:4: DeprecationWarning: executable_path has been deprecated, please pass in a Service object\n",
      "  driver=webdriver.Chrome(PATH)\n",
      "error 1\n",
      "error 4\n",
      "todo OK\n",
      "https://open.spotify.com/track/5NetSTs4dgiR6GLrZOQcwJ?si=409a68c499cb40a0\n",
      "/var/folders/s4/79ykyqjn7f16bdl_zqjgsbzh0000gp/T/ipykernel_14170/863171515.py:4: DeprecationWarning: executable_path has been deprecated, please pass in a Service object\n",
      "  driver=webdriver.Chrome(PATH)\n",
      "error 1\n",
      "error 4\n",
      "todo OK\n",
      "https://open.spotify.com/track/5NetSTs4dgiR6GLrZOQcwJ?si=409a68c499cb40a0\n",
      "/var/folders/s4/79ykyqjn7f16bdl_zqjgsbzh0000gp/T/ipykernel_14170/863171515.py:4: DeprecationWarning: executable_path has been deprecated, please pass in a Service object\n",
      "  driver=webdriver.Chrome(PATH)\n",
      "error 1\n",
      "todo OK\n",
      "https://open.spotify.com/track/3Kkjo3cT83cw09VJyrLNwX?si=eaeb95f3687f4cba\n",
      "/var/folders/s4/79ykyqjn7f16bdl_zqjgsbzh0000gp/T/ipykernel_14170/863171515.py:4: DeprecationWarning: executable_path has been deprecated, please pass in a Service object\n",
      "  driver=webdriver.Chrome(PATH)\n",
      "error 4\n",
      "todo OK\n",
      "https://open.spotify.com/track/3Kkjo3cT83cw09VJyrLNwX?si=eaeb95f3687f4cba\n",
      "/var/folders/s4/79ykyqjn7f16bdl_zqjgsbzh0000gp/T/ipykernel_14170/863171515.py:4: DeprecationWarning: executable_path has been deprecated, please pass in a Service object\n",
      "  driver=webdriver.Chrome(PATH)\n",
      "error 1\n",
      "error 4\n",
      "todo OK\n",
      "https://open.spotify.com/track/3Kkjo3cT83cw09VJyrLNwX?si=eaeb95f3687f4cba\n",
      "/var/folders/s4/79ykyqjn7f16bdl_zqjgsbzh0000gp/T/ipykernel_14170/863171515.py:4: DeprecationWarning: executable_path has been deprecated, please pass in a Service object\n",
      "  driver=webdriver.Chrome(PATH)\n",
      "error 4\n",
      "todo OK\n",
      "https://open.spotify.com/track/3Kkjo3cT83cw09VJyrLNwX?si=eaeb95f3687f4cba\n",
      "/var/folders/s4/79ykyqjn7f16bdl_zqjgsbzh0000gp/T/ipykernel_14170/863171515.py:4: DeprecationWarning: executable_path has been deprecated, please pass in a Service object\n",
      "  driver=webdriver.Chrome(PATH)\n",
      "error 1\n",
      "todo OK\n",
      "https://open.spotify.com/track/51tMYALx6Lkrte41DoWIPq?si=efe48dd2ce1d4ae0\n",
      "/var/folders/s4/79ykyqjn7f16bdl_zqjgsbzh0000gp/T/ipykernel_14170/863171515.py:4: DeprecationWarning: executable_path has been deprecated, please pass in a Service object\n",
      "  driver=webdriver.Chrome(PATH)\n",
      "error 1\n",
      "todo OK\n",
      "https://open.spotify.com/track/3oB0bcIVRVZgCkWif0H4vV?si=3524e251051d4721\n",
      "/var/folders/s4/79ykyqjn7f16bdl_zqjgsbzh0000gp/T/ipykernel_14170/863171515.py:4: DeprecationWarning: executable_path has been deprecated, please pass in a Service object\n",
      "  driver=webdriver.Chrome(PATH)\n",
      "error 1\n",
      "error 4\n",
      "todo OK\n",
      "https://open.spotify.com/track/3oB0bcIVRVZgCkWif0H4vV?si=3524e251051d4721\n",
      "/var/folders/s4/79ykyqjn7f16bdl_zqjgsbzh0000gp/T/ipykernel_14170/863171515.py:4: DeprecationWarning: executable_path has been deprecated, please pass in a Service object\n",
      "  driver=webdriver.Chrome(PATH)\n",
      "error 1\n",
      "error 4\n",
      "todo OK\n",
      "https://open.spotify.com/track/3oB0bcIVRVZgCkWif0H4vV?si=3524e251051d4721\n",
      "/var/folders/s4/79ykyqjn7f16bdl_zqjgsbzh0000gp/T/ipykernel_14170/863171515.py:4: DeprecationWarning: executable_path has been deprecated, please pass in a Service object\n",
      "  driver=webdriver.Chrome(PATH)\n",
      "error 1\n",
      "error 4\n",
      "todo OK\n",
      "https://open.spotify.com/track/3oB0bcIVRVZgCkWif0H4vV?si=3524e251051d4721\n",
      "/var/folders/s4/79ykyqjn7f16bdl_zqjgsbzh0000gp/T/ipykernel_14170/863171515.py:4: DeprecationWarning: executable_path has been deprecated, please pass in a Service object\n",
      "  driver=webdriver.Chrome(PATH)\n",
      "error 1\n",
      "error 4\n",
      "todo OK\n",
      "https://open.spotify.com/track/3oB0bcIVRVZgCkWif0H4vV?si=3524e251051d4721\n",
      "/var/folders/s4/79ykyqjn7f16bdl_zqjgsbzh0000gp/T/ipykernel_14170/863171515.py:4: DeprecationWarning: executable_path has been deprecated, please pass in a Service object\n",
      "  driver=webdriver.Chrome(PATH)\n",
      "error 1\n",
      "error 4\n",
      "todo OK\n",
      "https://open.spotify.com/track/3oB0bcIVRVZgCkWif0H4vV?si=3524e251051d4721\n",
      "/var/folders/s4/79ykyqjn7f16bdl_zqjgsbzh0000gp/T/ipykernel_14170/863171515.py:4: DeprecationWarning: executable_path has been deprecated, please pass in a Service object\n",
      "  driver=webdriver.Chrome(PATH)\n",
      "error 4\n",
      "todo OK\n",
      "https://open.spotify.com/track/3oB0bcIVRVZgCkWif0H4vV?si=3524e251051d4721\n",
      "/var/folders/s4/79ykyqjn7f16bdl_zqjgsbzh0000gp/T/ipykernel_14170/863171515.py:4: DeprecationWarning: executable_path has been deprecated, please pass in a Service object\n",
      "  driver=webdriver.Chrome(PATH)\n",
      "error 1\n",
      "todo OK\n",
      "https://open.spotify.com/track/23E53f3C9SJ9MqBh1f6hEw?si=2240d8db57bb4142\n",
      "/var/folders/s4/79ykyqjn7f16bdl_zqjgsbzh0000gp/T/ipykernel_14170/863171515.py:4: DeprecationWarning: executable_path has been deprecated, please pass in a Service object\n",
      "  driver=webdriver.Chrome(PATH)\n",
      "error 1\n",
      "todo OK\n",
      "https://open.spotify.com/track/0t8HVhFzUbriYAGX97hJvu?si=f020b4c93937425c\n",
      "/var/folders/s4/79ykyqjn7f16bdl_zqjgsbzh0000gp/T/ipykernel_14170/863171515.py:4: DeprecationWarning: executable_path has been deprecated, please pass in a Service object\n",
      "  driver=webdriver.Chrome(PATH)\n",
      "error 1\n",
      "todo OK\n",
      "https://open.spotify.com/track/1zYMpqZTMQsF6k6HGXea5S?si=86fa75a208cc4244\n",
      "/var/folders/s4/79ykyqjn7f16bdl_zqjgsbzh0000gp/T/ipykernel_14170/863171515.py:4: DeprecationWarning: executable_path has been deprecated, please pass in a Service object\n",
      "  driver=webdriver.Chrome(PATH)\n",
      "todo OK\n",
      "https://open.spotify.com/track/1t0iDaXutz0LrGzSBbWGu5?si=62673a2aa0e24bbb\n",
      "/var/folders/s4/79ykyqjn7f16bdl_zqjgsbzh0000gp/T/ipykernel_14170/863171515.py:4: DeprecationWarning: executable_path has been deprecated, please pass in a Service object\n",
      "  driver=webdriver.Chrome(PATH)\n",
      "error 1\n",
      "todo OK\n",
      "https://open.spotify.com/track/1t0iDaXutz0LrGzSBbWGu5?si=62673a2aa0e24bbb\n",
      "/var/folders/s4/79ykyqjn7f16bdl_zqjgsbzh0000gp/T/ipykernel_14170/863171515.py:4: DeprecationWarning: executable_path has been deprecated, please pass in a Service object\n",
      "  driver=webdriver.Chrome(PATH)\n",
      "error 1\n",
      "error 4\n",
      "todo OK\n",
      "https://open.spotify.com/track/1t0iDaXutz0LrGzSBbWGu5?si=62673a2aa0e24bbb\n",
      "/var/folders/s4/79ykyqjn7f16bdl_zqjgsbzh0000gp/T/ipykernel_14170/863171515.py:4: DeprecationWarning: executable_path has been deprecated, please pass in a Service object\n",
      "  driver=webdriver.Chrome(PATH)\n",
      "error 1\n",
      "error 4\n",
      "todo OK\n",
      "https://open.spotify.com/track/1t0iDaXutz0LrGzSBbWGu5?si=62673a2aa0e24bbb\n",
      "/var/folders/s4/79ykyqjn7f16bdl_zqjgsbzh0000gp/T/ipykernel_14170/863171515.py:4: DeprecationWarning: executable_path has been deprecated, please pass in a Service object\n",
      "  driver=webdriver.Chrome(PATH)\n",
      "error 1\n",
      "error 4\n",
      "todo OK\n",
      "https://open.spotify.com/track/1t0iDaXutz0LrGzSBbWGu5?si=62673a2aa0e24bbb\n",
      "/var/folders/s4/79ykyqjn7f16bdl_zqjgsbzh0000gp/T/ipykernel_14170/863171515.py:4: DeprecationWarning: executable_path has been deprecated, please pass in a Service object\n",
      "  driver=webdriver.Chrome(PATH)\n",
      "error 1\n",
      "todo OK\n",
      "https://open.spotify.com/track/4SF22Q0YH4aVMLqdBTMlgX?si=7e7b1490d7fb43b0\n",
      "/var/folders/s4/79ykyqjn7f16bdl_zqjgsbzh0000gp/T/ipykernel_14170/863171515.py:4: DeprecationWarning: executable_path has been deprecated, please pass in a Service object\n",
      "  driver=webdriver.Chrome(PATH)\n",
      "error 1\n",
      "error 4\n",
      "todo OK\n",
      "https://open.spotify.com/track/4SF22Q0YH4aVMLqdBTMlgX?si=7e7b1490d7fb43b0\n",
      "/var/folders/s4/79ykyqjn7f16bdl_zqjgsbzh0000gp/T/ipykernel_14170/863171515.py:4: DeprecationWarning: executable_path has been deprecated, please pass in a Service object\n",
      "  driver=webdriver.Chrome(PATH)\n",
      "error 1\n",
      "todo OK\n",
      "https://open.spotify.com/track/6geGLupyd2zeViqjHp73OW?si=f06bb02639334995\n",
      "/var/folders/s4/79ykyqjn7f16bdl_zqjgsbzh0000gp/T/ipykernel_14170/863171515.py:4: DeprecationWarning: executable_path has been deprecated, please pass in a Service object\n",
      "  driver=webdriver.Chrome(PATH)\n",
      "error 1\n",
      "todo OK\n",
      "https://open.spotify.com/track/0Q6Pc3dqsl6qHKZ91DPUTH?si=38c05f2b61e44f95\n",
      "/var/folders/s4/79ykyqjn7f16bdl_zqjgsbzh0000gp/T/ipykernel_14170/863171515.py:4: DeprecationWarning: executable_path has been deprecated, please pass in a Service object\n",
      "  driver=webdriver.Chrome(PATH)\n",
      "error 1\n",
      "todo OK\n",
      "https://open.spotify.com/track/54ApOH9ZT6Sk86t8Ayuey9?si=72235b96ec4f405f\n",
      "/var/folders/s4/79ykyqjn7f16bdl_zqjgsbzh0000gp/T/ipykernel_14170/863171515.py:4: DeprecationWarning: executable_path has been deprecated, please pass in a Service object\n",
      "  driver=webdriver.Chrome(PATH)\n",
      "error 1\n",
      "todo OK\n",
      "https://open.spotify.com/track/5EnaxC9amhXY55ezw87SL8?si=4438910f67ec48fd\n",
      "/var/folders/s4/79ykyqjn7f16bdl_zqjgsbzh0000gp/T/ipykernel_14170/863171515.py:4: DeprecationWarning: executable_path has been deprecated, please pass in a Service object\n",
      "  driver=webdriver.Chrome(PATH)\n",
      "todo OK\n",
      "https://open.spotify.com/track/671sG3ETDxC3L6qcGIrHRM?si=f9c520a27b5e4a3b\n",
      "/var/folders/s4/79ykyqjn7f16bdl_zqjgsbzh0000gp/T/ipykernel_14170/863171515.py:4: DeprecationWarning: executable_path has been deprecated, please pass in a Service object\n",
      "  driver=webdriver.Chrome(PATH)\n",
      "todo OK\n",
      "https://open.spotify.com/track/1G4IUy4k1fvVJjyQCIaBPU?si=3d03629022644cea\n",
      "/var/folders/s4/79ykyqjn7f16bdl_zqjgsbzh0000gp/T/ipykernel_14170/863171515.py:4: DeprecationWarning: executable_path has been deprecated, please pass in a Service object\n",
      "  driver=webdriver.Chrome(PATH)\n",
      "error 1\n",
      "error 4\n",
      "todo OK\n",
      "https://open.spotify.com/track/1G4IUy4k1fvVJjyQCIaBPU?si=3d03629022644cea\n",
      "/var/folders/s4/79ykyqjn7f16bdl_zqjgsbzh0000gp/T/ipykernel_14170/863171515.py:4: DeprecationWarning: executable_path has been deprecated, please pass in a Service object\n",
      "  driver=webdriver.Chrome(PATH)\n",
      "todo OK\n",
      "https://open.spotify.com/track/0v1EnT2sDsuLnvwo7Z3N3c?si=e74e04e0b4d74206\n",
      "/var/folders/s4/79ykyqjn7f16bdl_zqjgsbzh0000gp/T/ipykernel_14170/863171515.py:4: DeprecationWarning: executable_path has been deprecated, please pass in a Service object\n",
      "  driver=webdriver.Chrome(PATH)\n",
      "todo OK\n",
      "https://open.spotify.com/track/7aogFQAg0TrYKwGHurgNPg?si=3ab75c95cba34203\n",
      "/var/folders/s4/79ykyqjn7f16bdl_zqjgsbzh0000gp/T/ipykernel_14170/863171515.py:4: DeprecationWarning: executable_path has been deprecated, please pass in a Service object\n",
      "  driver=webdriver.Chrome(PATH)\n",
      "error 4\n",
      "todo OK\n",
      "https://open.spotify.com/track/7aogFQAg0TrYKwGHurgNPg?si=3ab75c95cba34203\n",
      "/var/folders/s4/79ykyqjn7f16bdl_zqjgsbzh0000gp/T/ipykernel_14170/863171515.py:4: DeprecationWarning: executable_path has been deprecated, please pass in a Service object\n",
      "  driver=webdriver.Chrome(PATH)\n",
      "error 1\n",
      "error 4\n",
      "todo OK\n",
      "https://open.spotify.com/track/7aogFQAg0TrYKwGHurgNPg?si=3ab75c95cba34203\n",
      "/var/folders/s4/79ykyqjn7f16bdl_zqjgsbzh0000gp/T/ipykernel_14170/863171515.py:4: DeprecationWarning: executable_path has been deprecated, please pass in a Service object\n",
      "  driver=webdriver.Chrome(PATH)\n",
      "error 1\n",
      "error 4\n",
      "todo OK\n",
      "https://open.spotify.com/track/7aogFQAg0TrYKwGHurgNPg?si=3ab75c95cba34203\n",
      "/var/folders/s4/79ykyqjn7f16bdl_zqjgsbzh0000gp/T/ipykernel_14170/863171515.py:4: DeprecationWarning: executable_path has been deprecated, please pass in a Service object\n",
      "  driver=webdriver.Chrome(PATH)\n",
      "error 1\n",
      "error 4\n",
      "todo OK\n",
      "https://open.spotify.com/track/7aogFQAg0TrYKwGHurgNPg?si=3ab75c95cba34203\n",
      "/var/folders/s4/79ykyqjn7f16bdl_zqjgsbzh0000gp/T/ipykernel_14170/863171515.py:4: DeprecationWarning: executable_path has been deprecated, please pass in a Service object\n",
      "  driver=webdriver.Chrome(PATH)\n",
      "error 1\n",
      "todo OK\n",
      "https://open.spotify.com/track/5QAya5bSSiKlh1h4qeeq38?si=3dc14cc2e4404fa7\n",
      "/var/folders/s4/79ykyqjn7f16bdl_zqjgsbzh0000gp/T/ipykernel_14170/863171515.py:4: DeprecationWarning: executable_path has been deprecated, please pass in a Service object\n",
      "  driver=webdriver.Chrome(PATH)\n",
      "error 1\n",
      "error 4\n",
      "todo OK\n",
      "https://open.spotify.com/track/5QAya5bSSiKlh1h4qeeq38?si=3dc14cc2e4404fa7\n",
      "/var/folders/s4/79ykyqjn7f16bdl_zqjgsbzh0000gp/T/ipykernel_14170/863171515.py:4: DeprecationWarning: executable_path has been deprecated, please pass in a Service object\n",
      "  driver=webdriver.Chrome(PATH)\n",
      "error 4\n",
      "todo OK\n",
      "https://open.spotify.com/track/5QAya5bSSiKlh1h4qeeq38?si=3dc14cc2e4404fa7\n",
      "/var/folders/s4/79ykyqjn7f16bdl_zqjgsbzh0000gp/T/ipykernel_14170/863171515.py:4: DeprecationWarning: executable_path has been deprecated, please pass in a Service object\n",
      "  driver=webdriver.Chrome(PATH)\n",
      "todo OK\n",
      "https://open.spotify.com/track/4HYDUMY0xSpeBr0AMY9cUz?si=565ebd5bb0ce4be9\n",
      "/var/folders/s4/79ykyqjn7f16bdl_zqjgsbzh0000gp/T/ipykernel_14170/863171515.py:4: DeprecationWarning: executable_path has been deprecated, please pass in a Service object\n",
      "  driver=webdriver.Chrome(PATH)\n",
      "todo OK\n",
      "https://open.spotify.com/track/53w7xjn8fwwU8Pc6rgMm5v?si=9da48689b0f24f32\n",
      "/var/folders/s4/79ykyqjn7f16bdl_zqjgsbzh0000gp/T/ipykernel_14170/863171515.py:4: DeprecationWarning: executable_path has been deprecated, please pass in a Service object\n",
      "  driver=webdriver.Chrome(PATH)\n",
      "error 1\n",
      "error 4\n",
      "todo OK\n",
      "https://open.spotify.com/track/53w7xjn8fwwU8Pc6rgMm5v?si=9da48689b0f24f32\n",
      "/var/folders/s4/79ykyqjn7f16bdl_zqjgsbzh0000gp/T/ipykernel_14170/863171515.py:4: DeprecationWarning: executable_path has been deprecated, please pass in a Service object\n",
      "  driver=webdriver.Chrome(PATH)\n",
      "error 1\n",
      "error 4\n",
      "todo OK\n",
      "https://open.spotify.com/track/53w7xjn8fwwU8Pc6rgMm5v?si=9da48689b0f24f32\n",
      "/var/folders/s4/79ykyqjn7f16bdl_zqjgsbzh0000gp/T/ipykernel_14170/863171515.py:4: DeprecationWarning: executable_path has been deprecated, please pass in a Service object\n",
      "  driver=webdriver.Chrome(PATH)\n",
      "error 1\n",
      "todo OK\n",
      "https://open.spotify.com/track/0q7psxaixBQ8FkqyVpbfky?si=6fcfb6a876e6465e\n",
      "/var/folders/s4/79ykyqjn7f16bdl_zqjgsbzh0000gp/T/ipykernel_14170/863171515.py:4: DeprecationWarning: executable_path has been deprecated, please pass in a Service object\n",
      "  driver=webdriver.Chrome(PATH)\n",
      "error 1\n",
      "todo OK\n",
      "https://open.spotify.com/track/2tnVG71enUj33Ic2nFN6kZ?si=fcfcded4d91e4338\n",
      "/var/folders/s4/79ykyqjn7f16bdl_zqjgsbzh0000gp/T/ipykernel_14170/863171515.py:4: DeprecationWarning: executable_path has been deprecated, please pass in a Service object\n",
      "  driver=webdriver.Chrome(PATH)\n",
      "todo OK\n",
      "https://open.spotify.com/track/0IqCoZ168iRc9LqfrYgpZy?si=06a688f6b6ac47ef\n",
      "/var/folders/s4/79ykyqjn7f16bdl_zqjgsbzh0000gp/T/ipykernel_14170/863171515.py:4: DeprecationWarning: executable_path has been deprecated, please pass in a Service object\n",
      "  driver=webdriver.Chrome(PATH)\n",
      "todo OK\n",
      "https://open.spotify.com/track/2u0cV9ctd6AcnMBbDFk88b?si=886b447936f74d68\n",
      "/var/folders/s4/79ykyqjn7f16bdl_zqjgsbzh0000gp/T/ipykernel_14170/863171515.py:4: DeprecationWarning: executable_path has been deprecated, please pass in a Service object\n",
      "  driver=webdriver.Chrome(PATH)\n",
      "error 1\n",
      "todo OK\n",
      "https://open.spotify.com/track/28RZOw2Kp8w8U3FElzIFJQ?si=1948c764d7124d91\n",
      "/var/folders/s4/79ykyqjn7f16bdl_zqjgsbzh0000gp/T/ipykernel_14170/863171515.py:4: DeprecationWarning: executable_path has been deprecated, please pass in a Service object\n",
      "  driver=webdriver.Chrome(PATH)\n",
      "todo OK\n",
      "https://open.spotify.com/track/2HpbDdD3JLpAPMJFYCeC6o?si=d5323ab535a740fa\n",
      "/var/folders/s4/79ykyqjn7f16bdl_zqjgsbzh0000gp/T/ipykernel_14170/863171515.py:4: DeprecationWarning: executable_path has been deprecated, please pass in a Service object\n",
      "  driver=webdriver.Chrome(PATH)\n",
      "error 1\n",
      "todo OK\n",
      "https://open.spotify.com/track/7pQMGkL6LImxSxHHuqgvpe?si=4f0f1e86082f41e8\n",
      "/var/folders/s4/79ykyqjn7f16bdl_zqjgsbzh0000gp/T/ipykernel_14170/863171515.py:4: DeprecationWarning: executable_path has been deprecated, please pass in a Service object\n",
      "  driver=webdriver.Chrome(PATH)\n",
      "driver.quit()\n",
      "uri\n",
      "link=[]\n",
      "'https://open.spotify.com/search/\n",
      "def buscarlink (trackartist):\n",
      "        \n",
      "    url=f'https://open.spotify.com/search/{trackartist}'\n",
      "    # inicia el driver\n",
      "    driver=webdriver.Chrome(PATH)\n",
      "    driver.get(url)\n",
      "​\n",
      "​\n",
      "    # acepta cookies\n",
      "    try:\n",
      "        time.sleep(10)\n",
      "        aceptar=driver.find_element(By.XPATH, '//*[@id=\"onetrust-accept-btn-handler\"]')\n",
      "        aceptar.click()\n",
      "​\n",
      "        time.sleep(4)\n",
      "    except:\n",
      "        time.sleep(0.00001)\n",
      "​\n",
      "    #Anuncio Premium\n",
      "    try:\n",
      "        anuncio=driver.find_element(By.XPATH, '//*[@id=\"main\"]/div/div[2]/div[2]/footer/div[1]/button[2]')\n",
      "        anuncio.click()\n",
      "        time.sleep(4)\n",
      "​\n",
      "    except:\n",
      "        time.sleep(0.0001)\n",
      "​\n",
      "    # seleccionar las opciones de la canción\n",
      "    opciones=driver.find_element(By.XPATH, '//*[@id=\"searchPage\"]/div/div/section[2]/div[2]/div/div/div/div[2]/div[1]/div/div[2]/button[2]')\n",
      "    opciones.click()\n",
      "​\n",
      "    #seleccionar compartir\n",
      "    compartir=driver.find_element(By.XPATH, '//*[@id=\"context-menu\"]/ul/li[7]/button/span[1]')\n",
      "    compartir.click()\n",
      "​\n",
      "    #copiar el enlace de la canción\n",
      "    copiarlink = driver.find_element(By.XPATH, '//*[@id=\"tippy-4\"]/ul/li[1]/button/span')\n",
      "    copiarlink.click()\n",
      "    print(copiarlink.text())\n",
      "​\n",
      "    #pegar el enlace\n",
      "    global listita\n",
      "    listita = []\n",
      "    listita.append(clipboard.paste())\n",
      "    print(clipboard.paste())\n",
      "    print(listita)\n",
      "    \n",
      "    #cerrar driver\n",
      "    driver.quit()\n",
      "    \n",
      "    return listita\n",
      "​\n",
      "Elephant%20Tame%20Impala\n",
      "prueba = ['Experimento%20Myke%20Towers','Rocky%20Still%20Woozy', 'Elephant%20Tame%20Impala', 'Experimento%20Myke%20Towers', 'Experimento%20Myke%20Towers', 'Experimento%20Myke%20Towers', 'Experimento%20Myke%20Towers', 'Experimento%20Myke%20Towers', 'Experimento%20Myke%20Towers', 'Experimento%20Myke%20Towers', 'fallin%20Alicia%20Keys']\n",
      "df = Parallel(n_jobs=1, verbose=True)(delayed(buscarlink)(e) for e in prueba)\n",
      "driver.quit()\n",
      "listita\n",
      "music.head(25)\n",
      "​\n",
      "\n"
     ]
    },
    {
     "name": "stderr",
     "output_type": "stream",
     "text": [
      "/var/folders/s4/79ykyqjn7f16bdl_zqjgsbzh0000gp/T/ipykernel_14170/863171515.py:4: DeprecationWarning: executable_path has been deprecated, please pass in a Service object\n",
      "  driver=webdriver.Chrome(PATH)\n"
     ]
    },
    {
     "name": "stdout",
     "output_type": "stream",
     "text": [
      "error 1\n",
      "todo OK\n",
      "https://open.spotify.com/track/267nfLfaSSDa9ivHncHynh?si=b045ecbc97d847d9\n"
     ]
    },
    {
     "name": "stderr",
     "output_type": "stream",
     "text": [
      "/var/folders/s4/79ykyqjn7f16bdl_zqjgsbzh0000gp/T/ipykernel_14170/863171515.py:4: DeprecationWarning: executable_path has been deprecated, please pass in a Service object\n",
      "  driver=webdriver.Chrome(PATH)\n"
     ]
    },
    {
     "name": "stdout",
     "output_type": "stream",
     "text": [
      "error 1\n",
      "error 4\n",
      "todo OK\n",
      "https://open.spotify.com/track/267nfLfaSSDa9ivHncHynh?si=b045ecbc97d847d9\n"
     ]
    },
    {
     "name": "stderr",
     "output_type": "stream",
     "text": [
      "/var/folders/s4/79ykyqjn7f16bdl_zqjgsbzh0000gp/T/ipykernel_14170/863171515.py:4: DeprecationWarning: executable_path has been deprecated, please pass in a Service object\n",
      "  driver=webdriver.Chrome(PATH)\n"
     ]
    },
    {
     "name": "stdout",
     "output_type": "stream",
     "text": [
      "error 1\n",
      "todo OK\n",
      "https://open.spotify.com/track/2AT8iROs4FQueDv2c8q2KE?si=bc0bbcdc170042c3\n"
     ]
    },
    {
     "name": "stderr",
     "output_type": "stream",
     "text": [
      "/var/folders/s4/79ykyqjn7f16bdl_zqjgsbzh0000gp/T/ipykernel_14170/863171515.py:4: DeprecationWarning: executable_path has been deprecated, please pass in a Service object\n",
      "  driver=webdriver.Chrome(PATH)\n"
     ]
    },
    {
     "name": "stdout",
     "output_type": "stream",
     "text": [
      "error 1\n",
      "todo OK\n",
      "https://open.spotify.com/track/2dLLR6qlu5UJ5gk0dKz0h3?si=d23630a2a86c4dcd\n"
     ]
    },
    {
     "name": "stderr",
     "output_type": "stream",
     "text": [
      "/var/folders/s4/79ykyqjn7f16bdl_zqjgsbzh0000gp/T/ipykernel_14170/863171515.py:4: DeprecationWarning: executable_path has been deprecated, please pass in a Service object\n",
      "  driver=webdriver.Chrome(PATH)\n"
     ]
    },
    {
     "name": "stdout",
     "output_type": "stream",
     "text": [
      "error 1\n",
      "todo OK\n",
      "https://open.spotify.com/track/6yhjZ5Cu2KOYywvloLl84v?si=be13e3b87dd74fae\n"
     ]
    },
    {
     "name": "stderr",
     "output_type": "stream",
     "text": [
      "/var/folders/s4/79ykyqjn7f16bdl_zqjgsbzh0000gp/T/ipykernel_14170/863171515.py:4: DeprecationWarning: executable_path has been deprecated, please pass in a Service object\n",
      "  driver=webdriver.Chrome(PATH)\n"
     ]
    },
    {
     "name": "stdout",
     "output_type": "stream",
     "text": [
      "error 4\n",
      "todo OK\n",
      "https://open.spotify.com/track/6yhjZ5Cu2KOYywvloLl84v?si=be13e3b87dd74fae\n"
     ]
    },
    {
     "name": "stderr",
     "output_type": "stream",
     "text": [
      "/var/folders/s4/79ykyqjn7f16bdl_zqjgsbzh0000gp/T/ipykernel_14170/863171515.py:4: DeprecationWarning: executable_path has been deprecated, please pass in a Service object\n",
      "  driver=webdriver.Chrome(PATH)\n"
     ]
    },
    {
     "name": "stdout",
     "output_type": "stream",
     "text": [
      "error 1\n",
      "todo OK\n",
      "https://open.spotify.com/track/2Nm0IGkliIwWjSBINf3KjG?si=d4a0004708294666\n"
     ]
    },
    {
     "name": "stderr",
     "output_type": "stream",
     "text": [
      "/var/folders/s4/79ykyqjn7f16bdl_zqjgsbzh0000gp/T/ipykernel_14170/863171515.py:4: DeprecationWarning: executable_path has been deprecated, please pass in a Service object\n",
      "  driver=webdriver.Chrome(PATH)\n"
     ]
    },
    {
     "name": "stdout",
     "output_type": "stream",
     "text": [
      "error 1\n",
      "todo OK\n",
      "https://open.spotify.com/track/6WRjufZUoxjaUNKOJ6QhWp?si=1dd1c6ae86ff4f0f\n"
     ]
    },
    {
     "name": "stderr",
     "output_type": "stream",
     "text": [
      "/var/folders/s4/79ykyqjn7f16bdl_zqjgsbzh0000gp/T/ipykernel_14170/863171515.py:4: DeprecationWarning: executable_path has been deprecated, please pass in a Service object\n",
      "  driver=webdriver.Chrome(PATH)\n"
     ]
    },
    {
     "name": "stdout",
     "output_type": "stream",
     "text": [
      "error 1\n",
      "error 4\n",
      "todo OK\n",
      "https://open.spotify.com/track/6WRjufZUoxjaUNKOJ6QhWp?si=1dd1c6ae86ff4f0f\n"
     ]
    },
    {
     "name": "stderr",
     "output_type": "stream",
     "text": [
      "/var/folders/s4/79ykyqjn7f16bdl_zqjgsbzh0000gp/T/ipykernel_14170/863171515.py:4: DeprecationWarning: executable_path has been deprecated, please pass in a Service object\n",
      "  driver=webdriver.Chrome(PATH)\n"
     ]
    },
    {
     "name": "stdout",
     "output_type": "stream",
     "text": [
      "error 1\n",
      "todo OK\n",
      "https://open.spotify.com/track/1pv5scBTTQyqN2NOiEj8oe?si=1604a95921d34351\n"
     ]
    },
    {
     "name": "stderr",
     "output_type": "stream",
     "text": [
      "/var/folders/s4/79ykyqjn7f16bdl_zqjgsbzh0000gp/T/ipykernel_14170/863171515.py:4: DeprecationWarning: executable_path has been deprecated, please pass in a Service object\n",
      "  driver=webdriver.Chrome(PATH)\n"
     ]
    },
    {
     "name": "stdout",
     "output_type": "stream",
     "text": [
      "error 1\n",
      "todo OK\n",
      "https://open.spotify.com/track/1tQtURCQmQnY5ZxJNTgXKR?si=9e95fdce36f64f18\n"
     ]
    },
    {
     "name": "stderr",
     "output_type": "stream",
     "text": [
      "/var/folders/s4/79ykyqjn7f16bdl_zqjgsbzh0000gp/T/ipykernel_14170/863171515.py:4: DeprecationWarning: executable_path has been deprecated, please pass in a Service object\n",
      "  driver=webdriver.Chrome(PATH)\n"
     ]
    },
    {
     "name": "stdout",
     "output_type": "stream",
     "text": [
      "todo OK\n",
      "https://open.spotify.com/track/7AAmzdsUgutGUwwD2bypfk?si=e05078f028c84943\n"
     ]
    },
    {
     "name": "stderr",
     "output_type": "stream",
     "text": [
      "/var/folders/s4/79ykyqjn7f16bdl_zqjgsbzh0000gp/T/ipykernel_14170/863171515.py:4: DeprecationWarning: executable_path has been deprecated, please pass in a Service object\n",
      "  driver=webdriver.Chrome(PATH)\n"
     ]
    },
    {
     "name": "stdout",
     "output_type": "stream",
     "text": [
      "error 1\n",
      "error 4\n",
      "todo OK\n",
      "https://open.spotify.com/track/7AAmzdsUgutGUwwD2bypfk?si=e05078f028c84943\n"
     ]
    },
    {
     "name": "stderr",
     "output_type": "stream",
     "text": [
      "/var/folders/s4/79ykyqjn7f16bdl_zqjgsbzh0000gp/T/ipykernel_14170/863171515.py:4: DeprecationWarning: executable_path has been deprecated, please pass in a Service object\n",
      "  driver=webdriver.Chrome(PATH)\n"
     ]
    },
    {
     "name": "stdout",
     "output_type": "stream",
     "text": [
      "todo OK\n",
      "https://open.spotify.com/track/2KMJ5CoxY4ECG9TZyNWmpv?si=8f8235b5ad16451c\n"
     ]
    },
    {
     "name": "stderr",
     "output_type": "stream",
     "text": [
      "/var/folders/s4/79ykyqjn7f16bdl_zqjgsbzh0000gp/T/ipykernel_14170/863171515.py:4: DeprecationWarning: executable_path has been deprecated, please pass in a Service object\n",
      "  driver=webdriver.Chrome(PATH)\n"
     ]
    },
    {
     "name": "stdout",
     "output_type": "stream",
     "text": [
      "error 1\n",
      "error 4\n",
      "todo OK\n",
      "https://open.spotify.com/track/2KMJ5CoxY4ECG9TZyNWmpv?si=8f8235b5ad16451c\n"
     ]
    },
    {
     "name": "stderr",
     "output_type": "stream",
     "text": [
      "/var/folders/s4/79ykyqjn7f16bdl_zqjgsbzh0000gp/T/ipykernel_14170/863171515.py:4: DeprecationWarning: executable_path has been deprecated, please pass in a Service object\n",
      "  driver=webdriver.Chrome(PATH)\n"
     ]
    },
    {
     "name": "stdout",
     "output_type": "stream",
     "text": [
      "error 1\n",
      "todo OK\n",
      "https://open.spotify.com/track/1PXsUXSM3LF2XNSkmIldPb?si=cfbece693dd2464e\n"
     ]
    },
    {
     "name": "stderr",
     "output_type": "stream",
     "text": [
      "/var/folders/s4/79ykyqjn7f16bdl_zqjgsbzh0000gp/T/ipykernel_14170/863171515.py:4: DeprecationWarning: executable_path has been deprecated, please pass in a Service object\n",
      "  driver=webdriver.Chrome(PATH)\n"
     ]
    },
    {
     "name": "stdout",
     "output_type": "stream",
     "text": [
      "error 1\n",
      "todo OK\n",
      "https://open.spotify.com/track/3YYwrOdeMEvmHBWHJ0TmB6?si=ccee8db83c634457\n"
     ]
    },
    {
     "name": "stderr",
     "output_type": "stream",
     "text": [
      "/var/folders/s4/79ykyqjn7f16bdl_zqjgsbzh0000gp/T/ipykernel_14170/863171515.py:4: DeprecationWarning: executable_path has been deprecated, please pass in a Service object\n",
      "  driver=webdriver.Chrome(PATH)\n"
     ]
    },
    {
     "name": "stdout",
     "output_type": "stream",
     "text": [
      "error 1\n",
      "error 4\n",
      "todo OK\n",
      "https://open.spotify.com/track/3YYwrOdeMEvmHBWHJ0TmB6?si=ccee8db83c634457\n"
     ]
    },
    {
     "name": "stderr",
     "output_type": "stream",
     "text": [
      "/var/folders/s4/79ykyqjn7f16bdl_zqjgsbzh0000gp/T/ipykernel_14170/863171515.py:4: DeprecationWarning: executable_path has been deprecated, please pass in a Service object\n",
      "  driver=webdriver.Chrome(PATH)\n"
     ]
    },
    {
     "name": "stdout",
     "output_type": "stream",
     "text": [
      "todo OK\n",
      "https://open.spotify.com/track/2kpoReN3MY7I0tSF902n0z?si=86019735562e4ddc\n"
     ]
    },
    {
     "name": "stderr",
     "output_type": "stream",
     "text": [
      "/var/folders/s4/79ykyqjn7f16bdl_zqjgsbzh0000gp/T/ipykernel_14170/863171515.py:4: DeprecationWarning: executable_path has been deprecated, please pass in a Service object\n",
      "  driver=webdriver.Chrome(PATH)\n"
     ]
    },
    {
     "name": "stdout",
     "output_type": "stream",
     "text": [
      "error 1\n",
      "error 4\n",
      "todo OK\n",
      "https://open.spotify.com/track/2kpoReN3MY7I0tSF902n0z?si=86019735562e4ddc\n"
     ]
    },
    {
     "name": "stderr",
     "output_type": "stream",
     "text": [
      "/var/folders/s4/79ykyqjn7f16bdl_zqjgsbzh0000gp/T/ipykernel_14170/863171515.py:4: DeprecationWarning: executable_path has been deprecated, please pass in a Service object\n",
      "  driver=webdriver.Chrome(PATH)\n"
     ]
    },
    {
     "name": "stdout",
     "output_type": "stream",
     "text": [
      "error 1\n",
      "error 4\n",
      "todo OK\n",
      "https://open.spotify.com/track/2kpoReN3MY7I0tSF902n0z?si=86019735562e4ddc\n"
     ]
    },
    {
     "name": "stderr",
     "output_type": "stream",
     "text": [
      "/var/folders/s4/79ykyqjn7f16bdl_zqjgsbzh0000gp/T/ipykernel_14170/863171515.py:4: DeprecationWarning: executable_path has been deprecated, please pass in a Service object\n",
      "  driver=webdriver.Chrome(PATH)\n"
     ]
    },
    {
     "name": "stdout",
     "output_type": "stream",
     "text": [
      "error 4\n",
      "todo OK\n",
      "https://open.spotify.com/track/2kpoReN3MY7I0tSF902n0z?si=86019735562e4ddc\n"
     ]
    },
    {
     "name": "stderr",
     "output_type": "stream",
     "text": [
      "/var/folders/s4/79ykyqjn7f16bdl_zqjgsbzh0000gp/T/ipykernel_14170/863171515.py:4: DeprecationWarning: executable_path has been deprecated, please pass in a Service object\n",
      "  driver=webdriver.Chrome(PATH)\n"
     ]
    },
    {
     "name": "stdout",
     "output_type": "stream",
     "text": [
      "error 1\n",
      "error 4\n",
      "todo OK\n",
      "https://open.spotify.com/track/2kpoReN3MY7I0tSF902n0z?si=86019735562e4ddc\n"
     ]
    },
    {
     "name": "stderr",
     "output_type": "stream",
     "text": [
      "/var/folders/s4/79ykyqjn7f16bdl_zqjgsbzh0000gp/T/ipykernel_14170/863171515.py:4: DeprecationWarning: executable_path has been deprecated, please pass in a Service object\n",
      "  driver=webdriver.Chrome(PATH)\n"
     ]
    },
    {
     "name": "stdout",
     "output_type": "stream",
     "text": [
      "error 4\n",
      "todo OK\n",
      "https://open.spotify.com/track/2kpoReN3MY7I0tSF902n0z?si=86019735562e4ddc\n"
     ]
    },
    {
     "name": "stderr",
     "output_type": "stream",
     "text": [
      "/var/folders/s4/79ykyqjn7f16bdl_zqjgsbzh0000gp/T/ipykernel_14170/863171515.py:4: DeprecationWarning: executable_path has been deprecated, please pass in a Service object\n",
      "  driver=webdriver.Chrome(PATH)\n"
     ]
    },
    {
     "name": "stdout",
     "output_type": "stream",
     "text": [
      "error 1\n",
      "todo OK\n",
      "https://open.spotify.com/track/5hTpBe8h35rJ67eAWHQsJx?si=3915e4d6c7da4cfa\n"
     ]
    },
    {
     "name": "stderr",
     "output_type": "stream",
     "text": [
      "/var/folders/s4/79ykyqjn7f16bdl_zqjgsbzh0000gp/T/ipykernel_14170/863171515.py:4: DeprecationWarning: executable_path has been deprecated, please pass in a Service object\n",
      "  driver=webdriver.Chrome(PATH)\n"
     ]
    },
    {
     "name": "stdout",
     "output_type": "stream",
     "text": [
      "error 1\n",
      "todo OK\n",
      "https://open.spotify.com/track/5qHirGR7M9tdm6C17DlzSY?si=8f9a3734b2364d61\n"
     ]
    },
    {
     "name": "stderr",
     "output_type": "stream",
     "text": [
      "/var/folders/s4/79ykyqjn7f16bdl_zqjgsbzh0000gp/T/ipykernel_14170/863171515.py:4: DeprecationWarning: executable_path has been deprecated, please pass in a Service object\n",
      "  driver=webdriver.Chrome(PATH)\n"
     ]
    },
    {
     "name": "stdout",
     "output_type": "stream",
     "text": [
      "error 1\n",
      "todo OK\n",
      "https://open.spotify.com/track/4Aocy7YAyOYf5YHj18Vfj3?si=f7c081262f644448\n"
     ]
    },
    {
     "name": "stderr",
     "output_type": "stream",
     "text": [
      "/var/folders/s4/79ykyqjn7f16bdl_zqjgsbzh0000gp/T/ipykernel_14170/863171515.py:4: DeprecationWarning: executable_path has been deprecated, please pass in a Service object\n",
      "  driver=webdriver.Chrome(PATH)\n"
     ]
    },
    {
     "name": "stdout",
     "output_type": "stream",
     "text": [
      "error 4\n",
      "todo OK\n",
      "https://open.spotify.com/track/4Aocy7YAyOYf5YHj18Vfj3?si=f7c081262f644448\n"
     ]
    },
    {
     "name": "stderr",
     "output_type": "stream",
     "text": [
      "/var/folders/s4/79ykyqjn7f16bdl_zqjgsbzh0000gp/T/ipykernel_14170/863171515.py:4: DeprecationWarning: executable_path has been deprecated, please pass in a Service object\n",
      "  driver=webdriver.Chrome(PATH)\n"
     ]
    },
    {
     "name": "stdout",
     "output_type": "stream",
     "text": [
      "error 4\n",
      "todo OK\n",
      "https://open.spotify.com/track/4Aocy7YAyOYf5YHj18Vfj3?si=f7c081262f644448\n"
     ]
    },
    {
     "name": "stderr",
     "output_type": "stream",
     "text": [
      "/var/folders/s4/79ykyqjn7f16bdl_zqjgsbzh0000gp/T/ipykernel_14170/863171515.py:4: DeprecationWarning: executable_path has been deprecated, please pass in a Service object\n",
      "  driver=webdriver.Chrome(PATH)\n"
     ]
    },
    {
     "name": "stdout",
     "output_type": "stream",
     "text": [
      "error 4\n",
      "todo OK\n",
      "https://open.spotify.com/track/4Aocy7YAyOYf5YHj18Vfj3?si=f7c081262f644448\n"
     ]
    },
    {
     "name": "stderr",
     "output_type": "stream",
     "text": [
      "/var/folders/s4/79ykyqjn7f16bdl_zqjgsbzh0000gp/T/ipykernel_14170/863171515.py:4: DeprecationWarning: executable_path has been deprecated, please pass in a Service object\n",
      "  driver=webdriver.Chrome(PATH)\n"
     ]
    },
    {
     "name": "stdout",
     "output_type": "stream",
     "text": [
      "error 1\n",
      "todo OK\n",
      "https://open.spotify.com/track/6VS7wKwtvL2FvTupYSWZ9e?si=af25dd51986d4600\n"
     ]
    },
    {
     "name": "stderr",
     "output_type": "stream",
     "text": [
      "/var/folders/s4/79ykyqjn7f16bdl_zqjgsbzh0000gp/T/ipykernel_14170/863171515.py:4: DeprecationWarning: executable_path has been deprecated, please pass in a Service object\n",
      "  driver=webdriver.Chrome(PATH)\n"
     ]
    },
    {
     "name": "stdout",
     "output_type": "stream",
     "text": [
      "error 1\n",
      "todo OK\n",
      "https://open.spotify.com/track/0tlM57cmnhLbHwxU8hGox4?si=7c75ac59a50c47fd\n"
     ]
    },
    {
     "name": "stderr",
     "output_type": "stream",
     "text": [
      "/var/folders/s4/79ykyqjn7f16bdl_zqjgsbzh0000gp/T/ipykernel_14170/863171515.py:4: DeprecationWarning: executable_path has been deprecated, please pass in a Service object\n",
      "  driver=webdriver.Chrome(PATH)\n"
     ]
    },
    {
     "name": "stdout",
     "output_type": "stream",
     "text": [
      "error 1\n",
      "error 4\n",
      "todo OK\n",
      "https://open.spotify.com/track/0tlM57cmnhLbHwxU8hGox4?si=7c75ac59a50c47fd\n"
     ]
    },
    {
     "name": "stderr",
     "output_type": "stream",
     "text": [
      "/var/folders/s4/79ykyqjn7f16bdl_zqjgsbzh0000gp/T/ipykernel_14170/863171515.py:4: DeprecationWarning: executable_path has been deprecated, please pass in a Service object\n",
      "  driver=webdriver.Chrome(PATH)\n"
     ]
    },
    {
     "name": "stdout",
     "output_type": "stream",
     "text": [
      "todo OK\n",
      "https://open.spotify.com/track/7xEVy3xCkmRSbYavgefnsI?si=bfb5b3844d5449cc\n"
     ]
    },
    {
     "name": "stderr",
     "output_type": "stream",
     "text": [
      "/var/folders/s4/79ykyqjn7f16bdl_zqjgsbzh0000gp/T/ipykernel_14170/863171515.py:4: DeprecationWarning: executable_path has been deprecated, please pass in a Service object\n",
      "  driver=webdriver.Chrome(PATH)\n"
     ]
    },
    {
     "name": "stdout",
     "output_type": "stream",
     "text": [
      "todo OK\n",
      "https://open.spotify.com/track/29fDSYL3HQoaObeIxGZW4W?si=e9f3ab836c674483\n"
     ]
    },
    {
     "name": "stderr",
     "output_type": "stream",
     "text": [
      "/var/folders/s4/79ykyqjn7f16bdl_zqjgsbzh0000gp/T/ipykernel_14170/863171515.py:4: DeprecationWarning: executable_path has been deprecated, please pass in a Service object\n",
      "  driver=webdriver.Chrome(PATH)\n"
     ]
    },
    {
     "name": "stdout",
     "output_type": "stream",
     "text": [
      "error 1\n",
      "todo OK\n",
      "https://open.spotify.com/track/79MSEdtXuudhGhC5AtG07g?si=6b74a9d974f24b3d\n"
     ]
    },
    {
     "name": "stderr",
     "output_type": "stream",
     "text": [
      "/var/folders/s4/79ykyqjn7f16bdl_zqjgsbzh0000gp/T/ipykernel_14170/863171515.py:4: DeprecationWarning: executable_path has been deprecated, please pass in a Service object\n",
      "  driver=webdriver.Chrome(PATH)\n"
     ]
    },
    {
     "name": "stdout",
     "output_type": "stream",
     "text": [
      "error 4\n",
      "todo OK\n",
      "https://open.spotify.com/track/79MSEdtXuudhGhC5AtG07g?si=6b74a9d974f24b3d\n"
     ]
    },
    {
     "name": "stderr",
     "output_type": "stream",
     "text": [
      "/var/folders/s4/79ykyqjn7f16bdl_zqjgsbzh0000gp/T/ipykernel_14170/863171515.py:4: DeprecationWarning: executable_path has been deprecated, please pass in a Service object\n",
      "  driver=webdriver.Chrome(PATH)\n"
     ]
    },
    {
     "name": "stdout",
     "output_type": "stream",
     "text": [
      "error 1\n",
      "todo OK\n",
      "https://open.spotify.com/track/6kj8TeHSns33wt1Z1wdmMx?si=77f771fd8d844987\n"
     ]
    },
    {
     "name": "stderr",
     "output_type": "stream",
     "text": [
      "/var/folders/s4/79ykyqjn7f16bdl_zqjgsbzh0000gp/T/ipykernel_14170/863171515.py:4: DeprecationWarning: executable_path has been deprecated, please pass in a Service object\n",
      "  driver=webdriver.Chrome(PATH)\n"
     ]
    },
    {
     "name": "stdout",
     "output_type": "stream",
     "text": [
      "error 4\n",
      "todo OK\n",
      "https://open.spotify.com/track/6kj8TeHSns33wt1Z1wdmMx?si=77f771fd8d844987\n"
     ]
    },
    {
     "name": "stderr",
     "output_type": "stream",
     "text": [
      "/var/folders/s4/79ykyqjn7f16bdl_zqjgsbzh0000gp/T/ipykernel_14170/863171515.py:4: DeprecationWarning: executable_path has been deprecated, please pass in a Service object\n",
      "  driver=webdriver.Chrome(PATH)\n"
     ]
    },
    {
     "name": "stdout",
     "output_type": "stream",
     "text": [
      "todo OK\n",
      "https://open.spotify.com/track/2wRkBumdItthjYP9XknImg?si=9df589ae6fa64677\n"
     ]
    },
    {
     "name": "stderr",
     "output_type": "stream",
     "text": [
      "/var/folders/s4/79ykyqjn7f16bdl_zqjgsbzh0000gp/T/ipykernel_14170/863171515.py:4: DeprecationWarning: executable_path has been deprecated, please pass in a Service object\n",
      "  driver=webdriver.Chrome(PATH)\n"
     ]
    },
    {
     "name": "stdout",
     "output_type": "stream",
     "text": [
      "error 2\n",
      "error 3\n",
      "error 4\n",
      "todo OK\n",
      "https://open.spotify.com/track/2wRkBumdItthjYP9XknImg?si=9df589ae6fa64677\n"
     ]
    },
    {
     "name": "stderr",
     "output_type": "stream",
     "text": [
      "/var/folders/s4/79ykyqjn7f16bdl_zqjgsbzh0000gp/T/ipykernel_14170/863171515.py:4: DeprecationWarning: executable_path has been deprecated, please pass in a Service object\n",
      "  driver=webdriver.Chrome(PATH)\n"
     ]
    },
    {
     "name": "stdout",
     "output_type": "stream",
     "text": [
      "error 4\n",
      "todo OK\n",
      "https://open.spotify.com/track/2wRkBumdItthjYP9XknImg?si=9df589ae6fa64677\n"
     ]
    },
    {
     "name": "stderr",
     "output_type": "stream",
     "text": [
      "/var/folders/s4/79ykyqjn7f16bdl_zqjgsbzh0000gp/T/ipykernel_14170/863171515.py:4: DeprecationWarning: executable_path has been deprecated, please pass in a Service object\n",
      "  driver=webdriver.Chrome(PATH)\n"
     ]
    },
    {
     "name": "stdout",
     "output_type": "stream",
     "text": [
      "error 2\n",
      "error 3\n",
      "error 4\n",
      "todo OK\n",
      "https://open.spotify.com/track/2wRkBumdItthjYP9XknImg?si=9df589ae6fa64677\n"
     ]
    },
    {
     "name": "stderr",
     "output_type": "stream",
     "text": [
      "/var/folders/s4/79ykyqjn7f16bdl_zqjgsbzh0000gp/T/ipykernel_14170/863171515.py:4: DeprecationWarning: executable_path has been deprecated, please pass in a Service object\n",
      "  driver=webdriver.Chrome(PATH)\n"
     ]
    },
    {
     "name": "stdout",
     "output_type": "stream",
     "text": [
      "error 1\n",
      "todo OK\n",
      "https://open.spotify.com/track/0Ii7a3jVXGmMDcMptqAXuU?si=280783ec424c4bad\n"
     ]
    },
    {
     "name": "stderr",
     "output_type": "stream",
     "text": [
      "/var/folders/s4/79ykyqjn7f16bdl_zqjgsbzh0000gp/T/ipykernel_14170/863171515.py:4: DeprecationWarning: executable_path has been deprecated, please pass in a Service object\n",
      "  driver=webdriver.Chrome(PATH)\n"
     ]
    },
    {
     "name": "stdout",
     "output_type": "stream",
     "text": [
      "error 1\n",
      "todo OK\n",
      "https://open.spotify.com/track/5kfNriitmkNE8mUbZ7gbq8?si=6200a16cbdd54afa\n"
     ]
    },
    {
     "name": "stderr",
     "output_type": "stream",
     "text": [
      "/var/folders/s4/79ykyqjn7f16bdl_zqjgsbzh0000gp/T/ipykernel_14170/863171515.py:4: DeprecationWarning: executable_path has been deprecated, please pass in a Service object\n",
      "  driver=webdriver.Chrome(PATH)\n"
     ]
    },
    {
     "name": "stdout",
     "output_type": "stream",
     "text": [
      "todo OK\n",
      "https://open.spotify.com/track/7FGq80cy8juXBCD2nrqdWU?si=55e175a53088403a\n"
     ]
    },
    {
     "name": "stderr",
     "output_type": "stream",
     "text": [
      "/var/folders/s4/79ykyqjn7f16bdl_zqjgsbzh0000gp/T/ipykernel_14170/863171515.py:4: DeprecationWarning: executable_path has been deprecated, please pass in a Service object\n",
      "  driver=webdriver.Chrome(PATH)\n"
     ]
    },
    {
     "name": "stdout",
     "output_type": "stream",
     "text": [
      "error 4\n",
      "todo OK\n",
      "https://open.spotify.com/track/7FGq80cy8juXBCD2nrqdWU?si=55e175a53088403a\n"
     ]
    },
    {
     "name": "stderr",
     "output_type": "stream",
     "text": [
      "/var/folders/s4/79ykyqjn7f16bdl_zqjgsbzh0000gp/T/ipykernel_14170/863171515.py:4: DeprecationWarning: executable_path has been deprecated, please pass in a Service object\n",
      "  driver=webdriver.Chrome(PATH)\n"
     ]
    },
    {
     "name": "stdout",
     "output_type": "stream",
     "text": [
      "error 0\n",
      "error 1\n",
      "error 2\n",
      "error 3\n",
      "error 4\n",
      "todo OK\n",
      "https://open.spotify.com/track/7FGq80cy8juXBCD2nrqdWU?si=55e175a53088403a\n"
     ]
    },
    {
     "name": "stderr",
     "output_type": "stream",
     "text": [
      "/var/folders/s4/79ykyqjn7f16bdl_zqjgsbzh0000gp/T/ipykernel_14170/863171515.py:4: DeprecationWarning: executable_path has been deprecated, please pass in a Service object\n",
      "  driver=webdriver.Chrome(PATH)\n"
     ]
    },
    {
     "name": "stdout",
     "output_type": "stream",
     "text": [
      "error 4\n",
      "todo OK\n",
      "https://open.spotify.com/track/7FGq80cy8juXBCD2nrqdWU?si=55e175a53088403a\n"
     ]
    },
    {
     "name": "stderr",
     "output_type": "stream",
     "text": [
      "/var/folders/s4/79ykyqjn7f16bdl_zqjgsbzh0000gp/T/ipykernel_14170/863171515.py:4: DeprecationWarning: executable_path has been deprecated, please pass in a Service object\n",
      "  driver=webdriver.Chrome(PATH)\n"
     ]
    },
    {
     "name": "stdout",
     "output_type": "stream",
     "text": [
      "error 1\n",
      "error 4\n",
      "todo OK\n",
      "https://open.spotify.com/track/7FGq80cy8juXBCD2nrqdWU?si=55e175a53088403a\n"
     ]
    },
    {
     "name": "stderr",
     "output_type": "stream",
     "text": [
      "/var/folders/s4/79ykyqjn7f16bdl_zqjgsbzh0000gp/T/ipykernel_14170/863171515.py:4: DeprecationWarning: executable_path has been deprecated, please pass in a Service object\n",
      "  driver=webdriver.Chrome(PATH)\n"
     ]
    },
    {
     "name": "stdout",
     "output_type": "stream",
     "text": [
      "error 1\n",
      "todo OK\n",
      "https://open.spotify.com/track/3AJlcANwytD59IHSGBt03u?si=12def3e1b67b4826\n"
     ]
    },
    {
     "name": "stderr",
     "output_type": "stream",
     "text": [
      "/var/folders/s4/79ykyqjn7f16bdl_zqjgsbzh0000gp/T/ipykernel_14170/863171515.py:4: DeprecationWarning: executable_path has been deprecated, please pass in a Service object\n",
      "  driver=webdriver.Chrome(PATH)\n"
     ]
    },
    {
     "name": "stdout",
     "output_type": "stream",
     "text": [
      "error 1\n",
      "error 4\n",
      "todo OK\n",
      "https://open.spotify.com/track/3AJlcANwytD59IHSGBt03u?si=12def3e1b67b4826\n"
     ]
    },
    {
     "name": "stderr",
     "output_type": "stream",
     "text": [
      "/var/folders/s4/79ykyqjn7f16bdl_zqjgsbzh0000gp/T/ipykernel_14170/863171515.py:4: DeprecationWarning: executable_path has been deprecated, please pass in a Service object\n",
      "  driver=webdriver.Chrome(PATH)\n"
     ]
    },
    {
     "name": "stdout",
     "output_type": "stream",
     "text": [
      "error 1\n",
      "todo OK\n",
      "https://open.spotify.com/track/5qaEfEh1AtSdrdrByCP7qR?si=df628e0f503f4e1e\n"
     ]
    },
    {
     "name": "stderr",
     "output_type": "stream",
     "text": [
      "/var/folders/s4/79ykyqjn7f16bdl_zqjgsbzh0000gp/T/ipykernel_14170/863171515.py:4: DeprecationWarning: executable_path has been deprecated, please pass in a Service object\n",
      "  driver=webdriver.Chrome(PATH)\n"
     ]
    },
    {
     "name": "stdout",
     "output_type": "stream",
     "text": [
      "error 1\n",
      "error 4\n",
      "todo OK\n",
      "https://open.spotify.com/track/5qaEfEh1AtSdrdrByCP7qR?si=df628e0f503f4e1e\n"
     ]
    },
    {
     "name": "stderr",
     "output_type": "stream",
     "text": [
      "/var/folders/s4/79ykyqjn7f16bdl_zqjgsbzh0000gp/T/ipykernel_14170/863171515.py:4: DeprecationWarning: executable_path has been deprecated, please pass in a Service object\n",
      "  driver=webdriver.Chrome(PATH)\n"
     ]
    },
    {
     "name": "stdout",
     "output_type": "stream",
     "text": [
      "error 1\n",
      "todo OK\n",
      "https://open.spotify.com/track/2f0pn9DkEJwAzXApnFh5cr?si=b8853d4f9cd2468d\n"
     ]
    },
    {
     "name": "stderr",
     "output_type": "stream",
     "text": [
      "/var/folders/s4/79ykyqjn7f16bdl_zqjgsbzh0000gp/T/ipykernel_14170/863171515.py:4: DeprecationWarning: executable_path has been deprecated, please pass in a Service object\n",
      "  driver=webdriver.Chrome(PATH)\n"
     ]
    },
    {
     "name": "stdout",
     "output_type": "stream",
     "text": [
      "error 1\n",
      "error 4\n",
      "todo OK\n",
      "https://open.spotify.com/track/2f0pn9DkEJwAzXApnFh5cr?si=b8853d4f9cd2468d\n"
     ]
    },
    {
     "name": "stderr",
     "output_type": "stream",
     "text": [
      "/var/folders/s4/79ykyqjn7f16bdl_zqjgsbzh0000gp/T/ipykernel_14170/863171515.py:4: DeprecationWarning: executable_path has been deprecated, please pass in a Service object\n",
      "  driver=webdriver.Chrome(PATH)\n"
     ]
    },
    {
     "name": "stdout",
     "output_type": "stream",
     "text": [
      "todo OK\n",
      "https://open.spotify.com/track/2QjOHCTQ1Jl3zawyYOpxh6?si=6b1a1c8f042f481c\n"
     ]
    },
    {
     "name": "stderr",
     "output_type": "stream",
     "text": [
      "/var/folders/s4/79ykyqjn7f16bdl_zqjgsbzh0000gp/T/ipykernel_14170/863171515.py:4: DeprecationWarning: executable_path has been deprecated, please pass in a Service object\n",
      "  driver=webdriver.Chrome(PATH)\n"
     ]
    },
    {
     "name": "stdout",
     "output_type": "stream",
     "text": [
      "error 1\n",
      "todo OK\n",
      "https://open.spotify.com/track/3IQF4xCQUPicbA4hWfTxPo?si=819082a32874433f\n"
     ]
    },
    {
     "name": "stderr",
     "output_type": "stream",
     "text": [
      "/var/folders/s4/79ykyqjn7f16bdl_zqjgsbzh0000gp/T/ipykernel_14170/863171515.py:4: DeprecationWarning: executable_path has been deprecated, please pass in a Service object\n",
      "  driver=webdriver.Chrome(PATH)\n"
     ]
    },
    {
     "name": "stdout",
     "output_type": "stream",
     "text": [
      "error 1\n",
      "todo OK\n",
      "https://open.spotify.com/track/3IQF4xCQUPicbA4hWfTxPo?si=819082a32874433f\n"
     ]
    },
    {
     "name": "stderr",
     "output_type": "stream",
     "text": [
      "/var/folders/s4/79ykyqjn7f16bdl_zqjgsbzh0000gp/T/ipykernel_14170/863171515.py:4: DeprecationWarning: executable_path has been deprecated, please pass in a Service object\n",
      "  driver=webdriver.Chrome(PATH)\n"
     ]
    },
    {
     "name": "stdout",
     "output_type": "stream",
     "text": [
      "error 1\n",
      "todo OK\n",
      "https://open.spotify.com/track/2ihCaVdNZmnHZWt0fvAM7B?si=635083900dba4440\n"
     ]
    },
    {
     "name": "stderr",
     "output_type": "stream",
     "text": [
      "/var/folders/s4/79ykyqjn7f16bdl_zqjgsbzh0000gp/T/ipykernel_14170/863171515.py:4: DeprecationWarning: executable_path has been deprecated, please pass in a Service object\n",
      "  driver=webdriver.Chrome(PATH)\n"
     ]
    },
    {
     "name": "stdout",
     "output_type": "stream",
     "text": [
      "error 4\n",
      "todo OK\n",
      "https://open.spotify.com/track/2ihCaVdNZmnHZWt0fvAM7B?si=635083900dba4440\n"
     ]
    },
    {
     "name": "stderr",
     "output_type": "stream",
     "text": [
      "/var/folders/s4/79ykyqjn7f16bdl_zqjgsbzh0000gp/T/ipykernel_14170/863171515.py:4: DeprecationWarning: executable_path has been deprecated, please pass in a Service object\n",
      "  driver=webdriver.Chrome(PATH)\n"
     ]
    },
    {
     "name": "stdout",
     "output_type": "stream",
     "text": [
      "todo OK\n",
      "https://open.spotify.com/track/0fYVliAYKHuPmECRs1pbRf?si=6580f6ea73a64f1a\n"
     ]
    },
    {
     "name": "stderr",
     "output_type": "stream",
     "text": [
      "/var/folders/s4/79ykyqjn7f16bdl_zqjgsbzh0000gp/T/ipykernel_14170/863171515.py:4: DeprecationWarning: executable_path has been deprecated, please pass in a Service object\n",
      "  driver=webdriver.Chrome(PATH)\n"
     ]
    },
    {
     "name": "stdout",
     "output_type": "stream",
     "text": [
      "error 1\n",
      "error 4\n",
      "todo OK\n",
      "https://open.spotify.com/track/0fYVliAYKHuPmECRs1pbRf?si=6580f6ea73a64f1a\n"
     ]
    },
    {
     "name": "stderr",
     "output_type": "stream",
     "text": [
      "/var/folders/s4/79ykyqjn7f16bdl_zqjgsbzh0000gp/T/ipykernel_14170/863171515.py:4: DeprecationWarning: executable_path has been deprecated, please pass in a Service object\n",
      "  driver=webdriver.Chrome(PATH)\n"
     ]
    },
    {
     "name": "stdout",
     "output_type": "stream",
     "text": [
      "error 1\n",
      "todo OK\n",
      "https://open.spotify.com/track/6Tvzf3VEi16JMhAgOwdt2y?si=00cad60cfb6c4729\n"
     ]
    },
    {
     "name": "stderr",
     "output_type": "stream",
     "text": [
      "/var/folders/s4/79ykyqjn7f16bdl_zqjgsbzh0000gp/T/ipykernel_14170/863171515.py:4: DeprecationWarning: executable_path has been deprecated, please pass in a Service object\n",
      "  driver=webdriver.Chrome(PATH)\n"
     ]
    },
    {
     "name": "stdout",
     "output_type": "stream",
     "text": [
      "todo OK\n",
      "https://open.spotify.com/track/5kqIPrATaCc2LqxVWzQGbk?si=313aefb3bccc40e5\n"
     ]
    },
    {
     "name": "stderr",
     "output_type": "stream",
     "text": [
      "/var/folders/s4/79ykyqjn7f16bdl_zqjgsbzh0000gp/T/ipykernel_14170/863171515.py:4: DeprecationWarning: executable_path has been deprecated, please pass in a Service object\n",
      "  driver=webdriver.Chrome(PATH)\n"
     ]
    },
    {
     "name": "stdout",
     "output_type": "stream",
     "text": [
      "error 1\n",
      "todo OK\n",
      "https://open.spotify.com/track/1EzrEOXmMH3G43AXT1y7pA?si=1353e47aa47240ae\n"
     ]
    },
    {
     "name": "stderr",
     "output_type": "stream",
     "text": [
      "/var/folders/s4/79ykyqjn7f16bdl_zqjgsbzh0000gp/T/ipykernel_14170/863171515.py:4: DeprecationWarning: executable_path has been deprecated, please pass in a Service object\n",
      "  driver=webdriver.Chrome(PATH)\n"
     ]
    },
    {
     "name": "stdout",
     "output_type": "stream",
     "text": [
      "error 1\n",
      "todo OK\n",
      "https://open.spotify.com/track/5yVIlYEHZxQVLyInCdldoS?si=ce2ce13f13644de2\n"
     ]
    },
    {
     "name": "stderr",
     "output_type": "stream",
     "text": [
      "/var/folders/s4/79ykyqjn7f16bdl_zqjgsbzh0000gp/T/ipykernel_14170/863171515.py:4: DeprecationWarning: executable_path has been deprecated, please pass in a Service object\n",
      "  driver=webdriver.Chrome(PATH)\n"
     ]
    },
    {
     "name": "stdout",
     "output_type": "stream",
     "text": [
      "error 1\n",
      "error 4\n",
      "todo OK\n",
      "https://open.spotify.com/track/5yVIlYEHZxQVLyInCdldoS?si=ce2ce13f13644de2\n"
     ]
    },
    {
     "name": "stderr",
     "output_type": "stream",
     "text": [
      "/var/folders/s4/79ykyqjn7f16bdl_zqjgsbzh0000gp/T/ipykernel_14170/863171515.py:4: DeprecationWarning: executable_path has been deprecated, please pass in a Service object\n",
      "  driver=webdriver.Chrome(PATH)\n"
     ]
    },
    {
     "name": "stdout",
     "output_type": "stream",
     "text": [
      "error 1\n",
      "todo OK\n",
      "https://open.spotify.com/track/1kjs5eR4DMzyB0gm1Z8waV?si=8726707b8a4b4f49\n"
     ]
    },
    {
     "name": "stderr",
     "output_type": "stream",
     "text": [
      "/var/folders/s4/79ykyqjn7f16bdl_zqjgsbzh0000gp/T/ipykernel_14170/863171515.py:4: DeprecationWarning: executable_path has been deprecated, please pass in a Service object\n",
      "  driver=webdriver.Chrome(PATH)\n"
     ]
    },
    {
     "name": "stdout",
     "output_type": "stream",
     "text": [
      "error 1\n",
      "error 4\n",
      "todo OK\n",
      "https://open.spotify.com/track/1kjs5eR4DMzyB0gm1Z8waV?si=8726707b8a4b4f49\n"
     ]
    },
    {
     "name": "stderr",
     "output_type": "stream",
     "text": [
      "/var/folders/s4/79ykyqjn7f16bdl_zqjgsbzh0000gp/T/ipykernel_14170/863171515.py:4: DeprecationWarning: executable_path has been deprecated, please pass in a Service object\n",
      "  driver=webdriver.Chrome(PATH)\n"
     ]
    },
    {
     "name": "stdout",
     "output_type": "stream",
     "text": [
      "error 1\n",
      "todo OK\n",
      "https://open.spotify.com/track/0qhynIDQPUYENhtIQ3TUyE?si=2b93244afd434874\n"
     ]
    },
    {
     "name": "stderr",
     "output_type": "stream",
     "text": [
      "/var/folders/s4/79ykyqjn7f16bdl_zqjgsbzh0000gp/T/ipykernel_14170/863171515.py:4: DeprecationWarning: executable_path has been deprecated, please pass in a Service object\n",
      "  driver=webdriver.Chrome(PATH)\n"
     ]
    },
    {
     "name": "stdout",
     "output_type": "stream",
     "text": [
      "error 1\n",
      "error 4\n",
      "todo OK\n",
      "https://open.spotify.com/track/0qhynIDQPUYENhtIQ3TUyE?si=2b93244afd434874\n"
     ]
    },
    {
     "name": "stderr",
     "output_type": "stream",
     "text": [
      "/var/folders/s4/79ykyqjn7f16bdl_zqjgsbzh0000gp/T/ipykernel_14170/863171515.py:4: DeprecationWarning: executable_path has been deprecated, please pass in a Service object\n",
      "  driver=webdriver.Chrome(PATH)\n"
     ]
    },
    {
     "name": "stdout",
     "output_type": "stream",
     "text": [
      "error 1\n",
      "error 4\n",
      "todo OK\n",
      "https://open.spotify.com/track/0qhynIDQPUYENhtIQ3TUyE?si=2b93244afd434874\n"
     ]
    },
    {
     "name": "stderr",
     "output_type": "stream",
     "text": [
      "/var/folders/s4/79ykyqjn7f16bdl_zqjgsbzh0000gp/T/ipykernel_14170/863171515.py:4: DeprecationWarning: executable_path has been deprecated, please pass in a Service object\n",
      "  driver=webdriver.Chrome(PATH)\n"
     ]
    },
    {
     "name": "stdout",
     "output_type": "stream",
     "text": [
      "error 1\n",
      "error 4\n",
      "todo OK\n",
      "https://open.spotify.com/track/0qhynIDQPUYENhtIQ3TUyE?si=2b93244afd434874\n"
     ]
    },
    {
     "name": "stderr",
     "output_type": "stream",
     "text": [
      "/var/folders/s4/79ykyqjn7f16bdl_zqjgsbzh0000gp/T/ipykernel_14170/863171515.py:4: DeprecationWarning: executable_path has been deprecated, please pass in a Service object\n",
      "  driver=webdriver.Chrome(PATH)\n"
     ]
    },
    {
     "name": "stdout",
     "output_type": "stream",
     "text": [
      "error 1\n",
      "error 4\n",
      "todo OK\n",
      "https://open.spotify.com/track/0qhynIDQPUYENhtIQ3TUyE?si=2b93244afd434874\n"
     ]
    },
    {
     "name": "stderr",
     "output_type": "stream",
     "text": [
      "/var/folders/s4/79ykyqjn7f16bdl_zqjgsbzh0000gp/T/ipykernel_14170/863171515.py:4: DeprecationWarning: executable_path has been deprecated, please pass in a Service object\n",
      "  driver=webdriver.Chrome(PATH)\n"
     ]
    },
    {
     "name": "stdout",
     "output_type": "stream",
     "text": [
      "error 1\n",
      "todo OK\n",
      "https://open.spotify.com/track/02e26LtDWIPQFKc5WxxRbY?si=21842fe3b71d4680\n"
     ]
    },
    {
     "name": "stderr",
     "output_type": "stream",
     "text": [
      "/var/folders/s4/79ykyqjn7f16bdl_zqjgsbzh0000gp/T/ipykernel_14170/863171515.py:4: DeprecationWarning: executable_path has been deprecated, please pass in a Service object\n",
      "  driver=webdriver.Chrome(PATH)\n"
     ]
    },
    {
     "name": "stdout",
     "output_type": "stream",
     "text": [
      "todo OK\n",
      "https://open.spotify.com/track/15JafxswaUBIEBiJlNP4tl?si=b8f18029f4e04ad1\n"
     ]
    },
    {
     "name": "stderr",
     "output_type": "stream",
     "text": [
      "/var/folders/s4/79ykyqjn7f16bdl_zqjgsbzh0000gp/T/ipykernel_14170/863171515.py:4: DeprecationWarning: executable_path has been deprecated, please pass in a Service object\n",
      "  driver=webdriver.Chrome(PATH)\n"
     ]
    },
    {
     "name": "stdout",
     "output_type": "stream",
     "text": [
      "error 1\n",
      "todo OK\n",
      "https://open.spotify.com/track/3NbWxNtKeVUuSiCNKgmRMP?si=37f672f59d784f2e\n"
     ]
    },
    {
     "name": "stderr",
     "output_type": "stream",
     "text": [
      "/var/folders/s4/79ykyqjn7f16bdl_zqjgsbzh0000gp/T/ipykernel_14170/863171515.py:4: DeprecationWarning: executable_path has been deprecated, please pass in a Service object\n",
      "  driver=webdriver.Chrome(PATH)\n"
     ]
    },
    {
     "name": "stdout",
     "output_type": "stream",
     "text": [
      "todo OK\n",
      "https://open.spotify.com/track/5vbgIJ7txA6u9fPdxak9Qb?si=959e05fc571c4791\n"
     ]
    },
    {
     "name": "stderr",
     "output_type": "stream",
     "text": [
      "/var/folders/s4/79ykyqjn7f16bdl_zqjgsbzh0000gp/T/ipykernel_14170/863171515.py:4: DeprecationWarning: executable_path has been deprecated, please pass in a Service object\n",
      "  driver=webdriver.Chrome(PATH)\n"
     ]
    },
    {
     "name": "stdout",
     "output_type": "stream",
     "text": [
      "todo OK\n",
      "https://open.spotify.com/track/3MEVHtd4CTcnZnjvxbp65k?si=c628aa0f9a354d8e\n"
     ]
    },
    {
     "name": "stderr",
     "output_type": "stream",
     "text": [
      "/var/folders/s4/79ykyqjn7f16bdl_zqjgsbzh0000gp/T/ipykernel_14170/863171515.py:4: DeprecationWarning: executable_path has been deprecated, please pass in a Service object\n",
      "  driver=webdriver.Chrome(PATH)\n"
     ]
    },
    {
     "name": "stdout",
     "output_type": "stream",
     "text": [
      "error 1\n",
      "todo OK\n",
      "https://open.spotify.com/track/6LmSjXcuOuut5WajH2jgIi?si=094de0bf4b654f0e\n"
     ]
    },
    {
     "name": "stderr",
     "output_type": "stream",
     "text": [
      "/var/folders/s4/79ykyqjn7f16bdl_zqjgsbzh0000gp/T/ipykernel_14170/863171515.py:4: DeprecationWarning: executable_path has been deprecated, please pass in a Service object\n",
      "  driver=webdriver.Chrome(PATH)\n"
     ]
    },
    {
     "name": "stdout",
     "output_type": "stream",
     "text": [
      "error 1\n",
      "todo OK\n",
      "https://open.spotify.com/track/5MVGQ83unTzQSFdOkzpgVn?si=c68a80a2d1a841e4\n"
     ]
    },
    {
     "name": "stderr",
     "output_type": "stream",
     "text": [
      "/var/folders/s4/79ykyqjn7f16bdl_zqjgsbzh0000gp/T/ipykernel_14170/863171515.py:4: DeprecationWarning: executable_path has been deprecated, please pass in a Service object\n",
      "  driver=webdriver.Chrome(PATH)\n"
     ]
    },
    {
     "name": "stdout",
     "output_type": "stream",
     "text": [
      "error 1\n",
      "error 4\n",
      "todo OK\n",
      "https://open.spotify.com/track/5MVGQ83unTzQSFdOkzpgVn?si=c68a80a2d1a841e4\n"
     ]
    },
    {
     "name": "stderr",
     "output_type": "stream",
     "text": [
      "/var/folders/s4/79ykyqjn7f16bdl_zqjgsbzh0000gp/T/ipykernel_14170/863171515.py:4: DeprecationWarning: executable_path has been deprecated, please pass in a Service object\n",
      "  driver=webdriver.Chrome(PATH)\n"
     ]
    },
    {
     "name": "stdout",
     "output_type": "stream",
     "text": [
      "todo OK\n",
      "https://open.spotify.com/track/60ynsPSSKe6O3sfwRnIBRf?si=ff4135eb5a1d44a7\n"
     ]
    },
    {
     "name": "stderr",
     "output_type": "stream",
     "text": [
      "/var/folders/s4/79ykyqjn7f16bdl_zqjgsbzh0000gp/T/ipykernel_14170/863171515.py:4: DeprecationWarning: executable_path has been deprecated, please pass in a Service object\n",
      "  driver=webdriver.Chrome(PATH)\n"
     ]
    },
    {
     "name": "stdout",
     "output_type": "stream",
     "text": [
      "error 1\n",
      "error 4\n",
      "todo OK\n",
      "https://open.spotify.com/track/60ynsPSSKe6O3sfwRnIBRf?si=ff4135eb5a1d44a7\n"
     ]
    },
    {
     "name": "stderr",
     "output_type": "stream",
     "text": [
      "/var/folders/s4/79ykyqjn7f16bdl_zqjgsbzh0000gp/T/ipykernel_14170/863171515.py:4: DeprecationWarning: executable_path has been deprecated, please pass in a Service object\n",
      "  driver=webdriver.Chrome(PATH)\n"
     ]
    },
    {
     "name": "stdout",
     "output_type": "stream",
     "text": [
      "error 1\n",
      "todo OK\n",
      "https://open.spotify.com/track/5lAnYvAIkSDNXqfo7DyFUm?si=6a054dcc6861412d\n"
     ]
    },
    {
     "name": "stderr",
     "output_type": "stream",
     "text": [
      "/var/folders/s4/79ykyqjn7f16bdl_zqjgsbzh0000gp/T/ipykernel_14170/863171515.py:4: DeprecationWarning: executable_path has been deprecated, please pass in a Service object\n",
      "  driver=webdriver.Chrome(PATH)\n"
     ]
    },
    {
     "name": "stdout",
     "output_type": "stream",
     "text": [
      "todo OK\n",
      "https://open.spotify.com/track/4HwDCXsMBC7SUdp2WT4MZP?si=586a2608da8d4d8d\n"
     ]
    },
    {
     "name": "stderr",
     "output_type": "stream",
     "text": [
      "/var/folders/s4/79ykyqjn7f16bdl_zqjgsbzh0000gp/T/ipykernel_14170/863171515.py:4: DeprecationWarning: executable_path has been deprecated, please pass in a Service object\n",
      "  driver=webdriver.Chrome(PATH)\n"
     ]
    },
    {
     "name": "stdout",
     "output_type": "stream",
     "text": [
      "error 1\n",
      "error 4\n",
      "todo OK\n",
      "https://open.spotify.com/track/4HwDCXsMBC7SUdp2WT4MZP?si=586a2608da8d4d8d\n"
     ]
    },
    {
     "name": "stderr",
     "output_type": "stream",
     "text": [
      "/var/folders/s4/79ykyqjn7f16bdl_zqjgsbzh0000gp/T/ipykernel_14170/863171515.py:4: DeprecationWarning: executable_path has been deprecated, please pass in a Service object\n",
      "  driver=webdriver.Chrome(PATH)\n"
     ]
    },
    {
     "name": "stdout",
     "output_type": "stream",
     "text": [
      "error 1\n",
      "todo OK\n",
      "https://open.spotify.com/track/5XVJprogK2i9NSlUa2jahJ?si=9f782fe6b2eb4ce7\n"
     ]
    },
    {
     "name": "stderr",
     "output_type": "stream",
     "text": [
      "/var/folders/s4/79ykyqjn7f16bdl_zqjgsbzh0000gp/T/ipykernel_14170/863171515.py:4: DeprecationWarning: executable_path has been deprecated, please pass in a Service object\n",
      "  driver=webdriver.Chrome(PATH)\n"
     ]
    },
    {
     "name": "stdout",
     "output_type": "stream",
     "text": [
      "error 1\n",
      "error 4\n",
      "todo OK\n",
      "https://open.spotify.com/track/5XVJprogK2i9NSlUa2jahJ?si=9f782fe6b2eb4ce7\n"
     ]
    },
    {
     "name": "stderr",
     "output_type": "stream",
     "text": [
      "/var/folders/s4/79ykyqjn7f16bdl_zqjgsbzh0000gp/T/ipykernel_14170/863171515.py:4: DeprecationWarning: executable_path has been deprecated, please pass in a Service object\n",
      "  driver=webdriver.Chrome(PATH)\n"
     ]
    },
    {
     "name": "stdout",
     "output_type": "stream",
     "text": [
      "todo OK\n",
      "https://open.spotify.com/track/1uQ1TZ9YIWCtBTgq09uoix?si=70fa94d79c234f65\n"
     ]
    },
    {
     "name": "stderr",
     "output_type": "stream",
     "text": [
      "/var/folders/s4/79ykyqjn7f16bdl_zqjgsbzh0000gp/T/ipykernel_14170/863171515.py:4: DeprecationWarning: executable_path has been deprecated, please pass in a Service object\n",
      "  driver=webdriver.Chrome(PATH)\n"
     ]
    },
    {
     "name": "stdout",
     "output_type": "stream",
     "text": [
      "error 1\n",
      "error 4\n",
      "todo OK\n",
      "https://open.spotify.com/track/1uQ1TZ9YIWCtBTgq09uoix?si=70fa94d79c234f65\n"
     ]
    },
    {
     "name": "stderr",
     "output_type": "stream",
     "text": [
      "/var/folders/s4/79ykyqjn7f16bdl_zqjgsbzh0000gp/T/ipykernel_14170/863171515.py:4: DeprecationWarning: executable_path has been deprecated, please pass in a Service object\n",
      "  driver=webdriver.Chrome(PATH)\n"
     ]
    },
    {
     "name": "stdout",
     "output_type": "stream",
     "text": [
      "error 0\n",
      "error 1\n",
      "error 3\n",
      "error 4\n",
      "todo OK\n",
      "https://open.spotify.com/track/1uQ1TZ9YIWCtBTgq09uoix?si=70fa94d79c234f65\n"
     ]
    },
    {
     "name": "stderr",
     "output_type": "stream",
     "text": [
      "/var/folders/s4/79ykyqjn7f16bdl_zqjgsbzh0000gp/T/ipykernel_14170/863171515.py:4: DeprecationWarning: executable_path has been deprecated, please pass in a Service object\n",
      "  driver=webdriver.Chrome(PATH)\n"
     ]
    },
    {
     "name": "stdout",
     "output_type": "stream",
     "text": [
      "error 4\n",
      "todo OK\n",
      "https://open.spotify.com/track/1uQ1TZ9YIWCtBTgq09uoix?si=70fa94d79c234f65\n"
     ]
    },
    {
     "name": "stderr",
     "output_type": "stream",
     "text": [
      "/var/folders/s4/79ykyqjn7f16bdl_zqjgsbzh0000gp/T/ipykernel_14170/863171515.py:4: DeprecationWarning: executable_path has been deprecated, please pass in a Service object\n",
      "  driver=webdriver.Chrome(PATH)\n"
     ]
    },
    {
     "name": "stdout",
     "output_type": "stream",
     "text": [
      "error 4\n",
      "todo OK\n",
      "https://open.spotify.com/track/1uQ1TZ9YIWCtBTgq09uoix?si=70fa94d79c234f65\n"
     ]
    },
    {
     "name": "stderr",
     "output_type": "stream",
     "text": [
      "/var/folders/s4/79ykyqjn7f16bdl_zqjgsbzh0000gp/T/ipykernel_14170/863171515.py:4: DeprecationWarning: executable_path has been deprecated, please pass in a Service object\n",
      "  driver=webdriver.Chrome(PATH)\n"
     ]
    },
    {
     "name": "stdout",
     "output_type": "stream",
     "text": [
      "error 1\n",
      "todo OK\n",
      "https://open.spotify.com/track/2wD19lgs68NwW7w6gQB286?si=efa4435bbc0a4978\n"
     ]
    },
    {
     "name": "stderr",
     "output_type": "stream",
     "text": [
      "/var/folders/s4/79ykyqjn7f16bdl_zqjgsbzh0000gp/T/ipykernel_14170/863171515.py:4: DeprecationWarning: executable_path has been deprecated, please pass in a Service object\n",
      "  driver=webdriver.Chrome(PATH)\n"
     ]
    },
    {
     "name": "stdout",
     "output_type": "stream",
     "text": [
      "error 4\n",
      "todo OK\n",
      "https://open.spotify.com/track/2wD19lgs68NwW7w6gQB286?si=efa4435bbc0a4978\n"
     ]
    },
    {
     "name": "stderr",
     "output_type": "stream",
     "text": [
      "/var/folders/s4/79ykyqjn7f16bdl_zqjgsbzh0000gp/T/ipykernel_14170/863171515.py:4: DeprecationWarning: executable_path has been deprecated, please pass in a Service object\n",
      "  driver=webdriver.Chrome(PATH)\n"
     ]
    },
    {
     "name": "stdout",
     "output_type": "stream",
     "text": [
      "error 1\n",
      "todo OK\n",
      "https://open.spotify.com/track/2TzkIzgzIHhewMxyh1u4hh?si=bb0d933da2e24ed8\n"
     ]
    },
    {
     "name": "stderr",
     "output_type": "stream",
     "text": [
      "/var/folders/s4/79ykyqjn7f16bdl_zqjgsbzh0000gp/T/ipykernel_14170/863171515.py:4: DeprecationWarning: executable_path has been deprecated, please pass in a Service object\n",
      "  driver=webdriver.Chrome(PATH)\n"
     ]
    },
    {
     "name": "stdout",
     "output_type": "stream",
     "text": [
      "todo OK\n",
      "https://open.spotify.com/track/5E30LdtzQTGqRvNd7l6kG5?si=37fb253f5f804aa1\n"
     ]
    },
    {
     "name": "stderr",
     "output_type": "stream",
     "text": [
      "/var/folders/s4/79ykyqjn7f16bdl_zqjgsbzh0000gp/T/ipykernel_14170/863171515.py:4: DeprecationWarning: executable_path has been deprecated, please pass in a Service object\n",
      "  driver=webdriver.Chrome(PATH)\n"
     ]
    },
    {
     "name": "stdout",
     "output_type": "stream",
     "text": [
      "todo OK\n",
      "https://open.spotify.com/track/4R2kfaDFhslZEMJqAFNpdd?si=567ea238feb04167\n"
     ]
    },
    {
     "name": "stderr",
     "output_type": "stream",
     "text": [
      "/var/folders/s4/79ykyqjn7f16bdl_zqjgsbzh0000gp/T/ipykernel_14170/863171515.py:4: DeprecationWarning: executable_path has been deprecated, please pass in a Service object\n",
      "  driver=webdriver.Chrome(PATH)\n"
     ]
    },
    {
     "name": "stdout",
     "output_type": "stream",
     "text": [
      "error 1\n",
      "todo OK\n",
      "https://open.spotify.com/track/14QX1ckbDIhqetvu5VZ3cP?si=2603345bdb8d4a09\n"
     ]
    },
    {
     "name": "stderr",
     "output_type": "stream",
     "text": [
      "/var/folders/s4/79ykyqjn7f16bdl_zqjgsbzh0000gp/T/ipykernel_14170/863171515.py:4: DeprecationWarning: executable_path has been deprecated, please pass in a Service object\n",
      "  driver=webdriver.Chrome(PATH)\n"
     ]
    },
    {
     "name": "stdout",
     "output_type": "stream",
     "text": [
      "error 1\n",
      "error 4\n",
      "todo OK\n",
      "https://open.spotify.com/track/14QX1ckbDIhqetvu5VZ3cP?si=2603345bdb8d4a09\n"
     ]
    },
    {
     "name": "stderr",
     "output_type": "stream",
     "text": [
      "/var/folders/s4/79ykyqjn7f16bdl_zqjgsbzh0000gp/T/ipykernel_14170/863171515.py:4: DeprecationWarning: executable_path has been deprecated, please pass in a Service object\n",
      "  driver=webdriver.Chrome(PATH)\n"
     ]
    },
    {
     "name": "stdout",
     "output_type": "stream",
     "text": [
      "error 1\n",
      "todo OK\n",
      "https://open.spotify.com/track/7kjEqI6eZ7YlFrGhxixnlN?si=a2dec79fa24f42c6\n"
     ]
    },
    {
     "name": "stderr",
     "output_type": "stream",
     "text": [
      "/var/folders/s4/79ykyqjn7f16bdl_zqjgsbzh0000gp/T/ipykernel_14170/863171515.py:4: DeprecationWarning: executable_path has been deprecated, please pass in a Service object\n",
      "  driver=webdriver.Chrome(PATH)\n"
     ]
    },
    {
     "name": "stdout",
     "output_type": "stream",
     "text": [
      "error 1\n",
      "todo OK\n",
      "https://open.spotify.com/track/5JCoSi02qi3jJeHdZXMmR8?si=b597f82d9d7d494a\n"
     ]
    },
    {
     "name": "stderr",
     "output_type": "stream",
     "text": [
      "/var/folders/s4/79ykyqjn7f16bdl_zqjgsbzh0000gp/T/ipykernel_14170/863171515.py:4: DeprecationWarning: executable_path has been deprecated, please pass in a Service object\n",
      "  driver=webdriver.Chrome(PATH)\n"
     ]
    },
    {
     "name": "stdout",
     "output_type": "stream",
     "text": [
      "error 1\n",
      "error 4\n",
      "todo OK\n",
      "https://open.spotify.com/track/5JCoSi02qi3jJeHdZXMmR8?si=b597f82d9d7d494a\n"
     ]
    },
    {
     "name": "stderr",
     "output_type": "stream",
     "text": [
      "/var/folders/s4/79ykyqjn7f16bdl_zqjgsbzh0000gp/T/ipykernel_14170/863171515.py:4: DeprecationWarning: executable_path has been deprecated, please pass in a Service object\n",
      "  driver=webdriver.Chrome(PATH)\n"
     ]
    },
    {
     "name": "stdout",
     "output_type": "stream",
     "text": [
      "error 1\n",
      "error 4\n",
      "todo OK\n",
      "https://open.spotify.com/track/5JCoSi02qi3jJeHdZXMmR8?si=b597f82d9d7d494a\n"
     ]
    },
    {
     "name": "stderr",
     "output_type": "stream",
     "text": [
      "/var/folders/s4/79ykyqjn7f16bdl_zqjgsbzh0000gp/T/ipykernel_14170/863171515.py:4: DeprecationWarning: executable_path has been deprecated, please pass in a Service object\n",
      "  driver=webdriver.Chrome(PATH)\n"
     ]
    },
    {
     "name": "stdout",
     "output_type": "stream",
     "text": [
      "error 1\n",
      "todo OK\n",
      "https://open.spotify.com/track/0x4Kmsd1YLB9emO8thJ62U?si=dbea977f5ce843ec\n"
     ]
    },
    {
     "name": "stderr",
     "output_type": "stream",
     "text": [
      "/var/folders/s4/79ykyqjn7f16bdl_zqjgsbzh0000gp/T/ipykernel_14170/863171515.py:4: DeprecationWarning: executable_path has been deprecated, please pass in a Service object\n",
      "  driver=webdriver.Chrome(PATH)\n"
     ]
    },
    {
     "name": "stdout",
     "output_type": "stream",
     "text": [
      "todo OK\n",
      "https://open.spotify.com/track/3oGT77L9qz72A5AjRlfqSh?si=0670139a1c0a426b\n"
     ]
    },
    {
     "name": "stderr",
     "output_type": "stream",
     "text": [
      "/var/folders/s4/79ykyqjn7f16bdl_zqjgsbzh0000gp/T/ipykernel_14170/863171515.py:4: DeprecationWarning: executable_path has been deprecated, please pass in a Service object\n",
      "  driver=webdriver.Chrome(PATH)\n"
     ]
    },
    {
     "name": "stdout",
     "output_type": "stream",
     "text": [
      "todo OK\n",
      "https://open.spotify.com/track/4PJaGVVVYNSN9EZJmMLtfK?si=17955f4b94294849\n"
     ]
    },
    {
     "name": "stderr",
     "output_type": "stream",
     "text": [
      "/var/folders/s4/79ykyqjn7f16bdl_zqjgsbzh0000gp/T/ipykernel_14170/863171515.py:4: DeprecationWarning: executable_path has been deprecated, please pass in a Service object\n",
      "  driver=webdriver.Chrome(PATH)\n"
     ]
    },
    {
     "name": "stdout",
     "output_type": "stream",
     "text": [
      "error 1\n",
      "todo OK\n",
      "https://open.spotify.com/track/6gbXz7CfuQTGo6srGkrA5d?si=315f0e3d1a5b48e5\n"
     ]
    },
    {
     "name": "stderr",
     "output_type": "stream",
     "text": [
      "/var/folders/s4/79ykyqjn7f16bdl_zqjgsbzh0000gp/T/ipykernel_14170/863171515.py:4: DeprecationWarning: executable_path has been deprecated, please pass in a Service object\n",
      "  driver=webdriver.Chrome(PATH)\n"
     ]
    },
    {
     "name": "stdout",
     "output_type": "stream",
     "text": [
      "error 1\n",
      "todo OK\n",
      "https://open.spotify.com/track/014CvkxnvQX6GhBqwzMK68?si=5fea78dd3891437c\n"
     ]
    },
    {
     "name": "stderr",
     "output_type": "stream",
     "text": [
      "/var/folders/s4/79ykyqjn7f16bdl_zqjgsbzh0000gp/T/ipykernel_14170/863171515.py:4: DeprecationWarning: executable_path has been deprecated, please pass in a Service object\n",
      "  driver=webdriver.Chrome(PATH)\n"
     ]
    },
    {
     "name": "stdout",
     "output_type": "stream",
     "text": [
      "todo OK\n",
      "https://open.spotify.com/track/16jegZgDZS5mkhp6KCKrCd?si=106fcd9d85894c2f\n"
     ]
    },
    {
     "name": "stderr",
     "output_type": "stream",
     "text": [
      "/var/folders/s4/79ykyqjn7f16bdl_zqjgsbzh0000gp/T/ipykernel_14170/863171515.py:4: DeprecationWarning: executable_path has been deprecated, please pass in a Service object\n",
      "  driver=webdriver.Chrome(PATH)\n"
     ]
    },
    {
     "name": "stdout",
     "output_type": "stream",
     "text": [
      "todo OK\n",
      "https://open.spotify.com/track/5OHwyr1icA3MYqRMiSKAMu?si=ef39409c67bf4933\n"
     ]
    },
    {
     "name": "stderr",
     "output_type": "stream",
     "text": [
      "/var/folders/s4/79ykyqjn7f16bdl_zqjgsbzh0000gp/T/ipykernel_14170/863171515.py:4: DeprecationWarning: executable_path has been deprecated, please pass in a Service object\n",
      "  driver=webdriver.Chrome(PATH)\n"
     ]
    },
    {
     "name": "stdout",
     "output_type": "stream",
     "text": [
      "error 1\n",
      "error 4\n",
      "todo OK\n",
      "https://open.spotify.com/track/5OHwyr1icA3MYqRMiSKAMu?si=ef39409c67bf4933\n"
     ]
    },
    {
     "name": "stderr",
     "output_type": "stream",
     "text": [
      "/var/folders/s4/79ykyqjn7f16bdl_zqjgsbzh0000gp/T/ipykernel_14170/863171515.py:4: DeprecationWarning: executable_path has been deprecated, please pass in a Service object\n",
      "  driver=webdriver.Chrome(PATH)\n"
     ]
    },
    {
     "name": "stdout",
     "output_type": "stream",
     "text": [
      "todo OK\n",
      "https://open.spotify.com/track/3LQ23jIekEzoP1BG0BMOv2?si=b031259d09bd48c9\n"
     ]
    },
    {
     "name": "stderr",
     "output_type": "stream",
     "text": [
      "/var/folders/s4/79ykyqjn7f16bdl_zqjgsbzh0000gp/T/ipykernel_14170/863171515.py:4: DeprecationWarning: executable_path has been deprecated, please pass in a Service object\n",
      "  driver=webdriver.Chrome(PATH)\n"
     ]
    },
    {
     "name": "stdout",
     "output_type": "stream",
     "text": [
      "error 1\n",
      "error 4\n",
      "todo OK\n",
      "https://open.spotify.com/track/3LQ23jIekEzoP1BG0BMOv2?si=b031259d09bd48c9\n"
     ]
    },
    {
     "name": "stderr",
     "output_type": "stream",
     "text": [
      "/var/folders/s4/79ykyqjn7f16bdl_zqjgsbzh0000gp/T/ipykernel_14170/863171515.py:4: DeprecationWarning: executable_path has been deprecated, please pass in a Service object\n",
      "  driver=webdriver.Chrome(PATH)\n"
     ]
    },
    {
     "name": "stdout",
     "output_type": "stream",
     "text": [
      "error 1\n",
      "todo OK\n",
      "https://open.spotify.com/track/0MlfXAmNFfukGWTm4eQNU2?si=1fd72aa1f133477e\n"
     ]
    },
    {
     "name": "stderr",
     "output_type": "stream",
     "text": [
      "/var/folders/s4/79ykyqjn7f16bdl_zqjgsbzh0000gp/T/ipykernel_14170/863171515.py:4: DeprecationWarning: executable_path has been deprecated, please pass in a Service object\n",
      "  driver=webdriver.Chrome(PATH)\n"
     ]
    },
    {
     "name": "stdout",
     "output_type": "stream",
     "text": [
      "todo OK\n",
      "https://open.spotify.com/track/6DwuQjVWPRRICEqJJedZYb?si=23e844bfcbef416a\n"
     ]
    },
    {
     "name": "stderr",
     "output_type": "stream",
     "text": [
      "/var/folders/s4/79ykyqjn7f16bdl_zqjgsbzh0000gp/T/ipykernel_14170/863171515.py:4: DeprecationWarning: executable_path has been deprecated, please pass in a Service object\n",
      "  driver=webdriver.Chrome(PATH)\n"
     ]
    },
    {
     "name": "stdout",
     "output_type": "stream",
     "text": [
      "error 4\n",
      "todo OK\n",
      "https://open.spotify.com/track/6DwuQjVWPRRICEqJJedZYb?si=23e844bfcbef416a\n"
     ]
    },
    {
     "name": "stderr",
     "output_type": "stream",
     "text": [
      "/var/folders/s4/79ykyqjn7f16bdl_zqjgsbzh0000gp/T/ipykernel_14170/863171515.py:4: DeprecationWarning: executable_path has been deprecated, please pass in a Service object\n",
      "  driver=webdriver.Chrome(PATH)\n"
     ]
    },
    {
     "name": "stdout",
     "output_type": "stream",
     "text": [
      "error 4\n",
      "todo OK\n",
      "https://open.spotify.com/track/6DwuQjVWPRRICEqJJedZYb?si=23e844bfcbef416a\n"
     ]
    },
    {
     "name": "stderr",
     "output_type": "stream",
     "text": [
      "/var/folders/s4/79ykyqjn7f16bdl_zqjgsbzh0000gp/T/ipykernel_14170/863171515.py:4: DeprecationWarning: executable_path has been deprecated, please pass in a Service object\n",
      "  driver=webdriver.Chrome(PATH)\n"
     ]
    },
    {
     "name": "stdout",
     "output_type": "stream",
     "text": [
      "error 1\n",
      "error 4\n",
      "todo OK\n",
      "https://open.spotify.com/track/6DwuQjVWPRRICEqJJedZYb?si=23e844bfcbef416a\n"
     ]
    },
    {
     "name": "stderr",
     "output_type": "stream",
     "text": [
      "/var/folders/s4/79ykyqjn7f16bdl_zqjgsbzh0000gp/T/ipykernel_14170/863171515.py:4: DeprecationWarning: executable_path has been deprecated, please pass in a Service object\n",
      "  driver=webdriver.Chrome(PATH)\n"
     ]
    },
    {
     "name": "stdout",
     "output_type": "stream",
     "text": [
      "error 1\n",
      "error 2\n",
      "error 3\n",
      "error 4\n",
      "todo OK\n",
      "https://open.spotify.com/track/6DwuQjVWPRRICEqJJedZYb?si=23e844bfcbef416a\n"
     ]
    },
    {
     "name": "stderr",
     "output_type": "stream",
     "text": [
      "/var/folders/s4/79ykyqjn7f16bdl_zqjgsbzh0000gp/T/ipykernel_14170/863171515.py:4: DeprecationWarning: executable_path has been deprecated, please pass in a Service object\n",
      "  driver=webdriver.Chrome(PATH)\n"
     ]
    },
    {
     "name": "stdout",
     "output_type": "stream",
     "text": [
      "error 1\n",
      "error 4\n",
      "todo OK\n",
      "https://open.spotify.com/track/6DwuQjVWPRRICEqJJedZYb?si=23e844bfcbef416a\n"
     ]
    },
    {
     "name": "stderr",
     "output_type": "stream",
     "text": [
      "/var/folders/s4/79ykyqjn7f16bdl_zqjgsbzh0000gp/T/ipykernel_14170/863171515.py:4: DeprecationWarning: executable_path has been deprecated, please pass in a Service object\n",
      "  driver=webdriver.Chrome(PATH)\n"
     ]
    },
    {
     "name": "stdout",
     "output_type": "stream",
     "text": [
      "error 1\n",
      "error 4\n",
      "todo OK\n",
      "https://open.spotify.com/track/6DwuQjVWPRRICEqJJedZYb?si=23e844bfcbef416a\n"
     ]
    },
    {
     "name": "stderr",
     "output_type": "stream",
     "text": [
      "/var/folders/s4/79ykyqjn7f16bdl_zqjgsbzh0000gp/T/ipykernel_14170/863171515.py:4: DeprecationWarning: executable_path has been deprecated, please pass in a Service object\n",
      "  driver=webdriver.Chrome(PATH)\n"
     ]
    },
    {
     "name": "stdout",
     "output_type": "stream",
     "text": [
      "error 1\n",
      "error 4\n",
      "todo OK\n",
      "https://open.spotify.com/track/6DwuQjVWPRRICEqJJedZYb?si=23e844bfcbef416a\n"
     ]
    },
    {
     "name": "stderr",
     "output_type": "stream",
     "text": [
      "/var/folders/s4/79ykyqjn7f16bdl_zqjgsbzh0000gp/T/ipykernel_14170/863171515.py:4: DeprecationWarning: executable_path has been deprecated, please pass in a Service object\n",
      "  driver=webdriver.Chrome(PATH)\n"
     ]
    },
    {
     "name": "stdout",
     "output_type": "stream",
     "text": [
      "error 1\n",
      "todo OK\n",
      "https://open.spotify.com/track/7aWiJeMyxxPEyjwvZyauAF?si=2f9ebbddc5b244c0\n"
     ]
    },
    {
     "name": "stderr",
     "output_type": "stream",
     "text": [
      "/var/folders/s4/79ykyqjn7f16bdl_zqjgsbzh0000gp/T/ipykernel_14170/863171515.py:4: DeprecationWarning: executable_path has been deprecated, please pass in a Service object\n",
      "  driver=webdriver.Chrome(PATH)\n"
     ]
    },
    {
     "name": "stdout",
     "output_type": "stream",
     "text": [
      "error 4\n",
      "todo OK\n",
      "https://open.spotify.com/track/7aWiJeMyxxPEyjwvZyauAF?si=2f9ebbddc5b244c0\n"
     ]
    },
    {
     "name": "stderr",
     "output_type": "stream",
     "text": [
      "/var/folders/s4/79ykyqjn7f16bdl_zqjgsbzh0000gp/T/ipykernel_14170/863171515.py:4: DeprecationWarning: executable_path has been deprecated, please pass in a Service object\n",
      "  driver=webdriver.Chrome(PATH)\n"
     ]
    },
    {
     "name": "stdout",
     "output_type": "stream",
     "text": [
      "error 1\n",
      "error 4\n",
      "todo OK\n",
      "https://open.spotify.com/track/7aWiJeMyxxPEyjwvZyauAF?si=2f9ebbddc5b244c0\n"
     ]
    },
    {
     "name": "stderr",
     "output_type": "stream",
     "text": [
      "/var/folders/s4/79ykyqjn7f16bdl_zqjgsbzh0000gp/T/ipykernel_14170/863171515.py:4: DeprecationWarning: executable_path has been deprecated, please pass in a Service object\n",
      "  driver=webdriver.Chrome(PATH)\n"
     ]
    },
    {
     "name": "stdout",
     "output_type": "stream",
     "text": [
      "error 1\n",
      "error 4\n",
      "todo OK\n",
      "https://open.spotify.com/track/7aWiJeMyxxPEyjwvZyauAF?si=2f9ebbddc5b244c0\n"
     ]
    },
    {
     "name": "stderr",
     "output_type": "stream",
     "text": [
      "/var/folders/s4/79ykyqjn7f16bdl_zqjgsbzh0000gp/T/ipykernel_14170/863171515.py:4: DeprecationWarning: executable_path has been deprecated, please pass in a Service object\n",
      "  driver=webdriver.Chrome(PATH)\n"
     ]
    },
    {
     "name": "stdout",
     "output_type": "stream",
     "text": [
      "error 1\n",
      "error 4\n",
      "todo OK\n",
      "https://open.spotify.com/track/7aWiJeMyxxPEyjwvZyauAF?si=2f9ebbddc5b244c0\n"
     ]
    },
    {
     "name": "stderr",
     "output_type": "stream",
     "text": [
      "/var/folders/s4/79ykyqjn7f16bdl_zqjgsbzh0000gp/T/ipykernel_14170/863171515.py:4: DeprecationWarning: executable_path has been deprecated, please pass in a Service object\n",
      "  driver=webdriver.Chrome(PATH)\n"
     ]
    },
    {
     "name": "stdout",
     "output_type": "stream",
     "text": [
      "error 4\n",
      "todo OK\n",
      "https://open.spotify.com/track/7aWiJeMyxxPEyjwvZyauAF?si=2f9ebbddc5b244c0\n"
     ]
    },
    {
     "name": "stderr",
     "output_type": "stream",
     "text": [
      "/var/folders/s4/79ykyqjn7f16bdl_zqjgsbzh0000gp/T/ipykernel_14170/863171515.py:4: DeprecationWarning: executable_path has been deprecated, please pass in a Service object\n",
      "  driver=webdriver.Chrome(PATH)\n"
     ]
    },
    {
     "name": "stdout",
     "output_type": "stream",
     "text": [
      "error 1\n",
      "error 4\n",
      "todo OK\n",
      "https://open.spotify.com/track/7aWiJeMyxxPEyjwvZyauAF?si=2f9ebbddc5b244c0\n"
     ]
    },
    {
     "name": "stderr",
     "output_type": "stream",
     "text": [
      "/var/folders/s4/79ykyqjn7f16bdl_zqjgsbzh0000gp/T/ipykernel_14170/863171515.py:4: DeprecationWarning: executable_path has been deprecated, please pass in a Service object\n",
      "  driver=webdriver.Chrome(PATH)\n"
     ]
    },
    {
     "name": "stdout",
     "output_type": "stream",
     "text": [
      "error 4\n",
      "todo OK\n",
      "https://open.spotify.com/track/7aWiJeMyxxPEyjwvZyauAF?si=2f9ebbddc5b244c0\n"
     ]
    },
    {
     "name": "stderr",
     "output_type": "stream",
     "text": [
      "/var/folders/s4/79ykyqjn7f16bdl_zqjgsbzh0000gp/T/ipykernel_14170/863171515.py:4: DeprecationWarning: executable_path has been deprecated, please pass in a Service object\n",
      "  driver=webdriver.Chrome(PATH)\n"
     ]
    },
    {
     "name": "stdout",
     "output_type": "stream",
     "text": [
      "error 1\n",
      "todo OK\n",
      "https://open.spotify.com/track/7EXvBeCBpzd39IIrJ5Azh6?si=3e3f3118be374f44\n"
     ]
    },
    {
     "name": "stderr",
     "output_type": "stream",
     "text": [
      "/var/folders/s4/79ykyqjn7f16bdl_zqjgsbzh0000gp/T/ipykernel_14170/863171515.py:4: DeprecationWarning: executable_path has been deprecated, please pass in a Service object\n",
      "  driver=webdriver.Chrome(PATH)\n"
     ]
    },
    {
     "name": "stdout",
     "output_type": "stream",
     "text": [
      "error 1\n",
      "error 4\n",
      "todo OK\n",
      "https://open.spotify.com/track/7EXvBeCBpzd39IIrJ5Azh6?si=3e3f3118be374f44\n"
     ]
    },
    {
     "name": "stderr",
     "output_type": "stream",
     "text": [
      "/var/folders/s4/79ykyqjn7f16bdl_zqjgsbzh0000gp/T/ipykernel_14170/863171515.py:4: DeprecationWarning: executable_path has been deprecated, please pass in a Service object\n",
      "  driver=webdriver.Chrome(PATH)\n"
     ]
    },
    {
     "name": "stdout",
     "output_type": "stream",
     "text": [
      "todo OK\n",
      "https://open.spotify.com/track/3joX7mhlWlN9XmRkwiqcH8?si=004fb88d4bb541fe\n"
     ]
    },
    {
     "name": "stderr",
     "output_type": "stream",
     "text": [
      "/var/folders/s4/79ykyqjn7f16bdl_zqjgsbzh0000gp/T/ipykernel_14170/863171515.py:4: DeprecationWarning: executable_path has been deprecated, please pass in a Service object\n",
      "  driver=webdriver.Chrome(PATH)\n"
     ]
    },
    {
     "name": "stdout",
     "output_type": "stream",
     "text": [
      "error 1\n",
      "error 4\n",
      "todo OK\n",
      "https://open.spotify.com/track/3joX7mhlWlN9XmRkwiqcH8?si=004fb88d4bb541fe\n"
     ]
    },
    {
     "name": "stderr",
     "output_type": "stream",
     "text": [
      "/var/folders/s4/79ykyqjn7f16bdl_zqjgsbzh0000gp/T/ipykernel_14170/863171515.py:4: DeprecationWarning: executable_path has been deprecated, please pass in a Service object\n",
      "  driver=webdriver.Chrome(PATH)\n"
     ]
    },
    {
     "name": "stdout",
     "output_type": "stream",
     "text": [
      "error 1\n",
      "todo OK\n",
      "https://open.spotify.com/track/2s8q3MEyTXW7wZjmXkDxDW?si=524101fb5c2749e6\n"
     ]
    },
    {
     "name": "stderr",
     "output_type": "stream",
     "text": [
      "/var/folders/s4/79ykyqjn7f16bdl_zqjgsbzh0000gp/T/ipykernel_14170/863171515.py:4: DeprecationWarning: executable_path has been deprecated, please pass in a Service object\n",
      "  driver=webdriver.Chrome(PATH)\n"
     ]
    },
    {
     "name": "stdout",
     "output_type": "stream",
     "text": [
      "error 1\n",
      "todo OK\n",
      "https://open.spotify.com/track/72NdND7TLjyB3PqsD1DSrv?si=7547ad18550843f0\n"
     ]
    },
    {
     "name": "stderr",
     "output_type": "stream",
     "text": [
      "/var/folders/s4/79ykyqjn7f16bdl_zqjgsbzh0000gp/T/ipykernel_14170/863171515.py:4: DeprecationWarning: executable_path has been deprecated, please pass in a Service object\n",
      "  driver=webdriver.Chrome(PATH)\n"
     ]
    },
    {
     "name": "stdout",
     "output_type": "stream",
     "text": [
      "error 1\n",
      "todo OK\n",
      "https://open.spotify.com/track/3y7DtKwnRzTGEo7PkbwluD?si=43030e2deeb4407e\n"
     ]
    },
    {
     "name": "stderr",
     "output_type": "stream",
     "text": [
      "/var/folders/s4/79ykyqjn7f16bdl_zqjgsbzh0000gp/T/ipykernel_14170/863171515.py:4: DeprecationWarning: executable_path has been deprecated, please pass in a Service object\n",
      "  driver=webdriver.Chrome(PATH)\n"
     ]
    },
    {
     "name": "stdout",
     "output_type": "stream",
     "text": [
      "error 4\n",
      "todo OK\n",
      "https://open.spotify.com/track/3y7DtKwnRzTGEo7PkbwluD?si=43030e2deeb4407e\n"
     ]
    },
    {
     "name": "stderr",
     "output_type": "stream",
     "text": [
      "/var/folders/s4/79ykyqjn7f16bdl_zqjgsbzh0000gp/T/ipykernel_14170/863171515.py:4: DeprecationWarning: executable_path has been deprecated, please pass in a Service object\n",
      "  driver=webdriver.Chrome(PATH)\n"
     ]
    },
    {
     "name": "stdout",
     "output_type": "stream",
     "text": [
      "error 1\n",
      "todo OK\n",
      "https://open.spotify.com/track/4YE580e303Qt5NkbgHX5O7?si=457045cce0e04d39\n"
     ]
    },
    {
     "name": "stderr",
     "output_type": "stream",
     "text": [
      "/var/folders/s4/79ykyqjn7f16bdl_zqjgsbzh0000gp/T/ipykernel_14170/863171515.py:4: DeprecationWarning: executable_path has been deprecated, please pass in a Service object\n",
      "  driver=webdriver.Chrome(PATH)\n"
     ]
    },
    {
     "name": "stdout",
     "output_type": "stream",
     "text": [
      "error 1\n",
      "error 4\n",
      "todo OK\n",
      "https://open.spotify.com/track/4YE580e303Qt5NkbgHX5O7?si=457045cce0e04d39\n"
     ]
    },
    {
     "name": "stderr",
     "output_type": "stream",
     "text": [
      "/var/folders/s4/79ykyqjn7f16bdl_zqjgsbzh0000gp/T/ipykernel_14170/863171515.py:4: DeprecationWarning: executable_path has been deprecated, please pass in a Service object\n",
      "  driver=webdriver.Chrome(PATH)\n"
     ]
    },
    {
     "name": "stdout",
     "output_type": "stream",
     "text": [
      "error 4\n",
      "todo OK\n",
      "https://open.spotify.com/track/4YE580e303Qt5NkbgHX5O7?si=457045cce0e04d39\n"
     ]
    },
    {
     "name": "stderr",
     "output_type": "stream",
     "text": [
      "/var/folders/s4/79ykyqjn7f16bdl_zqjgsbzh0000gp/T/ipykernel_14170/863171515.py:4: DeprecationWarning: executable_path has been deprecated, please pass in a Service object\n",
      "  driver=webdriver.Chrome(PATH)\n"
     ]
    },
    {
     "name": "stdout",
     "output_type": "stream",
     "text": [
      "error 1\n",
      "error 4\n",
      "todo OK\n",
      "https://open.spotify.com/track/4YE580e303Qt5NkbgHX5O7?si=457045cce0e04d39\n"
     ]
    },
    {
     "name": "stderr",
     "output_type": "stream",
     "text": [
      "/var/folders/s4/79ykyqjn7f16bdl_zqjgsbzh0000gp/T/ipykernel_14170/863171515.py:4: DeprecationWarning: executable_path has been deprecated, please pass in a Service object\n",
      "  driver=webdriver.Chrome(PATH)\n"
     ]
    },
    {
     "name": "stdout",
     "output_type": "stream",
     "text": [
      "todo OK\n",
      "https://open.spotify.com/track/4YE580e303Qt5NkbgHX5O7?si=457045cce0e04d39\n"
     ]
    },
    {
     "name": "stderr",
     "output_type": "stream",
     "text": [
      "/var/folders/s4/79ykyqjn7f16bdl_zqjgsbzh0000gp/T/ipykernel_14170/863171515.py:4: DeprecationWarning: executable_path has been deprecated, please pass in a Service object\n",
      "  driver=webdriver.Chrome(PATH)\n"
     ]
    },
    {
     "name": "stdout",
     "output_type": "stream",
     "text": [
      "todo OK\n",
      "https://open.spotify.com/track/4UnF7mAMF48oueqqhSLrai?si=98817ad528864a6e\n"
     ]
    },
    {
     "name": "stderr",
     "output_type": "stream",
     "text": [
      "/var/folders/s4/79ykyqjn7f16bdl_zqjgsbzh0000gp/T/ipykernel_14170/863171515.py:4: DeprecationWarning: executable_path has been deprecated, please pass in a Service object\n",
      "  driver=webdriver.Chrome(PATH)\n"
     ]
    },
    {
     "name": "stdout",
     "output_type": "stream",
     "text": [
      "error 4\n",
      "todo OK\n",
      "https://open.spotify.com/track/4UnF7mAMF48oueqqhSLrai?si=98817ad528864a6e\n"
     ]
    },
    {
     "name": "stderr",
     "output_type": "stream",
     "text": [
      "/var/folders/s4/79ykyqjn7f16bdl_zqjgsbzh0000gp/T/ipykernel_14170/863171515.py:4: DeprecationWarning: executable_path has been deprecated, please pass in a Service object\n",
      "  driver=webdriver.Chrome(PATH)\n"
     ]
    },
    {
     "name": "stdout",
     "output_type": "stream",
     "text": [
      "error 1\n",
      "todo OK\n",
      "https://open.spotify.com/track/58R30o2zynpgdvG5Nxfur8?si=d49c047ead904090\n"
     ]
    },
    {
     "name": "stderr",
     "output_type": "stream",
     "text": [
      "/var/folders/s4/79ykyqjn7f16bdl_zqjgsbzh0000gp/T/ipykernel_14170/863171515.py:4: DeprecationWarning: executable_path has been deprecated, please pass in a Service object\n",
      "  driver=webdriver.Chrome(PATH)\n"
     ]
    },
    {
     "name": "stdout",
     "output_type": "stream",
     "text": [
      "error 1\n",
      "todo OK\n",
      "https://open.spotify.com/track/2nfHtKszA0Ae7vQJXbARp7?si=d1136c8bbe464d60\n"
     ]
    },
    {
     "name": "stderr",
     "output_type": "stream",
     "text": [
      "/var/folders/s4/79ykyqjn7f16bdl_zqjgsbzh0000gp/T/ipykernel_14170/863171515.py:4: DeprecationWarning: executable_path has been deprecated, please pass in a Service object\n",
      "  driver=webdriver.Chrome(PATH)\n"
     ]
    },
    {
     "name": "stdout",
     "output_type": "stream",
     "text": [
      "error 4\n",
      "todo OK\n",
      "https://open.spotify.com/track/2nfHtKszA0Ae7vQJXbARp7?si=d1136c8bbe464d60\n"
     ]
    },
    {
     "name": "stderr",
     "output_type": "stream",
     "text": [
      "/var/folders/s4/79ykyqjn7f16bdl_zqjgsbzh0000gp/T/ipykernel_14170/863171515.py:4: DeprecationWarning: executable_path has been deprecated, please pass in a Service object\n",
      "  driver=webdriver.Chrome(PATH)\n"
     ]
    },
    {
     "name": "stdout",
     "output_type": "stream",
     "text": [
      "todo OK\n",
      "https://open.spotify.com/track/0PxVllnUIzt36tvbu5thj5?si=7a7baef623794652\n"
     ]
    },
    {
     "name": "stderr",
     "output_type": "stream",
     "text": [
      "/var/folders/s4/79ykyqjn7f16bdl_zqjgsbzh0000gp/T/ipykernel_14170/863171515.py:4: DeprecationWarning: executable_path has been deprecated, please pass in a Service object\n",
      "  driver=webdriver.Chrome(PATH)\n"
     ]
    },
    {
     "name": "stdout",
     "output_type": "stream",
     "text": [
      "error 1\n",
      "todo OK\n",
      "https://open.spotify.com/track/6Y2u5I0oHgnF71oxPsrtqO?si=e1b023f50597429b\n"
     ]
    },
    {
     "name": "stderr",
     "output_type": "stream",
     "text": [
      "/var/folders/s4/79ykyqjn7f16bdl_zqjgsbzh0000gp/T/ipykernel_14170/863171515.py:4: DeprecationWarning: executable_path has been deprecated, please pass in a Service object\n",
      "  driver=webdriver.Chrome(PATH)\n"
     ]
    },
    {
     "name": "stdout",
     "output_type": "stream",
     "text": [
      "todo OK\n",
      "https://open.spotify.com/track/22ddzTjm8BO39CySTC4J5y?si=bf3042a4f5c541bf\n"
     ]
    },
    {
     "name": "stderr",
     "output_type": "stream",
     "text": [
      "/var/folders/s4/79ykyqjn7f16bdl_zqjgsbzh0000gp/T/ipykernel_14170/863171515.py:4: DeprecationWarning: executable_path has been deprecated, please pass in a Service object\n",
      "  driver=webdriver.Chrome(PATH)\n"
     ]
    },
    {
     "name": "stdout",
     "output_type": "stream",
     "text": [
      "todo OK\n",
      "https://open.spotify.com/track/6dcOMgnBkzfj4WZcNziVIq?si=ac544464e8e54d0a\n"
     ]
    },
    {
     "name": "stderr",
     "output_type": "stream",
     "text": [
      "/var/folders/s4/79ykyqjn7f16bdl_zqjgsbzh0000gp/T/ipykernel_14170/863171515.py:4: DeprecationWarning: executable_path has been deprecated, please pass in a Service object\n",
      "  driver=webdriver.Chrome(PATH)\n"
     ]
    },
    {
     "name": "stdout",
     "output_type": "stream",
     "text": [
      "error 1\n",
      "error 4\n",
      "todo OK\n",
      "https://open.spotify.com/track/6dcOMgnBkzfj4WZcNziVIq?si=ac544464e8e54d0a\n"
     ]
    },
    {
     "name": "stderr",
     "output_type": "stream",
     "text": [
      "/var/folders/s4/79ykyqjn7f16bdl_zqjgsbzh0000gp/T/ipykernel_14170/863171515.py:4: DeprecationWarning: executable_path has been deprecated, please pass in a Service object\n",
      "  driver=webdriver.Chrome(PATH)\n"
     ]
    },
    {
     "name": "stdout",
     "output_type": "stream",
     "text": [
      "error 1\n",
      "error 4\n",
      "todo OK\n",
      "https://open.spotify.com/track/6dcOMgnBkzfj4WZcNziVIq?si=ac544464e8e54d0a\n"
     ]
    },
    {
     "name": "stderr",
     "output_type": "stream",
     "text": [
      "/var/folders/s4/79ykyqjn7f16bdl_zqjgsbzh0000gp/T/ipykernel_14170/863171515.py:4: DeprecationWarning: executable_path has been deprecated, please pass in a Service object\n",
      "  driver=webdriver.Chrome(PATH)\n"
     ]
    },
    {
     "name": "stdout",
     "output_type": "stream",
     "text": [
      "todo OK\n",
      "https://open.spotify.com/track/0Kf5trmRVm9LSBOxB8kExz?si=a69adad3a03f45dd\n"
     ]
    },
    {
     "name": "stderr",
     "output_type": "stream",
     "text": [
      "/var/folders/s4/79ykyqjn7f16bdl_zqjgsbzh0000gp/T/ipykernel_14170/863171515.py:4: DeprecationWarning: executable_path has been deprecated, please pass in a Service object\n",
      "  driver=webdriver.Chrome(PATH)\n"
     ]
    },
    {
     "name": "stdout",
     "output_type": "stream",
     "text": [
      "error 1\n",
      "todo OK\n",
      "https://open.spotify.com/track/5E1aLwnwcRW8mBwJRDJhHE?si=62f93cc97ab24bda\n"
     ]
    },
    {
     "name": "stderr",
     "output_type": "stream",
     "text": [
      "/var/folders/s4/79ykyqjn7f16bdl_zqjgsbzh0000gp/T/ipykernel_14170/863171515.py:4: DeprecationWarning: executable_path has been deprecated, please pass in a Service object\n",
      "  driver=webdriver.Chrome(PATH)\n"
     ]
    },
    {
     "name": "stdout",
     "output_type": "stream",
     "text": [
      "error 1\n",
      "error 4\n",
      "todo OK\n",
      "https://open.spotify.com/track/5E1aLwnwcRW8mBwJRDJhHE?si=62f93cc97ab24bda\n"
     ]
    },
    {
     "name": "stderr",
     "output_type": "stream",
     "text": [
      "/var/folders/s4/79ykyqjn7f16bdl_zqjgsbzh0000gp/T/ipykernel_14170/863171515.py:4: DeprecationWarning: executable_path has been deprecated, please pass in a Service object\n",
      "  driver=webdriver.Chrome(PATH)\n"
     ]
    },
    {
     "name": "stdout",
     "output_type": "stream",
     "text": [
      "error 1\n",
      "error 4\n",
      "todo OK\n",
      "https://open.spotify.com/track/5E1aLwnwcRW8mBwJRDJhHE?si=62f93cc97ab24bda\n"
     ]
    },
    {
     "name": "stderr",
     "output_type": "stream",
     "text": [
      "/var/folders/s4/79ykyqjn7f16bdl_zqjgsbzh0000gp/T/ipykernel_14170/863171515.py:4: DeprecationWarning: executable_path has been deprecated, please pass in a Service object\n",
      "  driver=webdriver.Chrome(PATH)\n"
     ]
    },
    {
     "name": "stdout",
     "output_type": "stream",
     "text": [
      "error 1\n",
      "error 4\n",
      "todo OK\n",
      "https://open.spotify.com/track/5E1aLwnwcRW8mBwJRDJhHE?si=62f93cc97ab24bda\n"
     ]
    },
    {
     "name": "stderr",
     "output_type": "stream",
     "text": [
      "/var/folders/s4/79ykyqjn7f16bdl_zqjgsbzh0000gp/T/ipykernel_14170/863171515.py:4: DeprecationWarning: executable_path has been deprecated, please pass in a Service object\n",
      "  driver=webdriver.Chrome(PATH)\n"
     ]
    },
    {
     "name": "stdout",
     "output_type": "stream",
     "text": [
      "error 1\n",
      "error 4\n",
      "todo OK\n",
      "https://open.spotify.com/track/5E1aLwnwcRW8mBwJRDJhHE?si=62f93cc97ab24bda\n"
     ]
    },
    {
     "name": "stderr",
     "output_type": "stream",
     "text": [
      "/var/folders/s4/79ykyqjn7f16bdl_zqjgsbzh0000gp/T/ipykernel_14170/863171515.py:4: DeprecationWarning: executable_path has been deprecated, please pass in a Service object\n",
      "  driver=webdriver.Chrome(PATH)\n"
     ]
    },
    {
     "name": "stdout",
     "output_type": "stream",
     "text": [
      "error 1\n",
      "error 4\n",
      "todo OK\n",
      "https://open.spotify.com/track/5E1aLwnwcRW8mBwJRDJhHE?si=62f93cc97ab24bda\n"
     ]
    },
    {
     "name": "stderr",
     "output_type": "stream",
     "text": [
      "/var/folders/s4/79ykyqjn7f16bdl_zqjgsbzh0000gp/T/ipykernel_14170/863171515.py:4: DeprecationWarning: executable_path has been deprecated, please pass in a Service object\n",
      "  driver=webdriver.Chrome(PATH)\n"
     ]
    },
    {
     "name": "stdout",
     "output_type": "stream",
     "text": [
      "error 1\n",
      "todo OK\n",
      "https://open.spotify.com/track/4SG9jIwjQLlw0aNXL4jVUE?si=28fe57e803bf4a28\n"
     ]
    },
    {
     "name": "stderr",
     "output_type": "stream",
     "text": [
      "/var/folders/s4/79ykyqjn7f16bdl_zqjgsbzh0000gp/T/ipykernel_14170/863171515.py:4: DeprecationWarning: executable_path has been deprecated, please pass in a Service object\n",
      "  driver=webdriver.Chrome(PATH)\n"
     ]
    },
    {
     "name": "stdout",
     "output_type": "stream",
     "text": [
      "todo OK\n",
      "https://open.spotify.com/track/6ptD7IKwIY9VA2szQCtDkv?si=d383b840042848bf\n"
     ]
    },
    {
     "name": "stderr",
     "output_type": "stream",
     "text": [
      "/var/folders/s4/79ykyqjn7f16bdl_zqjgsbzh0000gp/T/ipykernel_14170/863171515.py:4: DeprecationWarning: executable_path has been deprecated, please pass in a Service object\n",
      "  driver=webdriver.Chrome(PATH)\n"
     ]
    },
    {
     "name": "stdout",
     "output_type": "stream",
     "text": [
      "todo OK\n",
      "https://open.spotify.com/track/5z4Nqwoww9zdH4YoaGZMNz?si=4768c689a7d946b6\n"
     ]
    },
    {
     "name": "stderr",
     "output_type": "stream",
     "text": [
      "/var/folders/s4/79ykyqjn7f16bdl_zqjgsbzh0000gp/T/ipykernel_14170/863171515.py:4: DeprecationWarning: executable_path has been deprecated, please pass in a Service object\n",
      "  driver=webdriver.Chrome(PATH)\n"
     ]
    },
    {
     "name": "stdout",
     "output_type": "stream",
     "text": [
      "error 1\n",
      "error 4\n",
      "todo OK\n",
      "https://open.spotify.com/track/5z4Nqwoww9zdH4YoaGZMNz?si=4768c689a7d946b6\n"
     ]
    },
    {
     "name": "stderr",
     "output_type": "stream",
     "text": [
      "/var/folders/s4/79ykyqjn7f16bdl_zqjgsbzh0000gp/T/ipykernel_14170/863171515.py:4: DeprecationWarning: executable_path has been deprecated, please pass in a Service object\n",
      "  driver=webdriver.Chrome(PATH)\n"
     ]
    },
    {
     "name": "stdout",
     "output_type": "stream",
     "text": [
      "error 1\n",
      "error 4\n",
      "todo OK\n",
      "https://open.spotify.com/track/5z4Nqwoww9zdH4YoaGZMNz?si=4768c689a7d946b6\n"
     ]
    },
    {
     "name": "stderr",
     "output_type": "stream",
     "text": [
      "/var/folders/s4/79ykyqjn7f16bdl_zqjgsbzh0000gp/T/ipykernel_14170/863171515.py:4: DeprecationWarning: executable_path has been deprecated, please pass in a Service object\n",
      "  driver=webdriver.Chrome(PATH)\n"
     ]
    },
    {
     "name": "stdout",
     "output_type": "stream",
     "text": [
      "error 1\n",
      "error 4\n",
      "todo OK\n",
      "https://open.spotify.com/track/5z4Nqwoww9zdH4YoaGZMNz?si=4768c689a7d946b6\n"
     ]
    },
    {
     "name": "stderr",
     "output_type": "stream",
     "text": [
      "/var/folders/s4/79ykyqjn7f16bdl_zqjgsbzh0000gp/T/ipykernel_14170/863171515.py:4: DeprecationWarning: executable_path has been deprecated, please pass in a Service object\n",
      "  driver=webdriver.Chrome(PATH)\n"
     ]
    },
    {
     "name": "stdout",
     "output_type": "stream",
     "text": [
      "todo OK\n",
      "https://open.spotify.com/track/1z5TNHJ4WP2ftKhRpqdoNY?si=2ac65e86dc354ad6\n"
     ]
    },
    {
     "name": "stderr",
     "output_type": "stream",
     "text": [
      "/var/folders/s4/79ykyqjn7f16bdl_zqjgsbzh0000gp/T/ipykernel_14170/863171515.py:4: DeprecationWarning: executable_path has been deprecated, please pass in a Service object\n",
      "  driver=webdriver.Chrome(PATH)\n"
     ]
    },
    {
     "name": "stdout",
     "output_type": "stream",
     "text": [
      "error 1\n",
      "todo OK\n",
      "https://open.spotify.com/track/13Tbv4nflNxg9kYBIbJnd9?si=64fda3ca6bbd4022\n"
     ]
    },
    {
     "name": "stderr",
     "output_type": "stream",
     "text": [
      "/var/folders/s4/79ykyqjn7f16bdl_zqjgsbzh0000gp/T/ipykernel_14170/863171515.py:4: DeprecationWarning: executable_path has been deprecated, please pass in a Service object\n",
      "  driver=webdriver.Chrome(PATH)\n"
     ]
    },
    {
     "name": "stdout",
     "output_type": "stream",
     "text": [
      "error 1\n",
      "error 4\n",
      "todo OK\n",
      "https://open.spotify.com/track/13Tbv4nflNxg9kYBIbJnd9?si=64fda3ca6bbd4022\n"
     ]
    },
    {
     "name": "stderr",
     "output_type": "stream",
     "text": [
      "/var/folders/s4/79ykyqjn7f16bdl_zqjgsbzh0000gp/T/ipykernel_14170/863171515.py:4: DeprecationWarning: executable_path has been deprecated, please pass in a Service object\n",
      "  driver=webdriver.Chrome(PATH)\n"
     ]
    },
    {
     "name": "stdout",
     "output_type": "stream",
     "text": [
      "error 1\n",
      "error 4\n",
      "todo OK\n",
      "https://open.spotify.com/track/13Tbv4nflNxg9kYBIbJnd9?si=64fda3ca6bbd4022\n"
     ]
    },
    {
     "name": "stderr",
     "output_type": "stream",
     "text": [
      "/var/folders/s4/79ykyqjn7f16bdl_zqjgsbzh0000gp/T/ipykernel_14170/863171515.py:4: DeprecationWarning: executable_path has been deprecated, please pass in a Service object\n",
      "  driver=webdriver.Chrome(PATH)\n"
     ]
    },
    {
     "name": "stdout",
     "output_type": "stream",
     "text": [
      "error 1\n",
      "error 4\n",
      "todo OK\n",
      "https://open.spotify.com/track/13Tbv4nflNxg9kYBIbJnd9?si=64fda3ca6bbd4022\n"
     ]
    },
    {
     "name": "stderr",
     "output_type": "stream",
     "text": [
      "/var/folders/s4/79ykyqjn7f16bdl_zqjgsbzh0000gp/T/ipykernel_14170/863171515.py:4: DeprecationWarning: executable_path has been deprecated, please pass in a Service object\n",
      "  driver=webdriver.Chrome(PATH)\n"
     ]
    },
    {
     "name": "stdout",
     "output_type": "stream",
     "text": [
      "error 1\n",
      "todo OK\n",
      "https://open.spotify.com/track/6ocbgoVGwYJhOv1GgI9NsF?si=edc1c3c3bb8a4e9f\n"
     ]
    },
    {
     "name": "stderr",
     "output_type": "stream",
     "text": [
      "/var/folders/s4/79ykyqjn7f16bdl_zqjgsbzh0000gp/T/ipykernel_14170/863171515.py:4: DeprecationWarning: executable_path has been deprecated, please pass in a Service object\n",
      "  driver=webdriver.Chrome(PATH)\n"
     ]
    },
    {
     "name": "stdout",
     "output_type": "stream",
     "text": [
      "error 1\n",
      "todo OK\n",
      "https://open.spotify.com/track/35mvY5S1H3J2QZyna3TFe0?si=c6ebc89126694ccb\n"
     ]
    },
    {
     "name": "stderr",
     "output_type": "stream",
     "text": [
      "/var/folders/s4/79ykyqjn7f16bdl_zqjgsbzh0000gp/T/ipykernel_14170/863171515.py:4: DeprecationWarning: executable_path has been deprecated, please pass in a Service object\n",
      "  driver=webdriver.Chrome(PATH)\n"
     ]
    },
    {
     "name": "stdout",
     "output_type": "stream",
     "text": [
      "error 1\n",
      "error 4\n",
      "todo OK\n",
      "https://open.spotify.com/track/35mvY5S1H3J2QZyna3TFe0?si=c6ebc89126694ccb\n"
     ]
    },
    {
     "name": "stderr",
     "output_type": "stream",
     "text": [
      "/var/folders/s4/79ykyqjn7f16bdl_zqjgsbzh0000gp/T/ipykernel_14170/863171515.py:4: DeprecationWarning: executable_path has been deprecated, please pass in a Service object\n",
      "  driver=webdriver.Chrome(PATH)\n"
     ]
    },
    {
     "name": "stdout",
     "output_type": "stream",
     "text": [
      "error 1\n",
      "todo OK\n",
      "https://open.spotify.com/track/3UoULw70kMsiVXxW0L3A33?si=21df4896f456430d\n"
     ]
    },
    {
     "name": "stderr",
     "output_type": "stream",
     "text": [
      "/var/folders/s4/79ykyqjn7f16bdl_zqjgsbzh0000gp/T/ipykernel_14170/863171515.py:4: DeprecationWarning: executable_path has been deprecated, please pass in a Service object\n",
      "  driver=webdriver.Chrome(PATH)\n"
     ]
    },
    {
     "name": "stdout",
     "output_type": "stream",
     "text": [
      "error 1\n",
      "todo OK\n",
      "https://open.spotify.com/track/5YeHLHDdQ4nKHk81XFWhCU?si=dbd54b6153064a7b\n"
     ]
    },
    {
     "name": "stderr",
     "output_type": "stream",
     "text": [
      "/var/folders/s4/79ykyqjn7f16bdl_zqjgsbzh0000gp/T/ipykernel_14170/863171515.py:4: DeprecationWarning: executable_path has been deprecated, please pass in a Service object\n",
      "  driver=webdriver.Chrome(PATH)\n"
     ]
    },
    {
     "name": "stdout",
     "output_type": "stream",
     "text": [
      "error 1\n",
      "todo OK\n",
      "https://open.spotify.com/track/4kV4N9D1iKVxx1KLvtTpjS?si=d232362f693a4f22\n"
     ]
    },
    {
     "name": "stderr",
     "output_type": "stream",
     "text": [
      "/var/folders/s4/79ykyqjn7f16bdl_zqjgsbzh0000gp/T/ipykernel_14170/863171515.py:4: DeprecationWarning: executable_path has been deprecated, please pass in a Service object\n",
      "  driver=webdriver.Chrome(PATH)\n"
     ]
    },
    {
     "name": "stdout",
     "output_type": "stream",
     "text": [
      "error 1\n",
      "todo OK\n",
      "https://open.spotify.com/track/70khXICDeTTxgYtw3EysKH?si=2b3816d82ab7431a\n"
     ]
    },
    {
     "name": "stderr",
     "output_type": "stream",
     "text": [
      "/var/folders/s4/79ykyqjn7f16bdl_zqjgsbzh0000gp/T/ipykernel_14170/863171515.py:4: DeprecationWarning: executable_path has been deprecated, please pass in a Service object\n",
      "  driver=webdriver.Chrome(PATH)\n"
     ]
    },
    {
     "name": "stdout",
     "output_type": "stream",
     "text": [
      "error 1\n",
      "todo OK\n",
      "https://open.spotify.com/track/0sci7ppTZFm4mjcH3nu8yO?si=8d3e16b4433f4e96\n"
     ]
    },
    {
     "name": "stderr",
     "output_type": "stream",
     "text": [
      "/var/folders/s4/79ykyqjn7f16bdl_zqjgsbzh0000gp/T/ipykernel_14170/863171515.py:4: DeprecationWarning: executable_path has been deprecated, please pass in a Service object\n",
      "  driver=webdriver.Chrome(PATH)\n"
     ]
    },
    {
     "name": "stdout",
     "output_type": "stream",
     "text": [
      "error 1\n",
      "todo OK\n",
      "https://open.spotify.com/track/1TEL6MlSSVLSdhOSddidlJ?si=64d4dcf2f3fb4722\n"
     ]
    },
    {
     "name": "stderr",
     "output_type": "stream",
     "text": [
      "/var/folders/s4/79ykyqjn7f16bdl_zqjgsbzh0000gp/T/ipykernel_14170/863171515.py:4: DeprecationWarning: executable_path has been deprecated, please pass in a Service object\n",
      "  driver=webdriver.Chrome(PATH)\n"
     ]
    },
    {
     "name": "stdout",
     "output_type": "stream",
     "text": [
      "error 1\n",
      "error 4\n",
      "todo OK\n",
      "https://open.spotify.com/track/1TEL6MlSSVLSdhOSddidlJ?si=64d4dcf2f3fb4722\n"
     ]
    },
    {
     "name": "stderr",
     "output_type": "stream",
     "text": [
      "/var/folders/s4/79ykyqjn7f16bdl_zqjgsbzh0000gp/T/ipykernel_14170/863171515.py:4: DeprecationWarning: executable_path has been deprecated, please pass in a Service object\n",
      "  driver=webdriver.Chrome(PATH)\n"
     ]
    },
    {
     "name": "stdout",
     "output_type": "stream",
     "text": [
      "todo OK\n",
      "https://open.spotify.com/track/6Im9k8u9iIzKMrmV7BWtlF?si=24a7971f6637479f\n"
     ]
    },
    {
     "name": "stderr",
     "output_type": "stream",
     "text": [
      "/var/folders/s4/79ykyqjn7f16bdl_zqjgsbzh0000gp/T/ipykernel_14170/863171515.py:4: DeprecationWarning: executable_path has been deprecated, please pass in a Service object\n",
      "  driver=webdriver.Chrome(PATH)\n"
     ]
    },
    {
     "name": "stdout",
     "output_type": "stream",
     "text": [
      "error 1\n",
      "todo OK\n",
      "https://open.spotify.com/track/27356GVuMPFWiJSZCragoM?si=3df9afb3458d46d2\n"
     ]
    },
    {
     "name": "stderr",
     "output_type": "stream",
     "text": [
      "/var/folders/s4/79ykyqjn7f16bdl_zqjgsbzh0000gp/T/ipykernel_14170/863171515.py:4: DeprecationWarning: executable_path has been deprecated, please pass in a Service object\n",
      "  driver=webdriver.Chrome(PATH)\n"
     ]
    },
    {
     "name": "stdout",
     "output_type": "stream",
     "text": [
      "error 1\n",
      "todo OK\n",
      "https://open.spotify.com/track/2qT1uLXPVPzGgFOx4jtEuo?si=4edd21700b6944c8\n"
     ]
    },
    {
     "name": "stderr",
     "output_type": "stream",
     "text": [
      "/var/folders/s4/79ykyqjn7f16bdl_zqjgsbzh0000gp/T/ipykernel_14170/863171515.py:4: DeprecationWarning: executable_path has been deprecated, please pass in a Service object\n",
      "  driver=webdriver.Chrome(PATH)\n"
     ]
    },
    {
     "name": "stdout",
     "output_type": "stream",
     "text": [
      "error 1\n",
      "todo OK\n",
      "https://open.spotify.com/track/3e9HZxeyfWwjeyPAMmWSSQ?si=752940b7c923459a\n"
     ]
    },
    {
     "name": "stderr",
     "output_type": "stream",
     "text": [
      "/var/folders/s4/79ykyqjn7f16bdl_zqjgsbzh0000gp/T/ipykernel_14170/863171515.py:4: DeprecationWarning: executable_path has been deprecated, please pass in a Service object\n",
      "  driver=webdriver.Chrome(PATH)\n"
     ]
    },
    {
     "name": "stdout",
     "output_type": "stream",
     "text": [
      "error 1\n",
      "error 2\n",
      "error 3\n",
      "error 4\n",
      "todo OK\n",
      "https://open.spotify.com/track/3e9HZxeyfWwjeyPAMmWSSQ?si=752940b7c923459a\n"
     ]
    },
    {
     "name": "stderr",
     "output_type": "stream",
     "text": [
      "/var/folders/s4/79ykyqjn7f16bdl_zqjgsbzh0000gp/T/ipykernel_14170/863171515.py:4: DeprecationWarning: executable_path has been deprecated, please pass in a Service object\n",
      "  driver=webdriver.Chrome(PATH)\n"
     ]
    },
    {
     "name": "stdout",
     "output_type": "stream",
     "text": [
      "error 1\n",
      "todo OK\n",
      "https://open.spotify.com/track/3ko9jEHNt4O5fjKN65ULJp?si=da46715fdefd4868\n"
     ]
    },
    {
     "name": "stderr",
     "output_type": "stream",
     "text": [
      "/var/folders/s4/79ykyqjn7f16bdl_zqjgsbzh0000gp/T/ipykernel_14170/863171515.py:4: DeprecationWarning: executable_path has been deprecated, please pass in a Service object\n",
      "  driver=webdriver.Chrome(PATH)\n"
     ]
    },
    {
     "name": "stdout",
     "output_type": "stream",
     "text": [
      "error 1\n",
      "todo OK\n",
      "https://open.spotify.com/track/5Il6Oe7lr5XM7A0cWbVQtr?si=3e89d90766bf4180\n"
     ]
    },
    {
     "name": "stderr",
     "output_type": "stream",
     "text": [
      "/var/folders/s4/79ykyqjn7f16bdl_zqjgsbzh0000gp/T/ipykernel_14170/863171515.py:4: DeprecationWarning: executable_path has been deprecated, please pass in a Service object\n",
      "  driver=webdriver.Chrome(PATH)\n"
     ]
    },
    {
     "name": "stdout",
     "output_type": "stream",
     "text": [
      "error 1\n",
      "todo OK\n",
      "https://open.spotify.com/track/3nef5W8jTkXrOKgCu4kmq7?si=047002423faf49d9\n"
     ]
    },
    {
     "name": "stderr",
     "output_type": "stream",
     "text": [
      "/var/folders/s4/79ykyqjn7f16bdl_zqjgsbzh0000gp/T/ipykernel_14170/863171515.py:4: DeprecationWarning: executable_path has been deprecated, please pass in a Service object\n",
      "  driver=webdriver.Chrome(PATH)\n"
     ]
    },
    {
     "name": "stdout",
     "output_type": "stream",
     "text": [
      "error 4\n",
      "todo OK\n",
      "https://open.spotify.com/track/3nef5W8jTkXrOKgCu4kmq7?si=047002423faf49d9\n"
     ]
    },
    {
     "name": "stderr",
     "output_type": "stream",
     "text": [
      "/var/folders/s4/79ykyqjn7f16bdl_zqjgsbzh0000gp/T/ipykernel_14170/863171515.py:4: DeprecationWarning: executable_path has been deprecated, please pass in a Service object\n",
      "  driver=webdriver.Chrome(PATH)\n"
     ]
    },
    {
     "name": "stdout",
     "output_type": "stream",
     "text": [
      "error 1\n",
      "todo OK\n",
      "https://open.spotify.com/track/1cqncIJLqvQtpGWMVDmmtG?si=b7737a97da234f48\n"
     ]
    },
    {
     "name": "stderr",
     "output_type": "stream",
     "text": [
      "/var/folders/s4/79ykyqjn7f16bdl_zqjgsbzh0000gp/T/ipykernel_14170/863171515.py:4: DeprecationWarning: executable_path has been deprecated, please pass in a Service object\n",
      "  driver=webdriver.Chrome(PATH)\n"
     ]
    },
    {
     "name": "stdout",
     "output_type": "stream",
     "text": [
      "todo OK\n",
      "https://open.spotify.com/track/1XUEkWQTghZ42HadzC9Xaq?si=0cb876a97ce34d66\n"
     ]
    },
    {
     "name": "stderr",
     "output_type": "stream",
     "text": [
      "/var/folders/s4/79ykyqjn7f16bdl_zqjgsbzh0000gp/T/ipykernel_14170/863171515.py:4: DeprecationWarning: executable_path has been deprecated, please pass in a Service object\n",
      "  driver=webdriver.Chrome(PATH)\n"
     ]
    },
    {
     "name": "stdout",
     "output_type": "stream",
     "text": [
      "todo OK\n",
      "https://open.spotify.com/track/6I9VzXrHxO9rA9A5euc8Ak?si=b2d9f124c06146bb\n"
     ]
    },
    {
     "name": "stderr",
     "output_type": "stream",
     "text": [
      "/var/folders/s4/79ykyqjn7f16bdl_zqjgsbzh0000gp/T/ipykernel_14170/863171515.py:4: DeprecationWarning: executable_path has been deprecated, please pass in a Service object\n",
      "  driver=webdriver.Chrome(PATH)\n"
     ]
    },
    {
     "name": "stdout",
     "output_type": "stream",
     "text": [
      "error 1\n",
      "todo OK\n",
      "https://open.spotify.com/track/0bwrHrk90xFttfUNBpDGnx?si=f2a7b2dd91d4447b\n"
     ]
    },
    {
     "name": "stderr",
     "output_type": "stream",
     "text": [
      "/var/folders/s4/79ykyqjn7f16bdl_zqjgsbzh0000gp/T/ipykernel_14170/863171515.py:4: DeprecationWarning: executable_path has been deprecated, please pass in a Service object\n",
      "  driver=webdriver.Chrome(PATH)\n"
     ]
    },
    {
     "name": "stdout",
     "output_type": "stream",
     "text": [
      "error 1\n",
      "error 4\n",
      "todo OK\n",
      "https://open.spotify.com/track/0bwrHrk90xFttfUNBpDGnx?si=f2a7b2dd91d4447b\n"
     ]
    },
    {
     "name": "stderr",
     "output_type": "stream",
     "text": [
      "/var/folders/s4/79ykyqjn7f16bdl_zqjgsbzh0000gp/T/ipykernel_14170/863171515.py:4: DeprecationWarning: executable_path has been deprecated, please pass in a Service object\n",
      "  driver=webdriver.Chrome(PATH)\n"
     ]
    },
    {
     "name": "stdout",
     "output_type": "stream",
     "text": [
      "error 1\n",
      "todo OK\n",
      "https://open.spotify.com/track/55CHeLEfn5iJ0IIkgaa4si?si=2835e94b589a4ed9\n"
     ]
    },
    {
     "name": "stderr",
     "output_type": "stream",
     "text": [
      "/var/folders/s4/79ykyqjn7f16bdl_zqjgsbzh0000gp/T/ipykernel_14170/863171515.py:4: DeprecationWarning: executable_path has been deprecated, please pass in a Service object\n",
      "  driver=webdriver.Chrome(PATH)\n"
     ]
    },
    {
     "name": "stdout",
     "output_type": "stream",
     "text": [
      "todo OK\n",
      "https://open.spotify.com/track/2hhFpD32iXUd4GaCu6T4wn?si=ea3a0c1673ee4d4d\n"
     ]
    },
    {
     "name": "stderr",
     "output_type": "stream",
     "text": [
      "/var/folders/s4/79ykyqjn7f16bdl_zqjgsbzh0000gp/T/ipykernel_14170/863171515.py:4: DeprecationWarning: executable_path has been deprecated, please pass in a Service object\n",
      "  driver=webdriver.Chrome(PATH)\n"
     ]
    },
    {
     "name": "stdout",
     "output_type": "stream",
     "text": [
      "error 1\n",
      "error 4\n",
      "todo OK\n",
      "https://open.spotify.com/track/2hhFpD32iXUd4GaCu6T4wn?si=ea3a0c1673ee4d4d\n"
     ]
    },
    {
     "name": "stderr",
     "output_type": "stream",
     "text": [
      "/var/folders/s4/79ykyqjn7f16bdl_zqjgsbzh0000gp/T/ipykernel_14170/863171515.py:4: DeprecationWarning: executable_path has been deprecated, please pass in a Service object\n",
      "  driver=webdriver.Chrome(PATH)\n"
     ]
    },
    {
     "name": "stdout",
     "output_type": "stream",
     "text": [
      "error 1\n",
      "todo OK\n",
      "https://open.spotify.com/track/51Xc6Fru1kHDDBv93BZaxE?si=45c04f5f85334f30\n"
     ]
    },
    {
     "name": "stderr",
     "output_type": "stream",
     "text": [
      "/var/folders/s4/79ykyqjn7f16bdl_zqjgsbzh0000gp/T/ipykernel_14170/863171515.py:4: DeprecationWarning: executable_path has been deprecated, please pass in a Service object\n",
      "  driver=webdriver.Chrome(PATH)\n"
     ]
    },
    {
     "name": "stdout",
     "output_type": "stream",
     "text": [
      "error 1\n",
      "todo OK\n",
      "https://open.spotify.com/track/6potEImiklXkwD9qFzpu15?si=8952d6448406421b\n"
     ]
    },
    {
     "name": "stderr",
     "output_type": "stream",
     "text": [
      "/var/folders/s4/79ykyqjn7f16bdl_zqjgsbzh0000gp/T/ipykernel_14170/863171515.py:4: DeprecationWarning: executable_path has been deprecated, please pass in a Service object\n",
      "  driver=webdriver.Chrome(PATH)\n"
     ]
    },
    {
     "name": "stdout",
     "output_type": "stream",
     "text": [
      "error 1\n",
      "todo OK\n",
      "https://open.spotify.com/track/2TzwPoIbAE6g70DBsvUGSt?si=06cfae5813f04445\n"
     ]
    },
    {
     "name": "stderr",
     "output_type": "stream",
     "text": [
      "/var/folders/s4/79ykyqjn7f16bdl_zqjgsbzh0000gp/T/ipykernel_14170/863171515.py:4: DeprecationWarning: executable_path has been deprecated, please pass in a Service object\n",
      "  driver=webdriver.Chrome(PATH)\n"
     ]
    },
    {
     "name": "stdout",
     "output_type": "stream",
     "text": [
      "error 1\n",
      "todo OK\n",
      "https://open.spotify.com/track/0A37hzzqwErpPGKF0Qvq2J?si=573ec0a50acf44ba\n"
     ]
    },
    {
     "name": "stderr",
     "output_type": "stream",
     "text": [
      "/var/folders/s4/79ykyqjn7f16bdl_zqjgsbzh0000gp/T/ipykernel_14170/863171515.py:4: DeprecationWarning: executable_path has been deprecated, please pass in a Service object\n",
      "  driver=webdriver.Chrome(PATH)\n"
     ]
    },
    {
     "name": "stdout",
     "output_type": "stream",
     "text": [
      "error 1\n",
      "todo OK\n",
      "https://open.spotify.com/track/6EtKlIQmGPB9SX8UjDJG5s?si=4bec245b67cc46e2\n"
     ]
    },
    {
     "name": "stderr",
     "output_type": "stream",
     "text": [
      "/var/folders/s4/79ykyqjn7f16bdl_zqjgsbzh0000gp/T/ipykernel_14170/863171515.py:4: DeprecationWarning: executable_path has been deprecated, please pass in a Service object\n",
      "  driver=webdriver.Chrome(PATH)\n"
     ]
    },
    {
     "name": "stdout",
     "output_type": "stream",
     "text": [
      "error 1\n",
      "todo OK\n",
      "https://open.spotify.com/track/4iddJAOsc6U0hJ3krSJAKn?si=c6b021c870bd490a\n"
     ]
    },
    {
     "name": "stderr",
     "output_type": "stream",
     "text": [
      "/var/folders/s4/79ykyqjn7f16bdl_zqjgsbzh0000gp/T/ipykernel_14170/863171515.py:4: DeprecationWarning: executable_path has been deprecated, please pass in a Service object\n",
      "  driver=webdriver.Chrome(PATH)\n"
     ]
    },
    {
     "name": "stdout",
     "output_type": "stream",
     "text": [
      "error 1\n",
      "error 4\n",
      "todo OK\n",
      "https://open.spotify.com/track/4iddJAOsc6U0hJ3krSJAKn?si=c6b021c870bd490a\n"
     ]
    },
    {
     "name": "stderr",
     "output_type": "stream",
     "text": [
      "/var/folders/s4/79ykyqjn7f16bdl_zqjgsbzh0000gp/T/ipykernel_14170/863171515.py:4: DeprecationWarning: executable_path has been deprecated, please pass in a Service object\n",
      "  driver=webdriver.Chrome(PATH)\n"
     ]
    },
    {
     "name": "stdout",
     "output_type": "stream",
     "text": [
      "error 1\n",
      "todo OK\n",
      "https://open.spotify.com/track/6N22FZs2ZhPBYi3b9XPajV?si=98c710f669dd42be\n"
     ]
    },
    {
     "name": "stderr",
     "output_type": "stream",
     "text": [
      "/var/folders/s4/79ykyqjn7f16bdl_zqjgsbzh0000gp/T/ipykernel_14170/863171515.py:4: DeprecationWarning: executable_path has been deprecated, please pass in a Service object\n",
      "  driver=webdriver.Chrome(PATH)\n"
     ]
    },
    {
     "name": "stdout",
     "output_type": "stream",
     "text": [
      "error 1\n",
      "todo OK\n",
      "https://open.spotify.com/track/19vON6uvI3EKgbOz9FSeQP?si=46d55460a358414a\n"
     ]
    },
    {
     "name": "stderr",
     "output_type": "stream",
     "text": [
      "/var/folders/s4/79ykyqjn7f16bdl_zqjgsbzh0000gp/T/ipykernel_14170/863171515.py:4: DeprecationWarning: executable_path has been deprecated, please pass in a Service object\n",
      "  driver=webdriver.Chrome(PATH)\n"
     ]
    },
    {
     "name": "stdout",
     "output_type": "stream",
     "text": [
      "error 1\n",
      "todo OK\n",
      "https://open.spotify.com/track/0ruSx6aUZjj1Z3PrhcVeGN?si=41cccf0a3f09483f\n"
     ]
    },
    {
     "name": "stderr",
     "output_type": "stream",
     "text": [
      "/var/folders/s4/79ykyqjn7f16bdl_zqjgsbzh0000gp/T/ipykernel_14170/863171515.py:4: DeprecationWarning: executable_path has been deprecated, please pass in a Service object\n",
      "  driver=webdriver.Chrome(PATH)\n"
     ]
    },
    {
     "name": "stdout",
     "output_type": "stream",
     "text": [
      "error 1\n",
      "todo OK\n",
      "https://open.spotify.com/track/2t16D9V5FmmRAJjsSpwvZf?si=7c4f606e069d4177\n"
     ]
    },
    {
     "name": "stderr",
     "output_type": "stream",
     "text": [
      "/var/folders/s4/79ykyqjn7f16bdl_zqjgsbzh0000gp/T/ipykernel_14170/863171515.py:4: DeprecationWarning: executable_path has been deprecated, please pass in a Service object\n",
      "  driver=webdriver.Chrome(PATH)\n"
     ]
    },
    {
     "name": "stdout",
     "output_type": "stream",
     "text": [
      "error 1\n",
      "todo OK\n",
      "https://open.spotify.com/track/0Pa8sgK7rrFAOLoU10eC13?si=c7ffa1718c8b42c6\n"
     ]
    },
    {
     "name": "stderr",
     "output_type": "stream",
     "text": [
      "/var/folders/s4/79ykyqjn7f16bdl_zqjgsbzh0000gp/T/ipykernel_14170/863171515.py:4: DeprecationWarning: executable_path has been deprecated, please pass in a Service object\n",
      "  driver=webdriver.Chrome(PATH)\n"
     ]
    },
    {
     "name": "stdout",
     "output_type": "stream",
     "text": [
      "error 1\n",
      "todo OK\n",
      "https://open.spotify.com/track/5KBARWIxeMGkvUax9VtVC9?si=83004897cb0b4f10\n"
     ]
    },
    {
     "name": "stderr",
     "output_type": "stream",
     "text": [
      "/var/folders/s4/79ykyqjn7f16bdl_zqjgsbzh0000gp/T/ipykernel_14170/863171515.py:4: DeprecationWarning: executable_path has been deprecated, please pass in a Service object\n",
      "  driver=webdriver.Chrome(PATH)\n"
     ]
    },
    {
     "name": "stdout",
     "output_type": "stream",
     "text": [
      "error 1\n",
      "error 4\n",
      "todo OK\n",
      "https://open.spotify.com/track/5KBARWIxeMGkvUax9VtVC9?si=83004897cb0b4f10\n"
     ]
    },
    {
     "name": "stderr",
     "output_type": "stream",
     "text": [
      "/var/folders/s4/79ykyqjn7f16bdl_zqjgsbzh0000gp/T/ipykernel_14170/863171515.py:4: DeprecationWarning: executable_path has been deprecated, please pass in a Service object\n",
      "  driver=webdriver.Chrome(PATH)\n"
     ]
    },
    {
     "name": "stdout",
     "output_type": "stream",
     "text": [
      "error 1\n",
      "error 4\n",
      "todo OK\n",
      "https://open.spotify.com/track/5KBARWIxeMGkvUax9VtVC9?si=83004897cb0b4f10\n"
     ]
    },
    {
     "name": "stderr",
     "output_type": "stream",
     "text": [
      "/var/folders/s4/79ykyqjn7f16bdl_zqjgsbzh0000gp/T/ipykernel_14170/863171515.py:4: DeprecationWarning: executable_path has been deprecated, please pass in a Service object\n",
      "  driver=webdriver.Chrome(PATH)\n"
     ]
    },
    {
     "name": "stdout",
     "output_type": "stream",
     "text": [
      "error 1\n",
      "todo OK\n",
      "https://open.spotify.com/track/52BJrldggFQyTiW8XrILhO?si=64650765fa8f4a71\n"
     ]
    },
    {
     "name": "stderr",
     "output_type": "stream",
     "text": [
      "/var/folders/s4/79ykyqjn7f16bdl_zqjgsbzh0000gp/T/ipykernel_14170/863171515.py:4: DeprecationWarning: executable_path has been deprecated, please pass in a Service object\n",
      "  driver=webdriver.Chrome(PATH)\n"
     ]
    },
    {
     "name": "stdout",
     "output_type": "stream",
     "text": [
      "error 1\n",
      "todo OK\n",
      "https://open.spotify.com/track/5q5KRgbyRwkcqFnJq6Cwj5?si=05864d52f89e4004\n"
     ]
    },
    {
     "name": "stderr",
     "output_type": "stream",
     "text": [
      "/var/folders/s4/79ykyqjn7f16bdl_zqjgsbzh0000gp/T/ipykernel_14170/863171515.py:4: DeprecationWarning: executable_path has been deprecated, please pass in a Service object\n",
      "  driver=webdriver.Chrome(PATH)\n"
     ]
    },
    {
     "name": "stdout",
     "output_type": "stream",
     "text": [
      "error 4\n",
      "todo OK\n",
      "https://open.spotify.com/track/5q5KRgbyRwkcqFnJq6Cwj5?si=05864d52f89e4004\n"
     ]
    },
    {
     "name": "stderr",
     "output_type": "stream",
     "text": [
      "/var/folders/s4/79ykyqjn7f16bdl_zqjgsbzh0000gp/T/ipykernel_14170/863171515.py:4: DeprecationWarning: executable_path has been deprecated, please pass in a Service object\n",
      "  driver=webdriver.Chrome(PATH)\n"
     ]
    },
    {
     "name": "stdout",
     "output_type": "stream",
     "text": [
      "error 1\n",
      "todo OK\n",
      "https://open.spotify.com/track/6Vyzd0DtqU41EBG461P6Ke?si=a697da4d57cd4a02\n"
     ]
    },
    {
     "name": "stderr",
     "output_type": "stream",
     "text": [
      "/var/folders/s4/79ykyqjn7f16bdl_zqjgsbzh0000gp/T/ipykernel_14170/863171515.py:4: DeprecationWarning: executable_path has been deprecated, please pass in a Service object\n",
      "  driver=webdriver.Chrome(PATH)\n"
     ]
    },
    {
     "name": "stdout",
     "output_type": "stream",
     "text": [
      "error 1\n",
      "error 4\n",
      "todo OK\n",
      "https://open.spotify.com/track/6Vyzd0DtqU41EBG461P6Ke?si=a697da4d57cd4a02\n"
     ]
    },
    {
     "name": "stderr",
     "output_type": "stream",
     "text": [
      "/var/folders/s4/79ykyqjn7f16bdl_zqjgsbzh0000gp/T/ipykernel_14170/863171515.py:4: DeprecationWarning: executable_path has been deprecated, please pass in a Service object\n",
      "  driver=webdriver.Chrome(PATH)\n"
     ]
    },
    {
     "name": "stdout",
     "output_type": "stream",
     "text": [
      "error 1\n",
      "error 4\n",
      "todo OK\n",
      "https://open.spotify.com/track/6Vyzd0DtqU41EBG461P6Ke?si=a697da4d57cd4a02\n"
     ]
    },
    {
     "name": "stderr",
     "output_type": "stream",
     "text": [
      "/var/folders/s4/79ykyqjn7f16bdl_zqjgsbzh0000gp/T/ipykernel_14170/863171515.py:4: DeprecationWarning: executable_path has been deprecated, please pass in a Service object\n",
      "  driver=webdriver.Chrome(PATH)\n"
     ]
    },
    {
     "name": "stdout",
     "output_type": "stream",
     "text": [
      "todo OK\n",
      "https://open.spotify.com/track/1M36E6koEcVu2IwigTiBNv?si=07c8594041924fab\n"
     ]
    },
    {
     "name": "stderr",
     "output_type": "stream",
     "text": [
      "/var/folders/s4/79ykyqjn7f16bdl_zqjgsbzh0000gp/T/ipykernel_14170/863171515.py:4: DeprecationWarning: executable_path has been deprecated, please pass in a Service object\n",
      "  driver=webdriver.Chrome(PATH)\n"
     ]
    },
    {
     "name": "stdout",
     "output_type": "stream",
     "text": [
      "error 4\n",
      "todo OK\n",
      "https://open.spotify.com/track/1M36E6koEcVu2IwigTiBNv?si=07c8594041924fab\n"
     ]
    },
    {
     "name": "stderr",
     "output_type": "stream",
     "text": [
      "/var/folders/s4/79ykyqjn7f16bdl_zqjgsbzh0000gp/T/ipykernel_14170/863171515.py:4: DeprecationWarning: executable_path has been deprecated, please pass in a Service object\n",
      "  driver=webdriver.Chrome(PATH)\n"
     ]
    },
    {
     "name": "stdout",
     "output_type": "stream",
     "text": [
      "error 1\n",
      "error 4\n",
      "todo OK\n",
      "https://open.spotify.com/track/1M36E6koEcVu2IwigTiBNv?si=07c8594041924fab\n"
     ]
    },
    {
     "name": "stderr",
     "output_type": "stream",
     "text": [
      "/var/folders/s4/79ykyqjn7f16bdl_zqjgsbzh0000gp/T/ipykernel_14170/863171515.py:4: DeprecationWarning: executable_path has been deprecated, please pass in a Service object\n",
      "  driver=webdriver.Chrome(PATH)\n"
     ]
    },
    {
     "name": "stdout",
     "output_type": "stream",
     "text": [
      "error 1\n",
      "todo OK\n",
      "https://open.spotify.com/track/6RUpJeXT6U4SPEafnr9Wr7?si=6589405b865840ef\n"
     ]
    },
    {
     "name": "stderr",
     "output_type": "stream",
     "text": [
      "/var/folders/s4/79ykyqjn7f16bdl_zqjgsbzh0000gp/T/ipykernel_14170/863171515.py:4: DeprecationWarning: executable_path has been deprecated, please pass in a Service object\n",
      "  driver=webdriver.Chrome(PATH)\n"
     ]
    },
    {
     "name": "stdout",
     "output_type": "stream",
     "text": [
      "error 0\n",
      "error 1\n",
      "error 3\n",
      "error 4\n",
      "todo OK\n",
      "https://open.spotify.com/track/6RUpJeXT6U4SPEafnr9Wr7?si=6589405b865840ef\n"
     ]
    },
    {
     "name": "stderr",
     "output_type": "stream",
     "text": [
      "/var/folders/s4/79ykyqjn7f16bdl_zqjgsbzh0000gp/T/ipykernel_14170/863171515.py:4: DeprecationWarning: executable_path has been deprecated, please pass in a Service object\n",
      "  driver=webdriver.Chrome(PATH)\n"
     ]
    },
    {
     "name": "stdout",
     "output_type": "stream",
     "text": [
      "error 1\n",
      "todo OK\n",
      "https://open.spotify.com/track/0shK5iZQppbHPQYiy60xs9?si=e5a7a6bafa9848ff\n"
     ]
    },
    {
     "name": "stderr",
     "output_type": "stream",
     "text": [
      "/var/folders/s4/79ykyqjn7f16bdl_zqjgsbzh0000gp/T/ipykernel_14170/863171515.py:4: DeprecationWarning: executable_path has been deprecated, please pass in a Service object\n",
      "  driver=webdriver.Chrome(PATH)\n"
     ]
    },
    {
     "name": "stdout",
     "output_type": "stream",
     "text": [
      "error 1\n",
      "todo OK\n",
      "https://open.spotify.com/track/2hhFpD32iXUd4GaCu6T4wn?si=875f6d8deaca4895\n"
     ]
    },
    {
     "name": "stderr",
     "output_type": "stream",
     "text": [
      "/var/folders/s4/79ykyqjn7f16bdl_zqjgsbzh0000gp/T/ipykernel_14170/863171515.py:4: DeprecationWarning: executable_path has been deprecated, please pass in a Service object\n",
      "  driver=webdriver.Chrome(PATH)\n"
     ]
    },
    {
     "name": "stdout",
     "output_type": "stream",
     "text": [
      "error 1\n",
      "error 4\n",
      "todo OK\n",
      "https://open.spotify.com/track/2hhFpD32iXUd4GaCu6T4wn?si=875f6d8deaca4895\n"
     ]
    },
    {
     "name": "stderr",
     "output_type": "stream",
     "text": [
      "/var/folders/s4/79ykyqjn7f16bdl_zqjgsbzh0000gp/T/ipykernel_14170/863171515.py:4: DeprecationWarning: executable_path has been deprecated, please pass in a Service object\n",
      "  driver=webdriver.Chrome(PATH)\n"
     ]
    },
    {
     "name": "stdout",
     "output_type": "stream",
     "text": [
      "todo OK\n",
      "https://open.spotify.com/track/1SVFxqQIQ1B2XxAagj5coj?si=d4b942b3fc674aeb\n"
     ]
    },
    {
     "name": "stderr",
     "output_type": "stream",
     "text": [
      "/var/folders/s4/79ykyqjn7f16bdl_zqjgsbzh0000gp/T/ipykernel_14170/863171515.py:4: DeprecationWarning: executable_path has been deprecated, please pass in a Service object\n",
      "  driver=webdriver.Chrome(PATH)\n"
     ]
    },
    {
     "name": "stdout",
     "output_type": "stream",
     "text": [
      "error 1\n",
      "todo OK\n",
      "https://open.spotify.com/track/2qBl6nPXhJMTN7A5R9KvqM?si=5f89d6ce0dc546f2\n"
     ]
    },
    {
     "name": "stderr",
     "output_type": "stream",
     "text": [
      "/var/folders/s4/79ykyqjn7f16bdl_zqjgsbzh0000gp/T/ipykernel_14170/863171515.py:4: DeprecationWarning: executable_path has been deprecated, please pass in a Service object\n",
      "  driver=webdriver.Chrome(PATH)\n"
     ]
    },
    {
     "name": "stdout",
     "output_type": "stream",
     "text": [
      "todo OK\n",
      "https://open.spotify.com/track/5HoiZ12WqCuXCFYYKldR0B?si=71bb92ed60e24941\n"
     ]
    },
    {
     "name": "stderr",
     "output_type": "stream",
     "text": [
      "/var/folders/s4/79ykyqjn7f16bdl_zqjgsbzh0000gp/T/ipykernel_14170/863171515.py:4: DeprecationWarning: executable_path has been deprecated, please pass in a Service object\n",
      "  driver=webdriver.Chrome(PATH)\n"
     ]
    },
    {
     "name": "stdout",
     "output_type": "stream",
     "text": [
      "todo OK\n",
      "https://open.spotify.com/track/1zS5TccQwMDp5ZsEnt4FAh?si=424d47916a974456\n"
     ]
    },
    {
     "name": "stderr",
     "output_type": "stream",
     "text": [
      "/var/folders/s4/79ykyqjn7f16bdl_zqjgsbzh0000gp/T/ipykernel_14170/863171515.py:4: DeprecationWarning: executable_path has been deprecated, please pass in a Service object\n",
      "  driver=webdriver.Chrome(PATH)\n"
     ]
    },
    {
     "name": "stdout",
     "output_type": "stream",
     "text": [
      "error 1\n",
      "todo OK\n",
      "https://open.spotify.com/track/2hhFpD32iXUd4GaCu6T4wn?si=b8fc071ddd3b457b\n"
     ]
    },
    {
     "name": "stderr",
     "output_type": "stream",
     "text": [
      "/var/folders/s4/79ykyqjn7f16bdl_zqjgsbzh0000gp/T/ipykernel_14170/863171515.py:4: DeprecationWarning: executable_path has been deprecated, please pass in a Service object\n",
      "  driver=webdriver.Chrome(PATH)\n"
     ]
    },
    {
     "name": "stdout",
     "output_type": "stream",
     "text": [
      "error 4\n",
      "todo OK\n",
      "https://open.spotify.com/track/2hhFpD32iXUd4GaCu6T4wn?si=b8fc071ddd3b457b\n"
     ]
    },
    {
     "name": "stderr",
     "output_type": "stream",
     "text": [
      "/var/folders/s4/79ykyqjn7f16bdl_zqjgsbzh0000gp/T/ipykernel_14170/863171515.py:4: DeprecationWarning: executable_path has been deprecated, please pass in a Service object\n",
      "  driver=webdriver.Chrome(PATH)\n"
     ]
    },
    {
     "name": "stdout",
     "output_type": "stream",
     "text": [
      "error 4\n",
      "todo OK\n",
      "https://open.spotify.com/track/2hhFpD32iXUd4GaCu6T4wn?si=b8fc071ddd3b457b\n"
     ]
    },
    {
     "name": "stderr",
     "output_type": "stream",
     "text": [
      "/var/folders/s4/79ykyqjn7f16bdl_zqjgsbzh0000gp/T/ipykernel_14170/863171515.py:4: DeprecationWarning: executable_path has been deprecated, please pass in a Service object\n",
      "  driver=webdriver.Chrome(PATH)\n"
     ]
    },
    {
     "name": "stdout",
     "output_type": "stream",
     "text": [
      "error 1\n",
      "error 4\n",
      "todo OK\n",
      "https://open.spotify.com/track/2hhFpD32iXUd4GaCu6T4wn?si=b8fc071ddd3b457b\n"
     ]
    },
    {
     "name": "stderr",
     "output_type": "stream",
     "text": [
      "/var/folders/s4/79ykyqjn7f16bdl_zqjgsbzh0000gp/T/ipykernel_14170/863171515.py:4: DeprecationWarning: executable_path has been deprecated, please pass in a Service object\n",
      "  driver=webdriver.Chrome(PATH)\n"
     ]
    },
    {
     "name": "stdout",
     "output_type": "stream",
     "text": [
      "todo OK\n",
      "https://open.spotify.com/track/5Evht83kIur1NX0crj1b3N?si=c347727f6be542d6\n"
     ]
    },
    {
     "name": "stderr",
     "output_type": "stream",
     "text": [
      "/var/folders/s4/79ykyqjn7f16bdl_zqjgsbzh0000gp/T/ipykernel_14170/863171515.py:4: DeprecationWarning: executable_path has been deprecated, please pass in a Service object\n",
      "  driver=webdriver.Chrome(PATH)\n"
     ]
    },
    {
     "name": "stdout",
     "output_type": "stream",
     "text": [
      "error 1\n",
      "todo OK\n",
      "https://open.spotify.com/track/2knr7ikPt4l7bk92qS4ZXW?si=8b21f405784f471a\n"
     ]
    },
    {
     "name": "stderr",
     "output_type": "stream",
     "text": [
      "/var/folders/s4/79ykyqjn7f16bdl_zqjgsbzh0000gp/T/ipykernel_14170/863171515.py:4: DeprecationWarning: executable_path has been deprecated, please pass in a Service object\n",
      "  driver=webdriver.Chrome(PATH)\n"
     ]
    },
    {
     "name": "stdout",
     "output_type": "stream",
     "text": [
      "error 4\n",
      "todo OK\n",
      "https://open.spotify.com/track/2knr7ikPt4l7bk92qS4ZXW?si=8b21f405784f471a\n"
     ]
    },
    {
     "name": "stderr",
     "output_type": "stream",
     "text": [
      "/var/folders/s4/79ykyqjn7f16bdl_zqjgsbzh0000gp/T/ipykernel_14170/863171515.py:4: DeprecationWarning: executable_path has been deprecated, please pass in a Service object\n",
      "  driver=webdriver.Chrome(PATH)\n"
     ]
    },
    {
     "name": "stdout",
     "output_type": "stream",
     "text": [
      "error 1\n",
      "todo OK\n",
      "https://open.spotify.com/track/3y8iAwPEiuZ2U7Ekncfs65?si=7c92c7d278304eac\n"
     ]
    },
    {
     "name": "stderr",
     "output_type": "stream",
     "text": [
      "/var/folders/s4/79ykyqjn7f16bdl_zqjgsbzh0000gp/T/ipykernel_14170/863171515.py:4: DeprecationWarning: executable_path has been deprecated, please pass in a Service object\n",
      "  driver=webdriver.Chrome(PATH)\n"
     ]
    },
    {
     "name": "stdout",
     "output_type": "stream",
     "text": [
      "error 0\n",
      "error 1\n",
      "error 2\n",
      "error 3\n",
      "error 4\n",
      "todo OK\n",
      "https://open.spotify.com/track/3y8iAwPEiuZ2U7Ekncfs65?si=7c92c7d278304eac\n"
     ]
    },
    {
     "name": "stderr",
     "output_type": "stream",
     "text": [
      "/var/folders/s4/79ykyqjn7f16bdl_zqjgsbzh0000gp/T/ipykernel_14170/863171515.py:4: DeprecationWarning: executable_path has been deprecated, please pass in a Service object\n",
      "  driver=webdriver.Chrome(PATH)\n"
     ]
    },
    {
     "name": "stdout",
     "output_type": "stream",
     "text": [
      "error 1\n",
      "todo OK\n",
      "https://open.spotify.com/track/4mt7C6wYeTUWDDk7xKym9w?si=1d074929bf1843f1\n"
     ]
    },
    {
     "name": "stderr",
     "output_type": "stream",
     "text": [
      "/var/folders/s4/79ykyqjn7f16bdl_zqjgsbzh0000gp/T/ipykernel_14170/863171515.py:4: DeprecationWarning: executable_path has been deprecated, please pass in a Service object\n",
      "  driver=webdriver.Chrome(PATH)\n"
     ]
    },
    {
     "name": "stdout",
     "output_type": "stream",
     "text": [
      "todo OK\n",
      "https://open.spotify.com/track/68QcquxCS39cQGTsRrJWIR?si=abb0f7b31a4643dd\n"
     ]
    },
    {
     "name": "stderr",
     "output_type": "stream",
     "text": [
      "/var/folders/s4/79ykyqjn7f16bdl_zqjgsbzh0000gp/T/ipykernel_14170/863171515.py:4: DeprecationWarning: executable_path has been deprecated, please pass in a Service object\n",
      "  driver=webdriver.Chrome(PATH)\n"
     ]
    },
    {
     "name": "stdout",
     "output_type": "stream",
     "text": [
      "error 4\n",
      "todo OK\n",
      "https://open.spotify.com/track/68QcquxCS39cQGTsRrJWIR?si=abb0f7b31a4643dd\n"
     ]
    },
    {
     "name": "stderr",
     "output_type": "stream",
     "text": [
      "/var/folders/s4/79ykyqjn7f16bdl_zqjgsbzh0000gp/T/ipykernel_14170/863171515.py:4: DeprecationWarning: executable_path has been deprecated, please pass in a Service object\n",
      "  driver=webdriver.Chrome(PATH)\n"
     ]
    },
    {
     "name": "stdout",
     "output_type": "stream",
     "text": [
      "error 1\n",
      "error 4\n",
      "todo OK\n",
      "https://open.spotify.com/track/68QcquxCS39cQGTsRrJWIR?si=abb0f7b31a4643dd\n"
     ]
    },
    {
     "name": "stderr",
     "output_type": "stream",
     "text": [
      "/var/folders/s4/79ykyqjn7f16bdl_zqjgsbzh0000gp/T/ipykernel_14170/863171515.py:4: DeprecationWarning: executable_path has been deprecated, please pass in a Service object\n",
      "  driver=webdriver.Chrome(PATH)\n"
     ]
    },
    {
     "name": "stdout",
     "output_type": "stream",
     "text": [
      "todo OK\n",
      "https://open.spotify.com/track/68QcquxCS39cQGTsRrJWIR?si=abb0f7b31a4643dd\n"
     ]
    },
    {
     "name": "stderr",
     "output_type": "stream",
     "text": [
      "/var/folders/s4/79ykyqjn7f16bdl_zqjgsbzh0000gp/T/ipykernel_14170/863171515.py:4: DeprecationWarning: executable_path has been deprecated, please pass in a Service object\n",
      "  driver=webdriver.Chrome(PATH)\n"
     ]
    },
    {
     "name": "stdout",
     "output_type": "stream",
     "text": [
      "error 1\n",
      "todo OK\n",
      "https://open.spotify.com/track/7y3xU9vEC1s8DSuuoSYKih?si=e3824e9072ab460f\n"
     ]
    },
    {
     "name": "stderr",
     "output_type": "stream",
     "text": [
      "/var/folders/s4/79ykyqjn7f16bdl_zqjgsbzh0000gp/T/ipykernel_14170/863171515.py:4: DeprecationWarning: executable_path has been deprecated, please pass in a Service object\n",
      "  driver=webdriver.Chrome(PATH)\n"
     ]
    },
    {
     "name": "stdout",
     "output_type": "stream",
     "text": [
      "error 4\n",
      "todo OK\n",
      "https://open.spotify.com/track/7y3xU9vEC1s8DSuuoSYKih?si=e3824e9072ab460f\n"
     ]
    },
    {
     "name": "stderr",
     "output_type": "stream",
     "text": [
      "/var/folders/s4/79ykyqjn7f16bdl_zqjgsbzh0000gp/T/ipykernel_14170/863171515.py:4: DeprecationWarning: executable_path has been deprecated, please pass in a Service object\n",
      "  driver=webdriver.Chrome(PATH)\n"
     ]
    },
    {
     "name": "stdout",
     "output_type": "stream",
     "text": [
      "error 1\n",
      "todo OK\n",
      "https://open.spotify.com/track/5CC5krEgwJXuoA0F9scOFg?si=8d82cfcd32bb4389\n"
     ]
    },
    {
     "name": "stderr",
     "output_type": "stream",
     "text": [
      "/var/folders/s4/79ykyqjn7f16bdl_zqjgsbzh0000gp/T/ipykernel_14170/863171515.py:4: DeprecationWarning: executable_path has been deprecated, please pass in a Service object\n",
      "  driver=webdriver.Chrome(PATH)\n"
     ]
    },
    {
     "name": "stdout",
     "output_type": "stream",
     "text": [
      "error 1\n",
      "todo OK\n",
      "https://open.spotify.com/track/45Nc6nYgV3yBvAeRaZt689?si=79c77623bae54655\n"
     ]
    },
    {
     "name": "stderr",
     "output_type": "stream",
     "text": [
      "/var/folders/s4/79ykyqjn7f16bdl_zqjgsbzh0000gp/T/ipykernel_14170/863171515.py:4: DeprecationWarning: executable_path has been deprecated, please pass in a Service object\n",
      "  driver=webdriver.Chrome(PATH)\n"
     ]
    },
    {
     "name": "stdout",
     "output_type": "stream",
     "text": [
      "error 1\n",
      "error 4\n",
      "todo OK\n",
      "https://open.spotify.com/track/45Nc6nYgV3yBvAeRaZt689?si=79c77623bae54655\n"
     ]
    },
    {
     "name": "stderr",
     "output_type": "stream",
     "text": [
      "/var/folders/s4/79ykyqjn7f16bdl_zqjgsbzh0000gp/T/ipykernel_14170/863171515.py:4: DeprecationWarning: executable_path has been deprecated, please pass in a Service object\n",
      "  driver=webdriver.Chrome(PATH)\n"
     ]
    },
    {
     "name": "stdout",
     "output_type": "stream",
     "text": [
      "error 1\n",
      "error 4\n",
      "todo OK\n",
      "https://open.spotify.com/track/45Nc6nYgV3yBvAeRaZt689?si=79c77623bae54655\n"
     ]
    },
    {
     "name": "stderr",
     "output_type": "stream",
     "text": [
      "/var/folders/s4/79ykyqjn7f16bdl_zqjgsbzh0000gp/T/ipykernel_14170/863171515.py:4: DeprecationWarning: executable_path has been deprecated, please pass in a Service object\n",
      "  driver=webdriver.Chrome(PATH)\n"
     ]
    },
    {
     "name": "stdout",
     "output_type": "stream",
     "text": [
      "error 1\n",
      "error 4\n",
      "todo OK\n",
      "https://open.spotify.com/track/45Nc6nYgV3yBvAeRaZt689?si=79c77623bae54655\n"
     ]
    },
    {
     "name": "stderr",
     "output_type": "stream",
     "text": [
      "/var/folders/s4/79ykyqjn7f16bdl_zqjgsbzh0000gp/T/ipykernel_14170/863171515.py:4: DeprecationWarning: executable_path has been deprecated, please pass in a Service object\n",
      "  driver=webdriver.Chrome(PATH)\n"
     ]
    },
    {
     "name": "stdout",
     "output_type": "stream",
     "text": [
      "error 1\n",
      "error 4\n",
      "todo OK\n",
      "https://open.spotify.com/track/45Nc6nYgV3yBvAeRaZt689?si=79c77623bae54655\n"
     ]
    },
    {
     "name": "stderr",
     "output_type": "stream",
     "text": [
      "/var/folders/s4/79ykyqjn7f16bdl_zqjgsbzh0000gp/T/ipykernel_14170/863171515.py:4: DeprecationWarning: executable_path has been deprecated, please pass in a Service object\n",
      "  driver=webdriver.Chrome(PATH)\n"
     ]
    },
    {
     "name": "stdout",
     "output_type": "stream",
     "text": [
      "error 1\n",
      "error 4\n",
      "todo OK\n",
      "https://open.spotify.com/track/45Nc6nYgV3yBvAeRaZt689?si=79c77623bae54655\n"
     ]
    },
    {
     "name": "stderr",
     "output_type": "stream",
     "text": [
      "/var/folders/s4/79ykyqjn7f16bdl_zqjgsbzh0000gp/T/ipykernel_14170/863171515.py:4: DeprecationWarning: executable_path has been deprecated, please pass in a Service object\n",
      "  driver=webdriver.Chrome(PATH)\n"
     ]
    },
    {
     "name": "stdout",
     "output_type": "stream",
     "text": [
      "todo OK\n",
      "https://open.spotify.com/track/1RouRzlg8OKFeqc6LvdxmB?si=af41cecae60344f7\n"
     ]
    },
    {
     "name": "stderr",
     "output_type": "stream",
     "text": [
      "/var/folders/s4/79ykyqjn7f16bdl_zqjgsbzh0000gp/T/ipykernel_14170/863171515.py:4: DeprecationWarning: executable_path has been deprecated, please pass in a Service object\n",
      "  driver=webdriver.Chrome(PATH)\n"
     ]
    },
    {
     "name": "stdout",
     "output_type": "stream",
     "text": [
      "error 1\n",
      "todo OK\n",
      "https://open.spotify.com/track/2WPFpC4oQxjBpSgsCoQrCf?si=afaaa1e2642c4408\n"
     ]
    },
    {
     "name": "stderr",
     "output_type": "stream",
     "text": [
      "/var/folders/s4/79ykyqjn7f16bdl_zqjgsbzh0000gp/T/ipykernel_14170/863171515.py:4: DeprecationWarning: executable_path has been deprecated, please pass in a Service object\n",
      "  driver=webdriver.Chrome(PATH)\n"
     ]
    },
    {
     "name": "stdout",
     "output_type": "stream",
     "text": [
      "error 4\n",
      "todo OK\n",
      "https://open.spotify.com/track/2WPFpC4oQxjBpSgsCoQrCf?si=afaaa1e2642c4408\n"
     ]
    },
    {
     "name": "stderr",
     "output_type": "stream",
     "text": [
      "/var/folders/s4/79ykyqjn7f16bdl_zqjgsbzh0000gp/T/ipykernel_14170/863171515.py:4: DeprecationWarning: executable_path has been deprecated, please pass in a Service object\n",
      "  driver=webdriver.Chrome(PATH)\n"
     ]
    },
    {
     "name": "stdout",
     "output_type": "stream",
     "text": [
      "error 0\n",
      "error 1\n",
      "error 2\n",
      "error 3\n",
      "error 4\n",
      "todo OK\n",
      "https://open.spotify.com/track/2WPFpC4oQxjBpSgsCoQrCf?si=afaaa1e2642c4408\n"
     ]
    },
    {
     "name": "stderr",
     "output_type": "stream",
     "text": [
      "/var/folders/s4/79ykyqjn7f16bdl_zqjgsbzh0000gp/T/ipykernel_14170/863171515.py:4: DeprecationWarning: executable_path has been deprecated, please pass in a Service object\n",
      "  driver=webdriver.Chrome(PATH)\n"
     ]
    },
    {
     "name": "stdout",
     "output_type": "stream",
     "text": [
      "error 1\n",
      "todo OK\n",
      "https://open.spotify.com/track/1vkUmedJVhScV9MmRsLGSY?si=b22ebb48aa0443f8\n"
     ]
    },
    {
     "name": "stderr",
     "output_type": "stream",
     "text": [
      "/var/folders/s4/79ykyqjn7f16bdl_zqjgsbzh0000gp/T/ipykernel_14170/863171515.py:4: DeprecationWarning: executable_path has been deprecated, please pass in a Service object\n",
      "  driver=webdriver.Chrome(PATH)\n"
     ]
    },
    {
     "name": "stdout",
     "output_type": "stream",
     "text": [
      "error 1\n",
      "error 4\n",
      "todo OK\n",
      "https://open.spotify.com/track/1vkUmedJVhScV9MmRsLGSY?si=b22ebb48aa0443f8\n"
     ]
    },
    {
     "name": "stderr",
     "output_type": "stream",
     "text": [
      "/var/folders/s4/79ykyqjn7f16bdl_zqjgsbzh0000gp/T/ipykernel_14170/863171515.py:4: DeprecationWarning: executable_path has been deprecated, please pass in a Service object\n",
      "  driver=webdriver.Chrome(PATH)\n"
     ]
    },
    {
     "name": "stdout",
     "output_type": "stream",
     "text": [
      "error 1\n",
      "error 4\n",
      "todo OK\n",
      "https://open.spotify.com/track/1vkUmedJVhScV9MmRsLGSY?si=b22ebb48aa0443f8\n"
     ]
    },
    {
     "name": "stderr",
     "output_type": "stream",
     "text": [
      "/var/folders/s4/79ykyqjn7f16bdl_zqjgsbzh0000gp/T/ipykernel_14170/863171515.py:4: DeprecationWarning: executable_path has been deprecated, please pass in a Service object\n",
      "  driver=webdriver.Chrome(PATH)\n"
     ]
    },
    {
     "name": "stdout",
     "output_type": "stream",
     "text": [
      "error 1\n",
      "error 4\n",
      "todo OK\n",
      "https://open.spotify.com/track/1vkUmedJVhScV9MmRsLGSY?si=b22ebb48aa0443f8\n"
     ]
    },
    {
     "name": "stderr",
     "output_type": "stream",
     "text": [
      "/var/folders/s4/79ykyqjn7f16bdl_zqjgsbzh0000gp/T/ipykernel_14170/863171515.py:4: DeprecationWarning: executable_path has been deprecated, please pass in a Service object\n",
      "  driver=webdriver.Chrome(PATH)\n"
     ]
    },
    {
     "name": "stdout",
     "output_type": "stream",
     "text": [
      "error 1\n",
      "error 4\n",
      "todo OK\n",
      "https://open.spotify.com/track/1vkUmedJVhScV9MmRsLGSY?si=b22ebb48aa0443f8\n"
     ]
    },
    {
     "name": "stderr",
     "output_type": "stream",
     "text": [
      "/var/folders/s4/79ykyqjn7f16bdl_zqjgsbzh0000gp/T/ipykernel_14170/863171515.py:4: DeprecationWarning: executable_path has been deprecated, please pass in a Service object\n",
      "  driver=webdriver.Chrome(PATH)\n"
     ]
    },
    {
     "name": "stdout",
     "output_type": "stream",
     "text": [
      "error 1\n",
      "error 4\n",
      "todo OK\n",
      "https://open.spotify.com/track/1vkUmedJVhScV9MmRsLGSY?si=b22ebb48aa0443f8\n"
     ]
    },
    {
     "name": "stderr",
     "output_type": "stream",
     "text": [
      "/var/folders/s4/79ykyqjn7f16bdl_zqjgsbzh0000gp/T/ipykernel_14170/863171515.py:4: DeprecationWarning: executable_path has been deprecated, please pass in a Service object\n",
      "  driver=webdriver.Chrome(PATH)\n"
     ]
    },
    {
     "name": "stdout",
     "output_type": "stream",
     "text": [
      "error 4\n",
      "todo OK\n",
      "https://open.spotify.com/track/1vkUmedJVhScV9MmRsLGSY?si=b22ebb48aa0443f8\n"
     ]
    },
    {
     "name": "stderr",
     "output_type": "stream",
     "text": [
      "/var/folders/s4/79ykyqjn7f16bdl_zqjgsbzh0000gp/T/ipykernel_14170/863171515.py:4: DeprecationWarning: executable_path has been deprecated, please pass in a Service object\n",
      "  driver=webdriver.Chrome(PATH)\n"
     ]
    },
    {
     "name": "stdout",
     "output_type": "stream",
     "text": [
      "error 1\n",
      "todo OK\n",
      "https://open.spotify.com/track/6jg5SRvdGxvJ0DzNV0UqEK?si=04f0faecacea4cf1\n"
     ]
    },
    {
     "name": "stderr",
     "output_type": "stream",
     "text": [
      "/var/folders/s4/79ykyqjn7f16bdl_zqjgsbzh0000gp/T/ipykernel_14170/863171515.py:4: DeprecationWarning: executable_path has been deprecated, please pass in a Service object\n",
      "  driver=webdriver.Chrome(PATH)\n"
     ]
    },
    {
     "name": "stdout",
     "output_type": "stream",
     "text": [
      "error 4\n",
      "todo OK\n",
      "https://open.spotify.com/track/6jg5SRvdGxvJ0DzNV0UqEK?si=04f0faecacea4cf1\n"
     ]
    },
    {
     "name": "stderr",
     "output_type": "stream",
     "text": [
      "/var/folders/s4/79ykyqjn7f16bdl_zqjgsbzh0000gp/T/ipykernel_14170/863171515.py:4: DeprecationWarning: executable_path has been deprecated, please pass in a Service object\n",
      "  driver=webdriver.Chrome(PATH)\n"
     ]
    },
    {
     "name": "stdout",
     "output_type": "stream",
     "text": [
      "error 1\n",
      "error 4\n",
      "todo OK\n",
      "https://open.spotify.com/track/6jg5SRvdGxvJ0DzNV0UqEK?si=04f0faecacea4cf1\n"
     ]
    },
    {
     "name": "stderr",
     "output_type": "stream",
     "text": [
      "/var/folders/s4/79ykyqjn7f16bdl_zqjgsbzh0000gp/T/ipykernel_14170/863171515.py:4: DeprecationWarning: executable_path has been deprecated, please pass in a Service object\n",
      "  driver=webdriver.Chrome(PATH)\n"
     ]
    },
    {
     "name": "stdout",
     "output_type": "stream",
     "text": [
      "error 4\n",
      "todo OK\n",
      "https://open.spotify.com/track/6jg5SRvdGxvJ0DzNV0UqEK?si=04f0faecacea4cf1\n"
     ]
    },
    {
     "name": "stderr",
     "output_type": "stream",
     "text": [
      "/var/folders/s4/79ykyqjn7f16bdl_zqjgsbzh0000gp/T/ipykernel_14170/863171515.py:4: DeprecationWarning: executable_path has been deprecated, please pass in a Service object\n",
      "  driver=webdriver.Chrome(PATH)\n"
     ]
    },
    {
     "name": "stdout",
     "output_type": "stream",
     "text": [
      "error 4\n",
      "todo OK\n",
      "https://open.spotify.com/track/6jg5SRvdGxvJ0DzNV0UqEK?si=04f0faecacea4cf1\n"
     ]
    },
    {
     "name": "stderr",
     "output_type": "stream",
     "text": [
      "/var/folders/s4/79ykyqjn7f16bdl_zqjgsbzh0000gp/T/ipykernel_14170/863171515.py:4: DeprecationWarning: executable_path has been deprecated, please pass in a Service object\n",
      "  driver=webdriver.Chrome(PATH)\n"
     ]
    },
    {
     "name": "stdout",
     "output_type": "stream",
     "text": [
      "error 1\n",
      "error 4\n",
      "todo OK\n",
      "https://open.spotify.com/track/6jg5SRvdGxvJ0DzNV0UqEK?si=04f0faecacea4cf1\n"
     ]
    },
    {
     "name": "stderr",
     "output_type": "stream",
     "text": [
      "/var/folders/s4/79ykyqjn7f16bdl_zqjgsbzh0000gp/T/ipykernel_14170/863171515.py:4: DeprecationWarning: executable_path has been deprecated, please pass in a Service object\n",
      "  driver=webdriver.Chrome(PATH)\n"
     ]
    },
    {
     "name": "stdout",
     "output_type": "stream",
     "text": [
      "error 1\n",
      "error 4\n",
      "todo OK\n",
      "https://open.spotify.com/track/6jg5SRvdGxvJ0DzNV0UqEK?si=04f0faecacea4cf1\n"
     ]
    },
    {
     "name": "stderr",
     "output_type": "stream",
     "text": [
      "/var/folders/s4/79ykyqjn7f16bdl_zqjgsbzh0000gp/T/ipykernel_14170/863171515.py:4: DeprecationWarning: executable_path has been deprecated, please pass in a Service object\n",
      "  driver=webdriver.Chrome(PATH)\n"
     ]
    },
    {
     "name": "stdout",
     "output_type": "stream",
     "text": [
      "error 4\n",
      "todo OK\n",
      "https://open.spotify.com/track/6jg5SRvdGxvJ0DzNV0UqEK?si=04f0faecacea4cf1\n"
     ]
    },
    {
     "name": "stderr",
     "output_type": "stream",
     "text": [
      "/var/folders/s4/79ykyqjn7f16bdl_zqjgsbzh0000gp/T/ipykernel_14170/863171515.py:4: DeprecationWarning: executable_path has been deprecated, please pass in a Service object\n",
      "  driver=webdriver.Chrome(PATH)\n"
     ]
    },
    {
     "name": "stdout",
     "output_type": "stream",
     "text": [
      "todo OK\n",
      "https://open.spotify.com/track/2VqAEP1yY5T523K7bZtL8a?si=e4dda6b066614864\n"
     ]
    },
    {
     "name": "stderr",
     "output_type": "stream",
     "text": [
      "/var/folders/s4/79ykyqjn7f16bdl_zqjgsbzh0000gp/T/ipykernel_14170/863171515.py:4: DeprecationWarning: executable_path has been deprecated, please pass in a Service object\n",
      "  driver=webdriver.Chrome(PATH)\n"
     ]
    },
    {
     "name": "stdout",
     "output_type": "stream",
     "text": [
      "error 1\n",
      "error 4\n",
      "todo OK\n",
      "https://open.spotify.com/track/2VqAEP1yY5T523K7bZtL8a?si=e4dda6b066614864\n"
     ]
    },
    {
     "name": "stderr",
     "output_type": "stream",
     "text": [
      "/var/folders/s4/79ykyqjn7f16bdl_zqjgsbzh0000gp/T/ipykernel_14170/863171515.py:4: DeprecationWarning: executable_path has been deprecated, please pass in a Service object\n",
      "  driver=webdriver.Chrome(PATH)\n"
     ]
    },
    {
     "name": "stdout",
     "output_type": "stream",
     "text": [
      "error 4\n",
      "todo OK\n",
      "https://open.spotify.com/track/2VqAEP1yY5T523K7bZtL8a?si=e4dda6b066614864\n"
     ]
    },
    {
     "name": "stderr",
     "output_type": "stream",
     "text": [
      "/var/folders/s4/79ykyqjn7f16bdl_zqjgsbzh0000gp/T/ipykernel_14170/863171515.py:4: DeprecationWarning: executable_path has been deprecated, please pass in a Service object\n",
      "  driver=webdriver.Chrome(PATH)\n"
     ]
    },
    {
     "name": "stdout",
     "output_type": "stream",
     "text": [
      "error 4\n",
      "todo OK\n",
      "https://open.spotify.com/track/2VqAEP1yY5T523K7bZtL8a?si=e4dda6b066614864\n"
     ]
    },
    {
     "name": "stderr",
     "output_type": "stream",
     "text": [
      "/var/folders/s4/79ykyqjn7f16bdl_zqjgsbzh0000gp/T/ipykernel_14170/863171515.py:4: DeprecationWarning: executable_path has been deprecated, please pass in a Service object\n",
      "  driver=webdriver.Chrome(PATH)\n"
     ]
    },
    {
     "name": "stdout",
     "output_type": "stream",
     "text": [
      "error 4\n",
      "todo OK\n",
      "https://open.spotify.com/track/2VqAEP1yY5T523K7bZtL8a?si=e4dda6b066614864\n"
     ]
    },
    {
     "name": "stderr",
     "output_type": "stream",
     "text": [
      "/var/folders/s4/79ykyqjn7f16bdl_zqjgsbzh0000gp/T/ipykernel_14170/863171515.py:4: DeprecationWarning: executable_path has been deprecated, please pass in a Service object\n",
      "  driver=webdriver.Chrome(PATH)\n"
     ]
    },
    {
     "name": "stdout",
     "output_type": "stream",
     "text": [
      "error 1\n",
      "todo OK\n",
      "https://open.spotify.com/track/7hDoDpEY97seZgLye0XDhD?si=4261531b073a4154\n"
     ]
    },
    {
     "name": "stderr",
     "output_type": "stream",
     "text": [
      "/var/folders/s4/79ykyqjn7f16bdl_zqjgsbzh0000gp/T/ipykernel_14170/863171515.py:4: DeprecationWarning: executable_path has been deprecated, please pass in a Service object\n",
      "  driver=webdriver.Chrome(PATH)\n"
     ]
    },
    {
     "name": "stdout",
     "output_type": "stream",
     "text": [
      "error 1\n",
      "error 4\n",
      "todo OK\n",
      "https://open.spotify.com/track/\n"
     ]
    },
    {
     "name": "stderr",
     "output_type": "stream",
     "text": [
      "/var/folders/s4/79ykyqjn7f16bdl_zqjgsbzh0000gp/T/ipykernel_14170/863171515.py:4: DeprecationWarning: executable_path has been deprecated, please pass in a Service object\n",
      "  driver=webdriver.Chrome(PATH)\n"
     ]
    },
    {
     "name": "stdout",
     "output_type": "stream",
     "text": [
      "error 0\n",
      "error 1\n",
      "error 3\n",
      "error 4\n",
      "todo OK\n",
      "https://open.spotify.com/track/\n"
     ]
    },
    {
     "name": "stderr",
     "output_type": "stream",
     "text": [
      "/var/folders/s4/79ykyqjn7f16bdl_zqjgsbzh0000gp/T/ipykernel_14170/863171515.py:4: DeprecationWarning: executable_path has been deprecated, please pass in a Service object\n",
      "  driver=webdriver.Chrome(PATH)\n"
     ]
    },
    {
     "name": "stdout",
     "output_type": "stream",
     "text": [
      "error 4\n",
      "todo OK\n",
      "https://open.spotify.com/track/\n"
     ]
    },
    {
     "name": "stderr",
     "output_type": "stream",
     "text": [
      "/var/folders/s4/79ykyqjn7f16bdl_zqjgsbzh0000gp/T/ipykernel_14170/863171515.py:4: DeprecationWarning: executable_path has been deprecated, please pass in a Service object\n",
      "  driver=webdriver.Chrome(PATH)\n"
     ]
    },
    {
     "name": "stdout",
     "output_type": "stream",
     "text": [
      "error 4\n",
      "todo OK\n",
      "https://open.spotify.com/track/\n"
     ]
    },
    {
     "name": "stderr",
     "output_type": "stream",
     "text": [
      "/var/folders/s4/79ykyqjn7f16bdl_zqjgsbzh0000gp/T/ipykernel_14170/863171515.py:4: DeprecationWarning: executable_path has been deprecated, please pass in a Service object\n",
      "  driver=webdriver.Chrome(PATH)\n"
     ]
    },
    {
     "name": "stdout",
     "output_type": "stream",
     "text": [
      "todo OK\n",
      "https://open.spotify.com/track/257iWGNkZcjqpRRqMBlQIQ?si=714f970cc43841fc\n"
     ]
    },
    {
     "name": "stderr",
     "output_type": "stream",
     "text": [
      "/var/folders/s4/79ykyqjn7f16bdl_zqjgsbzh0000gp/T/ipykernel_14170/863171515.py:4: DeprecationWarning: executable_path has been deprecated, please pass in a Service object\n",
      "  driver=webdriver.Chrome(PATH)\n"
     ]
    },
    {
     "name": "stdout",
     "output_type": "stream",
     "text": [
      "error 4\n",
      "todo OK\n",
      "https://open.spotify.com/track/257iWGNkZcjqpRRqMBlQIQ?si=714f970cc43841fc\n"
     ]
    },
    {
     "name": "stderr",
     "output_type": "stream",
     "text": [
      "/var/folders/s4/79ykyqjn7f16bdl_zqjgsbzh0000gp/T/ipykernel_14170/863171515.py:4: DeprecationWarning: executable_path has been deprecated, please pass in a Service object\n",
      "  driver=webdriver.Chrome(PATH)\n"
     ]
    },
    {
     "name": "stdout",
     "output_type": "stream",
     "text": [
      "error 1\n",
      "error 4\n",
      "todo OK\n",
      "hola\n"
     ]
    },
    {
     "name": "stderr",
     "output_type": "stream",
     "text": [
      "/var/folders/s4/79ykyqjn7f16bdl_zqjgsbzh0000gp/T/ipykernel_14170/863171515.py:4: DeprecationWarning: executable_path has been deprecated, please pass in a Service object\n",
      "  driver=webdriver.Chrome(PATH)\n"
     ]
    },
    {
     "name": "stdout",
     "output_type": "stream",
     "text": [
      "error 1\n",
      "error 4\n",
      "todo OK\n",
      "hola\n"
     ]
    },
    {
     "name": "stderr",
     "output_type": "stream",
     "text": [
      "/var/folders/s4/79ykyqjn7f16bdl_zqjgsbzh0000gp/T/ipykernel_14170/863171515.py:4: DeprecationWarning: executable_path has been deprecated, please pass in a Service object\n",
      "  driver=webdriver.Chrome(PATH)\n"
     ]
    },
    {
     "name": "stdout",
     "output_type": "stream",
     "text": [
      "error 1\n",
      "todo OK\n",
      "https://open.spotify.com/track/6ic8OlLUNEATToEFU3xmaH?si=b84d9157d84e473f\n"
     ]
    },
    {
     "name": "stderr",
     "output_type": "stream",
     "text": [
      "/var/folders/s4/79ykyqjn7f16bdl_zqjgsbzh0000gp/T/ipykernel_14170/863171515.py:4: DeprecationWarning: executable_path has been deprecated, please pass in a Service object\n",
      "  driver=webdriver.Chrome(PATH)\n"
     ]
    },
    {
     "name": "stdout",
     "output_type": "stream",
     "text": [
      "todo OK\n",
      "https://open.spotify.com/track/1sl1cpix9GnwNwaVt04BIu?si=c413ef03913040dd\n"
     ]
    },
    {
     "name": "stderr",
     "output_type": "stream",
     "text": [
      "/var/folders/s4/79ykyqjn7f16bdl_zqjgsbzh0000gp/T/ipykernel_14170/863171515.py:4: DeprecationWarning: executable_path has been deprecated, please pass in a Service object\n",
      "  driver=webdriver.Chrome(PATH)\n"
     ]
    },
    {
     "name": "stdout",
     "output_type": "stream",
     "text": [
      "error 4\n",
      "todo OK\n",
      "https://open.spotify.com/track/1sl1cpix9GnwNwaVt04BIu?si=c413ef03913040dd\n"
     ]
    },
    {
     "name": "stderr",
     "output_type": "stream",
     "text": [
      "/var/folders/s4/79ykyqjn7f16bdl_zqjgsbzh0000gp/T/ipykernel_14170/863171515.py:4: DeprecationWarning: executable_path has been deprecated, please pass in a Service object\n",
      "  driver=webdriver.Chrome(PATH)\n"
     ]
    },
    {
     "name": "stdout",
     "output_type": "stream",
     "text": [
      "error 4\n",
      "todo OK\n",
      "https://open.spotify.com/track/1sl1cpix9GnwNwaVt04BIu?si=c413ef03913040dd\n"
     ]
    },
    {
     "name": "stderr",
     "output_type": "stream",
     "text": [
      "/var/folders/s4/79ykyqjn7f16bdl_zqjgsbzh0000gp/T/ipykernel_14170/863171515.py:4: DeprecationWarning: executable_path has been deprecated, please pass in a Service object\n",
      "  driver=webdriver.Chrome(PATH)\n"
     ]
    },
    {
     "name": "stdout",
     "output_type": "stream",
     "text": [
      "todo OK\n",
      "https://open.spotify.com/track/0BxfFnk0YzONqvmrkO0QrB?si=60b5f0cf8b6141a0\n"
     ]
    },
    {
     "name": "stderr",
     "output_type": "stream",
     "text": [
      "/var/folders/s4/79ykyqjn7f16bdl_zqjgsbzh0000gp/T/ipykernel_14170/863171515.py:4: DeprecationWarning: executable_path has been deprecated, please pass in a Service object\n",
      "  driver=webdriver.Chrome(PATH)\n"
     ]
    },
    {
     "name": "stdout",
     "output_type": "stream",
     "text": [
      "error 4\n",
      "todo OK\n",
      "https://open.spotify.com/track/0BxfFnk0YzONqvmrkO0QrB?si=60b5f0cf8b6141a0\n"
     ]
    },
    {
     "name": "stderr",
     "output_type": "stream",
     "text": [
      "/var/folders/s4/79ykyqjn7f16bdl_zqjgsbzh0000gp/T/ipykernel_14170/863171515.py:4: DeprecationWarning: executable_path has been deprecated, please pass in a Service object\n",
      "  driver=webdriver.Chrome(PATH)\n"
     ]
    },
    {
     "name": "stdout",
     "output_type": "stream",
     "text": [
      "error 1\n",
      "error 4\n",
      "todo OK\n",
      "https://open.spotify.com/track/0BxfFnk0YzONqvmrkO0QrB?si=60b5f0cf8b6141a0\n"
     ]
    },
    {
     "name": "stderr",
     "output_type": "stream",
     "text": [
      "/var/folders/s4/79ykyqjn7f16bdl_zqjgsbzh0000gp/T/ipykernel_14170/863171515.py:4: DeprecationWarning: executable_path has been deprecated, please pass in a Service object\n",
      "  driver=webdriver.Chrome(PATH)\n"
     ]
    },
    {
     "name": "stdout",
     "output_type": "stream",
     "text": [
      "error 4\n",
      "todo OK\n",
      "https://open.spotify.com/track/0BxfFnk0YzONqvmrkO0QrB?si=60b5f0cf8b6141a0\n"
     ]
    },
    {
     "name": "stderr",
     "output_type": "stream",
     "text": [
      "/var/folders/s4/79ykyqjn7f16bdl_zqjgsbzh0000gp/T/ipykernel_14170/863171515.py:4: DeprecationWarning: executable_path has been deprecated, please pass in a Service object\n",
      "  driver=webdriver.Chrome(PATH)\n"
     ]
    },
    {
     "name": "stdout",
     "output_type": "stream",
     "text": [
      "error 1\n",
      "error 4\n",
      "todo OK\n",
      "https://open.spotify.com/track/0BxfFnk0YzONqvmrkO0QrB?si=60b5f0cf8b6141a0\n"
     ]
    },
    {
     "name": "stderr",
     "output_type": "stream",
     "text": [
      "/var/folders/s4/79ykyqjn7f16bdl_zqjgsbzh0000gp/T/ipykernel_14170/863171515.py:4: DeprecationWarning: executable_path has been deprecated, please pass in a Service object\n",
      "  driver=webdriver.Chrome(PATH)\n"
     ]
    },
    {
     "name": "stdout",
     "output_type": "stream",
     "text": [
      "todo OK\n",
      "https://open.spotify.com/track/4D6TpthzUVNTjWQqfBW5Kb?si=10999c999e8d4168\n"
     ]
    },
    {
     "name": "stderr",
     "output_type": "stream",
     "text": [
      "/var/folders/s4/79ykyqjn7f16bdl_zqjgsbzh0000gp/T/ipykernel_14170/863171515.py:4: DeprecationWarning: executable_path has been deprecated, please pass in a Service object\n",
      "  driver=webdriver.Chrome(PATH)\n"
     ]
    },
    {
     "name": "stdout",
     "output_type": "stream",
     "text": [
      "todo OK\n",
      "https://open.spotify.com/track/22L7bfCiAkJo5xGSQgmiIO?si=b759bbb76e37486e\n"
     ]
    },
    {
     "name": "stderr",
     "output_type": "stream",
     "text": [
      "/var/folders/s4/79ykyqjn7f16bdl_zqjgsbzh0000gp/T/ipykernel_14170/863171515.py:4: DeprecationWarning: executable_path has been deprecated, please pass in a Service object\n",
      "  driver=webdriver.Chrome(PATH)\n"
     ]
    },
    {
     "name": "stdout",
     "output_type": "stream",
     "text": [
      "error 4\n",
      "todo OK\n",
      "https://open.spotify.com/track/22L7bfCiAkJo5xGSQgmiIO?si=b759bbb76e37486e\n"
     ]
    },
    {
     "name": "stderr",
     "output_type": "stream",
     "text": [
      "/var/folders/s4/79ykyqjn7f16bdl_zqjgsbzh0000gp/T/ipykernel_14170/863171515.py:4: DeprecationWarning: executable_path has been deprecated, please pass in a Service object\n",
      "  driver=webdriver.Chrome(PATH)\n"
     ]
    },
    {
     "name": "stdout",
     "output_type": "stream",
     "text": [
      "error 4\n",
      "todo OK\n",
      "https://open.spotify.com/track/22L7bfCiAkJo5xGSQgmiIO?si=b759bbb76e37486e\n"
     ]
    },
    {
     "name": "stderr",
     "output_type": "stream",
     "text": [
      "/var/folders/s4/79ykyqjn7f16bdl_zqjgsbzh0000gp/T/ipykernel_14170/863171515.py:4: DeprecationWarning: executable_path has been deprecated, please pass in a Service object\n",
      "  driver=webdriver.Chrome(PATH)\n"
     ]
    },
    {
     "name": "stdout",
     "output_type": "stream",
     "text": [
      "todo OK\n",
      "https://open.spotify.com/track/27OeeYzk6klgBh83TSvGMA?si=096e7937bd83440e\n"
     ]
    },
    {
     "name": "stderr",
     "output_type": "stream",
     "text": [
      "/var/folders/s4/79ykyqjn7f16bdl_zqjgsbzh0000gp/T/ipykernel_14170/863171515.py:4: DeprecationWarning: executable_path has been deprecated, please pass in a Service object\n",
      "  driver=webdriver.Chrome(PATH)\n"
     ]
    },
    {
     "name": "stdout",
     "output_type": "stream",
     "text": [
      "error 4\n",
      "todo OK\n",
      "https://open.spotify.com/track/27OeeYzk6klgBh83TSvGMA?si=096e7937bd83440e\n"
     ]
    },
    {
     "name": "stderr",
     "output_type": "stream",
     "text": [
      "/var/folders/s4/79ykyqjn7f16bdl_zqjgsbzh0000gp/T/ipykernel_14170/863171515.py:4: DeprecationWarning: executable_path has been deprecated, please pass in a Service object\n",
      "  driver=webdriver.Chrome(PATH)\n"
     ]
    },
    {
     "name": "stdout",
     "output_type": "stream",
     "text": [
      "error 1\n",
      "error 4\n",
      "todo OK\n",
      "https://open.spotify.com/track/27OeeYzk6klgBh83TSvGMA?si=096e7937bd83440e\n"
     ]
    },
    {
     "name": "stderr",
     "output_type": "stream",
     "text": [
      "/var/folders/s4/79ykyqjn7f16bdl_zqjgsbzh0000gp/T/ipykernel_14170/863171515.py:4: DeprecationWarning: executable_path has been deprecated, please pass in a Service object\n",
      "  driver=webdriver.Chrome(PATH)\n"
     ]
    },
    {
     "name": "stdout",
     "output_type": "stream",
     "text": [
      "error 1\n",
      "todo OK\n",
      "https://open.spotify.com/track/2gqWRRCXnma9L8xQ1RdemQ?si=f4f9269b76e040e1\n"
     ]
    },
    {
     "name": "stderr",
     "output_type": "stream",
     "text": [
      "/var/folders/s4/79ykyqjn7f16bdl_zqjgsbzh0000gp/T/ipykernel_14170/863171515.py:4: DeprecationWarning: executable_path has been deprecated, please pass in a Service object\n",
      "  driver=webdriver.Chrome(PATH)\n"
     ]
    },
    {
     "name": "stdout",
     "output_type": "stream",
     "text": [
      "error 1\n",
      "todo OK\n",
      "https://open.spotify.com/track/1ibeKVCiXORhvUpMmtsQWq?si=306646ebca874c5c\n"
     ]
    },
    {
     "name": "stderr",
     "output_type": "stream",
     "text": [
      "/var/folders/s4/79ykyqjn7f16bdl_zqjgsbzh0000gp/T/ipykernel_14170/863171515.py:4: DeprecationWarning: executable_path has been deprecated, please pass in a Service object\n",
      "  driver=webdriver.Chrome(PATH)\n"
     ]
    },
    {
     "name": "stdout",
     "output_type": "stream",
     "text": [
      "error 1\n",
      "todo OK\n",
      "https://open.spotify.com/track/3yzHIAzk3zVE1WgspS8W21?si=d0e465071b6844b1\n"
     ]
    },
    {
     "name": "stderr",
     "output_type": "stream",
     "text": [
      "/var/folders/s4/79ykyqjn7f16bdl_zqjgsbzh0000gp/T/ipykernel_14170/863171515.py:4: DeprecationWarning: executable_path has been deprecated, please pass in a Service object\n",
      "  driver=webdriver.Chrome(PATH)\n"
     ]
    },
    {
     "name": "stdout",
     "output_type": "stream",
     "text": [
      "error 1\n",
      "error 4\n",
      "todo OK\n",
      "https://open.spotify.com/track/3yzHIAzk3zVE1WgspS8W21?si=d0e465071b6844b1\n"
     ]
    },
    {
     "name": "stderr",
     "output_type": "stream",
     "text": [
      "/var/folders/s4/79ykyqjn7f16bdl_zqjgsbzh0000gp/T/ipykernel_14170/863171515.py:4: DeprecationWarning: executable_path has been deprecated, please pass in a Service object\n",
      "  driver=webdriver.Chrome(PATH)\n"
     ]
    },
    {
     "name": "stdout",
     "output_type": "stream",
     "text": [
      "error 1\n",
      "todo OK\n",
      "https://open.spotify.com/track/7BIy3EGQhg98CsRdKYHnJC?si=dc209b9c2f494860\n"
     ]
    },
    {
     "name": "stderr",
     "output_type": "stream",
     "text": [
      "/var/folders/s4/79ykyqjn7f16bdl_zqjgsbzh0000gp/T/ipykernel_14170/863171515.py:4: DeprecationWarning: executable_path has been deprecated, please pass in a Service object\n",
      "  driver=webdriver.Chrome(PATH)\n"
     ]
    },
    {
     "name": "stdout",
     "output_type": "stream",
     "text": [
      "error 1\n",
      "todo OK\n",
      "https://open.spotify.com/track/7wD6WAp1lowdxnvEfgyvNV?si=b8b70e9fd65f42b5\n"
     ]
    },
    {
     "name": "stderr",
     "output_type": "stream",
     "text": [
      "/var/folders/s4/79ykyqjn7f16bdl_zqjgsbzh0000gp/T/ipykernel_14170/863171515.py:4: DeprecationWarning: executable_path has been deprecated, please pass in a Service object\n",
      "  driver=webdriver.Chrome(PATH)\n"
     ]
    },
    {
     "name": "stdout",
     "output_type": "stream",
     "text": [
      "error 1\n",
      "todo OK\n",
      "https://open.spotify.com/track/0fwIHsKXNEcb57u2um7z9I?si=f7d851c45267403a\n"
     ]
    },
    {
     "name": "stderr",
     "output_type": "stream",
     "text": [
      "/var/folders/s4/79ykyqjn7f16bdl_zqjgsbzh0000gp/T/ipykernel_14170/863171515.py:4: DeprecationWarning: executable_path has been deprecated, please pass in a Service object\n",
      "  driver=webdriver.Chrome(PATH)\n"
     ]
    },
    {
     "name": "stdout",
     "output_type": "stream",
     "text": [
      "error 1\n",
      "error 4\n",
      "todo OK\n",
      "https://open.spotify.com/track/0fwIHsKXNEcb57u2um7z9I?si=f7d851c45267403a\n"
     ]
    },
    {
     "name": "stderr",
     "output_type": "stream",
     "text": [
      "/var/folders/s4/79ykyqjn7f16bdl_zqjgsbzh0000gp/T/ipykernel_14170/863171515.py:4: DeprecationWarning: executable_path has been deprecated, please pass in a Service object\n",
      "  driver=webdriver.Chrome(PATH)\n"
     ]
    },
    {
     "name": "stdout",
     "output_type": "stream",
     "text": [
      "error 1\n",
      "todo OK\n",
      "https://open.spotify.com/track/17nOJOcPbcl4sKzM2yyYDp?si=7889c510fd514652\n"
     ]
    },
    {
     "name": "stderr",
     "output_type": "stream",
     "text": [
      "/var/folders/s4/79ykyqjn7f16bdl_zqjgsbzh0000gp/T/ipykernel_14170/863171515.py:4: DeprecationWarning: executable_path has been deprecated, please pass in a Service object\n",
      "  driver=webdriver.Chrome(PATH)\n"
     ]
    },
    {
     "name": "stdout",
     "output_type": "stream",
     "text": [
      "todo OK\n",
      "https://open.spotify.com/track/7AjfklMN4WpQYz5FkT4E66?si=953806031e9c4a0c\n"
     ]
    },
    {
     "name": "stderr",
     "output_type": "stream",
     "text": [
      "/var/folders/s4/79ykyqjn7f16bdl_zqjgsbzh0000gp/T/ipykernel_14170/863171515.py:4: DeprecationWarning: executable_path has been deprecated, please pass in a Service object\n",
      "  driver=webdriver.Chrome(PATH)\n"
     ]
    },
    {
     "name": "stdout",
     "output_type": "stream",
     "text": [
      "error 1\n",
      "todo OK\n",
      "https://open.spotify.com/track/7rt0kEDWRg3pgTZJKuszoE?si=e163f7ff83d04653\n"
     ]
    },
    {
     "name": "stderr",
     "output_type": "stream",
     "text": [
      "/var/folders/s4/79ykyqjn7f16bdl_zqjgsbzh0000gp/T/ipykernel_14170/863171515.py:4: DeprecationWarning: executable_path has been deprecated, please pass in a Service object\n",
      "  driver=webdriver.Chrome(PATH)\n"
     ]
    },
    {
     "name": "stdout",
     "output_type": "stream",
     "text": [
      "error 1\n",
      "todo OK\n",
      "https://open.spotify.com/track/7hzgk557YLr0722EFkmp9Z?si=741edbe3741a43ca\n"
     ]
    },
    {
     "name": "stderr",
     "output_type": "stream",
     "text": [
      "/var/folders/s4/79ykyqjn7f16bdl_zqjgsbzh0000gp/T/ipykernel_14170/863171515.py:4: DeprecationWarning: executable_path has been deprecated, please pass in a Service object\n",
      "  driver=webdriver.Chrome(PATH)\n"
     ]
    },
    {
     "name": "stdout",
     "output_type": "stream",
     "text": [
      "error 1\n",
      "todo OK\n",
      "https://open.spotify.com/track/4oPNN7syJYSjzDhRerF966?si=73909cbc1aa34c2b\n"
     ]
    },
    {
     "name": "stderr",
     "output_type": "stream",
     "text": [
      "/var/folders/s4/79ykyqjn7f16bdl_zqjgsbzh0000gp/T/ipykernel_14170/863171515.py:4: DeprecationWarning: executable_path has been deprecated, please pass in a Service object\n",
      "  driver=webdriver.Chrome(PATH)\n"
     ]
    },
    {
     "name": "stdout",
     "output_type": "stream",
     "text": [
      "error 1\n",
      "todo OK\n",
      "https://open.spotify.com/track/2RcanAJpudPNDkyIe9DzKS?si=b978533554424662\n"
     ]
    },
    {
     "name": "stderr",
     "output_type": "stream",
     "text": [
      "/var/folders/s4/79ykyqjn7f16bdl_zqjgsbzh0000gp/T/ipykernel_14170/863171515.py:4: DeprecationWarning: executable_path has been deprecated, please pass in a Service object\n",
      "  driver=webdriver.Chrome(PATH)\n"
     ]
    },
    {
     "name": "stdout",
     "output_type": "stream",
     "text": [
      "error 1\n",
      "todo OK\n",
      "https://open.spotify.com/track/456WNXWhDwYOSf5SpTuqxd?si=0a7432de74ae4068\n"
     ]
    },
    {
     "name": "stderr",
     "output_type": "stream",
     "text": [
      "/var/folders/s4/79ykyqjn7f16bdl_zqjgsbzh0000gp/T/ipykernel_14170/863171515.py:4: DeprecationWarning: executable_path has been deprecated, please pass in a Service object\n",
      "  driver=webdriver.Chrome(PATH)\n"
     ]
    },
    {
     "name": "stdout",
     "output_type": "stream",
     "text": [
      "error 1\n",
      "todo OK\n",
      "https://open.spotify.com/track/244AvzGQ4Ksa5637JQu5Gy?si=d27211ccf7734917\n"
     ]
    },
    {
     "name": "stderr",
     "output_type": "stream",
     "text": [
      "/var/folders/s4/79ykyqjn7f16bdl_zqjgsbzh0000gp/T/ipykernel_14170/863171515.py:4: DeprecationWarning: executable_path has been deprecated, please pass in a Service object\n",
      "  driver=webdriver.Chrome(PATH)\n"
     ]
    },
    {
     "name": "stdout",
     "output_type": "stream",
     "text": [
      "error 1\n",
      "error 4\n",
      "todo OK\n",
      "https://open.spotify.com/track/244AvzGQ4Ksa5637JQu5Gy?si=d27211ccf7734917\n"
     ]
    },
    {
     "name": "stderr",
     "output_type": "stream",
     "text": [
      "/var/folders/s4/79ykyqjn7f16bdl_zqjgsbzh0000gp/T/ipykernel_14170/863171515.py:4: DeprecationWarning: executable_path has been deprecated, please pass in a Service object\n",
      "  driver=webdriver.Chrome(PATH)\n"
     ]
    },
    {
     "name": "stdout",
     "output_type": "stream",
     "text": [
      "error 1\n",
      "todo OK\n",
      "https://open.spotify.com/track/244AvzGQ4Ksa5637JQu5Gy?si=d27211ccf7734917\n"
     ]
    },
    {
     "name": "stderr",
     "output_type": "stream",
     "text": [
      "/var/folders/s4/79ykyqjn7f16bdl_zqjgsbzh0000gp/T/ipykernel_14170/863171515.py:4: DeprecationWarning: executable_path has been deprecated, please pass in a Service object\n",
      "  driver=webdriver.Chrome(PATH)\n"
     ]
    },
    {
     "name": "stdout",
     "output_type": "stream",
     "text": [
      "error 4\n",
      "todo OK\n",
      "https://open.spotify.com/track/244AvzGQ4Ksa5637JQu5Gy?si=d27211ccf7734917\n"
     ]
    },
    {
     "name": "stderr",
     "output_type": "stream",
     "text": [
      "/var/folders/s4/79ykyqjn7f16bdl_zqjgsbzh0000gp/T/ipykernel_14170/863171515.py:4: DeprecationWarning: executable_path has been deprecated, please pass in a Service object\n",
      "  driver=webdriver.Chrome(PATH)\n"
     ]
    },
    {
     "name": "stdout",
     "output_type": "stream",
     "text": [
      "error 1\n",
      "todo OK\n",
      "https://open.spotify.com/track/3wA4ronkc8ZcPXUP0fDgYA?si=a103224f0739474c\n"
     ]
    },
    {
     "name": "stderr",
     "output_type": "stream",
     "text": [
      "/var/folders/s4/79ykyqjn7f16bdl_zqjgsbzh0000gp/T/ipykernel_14170/863171515.py:4: DeprecationWarning: executable_path has been deprecated, please pass in a Service object\n",
      "  driver=webdriver.Chrome(PATH)\n"
     ]
    },
    {
     "name": "stdout",
     "output_type": "stream",
     "text": [
      "error 1\n",
      "todo OK\n",
      "https://open.spotify.com/track/7kjjpSYKszLz8TwQXEnqlx?si=ba7261e2e40240d1\n"
     ]
    },
    {
     "name": "stderr",
     "output_type": "stream",
     "text": [
      "/var/folders/s4/79ykyqjn7f16bdl_zqjgsbzh0000gp/T/ipykernel_14170/863171515.py:4: DeprecationWarning: executable_path has been deprecated, please pass in a Service object\n",
      "  driver=webdriver.Chrome(PATH)\n"
     ]
    },
    {
     "name": "stdout",
     "output_type": "stream",
     "text": [
      "error 1\n",
      "todo OK\n",
      "https://open.spotify.com/track/32YHCNItnCdiYaPbw0uTo8?si=7a87127bae874f97\n"
     ]
    },
    {
     "name": "stderr",
     "output_type": "stream",
     "text": [
      "/var/folders/s4/79ykyqjn7f16bdl_zqjgsbzh0000gp/T/ipykernel_14170/863171515.py:4: DeprecationWarning: executable_path has been deprecated, please pass in a Service object\n",
      "  driver=webdriver.Chrome(PATH)\n"
     ]
    },
    {
     "name": "stdout",
     "output_type": "stream",
     "text": [
      "todo OK\n",
      "https://open.spotify.com/track/2PIvq1pGrUjY007X5y1UpM?si=8b889b5283404b25\n"
     ]
    },
    {
     "name": "stderr",
     "output_type": "stream",
     "text": [
      "/var/folders/s4/79ykyqjn7f16bdl_zqjgsbzh0000gp/T/ipykernel_14170/863171515.py:4: DeprecationWarning: executable_path has been deprecated, please pass in a Service object\n",
      "  driver=webdriver.Chrome(PATH)\n"
     ]
    },
    {
     "name": "stdout",
     "output_type": "stream",
     "text": [
      "error 1\n",
      "error 4\n",
      "todo OK\n",
      "https://open.spotify.com/track/2PIvq1pGrUjY007X5y1UpM?si=8b889b5283404b25\n"
     ]
    },
    {
     "name": "stderr",
     "output_type": "stream",
     "text": [
      "/var/folders/s4/79ykyqjn7f16bdl_zqjgsbzh0000gp/T/ipykernel_14170/863171515.py:4: DeprecationWarning: executable_path has been deprecated, please pass in a Service object\n",
      "  driver=webdriver.Chrome(PATH)\n"
     ]
    },
    {
     "name": "stdout",
     "output_type": "stream",
     "text": [
      "todo OK\n",
      "https://open.spotify.com/track/5GbVzc6Ex5LYlLJqzRQhuy?si=952ecdd7d07e43e2\n"
     ]
    },
    {
     "name": "stderr",
     "output_type": "stream",
     "text": [
      "/var/folders/s4/79ykyqjn7f16bdl_zqjgsbzh0000gp/T/ipykernel_14170/863171515.py:4: DeprecationWarning: executable_path has been deprecated, please pass in a Service object\n",
      "  driver=webdriver.Chrome(PATH)\n"
     ]
    },
    {
     "name": "stdout",
     "output_type": "stream",
     "text": [
      "error 1\n",
      "error 4\n",
      "todo OK\n",
      "https://open.spotify.com/track/5GbVzc6Ex5LYlLJqzRQhuy?si=952ecdd7d07e43e2\n"
     ]
    },
    {
     "name": "stderr",
     "output_type": "stream",
     "text": [
      "/var/folders/s4/79ykyqjn7f16bdl_zqjgsbzh0000gp/T/ipykernel_14170/863171515.py:4: DeprecationWarning: executable_path has been deprecated, please pass in a Service object\n",
      "  driver=webdriver.Chrome(PATH)\n"
     ]
    },
    {
     "name": "stdout",
     "output_type": "stream",
     "text": [
      "error 4\n",
      "todo OK\n",
      "https://open.spotify.com/track/5GbVzc6Ex5LYlLJqzRQhuy?si=952ecdd7d07e43e2\n"
     ]
    },
    {
     "name": "stderr",
     "output_type": "stream",
     "text": [
      "/var/folders/s4/79ykyqjn7f16bdl_zqjgsbzh0000gp/T/ipykernel_14170/863171515.py:4: DeprecationWarning: executable_path has been deprecated, please pass in a Service object\n",
      "  driver=webdriver.Chrome(PATH)\n"
     ]
    },
    {
     "name": "stdout",
     "output_type": "stream",
     "text": [
      "error 1\n",
      "todo OK\n",
      "https://open.spotify.com/track/1ai9FDnFQDv18WAtFhMTIz?si=fe6cbfce3e4648e8\n"
     ]
    },
    {
     "name": "stderr",
     "output_type": "stream",
     "text": [
      "/var/folders/s4/79ykyqjn7f16bdl_zqjgsbzh0000gp/T/ipykernel_14170/863171515.py:4: DeprecationWarning: executable_path has been deprecated, please pass in a Service object\n",
      "  driver=webdriver.Chrome(PATH)\n"
     ]
    },
    {
     "name": "stdout",
     "output_type": "stream",
     "text": [
      "error 1\n",
      "error 4\n",
      "todo OK\n",
      "https://open.spotify.com/track/1ai9FDnFQDv18WAtFhMTIz?si=fe6cbfce3e4648e8\n"
     ]
    },
    {
     "name": "stderr",
     "output_type": "stream",
     "text": [
      "/var/folders/s4/79ykyqjn7f16bdl_zqjgsbzh0000gp/T/ipykernel_14170/863171515.py:4: DeprecationWarning: executable_path has been deprecated, please pass in a Service object\n",
      "  driver=webdriver.Chrome(PATH)\n"
     ]
    },
    {
     "name": "stdout",
     "output_type": "stream",
     "text": [
      "error 1\n",
      "error 4\n",
      "todo OK\n",
      "https://open.spotify.com/track/1ai9FDnFQDv18WAtFhMTIz?si=fe6cbfce3e4648e8\n"
     ]
    },
    {
     "name": "stderr",
     "output_type": "stream",
     "text": [
      "/var/folders/s4/79ykyqjn7f16bdl_zqjgsbzh0000gp/T/ipykernel_14170/863171515.py:4: DeprecationWarning: executable_path has been deprecated, please pass in a Service object\n",
      "  driver=webdriver.Chrome(PATH)\n"
     ]
    },
    {
     "name": "stdout",
     "output_type": "stream",
     "text": [
      "error 1\n",
      "todo OK\n",
      "https://open.spotify.com/track/79jQjC6BpnSFuF1CZsOBHh?si=1a1ab56447284b59\n"
     ]
    },
    {
     "name": "stderr",
     "output_type": "stream",
     "text": [
      "/var/folders/s4/79ykyqjn7f16bdl_zqjgsbzh0000gp/T/ipykernel_14170/863171515.py:4: DeprecationWarning: executable_path has been deprecated, please pass in a Service object\n",
      "  driver=webdriver.Chrome(PATH)\n"
     ]
    },
    {
     "name": "stdout",
     "output_type": "stream",
     "text": [
      "error 1\n",
      "todo OK\n",
      "https://open.spotify.com/track/0tRQ7UZtDQtKUkFFRtyTyM?si=105c8dbcd69b4d4f\n"
     ]
    },
    {
     "name": "stderr",
     "output_type": "stream",
     "text": [
      "/var/folders/s4/79ykyqjn7f16bdl_zqjgsbzh0000gp/T/ipykernel_14170/863171515.py:4: DeprecationWarning: executable_path has been deprecated, please pass in a Service object\n",
      "  driver=webdriver.Chrome(PATH)\n"
     ]
    },
    {
     "name": "stdout",
     "output_type": "stream",
     "text": [
      "todo OK\n",
      "https://open.spotify.com/track/0B3wgb9raXYpnjy1euSWlz?si=4923a0d301834fc8\n"
     ]
    },
    {
     "name": "stderr",
     "output_type": "stream",
     "text": [
      "/var/folders/s4/79ykyqjn7f16bdl_zqjgsbzh0000gp/T/ipykernel_14170/863171515.py:4: DeprecationWarning: executable_path has been deprecated, please pass in a Service object\n",
      "  driver=webdriver.Chrome(PATH)\n"
     ]
    },
    {
     "name": "stdout",
     "output_type": "stream",
     "text": [
      "error 1\n",
      "todo OK\n",
      "https://open.spotify.com/track/0s7eMNB8DDKTQ1W3LY5oay?si=c2fff3e8a538414d\n"
     ]
    },
    {
     "name": "stderr",
     "output_type": "stream",
     "text": [
      "/var/folders/s4/79ykyqjn7f16bdl_zqjgsbzh0000gp/T/ipykernel_14170/863171515.py:4: DeprecationWarning: executable_path has been deprecated, please pass in a Service object\n",
      "  driver=webdriver.Chrome(PATH)\n"
     ]
    },
    {
     "name": "stdout",
     "output_type": "stream",
     "text": [
      "todo OK\n",
      "https://open.spotify.com/track/0HL5XOeVxgX1cEPY2KgRRa?si=75a10f806a034df1\n"
     ]
    },
    {
     "name": "stderr",
     "output_type": "stream",
     "text": [
      "/var/folders/s4/79ykyqjn7f16bdl_zqjgsbzh0000gp/T/ipykernel_14170/863171515.py:4: DeprecationWarning: executable_path has been deprecated, please pass in a Service object\n",
      "  driver=webdriver.Chrome(PATH)\n"
     ]
    },
    {
     "name": "stdout",
     "output_type": "stream",
     "text": [
      "todo OK\n",
      "https://open.spotify.com/track/3jfZ9M23l0L7RxzYMTgBTv?si=0c7b9d55dac94480\n"
     ]
    },
    {
     "name": "stderr",
     "output_type": "stream",
     "text": [
      "/var/folders/s4/79ykyqjn7f16bdl_zqjgsbzh0000gp/T/ipykernel_14170/863171515.py:4: DeprecationWarning: executable_path has been deprecated, please pass in a Service object\n",
      "  driver=webdriver.Chrome(PATH)\n"
     ]
    },
    {
     "name": "stdout",
     "output_type": "stream",
     "text": [
      "todo OK\n",
      "https://open.spotify.com/track/04F42oEuKrRComYJfJuyVR?si=e51927c58821463b\n"
     ]
    },
    {
     "name": "stderr",
     "output_type": "stream",
     "text": [
      "/var/folders/s4/79ykyqjn7f16bdl_zqjgsbzh0000gp/T/ipykernel_14170/863171515.py:4: DeprecationWarning: executable_path has been deprecated, please pass in a Service object\n",
      "  driver=webdriver.Chrome(PATH)\n"
     ]
    },
    {
     "name": "stdout",
     "output_type": "stream",
     "text": [
      "error 1\n",
      "todo OK\n",
      "https://open.spotify.com/track/02MWAaffLxlfxAUY7c5dvx?si=0e28057042c54d67\n"
     ]
    },
    {
     "name": "stderr",
     "output_type": "stream",
     "text": [
      "/var/folders/s4/79ykyqjn7f16bdl_zqjgsbzh0000gp/T/ipykernel_14170/863171515.py:4: DeprecationWarning: executable_path has been deprecated, please pass in a Service object\n",
      "  driver=webdriver.Chrome(PATH)\n"
     ]
    },
    {
     "name": "stdout",
     "output_type": "stream",
     "text": [
      "error 1\n",
      "todo OK\n",
      "https://open.spotify.com/track/6AtZLIzUINvExIUy4QhdjP?si=293c7e95909d4f76\n"
     ]
    },
    {
     "name": "stderr",
     "output_type": "stream",
     "text": [
      "/var/folders/s4/79ykyqjn7f16bdl_zqjgsbzh0000gp/T/ipykernel_14170/863171515.py:4: DeprecationWarning: executable_path has been deprecated, please pass in a Service object\n",
      "  driver=webdriver.Chrome(PATH)\n"
     ]
    },
    {
     "name": "stdout",
     "output_type": "stream",
     "text": [
      "error 1\n",
      "todo OK\n",
      "https://open.spotify.com/track/2vpVR1L7Qfkd7D6qFNuorq?si=4d759b45fba1437a\n"
     ]
    },
    {
     "name": "stderr",
     "output_type": "stream",
     "text": [
      "/var/folders/s4/79ykyqjn7f16bdl_zqjgsbzh0000gp/T/ipykernel_14170/863171515.py:4: DeprecationWarning: executable_path has been deprecated, please pass in a Service object\n",
      "  driver=webdriver.Chrome(PATH)\n"
     ]
    },
    {
     "name": "stdout",
     "output_type": "stream",
     "text": [
      "error 1\n",
      "todo OK\n",
      "https://open.spotify.com/track/0JU7KoyKSFgY1zJV2ex6Ee?si=7247869a3b9d4e10\n"
     ]
    },
    {
     "name": "stderr",
     "output_type": "stream",
     "text": [
      "/var/folders/s4/79ykyqjn7f16bdl_zqjgsbzh0000gp/T/ipykernel_14170/863171515.py:4: DeprecationWarning: executable_path has been deprecated, please pass in a Service object\n",
      "  driver=webdriver.Chrome(PATH)\n"
     ]
    },
    {
     "name": "stdout",
     "output_type": "stream",
     "text": [
      "error 1\n",
      "todo OK\n",
      "https://open.spotify.com/track/6LOZws7T3jqZz78unPgFF9?si=5526779e594c433b\n"
     ]
    },
    {
     "name": "stderr",
     "output_type": "stream",
     "text": [
      "/var/folders/s4/79ykyqjn7f16bdl_zqjgsbzh0000gp/T/ipykernel_14170/863171515.py:4: DeprecationWarning: executable_path has been deprecated, please pass in a Service object\n",
      "  driver=webdriver.Chrome(PATH)\n"
     ]
    },
    {
     "name": "stdout",
     "output_type": "stream",
     "text": [
      "error 1\n",
      "todo OK\n",
      "https://open.spotify.com/track/6KfoDhO4XUWSbnyKjNp9c4?si=fa7f55b4e68244a6\n"
     ]
    },
    {
     "name": "stderr",
     "output_type": "stream",
     "text": [
      "/var/folders/s4/79ykyqjn7f16bdl_zqjgsbzh0000gp/T/ipykernel_14170/863171515.py:4: DeprecationWarning: executable_path has been deprecated, please pass in a Service object\n",
      "  driver=webdriver.Chrome(PATH)\n"
     ]
    },
    {
     "name": "stdout",
     "output_type": "stream",
     "text": [
      "error 1\n",
      "error 4\n",
      "todo OK\n",
      "https://open.spotify.com/track/6KfoDhO4XUWSbnyKjNp9c4?si=fa7f55b4e68244a6\n"
     ]
    },
    {
     "name": "stderr",
     "output_type": "stream",
     "text": [
      "/var/folders/s4/79ykyqjn7f16bdl_zqjgsbzh0000gp/T/ipykernel_14170/863171515.py:4: DeprecationWarning: executable_path has been deprecated, please pass in a Service object\n",
      "  driver=webdriver.Chrome(PATH)\n"
     ]
    },
    {
     "name": "stdout",
     "output_type": "stream",
     "text": [
      "error 1\n",
      "todo OK\n",
      "https://open.spotify.com/track/1jVjOcs7QeQZJXScbqvofI?si=5a1dd0ac93d741e7\n"
     ]
    },
    {
     "name": "stderr",
     "output_type": "stream",
     "text": [
      "/var/folders/s4/79ykyqjn7f16bdl_zqjgsbzh0000gp/T/ipykernel_14170/863171515.py:4: DeprecationWarning: executable_path has been deprecated, please pass in a Service object\n",
      "  driver=webdriver.Chrome(PATH)\n"
     ]
    },
    {
     "name": "stdout",
     "output_type": "stream",
     "text": [
      "error 1\n",
      "error 4\n",
      "todo OK\n",
      "https://open.spotify.com/track/1jVjOcs7QeQZJXScbqvofI?si=5a1dd0ac93d741e7\n"
     ]
    },
    {
     "name": "stderr",
     "output_type": "stream",
     "text": [
      "/var/folders/s4/79ykyqjn7f16bdl_zqjgsbzh0000gp/T/ipykernel_14170/863171515.py:4: DeprecationWarning: executable_path has been deprecated, please pass in a Service object\n",
      "  driver=webdriver.Chrome(PATH)\n"
     ]
    },
    {
     "name": "stdout",
     "output_type": "stream",
     "text": [
      "error 0\n",
      "error 1\n",
      "error 3\n",
      "error 4\n",
      "todo OK\n",
      "https://open.spotify.com/track/1jVjOcs7QeQZJXScbqvofI?si=5a1dd0ac93d741e7\n"
     ]
    },
    {
     "name": "stderr",
     "output_type": "stream",
     "text": [
      "/var/folders/s4/79ykyqjn7f16bdl_zqjgsbzh0000gp/T/ipykernel_14170/863171515.py:4: DeprecationWarning: executable_path has been deprecated, please pass in a Service object\n",
      "  driver=webdriver.Chrome(PATH)\n"
     ]
    },
    {
     "name": "stdout",
     "output_type": "stream",
     "text": [
      "error 1\n",
      "error 4\n",
      "todo OK\n",
      "https://open.spotify.com/track/1jVjOcs7QeQZJXScbqvofI?si=5a1dd0ac93d741e7\n"
     ]
    },
    {
     "name": "stderr",
     "output_type": "stream",
     "text": [
      "/var/folders/s4/79ykyqjn7f16bdl_zqjgsbzh0000gp/T/ipykernel_14170/863171515.py:4: DeprecationWarning: executable_path has been deprecated, please pass in a Service object\n",
      "  driver=webdriver.Chrome(PATH)\n"
     ]
    },
    {
     "name": "stdout",
     "output_type": "stream",
     "text": [
      "error 1\n",
      "todo OK\n",
      "https://open.spotify.com/track/0W95eMaAxNVYTquOsXXkC5?si=8f5031044a86410b\n"
     ]
    },
    {
     "name": "stderr",
     "output_type": "stream",
     "text": [
      "/var/folders/s4/79ykyqjn7f16bdl_zqjgsbzh0000gp/T/ipykernel_14170/863171515.py:4: DeprecationWarning: executable_path has been deprecated, please pass in a Service object\n",
      "  driver=webdriver.Chrome(PATH)\n"
     ]
    },
    {
     "name": "stdout",
     "output_type": "stream",
     "text": [
      "error 1\n",
      "error 4\n",
      "todo OK\n",
      "https://open.spotify.com/track/0W95eMaAxNVYTquOsXXkC5?si=8f5031044a86410b\n"
     ]
    },
    {
     "name": "stderr",
     "output_type": "stream",
     "text": [
      "/var/folders/s4/79ykyqjn7f16bdl_zqjgsbzh0000gp/T/ipykernel_14170/863171515.py:4: DeprecationWarning: executable_path has been deprecated, please pass in a Service object\n",
      "  driver=webdriver.Chrome(PATH)\n"
     ]
    },
    {
     "name": "stdout",
     "output_type": "stream",
     "text": [
      "error 1\n",
      "error 4\n",
      "todo OK\n",
      "https://open.spotify.com/track/0W95eMaAxNVYTquOsXXkC5?si=8f5031044a86410b\n"
     ]
    },
    {
     "name": "stderr",
     "output_type": "stream",
     "text": [
      "/var/folders/s4/79ykyqjn7f16bdl_zqjgsbzh0000gp/T/ipykernel_14170/863171515.py:4: DeprecationWarning: executable_path has been deprecated, please pass in a Service object\n",
      "  driver=webdriver.Chrome(PATH)\n"
     ]
    },
    {
     "name": "stdout",
     "output_type": "stream",
     "text": [
      "error 1\n",
      "error 4\n",
      "todo OK\n",
      "https://open.spotify.com/track/0W95eMaAxNVYTquOsXXkC5?si=8f5031044a86410b\n"
     ]
    },
    {
     "name": "stderr",
     "output_type": "stream",
     "text": [
      "/var/folders/s4/79ykyqjn7f16bdl_zqjgsbzh0000gp/T/ipykernel_14170/863171515.py:4: DeprecationWarning: executable_path has been deprecated, please pass in a Service object\n",
      "  driver=webdriver.Chrome(PATH)\n"
     ]
    },
    {
     "name": "stdout",
     "output_type": "stream",
     "text": [
      "error 1\n",
      "todo OK\n",
      "https://open.spotify.com/track/4ZtFanR9U6ndgddUvNcjcG?si=fa0df8f52e054526\n"
     ]
    },
    {
     "name": "stderr",
     "output_type": "stream",
     "text": [
      "/var/folders/s4/79ykyqjn7f16bdl_zqjgsbzh0000gp/T/ipykernel_14170/863171515.py:4: DeprecationWarning: executable_path has been deprecated, please pass in a Service object\n",
      "  driver=webdriver.Chrome(PATH)\n"
     ]
    },
    {
     "name": "stdout",
     "output_type": "stream",
     "text": [
      "error 1\n",
      "todo OK\n",
      "https://open.spotify.com/track/2B4nQ6yvVVBMqfgOrYtubb?si=c8132c36c23c421b\n"
     ]
    },
    {
     "name": "stderr",
     "output_type": "stream",
     "text": [
      "/var/folders/s4/79ykyqjn7f16bdl_zqjgsbzh0000gp/T/ipykernel_14170/863171515.py:4: DeprecationWarning: executable_path has been deprecated, please pass in a Service object\n",
      "  driver=webdriver.Chrome(PATH)\n"
     ]
    },
    {
     "name": "stdout",
     "output_type": "stream",
     "text": [
      "error 1\n",
      "todo OK\n",
      "https://open.spotify.com/track/3CQDFLetMMxD5hzAnUk410?si=29fdb122d188466f\n"
     ]
    },
    {
     "name": "stderr",
     "output_type": "stream",
     "text": [
      "/var/folders/s4/79ykyqjn7f16bdl_zqjgsbzh0000gp/T/ipykernel_14170/863171515.py:4: DeprecationWarning: executable_path has been deprecated, please pass in a Service object\n",
      "  driver=webdriver.Chrome(PATH)\n"
     ]
    },
    {
     "name": "stdout",
     "output_type": "stream",
     "text": [
      "error 1\n",
      "error 4\n",
      "todo OK\n",
      "https://open.spotify.com/track/3CQDFLetMMxD5hzAnUk410?si=29fdb122d188466f\n"
     ]
    },
    {
     "name": "stderr",
     "output_type": "stream",
     "text": [
      "/var/folders/s4/79ykyqjn7f16bdl_zqjgsbzh0000gp/T/ipykernel_14170/863171515.py:4: DeprecationWarning: executable_path has been deprecated, please pass in a Service object\n",
      "  driver=webdriver.Chrome(PATH)\n"
     ]
    },
    {
     "name": "stdout",
     "output_type": "stream",
     "text": [
      "error 4\n",
      "todo OK\n",
      "https://open.spotify.com/track/3CQDFLetMMxD5hzAnUk410?si=29fdb122d188466f\n"
     ]
    },
    {
     "name": "stderr",
     "output_type": "stream",
     "text": [
      "/var/folders/s4/79ykyqjn7f16bdl_zqjgsbzh0000gp/T/ipykernel_14170/863171515.py:4: DeprecationWarning: executable_path has been deprecated, please pass in a Service object\n",
      "  driver=webdriver.Chrome(PATH)\n"
     ]
    },
    {
     "name": "stdout",
     "output_type": "stream",
     "text": [
      "error 1\n",
      "error 4\n",
      "todo OK\n",
      "https://open.spotify.com/track/3CQDFLetMMxD5hzAnUk410?si=29fdb122d188466f\n"
     ]
    },
    {
     "name": "stderr",
     "output_type": "stream",
     "text": [
      "/var/folders/s4/79ykyqjn7f16bdl_zqjgsbzh0000gp/T/ipykernel_14170/863171515.py:4: DeprecationWarning: executable_path has been deprecated, please pass in a Service object\n",
      "  driver=webdriver.Chrome(PATH)\n"
     ]
    },
    {
     "name": "stdout",
     "output_type": "stream",
     "text": [
      "todo OK\n",
      "https://open.spotify.com/track/5PjdC2gMATetx5xdnwGUu7?si=6b674833d6fa49d0\n"
     ]
    },
    {
     "name": "stderr",
     "output_type": "stream",
     "text": [
      "/var/folders/s4/79ykyqjn7f16bdl_zqjgsbzh0000gp/T/ipykernel_14170/863171515.py:4: DeprecationWarning: executable_path has been deprecated, please pass in a Service object\n",
      "  driver=webdriver.Chrome(PATH)\n"
     ]
    },
    {
     "name": "stdout",
     "output_type": "stream",
     "text": [
      "error 1\n",
      "error 4\n",
      "todo OK\n",
      "https://open.spotify.com/track/5PjdC2gMATetx5xdnwGUu7?si=6b674833d6fa49d0\n"
     ]
    },
    {
     "name": "stderr",
     "output_type": "stream",
     "text": [
      "/var/folders/s4/79ykyqjn7f16bdl_zqjgsbzh0000gp/T/ipykernel_14170/863171515.py:4: DeprecationWarning: executable_path has been deprecated, please pass in a Service object\n",
      "  driver=webdriver.Chrome(PATH)\n"
     ]
    },
    {
     "name": "stdout",
     "output_type": "stream",
     "text": [
      "error 1\n",
      "error 4\n",
      "todo OK\n",
      "https://open.spotify.com/track/5PjdC2gMATetx5xdnwGUu7?si=6b674833d6fa49d0\n"
     ]
    },
    {
     "name": "stderr",
     "output_type": "stream",
     "text": [
      "/var/folders/s4/79ykyqjn7f16bdl_zqjgsbzh0000gp/T/ipykernel_14170/863171515.py:4: DeprecationWarning: executable_path has been deprecated, please pass in a Service object\n",
      "  driver=webdriver.Chrome(PATH)\n"
     ]
    },
    {
     "name": "stdout",
     "output_type": "stream",
     "text": [
      "error 1\n",
      "todo OK\n",
      "https://open.spotify.com/track/4qEmZddPnyEpGkHeGTNmWa?si=d7d341a046094d7e\n"
     ]
    },
    {
     "name": "stderr",
     "output_type": "stream",
     "text": [
      "/var/folders/s4/79ykyqjn7f16bdl_zqjgsbzh0000gp/T/ipykernel_14170/863171515.py:4: DeprecationWarning: executable_path has been deprecated, please pass in a Service object\n",
      "  driver=webdriver.Chrome(PATH)\n"
     ]
    },
    {
     "name": "stdout",
     "output_type": "stream",
     "text": [
      "error 1\n",
      "todo OK\n",
      "https://open.spotify.com/track/1OWGLpptXlHLw1yibeHiHa?si=0f9000843b1c44b3\n"
     ]
    },
    {
     "name": "stderr",
     "output_type": "stream",
     "text": [
      "/var/folders/s4/79ykyqjn7f16bdl_zqjgsbzh0000gp/T/ipykernel_14170/863171515.py:4: DeprecationWarning: executable_path has been deprecated, please pass in a Service object\n",
      "  driver=webdriver.Chrome(PATH)\n"
     ]
    },
    {
     "name": "stdout",
     "output_type": "stream",
     "text": [
      "error 4\n",
      "todo OK\n",
      "https://open.spotify.com/track/1OWGLpptXlHLw1yibeHiHa?si=0f9000843b1c44b3\n"
     ]
    },
    {
     "name": "stderr",
     "output_type": "stream",
     "text": [
      "/var/folders/s4/79ykyqjn7f16bdl_zqjgsbzh0000gp/T/ipykernel_14170/863171515.py:4: DeprecationWarning: executable_path has been deprecated, please pass in a Service object\n",
      "  driver=webdriver.Chrome(PATH)\n"
     ]
    },
    {
     "name": "stdout",
     "output_type": "stream",
     "text": [
      "error 1\n",
      "error 4\n",
      "todo OK\n",
      "https://open.spotify.com/track/1OWGLpptXlHLw1yibeHiHa?si=0f9000843b1c44b3\n"
     ]
    },
    {
     "name": "stderr",
     "output_type": "stream",
     "text": [
      "/var/folders/s4/79ykyqjn7f16bdl_zqjgsbzh0000gp/T/ipykernel_14170/863171515.py:4: DeprecationWarning: executable_path has been deprecated, please pass in a Service object\n",
      "  driver=webdriver.Chrome(PATH)\n"
     ]
    },
    {
     "name": "stdout",
     "output_type": "stream",
     "text": [
      "todo OK\n",
      "https://open.spotify.com/track/46hkty784UBYP0kR3KcAUJ?si=dcbcfb42c08144ba\n"
     ]
    },
    {
     "name": "stderr",
     "output_type": "stream",
     "text": [
      "/var/folders/s4/79ykyqjn7f16bdl_zqjgsbzh0000gp/T/ipykernel_14170/863171515.py:4: DeprecationWarning: executable_path has been deprecated, please pass in a Service object\n",
      "  driver=webdriver.Chrome(PATH)\n"
     ]
    },
    {
     "name": "stdout",
     "output_type": "stream",
     "text": [
      "error 1\n",
      "todo OK\n",
      "https://open.spotify.com/track/4X70hLzIDfY5T2BcsOcv6Q?si=6baa8c8b65d947df\n"
     ]
    },
    {
     "name": "stderr",
     "output_type": "stream",
     "text": [
      "/var/folders/s4/79ykyqjn7f16bdl_zqjgsbzh0000gp/T/ipykernel_14170/863171515.py:4: DeprecationWarning: executable_path has been deprecated, please pass in a Service object\n",
      "  driver=webdriver.Chrome(PATH)\n"
     ]
    },
    {
     "name": "stdout",
     "output_type": "stream",
     "text": [
      "todo OK\n",
      "https://open.spotify.com/track/6U9OkV9oa8kN8LyBGf3wvJ?si=42834b3be2d1482e\n"
     ]
    },
    {
     "name": "stderr",
     "output_type": "stream",
     "text": [
      "/var/folders/s4/79ykyqjn7f16bdl_zqjgsbzh0000gp/T/ipykernel_14170/863171515.py:4: DeprecationWarning: executable_path has been deprecated, please pass in a Service object\n",
      "  driver=webdriver.Chrome(PATH)\n"
     ]
    },
    {
     "name": "stdout",
     "output_type": "stream",
     "text": [
      "error 1\n",
      "error 4\n",
      "todo OK\n",
      "https://open.spotify.com/track/6U9OkV9oa8kN8LyBGf3wvJ?si=42834b3be2d1482e\n"
     ]
    },
    {
     "name": "stderr",
     "output_type": "stream",
     "text": [
      "/var/folders/s4/79ykyqjn7f16bdl_zqjgsbzh0000gp/T/ipykernel_14170/863171515.py:4: DeprecationWarning: executable_path has been deprecated, please pass in a Service object\n",
      "  driver=webdriver.Chrome(PATH)\n"
     ]
    },
    {
     "name": "stdout",
     "output_type": "stream",
     "text": [
      "error 1\n",
      "todo OK\n",
      "https://open.spotify.com/track/2pGz1Afwxe0KHJtJLwm0Kd?si=3da3abb68c864449\n"
     ]
    },
    {
     "name": "stderr",
     "output_type": "stream",
     "text": [
      "/var/folders/s4/79ykyqjn7f16bdl_zqjgsbzh0000gp/T/ipykernel_14170/863171515.py:4: DeprecationWarning: executable_path has been deprecated, please pass in a Service object\n",
      "  driver=webdriver.Chrome(PATH)\n"
     ]
    },
    {
     "name": "stdout",
     "output_type": "stream",
     "text": [
      "error 4\n",
      "todo OK\n",
      "https://open.spotify.com/track/2pGz1Afwxe0KHJtJLwm0Kd?si=3da3abb68c864449\n"
     ]
    },
    {
     "name": "stderr",
     "output_type": "stream",
     "text": [
      "/var/folders/s4/79ykyqjn7f16bdl_zqjgsbzh0000gp/T/ipykernel_14170/863171515.py:4: DeprecationWarning: executable_path has been deprecated, please pass in a Service object\n",
      "  driver=webdriver.Chrome(PATH)\n"
     ]
    },
    {
     "name": "stdout",
     "output_type": "stream",
     "text": [
      "error 1\n",
      "error 4\n",
      "todo OK\n",
      "https://open.spotify.com/track/2pGz1Afwxe0KHJtJLwm0Kd?si=3da3abb68c864449\n"
     ]
    },
    {
     "name": "stderr",
     "output_type": "stream",
     "text": [
      "/var/folders/s4/79ykyqjn7f16bdl_zqjgsbzh0000gp/T/ipykernel_14170/863171515.py:4: DeprecationWarning: executable_path has been deprecated, please pass in a Service object\n",
      "  driver=webdriver.Chrome(PATH)\n"
     ]
    },
    {
     "name": "stdout",
     "output_type": "stream",
     "text": [
      "error 1\n",
      "error 4\n",
      "todo OK\n",
      "https://open.spotify.com/track/2pGz1Afwxe0KHJtJLwm0Kd?si=3da3abb68c864449\n"
     ]
    },
    {
     "name": "stderr",
     "output_type": "stream",
     "text": [
      "/var/folders/s4/79ykyqjn7f16bdl_zqjgsbzh0000gp/T/ipykernel_14170/863171515.py:4: DeprecationWarning: executable_path has been deprecated, please pass in a Service object\n",
      "  driver=webdriver.Chrome(PATH)\n"
     ]
    },
    {
     "name": "stdout",
     "output_type": "stream",
     "text": [
      "error 1\n",
      "error 4\n",
      "todo OK\n",
      "https://open.spotify.com/track/2pGz1Afwxe0KHJtJLwm0Kd?si=3da3abb68c864449\n"
     ]
    },
    {
     "name": "stderr",
     "output_type": "stream",
     "text": [
      "/var/folders/s4/79ykyqjn7f16bdl_zqjgsbzh0000gp/T/ipykernel_14170/863171515.py:4: DeprecationWarning: executable_path has been deprecated, please pass in a Service object\n",
      "  driver=webdriver.Chrome(PATH)\n"
     ]
    },
    {
     "name": "stdout",
     "output_type": "stream",
     "text": [
      "error 1\n",
      "todo OK\n",
      "https://open.spotify.com/track/1yJGcxW3Pg5txBM45L1PeF?si=086070d7c85b495a\n"
     ]
    },
    {
     "name": "stderr",
     "output_type": "stream",
     "text": [
      "/var/folders/s4/79ykyqjn7f16bdl_zqjgsbzh0000gp/T/ipykernel_14170/863171515.py:4: DeprecationWarning: executable_path has been deprecated, please pass in a Service object\n",
      "  driver=webdriver.Chrome(PATH)\n"
     ]
    },
    {
     "name": "stdout",
     "output_type": "stream",
     "text": [
      "error 4\n",
      "todo OK\n",
      "https://open.spotify.com/track/1yJGcxW3Pg5txBM45L1PeF?si=086070d7c85b495a\n"
     ]
    },
    {
     "name": "stderr",
     "output_type": "stream",
     "text": [
      "/var/folders/s4/79ykyqjn7f16bdl_zqjgsbzh0000gp/T/ipykernel_14170/863171515.py:4: DeprecationWarning: executable_path has been deprecated, please pass in a Service object\n",
      "  driver=webdriver.Chrome(PATH)\n"
     ]
    },
    {
     "name": "stdout",
     "output_type": "stream",
     "text": [
      "error 1\n",
      "error 4\n",
      "todo OK\n",
      "https://open.spotify.com/track/1yJGcxW3Pg5txBM45L1PeF?si=086070d7c85b495a\n"
     ]
    },
    {
     "name": "stderr",
     "output_type": "stream",
     "text": [
      "/var/folders/s4/79ykyqjn7f16bdl_zqjgsbzh0000gp/T/ipykernel_14170/863171515.py:4: DeprecationWarning: executable_path has been deprecated, please pass in a Service object\n",
      "  driver=webdriver.Chrome(PATH)\n"
     ]
    },
    {
     "name": "stdout",
     "output_type": "stream",
     "text": [
      "error 1\n",
      "todo OK\n",
      "https://open.spotify.com/track/6BnHksggg8CKWAwmtBknSF?si=c50d8e85026a45dd\n"
     ]
    },
    {
     "name": "stderr",
     "output_type": "stream",
     "text": [
      "/var/folders/s4/79ykyqjn7f16bdl_zqjgsbzh0000gp/T/ipykernel_14170/863171515.py:4: DeprecationWarning: executable_path has been deprecated, please pass in a Service object\n",
      "  driver=webdriver.Chrome(PATH)\n"
     ]
    },
    {
     "name": "stdout",
     "output_type": "stream",
     "text": [
      "error 4\n",
      "todo OK\n",
      "https://open.spotify.com/track/6BnHksggg8CKWAwmtBknSF?si=c50d8e85026a45dd\n"
     ]
    },
    {
     "name": "stderr",
     "output_type": "stream",
     "text": [
      "/var/folders/s4/79ykyqjn7f16bdl_zqjgsbzh0000gp/T/ipykernel_14170/863171515.py:4: DeprecationWarning: executable_path has been deprecated, please pass in a Service object\n",
      "  driver=webdriver.Chrome(PATH)\n"
     ]
    },
    {
     "name": "stdout",
     "output_type": "stream",
     "text": [
      "error 1\n",
      "error 4\n",
      "todo OK\n",
      "https://open.spotify.com/track/6BnHksggg8CKWAwmtBknSF?si=c50d8e85026a45dd\n"
     ]
    },
    {
     "name": "stderr",
     "output_type": "stream",
     "text": [
      "/var/folders/s4/79ykyqjn7f16bdl_zqjgsbzh0000gp/T/ipykernel_14170/863171515.py:4: DeprecationWarning: executable_path has been deprecated, please pass in a Service object\n",
      "  driver=webdriver.Chrome(PATH)\n"
     ]
    },
    {
     "name": "stdout",
     "output_type": "stream",
     "text": [
      "error 1\n",
      "todo OK\n",
      "https://open.spotify.com/track/4MktgUVvEo4Ep1HBmRQ5LJ?si=c0514319d5bc4837\n"
     ]
    },
    {
     "name": "stderr",
     "output_type": "stream",
     "text": [
      "/var/folders/s4/79ykyqjn7f16bdl_zqjgsbzh0000gp/T/ipykernel_14170/863171515.py:4: DeprecationWarning: executable_path has been deprecated, please pass in a Service object\n",
      "  driver=webdriver.Chrome(PATH)\n"
     ]
    },
    {
     "name": "stdout",
     "output_type": "stream",
     "text": [
      "error 1\n",
      "todo OK\n",
      "https://open.spotify.com/track/0ha4TPphnCc1Xoxr8wA6wc?si=c4ba8e5de0074b06\n"
     ]
    },
    {
     "name": "stderr",
     "output_type": "stream",
     "text": [
      "/var/folders/s4/79ykyqjn7f16bdl_zqjgsbzh0000gp/T/ipykernel_14170/863171515.py:4: DeprecationWarning: executable_path has been deprecated, please pass in a Service object\n",
      "  driver=webdriver.Chrome(PATH)\n"
     ]
    },
    {
     "name": "stdout",
     "output_type": "stream",
     "text": [
      "error 1\n",
      "error 4\n",
      "todo OK\n",
      "https://open.spotify.com/track/0ha4TPphnCc1Xoxr8wA6wc?si=c4ba8e5de0074b06\n"
     ]
    },
    {
     "name": "stderr",
     "output_type": "stream",
     "text": [
      "/var/folders/s4/79ykyqjn7f16bdl_zqjgsbzh0000gp/T/ipykernel_14170/863171515.py:4: DeprecationWarning: executable_path has been deprecated, please pass in a Service object\n",
      "  driver=webdriver.Chrome(PATH)\n"
     ]
    },
    {
     "name": "stdout",
     "output_type": "stream",
     "text": [
      "error 4\n",
      "todo OK\n",
      "https://open.spotify.com/track/0ha4TPphnCc1Xoxr8wA6wc?si=c4ba8e5de0074b06\n"
     ]
    },
    {
     "name": "stderr",
     "output_type": "stream",
     "text": [
      "/var/folders/s4/79ykyqjn7f16bdl_zqjgsbzh0000gp/T/ipykernel_14170/863171515.py:4: DeprecationWarning: executable_path has been deprecated, please pass in a Service object\n",
      "  driver=webdriver.Chrome(PATH)\n"
     ]
    },
    {
     "name": "stdout",
     "output_type": "stream",
     "text": [
      "error 4\n",
      "todo OK\n",
      "https://open.spotify.com/track/0ha4TPphnCc1Xoxr8wA6wc?si=c4ba8e5de0074b06\n"
     ]
    },
    {
     "name": "stderr",
     "output_type": "stream",
     "text": [
      "/var/folders/s4/79ykyqjn7f16bdl_zqjgsbzh0000gp/T/ipykernel_14170/863171515.py:4: DeprecationWarning: executable_path has been deprecated, please pass in a Service object\n",
      "  driver=webdriver.Chrome(PATH)\n"
     ]
    },
    {
     "name": "stdout",
     "output_type": "stream",
     "text": [
      "error 1\n",
      "todo OK\n",
      "https://open.spotify.com/track/5m9l5wILQ9iiLd8csLeR5v?si=abd109da21e94624\n"
     ]
    },
    {
     "name": "stderr",
     "output_type": "stream",
     "text": [
      "/var/folders/s4/79ykyqjn7f16bdl_zqjgsbzh0000gp/T/ipykernel_14170/863171515.py:4: DeprecationWarning: executable_path has been deprecated, please pass in a Service object\n",
      "  driver=webdriver.Chrome(PATH)\n"
     ]
    },
    {
     "name": "stdout",
     "output_type": "stream",
     "text": [
      "error 1\n",
      "todo OK\n",
      "https://open.spotify.com/track/2K3bjojp1sCLdMMoO5lJ2p?si=f125274ef5f54386\n"
     ]
    },
    {
     "name": "stderr",
     "output_type": "stream",
     "text": [
      "/var/folders/s4/79ykyqjn7f16bdl_zqjgsbzh0000gp/T/ipykernel_14170/863171515.py:4: DeprecationWarning: executable_path has been deprecated, please pass in a Service object\n",
      "  driver=webdriver.Chrome(PATH)\n"
     ]
    },
    {
     "name": "stdout",
     "output_type": "stream",
     "text": [
      "error 1\n",
      "error 4\n",
      "todo OK\n",
      "https://open.spotify.com/track/2K3bjojp1sCLdMMoO5lJ2p?si=f125274ef5f54386\n"
     ]
    },
    {
     "name": "stderr",
     "output_type": "stream",
     "text": [
      "/var/folders/s4/79ykyqjn7f16bdl_zqjgsbzh0000gp/T/ipykernel_14170/863171515.py:4: DeprecationWarning: executable_path has been deprecated, please pass in a Service object\n",
      "  driver=webdriver.Chrome(PATH)\n"
     ]
    },
    {
     "name": "stdout",
     "output_type": "stream",
     "text": [
      "todo OK\n",
      "https://open.spotify.com/track/1zZ7vl1amOLI4GE5oUn0YB?si=ec87eb7ecdcd4094\n"
     ]
    },
    {
     "name": "stderr",
     "output_type": "stream",
     "text": [
      "/var/folders/s4/79ykyqjn7f16bdl_zqjgsbzh0000gp/T/ipykernel_14170/863171515.py:4: DeprecationWarning: executable_path has been deprecated, please pass in a Service object\n",
      "  driver=webdriver.Chrome(PATH)\n"
     ]
    },
    {
     "name": "stdout",
     "output_type": "stream",
     "text": [
      "todo OK\n",
      "https://open.spotify.com/track/2reL9PAUza4PUtbjqW1fRf?si=4e3067f2c55848b0\n"
     ]
    },
    {
     "name": "stderr",
     "output_type": "stream",
     "text": [
      "/var/folders/s4/79ykyqjn7f16bdl_zqjgsbzh0000gp/T/ipykernel_14170/863171515.py:4: DeprecationWarning: executable_path has been deprecated, please pass in a Service object\n",
      "  driver=webdriver.Chrome(PATH)\n"
     ]
    },
    {
     "name": "stdout",
     "output_type": "stream",
     "text": [
      "error 1\n",
      "todo OK\n",
      "https://open.spotify.com/track/7dQFpbs34ufIEU745DVclf?si=e345731f975c4395\n"
     ]
    },
    {
     "name": "stderr",
     "output_type": "stream",
     "text": [
      "/var/folders/s4/79ykyqjn7f16bdl_zqjgsbzh0000gp/T/ipykernel_14170/863171515.py:4: DeprecationWarning: executable_path has been deprecated, please pass in a Service object\n",
      "  driver=webdriver.Chrome(PATH)\n"
     ]
    },
    {
     "name": "stdout",
     "output_type": "stream",
     "text": [
      "error 1\n",
      "error 4\n",
      "todo OK\n",
      "https://open.spotify.com/track/7dQFpbs34ufIEU745DVclf?si=e345731f975c4395\n"
     ]
    },
    {
     "name": "stderr",
     "output_type": "stream",
     "text": [
      "/var/folders/s4/79ykyqjn7f16bdl_zqjgsbzh0000gp/T/ipykernel_14170/863171515.py:4: DeprecationWarning: executable_path has been deprecated, please pass in a Service object\n",
      "  driver=webdriver.Chrome(PATH)\n"
     ]
    },
    {
     "name": "stdout",
     "output_type": "stream",
     "text": [
      "error 1\n",
      "todo OK\n",
      "https://open.spotify.com/track/5r8mGKhCDIVWb3AG4hm0l0?si=9671526faadd4c53\n"
     ]
    },
    {
     "name": "stderr",
     "output_type": "stream",
     "text": [
      "/var/folders/s4/79ykyqjn7f16bdl_zqjgsbzh0000gp/T/ipykernel_14170/863171515.py:4: DeprecationWarning: executable_path has been deprecated, please pass in a Service object\n",
      "  driver=webdriver.Chrome(PATH)\n"
     ]
    },
    {
     "name": "stdout",
     "output_type": "stream",
     "text": [
      "error 1\n",
      "error 4\n",
      "todo OK\n",
      "https://open.spotify.com/track/5r8mGKhCDIVWb3AG4hm0l0?si=9671526faadd4c53\n"
     ]
    },
    {
     "name": "stderr",
     "output_type": "stream",
     "text": [
      "/var/folders/s4/79ykyqjn7f16bdl_zqjgsbzh0000gp/T/ipykernel_14170/863171515.py:4: DeprecationWarning: executable_path has been deprecated, please pass in a Service object\n",
      "  driver=webdriver.Chrome(PATH)\n"
     ]
    },
    {
     "name": "stdout",
     "output_type": "stream",
     "text": [
      "error 4\n",
      "todo OK\n",
      "https://open.spotify.com/track/5r8mGKhCDIVWb3AG4hm0l0?si=9671526faadd4c53\n"
     ]
    },
    {
     "name": "stderr",
     "output_type": "stream",
     "text": [
      "/var/folders/s4/79ykyqjn7f16bdl_zqjgsbzh0000gp/T/ipykernel_14170/863171515.py:4: DeprecationWarning: executable_path has been deprecated, please pass in a Service object\n",
      "  driver=webdriver.Chrome(PATH)\n"
     ]
    },
    {
     "name": "stdout",
     "output_type": "stream",
     "text": [
      "error 4\n",
      "todo OK\n",
      "https://open.spotify.com/track/5r8mGKhCDIVWb3AG4hm0l0?si=9671526faadd4c53\n"
     ]
    },
    {
     "name": "stderr",
     "output_type": "stream",
     "text": [
      "/var/folders/s4/79ykyqjn7f16bdl_zqjgsbzh0000gp/T/ipykernel_14170/863171515.py:4: DeprecationWarning: executable_path has been deprecated, please pass in a Service object\n",
      "  driver=webdriver.Chrome(PATH)\n"
     ]
    },
    {
     "name": "stdout",
     "output_type": "stream",
     "text": [
      "error 1\n",
      "todo OK\n",
      "https://open.spotify.com/track/3ZwQCZ2LuYwuQ6R1p1CJ3w?si=0247a9d86d014e42\n"
     ]
    },
    {
     "name": "stderr",
     "output_type": "stream",
     "text": [
      "/var/folders/s4/79ykyqjn7f16bdl_zqjgsbzh0000gp/T/ipykernel_14170/863171515.py:4: DeprecationWarning: executable_path has been deprecated, please pass in a Service object\n",
      "  driver=webdriver.Chrome(PATH)\n"
     ]
    },
    {
     "name": "stdout",
     "output_type": "stream",
     "text": [
      "error 1\n",
      "todo OK\n",
      "https://open.spotify.com/track/1B0BQaSRHxhI0AUlItY3LK?si=412fe5ed12f546ed\n"
     ]
    },
    {
     "name": "stderr",
     "output_type": "stream",
     "text": [
      "/var/folders/s4/79ykyqjn7f16bdl_zqjgsbzh0000gp/T/ipykernel_14170/863171515.py:4: DeprecationWarning: executable_path has been deprecated, please pass in a Service object\n",
      "  driver=webdriver.Chrome(PATH)\n"
     ]
    },
    {
     "name": "stdout",
     "output_type": "stream",
     "text": [
      "todo OK\n",
      "https://open.spotify.com/track/23zJcKwLf5CeaKVbFhrWgF?si=d45839dbce3b4fc6\n"
     ]
    },
    {
     "name": "stderr",
     "output_type": "stream",
     "text": [
      "/var/folders/s4/79ykyqjn7f16bdl_zqjgsbzh0000gp/T/ipykernel_14170/863171515.py:4: DeprecationWarning: executable_path has been deprecated, please pass in a Service object\n",
      "  driver=webdriver.Chrome(PATH)\n"
     ]
    },
    {
     "name": "stdout",
     "output_type": "stream",
     "text": [
      "error 4\n",
      "todo OK\n",
      "https://open.spotify.com/track/23zJcKwLf5CeaKVbFhrWgF?si=d45839dbce3b4fc6\n"
     ]
    },
    {
     "name": "stderr",
     "output_type": "stream",
     "text": [
      "/var/folders/s4/79ykyqjn7f16bdl_zqjgsbzh0000gp/T/ipykernel_14170/863171515.py:4: DeprecationWarning: executable_path has been deprecated, please pass in a Service object\n",
      "  driver=webdriver.Chrome(PATH)\n"
     ]
    },
    {
     "name": "stdout",
     "output_type": "stream",
     "text": [
      "error 1\n",
      "todo OK\n",
      "https://open.spotify.com/track/3o3YFP1o1SEb4Rh5jNkVT4?si=897f8fbb73f44079\n"
     ]
    },
    {
     "name": "stderr",
     "output_type": "stream",
     "text": [
      "/var/folders/s4/79ykyqjn7f16bdl_zqjgsbzh0000gp/T/ipykernel_14170/863171515.py:4: DeprecationWarning: executable_path has been deprecated, please pass in a Service object\n",
      "  driver=webdriver.Chrome(PATH)\n"
     ]
    },
    {
     "name": "stdout",
     "output_type": "stream",
     "text": [
      "todo OK\n",
      "https://open.spotify.com/track/6dDhaHqJ3wUD3jbjGUBwzh?si=ad52d0c10bf443af\n"
     ]
    },
    {
     "name": "stderr",
     "output_type": "stream",
     "text": [
      "/var/folders/s4/79ykyqjn7f16bdl_zqjgsbzh0000gp/T/ipykernel_14170/863171515.py:4: DeprecationWarning: executable_path has been deprecated, please pass in a Service object\n",
      "  driver=webdriver.Chrome(PATH)\n"
     ]
    },
    {
     "name": "stdout",
     "output_type": "stream",
     "text": [
      "error 1\n",
      "todo OK\n",
      "https://open.spotify.com/track/7rlKjHvYFlAjMIUDY1CMLu?si=f49b7b048e094bce\n"
     ]
    },
    {
     "name": "stderr",
     "output_type": "stream",
     "text": [
      "/var/folders/s4/79ykyqjn7f16bdl_zqjgsbzh0000gp/T/ipykernel_14170/863171515.py:4: DeprecationWarning: executable_path has been deprecated, please pass in a Service object\n",
      "  driver=webdriver.Chrome(PATH)\n"
     ]
    },
    {
     "name": "stdout",
     "output_type": "stream",
     "text": [
      "todo OK\n",
      "https://open.spotify.com/track/6qraVL4IJaIj0IuEexYJNa?si=29e3918518944c39\n"
     ]
    },
    {
     "name": "stderr",
     "output_type": "stream",
     "text": [
      "/var/folders/s4/79ykyqjn7f16bdl_zqjgsbzh0000gp/T/ipykernel_14170/863171515.py:4: DeprecationWarning: executable_path has been deprecated, please pass in a Service object\n",
      "  driver=webdriver.Chrome(PATH)\n"
     ]
    },
    {
     "name": "stdout",
     "output_type": "stream",
     "text": [
      "error 1\n",
      "todo OK\n",
      "https://open.spotify.com/track/75KrTLbcLWgCcldZGxZR12?si=96b69f29188d42da\n"
     ]
    },
    {
     "name": "stderr",
     "output_type": "stream",
     "text": [
      "/var/folders/s4/79ykyqjn7f16bdl_zqjgsbzh0000gp/T/ipykernel_14170/863171515.py:4: DeprecationWarning: executable_path has been deprecated, please pass in a Service object\n",
      "  driver=webdriver.Chrome(PATH)\n"
     ]
    },
    {
     "name": "stdout",
     "output_type": "stream",
     "text": [
      "error 1\n",
      "error 4\n",
      "todo OK\n",
      "https://open.spotify.com/track/75KrTLbcLWgCcldZGxZR12?si=96b69f29188d42da\n"
     ]
    },
    {
     "name": "stderr",
     "output_type": "stream",
     "text": [
      "/var/folders/s4/79ykyqjn7f16bdl_zqjgsbzh0000gp/T/ipykernel_14170/863171515.py:4: DeprecationWarning: executable_path has been deprecated, please pass in a Service object\n",
      "  driver=webdriver.Chrome(PATH)\n"
     ]
    },
    {
     "name": "stdout",
     "output_type": "stream",
     "text": [
      "error 1\n",
      "error 4\n",
      "todo OK\n",
      "https://open.spotify.com/track/75KrTLbcLWgCcldZGxZR12?si=96b69f29188d42da\n"
     ]
    },
    {
     "name": "stderr",
     "output_type": "stream",
     "text": [
      "/var/folders/s4/79ykyqjn7f16bdl_zqjgsbzh0000gp/T/ipykernel_14170/863171515.py:4: DeprecationWarning: executable_path has been deprecated, please pass in a Service object\n",
      "  driver=webdriver.Chrome(PATH)\n"
     ]
    },
    {
     "name": "stdout",
     "output_type": "stream",
     "text": [
      "error 1\n",
      "todo OK\n",
      "https://open.spotify.com/track/5o2M4yHxo9kyNLdgihFeV1?si=079a4a9c5673428a\n"
     ]
    },
    {
     "name": "stderr",
     "output_type": "stream",
     "text": [
      "/var/folders/s4/79ykyqjn7f16bdl_zqjgsbzh0000gp/T/ipykernel_14170/863171515.py:4: DeprecationWarning: executable_path has been deprecated, please pass in a Service object\n",
      "  driver=webdriver.Chrome(PATH)\n"
     ]
    },
    {
     "name": "stdout",
     "output_type": "stream",
     "text": [
      "todo OK\n",
      "https://open.spotify.com/track/3UdBoC4SNDukSeorNxU6jx?si=7327a7fc9e354bf4\n"
     ]
    },
    {
     "name": "stderr",
     "output_type": "stream",
     "text": [
      "/var/folders/s4/79ykyqjn7f16bdl_zqjgsbzh0000gp/T/ipykernel_14170/863171515.py:4: DeprecationWarning: executable_path has been deprecated, please pass in a Service object\n",
      "  driver=webdriver.Chrome(PATH)\n"
     ]
    },
    {
     "name": "stdout",
     "output_type": "stream",
     "text": [
      "error 1\n",
      "todo OK\n",
      "https://open.spotify.com/track/1YgPkZ6GOwajDveEsuy3uH?si=67be67da7330401d\n"
     ]
    },
    {
     "name": "stderr",
     "output_type": "stream",
     "text": [
      "/var/folders/s4/79ykyqjn7f16bdl_zqjgsbzh0000gp/T/ipykernel_14170/863171515.py:4: DeprecationWarning: executable_path has been deprecated, please pass in a Service object\n",
      "  driver=webdriver.Chrome(PATH)\n"
     ]
    },
    {
     "name": "stdout",
     "output_type": "stream",
     "text": [
      "todo OK\n",
      "https://open.spotify.com/track/3s3SRwttipEjIzKUB70jka?si=d980d216d0034ea3\n"
     ]
    },
    {
     "name": "stderr",
     "output_type": "stream",
     "text": [
      "/var/folders/s4/79ykyqjn7f16bdl_zqjgsbzh0000gp/T/ipykernel_14170/863171515.py:4: DeprecationWarning: executable_path has been deprecated, please pass in a Service object\n",
      "  driver=webdriver.Chrome(PATH)\n"
     ]
    },
    {
     "name": "stdout",
     "output_type": "stream",
     "text": [
      "error 1\n",
      "todo OK\n",
      "https://open.spotify.com/track/3iVwzH29gquHzkrZuy3M4w?si=ab45ede75b00474c\n"
     ]
    },
    {
     "name": "stderr",
     "output_type": "stream",
     "text": [
      "/var/folders/s4/79ykyqjn7f16bdl_zqjgsbzh0000gp/T/ipykernel_14170/863171515.py:4: DeprecationWarning: executable_path has been deprecated, please pass in a Service object\n",
      "  driver=webdriver.Chrome(PATH)\n"
     ]
    },
    {
     "name": "stdout",
     "output_type": "stream",
     "text": [
      "error 1\n",
      "todo OK\n",
      "https://open.spotify.com/track/7tXHU3EeMfHioXLSCRdDO9?si=428e026e2e6c4645\n"
     ]
    },
    {
     "name": "stderr",
     "output_type": "stream",
     "text": [
      "/var/folders/s4/79ykyqjn7f16bdl_zqjgsbzh0000gp/T/ipykernel_14170/863171515.py:4: DeprecationWarning: executable_path has been deprecated, please pass in a Service object\n",
      "  driver=webdriver.Chrome(PATH)\n"
     ]
    },
    {
     "name": "stdout",
     "output_type": "stream",
     "text": [
      "error 1\n",
      "todo OK\n",
      "https://open.spotify.com/track/3POjNkAofASd07ivmm3XoY?si=0d7bb0082bff4975\n"
     ]
    },
    {
     "name": "stderr",
     "output_type": "stream",
     "text": [
      "/var/folders/s4/79ykyqjn7f16bdl_zqjgsbzh0000gp/T/ipykernel_14170/863171515.py:4: DeprecationWarning: executable_path has been deprecated, please pass in a Service object\n",
      "  driver=webdriver.Chrome(PATH)\n"
     ]
    },
    {
     "name": "stdout",
     "output_type": "stream",
     "text": [
      "error 1\n",
      "todo OK\n",
      "https://open.spotify.com/track/1N94ACjwdfczb42LO4dNc8?si=a351c10dcbf54f32\n"
     ]
    },
    {
     "name": "stderr",
     "output_type": "stream",
     "text": [
      "/var/folders/s4/79ykyqjn7f16bdl_zqjgsbzh0000gp/T/ipykernel_14170/863171515.py:4: DeprecationWarning: executable_path has been deprecated, please pass in a Service object\n",
      "  driver=webdriver.Chrome(PATH)\n"
     ]
    },
    {
     "name": "stdout",
     "output_type": "stream",
     "text": [
      "error 1\n",
      "error 4\n",
      "todo OK\n",
      "https://open.spotify.com/track/1N94ACjwdfczb42LO4dNc8?si=a351c10dcbf54f32\n"
     ]
    },
    {
     "name": "stderr",
     "output_type": "stream",
     "text": [
      "/var/folders/s4/79ykyqjn7f16bdl_zqjgsbzh0000gp/T/ipykernel_14170/863171515.py:4: DeprecationWarning: executable_path has been deprecated, please pass in a Service object\n",
      "  driver=webdriver.Chrome(PATH)\n"
     ]
    },
    {
     "name": "stdout",
     "output_type": "stream",
     "text": [
      "error 1\n",
      "todo OK\n",
      "https://open.spotify.com/track/3AKyURJxA2IRJwxjkZggC8?si=97b0587d21374cf0\n"
     ]
    },
    {
     "name": "stderr",
     "output_type": "stream",
     "text": [
      "/var/folders/s4/79ykyqjn7f16bdl_zqjgsbzh0000gp/T/ipykernel_14170/863171515.py:4: DeprecationWarning: executable_path has been deprecated, please pass in a Service object\n",
      "  driver=webdriver.Chrome(PATH)\n"
     ]
    },
    {
     "name": "stdout",
     "output_type": "stream",
     "text": [
      "error 1\n",
      "error 4\n",
      "todo OK\n",
      "https://open.spotify.com/track/3AKyURJxA2IRJwxjkZggC8?si=97b0587d21374cf0\n"
     ]
    },
    {
     "name": "stderr",
     "output_type": "stream",
     "text": [
      "/var/folders/s4/79ykyqjn7f16bdl_zqjgsbzh0000gp/T/ipykernel_14170/863171515.py:4: DeprecationWarning: executable_path has been deprecated, please pass in a Service object\n",
      "  driver=webdriver.Chrome(PATH)\n"
     ]
    },
    {
     "name": "stdout",
     "output_type": "stream",
     "text": [
      "error 4\n",
      "todo OK\n",
      "https://open.spotify.com/track/3AKyURJxA2IRJwxjkZggC8?si=97b0587d21374cf0\n"
     ]
    },
    {
     "name": "stderr",
     "output_type": "stream",
     "text": [
      "/var/folders/s4/79ykyqjn7f16bdl_zqjgsbzh0000gp/T/ipykernel_14170/863171515.py:4: DeprecationWarning: executable_path has been deprecated, please pass in a Service object\n",
      "  driver=webdriver.Chrome(PATH)\n"
     ]
    },
    {
     "name": "stdout",
     "output_type": "stream",
     "text": [
      "error 1\n",
      "todo OK\n",
      "https://open.spotify.com/track/6Loso92Vze7MFU9FnaFQBk?si=3f3d671fa3694612\n"
     ]
    },
    {
     "name": "stderr",
     "output_type": "stream",
     "text": [
      "/var/folders/s4/79ykyqjn7f16bdl_zqjgsbzh0000gp/T/ipykernel_14170/863171515.py:4: DeprecationWarning: executable_path has been deprecated, please pass in a Service object\n",
      "  driver=webdriver.Chrome(PATH)\n"
     ]
    },
    {
     "name": "stdout",
     "output_type": "stream",
     "text": [
      "todo OK\n",
      "https://open.spotify.com/track/0Jl7YPC0sPpqL1d31IixiG?si=b981b639e2ed46d6\n"
     ]
    },
    {
     "name": "stderr",
     "output_type": "stream",
     "text": [
      "/var/folders/s4/79ykyqjn7f16bdl_zqjgsbzh0000gp/T/ipykernel_14170/863171515.py:4: DeprecationWarning: executable_path has been deprecated, please pass in a Service object\n",
      "  driver=webdriver.Chrome(PATH)\n"
     ]
    },
    {
     "name": "stdout",
     "output_type": "stream",
     "text": [
      "error 1\n",
      "todo OK\n",
      "https://open.spotify.com/track/7piXNyrajEfqhOkzgDq2Ts?si=2244475808ab4877\n"
     ]
    },
    {
     "name": "stderr",
     "output_type": "stream",
     "text": [
      "/var/folders/s4/79ykyqjn7f16bdl_zqjgsbzh0000gp/T/ipykernel_14170/863171515.py:4: DeprecationWarning: executable_path has been deprecated, please pass in a Service object\n",
      "  driver=webdriver.Chrome(PATH)\n"
     ]
    },
    {
     "name": "stdout",
     "output_type": "stream",
     "text": [
      "error 4\n",
      "todo OK\n",
      "https://open.spotify.com/track/7piXNyrajEfqhOkzgDq2Ts?si=2244475808ab4877\n"
     ]
    },
    {
     "name": "stderr",
     "output_type": "stream",
     "text": [
      "/var/folders/s4/79ykyqjn7f16bdl_zqjgsbzh0000gp/T/ipykernel_14170/863171515.py:4: DeprecationWarning: executable_path has been deprecated, please pass in a Service object\n",
      "  driver=webdriver.Chrome(PATH)\n"
     ]
    },
    {
     "name": "stdout",
     "output_type": "stream",
     "text": [
      "error 1\n",
      "todo OK\n",
      "https://open.spotify.com/track/32wvhi3fa8Z8kuHK58zAoz?si=422d45ec15834f44\n"
     ]
    },
    {
     "name": "stderr",
     "output_type": "stream",
     "text": [
      "/var/folders/s4/79ykyqjn7f16bdl_zqjgsbzh0000gp/T/ipykernel_14170/863171515.py:4: DeprecationWarning: executable_path has been deprecated, please pass in a Service object\n",
      "  driver=webdriver.Chrome(PATH)\n"
     ]
    },
    {
     "name": "stdout",
     "output_type": "stream",
     "text": [
      "error 1\n",
      "todo OK\n",
      "https://open.spotify.com/track/0HwA568tvDPPSyT3k3XVRa?si=b228d57c26df4677\n"
     ]
    },
    {
     "name": "stderr",
     "output_type": "stream",
     "text": [
      "/var/folders/s4/79ykyqjn7f16bdl_zqjgsbzh0000gp/T/ipykernel_14170/863171515.py:4: DeprecationWarning: executable_path has been deprecated, please pass in a Service object\n",
      "  driver=webdriver.Chrome(PATH)\n"
     ]
    },
    {
     "name": "stdout",
     "output_type": "stream",
     "text": [
      "todo OK\n",
      "https://open.spotify.com/track/3kGFPMLAixmHVyvP9Hgl30?si=86632ab6b36e4565\n"
     ]
    },
    {
     "name": "stderr",
     "output_type": "stream",
     "text": [
      "/var/folders/s4/79ykyqjn7f16bdl_zqjgsbzh0000gp/T/ipykernel_14170/863171515.py:4: DeprecationWarning: executable_path has been deprecated, please pass in a Service object\n",
      "  driver=webdriver.Chrome(PATH)\n"
     ]
    },
    {
     "name": "stdout",
     "output_type": "stream",
     "text": [
      "error 1\n",
      "todo OK\n",
      "https://open.spotify.com/track/2gPhe3c43KG27IcR7D0A1m?si=21430521353d4eb2\n"
     ]
    },
    {
     "name": "stderr",
     "output_type": "stream",
     "text": [
      "/var/folders/s4/79ykyqjn7f16bdl_zqjgsbzh0000gp/T/ipykernel_14170/863171515.py:4: DeprecationWarning: executable_path has been deprecated, please pass in a Service object\n",
      "  driver=webdriver.Chrome(PATH)\n"
     ]
    },
    {
     "name": "stdout",
     "output_type": "stream",
     "text": [
      "error 1\n",
      "todo OK\n",
      "https://open.spotify.com/track/1tTZAlO1azoGoOJX01KKou?si=7f8f0e65ee6c42f4\n"
     ]
    },
    {
     "name": "stderr",
     "output_type": "stream",
     "text": [
      "/var/folders/s4/79ykyqjn7f16bdl_zqjgsbzh0000gp/T/ipykernel_14170/863171515.py:4: DeprecationWarning: executable_path has been deprecated, please pass in a Service object\n",
      "  driver=webdriver.Chrome(PATH)\n"
     ]
    },
    {
     "name": "stdout",
     "output_type": "stream",
     "text": [
      "error 1\n",
      "todo OK\n",
      "https://open.spotify.com/track/7wBhAFIYqEgsMFNBG96THW?si=6522c6665c6842b4\n"
     ]
    },
    {
     "name": "stderr",
     "output_type": "stream",
     "text": [
      "/var/folders/s4/79ykyqjn7f16bdl_zqjgsbzh0000gp/T/ipykernel_14170/863171515.py:4: DeprecationWarning: executable_path has been deprecated, please pass in a Service object\n",
      "  driver=webdriver.Chrome(PATH)\n"
     ]
    },
    {
     "name": "stdout",
     "output_type": "stream",
     "text": [
      "todo OK\n",
      "https://open.spotify.com/track/5b6C325qSx97lW02Xk3rzw?si=f29cdc0f25a44749\n"
     ]
    },
    {
     "name": "stderr",
     "output_type": "stream",
     "text": [
      "/var/folders/s4/79ykyqjn7f16bdl_zqjgsbzh0000gp/T/ipykernel_14170/863171515.py:4: DeprecationWarning: executable_path has been deprecated, please pass in a Service object\n",
      "  driver=webdriver.Chrome(PATH)\n"
     ]
    },
    {
     "name": "stdout",
     "output_type": "stream",
     "text": [
      "error 4\n",
      "todo OK\n",
      "https://open.spotify.com/track/5b6C325qSx97lW02Xk3rzw?si=f29cdc0f25a44749\n"
     ]
    },
    {
     "name": "stderr",
     "output_type": "stream",
     "text": [
      "/var/folders/s4/79ykyqjn7f16bdl_zqjgsbzh0000gp/T/ipykernel_14170/863171515.py:4: DeprecationWarning: executable_path has been deprecated, please pass in a Service object\n",
      "  driver=webdriver.Chrome(PATH)\n"
     ]
    },
    {
     "name": "stdout",
     "output_type": "stream",
     "text": [
      "todo OK\n",
      "https://open.spotify.com/track/0KNlNycgMUZUJY1uwIclRa?si=a3ce81d609d7439f\n"
     ]
    },
    {
     "name": "stderr",
     "output_type": "stream",
     "text": [
      "/var/folders/s4/79ykyqjn7f16bdl_zqjgsbzh0000gp/T/ipykernel_14170/863171515.py:4: DeprecationWarning: executable_path has been deprecated, please pass in a Service object\n",
      "  driver=webdriver.Chrome(PATH)\n"
     ]
    },
    {
     "name": "stdout",
     "output_type": "stream",
     "text": [
      "todo OK\n",
      "https://open.spotify.com/track/5j2X7ohkhveo4dSu75LmGk?si=78d96fb3e14241c7\n"
     ]
    },
    {
     "name": "stderr",
     "output_type": "stream",
     "text": [
      "/var/folders/s4/79ykyqjn7f16bdl_zqjgsbzh0000gp/T/ipykernel_14170/863171515.py:4: DeprecationWarning: executable_path has been deprecated, please pass in a Service object\n",
      "  driver=webdriver.Chrome(PATH)\n"
     ]
    },
    {
     "name": "stdout",
     "output_type": "stream",
     "text": [
      "error 1\n",
      "todo OK\n",
      "https://open.spotify.com/track/5WKW5VeavHIqp4fgvCBw8U?si=64232ec6578d4ef1\n"
     ]
    },
    {
     "name": "stderr",
     "output_type": "stream",
     "text": [
      "/var/folders/s4/79ykyqjn7f16bdl_zqjgsbzh0000gp/T/ipykernel_14170/863171515.py:4: DeprecationWarning: executable_path has been deprecated, please pass in a Service object\n",
      "  driver=webdriver.Chrome(PATH)\n"
     ]
    },
    {
     "name": "stdout",
     "output_type": "stream",
     "text": [
      "error 1\n",
      "todo OK\n",
      "https://open.spotify.com/track/4CeeEOM32jQcH3eN9Q2dGj?si=30e33899abef4652\n"
     ]
    },
    {
     "name": "stderr",
     "output_type": "stream",
     "text": [
      "/var/folders/s4/79ykyqjn7f16bdl_zqjgsbzh0000gp/T/ipykernel_14170/863171515.py:4: DeprecationWarning: executable_path has been deprecated, please pass in a Service object\n",
      "  driver=webdriver.Chrome(PATH)\n"
     ]
    },
    {
     "name": "stdout",
     "output_type": "stream",
     "text": [
      "todo OK\n",
      "https://open.spotify.com/track/11LmqTE2naFULdEP94AUBa?si=e172f8f430b64074\n"
     ]
    },
    {
     "name": "stderr",
     "output_type": "stream",
     "text": [
      "/var/folders/s4/79ykyqjn7f16bdl_zqjgsbzh0000gp/T/ipykernel_14170/863171515.py:4: DeprecationWarning: executable_path has been deprecated, please pass in a Service object\n",
      "  driver=webdriver.Chrome(PATH)\n"
     ]
    },
    {
     "name": "stdout",
     "output_type": "stream",
     "text": [
      "error 1\n",
      "todo OK\n",
      "https://open.spotify.com/track/2RsAajgo0g7bMCHxwH3Sk0?si=aa562adad5044320\n"
     ]
    },
    {
     "name": "stderr",
     "output_type": "stream",
     "text": [
      "/var/folders/s4/79ykyqjn7f16bdl_zqjgsbzh0000gp/T/ipykernel_14170/863171515.py:4: DeprecationWarning: executable_path has been deprecated, please pass in a Service object\n",
      "  driver=webdriver.Chrome(PATH)\n"
     ]
    },
    {
     "name": "stdout",
     "output_type": "stream",
     "text": [
      "todo OK\n",
      "https://open.spotify.com/track/15VRO9CQwMpbqUYA7e6Hwg?si=8735d9f90d764910\n"
     ]
    },
    {
     "name": "stderr",
     "output_type": "stream",
     "text": [
      "/var/folders/s4/79ykyqjn7f16bdl_zqjgsbzh0000gp/T/ipykernel_14170/863171515.py:4: DeprecationWarning: executable_path has been deprecated, please pass in a Service object\n",
      "  driver=webdriver.Chrome(PATH)\n"
     ]
    },
    {
     "name": "stdout",
     "output_type": "stream",
     "text": [
      "error 1\n",
      "todo OK\n",
      "https://open.spotify.com/track/55yvzYuvJYG2RUEnMK78tr?si=554a09db44cd437b\n"
     ]
    },
    {
     "name": "stderr",
     "output_type": "stream",
     "text": [
      "/var/folders/s4/79ykyqjn7f16bdl_zqjgsbzh0000gp/T/ipykernel_14170/863171515.py:4: DeprecationWarning: executable_path has been deprecated, please pass in a Service object\n",
      "  driver=webdriver.Chrome(PATH)\n"
     ]
    },
    {
     "name": "stdout",
     "output_type": "stream",
     "text": [
      "todo OK\n",
      "https://open.spotify.com/track/4gHnSNHs8RyVukKoWdS99f?si=5d3d3dce9e524e59\n"
     ]
    },
    {
     "name": "stderr",
     "output_type": "stream",
     "text": [
      "/var/folders/s4/79ykyqjn7f16bdl_zqjgsbzh0000gp/T/ipykernel_14170/863171515.py:4: DeprecationWarning: executable_path has been deprecated, please pass in a Service object\n",
      "  driver=webdriver.Chrome(PATH)\n"
     ]
    },
    {
     "name": "stdout",
     "output_type": "stream",
     "text": [
      "todo OK\n",
      "https://open.spotify.com/track/5vHLwhxxlGzmClMcxRRFPr?si=3cdfdff10362489f\n"
     ]
    },
    {
     "name": "stderr",
     "output_type": "stream",
     "text": [
      "/var/folders/s4/79ykyqjn7f16bdl_zqjgsbzh0000gp/T/ipykernel_14170/863171515.py:4: DeprecationWarning: executable_path has been deprecated, please pass in a Service object\n",
      "  driver=webdriver.Chrome(PATH)\n"
     ]
    },
    {
     "name": "stdout",
     "output_type": "stream",
     "text": [
      "error 1\n",
      "todo OK\n",
      "https://open.spotify.com/track/2mvffzYUJ9Ld9xhsF5DUjU?si=0cbd50352e1f4036\n"
     ]
    },
    {
     "name": "stderr",
     "output_type": "stream",
     "text": [
      "/var/folders/s4/79ykyqjn7f16bdl_zqjgsbzh0000gp/T/ipykernel_14170/863171515.py:4: DeprecationWarning: executable_path has been deprecated, please pass in a Service object\n",
      "  driver=webdriver.Chrome(PATH)\n"
     ]
    },
    {
     "name": "stdout",
     "output_type": "stream",
     "text": [
      "error 4\n",
      "todo OK\n",
      "https://open.spotify.com/track/2mvffzYUJ9Ld9xhsF5DUjU?si=0cbd50352e1f4036\n"
     ]
    },
    {
     "name": "stderr",
     "output_type": "stream",
     "text": [
      "/var/folders/s4/79ykyqjn7f16bdl_zqjgsbzh0000gp/T/ipykernel_14170/863171515.py:4: DeprecationWarning: executable_path has been deprecated, please pass in a Service object\n",
      "  driver=webdriver.Chrome(PATH)\n"
     ]
    },
    {
     "name": "stdout",
     "output_type": "stream",
     "text": [
      "error 1\n",
      "error 4\n",
      "todo OK\n",
      "https://open.spotify.com/track/2mvffzYUJ9Ld9xhsF5DUjU?si=0cbd50352e1f4036\n"
     ]
    },
    {
     "name": "stderr",
     "output_type": "stream",
     "text": [
      "/var/folders/s4/79ykyqjn7f16bdl_zqjgsbzh0000gp/T/ipykernel_14170/863171515.py:4: DeprecationWarning: executable_path has been deprecated, please pass in a Service object\n",
      "  driver=webdriver.Chrome(PATH)\n"
     ]
    },
    {
     "name": "stdout",
     "output_type": "stream",
     "text": [
      "error 1\n",
      "error 4\n",
      "todo OK\n",
      "https://open.spotify.com/track/2mvffzYUJ9Ld9xhsF5DUjU?si=0cbd50352e1f4036\n"
     ]
    },
    {
     "name": "stderr",
     "output_type": "stream",
     "text": [
      "/var/folders/s4/79ykyqjn7f16bdl_zqjgsbzh0000gp/T/ipykernel_14170/863171515.py:4: DeprecationWarning: executable_path has been deprecated, please pass in a Service object\n",
      "  driver=webdriver.Chrome(PATH)\n"
     ]
    },
    {
     "name": "stdout",
     "output_type": "stream",
     "text": [
      "error 1\n",
      "error 4\n",
      "todo OK\n",
      "https://open.spotify.com/track/2mvffzYUJ9Ld9xhsF5DUjU?si=0cbd50352e1f4036\n"
     ]
    },
    {
     "name": "stderr",
     "output_type": "stream",
     "text": [
      "/var/folders/s4/79ykyqjn7f16bdl_zqjgsbzh0000gp/T/ipykernel_14170/863171515.py:4: DeprecationWarning: executable_path has been deprecated, please pass in a Service object\n",
      "  driver=webdriver.Chrome(PATH)\n"
     ]
    },
    {
     "name": "stdout",
     "output_type": "stream",
     "text": [
      "error 1\n",
      "error 4\n",
      "todo OK\n",
      "https://open.spotify.com/track/2mvffzYUJ9Ld9xhsF5DUjU?si=0cbd50352e1f4036\n"
     ]
    },
    {
     "name": "stderr",
     "output_type": "stream",
     "text": [
      "/var/folders/s4/79ykyqjn7f16bdl_zqjgsbzh0000gp/T/ipykernel_14170/863171515.py:4: DeprecationWarning: executable_path has been deprecated, please pass in a Service object\n",
      "  driver=webdriver.Chrome(PATH)\n"
     ]
    },
    {
     "name": "stdout",
     "output_type": "stream",
     "text": [
      "error 1\n",
      "error 4\n",
      "todo OK\n",
      "https://open.spotify.com/track/2mvffzYUJ9Ld9xhsF5DUjU?si=0cbd50352e1f4036\n"
     ]
    },
    {
     "name": "stderr",
     "output_type": "stream",
     "text": [
      "/var/folders/s4/79ykyqjn7f16bdl_zqjgsbzh0000gp/T/ipykernel_14170/863171515.py:4: DeprecationWarning: executable_path has been deprecated, please pass in a Service object\n",
      "  driver=webdriver.Chrome(PATH)\n"
     ]
    },
    {
     "name": "stdout",
     "output_type": "stream",
     "text": [
      "error 1\n",
      "error 4\n",
      "todo OK\n",
      "https://open.spotify.com/track/2mvffzYUJ9Ld9xhsF5DUjU?si=0cbd50352e1f4036\n"
     ]
    },
    {
     "name": "stderr",
     "output_type": "stream",
     "text": [
      "/var/folders/s4/79ykyqjn7f16bdl_zqjgsbzh0000gp/T/ipykernel_14170/863171515.py:4: DeprecationWarning: executable_path has been deprecated, please pass in a Service object\n",
      "  driver=webdriver.Chrome(PATH)\n"
     ]
    },
    {
     "name": "stdout",
     "output_type": "stream",
     "text": [
      "error 1\n",
      "error 4\n",
      "todo OK\n",
      "https://open.spotify.com/track/2mvffzYUJ9Ld9xhsF5DUjU?si=0cbd50352e1f4036\n"
     ]
    },
    {
     "name": "stderr",
     "output_type": "stream",
     "text": [
      "/var/folders/s4/79ykyqjn7f16bdl_zqjgsbzh0000gp/T/ipykernel_14170/863171515.py:4: DeprecationWarning: executable_path has been deprecated, please pass in a Service object\n",
      "  driver=webdriver.Chrome(PATH)\n"
     ]
    },
    {
     "name": "stdout",
     "output_type": "stream",
     "text": [
      "todo OK\n",
      "https://open.spotify.com/track/2Sfl7odHUmG7qc8SbqUyzE?si=be2e155e381f41fb\n"
     ]
    },
    {
     "name": "stderr",
     "output_type": "stream",
     "text": [
      "/var/folders/s4/79ykyqjn7f16bdl_zqjgsbzh0000gp/T/ipykernel_14170/863171515.py:4: DeprecationWarning: executable_path has been deprecated, please pass in a Service object\n",
      "  driver=webdriver.Chrome(PATH)\n"
     ]
    },
    {
     "name": "stdout",
     "output_type": "stream",
     "text": [
      "error 1\n",
      "error 4\n",
      "todo OK\n",
      "https://open.spotify.com/track/2Sfl7odHUmG7qc8SbqUyzE?si=be2e155e381f41fb\n"
     ]
    },
    {
     "name": "stderr",
     "output_type": "stream",
     "text": [
      "/var/folders/s4/79ykyqjn7f16bdl_zqjgsbzh0000gp/T/ipykernel_14170/863171515.py:4: DeprecationWarning: executable_path has been deprecated, please pass in a Service object\n",
      "  driver=webdriver.Chrome(PATH)\n"
     ]
    },
    {
     "name": "stdout",
     "output_type": "stream",
     "text": [
      "todo OK\n",
      "https://open.spotify.com/track/0oufSLnKQDoBFX5mgkDCgR?si=7d50aaf7da5b4c5a\n"
     ]
    },
    {
     "name": "stderr",
     "output_type": "stream",
     "text": [
      "/var/folders/s4/79ykyqjn7f16bdl_zqjgsbzh0000gp/T/ipykernel_14170/863171515.py:4: DeprecationWarning: executable_path has been deprecated, please pass in a Service object\n",
      "  driver=webdriver.Chrome(PATH)\n"
     ]
    },
    {
     "name": "stdout",
     "output_type": "stream",
     "text": [
      "error 1\n",
      "todo OK\n",
      "https://open.spotify.com/track/7gMIMcvnL39uNIyxZI2D5y?si=74330c5d8d2145e3\n"
     ]
    },
    {
     "name": "stderr",
     "output_type": "stream",
     "text": [
      "/var/folders/s4/79ykyqjn7f16bdl_zqjgsbzh0000gp/T/ipykernel_14170/863171515.py:4: DeprecationWarning: executable_path has been deprecated, please pass in a Service object\n",
      "  driver=webdriver.Chrome(PATH)\n"
     ]
    },
    {
     "name": "stdout",
     "output_type": "stream",
     "text": [
      "todo OK\n",
      "https://open.spotify.com/track/4pgv7cklqP38HF9V6xekJI?si=d7bf96d6bc35452b\n"
     ]
    },
    {
     "name": "stderr",
     "output_type": "stream",
     "text": [
      "/var/folders/s4/79ykyqjn7f16bdl_zqjgsbzh0000gp/T/ipykernel_14170/863171515.py:4: DeprecationWarning: executable_path has been deprecated, please pass in a Service object\n",
      "  driver=webdriver.Chrome(PATH)\n"
     ]
    },
    {
     "name": "stdout",
     "output_type": "stream",
     "text": [
      "error 1\n",
      "todo OK\n",
      "https://open.spotify.com/track/02qcrVQ61nS94wWvLaiXGf?si=f918500639614107\n"
     ]
    },
    {
     "name": "stderr",
     "output_type": "stream",
     "text": [
      "/var/folders/s4/79ykyqjn7f16bdl_zqjgsbzh0000gp/T/ipykernel_14170/863171515.py:4: DeprecationWarning: executable_path has been deprecated, please pass in a Service object\n",
      "  driver=webdriver.Chrome(PATH)\n"
     ]
    },
    {
     "name": "stdout",
     "output_type": "stream",
     "text": [
      "todo OK\n",
      "https://open.spotify.com/track/6OPrbQGZgOkIBrwWTzyuZn?si=a0f0bbf1487847d7\n"
     ]
    },
    {
     "name": "stderr",
     "output_type": "stream",
     "text": [
      "/var/folders/s4/79ykyqjn7f16bdl_zqjgsbzh0000gp/T/ipykernel_14170/863171515.py:4: DeprecationWarning: executable_path has been deprecated, please pass in a Service object\n",
      "  driver=webdriver.Chrome(PATH)\n"
     ]
    },
    {
     "name": "stdout",
     "output_type": "stream",
     "text": [
      "todo OK\n",
      "https://open.spotify.com/track/5hM5arv9KDbCHS0k9uqwjr?si=969b480bb87140ec\n"
     ]
    },
    {
     "name": "stderr",
     "output_type": "stream",
     "text": [
      "/var/folders/s4/79ykyqjn7f16bdl_zqjgsbzh0000gp/T/ipykernel_14170/863171515.py:4: DeprecationWarning: executable_path has been deprecated, please pass in a Service object\n",
      "  driver=webdriver.Chrome(PATH)\n"
     ]
    },
    {
     "name": "stdout",
     "output_type": "stream",
     "text": [
      "error 1\n",
      "error 4\n",
      "todo OK\n",
      "https://open.spotify.com/track/5hM5arv9KDbCHS0k9uqwjr?si=969b480bb87140ec\n"
     ]
    },
    {
     "name": "stderr",
     "output_type": "stream",
     "text": [
      "/var/folders/s4/79ykyqjn7f16bdl_zqjgsbzh0000gp/T/ipykernel_14170/863171515.py:4: DeprecationWarning: executable_path has been deprecated, please pass in a Service object\n",
      "  driver=webdriver.Chrome(PATH)\n"
     ]
    },
    {
     "name": "stdout",
     "output_type": "stream",
     "text": [
      "error 4\n",
      "todo OK\n",
      "https://open.spotify.com/track/5hM5arv9KDbCHS0k9uqwjr?si=969b480bb87140ec\n"
     ]
    },
    {
     "name": "stderr",
     "output_type": "stream",
     "text": [
      "/var/folders/s4/79ykyqjn7f16bdl_zqjgsbzh0000gp/T/ipykernel_14170/863171515.py:4: DeprecationWarning: executable_path has been deprecated, please pass in a Service object\n",
      "  driver=webdriver.Chrome(PATH)\n"
     ]
    },
    {
     "name": "stdout",
     "output_type": "stream",
     "text": [
      "error 4\n",
      "todo OK\n",
      "https://open.spotify.com/track/5hM5arv9KDbCHS0k9uqwjr?si=969b480bb87140ec\n"
     ]
    },
    {
     "name": "stderr",
     "output_type": "stream",
     "text": [
      "/var/folders/s4/79ykyqjn7f16bdl_zqjgsbzh0000gp/T/ipykernel_14170/863171515.py:4: DeprecationWarning: executable_path has been deprecated, please pass in a Service object\n",
      "  driver=webdriver.Chrome(PATH)\n"
     ]
    },
    {
     "name": "stdout",
     "output_type": "stream",
     "text": [
      "error 1\n",
      "error 4\n",
      "todo OK\n",
      "https://open.spotify.com/track/5hM5arv9KDbCHS0k9uqwjr?si=969b480bb87140ec\n"
     ]
    },
    {
     "name": "stderr",
     "output_type": "stream",
     "text": [
      "/var/folders/s4/79ykyqjn7f16bdl_zqjgsbzh0000gp/T/ipykernel_14170/863171515.py:4: DeprecationWarning: executable_path has been deprecated, please pass in a Service object\n",
      "  driver=webdriver.Chrome(PATH)\n"
     ]
    },
    {
     "name": "stdout",
     "output_type": "stream",
     "text": [
      "error 1\n",
      "error 4\n",
      "todo OK\n",
      "error 1\n",
      "todo OK\n",
      "https://open.spotify.com/track/6ic8OlLUNEATToEFU3xmaH?si=b84d9157d84e473f\n",
      "/var/folders/s4/79ykyqjn7f16bdl_zqjgsbzh0000gp/T/ipykernel_14170/863171515.py:4: DeprecationWarning: executable_path has been deprecated, please pass in a Service object\n",
      "  driver=webdriver.Chrome(PATH)\n",
      "todo OK\n",
      "https://open.spotify.com/track/1sl1cpix9GnwNwaVt04BIu?si=c413ef03913040dd\n",
      "/var/folders/s4/79ykyqjn7f16bdl_zqjgsbzh0000gp/T/ipykernel_14170/863171515.py:4: DeprecationWarning: executable_path has been deprecated, please pass in a Service object\n",
      "  driver=webdriver.Chrome(PATH)\n",
      "error 4\n",
      "todo OK\n",
      "https://open.spotify.com/track/1sl1cpix9GnwNwaVt04BIu?si=c413ef03913040dd\n",
      "/var/folders/s4/79ykyqjn7f16bdl_zqjgsbzh0000gp/T/ipykernel_14170/863171515.py:4: DeprecationWarning: executable_path has been deprecated, please pass in a Service object\n",
      "  driver=webdriver.Chrome(PATH)\n",
      "error 4\n",
      "todo OK\n",
      "https://open.spotify.com/track/1sl1cpix9GnwNwaVt04BIu?si=c413ef03913040dd\n",
      "/var/folders/s4/79ykyqjn7f16bdl_zqjgsbzh0000gp/T/ipykernel_14170/863171515.py:4: DeprecationWarning: executable_path has been deprecated, please pass in a Service object\n",
      "  driver=webdriver.Chrome(PATH)\n",
      "todo OK\n",
      "https://open.spotify.com/track/0BxfFnk0YzONqvmrkO0QrB?si=60b5f0cf8b6141a0\n",
      "/var/folders/s4/79ykyqjn7f16bdl_zqjgsbzh0000gp/T/ipykernel_14170/863171515.py:4: DeprecationWarning: executable_path has been deprecated, please pass in a Service object\n",
      "  driver=webdriver.Chrome(PATH)\n",
      "error 4\n",
      "todo OK\n",
      "https://open.spotify.com/track/0BxfFnk0YzONqvmrkO0QrB?si=60b5f0cf8b6141a0\n",
      "/var/folders/s4/79ykyqjn7f16bdl_zqjgsbzh0000gp/T/ipykernel_14170/863171515.py:4: DeprecationWarning: executable_path has been deprecated, please pass in a Service object\n",
      "  driver=webdriver.Chrome(PATH)\n",
      "error 1\n",
      "error 4\n",
      "todo OK\n",
      "https://open.spotify.com/track/0BxfFnk0YzONqvmrkO0QrB?si=60b5f0cf8b6141a0\n",
      "/var/folders/s4/79ykyqjn7f16bdl_zqjgsbzh0000gp/T/ipykernel_14170/863171515.py:4: DeprecationWarning: executable_path has been deprecated, please pass in a Service object\n",
      "  driver=webdriver.Chrome(PATH)\n",
      "error 4\n",
      "todo OK\n",
      "https://open.spotify.com/track/0BxfFnk0YzONqvmrkO0QrB?si=60b5f0cf8b6141a0\n",
      "/var/folders/s4/79ykyqjn7f16bdl_zqjgsbzh0000gp/T/ipykernel_14170/863171515.py:4: DeprecationWarning: executable_path has been deprecated, please pass in a Service object\n",
      "  driver=webdriver.Chrome(PATH)\n",
      "error 1\n",
      "error 4\n",
      "todo OK\n",
      "https://open.spotify.com/track/0BxfFnk0YzONqvmrkO0QrB?si=60b5f0cf8b6141a0\n",
      "/var/folders/s4/79ykyqjn7f16bdl_zqjgsbzh0000gp/T/ipykernel_14170/863171515.py:4: DeprecationWarning: executable_path has been deprecated, please pass in a Service object\n",
      "  driver=webdriver.Chrome(PATH)\n",
      "todo OK\n",
      "https://open.spotify.com/track/4D6TpthzUVNTjWQqfBW5Kb?si=10999c999e8d4168\n",
      "/var/folders/s4/79ykyqjn7f16bdl_zqjgsbzh0000gp/T/ipykernel_14170/863171515.py:4: DeprecationWarning: executable_path has been deprecated, please pass in a Service object\n",
      "  driver=webdriver.Chrome(PATH)\n",
      "todo OK\n",
      "https://open.spotify.com/track/22L7bfCiAkJo5xGSQgmiIO?si=b759bbb76e37486e\n",
      "/var/folders/s4/79ykyqjn7f16bdl_zqjgsbzh0000gp/T/ipykernel_14170/863171515.py:4: DeprecationWarning: executable_path has been deprecated, please pass in a Service object\n",
      "  driver=webdriver.Chrome(PATH)\n",
      "error 4\n",
      "todo OK\n",
      "https://open.spotify.com/track/22L7bfCiAkJo5xGSQgmiIO?si=b759bbb76e37486e\n",
      "/var/folders/s4/79ykyqjn7f16bdl_zqjgsbzh0000gp/T/ipykernel_14170/863171515.py:4: DeprecationWarning: executable_path has been deprecated, please pass in a Service object\n",
      "  driver=webdriver.Chrome(PATH)\n",
      "error 4\n",
      "todo OK\n",
      "https://open.spotify.com/track/22L7bfCiAkJo5xGSQgmiIO?si=b759bbb76e37486e\n",
      "/var/folders/s4/79ykyqjn7f16bdl_zqjgsbzh0000gp/T/ipykernel_14170/863171515.py:4: DeprecationWarning: executable_path has been deprecated, please pass in a Service object\n",
      "  driver=webdriver.Chrome(PATH)\n",
      "todo OK\n",
      "https://open.spotify.com/track/27OeeYzk6klgBh83TSvGMA?si=096e7937bd83440e\n",
      "/var/folders/s4/79ykyqjn7f16bdl_zqjgsbzh0000gp/T/ipykernel_14170/863171515.py:4: DeprecationWarning: executable_path has been deprecated, please pass in a Service object\n",
      "  driver=webdriver.Chrome(PATH)\n",
      "error 4\n",
      "todo OK\n",
      "https://open.spotify.com/track/27OeeYzk6klgBh83TSvGMA?si=096e7937bd83440e\n",
      "/var/folders/s4/79ykyqjn7f16bdl_zqjgsbzh0000gp/T/ipykernel_14170/863171515.py:4: DeprecationWarning: executable_path has been deprecated, please pass in a Service object\n",
      "  driver=webdriver.Chrome(PATH)\n",
      "error 1\n",
      "error 4\n",
      "todo OK\n",
      "https://open.spotify.com/track/27OeeYzk6klgBh83TSvGMA?si=096e7937bd83440e\n",
      "/var/folders/s4/79ykyqjn7f16bdl_zqjgsbzh0000gp/T/ipykernel_14170/863171515.py:4: DeprecationWarning: executable_path has been deprecated, please pass in a Service object\n",
      "  driver=webdriver.Chrome(PATH)\n",
      "error 1\n",
      "todo OK\n",
      "https://open.spotify.com/track/2gqWRRCXnma9L8xQ1RdemQ?si=f4f9269b76e040e1\n",
      "/var/folders/s4/79ykyqjn7f16bdl_zqjgsbzh0000gp/T/ipykernel_14170/863171515.py:4: DeprecationWarning: executable_path has been deprecated, please pass in a Service object\n",
      "  driver=webdriver.Chrome(PATH)\n",
      "error 1\n",
      "todo OK\n",
      "https://open.spotify.com/track/1ibeKVCiXORhvUpMmtsQWq?si=306646ebca874c5c\n",
      "/var/folders/s4/79ykyqjn7f16bdl_zqjgsbzh0000gp/T/ipykernel_14170/863171515.py:4: DeprecationWarning: executable_path has been deprecated, please pass in a Service object\n",
      "  driver=webdriver.Chrome(PATH)\n",
      "error 1\n",
      "todo OK\n",
      "https://open.spotify.com/track/3yzHIAzk3zVE1WgspS8W21?si=d0e465071b6844b1\n",
      "/var/folders/s4/79ykyqjn7f16bdl_zqjgsbzh0000gp/T/ipykernel_14170/863171515.py:4: DeprecationWarning: executable_path has been deprecated, please pass in a Service object\n",
      "  driver=webdriver.Chrome(PATH)\n",
      "error 1\n",
      "error 4\n",
      "todo OK\n",
      "https://open.spotify.com/track/3yzHIAzk3zVE1WgspS8W21?si=d0e465071b6844b1\n",
      "/var/folders/s4/79ykyqjn7f16bdl_zqjgsbzh0000gp/T/ipykernel_14170/863171515.py:4: DeprecationWarning: executable_path has been deprecated, please pass in a Service object\n",
      "  driver=webdriver.Chrome(PATH)\n",
      "error 1\n",
      "todo OK\n",
      "https://open.spotify.com/track/7BIy3EGQhg98CsRdKYHnJC?si=dc209b9c2f494860\n",
      "/var/folders/s4/79ykyqjn7f16bdl_zqjgsbzh0000gp/T/ipykernel_14170/863171515.py:4: DeprecationWarning: executable_path has been deprecated, please pass in a Service object\n",
      "  driver=webdriver.Chrome(PATH)\n",
      "error 1\n",
      "todo OK\n",
      "https://open.spotify.com/track/7wD6WAp1lowdxnvEfgyvNV?si=b8b70e9fd65f42b5\n",
      "/var/folders/s4/79ykyqjn7f16bdl_zqjgsbzh0000gp/T/ipykernel_14170/863171515.py:4: DeprecationWarning: executable_path has been deprecated, please pass in a Service object\n",
      "  driver=webdriver.Chrome(PATH)\n",
      "error 1\n",
      "todo OK\n",
      "https://open.spotify.com/track/0fwIHsKXNEcb57u2um7z9I?si=f7d851c45267403a\n",
      "/var/folders/s4/79ykyqjn7f16bdl_zqjgsbzh0000gp/T/ipykernel_14170/863171515.py:4: DeprecationWarning: executable_path has been deprecated, please pass in a Service object\n",
      "  driver=webdriver.Chrome(PATH)\n",
      "error 1\n",
      "error 4\n",
      "todo OK\n",
      "https://open.spotify.com/track/0fwIHsKXNEcb57u2um7z9I?si=f7d851c45267403a\n",
      "/var/folders/s4/79ykyqjn7f16bdl_zqjgsbzh0000gp/T/ipykernel_14170/863171515.py:4: DeprecationWarning: executable_path has been deprecated, please pass in a Service object\n",
      "  driver=webdriver.Chrome(PATH)\n",
      "error 1\n",
      "todo OK\n",
      "https://open.spotify.com/track/17nOJOcPbcl4sKzM2yyYDp?si=7889c510fd514652\n",
      "/var/folders/s4/79ykyqjn7f16bdl_zqjgsbzh0000gp/T/ipykernel_14170/863171515.py:4: DeprecationWarning: executable_path has been deprecated, please pass in a Service object\n",
      "  driver=webdriver.Chrome(PATH)\n",
      "todo OK\n",
      "https://open.spotify.com/track/7AjfklMN4WpQYz5FkT4E66?si=953806031e9c4a0c\n",
      "/var/folders/s4/79ykyqjn7f16bdl_zqjgsbzh0000gp/T/ipykernel_14170/863171515.py:4: DeprecationWarning: executable_path has been deprecated, please pass in a Service object\n",
      "  driver=webdriver.Chrome(PATH)\n",
      "error 1\n",
      "todo OK\n",
      "https://open.spotify.com/track/7rt0kEDWRg3pgTZJKuszoE?si=e163f7ff83d04653\n",
      "/var/folders/s4/79ykyqjn7f16bdl_zqjgsbzh0000gp/T/ipykernel_14170/863171515.py:4: DeprecationWarning: executable_path has been deprecated, please pass in a Service object\n",
      "  driver=webdriver.Chrome(PATH)\n",
      "error 1\n",
      "todo OK\n",
      "https://open.spotify.com/track/7hzgk557YLr0722EFkmp9Z?si=741edbe3741a43ca\n",
      "/var/folders/s4/79ykyqjn7f16bdl_zqjgsbzh0000gp/T/ipykernel_14170/863171515.py:4: DeprecationWarning: executable_path has been deprecated, please pass in a Service object\n",
      "  driver=webdriver.Chrome(PATH)\n",
      "error 1\n",
      "todo OK\n",
      "https://open.spotify.com/track/4oPNN7syJYSjzDhRerF966?si=73909cbc1aa34c2b\n",
      "/var/folders/s4/79ykyqjn7f16bdl_zqjgsbzh0000gp/T/ipykernel_14170/863171515.py:4: DeprecationWarning: executable_path has been deprecated, please pass in a Service object\n",
      "  driver=webdriver.Chrome(PATH)\n",
      "error 1\n",
      "todo OK\n",
      "https://open.spotify.com/track/2RcanAJpudPNDkyIe9DzKS?si=b978533554424662\n",
      "/var/folders/s4/79ykyqjn7f16bdl_zqjgsbzh0000gp/T/ipykernel_14170/863171515.py:4: DeprecationWarning: executable_path has been deprecated, please pass in a Service object\n",
      "  driver=webdriver.Chrome(PATH)\n",
      "error 1\n",
      "todo OK\n",
      "https://open.spotify.com/track/456WNXWhDwYOSf5SpTuqxd?si=0a7432de74ae4068\n",
      "/var/folders/s4/79ykyqjn7f16bdl_zqjgsbzh0000gp/T/ipykernel_14170/863171515.py:4: DeprecationWarning: executable_path has been deprecated, please pass in a Service object\n",
      "  driver=webdriver.Chrome(PATH)\n",
      "error 1\n",
      "todo OK\n",
      "https://open.spotify.com/track/244AvzGQ4Ksa5637JQu5Gy?si=d27211ccf7734917\n",
      "/var/folders/s4/79ykyqjn7f16bdl_zqjgsbzh0000gp/T/ipykernel_14170/863171515.py:4: DeprecationWarning: executable_path has been deprecated, please pass in a Service object\n",
      "  driver=webdriver.Chrome(PATH)\n",
      "error 1\n",
      "error 4\n",
      "todo OK\n",
      "https://open.spotify.com/track/244AvzGQ4Ksa5637JQu5Gy?si=d27211ccf7734917\n",
      "/var/folders/s4/79ykyqjn7f16bdl_zqjgsbzh0000gp/T/ipykernel_14170/863171515.py:4: DeprecationWarning: executable_path has been deprecated, please pass in a Service object\n",
      "  driver=webdriver.Chrome(PATH)\n",
      "error 1\n",
      "todo OK\n",
      "https://open.spotify.com/track/244AvzGQ4Ksa5637JQu5Gy?si=d27211ccf7734917\n",
      "/var/folders/s4/79ykyqjn7f16bdl_zqjgsbzh0000gp/T/ipykernel_14170/863171515.py:4: DeprecationWarning: executable_path has been deprecated, please pass in a Service object\n",
      "  driver=webdriver.Chrome(PATH)\n",
      "error 4\n",
      "todo OK\n",
      "https://open.spotify.com/track/244AvzGQ4Ksa5637JQu5Gy?si=d27211ccf7734917\n",
      "/var/folders/s4/79ykyqjn7f16bdl_zqjgsbzh0000gp/T/ipykernel_14170/863171515.py:4: DeprecationWarning: executable_path has been deprecated, please pass in a Service object\n",
      "  driver=webdriver.Chrome(PATH)\n",
      "error 1\n",
      "todo OK\n",
      "https://open.spotify.com/track/3wA4ronkc8ZcPXUP0fDgYA?si=a103224f0739474c\n",
      "/var/folders/s4/79ykyqjn7f16bdl_zqjgsbzh0000gp/T/ipykernel_14170/863171515.py:4: DeprecationWarning: executable_path has been deprecated, please pass in a Service object\n",
      "  driver=webdriver.Chrome(PATH)\n",
      "error 1\n",
      "todo OK\n",
      "https://open.spotify.com/track/7kjjpSYKszLz8TwQXEnqlx?si=ba7261e2e40240d1\n",
      "/var/folders/s4/79ykyqjn7f16bdl_zqjgsbzh0000gp/T/ipykernel_14170/863171515.py:4: DeprecationWarning: executable_path has been deprecated, please pass in a Service object\n",
      "  driver=webdriver.Chrome(PATH)\n",
      "error 1\n",
      "todo OK\n",
      "https://open.spotify.com/track/32YHCNItnCdiYaPbw0uTo8?si=7a87127bae874f97\n",
      "/var/folders/s4/79ykyqjn7f16bdl_zqjgsbzh0000gp/T/ipykernel_14170/863171515.py:4: DeprecationWarning: executable_path has been deprecated, please pass in a Service object\n",
      "  driver=webdriver.Chrome(PATH)\n",
      "todo OK\n",
      "https://open.spotify.com/track/2PIvq1pGrUjY007X5y1UpM?si=8b889b5283404b25\n",
      "/var/folders/s4/79ykyqjn7f16bdl_zqjgsbzh0000gp/T/ipykernel_14170/863171515.py:4: DeprecationWarning: executable_path has been deprecated, please pass in a Service object\n",
      "  driver=webdriver.Chrome(PATH)\n",
      "error 1\n",
      "error 4\n",
      "todo OK\n",
      "https://open.spotify.com/track/2PIvq1pGrUjY007X5y1UpM?si=8b889b5283404b25\n",
      "/var/folders/s4/79ykyqjn7f16bdl_zqjgsbzh0000gp/T/ipykernel_14170/863171515.py:4: DeprecationWarning: executable_path has been deprecated, please pass in a Service object\n",
      "  driver=webdriver.Chrome(PATH)\n",
      "todo OK\n",
      "https://open.spotify.com/track/5GbVzc6Ex5LYlLJqzRQhuy?si=952ecdd7d07e43e2\n",
      "/var/folders/s4/79ykyqjn7f16bdl_zqjgsbzh0000gp/T/ipykernel_14170/863171515.py:4: DeprecationWarning: executable_path has been deprecated, please pass in a Service object\n",
      "  driver=webdriver.Chrome(PATH)\n",
      "error 1\n",
      "error 4\n",
      "todo OK\n",
      "https://open.spotify.com/track/5GbVzc6Ex5LYlLJqzRQhuy?si=952ecdd7d07e43e2\n",
      "/var/folders/s4/79ykyqjn7f16bdl_zqjgsbzh0000gp/T/ipykernel_14170/863171515.py:4: DeprecationWarning: executable_path has been deprecated, please pass in a Service object\n",
      "  driver=webdriver.Chrome(PATH)\n",
      "error 4\n",
      "todo OK\n",
      "https://open.spotify.com/track/5GbVzc6Ex5LYlLJqzRQhuy?si=952ecdd7d07e43e2\n",
      "/var/folders/s4/79ykyqjn7f16bdl_zqjgsbzh0000gp/T/ipykernel_14170/863171515.py:4: DeprecationWarning: executable_path has been deprecated, please pass in a Service object\n",
      "  driver=webdriver.Chrome(PATH)\n",
      "error 1\n",
      "todo OK\n",
      "https://open.spotify.com/track/1ai9FDnFQDv18WAtFhMTIz?si=fe6cbfce3e4648e8\n",
      "/var/folders/s4/79ykyqjn7f16bdl_zqjgsbzh0000gp/T/ipykernel_14170/863171515.py:4: DeprecationWarning: executable_path has been deprecated, please pass in a Service object\n",
      "  driver=webdriver.Chrome(PATH)\n",
      "error 1\n",
      "error 4\n",
      "todo OK\n",
      "https://open.spotify.com/track/1ai9FDnFQDv18WAtFhMTIz?si=fe6cbfce3e4648e8\n",
      "/var/folders/s4/79ykyqjn7f16bdl_zqjgsbzh0000gp/T/ipykernel_14170/863171515.py:4: DeprecationWarning: executable_path has been deprecated, please pass in a Service object\n",
      "  driver=webdriver.Chrome(PATH)\n",
      "error 1\n",
      "error 4\n",
      "todo OK\n",
      "https://open.spotify.com/track/1ai9FDnFQDv18WAtFhMTIz?si=fe6cbfce3e4648e8\n",
      "/var/folders/s4/79ykyqjn7f16bdl_zqjgsbzh0000gp/T/ipykernel_14170/863171515.py:4: DeprecationWarning: executable_path has been deprecated, please pass in a Service object\n",
      "  driver=webdriver.Chrome(PATH)\n",
      "error 1\n",
      "todo OK\n",
      "https://open.spotify.com/track/79jQjC6BpnSFuF1CZsOBHh?si=1a1ab56447284b59\n",
      "/var/folders/s4/79ykyqjn7f16bdl_zqjgsbzh0000gp/T/ipykernel_14170/863171515.py:4: DeprecationWarning: executable_path has been deprecated, please pass in a Service object\n",
      "  driver=webdriver.Chrome(PATH)\n",
      "error 1\n",
      "todo OK\n",
      "https://open.spotify.com/track/0tRQ7UZtDQtKUkFFRtyTyM?si=105c8dbcd69b4d4f\n",
      "/var/folders/s4/79ykyqjn7f16bdl_zqjgsbzh0000gp/T/ipykernel_14170/863171515.py:4: DeprecationWarning: executable_path has been deprecated, please pass in a Service object\n",
      "  driver=webdriver.Chrome(PATH)\n",
      "todo OK\n",
      "https://open.spotify.com/track/0B3wgb9raXYpnjy1euSWlz?si=4923a0d301834fc8\n",
      "/var/folders/s4/79ykyqjn7f16bdl_zqjgsbzh0000gp/T/ipykernel_14170/863171515.py:4: DeprecationWarning: executable_path has been deprecated, please pass in a Service object\n",
      "  driver=webdriver.Chrome(PATH)\n",
      "error 1\n",
      "todo OK\n",
      "https://open.spotify.com/track/0s7eMNB8DDKTQ1W3LY5oay?si=c2fff3e8a538414d\n",
      "/var/folders/s4/79ykyqjn7f16bdl_zqjgsbzh0000gp/T/ipykernel_14170/863171515.py:4: DeprecationWarning: executable_path has been deprecated, please pass in a Service object\n",
      "  driver=webdriver.Chrome(PATH)\n",
      "todo OK\n",
      "https://open.spotify.com/track/0HL5XOeVxgX1cEPY2KgRRa?si=75a10f806a034df1\n",
      "/var/folders/s4/79ykyqjn7f16bdl_zqjgsbzh0000gp/T/ipykernel_14170/863171515.py:4: DeprecationWarning: executable_path has been deprecated, please pass in a Service object\n",
      "  driver=webdriver.Chrome(PATH)\n",
      "todo OK\n",
      "https://open.spotify.com/track/3jfZ9M23l0L7RxzYMTgBTv?si=0c7b9d55dac94480\n",
      "/var/folders/s4/79ykyqjn7f16bdl_zqjgsbzh0000gp/T/ipykernel_14170/863171515.py:4: DeprecationWarning: executable_path has been deprecated, please pass in a Service object\n",
      "  driver=webdriver.Chrome(PATH)\n",
      "todo OK\n",
      "https://open.spotify.com/track/04F42oEuKrRComYJfJuyVR?si=e51927c58821463b\n",
      "/var/folders/s4/79ykyqjn7f16bdl_zqjgsbzh0000gp/T/ipykernel_14170/863171515.py:4: DeprecationWarning: executable_path has been deprecated, please pass in a Service object\n",
      "  driver=webdriver.Chrome(PATH)\n",
      "error 1\n",
      "todo OK\n",
      "https://open.spotify.com/track/02MWAaffLxlfxAUY7c5dvx?si=0e28057042c54d67\n",
      "/var/folders/s4/79ykyqjn7f16bdl_zqjgsbzh0000gp/T/ipykernel_14170/863171515.py:4: DeprecationWarning: executable_path has been deprecated, please pass in a Service object\n",
      "  driver=webdriver.Chrome(PATH)\n",
      "error 1\n",
      "todo OK\n",
      "https://open.spotify.com/track/6AtZLIzUINvExIUy4QhdjP?si=293c7e95909d4f76\n",
      "/var/folders/s4/79ykyqjn7f16bdl_zqjgsbzh0000gp/T/ipykernel_14170/863171515.py:4: DeprecationWarning: executable_path has been deprecated, please pass in a Service object\n",
      "  driver=webdriver.Chrome(PATH)\n",
      "error 1\n",
      "todo OK\n",
      "https://open.spotify.com/track/2vpVR1L7Qfkd7D6qFNuorq?si=4d759b45fba1437a\n",
      "/var/folders/s4/79ykyqjn7f16bdl_zqjgsbzh0000gp/T/ipykernel_14170/863171515.py:4: DeprecationWarning: executable_path has been deprecated, please pass in a Service object\n",
      "  driver=webdriver.Chrome(PATH)\n",
      "error 1\n",
      "todo OK\n",
      "https://open.spotify.com/track/0JU7KoyKSFgY1zJV2ex6Ee?si=7247869a3b9d4e10\n",
      "/var/folders/s4/79ykyqjn7f16bdl_zqjgsbzh0000gp/T/ipykernel_14170/863171515.py:4: DeprecationWarning: executable_path has been deprecated, please pass in a Service object\n",
      "  driver=webdriver.Chrome(PATH)\n",
      "error 1\n",
      "todo OK\n",
      "https://open.spotify.com/track/6LOZws7T3jqZz78unPgFF9?si=5526779e594c433b\n",
      "/var/folders/s4/79ykyqjn7f16bdl_zqjgsbzh0000gp/T/ipykernel_14170/863171515.py:4: DeprecationWarning: executable_path has been deprecated, please pass in a Service object\n",
      "  driver=webdriver.Chrome(PATH)\n",
      "error 1\n",
      "todo OK\n",
      "https://open.spotify.com/track/6KfoDhO4XUWSbnyKjNp9c4?si=fa7f55b4e68244a6\n",
      "/var/folders/s4/79ykyqjn7f16bdl_zqjgsbzh0000gp/T/ipykernel_14170/863171515.py:4: DeprecationWarning: executable_path has been deprecated, please pass in a Service object\n",
      "  driver=webdriver.Chrome(PATH)\n",
      "error 1\n",
      "error 4\n",
      "todo OK\n",
      "https://open.spotify.com/track/6KfoDhO4XUWSbnyKjNp9c4?si=fa7f55b4e68244a6\n",
      "/var/folders/s4/79ykyqjn7f16bdl_zqjgsbzh0000gp/T/ipykernel_14170/863171515.py:4: DeprecationWarning: executable_path has been deprecated, please pass in a Service object\n",
      "  driver=webdriver.Chrome(PATH)\n",
      "error 1\n",
      "todo OK\n",
      "https://open.spotify.com/track/1jVjOcs7QeQZJXScbqvofI?si=5a1dd0ac93d741e7\n",
      "/var/folders/s4/79ykyqjn7f16bdl_zqjgsbzh0000gp/T/ipykernel_14170/863171515.py:4: DeprecationWarning: executable_path has been deprecated, please pass in a Service object\n",
      "  driver=webdriver.Chrome(PATH)\n",
      "error 1\n",
      "error 4\n",
      "todo OK\n",
      "https://open.spotify.com/track/1jVjOcs7QeQZJXScbqvofI?si=5a1dd0ac93d741e7\n",
      "/var/folders/s4/79ykyqjn7f16bdl_zqjgsbzh0000gp/T/ipykernel_14170/863171515.py:4: DeprecationWarning: executable_path has been deprecated, please pass in a Service object\n",
      "  driver=webdriver.Chrome(PATH)\n",
      "error 0\n",
      "error 1\n",
      "error 3\n",
      "error 4\n",
      "todo OK\n",
      "https://open.spotify.com/track/1jVjOcs7QeQZJXScbqvofI?si=5a1dd0ac93d741e7\n",
      "/var/folders/s4/79ykyqjn7f16bdl_zqjgsbzh0000gp/T/ipykernel_14170/863171515.py:4: DeprecationWarning: executable_path has been deprecated, please pass in a Service object\n",
      "  driver=webdriver.Chrome(PATH)\n",
      "error 1\n",
      "error 4\n",
      "todo OK\n",
      "https://open.spotify.com/track/1jVjOcs7QeQZJXScbqvofI?si=5a1dd0ac93d741e7\n",
      "/var/folders/s4/79ykyqjn7f16bdl_zqjgsbzh0000gp/T/ipykernel_14170/863171515.py:4: DeprecationWarning: executable_path has been deprecated, please pass in a Service object\n",
      "  driver=webdriver.Chrome(PATH)\n",
      "error 1\n",
      "todo OK\n",
      "https://open.spotify.com/track/0W95eMaAxNVYTquOsXXkC5?si=8f5031044a86410b\n",
      "/var/folders/s4/79ykyqjn7f16bdl_zqjgsbzh0000gp/T/ipykernel_14170/863171515.py:4: DeprecationWarning: executable_path has been deprecated, please pass in a Service object\n",
      "  driver=webdriver.Chrome(PATH)\n",
      "error 1\n",
      "error 4\n",
      "todo OK\n",
      "https://open.spotify.com/track/0W95eMaAxNVYTquOsXXkC5?si=8f5031044a86410b\n",
      "/var/folders/s4/79ykyqjn7f16bdl_zqjgsbzh0000gp/T/ipykernel_14170/863171515.py:4: DeprecationWarning: executable_path has been deprecated, please pass in a Service object\n",
      "  driver=webdriver.Chrome(PATH)\n",
      "error 1\n",
      "error 4\n",
      "todo OK\n",
      "https://open.spotify.com/track/0W95eMaAxNVYTquOsXXkC5?si=8f5031044a86410b\n",
      "/var/folders/s4/79ykyqjn7f16bdl_zqjgsbzh0000gp/T/ipykernel_14170/863171515.py:4: DeprecationWarning: executable_path has been deprecated, please pass in a Service object\n",
      "  driver=webdriver.Chrome(PATH)\n",
      "error 1\n",
      "error 4\n",
      "todo OK\n",
      "https://open.spotify.com/track/0W95eMaAxNVYTquOsXXkC5?si=8f5031044a86410b\n",
      "/var/folders/s4/79ykyqjn7f16bdl_zqjgsbzh0000gp/T/ipykernel_14170/863171515.py:4: DeprecationWarning: executable_path has been deprecated, please pass in a Service object\n",
      "  driver=webdriver.Chrome(PATH)\n",
      "error 1\n",
      "todo OK\n",
      "https://open.spotify.com/track/4ZtFanR9U6ndgddUvNcjcG?si=fa0df8f52e054526\n",
      "/var/folders/s4/79ykyqjn7f16bdl_zqjgsbzh0000gp/T/ipykernel_14170/863171515.py:4: DeprecationWarning: executable_path has been deprecated, please pass in a Service object\n",
      "  driver=webdriver.Chrome(PATH)\n",
      "error 1\n",
      "todo OK\n",
      "https://open.spotify.com/track/2B4nQ6yvVVBMqfgOrYtubb?si=c8132c36c23c421b\n",
      "/var/folders/s4/79ykyqjn7f16bdl_zqjgsbzh0000gp/T/ipykernel_14170/863171515.py:4: DeprecationWarning: executable_path has been deprecated, please pass in a Service object\n",
      "  driver=webdriver.Chrome(PATH)\n",
      "error 1\n",
      "todo OK\n",
      "https://open.spotify.com/track/3CQDFLetMMxD5hzAnUk410?si=29fdb122d188466f\n",
      "/var/folders/s4/79ykyqjn7f16bdl_zqjgsbzh0000gp/T/ipykernel_14170/863171515.py:4: DeprecationWarning: executable_path has been deprecated, please pass in a Service object\n",
      "  driver=webdriver.Chrome(PATH)\n",
      "error 1\n",
      "error 4\n",
      "todo OK\n",
      "https://open.spotify.com/track/3CQDFLetMMxD5hzAnUk410?si=29fdb122d188466f\n",
      "/var/folders/s4/79ykyqjn7f16bdl_zqjgsbzh0000gp/T/ipykernel_14170/863171515.py:4: DeprecationWarning: executable_path has been deprecated, please pass in a Service object\n",
      "  driver=webdriver.Chrome(PATH)\n",
      "error 4\n",
      "todo OK\n",
      "https://open.spotify.com/track/3CQDFLetMMxD5hzAnUk410?si=29fdb122d188466f\n",
      "/var/folders/s4/79ykyqjn7f16bdl_zqjgsbzh0000gp/T/ipykernel_14170/863171515.py:4: DeprecationWarning: executable_path has been deprecated, please pass in a Service object\n",
      "  driver=webdriver.Chrome(PATH)\n",
      "error 1\n",
      "error 4\n",
      "todo OK\n",
      "https://open.spotify.com/track/3CQDFLetMMxD5hzAnUk410?si=29fdb122d188466f\n",
      "/var/folders/s4/79ykyqjn7f16bdl_zqjgsbzh0000gp/T/ipykernel_14170/863171515.py:4: DeprecationWarning: executable_path has been deprecated, please pass in a Service object\n",
      "  driver=webdriver.Chrome(PATH)\n",
      "todo OK\n",
      "https://open.spotify.com/track/5PjdC2gMATetx5xdnwGUu7?si=6b674833d6fa49d0\n",
      "/var/folders/s4/79ykyqjn7f16bdl_zqjgsbzh0000gp/T/ipykernel_14170/863171515.py:4: DeprecationWarning: executable_path has been deprecated, please pass in a Service object\n",
      "  driver=webdriver.Chrome(PATH)\n",
      "error 1\n",
      "error 4\n",
      "todo OK\n",
      "https://open.spotify.com/track/5PjdC2gMATetx5xdnwGUu7?si=6b674833d6fa49d0\n",
      "/var/folders/s4/79ykyqjn7f16bdl_zqjgsbzh0000gp/T/ipykernel_14170/863171515.py:4: DeprecationWarning: executable_path has been deprecated, please pass in a Service object\n",
      "  driver=webdriver.Chrome(PATH)\n",
      "error 1\n",
      "error 4\n",
      "todo OK\n",
      "https://open.spotify.com/track/5PjdC2gMATetx5xdnwGUu7?si=6b674833d6fa49d0\n",
      "/var/folders/s4/79ykyqjn7f16bdl_zqjgsbzh0000gp/T/ipykernel_14170/863171515.py:4: DeprecationWarning: executable_path has been deprecated, please pass in a Service object\n",
      "  driver=webdriver.Chrome(PATH)\n",
      "error 1\n",
      "todo OK\n",
      "https://open.spotify.com/track/4qEmZddPnyEpGkHeGTNmWa?si=d7d341a046094d7e\n",
      "/var/folders/s4/79ykyqjn7f16bdl_zqjgsbzh0000gp/T/ipykernel_14170/863171515.py:4: DeprecationWarning: executable_path has been deprecated, please pass in a Service object\n",
      "  driver=webdriver.Chrome(PATH)\n",
      "error 1\n",
      "todo OK\n",
      "https://open.spotify.com/track/1OWGLpptXlHLw1yibeHiHa?si=0f9000843b1c44b3\n",
      "/var/folders/s4/79ykyqjn7f16bdl_zqjgsbzh0000gp/T/ipykernel_14170/863171515.py:4: DeprecationWarning: executable_path has been deprecated, please pass in a Service object\n",
      "  driver=webdriver.Chrome(PATH)\n",
      "error 4\n",
      "todo OK\n",
      "https://open.spotify.com/track/1OWGLpptXlHLw1yibeHiHa?si=0f9000843b1c44b3\n",
      "/var/folders/s4/79ykyqjn7f16bdl_zqjgsbzh0000gp/T/ipykernel_14170/863171515.py:4: DeprecationWarning: executable_path has been deprecated, please pass in a Service object\n",
      "  driver=webdriver.Chrome(PATH)\n",
      "error 1\n",
      "error 4\n",
      "todo OK\n",
      "https://open.spotify.com/track/1OWGLpptXlHLw1yibeHiHa?si=0f9000843b1c44b3\n",
      "/var/folders/s4/79ykyqjn7f16bdl_zqjgsbzh0000gp/T/ipykernel_14170/863171515.py:4: DeprecationWarning: executable_path has been deprecated, please pass in a Service object\n",
      "  driver=webdriver.Chrome(PATH)\n",
      "todo OK\n",
      "https://open.spotify.com/track/46hkty784UBYP0kR3KcAUJ?si=dcbcfb42c08144ba\n",
      "/var/folders/s4/79ykyqjn7f16bdl_zqjgsbzh0000gp/T/ipykernel_14170/863171515.py:4: DeprecationWarning: executable_path has been deprecated, please pass in a Service object\n",
      "  driver=webdriver.Chrome(PATH)\n",
      "error 1\n",
      "todo OK\n",
      "https://open.spotify.com/track/4X70hLzIDfY5T2BcsOcv6Q?si=6baa8c8b65d947df\n",
      "/var/folders/s4/79ykyqjn7f16bdl_zqjgsbzh0000gp/T/ipykernel_14170/863171515.py:4: DeprecationWarning: executable_path has been deprecated, please pass in a Service object\n",
      "  driver=webdriver.Chrome(PATH)\n",
      "todo OK\n",
      "https://open.spotify.com/track/6U9OkV9oa8kN8LyBGf3wvJ?si=42834b3be2d1482e\n",
      "/var/folders/s4/79ykyqjn7f16bdl_zqjgsbzh0000gp/T/ipykernel_14170/863171515.py:4: DeprecationWarning: executable_path has been deprecated, please pass in a Service object\n",
      "  driver=webdriver.Chrome(PATH)\n",
      "error 1\n",
      "error 4\n",
      "todo OK\n",
      "https://open.spotify.com/track/6U9OkV9oa8kN8LyBGf3wvJ?si=42834b3be2d1482e\n",
      "/var/folders/s4/79ykyqjn7f16bdl_zqjgsbzh0000gp/T/ipykernel_14170/863171515.py:4: DeprecationWarning: executable_path has been deprecated, please pass in a Service object\n",
      "  driver=webdriver.Chrome(PATH)\n",
      "error 1\n",
      "todo OK\n",
      "https://open.spotify.com/track/2pGz1Afwxe0KHJtJLwm0Kd?si=3da3abb68c864449\n",
      "/var/folders/s4/79ykyqjn7f16bdl_zqjgsbzh0000gp/T/ipykernel_14170/863171515.py:4: DeprecationWarning: executable_path has been deprecated, please pass in a Service object\n",
      "  driver=webdriver.Chrome(PATH)\n",
      "error 4\n",
      "todo OK\n",
      "https://open.spotify.com/track/2pGz1Afwxe0KHJtJLwm0Kd?si=3da3abb68c864449\n",
      "/var/folders/s4/79ykyqjn7f16bdl_zqjgsbzh0000gp/T/ipykernel_14170/863171515.py:4: DeprecationWarning: executable_path has been deprecated, please pass in a Service object\n",
      "  driver=webdriver.Chrome(PATH)\n",
      "error 1\n",
      "error 4\n",
      "todo OK\n",
      "https://open.spotify.com/track/2pGz1Afwxe0KHJtJLwm0Kd?si=3da3abb68c864449\n",
      "/var/folders/s4/79ykyqjn7f16bdl_zqjgsbzh0000gp/T/ipykernel_14170/863171515.py:4: DeprecationWarning: executable_path has been deprecated, please pass in a Service object\n",
      "  driver=webdriver.Chrome(PATH)\n",
      "error 1\n",
      "error 4\n",
      "todo OK\n",
      "https://open.spotify.com/track/2pGz1Afwxe0KHJtJLwm0Kd?si=3da3abb68c864449\n",
      "/var/folders/s4/79ykyqjn7f16bdl_zqjgsbzh0000gp/T/ipykernel_14170/863171515.py:4: DeprecationWarning: executable_path has been deprecated, please pass in a Service object\n",
      "  driver=webdriver.Chrome(PATH)\n",
      "error 1\n",
      "error 4\n",
      "todo OK\n",
      "https://open.spotify.com/track/2pGz1Afwxe0KHJtJLwm0Kd?si=3da3abb68c864449\n",
      "/var/folders/s4/79ykyqjn7f16bdl_zqjgsbzh0000gp/T/ipykernel_14170/863171515.py:4: DeprecationWarning: executable_path has been deprecated, please pass in a Service object\n",
      "  driver=webdriver.Chrome(PATH)\n",
      "error 1\n",
      "todo OK\n",
      "https://open.spotify.com/track/1yJGcxW3Pg5txBM45L1PeF?si=086070d7c85b495a\n",
      "/var/folders/s4/79ykyqjn7f16bdl_zqjgsbzh0000gp/T/ipykernel_14170/863171515.py:4: DeprecationWarning: executable_path has been deprecated, please pass in a Service object\n",
      "  driver=webdriver.Chrome(PATH)\n",
      "error 4\n",
      "todo OK\n",
      "https://open.spotify.com/track/1yJGcxW3Pg5txBM45L1PeF?si=086070d7c85b495a\n",
      "/var/folders/s4/79ykyqjn7f16bdl_zqjgsbzh0000gp/T/ipykernel_14170/863171515.py:4: DeprecationWarning: executable_path has been deprecated, please pass in a Service object\n",
      "  driver=webdriver.Chrome(PATH)\n",
      "error 1\n",
      "error 4\n",
      "todo OK\n",
      "https://open.spotify.com/track/1yJGcxW3Pg5txBM45L1PeF?si=086070d7c85b495a\n",
      "/var/folders/s4/79ykyqjn7f16bdl_zqjgsbzh0000gp/T/ipykernel_14170/863171515.py:4: DeprecationWarning: executable_path has been deprecated, please pass in a Service object\n",
      "  driver=webdriver.Chrome(PATH)\n",
      "error 1\n",
      "todo OK\n",
      "https://open.spotify.com/track/6BnHksggg8CKWAwmtBknSF?si=c50d8e85026a45dd\n",
      "/var/folders/s4/79ykyqjn7f16bdl_zqjgsbzh0000gp/T/ipykernel_14170/863171515.py:4: DeprecationWarning: executable_path has been deprecated, please pass in a Service object\n",
      "  driver=webdriver.Chrome(PATH)\n",
      "error 4\n",
      "todo OK\n",
      "https://open.spotify.com/track/6BnHksggg8CKWAwmtBknSF?si=c50d8e85026a45dd\n",
      "/var/folders/s4/79ykyqjn7f16bdl_zqjgsbzh0000gp/T/ipykernel_14170/863171515.py:4: DeprecationWarning: executable_path has been deprecated, please pass in a Service object\n",
      "  driver=webdriver.Chrome(PATH)\n",
      "error 1\n",
      "error 4\n",
      "todo OK\n",
      "https://open.spotify.com/track/6BnHksggg8CKWAwmtBknSF?si=c50d8e85026a45dd\n",
      "/var/folders/s4/79ykyqjn7f16bdl_zqjgsbzh0000gp/T/ipykernel_14170/863171515.py:4: DeprecationWarning: executable_path has been deprecated, please pass in a Service object\n",
      "  driver=webdriver.Chrome(PATH)\n",
      "error 1\n",
      "todo OK\n",
      "https://open.spotify.com/track/4MktgUVvEo4Ep1HBmRQ5LJ?si=c0514319d5bc4837\n",
      "/var/folders/s4/79ykyqjn7f16bdl_zqjgsbzh0000gp/T/ipykernel_14170/863171515.py:4: DeprecationWarning: executable_path has been deprecated, please pass in a Service object\n",
      "  driver=webdriver.Chrome(PATH)\n",
      "error 1\n",
      "todo OK\n",
      "https://open.spotify.com/track/0ha4TPphnCc1Xoxr8wA6wc?si=c4ba8e5de0074b06\n",
      "/var/folders/s4/79ykyqjn7f16bdl_zqjgsbzh0000gp/T/ipykernel_14170/863171515.py:4: DeprecationWarning: executable_path has been deprecated, please pass in a Service object\n",
      "  driver=webdriver.Chrome(PATH)\n",
      "error 1\n",
      "error 4\n",
      "todo OK\n",
      "https://open.spotify.com/track/0ha4TPphnCc1Xoxr8wA6wc?si=c4ba8e5de0074b06\n",
      "/var/folders/s4/79ykyqjn7f16bdl_zqjgsbzh0000gp/T/ipykernel_14170/863171515.py:4: DeprecationWarning: executable_path has been deprecated, please pass in a Service object\n",
      "  driver=webdriver.Chrome(PATH)\n",
      "error 4\n",
      "todo OK\n",
      "https://open.spotify.com/track/0ha4TPphnCc1Xoxr8wA6wc?si=c4ba8e5de0074b06\n",
      "/var/folders/s4/79ykyqjn7f16bdl_zqjgsbzh0000gp/T/ipykernel_14170/863171515.py:4: DeprecationWarning: executable_path has been deprecated, please pass in a Service object\n",
      "  driver=webdriver.Chrome(PATH)\n",
      "error 4\n",
      "todo OK\n",
      "https://open.spotify.com/track/0ha4TPphnCc1Xoxr8wA6wc?si=c4ba8e5de0074b06\n",
      "/var/folders/s4/79ykyqjn7f16bdl_zqjgsbzh0000gp/T/ipykernel_14170/863171515.py:4: DeprecationWarning: executable_path has been deprecated, please pass in a Service object\n",
      "  driver=webdriver.Chrome(PATH)\n",
      "error 1\n",
      "todo OK\n",
      "https://open.spotify.com/track/5m9l5wILQ9iiLd8csLeR5v?si=abd109da21e94624\n",
      "/var/folders/s4/79ykyqjn7f16bdl_zqjgsbzh0000gp/T/ipykernel_14170/863171515.py:4: DeprecationWarning: executable_path has been deprecated, please pass in a Service object\n",
      "  driver=webdriver.Chrome(PATH)\n",
      "error 1\n",
      "todo OK\n",
      "https://open.spotify.com/track/2K3bjojp1sCLdMMoO5lJ2p?si=f125274ef5f54386\n",
      "/var/folders/s4/79ykyqjn7f16bdl_zqjgsbzh0000gp/T/ipykernel_14170/863171515.py:4: DeprecationWarning: executable_path has been deprecated, please pass in a Service object\n",
      "  driver=webdriver.Chrome(PATH)\n",
      "error 1\n",
      "error 4\n",
      "todo OK\n",
      "https://open.spotify.com/track/2K3bjojp1sCLdMMoO5lJ2p?si=f125274ef5f54386\n",
      "/var/folders/s4/79ykyqjn7f16bdl_zqjgsbzh0000gp/T/ipykernel_14170/863171515.py:4: DeprecationWarning: executable_path has been deprecated, please pass in a Service object\n",
      "  driver=webdriver.Chrome(PATH)\n",
      "todo OK\n",
      "https://open.spotify.com/track/1zZ7vl1amOLI4GE5oUn0YB?si=ec87eb7ecdcd4094\n",
      "/var/folders/s4/79ykyqjn7f16bdl_zqjgsbzh0000gp/T/ipykernel_14170/863171515.py:4: DeprecationWarning: executable_path has been deprecated, please pass in a Service object\n",
      "  driver=webdriver.Chrome(PATH)\n",
      "todo OK\n",
      "https://open.spotify.com/track/2reL9PAUza4PUtbjqW1fRf?si=4e3067f2c55848b0\n",
      "/var/folders/s4/79ykyqjn7f16bdl_zqjgsbzh0000gp/T/ipykernel_14170/863171515.py:4: DeprecationWarning: executable_path has been deprecated, please pass in a Service object\n",
      "  driver=webdriver.Chrome(PATH)\n",
      "error 1\n",
      "todo OK\n",
      "https://open.spotify.com/track/7dQFpbs34ufIEU745DVclf?si=e345731f975c4395\n",
      "/var/folders/s4/79ykyqjn7f16bdl_zqjgsbzh0000gp/T/ipykernel_14170/863171515.py:4: DeprecationWarning: executable_path has been deprecated, please pass in a Service object\n",
      "  driver=webdriver.Chrome(PATH)\n",
      "error 1\n",
      "error 4\n",
      "todo OK\n",
      "https://open.spotify.com/track/7dQFpbs34ufIEU745DVclf?si=e345731f975c4395\n",
      "/var/folders/s4/79ykyqjn7f16bdl_zqjgsbzh0000gp/T/ipykernel_14170/863171515.py:4: DeprecationWarning: executable_path has been deprecated, please pass in a Service object\n",
      "  driver=webdriver.Chrome(PATH)\n",
      "error 1\n",
      "todo OK\n",
      "https://open.spotify.com/track/5r8mGKhCDIVWb3AG4hm0l0?si=9671526faadd4c53\n",
      "/var/folders/s4/79ykyqjn7f16bdl_zqjgsbzh0000gp/T/ipykernel_14170/863171515.py:4: DeprecationWarning: executable_path has been deprecated, please pass in a Service object\n",
      "  driver=webdriver.Chrome(PATH)\n",
      "error 1\n",
      "error 4\n",
      "todo OK\n",
      "https://open.spotify.com/track/5r8mGKhCDIVWb3AG4hm0l0?si=9671526faadd4c53\n",
      "/var/folders/s4/79ykyqjn7f16bdl_zqjgsbzh0000gp/T/ipykernel_14170/863171515.py:4: DeprecationWarning: executable_path has been deprecated, please pass in a Service object\n",
      "  driver=webdriver.Chrome(PATH)\n",
      "error 4\n",
      "todo OK\n",
      "https://open.spotify.com/track/5r8mGKhCDIVWb3AG4hm0l0?si=9671526faadd4c53\n",
      "/var/folders/s4/79ykyqjn7f16bdl_zqjgsbzh0000gp/T/ipykernel_14170/863171515.py:4: DeprecationWarning: executable_path has been deprecated, please pass in a Service object\n",
      "  driver=webdriver.Chrome(PATH)\n",
      "error 4\n",
      "todo OK\n",
      "https://open.spotify.com/track/5r8mGKhCDIVWb3AG4hm0l0?si=9671526faadd4c53\n",
      "/var/folders/s4/79ykyqjn7f16bdl_zqjgsbzh0000gp/T/ipykernel_14170/863171515.py:4: DeprecationWarning: executable_path has been deprecated, please pass in a Service object\n",
      "  driver=webdriver.Chrome(PATH)\n",
      "error 1\n",
      "todo OK\n",
      "https://open.spotify.com/track/3ZwQCZ2LuYwuQ6R1p1CJ3w?si=0247a9d86d014e42\n",
      "/var/folders/s4/79ykyqjn7f16bdl_zqjgsbzh0000gp/T/ipykernel_14170/863171515.py:4: DeprecationWarning: executable_path has been deprecated, please pass in a Service object\n",
      "  driver=webdriver.Chrome(PATH)\n",
      "error 1\n",
      "todo OK\n",
      "https://open.spotify.com/track/1B0BQaSRHxhI0AUlItY3LK?si=412fe5ed12f546ed\n",
      "/var/folders/s4/79ykyqjn7f16bdl_zqjgsbzh0000gp/T/ipykernel_14170/863171515.py:4: DeprecationWarning: executable_path has been deprecated, please pass in a Service object\n",
      "  driver=webdriver.Chrome(PATH)\n",
      "todo OK\n",
      "https://open.spotify.com/track/23zJcKwLf5CeaKVbFhrWgF?si=d45839dbce3b4fc6\n",
      "/var/folders/s4/79ykyqjn7f16bdl_zqjgsbzh0000gp/T/ipykernel_14170/863171515.py:4: DeprecationWarning: executable_path has been deprecated, please pass in a Service object\n",
      "  driver=webdriver.Chrome(PATH)\n",
      "error 4\n",
      "todo OK\n",
      "https://open.spotify.com/track/23zJcKwLf5CeaKVbFhrWgF?si=d45839dbce3b4fc6\n",
      "/var/folders/s4/79ykyqjn7f16bdl_zqjgsbzh0000gp/T/ipykernel_14170/863171515.py:4: DeprecationWarning: executable_path has been deprecated, please pass in a Service object\n",
      "  driver=webdriver.Chrome(PATH)\n",
      "error 1\n",
      "todo OK\n",
      "https://open.spotify.com/track/3o3YFP1o1SEb4Rh5jNkVT4?si=897f8fbb73f44079\n",
      "/var/folders/s4/79ykyqjn7f16bdl_zqjgsbzh0000gp/T/ipykernel_14170/863171515.py:4: DeprecationWarning: executable_path has been deprecated, please pass in a Service object\n",
      "  driver=webdriver.Chrome(PATH)\n",
      "todo OK\n",
      "https://open.spotify.com/track/6dDhaHqJ3wUD3jbjGUBwzh?si=ad52d0c10bf443af\n",
      "/var/folders/s4/79ykyqjn7f16bdl_zqjgsbzh0000gp/T/ipykernel_14170/863171515.py:4: DeprecationWarning: executable_path has been deprecated, please pass in a Service object\n",
      "  driver=webdriver.Chrome(PATH)\n",
      "error 1\n",
      "todo OK\n",
      "https://open.spotify.com/track/7rlKjHvYFlAjMIUDY1CMLu?si=f49b7b048e094bce\n",
      "/var/folders/s4/79ykyqjn7f16bdl_zqjgsbzh0000gp/T/ipykernel_14170/863171515.py:4: DeprecationWarning: executable_path has been deprecated, please pass in a Service object\n",
      "  driver=webdriver.Chrome(PATH)\n",
      "todo OK\n",
      "https://open.spotify.com/track/6qraVL4IJaIj0IuEexYJNa?si=29e3918518944c39\n",
      "/var/folders/s4/79ykyqjn7f16bdl_zqjgsbzh0000gp/T/ipykernel_14170/863171515.py:4: DeprecationWarning: executable_path has been deprecated, please pass in a Service object\n",
      "  driver=webdriver.Chrome(PATH)\n",
      "error 1\n",
      "todo OK\n",
      "https://open.spotify.com/track/75KrTLbcLWgCcldZGxZR12?si=96b69f29188d42da\n",
      "/var/folders/s4/79ykyqjn7f16bdl_zqjgsbzh0000gp/T/ipykernel_14170/863171515.py:4: DeprecationWarning: executable_path has been deprecated, please pass in a Service object\n",
      "  driver=webdriver.Chrome(PATH)\n",
      "error 1\n",
      "error 4\n",
      "todo OK\n",
      "https://open.spotify.com/track/75KrTLbcLWgCcldZGxZR12?si=96b69f29188d42da\n",
      "/var/folders/s4/79ykyqjn7f16bdl_zqjgsbzh0000gp/T/ipykernel_14170/863171515.py:4: DeprecationWarning: executable_path has been deprecated, please pass in a Service object\n",
      "  driver=webdriver.Chrome(PATH)\n",
      "error 1\n",
      "error 4\n",
      "todo OK\n",
      "https://open.spotify.com/track/75KrTLbcLWgCcldZGxZR12?si=96b69f29188d42da\n",
      "/var/folders/s4/79ykyqjn7f16bdl_zqjgsbzh0000gp/T/ipykernel_14170/863171515.py:4: DeprecationWarning: executable_path has been deprecated, please pass in a Service object\n",
      "  driver=webdriver.Chrome(PATH)\n",
      "error 1\n",
      "todo OK\n",
      "https://open.spotify.com/track/5o2M4yHxo9kyNLdgihFeV1?si=079a4a9c5673428a\n",
      "/var/folders/s4/79ykyqjn7f16bdl_zqjgsbzh0000gp/T/ipykernel_14170/863171515.py:4: DeprecationWarning: executable_path has been deprecated, please pass in a Service object\n",
      "  driver=webdriver.Chrome(PATH)\n",
      "todo OK\n",
      "https://open.spotify.com/track/3UdBoC4SNDukSeorNxU6jx?si=7327a7fc9e354bf4\n",
      "/var/folders/s4/79ykyqjn7f16bdl_zqjgsbzh0000gp/T/ipykernel_14170/863171515.py:4: DeprecationWarning: executable_path has been deprecated, please pass in a Service object\n",
      "  driver=webdriver.Chrome(PATH)\n",
      "error 1\n",
      "todo OK\n",
      "https://open.spotify.com/track/1YgPkZ6GOwajDveEsuy3uH?si=67be67da7330401d\n",
      "/var/folders/s4/79ykyqjn7f16bdl_zqjgsbzh0000gp/T/ipykernel_14170/863171515.py:4: DeprecationWarning: executable_path has been deprecated, please pass in a Service object\n",
      "  driver=webdriver.Chrome(PATH)\n",
      "todo OK\n",
      "https://open.spotify.com/track/3s3SRwttipEjIzKUB70jka?si=d980d216d0034ea3\n",
      "/var/folders/s4/79ykyqjn7f16bdl_zqjgsbzh0000gp/T/ipykernel_14170/863171515.py:4: DeprecationWarning: executable_path has been deprecated, please pass in a Service object\n",
      "  driver=webdriver.Chrome(PATH)\n",
      "error 1\n",
      "todo OK\n",
      "https://open.spotify.com/track/3iVwzH29gquHzkrZuy3M4w?si=ab45ede75b00474c\n",
      "/var/folders/s4/79ykyqjn7f16bdl_zqjgsbzh0000gp/T/ipykernel_14170/863171515.py:4: DeprecationWarning: executable_path has been deprecated, please pass in a Service object\n",
      "  driver=webdriver.Chrome(PATH)\n",
      "error 1\n",
      "todo OK\n",
      "https://open.spotify.com/track/7tXHU3EeMfHioXLSCRdDO9?si=428e026e2e6c4645\n",
      "/var/folders/s4/79ykyqjn7f16bdl_zqjgsbzh0000gp/T/ipykernel_14170/863171515.py:4: DeprecationWarning: executable_path has been deprecated, please pass in a Service object\n",
      "  driver=webdriver.Chrome(PATH)\n",
      "error 1\n",
      "todo OK\n",
      "https://open.spotify.com/track/3POjNkAofASd07ivmm3XoY?si=0d7bb0082bff4975\n",
      "/var/folders/s4/79ykyqjn7f16bdl_zqjgsbzh0000gp/T/ipykernel_14170/863171515.py:4: DeprecationWarning: executable_path has been deprecated, please pass in a Service object\n",
      "  driver=webdriver.Chrome(PATH)\n",
      "error 1\n",
      "todo OK\n",
      "https://open.spotify.com/track/1N94ACjwdfczb42LO4dNc8?si=a351c10dcbf54f32\n",
      "/var/folders/s4/79ykyqjn7f16bdl_zqjgsbzh0000gp/T/ipykernel_14170/863171515.py:4: DeprecationWarning: executable_path has been deprecated, please pass in a Service object\n",
      "  driver=webdriver.Chrome(PATH)\n",
      "error 1\n",
      "error 4\n",
      "todo OK\n",
      "https://open.spotify.com/track/1N94ACjwdfczb42LO4dNc8?si=a351c10dcbf54f32\n",
      "/var/folders/s4/79ykyqjn7f16bdl_zqjgsbzh0000gp/T/ipykernel_14170/863171515.py:4: DeprecationWarning: executable_path has been deprecated, please pass in a Service object\n",
      "  driver=webdriver.Chrome(PATH)\n",
      "error 1\n",
      "todo OK\n",
      "https://open.spotify.com/track/3AKyURJxA2IRJwxjkZggC8?si=97b0587d21374cf0\n",
      "/var/folders/s4/79ykyqjn7f16bdl_zqjgsbzh0000gp/T/ipykernel_14170/863171515.py:4: DeprecationWarning: executable_path has been deprecated, please pass in a Service object\n",
      "  driver=webdriver.Chrome(PATH)\n",
      "error 1\n",
      "error 4\n",
      "todo OK\n",
      "https://open.spotify.com/track/3AKyURJxA2IRJwxjkZggC8?si=97b0587d21374cf0\n",
      "/var/folders/s4/79ykyqjn7f16bdl_zqjgsbzh0000gp/T/ipykernel_14170/863171515.py:4: DeprecationWarning: executable_path has been deprecated, please pass in a Service object\n",
      "  driver=webdriver.Chrome(PATH)\n",
      "error 4\n",
      "todo OK\n",
      "https://open.spotify.com/track/3AKyURJxA2IRJwxjkZggC8?si=97b0587d21374cf0\n",
      "/var/folders/s4/79ykyqjn7f16bdl_zqjgsbzh0000gp/T/ipykernel_14170/863171515.py:4: DeprecationWarning: executable_path has been deprecated, please pass in a Service object\n",
      "  driver=webdriver.Chrome(PATH)\n",
      "error 1\n",
      "todo OK\n",
      "https://open.spotify.com/track/6Loso92Vze7MFU9FnaFQBk?si=3f3d671fa3694612\n",
      "/var/folders/s4/79ykyqjn7f16bdl_zqjgsbzh0000gp/T/ipykernel_14170/863171515.py:4: DeprecationWarning: executable_path has been deprecated, please pass in a Service object\n",
      "  driver=webdriver.Chrome(PATH)\n",
      "todo OK\n",
      "https://open.spotify.com/track/0Jl7YPC0sPpqL1d31IixiG?si=b981b639e2ed46d6\n",
      "/var/folders/s4/79ykyqjn7f16bdl_zqjgsbzh0000gp/T/ipykernel_14170/863171515.py:4: DeprecationWarning: executable_path has been deprecated, please pass in a Service object\n",
      "  driver=webdriver.Chrome(PATH)\n",
      "error 1\n",
      "todo OK\n",
      "https://open.spotify.com/track/7piXNyrajEfqhOkzgDq2Ts?si=2244475808ab4877\n",
      "/var/folders/s4/79ykyqjn7f16bdl_zqjgsbzh0000gp/T/ipykernel_14170/863171515.py:4: DeprecationWarning: executable_path has been deprecated, please pass in a Service object\n",
      "  driver=webdriver.Chrome(PATH)\n",
      "error 4\n",
      "todo OK\n",
      "https://open.spotify.com/track/7piXNyrajEfqhOkzgDq2Ts?si=2244475808ab4877\n",
      "/var/folders/s4/79ykyqjn7f16bdl_zqjgsbzh0000gp/T/ipykernel_14170/863171515.py:4: DeprecationWarning: executable_path has been deprecated, please pass in a Service object\n",
      "  driver=webdriver.Chrome(PATH)\n",
      "error 1\n",
      "todo OK\n",
      "https://open.spotify.com/track/32wvhi3fa8Z8kuHK58zAoz?si=422d45ec15834f44\n",
      "/var/folders/s4/79ykyqjn7f16bdl_zqjgsbzh0000gp/T/ipykernel_14170/863171515.py:4: DeprecationWarning: executable_path has been deprecated, please pass in a Service object\n",
      "  driver=webdriver.Chrome(PATH)\n",
      "error 1\n",
      "todo OK\n",
      "https://open.spotify.com/track/0HwA568tvDPPSyT3k3XVRa?si=b228d57c26df4677\n",
      "/var/folders/s4/79ykyqjn7f16bdl_zqjgsbzh0000gp/T/ipykernel_14170/863171515.py:4: DeprecationWarning: executable_path has been deprecated, please pass in a Service object\n",
      "  driver=webdriver.Chrome(PATH)\n",
      "todo OK\n",
      "https://open.spotify.com/track/3kGFPMLAixmHVyvP9Hgl30?si=86632ab6b36e4565\n",
      "/var/folders/s4/79ykyqjn7f16bdl_zqjgsbzh0000gp/T/ipykernel_14170/863171515.py:4: DeprecationWarning: executable_path has been deprecated, please pass in a Service object\n",
      "  driver=webdriver.Chrome(PATH)\n",
      "error 1\n",
      "todo OK\n",
      "https://open.spotify.com/track/2gPhe3c43KG27IcR7D0A1m?si=21430521353d4eb2\n",
      "/var/folders/s4/79ykyqjn7f16bdl_zqjgsbzh0000gp/T/ipykernel_14170/863171515.py:4: DeprecationWarning: executable_path has been deprecated, please pass in a Service object\n",
      "  driver=webdriver.Chrome(PATH)\n",
      "error 1\n",
      "todo OK\n",
      "https://open.spotify.com/track/1tTZAlO1azoGoOJX01KKou?si=7f8f0e65ee6c42f4\n",
      "/var/folders/s4/79ykyqjn7f16bdl_zqjgsbzh0000gp/T/ipykernel_14170/863171515.py:4: DeprecationWarning: executable_path has been deprecated, please pass in a Service object\n",
      "  driver=webdriver.Chrome(PATH)\n",
      "error 1\n",
      "todo OK\n",
      "https://open.spotify.com/track/7wBhAFIYqEgsMFNBG96THW?si=6522c6665c6842b4\n",
      "/var/folders/s4/79ykyqjn7f16bdl_zqjgsbzh0000gp/T/ipykernel_14170/863171515.py:4: DeprecationWarning: executable_path has been deprecated, please pass in a Service object\n",
      "  driver=webdriver.Chrome(PATH)\n",
      "todo OK\n",
      "https://open.spotify.com/track/5b6C325qSx97lW02Xk3rzw?si=f29cdc0f25a44749\n",
      "/var/folders/s4/79ykyqjn7f16bdl_zqjgsbzh0000gp/T/ipykernel_14170/863171515.py:4: DeprecationWarning: executable_path has been deprecated, please pass in a Service object\n",
      "  driver=webdriver.Chrome(PATH)\n",
      "error 4\n",
      "todo OK\n",
      "https://open.spotify.com/track/5b6C325qSx97lW02Xk3rzw?si=f29cdc0f25a44749\n",
      "/var/folders/s4/79ykyqjn7f16bdl_zqjgsbzh0000gp/T/ipykernel_14170/863171515.py:4: DeprecationWarning: executable_path has been deprecated, please pass in a Service object\n",
      "  driver=webdriver.Chrome(PATH)\n",
      "todo OK\n",
      "https://open.spotify.com/track/0KNlNycgMUZUJY1uwIclRa?si=a3ce81d609d7439f\n",
      "/var/folders/s4/79ykyqjn7f16bdl_zqjgsbzh0000gp/T/ipykernel_14170/863171515.py:4: DeprecationWarning: executable_path has been deprecated, please pass in a Service object\n",
      "  driver=webdriver.Chrome(PATH)\n",
      "todo OK\n",
      "https://open.spotify.com/track/5j2X7ohkhveo4dSu75LmGk?si=78d96fb3e14241c7\n",
      "/var/folders/s4/79ykyqjn7f16bdl_zqjgsbzh0000gp/T/ipykernel_14170/863171515.py:4: DeprecationWarning: executable_path has been deprecated, please pass in a Service object\n",
      "  driver=webdriver.Chrome(PATH)\n",
      "error 1\n",
      "todo OK\n",
      "https://open.spotify.com/track/5WKW5VeavHIqp4fgvCBw8U?si=64232ec6578d4ef1\n",
      "/var/folders/s4/79ykyqjn7f16bdl_zqjgsbzh0000gp/T/ipykernel_14170/863171515.py:4: DeprecationWarning: executable_path has been deprecated, please pass in a Service object\n",
      "  driver=webdriver.Chrome(PATH)\n",
      "error 1\n",
      "todo OK\n",
      "https://open.spotify.com/track/4CeeEOM32jQcH3eN9Q2dGj?si=30e33899abef4652\n",
      "/var/folders/s4/79ykyqjn7f16bdl_zqjgsbzh0000gp/T/ipykernel_14170/863171515.py:4: DeprecationWarning: executable_path has been deprecated, please pass in a Service object\n",
      "  driver=webdriver.Chrome(PATH)\n",
      "todo OK\n",
      "https://open.spotify.com/track/11LmqTE2naFULdEP94AUBa?si=e172f8f430b64074\n",
      "/var/folders/s4/79ykyqjn7f16bdl_zqjgsbzh0000gp/T/ipykernel_14170/863171515.py:4: DeprecationWarning: executable_path has been deprecated, please pass in a Service object\n",
      "  driver=webdriver.Chrome(PATH)\n",
      "error 1\n",
      "todo OK\n",
      "https://open.spotify.com/track/2RsAajgo0g7bMCHxwH3Sk0?si=aa562adad5044320\n",
      "/var/folders/s4/79ykyqjn7f16bdl_zqjgsbzh0000gp/T/ipykernel_14170/863171515.py:4: DeprecationWarning: executable_path has been deprecated, please pass in a Service object\n",
      "  driver=webdriver.Chrome(PATH)\n",
      "todo OK\n",
      "https://open.spotify.com/track/15VRO9CQwMpbqUYA7e6Hwg?si=8735d9f90d764910\n",
      "/var/folders/s4/79ykyqjn7f16bdl_zqjgsbzh0000gp/T/ipykernel_14170/863171515.py:4: DeprecationWarning: executable_path has been deprecated, please pass in a Service object\n",
      "  driver=webdriver.Chrome(PATH)\n",
      "error 1\n",
      "todo OK\n",
      "https://open.spotify.com/track/55yvzYuvJYG2RUEnMK78tr?si=554a09db44cd437b\n",
      "/var/folders/s4/79ykyqjn7f16bdl_zqjgsbzh0000gp/T/ipykernel_14170/863171515.py:4: DeprecationWarning: executable_path has been deprecated, please pass in a Service object\n",
      "  driver=webdriver.Chrome(PATH)\n",
      "todo OK\n",
      "https://open.spotify.com/track/4gHnSNHs8RyVukKoWdS99f?si=5d3d3dce9e524e59\n",
      "/var/folders/s4/79ykyqjn7f16bdl_zqjgsbzh0000gp/T/ipykernel_14170/863171515.py:4: DeprecationWarning: executable_path has been deprecated, please pass in a Service object\n",
      "  driver=webdriver.Chrome(PATH)\n",
      "todo OK\n",
      "https://open.spotify.com/track/5vHLwhxxlGzmClMcxRRFPr?si=3cdfdff10362489f\n",
      "/var/folders/s4/79ykyqjn7f16bdl_zqjgsbzh0000gp/T/ipykernel_14170/863171515.py:4: DeprecationWarning: executable_path has been deprecated, please pass in a Service object\n",
      "  driver=webdriver.Chrome(PATH)\n",
      "error 1\n",
      "todo OK\n",
      "https://open.spotify.com/track/2mvffzYUJ9Ld9xhsF5DUjU?si=0cbd50352e1f4036\n",
      "/var/folders/s4/79ykyqjn7f16bdl_zqjgsbzh0000gp/T/ipykernel_14170/863171515.py:4: DeprecationWarning: executable_path has been deprecated, please pass in a Service object\n",
      "  driver=webdriver.Chrome(PATH)\n",
      "error 4\n",
      "todo OK\n",
      "https://open.spotify.com/track/2mvffzYUJ9Ld9xhsF5DUjU?si=0cbd50352e1f4036\n",
      "/var/folders/s4/79ykyqjn7f16bdl_zqjgsbzh0000gp/T/ipykernel_14170/863171515.py:4: DeprecationWarning: executable_path has been deprecated, please pass in a Service object\n",
      "  driver=webdriver.Chrome(PATH)\n",
      "error 1\n",
      "error 4\n",
      "todo OK\n",
      "https://open.spotify.com/track/2mvffzYUJ9Ld9xhsF5DUjU?si=0cbd50352e1f4036\n",
      "/var/folders/s4/79ykyqjn7f16bdl_zqjgsbzh0000gp/T/ipykernel_14170/863171515.py:4: DeprecationWarning: executable_path has been deprecated, please pass in a Service object\n",
      "  driver=webdriver.Chrome(PATH)\n",
      "error 1\n",
      "error 4\n",
      "todo OK\n",
      "https://open.spotify.com/track/2mvffzYUJ9Ld9xhsF5DUjU?si=0cbd50352e1f4036\n",
      "/var/folders/s4/79ykyqjn7f16bdl_zqjgsbzh0000gp/T/ipykernel_14170/863171515.py:4: DeprecationWarning: executable_path has been deprecated, please pass in a Service object\n",
      "  driver=webdriver.Chrome(PATH)\n",
      "error 1\n",
      "error 4\n",
      "todo OK\n",
      "https://open.spotify.com/track/2mvffzYUJ9Ld9xhsF5DUjU?si=0cbd50352e1f4036\n",
      "/var/folders/s4/79ykyqjn7f16bdl_zqjgsbzh0000gp/T/ipykernel_14170/863171515.py:4: DeprecationWarning: executable_path has been deprecated, please pass in a Service object\n",
      "  driver=webdriver.Chrome(PATH)\n",
      "error 1\n",
      "error 4\n",
      "todo OK\n",
      "https://open.spotify.com/track/2mvffzYUJ9Ld9xhsF5DUjU?si=0cbd50352e1f4036\n",
      "/var/folders/s4/79ykyqjn7f16bdl_zqjgsbzh0000gp/T/ipykernel_14170/863171515.py:4: DeprecationWarning: executable_path has been deprecated, please pass in a Service object\n",
      "  driver=webdriver.Chrome(PATH)\n",
      "error 1\n",
      "error 4\n",
      "todo OK\n",
      "https://open.spotify.com/track/2mvffzYUJ9Ld9xhsF5DUjU?si=0cbd50352e1f4036\n",
      "/var/folders/s4/79ykyqjn7f16bdl_zqjgsbzh0000gp/T/ipykernel_14170/863171515.py:4: DeprecationWarning: executable_path has been deprecated, please pass in a Service object\n",
      "  driver=webdriver.Chrome(PATH)\n",
      "error 1\n",
      "error 4\n",
      "todo OK\n",
      "https://open.spotify.com/track/2mvffzYUJ9Ld9xhsF5DUjU?si=0cbd50352e1f4036\n",
      "/var/folders/s4/79ykyqjn7f16bdl_zqjgsbzh0000gp/T/ipykernel_14170/863171515.py:4: DeprecationWarning: executable_path has been deprecated, please pass in a Service object\n",
      "  driver=webdriver.Chrome(PATH)\n",
      "error 1\n",
      "error 4\n",
      "todo OK\n",
      "https://open.spotify.com/track/2mvffzYUJ9Ld9xhsF5DUjU?si=0cbd50352e1f4036\n",
      "/var/folders/s4/79ykyqjn7f16bdl_zqjgsbzh0000gp/T/ipykernel_14170/863171515.py:4: DeprecationWarning: executable_path has been deprecated, please pass in a Service object\n",
      "  driver=webdriver.Chrome(PATH)\n",
      "todo OK\n",
      "https://open.spotify.com/track/2Sfl7odHUmG7qc8SbqUyzE?si=be2e155e381f41fb\n",
      "/var/folders/s4/79ykyqjn7f16bdl_zqjgsbzh0000gp/T/ipykernel_14170/863171515.py:4: DeprecationWarning: executable_path has been deprecated, please pass in a Service object\n",
      "  driver=webdriver.Chrome(PATH)\n",
      "error 1\n",
      "error 4\n",
      "todo OK\n",
      "https://open.spotify.com/track/2Sfl7odHUmG7qc8SbqUyzE?si=be2e155e381f41fb\n",
      "/var/folders/s4/79ykyqjn7f16bdl_zqjgsbzh0000gp/T/ipykernel_14170/863171515.py:4: DeprecationWarning: executable_path has been deprecated, please pass in a Service object\n",
      "  driver=webdriver.Chrome(PATH)\n",
      "todo OK\n",
      "https://open.spotify.com/track/0oufSLnKQDoBFX5mgkDCgR?si=7d50aaf7da5b4c5a\n",
      "/var/folders/s4/79ykyqjn7f16bdl_zqjgsbzh0000gp/T/ipykernel_14170/863171515.py:4: DeprecationWarning: executable_path has been deprecated, please pass in a Service object\n",
      "  driver=webdriver.Chrome(PATH)\n",
      "error 1\n",
      "todo OK\n",
      "https://open.spotify.com/track/7gMIMcvnL39uNIyxZI2D5y?si=74330c5d8d2145e3\n",
      "/var/folders/s4/79ykyqjn7f16bdl_zqjgsbzh0000gp/T/ipykernel_14170/863171515.py:4: DeprecationWarning: executable_path has been deprecated, please pass in a Service object\n",
      "  driver=webdriver.Chrome(PATH)\n",
      "todo OK\n",
      "https://open.spotify.com/track/4pgv7cklqP38HF9V6xekJI?si=d7bf96d6bc35452b\n",
      "/var/folders/s4/79ykyqjn7f16bdl_zqjgsbzh0000gp/T/ipykernel_14170/863171515.py:4: DeprecationWarning: executable_path has been deprecated, please pass in a Service object\n",
      "  driver=webdriver.Chrome(PATH)\n",
      "error 1\n",
      "todo OK\n",
      "https://open.spotify.com/track/02qcrVQ61nS94wWvLaiXGf?si=f918500639614107\n",
      "/var/folders/s4/79ykyqjn7f16bdl_zqjgsbzh0000gp/T/ipykernel_14170/863171515.py:4: DeprecationWarning: executable_path has been deprecated, please pass in a Service object\n",
      "  driver=webdriver.Chrome(PATH)\n",
      "todo OK\n",
      "https://open.spotify.com/track/6OPrbQGZgOkIBrwWTzyuZn?si=a0f0bbf1487847d7\n",
      "/var/folders/s4/79ykyqjn7f16bdl_zqjgsbzh0000gp/T/ipykernel_14170/863171515.py:4: DeprecationWarning: executable_path has been deprecated, please pass in a Service object\n",
      "  driver=webdriver.Chrome(PATH)\n",
      "todo OK\n",
      "https://open.spotify.com/track/5hM5arv9KDbCHS0k9uqwjr?si=969b480bb87140ec\n",
      "/var/folders/s4/79ykyqjn7f16bdl_zqjgsbzh0000gp/T/ipykernel_14170/863171515.py:4: DeprecationWarning: executable_path has been deprecated, please pass in a Service object\n",
      "  driver=webdriver.Chrome(PATH)\n",
      "error 1\n",
      "error 4\n",
      "todo OK\n",
      "https://open.spotify.com/track/5hM5arv9KDbCHS0k9uqwjr?si=969b480bb87140ec\n",
      "/var/folders/s4/79ykyqjn7f16bdl_zqjgsbzh0000gp/T/ipykernel_14170/863171515.py:4: DeprecationWarning: executable_path has been deprecated, please pass in a Service object\n",
      "  driver=webdriver.Chrome(PATH)\n",
      "error 4\n",
      "todo OK\n",
      "https://open.spotify.com/track/5hM5arv9KDbCHS0k9uqwjr?si=969b480bb87140ec\n",
      "/var/folders/s4/79ykyqjn7f16bdl_zqjgsbzh0000gp/T/ipykernel_14170/863171515.py:4: DeprecationWarning: executable_path has been deprecated, please pass in a Service object\n",
      "  driver=webdriver.Chrome(PATH)\n",
      "error 4\n",
      "todo OK\n",
      "https://open.spotify.com/track/5hM5arv9KDbCHS0k9uqwjr?si=969b480bb87140ec\n",
      "/var/folders/s4/79ykyqjn7f16bdl_zqjgsbzh0000gp/T/ipykernel_14170/863171515.py:4: DeprecationWarning: executable_path has been deprecated, please pass in a Service object\n",
      "  driver=webdriver.Chrome(PATH)\n",
      "error 1\n",
      "error 4\n",
      "todo OK\n",
      "https://open.spotify.com/track/5hM5arv9KDbCHS0k9uqwjr?si=969b480bb87140ec\n",
      "/var/folders/s4/79ykyqjn7f16bdl_zqjgsbzh0000gp/T/ipykernel_14170/863171515.py:4: DeprecationWarning: executable_path has been deprecated, please pass in a Service object\n",
      "  driver=webdriver.Chrome(PATH)\n",
      "driver.quit()\n",
      "uri\n",
      "link=[]\n",
      "'https://open.spotify.com/search/\n",
      "def buscarlink (trackartist):\n",
      "        \n",
      "    url=f'https://open.spotify.com/search/{trackartist}'\n",
      "    # inicia el driver\n",
      "    driver=webdriver.Chrome(PATH)\n",
      "    driver.get(url)\n",
      "​\n",
      "​\n",
      "    # acepta cookies\n",
      "    try:\n",
      "        time.sleep(10)\n",
      "        aceptar=driver.find_element(By.XPATH, '//*[@id=\"onetrust-accept-btn-handler\"]')\n",
      "        aceptar.click()\n",
      "​\n",
      "        time.sleep(4)\n",
      "    except:\n",
      "        time.sleep(0.00001)\n",
      "​\n",
      "    #Anuncio Premium\n",
      "    try:\n",
      "        anuncio=driver.find_element(By.XPATH, '//*[@id=\"main\"]/div/div[2]/div[2]/footer/div[1]/button[2]')\n",
      "        anuncio.click()\n",
      "        time.sleep(4)\n",
      "​\n",
      "    except:\n",
      "        time.sleep(0.0001)\n",
      "​\n",
      "    # seleccionar las opciones de la canción\n",
      "    opciones=driver.find_element(By.XPATH, '//*[@id=\"searchPage\"]/div/div/section[2]/div[2]/div/div/div/div[2]/div[1]/div/div[2]/button[2]')\n",
      "    opciones.click()\n",
      "​\n",
      "    #seleccionar compartir\n",
      "    compartir=driver.find_element(By.XPATH, '//*[@id=\"context-menu\"]/ul/li[7]/button/span[1]')\n",
      "    compartir.click()\n",
      "​\n",
      "    #copiar el enlace de la canción\n",
      "    copiarlink = driver.find_element(By.XPATH, '//*[@id=\"tippy-4\"]/ul/li[1]/button/span')\n",
      "    copiarlink.click()\n",
      "    print(copiarlink.text())\n",
      "​\n",
      "    #pegar el enlace\n",
      "    global listita\n",
      "    listita = []\n",
      "    listita.append(clipboard.paste())\n",
      "    print(clipboard.paste())\n",
      "    print(listita)\n",
      "    \n",
      "    #cerrar driver\n",
      "    driver.quit()\n",
      "    \n",
      "    return listita\n",
      "​\n",
      "Elephant%20Tame%20Impala\n",
      "prueba = ['Experimento%20Myke%20Towers','Rocky%20Still%20Woozy', 'Elephant%20Tame%20Impala', 'Experimento%20Myke%20Towers', 'Experimento%20Myke%20Towers', 'Experimento%20Myke%20Towers', 'Experimento%20Myke%20Towers', 'Experimento%20Myke%20Towers', 'Experimento%20Myke%20Towers', 'Experimento%20Myke%20Towers', 'fallin%20Alicia%20Keys']\n",
      "df = Parallel(n_jobs=1, verbose=True)(delayed(buscarlink)(e) for e in prueba)\n",
      "driver.quit()\n",
      "listita\n",
      "music.head(25)\n",
      "​\n",
      "\n"
     ]
    },
    {
     "name": "stderr",
     "output_type": "stream",
     "text": [
      "/var/folders/s4/79ykyqjn7f16bdl_zqjgsbzh0000gp/T/ipykernel_14170/863171515.py:4: DeprecationWarning: executable_path has been deprecated, please pass in a Service object\n",
      "  driver=webdriver.Chrome(PATH)\n"
     ]
    },
    {
     "name": "stdout",
     "output_type": "stream",
     "text": [
      "error 4\n",
      "todo OK\n",
      "error 1\n",
      "todo OK\n",
      "https://open.spotify.com/track/6ic8OlLUNEATToEFU3xmaH?si=b84d9157d84e473f\n",
      "/var/folders/s4/79ykyqjn7f16bdl_zqjgsbzh0000gp/T/ipykernel_14170/863171515.py:4: DeprecationWarning: executable_path has been deprecated, please pass in a Service object\n",
      "  driver=webdriver.Chrome(PATH)\n",
      "todo OK\n",
      "https://open.spotify.com/track/1sl1cpix9GnwNwaVt04BIu?si=c413ef03913040dd\n",
      "/var/folders/s4/79ykyqjn7f16bdl_zqjgsbzh0000gp/T/ipykernel_14170/863171515.py:4: DeprecationWarning: executable_path has been deprecated, please pass in a Service object\n",
      "  driver=webdriver.Chrome(PATH)\n",
      "error 4\n",
      "todo OK\n",
      "https://open.spotify.com/track/1sl1cpix9GnwNwaVt04BIu?si=c413ef03913040dd\n",
      "/var/folders/s4/79ykyqjn7f16bdl_zqjgsbzh0000gp/T/ipykernel_14170/863171515.py:4: DeprecationWarning: executable_path has been deprecated, please pass in a Service object\n",
      "  driver=webdriver.Chrome(PATH)\n",
      "error 4\n",
      "todo OK\n",
      "https://open.spotify.com/track/1sl1cpix9GnwNwaVt04BIu?si=c413ef03913040dd\n",
      "/var/folders/s4/79ykyqjn7f16bdl_zqjgsbzh0000gp/T/ipykernel_14170/863171515.py:4: DeprecationWarning: executable_path has been deprecated, please pass in a Service object\n",
      "  driver=webdriver.Chrome(PATH)\n",
      "todo OK\n",
      "https://open.spotify.com/track/0BxfFnk0YzONqvmrkO0QrB?si=60b5f0cf8b6141a0\n",
      "/var/folders/s4/79ykyqjn7f16bdl_zqjgsbzh0000gp/T/ipykernel_14170/863171515.py:4: DeprecationWarning: executable_path has been deprecated, please pass in a Service object\n",
      "  driver=webdriver.Chrome(PATH)\n",
      "error 4\n",
      "todo OK\n",
      "https://open.spotify.com/track/0BxfFnk0YzONqvmrkO0QrB?si=60b5f0cf8b6141a0\n",
      "/var/folders/s4/79ykyqjn7f16bdl_zqjgsbzh0000gp/T/ipykernel_14170/863171515.py:4: DeprecationWarning: executable_path has been deprecated, please pass in a Service object\n",
      "  driver=webdriver.Chrome(PATH)\n",
      "error 1\n",
      "error 4\n",
      "todo OK\n",
      "https://open.spotify.com/track/0BxfFnk0YzONqvmrkO0QrB?si=60b5f0cf8b6141a0\n",
      "/var/folders/s4/79ykyqjn7f16bdl_zqjgsbzh0000gp/T/ipykernel_14170/863171515.py:4: DeprecationWarning: executable_path has been deprecated, please pass in a Service object\n",
      "  driver=webdriver.Chrome(PATH)\n",
      "error 4\n",
      "todo OK\n",
      "https://open.spotify.com/track/0BxfFnk0YzONqvmrkO0QrB?si=60b5f0cf8b6141a0\n",
      "/var/folders/s4/79ykyqjn7f16bdl_zqjgsbzh0000gp/T/ipykernel_14170/863171515.py:4: DeprecationWarning: executable_path has been deprecated, please pass in a Service object\n",
      "  driver=webdriver.Chrome(PATH)\n",
      "error 1\n",
      "error 4\n",
      "todo OK\n",
      "https://open.spotify.com/track/0BxfFnk0YzONqvmrkO0QrB?si=60b5f0cf8b6141a0\n",
      "/var/folders/s4/79ykyqjn7f16bdl_zqjgsbzh0000gp/T/ipykernel_14170/863171515.py:4: DeprecationWarning: executable_path has been deprecated, please pass in a Service object\n",
      "  driver=webdriver.Chrome(PATH)\n",
      "todo OK\n",
      "https://open.spotify.com/track/4D6TpthzUVNTjWQqfBW5Kb?si=10999c999e8d4168\n",
      "/var/folders/s4/79ykyqjn7f16bdl_zqjgsbzh0000gp/T/ipykernel_14170/863171515.py:4: DeprecationWarning: executable_path has been deprecated, please pass in a Service object\n",
      "  driver=webdriver.Chrome(PATH)\n",
      "todo OK\n",
      "https://open.spotify.com/track/22L7bfCiAkJo5xGSQgmiIO?si=b759bbb76e37486e\n",
      "/var/folders/s4/79ykyqjn7f16bdl_zqjgsbzh0000gp/T/ipykernel_14170/863171515.py:4: DeprecationWarning: executable_path has been deprecated, please pass in a Service object\n",
      "  driver=webdriver.Chrome(PATH)\n",
      "error 4\n",
      "todo OK\n",
      "https://open.spotify.com/track/22L7bfCiAkJo5xGSQgmiIO?si=b759bbb76e37486e\n",
      "/var/folders/s4/79ykyqjn7f16bdl_zqjgsbzh0000gp/T/ipykernel_14170/863171515.py:4: DeprecationWarning: executable_path has been deprecated, please pass in a Service object\n",
      "  driver=webdriver.Chrome(PATH)\n",
      "error 4\n",
      "todo OK\n",
      "https://open.spotify.com/track/22L7bfCiAkJo5xGSQgmiIO?si=b759bbb76e37486e\n",
      "/var/folders/s4/79ykyqjn7f16bdl_zqjgsbzh0000gp/T/ipykernel_14170/863171515.py:4: DeprecationWarning: executable_path has been deprecated, please pass in a Service object\n",
      "  driver=webdriver.Chrome(PATH)\n",
      "todo OK\n",
      "https://open.spotify.com/track/27OeeYzk6klgBh83TSvGMA?si=096e7937bd83440e\n",
      "/var/folders/s4/79ykyqjn7f16bdl_zqjgsbzh0000gp/T/ipykernel_14170/863171515.py:4: DeprecationWarning: executable_path has been deprecated, please pass in a Service object\n",
      "  driver=webdriver.Chrome(PATH)\n",
      "error 4\n",
      "todo OK\n",
      "https://open.spotify.com/track/27OeeYzk6klgBh83TSvGMA?si=096e7937bd83440e\n",
      "/var/folders/s4/79ykyqjn7f16bdl_zqjgsbzh0000gp/T/ipykernel_14170/863171515.py:4: DeprecationWarning: executable_path has been deprecated, please pass in a Service object\n",
      "  driver=webdriver.Chrome(PATH)\n",
      "error 1\n",
      "error 4\n",
      "todo OK\n",
      "https://open.spotify.com/track/27OeeYzk6klgBh83TSvGMA?si=096e7937bd83440e\n",
      "/var/folders/s4/79ykyqjn7f16bdl_zqjgsbzh0000gp/T/ipykernel_14170/863171515.py:4: DeprecationWarning: executable_path has been deprecated, please pass in a Service object\n",
      "  driver=webdriver.Chrome(PATH)\n",
      "error 1\n",
      "todo OK\n",
      "https://open.spotify.com/track/2gqWRRCXnma9L8xQ1RdemQ?si=f4f9269b76e040e1\n",
      "/var/folders/s4/79ykyqjn7f16bdl_zqjgsbzh0000gp/T/ipykernel_14170/863171515.py:4: DeprecationWarning: executable_path has been deprecated, please pass in a Service object\n",
      "  driver=webdriver.Chrome(PATH)\n",
      "error 1\n",
      "todo OK\n",
      "https://open.spotify.com/track/1ibeKVCiXORhvUpMmtsQWq?si=306646ebca874c5c\n",
      "/var/folders/s4/79ykyqjn7f16bdl_zqjgsbzh0000gp/T/ipykernel_14170/863171515.py:4: DeprecationWarning: executable_path has been deprecated, please pass in a Service object\n",
      "  driver=webdriver.Chrome(PATH)\n",
      "error 1\n",
      "todo OK\n",
      "https://open.spotify.com/track/3yzHIAzk3zVE1WgspS8W21?si=d0e465071b6844b1\n",
      "/var/folders/s4/79ykyqjn7f16bdl_zqjgsbzh0000gp/T/ipykernel_14170/863171515.py:4: DeprecationWarning: executable_path has been deprecated, please pass in a Service object\n",
      "  driver=webdriver.Chrome(PATH)\n",
      "error 1\n",
      "error 4\n",
      "todo OK\n",
      "https://open.spotify.com/track/3yzHIAzk3zVE1WgspS8W21?si=d0e465071b6844b1\n",
      "/var/folders/s4/79ykyqjn7f16bdl_zqjgsbzh0000gp/T/ipykernel_14170/863171515.py:4: DeprecationWarning: executable_path has been deprecated, please pass in a Service object\n",
      "  driver=webdriver.Chrome(PATH)\n",
      "error 1\n",
      "todo OK\n",
      "https://open.spotify.com/track/7BIy3EGQhg98CsRdKYHnJC?si=dc209b9c2f494860\n",
      "/var/folders/s4/79ykyqjn7f16bdl_zqjgsbzh0000gp/T/ipykernel_14170/863171515.py:4: DeprecationWarning: executable_path has been deprecated, please pass in a Service object\n",
      "  driver=webdriver.Chrome(PATH)\n",
      "error 1\n",
      "todo OK\n",
      "https://open.spotify.com/track/7wD6WAp1lowdxnvEfgyvNV?si=b8b70e9fd65f42b5\n",
      "/var/folders/s4/79ykyqjn7f16bdl_zqjgsbzh0000gp/T/ipykernel_14170/863171515.py:4: DeprecationWarning: executable_path has been deprecated, please pass in a Service object\n",
      "  driver=webdriver.Chrome(PATH)\n",
      "error 1\n",
      "todo OK\n",
      "https://open.spotify.com/track/0fwIHsKXNEcb57u2um7z9I?si=f7d851c45267403a\n",
      "/var/folders/s4/79ykyqjn7f16bdl_zqjgsbzh0000gp/T/ipykernel_14170/863171515.py:4: DeprecationWarning: executable_path has been deprecated, please pass in a Service object\n",
      "  driver=webdriver.Chrome(PATH)\n",
      "error 1\n",
      "error 4\n",
      "todo OK\n",
      "https://open.spotify.com/track/0fwIHsKXNEcb57u2um7z9I?si=f7d851c45267403a\n",
      "/var/folders/s4/79ykyqjn7f16bdl_zqjgsbzh0000gp/T/ipykernel_14170/863171515.py:4: DeprecationWarning: executable_path has been deprecated, please pass in a Service object\n",
      "  driver=webdriver.Chrome(PATH)\n",
      "error 1\n",
      "todo OK\n",
      "https://open.spotify.com/track/17nOJOcPbcl4sKzM2yyYDp?si=7889c510fd514652\n",
      "/var/folders/s4/79ykyqjn7f16bdl_zqjgsbzh0000gp/T/ipykernel_14170/863171515.py:4: DeprecationWarning: executable_path has been deprecated, please pass in a Service object\n",
      "  driver=webdriver.Chrome(PATH)\n",
      "todo OK\n",
      "https://open.spotify.com/track/7AjfklMN4WpQYz5FkT4E66?si=953806031e9c4a0c\n",
      "/var/folders/s4/79ykyqjn7f16bdl_zqjgsbzh0000gp/T/ipykernel_14170/863171515.py:4: DeprecationWarning: executable_path has been deprecated, please pass in a Service object\n",
      "  driver=webdriver.Chrome(PATH)\n",
      "error 1\n",
      "todo OK\n",
      "https://open.spotify.com/track/7rt0kEDWRg3pgTZJKuszoE?si=e163f7ff83d04653\n",
      "/var/folders/s4/79ykyqjn7f16bdl_zqjgsbzh0000gp/T/ipykernel_14170/863171515.py:4: DeprecationWarning: executable_path has been deprecated, please pass in a Service object\n",
      "  driver=webdriver.Chrome(PATH)\n",
      "error 1\n",
      "todo OK\n",
      "https://open.spotify.com/track/7hzgk557YLr0722EFkmp9Z?si=741edbe3741a43ca\n",
      "/var/folders/s4/79ykyqjn7f16bdl_zqjgsbzh0000gp/T/ipykernel_14170/863171515.py:4: DeprecationWarning: executable_path has been deprecated, please pass in a Service object\n",
      "  driver=webdriver.Chrome(PATH)\n",
      "error 1\n",
      "todo OK\n",
      "https://open.spotify.com/track/4oPNN7syJYSjzDhRerF966?si=73909cbc1aa34c2b\n",
      "/var/folders/s4/79ykyqjn7f16bdl_zqjgsbzh0000gp/T/ipykernel_14170/863171515.py:4: DeprecationWarning: executable_path has been deprecated, please pass in a Service object\n",
      "  driver=webdriver.Chrome(PATH)\n",
      "error 1\n",
      "todo OK\n",
      "https://open.spotify.com/track/2RcanAJpudPNDkyIe9DzKS?si=b978533554424662\n",
      "/var/folders/s4/79ykyqjn7f16bdl_zqjgsbzh0000gp/T/ipykernel_14170/863171515.py:4: DeprecationWarning: executable_path has been deprecated, please pass in a Service object\n",
      "  driver=webdriver.Chrome(PATH)\n",
      "error 1\n",
      "todo OK\n",
      "https://open.spotify.com/track/456WNXWhDwYOSf5SpTuqxd?si=0a7432de74ae4068\n",
      "/var/folders/s4/79ykyqjn7f16bdl_zqjgsbzh0000gp/T/ipykernel_14170/863171515.py:4: DeprecationWarning: executable_path has been deprecated, please pass in a Service object\n",
      "  driver=webdriver.Chrome(PATH)\n",
      "error 1\n",
      "todo OK\n",
      "https://open.spotify.com/track/244AvzGQ4Ksa5637JQu5Gy?si=d27211ccf7734917\n",
      "/var/folders/s4/79ykyqjn7f16bdl_zqjgsbzh0000gp/T/ipykernel_14170/863171515.py:4: DeprecationWarning: executable_path has been deprecated, please pass in a Service object\n",
      "  driver=webdriver.Chrome(PATH)\n",
      "error 1\n",
      "error 4\n",
      "todo OK\n",
      "https://open.spotify.com/track/244AvzGQ4Ksa5637JQu5Gy?si=d27211ccf7734917\n",
      "/var/folders/s4/79ykyqjn7f16bdl_zqjgsbzh0000gp/T/ipykernel_14170/863171515.py:4: DeprecationWarning: executable_path has been deprecated, please pass in a Service object\n",
      "  driver=webdriver.Chrome(PATH)\n",
      "error 1\n",
      "todo OK\n",
      "https://open.spotify.com/track/244AvzGQ4Ksa5637JQu5Gy?si=d27211ccf7734917\n",
      "/var/folders/s4/79ykyqjn7f16bdl_zqjgsbzh0000gp/T/ipykernel_14170/863171515.py:4: DeprecationWarning: executable_path has been deprecated, please pass in a Service object\n",
      "  driver=webdriver.Chrome(PATH)\n",
      "error 4\n",
      "todo OK\n",
      "https://open.spotify.com/track/244AvzGQ4Ksa5637JQu5Gy?si=d27211ccf7734917\n",
      "/var/folders/s4/79ykyqjn7f16bdl_zqjgsbzh0000gp/T/ipykernel_14170/863171515.py:4: DeprecationWarning: executable_path has been deprecated, please pass in a Service object\n",
      "  driver=webdriver.Chrome(PATH)\n",
      "error 1\n",
      "todo OK\n",
      "https://open.spotify.com/track/3wA4ronkc8ZcPXUP0fDgYA?si=a103224f0739474c\n",
      "/var/folders/s4/79ykyqjn7f16bdl_zqjgsbzh0000gp/T/ipykernel_14170/863171515.py:4: DeprecationWarning: executable_path has been deprecated, please pass in a Service object\n",
      "  driver=webdriver.Chrome(PATH)\n",
      "error 1\n",
      "todo OK\n",
      "https://open.spotify.com/track/7kjjpSYKszLz8TwQXEnqlx?si=ba7261e2e40240d1\n",
      "/var/folders/s4/79ykyqjn7f16bdl_zqjgsbzh0000gp/T/ipykernel_14170/863171515.py:4: DeprecationWarning: executable_path has been deprecated, please pass in a Service object\n",
      "  driver=webdriver.Chrome(PATH)\n",
      "error 1\n",
      "todo OK\n",
      "https://open.spotify.com/track/32YHCNItnCdiYaPbw0uTo8?si=7a87127bae874f97\n",
      "/var/folders/s4/79ykyqjn7f16bdl_zqjgsbzh0000gp/T/ipykernel_14170/863171515.py:4: DeprecationWarning: executable_path has been deprecated, please pass in a Service object\n",
      "  driver=webdriver.Chrome(PATH)\n",
      "todo OK\n",
      "https://open.spotify.com/track/2PIvq1pGrUjY007X5y1UpM?si=8b889b5283404b25\n",
      "/var/folders/s4/79ykyqjn7f16bdl_zqjgsbzh0000gp/T/ipykernel_14170/863171515.py:4: DeprecationWarning: executable_path has been deprecated, please pass in a Service object\n",
      "  driver=webdriver.Chrome(PATH)\n",
      "error 1\n",
      "error 4\n",
      "todo OK\n",
      "https://open.spotify.com/track/2PIvq1pGrUjY007X5y1UpM?si=8b889b5283404b25\n",
      "/var/folders/s4/79ykyqjn7f16bdl_zqjgsbzh0000gp/T/ipykernel_14170/863171515.py:4: DeprecationWarning: executable_path has been deprecated, please pass in a Service object\n",
      "  driver=webdriver.Chrome(PATH)\n",
      "todo OK\n",
      "https://open.spotify.com/track/5GbVzc6Ex5LYlLJqzRQhuy?si=952ecdd7d07e43e2\n",
      "/var/folders/s4/79ykyqjn7f16bdl_zqjgsbzh0000gp/T/ipykernel_14170/863171515.py:4: DeprecationWarning: executable_path has been deprecated, please pass in a Service object\n",
      "  driver=webdriver.Chrome(PATH)\n",
      "error 1\n",
      "error 4\n",
      "todo OK\n",
      "https://open.spotify.com/track/5GbVzc6Ex5LYlLJqzRQhuy?si=952ecdd7d07e43e2\n",
      "/var/folders/s4/79ykyqjn7f16bdl_zqjgsbzh0000gp/T/ipykernel_14170/863171515.py:4: DeprecationWarning: executable_path has been deprecated, please pass in a Service object\n",
      "  driver=webdriver.Chrome(PATH)\n",
      "error 4\n",
      "todo OK\n",
      "https://open.spotify.com/track/5GbVzc6Ex5LYlLJqzRQhuy?si=952ecdd7d07e43e2\n",
      "/var/folders/s4/79ykyqjn7f16bdl_zqjgsbzh0000gp/T/ipykernel_14170/863171515.py:4: DeprecationWarning: executable_path has been deprecated, please pass in a Service object\n",
      "  driver=webdriver.Chrome(PATH)\n",
      "error 1\n",
      "todo OK\n",
      "https://open.spotify.com/track/1ai9FDnFQDv18WAtFhMTIz?si=fe6cbfce3e4648e8\n",
      "/var/folders/s4/79ykyqjn7f16bdl_zqjgsbzh0000gp/T/ipykernel_14170/863171515.py:4: DeprecationWarning: executable_path has been deprecated, please pass in a Service object\n",
      "  driver=webdriver.Chrome(PATH)\n",
      "error 1\n",
      "error 4\n",
      "todo OK\n",
      "https://open.spotify.com/track/1ai9FDnFQDv18WAtFhMTIz?si=fe6cbfce3e4648e8\n",
      "/var/folders/s4/79ykyqjn7f16bdl_zqjgsbzh0000gp/T/ipykernel_14170/863171515.py:4: DeprecationWarning: executable_path has been deprecated, please pass in a Service object\n",
      "  driver=webdriver.Chrome(PATH)\n",
      "error 1\n",
      "error 4\n",
      "todo OK\n",
      "https://open.spotify.com/track/1ai9FDnFQDv18WAtFhMTIz?si=fe6cbfce3e4648e8\n",
      "/var/folders/s4/79ykyqjn7f16bdl_zqjgsbzh0000gp/T/ipykernel_14170/863171515.py:4: DeprecationWarning: executable_path has been deprecated, please pass in a Service object\n",
      "  driver=webdriver.Chrome(PATH)\n",
      "error 1\n",
      "todo OK\n",
      "https://open.spotify.com/track/79jQjC6BpnSFuF1CZsOBHh?si=1a1ab56447284b59\n",
      "/var/folders/s4/79ykyqjn7f16bdl_zqjgsbzh0000gp/T/ipykernel_14170/863171515.py:4: DeprecationWarning: executable_path has been deprecated, please pass in a Service object\n",
      "  driver=webdriver.Chrome(PATH)\n",
      "error 1\n",
      "todo OK\n",
      "https://open.spotify.com/track/0tRQ7UZtDQtKUkFFRtyTyM?si=105c8dbcd69b4d4f\n",
      "/var/folders/s4/79ykyqjn7f16bdl_zqjgsbzh0000gp/T/ipykernel_14170/863171515.py:4: DeprecationWarning: executable_path has been deprecated, please pass in a Service object\n",
      "  driver=webdriver.Chrome(PATH)\n",
      "todo OK\n",
      "https://open.spotify.com/track/0B3wgb9raXYpnjy1euSWlz?si=4923a0d301834fc8\n",
      "/var/folders/s4/79ykyqjn7f16bdl_zqjgsbzh0000gp/T/ipykernel_14170/863171515.py:4: DeprecationWarning: executable_path has been deprecated, please pass in a Service object\n",
      "  driver=webdriver.Chrome(PATH)\n",
      "error 1\n",
      "todo OK\n",
      "https://open.spotify.com/track/0s7eMNB8DDKTQ1W3LY5oay?si=c2fff3e8a538414d\n",
      "/var/folders/s4/79ykyqjn7f16bdl_zqjgsbzh0000gp/T/ipykernel_14170/863171515.py:4: DeprecationWarning: executable_path has been deprecated, please pass in a Service object\n",
      "  driver=webdriver.Chrome(PATH)\n",
      "todo OK\n",
      "https://open.spotify.com/track/0HL5XOeVxgX1cEPY2KgRRa?si=75a10f806a034df1\n",
      "/var/folders/s4/79ykyqjn7f16bdl_zqjgsbzh0000gp/T/ipykernel_14170/863171515.py:4: DeprecationWarning: executable_path has been deprecated, please pass in a Service object\n",
      "  driver=webdriver.Chrome(PATH)\n",
      "todo OK\n",
      "https://open.spotify.com/track/3jfZ9M23l0L7RxzYMTgBTv?si=0c7b9d55dac94480\n",
      "/var/folders/s4/79ykyqjn7f16bdl_zqjgsbzh0000gp/T/ipykernel_14170/863171515.py:4: DeprecationWarning: executable_path has been deprecated, please pass in a Service object\n",
      "  driver=webdriver.Chrome(PATH)\n",
      "todo OK\n",
      "https://open.spotify.com/track/04F42oEuKrRComYJfJuyVR?si=e51927c58821463b\n",
      "/var/folders/s4/79ykyqjn7f16bdl_zqjgsbzh0000gp/T/ipykernel_14170/863171515.py:4: DeprecationWarning: executable_path has been deprecated, please pass in a Service object\n",
      "  driver=webdriver.Chrome(PATH)\n",
      "error 1\n",
      "todo OK\n",
      "https://open.spotify.com/track/02MWAaffLxlfxAUY7c5dvx?si=0e28057042c54d67\n",
      "/var/folders/s4/79ykyqjn7f16bdl_zqjgsbzh0000gp/T/ipykernel_14170/863171515.py:4: DeprecationWarning: executable_path has been deprecated, please pass in a Service object\n",
      "  driver=webdriver.Chrome(PATH)\n",
      "error 1\n",
      "todo OK\n",
      "https://open.spotify.com/track/6AtZLIzUINvExIUy4QhdjP?si=293c7e95909d4f76\n",
      "/var/folders/s4/79ykyqjn7f16bdl_zqjgsbzh0000gp/T/ipykernel_14170/863171515.py:4: DeprecationWarning: executable_path has been deprecated, please pass in a Service object\n",
      "  driver=webdriver.Chrome(PATH)\n",
      "error 1\n",
      "todo OK\n",
      "https://open.spotify.com/track/2vpVR1L7Qfkd7D6qFNuorq?si=4d759b45fba1437a\n",
      "/var/folders/s4/79ykyqjn7f16bdl_zqjgsbzh0000gp/T/ipykernel_14170/863171515.py:4: DeprecationWarning: executable_path has been deprecated, please pass in a Service object\n",
      "  driver=webdriver.Chrome(PATH)\n",
      "error 1\n",
      "todo OK\n",
      "https://open.spotify.com/track/0JU7KoyKSFgY1zJV2ex6Ee?si=7247869a3b9d4e10\n",
      "/var/folders/s4/79ykyqjn7f16bdl_zqjgsbzh0000gp/T/ipykernel_14170/863171515.py:4: DeprecationWarning: executable_path has been deprecated, please pass in a Service object\n",
      "  driver=webdriver.Chrome(PATH)\n",
      "error 1\n",
      "todo OK\n",
      "https://open.spotify.com/track/6LOZws7T3jqZz78unPgFF9?si=5526779e594c433b\n",
      "/var/folders/s4/79ykyqjn7f16bdl_zqjgsbzh0000gp/T/ipykernel_14170/863171515.py:4: DeprecationWarning: executable_path has been deprecated, please pass in a Service object\n",
      "  driver=webdriver.Chrome(PATH)\n",
      "error 1\n",
      "todo OK\n",
      "https://open.spotify.com/track/6KfoDhO4XUWSbnyKjNp9c4?si=fa7f55b4e68244a6\n",
      "/var/folders/s4/79ykyqjn7f16bdl_zqjgsbzh0000gp/T/ipykernel_14170/863171515.py:4: DeprecationWarning: executable_path has been deprecated, please pass in a Service object\n",
      "  driver=webdriver.Chrome(PATH)\n",
      "error 1\n",
      "error 4\n",
      "todo OK\n",
      "https://open.spotify.com/track/6KfoDhO4XUWSbnyKjNp9c4?si=fa7f55b4e68244a6\n",
      "/var/folders/s4/79ykyqjn7f16bdl_zqjgsbzh0000gp/T/ipykernel_14170/863171515.py:4: DeprecationWarning: executable_path has been deprecated, please pass in a Service object\n",
      "  driver=webdriver.Chrome(PATH)\n",
      "error 1\n",
      "todo OK\n",
      "https://open.spotify.com/track/1jVjOcs7QeQZJXScbqvofI?si=5a1dd0ac93d741e7\n",
      "/var/folders/s4/79ykyqjn7f16bdl_zqjgsbzh0000gp/T/ipykernel_14170/863171515.py:4: DeprecationWarning: executable_path has been deprecated, please pass in a Service object\n",
      "  driver=webdriver.Chrome(PATH)\n",
      "error 1\n",
      "error 4\n",
      "todo OK\n",
      "https://open.spotify.com/track/1jVjOcs7QeQZJXScbqvofI?si=5a1dd0ac93d741e7\n",
      "/var/folders/s4/79ykyqjn7f16bdl_zqjgsbzh0000gp/T/ipykernel_14170/863171515.py:4: DeprecationWarning: executable_path has been deprecated, please pass in a Service object\n",
      "  driver=webdriver.Chrome(PATH)\n",
      "error 0\n",
      "error 1\n",
      "error 3\n",
      "error 4\n",
      "todo OK\n",
      "https://open.spotify.com/track/1jVjOcs7QeQZJXScbqvofI?si=5a1dd0ac93d741e7\n",
      "/var/folders/s4/79ykyqjn7f16bdl_zqjgsbzh0000gp/T/ipykernel_14170/863171515.py:4: DeprecationWarning: executable_path has been deprecated, please pass in a Service object\n",
      "  driver=webdriver.Chrome(PATH)\n",
      "error 1\n",
      "error 4\n",
      "todo OK\n",
      "https://open.spotify.com/track/1jVjOcs7QeQZJXScbqvofI?si=5a1dd0ac93d741e7\n",
      "/var/folders/s4/79ykyqjn7f16bdl_zqjgsbzh0000gp/T/ipykernel_14170/863171515.py:4: DeprecationWarning: executable_path has been deprecated, please pass in a Service object\n",
      "  driver=webdriver.Chrome(PATH)\n",
      "error 1\n",
      "todo OK\n",
      "https://open.spotify.com/track/0W95eMaAxNVYTquOsXXkC5?si=8f5031044a86410b\n",
      "/var/folders/s4/79ykyqjn7f16bdl_zqjgsbzh0000gp/T/ipykernel_14170/863171515.py:4: DeprecationWarning: executable_path has been deprecated, please pass in a Service object\n",
      "  driver=webdriver.Chrome(PATH)\n",
      "error 1\n",
      "error 4\n",
      "todo OK\n",
      "https://open.spotify.com/track/0W95eMaAxNVYTquOsXXkC5?si=8f5031044a86410b\n",
      "/var/folders/s4/79ykyqjn7f16bdl_zqjgsbzh0000gp/T/ipykernel_14170/863171515.py:4: DeprecationWarning: executable_path has been deprecated, please pass in a Service object\n",
      "  driver=webdriver.Chrome(PATH)\n",
      "error 1\n",
      "error 4\n",
      "todo OK\n",
      "https://open.spotify.com/track/0W95eMaAxNVYTquOsXXkC5?si=8f5031044a86410b\n",
      "/var/folders/s4/79ykyqjn7f16bdl_zqjgsbzh0000gp/T/ipykernel_14170/863171515.py:4: DeprecationWarning: executable_path has been deprecated, please pass in a Service object\n",
      "  driver=webdriver.Chrome(PATH)\n",
      "error 1\n",
      "error 4\n",
      "todo OK\n",
      "https://open.spotify.com/track/0W95eMaAxNVYTquOsXXkC5?si=8f5031044a86410b\n",
      "/var/folders/s4/79ykyqjn7f16bdl_zqjgsbzh0000gp/T/ipykernel_14170/863171515.py:4: DeprecationWarning: executable_path has been deprecated, please pass in a Service object\n",
      "  driver=webdriver.Chrome(PATH)\n",
      "error 1\n",
      "todo OK\n",
      "https://open.spotify.com/track/4ZtFanR9U6ndgddUvNcjcG?si=fa0df8f52e054526\n",
      "/var/folders/s4/79ykyqjn7f16bdl_zqjgsbzh0000gp/T/ipykernel_14170/863171515.py:4: DeprecationWarning: executable_path has been deprecated, please pass in a Service object\n",
      "  driver=webdriver.Chrome(PATH)\n",
      "error 1\n",
      "todo OK\n",
      "https://open.spotify.com/track/2B4nQ6yvVVBMqfgOrYtubb?si=c8132c36c23c421b\n",
      "/var/folders/s4/79ykyqjn7f16bdl_zqjgsbzh0000gp/T/ipykernel_14170/863171515.py:4: DeprecationWarning: executable_path has been deprecated, please pass in a Service object\n",
      "  driver=webdriver.Chrome(PATH)\n",
      "error 1\n",
      "todo OK\n",
      "https://open.spotify.com/track/3CQDFLetMMxD5hzAnUk410?si=29fdb122d188466f\n",
      "/var/folders/s4/79ykyqjn7f16bdl_zqjgsbzh0000gp/T/ipykernel_14170/863171515.py:4: DeprecationWarning: executable_path has been deprecated, please pass in a Service object\n",
      "  driver=webdriver.Chrome(PATH)\n",
      "error 1\n",
      "error 4\n",
      "todo OK\n",
      "https://open.spotify.com/track/3CQDFLetMMxD5hzAnUk410?si=29fdb122d188466f\n",
      "/var/folders/s4/79ykyqjn7f16bdl_zqjgsbzh0000gp/T/ipykernel_14170/863171515.py:4: DeprecationWarning: executable_path has been deprecated, please pass in a Service object\n",
      "  driver=webdriver.Chrome(PATH)\n",
      "error 4\n",
      "todo OK\n",
      "https://open.spotify.com/track/3CQDFLetMMxD5hzAnUk410?si=29fdb122d188466f\n",
      "/var/folders/s4/79ykyqjn7f16bdl_zqjgsbzh0000gp/T/ipykernel_14170/863171515.py:4: DeprecationWarning: executable_path has been deprecated, please pass in a Service object\n",
      "  driver=webdriver.Chrome(PATH)\n",
      "error 1\n",
      "error 4\n",
      "todo OK\n",
      "https://open.spotify.com/track/3CQDFLetMMxD5hzAnUk410?si=29fdb122d188466f\n",
      "/var/folders/s4/79ykyqjn7f16bdl_zqjgsbzh0000gp/T/ipykernel_14170/863171515.py:4: DeprecationWarning: executable_path has been deprecated, please pass in a Service object\n",
      "  driver=webdriver.Chrome(PATH)\n",
      "todo OK\n",
      "https://open.spotify.com/track/5PjdC2gMATetx5xdnwGUu7?si=6b674833d6fa49d0\n",
      "/var/folders/s4/79ykyqjn7f16bdl_zqjgsbzh0000gp/T/ipykernel_14170/863171515.py:4: DeprecationWarning: executable_path has been deprecated, please pass in a Service object\n",
      "  driver=webdriver.Chrome(PATH)\n",
      "error 1\n",
      "error 4\n",
      "todo OK\n",
      "https://open.spotify.com/track/5PjdC2gMATetx5xdnwGUu7?si=6b674833d6fa49d0\n",
      "/var/folders/s4/79ykyqjn7f16bdl_zqjgsbzh0000gp/T/ipykernel_14170/863171515.py:4: DeprecationWarning: executable_path has been deprecated, please pass in a Service object\n",
      "  driver=webdriver.Chrome(PATH)\n",
      "error 1\n",
      "error 4\n",
      "todo OK\n",
      "https://open.spotify.com/track/5PjdC2gMATetx5xdnwGUu7?si=6b674833d6fa49d0\n",
      "/var/folders/s4/79ykyqjn7f16bdl_zqjgsbzh0000gp/T/ipykernel_14170/863171515.py:4: DeprecationWarning: executable_path has been deprecated, please pass in a Service object\n",
      "  driver=webdriver.Chrome(PATH)\n",
      "error 1\n",
      "todo OK\n",
      "https://open.spotify.com/track/4qEmZddPnyEpGkHeGTNmWa?si=d7d341a046094d7e\n",
      "/var/folders/s4/79ykyqjn7f16bdl_zqjgsbzh0000gp/T/ipykernel_14170/863171515.py:4: DeprecationWarning: executable_path has been deprecated, please pass in a Service object\n",
      "  driver=webdriver.Chrome(PATH)\n",
      "error 1\n",
      "todo OK\n",
      "https://open.spotify.com/track/1OWGLpptXlHLw1yibeHiHa?si=0f9000843b1c44b3\n",
      "/var/folders/s4/79ykyqjn7f16bdl_zqjgsbzh0000gp/T/ipykernel_14170/863171515.py:4: DeprecationWarning: executable_path has been deprecated, please pass in a Service object\n",
      "  driver=webdriver.Chrome(PATH)\n",
      "error 4\n",
      "todo OK\n",
      "https://open.spotify.com/track/1OWGLpptXlHLw1yibeHiHa?si=0f9000843b1c44b3\n",
      "/var/folders/s4/79ykyqjn7f16bdl_zqjgsbzh0000gp/T/ipykernel_14170/863171515.py:4: DeprecationWarning: executable_path has been deprecated, please pass in a Service object\n",
      "  driver=webdriver.Chrome(PATH)\n",
      "error 1\n",
      "error 4\n",
      "todo OK\n",
      "https://open.spotify.com/track/1OWGLpptXlHLw1yibeHiHa?si=0f9000843b1c44b3\n",
      "/var/folders/s4/79ykyqjn7f16bdl_zqjgsbzh0000gp/T/ipykernel_14170/863171515.py:4: DeprecationWarning: executable_path has been deprecated, please pass in a Service object\n",
      "  driver=webdriver.Chrome(PATH)\n",
      "todo OK\n",
      "https://open.spotify.com/track/46hkty784UBYP0kR3KcAUJ?si=dcbcfb42c08144ba\n",
      "/var/folders/s4/79ykyqjn7f16bdl_zqjgsbzh0000gp/T/ipykernel_14170/863171515.py:4: DeprecationWarning: executable_path has been deprecated, please pass in a Service object\n",
      "  driver=webdriver.Chrome(PATH)\n",
      "error 1\n",
      "todo OK\n",
      "https://open.spotify.com/track/4X70hLzIDfY5T2BcsOcv6Q?si=6baa8c8b65d947df\n",
      "/var/folders/s4/79ykyqjn7f16bdl_zqjgsbzh0000gp/T/ipykernel_14170/863171515.py:4: DeprecationWarning: executable_path has been deprecated, please pass in a Service object\n",
      "  driver=webdriver.Chrome(PATH)\n",
      "todo OK\n",
      "https://open.spotify.com/track/6U9OkV9oa8kN8LyBGf3wvJ?si=42834b3be2d1482e\n",
      "/var/folders/s4/79ykyqjn7f16bdl_zqjgsbzh0000gp/T/ipykernel_14170/863171515.py:4: DeprecationWarning: executable_path has been deprecated, please pass in a Service object\n",
      "  driver=webdriver.Chrome(PATH)\n",
      "error 1\n",
      "error 4\n",
      "todo OK\n",
      "https://open.spotify.com/track/6U9OkV9oa8kN8LyBGf3wvJ?si=42834b3be2d1482e\n",
      "/var/folders/s4/79ykyqjn7f16bdl_zqjgsbzh0000gp/T/ipykernel_14170/863171515.py:4: DeprecationWarning: executable_path has been deprecated, please pass in a Service object\n",
      "  driver=webdriver.Chrome(PATH)\n",
      "error 1\n",
      "todo OK\n",
      "https://open.spotify.com/track/2pGz1Afwxe0KHJtJLwm0Kd?si=3da3abb68c864449\n",
      "/var/folders/s4/79ykyqjn7f16bdl_zqjgsbzh0000gp/T/ipykernel_14170/863171515.py:4: DeprecationWarning: executable_path has been deprecated, please pass in a Service object\n",
      "  driver=webdriver.Chrome(PATH)\n",
      "error 4\n",
      "todo OK\n",
      "https://open.spotify.com/track/2pGz1Afwxe0KHJtJLwm0Kd?si=3da3abb68c864449\n",
      "/var/folders/s4/79ykyqjn7f16bdl_zqjgsbzh0000gp/T/ipykernel_14170/863171515.py:4: DeprecationWarning: executable_path has been deprecated, please pass in a Service object\n",
      "  driver=webdriver.Chrome(PATH)\n",
      "error 1\n",
      "error 4\n",
      "todo OK\n",
      "https://open.spotify.com/track/2pGz1Afwxe0KHJtJLwm0Kd?si=3da3abb68c864449\n",
      "/var/folders/s4/79ykyqjn7f16bdl_zqjgsbzh0000gp/T/ipykernel_14170/863171515.py:4: DeprecationWarning: executable_path has been deprecated, please pass in a Service object\n",
      "  driver=webdriver.Chrome(PATH)\n",
      "error 1\n",
      "error 4\n",
      "todo OK\n",
      "https://open.spotify.com/track/2pGz1Afwxe0KHJtJLwm0Kd?si=3da3abb68c864449\n",
      "/var/folders/s4/79ykyqjn7f16bdl_zqjgsbzh0000gp/T/ipykernel_14170/863171515.py:4: DeprecationWarning: executable_path has been deprecated, please pass in a Service object\n",
      "  driver=webdriver.Chrome(PATH)\n",
      "error 1\n",
      "error 4\n",
      "todo OK\n",
      "https://open.spotify.com/track/2pGz1Afwxe0KHJtJLwm0Kd?si=3da3abb68c864449\n",
      "/var/folders/s4/79ykyqjn7f16bdl_zqjgsbzh0000gp/T/ipykernel_14170/863171515.py:4: DeprecationWarning: executable_path has been deprecated, please pass in a Service object\n",
      "  driver=webdriver.Chrome(PATH)\n",
      "error 1\n",
      "todo OK\n",
      "https://open.spotify.com/track/1yJGcxW3Pg5txBM45L1PeF?si=086070d7c85b495a\n",
      "/var/folders/s4/79ykyqjn7f16bdl_zqjgsbzh0000gp/T/ipykernel_14170/863171515.py:4: DeprecationWarning: executable_path has been deprecated, please pass in a Service object\n",
      "  driver=webdriver.Chrome(PATH)\n",
      "error 4\n",
      "todo OK\n",
      "https://open.spotify.com/track/1yJGcxW3Pg5txBM45L1PeF?si=086070d7c85b495a\n",
      "/var/folders/s4/79ykyqjn7f16bdl_zqjgsbzh0000gp/T/ipykernel_14170/863171515.py:4: DeprecationWarning: executable_path has been deprecated, please pass in a Service object\n",
      "  driver=webdriver.Chrome(PATH)\n",
      "error 1\n",
      "error 4\n",
      "todo OK\n",
      "https://open.spotify.com/track/1yJGcxW3Pg5txBM45L1PeF?si=086070d7c85b495a\n",
      "/var/folders/s4/79ykyqjn7f16bdl_zqjgsbzh0000gp/T/ipykernel_14170/863171515.py:4: DeprecationWarning: executable_path has been deprecated, please pass in a Service object\n",
      "  driver=webdriver.Chrome(PATH)\n",
      "error 1\n",
      "todo OK\n",
      "https://open.spotify.com/track/6BnHksggg8CKWAwmtBknSF?si=c50d8e85026a45dd\n",
      "/var/folders/s4/79ykyqjn7f16bdl_zqjgsbzh0000gp/T/ipykernel_14170/863171515.py:4: DeprecationWarning: executable_path has been deprecated, please pass in a Service object\n",
      "  driver=webdriver.Chrome(PATH)\n",
      "error 4\n",
      "todo OK\n",
      "https://open.spotify.com/track/6BnHksggg8CKWAwmtBknSF?si=c50d8e85026a45dd\n",
      "/var/folders/s4/79ykyqjn7f16bdl_zqjgsbzh0000gp/T/ipykernel_14170/863171515.py:4: DeprecationWarning: executable_path has been deprecated, please pass in a Service object\n",
      "  driver=webdriver.Chrome(PATH)\n",
      "error 1\n",
      "error 4\n",
      "todo OK\n",
      "https://open.spotify.com/track/6BnHksggg8CKWAwmtBknSF?si=c50d8e85026a45dd\n",
      "/var/folders/s4/79ykyqjn7f16bdl_zqjgsbzh0000gp/T/ipykernel_14170/863171515.py:4: DeprecationWarning: executable_path has been deprecated, please pass in a Service object\n",
      "  driver=webdriver.Chrome(PATH)\n",
      "error 1\n",
      "todo OK\n",
      "https://open.spotify.com/track/4MktgUVvEo4Ep1HBmRQ5LJ?si=c0514319d5bc4837\n",
      "/var/folders/s4/79ykyqjn7f16bdl_zqjgsbzh0000gp/T/ipykernel_14170/863171515.py:4: DeprecationWarning: executable_path has been deprecated, please pass in a Service object\n",
      "  driver=webdriver.Chrome(PATH)\n",
      "error 1\n",
      "todo OK\n",
      "https://open.spotify.com/track/0ha4TPphnCc1Xoxr8wA6wc?si=c4ba8e5de0074b06\n",
      "/var/folders/s4/79ykyqjn7f16bdl_zqjgsbzh0000gp/T/ipykernel_14170/863171515.py:4: DeprecationWarning: executable_path has been deprecated, please pass in a Service object\n",
      "  driver=webdriver.Chrome(PATH)\n",
      "error 1\n",
      "error 4\n",
      "todo OK\n",
      "https://open.spotify.com/track/0ha4TPphnCc1Xoxr8wA6wc?si=c4ba8e5de0074b06\n",
      "/var/folders/s4/79ykyqjn7f16bdl_zqjgsbzh0000gp/T/ipykernel_14170/863171515.py:4: DeprecationWarning: executable_path has been deprecated, please pass in a Service object\n",
      "  driver=webdriver.Chrome(PATH)\n",
      "error 4\n",
      "todo OK\n",
      "https://open.spotify.com/track/0ha4TPphnCc1Xoxr8wA6wc?si=c4ba8e5de0074b06\n",
      "/var/folders/s4/79ykyqjn7f16bdl_zqjgsbzh0000gp/T/ipykernel_14170/863171515.py:4: DeprecationWarning: executable_path has been deprecated, please pass in a Service object\n",
      "  driver=webdriver.Chrome(PATH)\n",
      "error 4\n",
      "todo OK\n",
      "https://open.spotify.com/track/0ha4TPphnCc1Xoxr8wA6wc?si=c4ba8e5de0074b06\n",
      "/var/folders/s4/79ykyqjn7f16bdl_zqjgsbzh0000gp/T/ipykernel_14170/863171515.py:4: DeprecationWarning: executable_path has been deprecated, please pass in a Service object\n",
      "  driver=webdriver.Chrome(PATH)\n",
      "error 1\n",
      "todo OK\n",
      "https://open.spotify.com/track/5m9l5wILQ9iiLd8csLeR5v?si=abd109da21e94624\n",
      "/var/folders/s4/79ykyqjn7f16bdl_zqjgsbzh0000gp/T/ipykernel_14170/863171515.py:4: DeprecationWarning: executable_path has been deprecated, please pass in a Service object\n",
      "  driver=webdriver.Chrome(PATH)\n",
      "error 1\n",
      "todo OK\n",
      "https://open.spotify.com/track/2K3bjojp1sCLdMMoO5lJ2p?si=f125274ef5f54386\n",
      "/var/folders/s4/79ykyqjn7f16bdl_zqjgsbzh0000gp/T/ipykernel_14170/863171515.py:4: DeprecationWarning: executable_path has been deprecated, please pass in a Service object\n",
      "  driver=webdriver.Chrome(PATH)\n",
      "error 1\n",
      "error 4\n",
      "todo OK\n",
      "https://open.spotify.com/track/2K3bjojp1sCLdMMoO5lJ2p?si=f125274ef5f54386\n",
      "/var/folders/s4/79ykyqjn7f16bdl_zqjgsbzh0000gp/T/ipykernel_14170/863171515.py:4: DeprecationWarning: executable_path has been deprecated, please pass in a Service object\n",
      "  driver=webdriver.Chrome(PATH)\n",
      "todo OK\n",
      "https://open.spotify.com/track/1zZ7vl1amOLI4GE5oUn0YB?si=ec87eb7ecdcd4094\n",
      "/var/folders/s4/79ykyqjn7f16bdl_zqjgsbzh0000gp/T/ipykernel_14170/863171515.py:4: DeprecationWarning: executable_path has been deprecated, please pass in a Service object\n",
      "  driver=webdriver.Chrome(PATH)\n",
      "todo OK\n",
      "https://open.spotify.com/track/2reL9PAUza4PUtbjqW1fRf?si=4e3067f2c55848b0\n",
      "/var/folders/s4/79ykyqjn7f16bdl_zqjgsbzh0000gp/T/ipykernel_14170/863171515.py:4: DeprecationWarning: executable_path has been deprecated, please pass in a Service object\n",
      "  driver=webdriver.Chrome(PATH)\n",
      "error 1\n",
      "todo OK\n",
      "https://open.spotify.com/track/7dQFpbs34ufIEU745DVclf?si=e345731f975c4395\n",
      "/var/folders/s4/79ykyqjn7f16bdl_zqjgsbzh0000gp/T/ipykernel_14170/863171515.py:4: DeprecationWarning: executable_path has been deprecated, please pass in a Service object\n",
      "  driver=webdriver.Chrome(PATH)\n",
      "error 1\n",
      "error 4\n",
      "todo OK\n",
      "https://open.spotify.com/track/7dQFpbs34ufIEU745DVclf?si=e345731f975c4395\n",
      "/var/folders/s4/79ykyqjn7f16bdl_zqjgsbzh0000gp/T/ipykernel_14170/863171515.py:4: DeprecationWarning: executable_path has been deprecated, please pass in a Service object\n",
      "  driver=webdriver.Chrome(PATH)\n",
      "error 1\n",
      "todo OK\n",
      "https://open.spotify.com/track/5r8mGKhCDIVWb3AG4hm0l0?si=9671526faadd4c53\n",
      "/var/folders/s4/79ykyqjn7f16bdl_zqjgsbzh0000gp/T/ipykernel_14170/863171515.py:4: DeprecationWarning: executable_path has been deprecated, please pass in a Service object\n",
      "  driver=webdriver.Chrome(PATH)\n",
      "error 1\n",
      "error 4\n",
      "todo OK\n",
      "https://open.spotify.com/track/5r8mGKhCDIVWb3AG4hm0l0?si=9671526faadd4c53\n",
      "/var/folders/s4/79ykyqjn7f16bdl_zqjgsbzh0000gp/T/ipykernel_14170/863171515.py:4: DeprecationWarning: executable_path has been deprecated, please pass in a Service object\n",
      "  driver=webdriver.Chrome(PATH)\n",
      "error 4\n",
      "todo OK\n",
      "https://open.spotify.com/track/5r8mGKhCDIVWb3AG4hm0l0?si=9671526faadd4c53\n",
      "/var/folders/s4/79ykyqjn7f16bdl_zqjgsbzh0000gp/T/ipykernel_14170/863171515.py:4: DeprecationWarning: executable_path has been deprecated, please pass in a Service object\n",
      "  driver=webdriver.Chrome(PATH)\n",
      "error 4\n",
      "todo OK\n",
      "https://open.spotify.com/track/5r8mGKhCDIVWb3AG4hm0l0?si=9671526faadd4c53\n",
      "/var/folders/s4/79ykyqjn7f16bdl_zqjgsbzh0000gp/T/ipykernel_14170/863171515.py:4: DeprecationWarning: executable_path has been deprecated, please pass in a Service object\n",
      "  driver=webdriver.Chrome(PATH)\n",
      "error 1\n",
      "todo OK\n",
      "https://open.spotify.com/track/3ZwQCZ2LuYwuQ6R1p1CJ3w?si=0247a9d86d014e42\n",
      "/var/folders/s4/79ykyqjn7f16bdl_zqjgsbzh0000gp/T/ipykernel_14170/863171515.py:4: DeprecationWarning: executable_path has been deprecated, please pass in a Service object\n",
      "  driver=webdriver.Chrome(PATH)\n",
      "error 1\n",
      "todo OK\n",
      "https://open.spotify.com/track/1B0BQaSRHxhI0AUlItY3LK?si=412fe5ed12f546ed\n",
      "/var/folders/s4/79ykyqjn7f16bdl_zqjgsbzh0000gp/T/ipykernel_14170/863171515.py:4: DeprecationWarning: executable_path has been deprecated, please pass in a Service object\n",
      "  driver=webdriver.Chrome(PATH)\n",
      "todo OK\n",
      "https://open.spotify.com/track/23zJcKwLf5CeaKVbFhrWgF?si=d45839dbce3b4fc6\n",
      "/var/folders/s4/79ykyqjn7f16bdl_zqjgsbzh0000gp/T/ipykernel_14170/863171515.py:4: DeprecationWarning: executable_path has been deprecated, please pass in a Service object\n",
      "  driver=webdriver.Chrome(PATH)\n",
      "error 4\n",
      "todo OK\n",
      "https://open.spotify.com/track/23zJcKwLf5CeaKVbFhrWgF?si=d45839dbce3b4fc6\n",
      "/var/folders/s4/79ykyqjn7f16bdl_zqjgsbzh0000gp/T/ipykernel_14170/863171515.py:4: DeprecationWarning: executable_path has been deprecated, please pass in a Service object\n",
      "  driver=webdriver.Chrome(PATH)\n",
      "error 1\n",
      "todo OK\n",
      "https://open.spotify.com/track/3o3YFP1o1SEb4Rh5jNkVT4?si=897f8fbb73f44079\n",
      "/var/folders/s4/79ykyqjn7f16bdl_zqjgsbzh0000gp/T/ipykernel_14170/863171515.py:4: DeprecationWarning: executable_path has been deprecated, please pass in a Service object\n",
      "  driver=webdriver.Chrome(PATH)\n",
      "todo OK\n",
      "https://open.spotify.com/track/6dDhaHqJ3wUD3jbjGUBwzh?si=ad52d0c10bf443af\n",
      "/var/folders/s4/79ykyqjn7f16bdl_zqjgsbzh0000gp/T/ipykernel_14170/863171515.py:4: DeprecationWarning: executable_path has been deprecated, please pass in a Service object\n",
      "  driver=webdriver.Chrome(PATH)\n",
      "error 1\n",
      "todo OK\n",
      "https://open.spotify.com/track/7rlKjHvYFlAjMIUDY1CMLu?si=f49b7b048e094bce\n",
      "/var/folders/s4/79ykyqjn7f16bdl_zqjgsbzh0000gp/T/ipykernel_14170/863171515.py:4: DeprecationWarning: executable_path has been deprecated, please pass in a Service object\n",
      "  driver=webdriver.Chrome(PATH)\n",
      "todo OK\n",
      "https://open.spotify.com/track/6qraVL4IJaIj0IuEexYJNa?si=29e3918518944c39\n",
      "/var/folders/s4/79ykyqjn7f16bdl_zqjgsbzh0000gp/T/ipykernel_14170/863171515.py:4: DeprecationWarning: executable_path has been deprecated, please pass in a Service object\n",
      "  driver=webdriver.Chrome(PATH)\n",
      "error 1\n",
      "todo OK\n",
      "https://open.spotify.com/track/75KrTLbcLWgCcldZGxZR12?si=96b69f29188d42da\n",
      "/var/folders/s4/79ykyqjn7f16bdl_zqjgsbzh0000gp/T/ipykernel_14170/863171515.py:4: DeprecationWarning: executable_path has been deprecated, please pass in a Service object\n",
      "  driver=webdriver.Chrome(PATH)\n",
      "error 1\n",
      "error 4\n",
      "todo OK\n",
      "https://open.spotify.com/track/75KrTLbcLWgCcldZGxZR12?si=96b69f29188d42da\n",
      "/var/folders/s4/79ykyqjn7f16bdl_zqjgsbzh0000gp/T/ipykernel_14170/863171515.py:4: DeprecationWarning: executable_path has been deprecated, please pass in a Service object\n",
      "  driver=webdriver.Chrome(PATH)\n",
      "error 1\n",
      "error 4\n",
      "todo OK\n",
      "https://open.spotify.com/track/75KrTLbcLWgCcldZGxZR12?si=96b69f29188d42da\n",
      "/var/folders/s4/79ykyqjn7f16bdl_zqjgsbzh0000gp/T/ipykernel_14170/863171515.py:4: DeprecationWarning: executable_path has been deprecated, please pass in a Service object\n",
      "  driver=webdriver.Chrome(PATH)\n",
      "error 1\n",
      "todo OK\n",
      "https://open.spotify.com/track/5o2M4yHxo9kyNLdgihFeV1?si=079a4a9c5673428a\n",
      "/var/folders/s4/79ykyqjn7f16bdl_zqjgsbzh0000gp/T/ipykernel_14170/863171515.py:4: DeprecationWarning: executable_path has been deprecated, please pass in a Service object\n",
      "  driver=webdriver.Chrome(PATH)\n",
      "todo OK\n",
      "https://open.spotify.com/track/3UdBoC4SNDukSeorNxU6jx?si=7327a7fc9e354bf4\n",
      "/var/folders/s4/79ykyqjn7f16bdl_zqjgsbzh0000gp/T/ipykernel_14170/863171515.py:4: DeprecationWarning: executable_path has been deprecated, please pass in a Service object\n",
      "  driver=webdriver.Chrome(PATH)\n",
      "error 1\n",
      "todo OK\n",
      "https://open.spotify.com/track/1YgPkZ6GOwajDveEsuy3uH?si=67be67da7330401d\n",
      "/var/folders/s4/79ykyqjn7f16bdl_zqjgsbzh0000gp/T/ipykernel_14170/863171515.py:4: DeprecationWarning: executable_path has been deprecated, please pass in a Service object\n",
      "  driver=webdriver.Chrome(PATH)\n",
      "todo OK\n",
      "https://open.spotify.com/track/3s3SRwttipEjIzKUB70jka?si=d980d216d0034ea3\n",
      "/var/folders/s4/79ykyqjn7f16bdl_zqjgsbzh0000gp/T/ipykernel_14170/863171515.py:4: DeprecationWarning: executable_path has been deprecated, please pass in a Service object\n",
      "  driver=webdriver.Chrome(PATH)\n",
      "error 1\n",
      "todo OK\n",
      "https://open.spotify.com/track/3iVwzH29gquHzkrZuy3M4w?si=ab45ede75b00474c\n",
      "/var/folders/s4/79ykyqjn7f16bdl_zqjgsbzh0000gp/T/ipykernel_14170/863171515.py:4: DeprecationWarning: executable_path has been deprecated, please pass in a Service object\n",
      "  driver=webdriver.Chrome(PATH)\n",
      "error 1\n",
      "todo OK\n",
      "https://open.spotify.com/track/7tXHU3EeMfHioXLSCRdDO9?si=428e026e2e6c4645\n",
      "/var/folders/s4/79ykyqjn7f16bdl_zqjgsbzh0000gp/T/ipykernel_14170/863171515.py:4: DeprecationWarning: executable_path has been deprecated, please pass in a Service object\n",
      "  driver=webdriver.Chrome(PATH)\n",
      "error 1\n",
      "todo OK\n",
      "https://open.spotify.com/track/3POjNkAofASd07ivmm3XoY?si=0d7bb0082bff4975\n",
      "/var/folders/s4/79ykyqjn7f16bdl_zqjgsbzh0000gp/T/ipykernel_14170/863171515.py:4: DeprecationWarning: executable_path has been deprecated, please pass in a Service object\n",
      "  driver=webdriver.Chrome(PATH)\n",
      "error 1\n",
      "todo OK\n",
      "https://open.spotify.com/track/1N94ACjwdfczb42LO4dNc8?si=a351c10dcbf54f32\n",
      "/var/folders/s4/79ykyqjn7f16bdl_zqjgsbzh0000gp/T/ipykernel_14170/863171515.py:4: DeprecationWarning: executable_path has been deprecated, please pass in a Service object\n",
      "  driver=webdriver.Chrome(PATH)\n",
      "error 1\n",
      "error 4\n",
      "todo OK\n",
      "https://open.spotify.com/track/1N94ACjwdfczb42LO4dNc8?si=a351c10dcbf54f32\n",
      "/var/folders/s4/79ykyqjn7f16bdl_zqjgsbzh0000gp/T/ipykernel_14170/863171515.py:4: DeprecationWarning: executable_path has been deprecated, please pass in a Service object\n",
      "  driver=webdriver.Chrome(PATH)\n",
      "error 1\n",
      "todo OK\n",
      "https://open.spotify.com/track/3AKyURJxA2IRJwxjkZggC8?si=97b0587d21374cf0\n",
      "/var/folders/s4/79ykyqjn7f16bdl_zqjgsbzh0000gp/T/ipykernel_14170/863171515.py:4: DeprecationWarning: executable_path has been deprecated, please pass in a Service object\n",
      "  driver=webdriver.Chrome(PATH)\n",
      "error 1\n",
      "error 4\n",
      "todo OK\n",
      "https://open.spotify.com/track/3AKyURJxA2IRJwxjkZggC8?si=97b0587d21374cf0\n",
      "/var/folders/s4/79ykyqjn7f16bdl_zqjgsbzh0000gp/T/ipykernel_14170/863171515.py:4: DeprecationWarning: executable_path has been deprecated, please pass in a Service object\n",
      "  driver=webdriver.Chrome(PATH)\n",
      "error 4\n",
      "todo OK\n",
      "https://open.spotify.com/track/3AKyURJxA2IRJwxjkZggC8?si=97b0587d21374cf0\n",
      "/var/folders/s4/79ykyqjn7f16bdl_zqjgsbzh0000gp/T/ipykernel_14170/863171515.py:4: DeprecationWarning: executable_path has been deprecated, please pass in a Service object\n",
      "  driver=webdriver.Chrome(PATH)\n",
      "error 1\n",
      "todo OK\n",
      "https://open.spotify.com/track/6Loso92Vze7MFU9FnaFQBk?si=3f3d671fa3694612\n",
      "/var/folders/s4/79ykyqjn7f16bdl_zqjgsbzh0000gp/T/ipykernel_14170/863171515.py:4: DeprecationWarning: executable_path has been deprecated, please pass in a Service object\n",
      "  driver=webdriver.Chrome(PATH)\n",
      "todo OK\n",
      "https://open.spotify.com/track/0Jl7YPC0sPpqL1d31IixiG?si=b981b639e2ed46d6\n",
      "/var/folders/s4/79ykyqjn7f16bdl_zqjgsbzh0000gp/T/ipykernel_14170/863171515.py:4: DeprecationWarning: executable_path has been deprecated, please pass in a Service object\n",
      "  driver=webdriver.Chrome(PATH)\n",
      "error 1\n",
      "todo OK\n",
      "https://open.spotify.com/track/7piXNyrajEfqhOkzgDq2Ts?si=2244475808ab4877\n",
      "/var/folders/s4/79ykyqjn7f16bdl_zqjgsbzh0000gp/T/ipykernel_14170/863171515.py:4: DeprecationWarning: executable_path has been deprecated, please pass in a Service object\n",
      "  driver=webdriver.Chrome(PATH)\n",
      "error 4\n",
      "todo OK\n",
      "https://open.spotify.com/track/7piXNyrajEfqhOkzgDq2Ts?si=2244475808ab4877\n",
      "/var/folders/s4/79ykyqjn7f16bdl_zqjgsbzh0000gp/T/ipykernel_14170/863171515.py:4: DeprecationWarning: executable_path has been deprecated, please pass in a Service object\n",
      "  driver=webdriver.Chrome(PATH)\n",
      "error 1\n",
      "todo OK\n",
      "https://open.spotify.com/track/32wvhi3fa8Z8kuHK58zAoz?si=422d45ec15834f44\n",
      "/var/folders/s4/79ykyqjn7f16bdl_zqjgsbzh0000gp/T/ipykernel_14170/863171515.py:4: DeprecationWarning: executable_path has been deprecated, please pass in a Service object\n",
      "  driver=webdriver.Chrome(PATH)\n",
      "error 1\n",
      "todo OK\n",
      "https://open.spotify.com/track/0HwA568tvDPPSyT3k3XVRa?si=b228d57c26df4677\n",
      "/var/folders/s4/79ykyqjn7f16bdl_zqjgsbzh0000gp/T/ipykernel_14170/863171515.py:4: DeprecationWarning: executable_path has been deprecated, please pass in a Service object\n",
      "  driver=webdriver.Chrome(PATH)\n",
      "todo OK\n",
      "https://open.spotify.com/track/3kGFPMLAixmHVyvP9Hgl30?si=86632ab6b36e4565\n",
      "/var/folders/s4/79ykyqjn7f16bdl_zqjgsbzh0000gp/T/ipykernel_14170/863171515.py:4: DeprecationWarning: executable_path has been deprecated, please pass in a Service object\n",
      "  driver=webdriver.Chrome(PATH)\n",
      "error 1\n",
      "todo OK\n",
      "https://open.spotify.com/track/2gPhe3c43KG27IcR7D0A1m?si=21430521353d4eb2\n",
      "/var/folders/s4/79ykyqjn7f16bdl_zqjgsbzh0000gp/T/ipykernel_14170/863171515.py:4: DeprecationWarning: executable_path has been deprecated, please pass in a Service object\n",
      "  driver=webdriver.Chrome(PATH)\n",
      "error 1\n",
      "todo OK\n",
      "https://open.spotify.com/track/1tTZAlO1azoGoOJX01KKou?si=7f8f0e65ee6c42f4\n",
      "/var/folders/s4/79ykyqjn7f16bdl_zqjgsbzh0000gp/T/ipykernel_14170/863171515.py:4: DeprecationWarning: executable_path has been deprecated, please pass in a Service object\n",
      "  driver=webdriver.Chrome(PATH)\n",
      "error 1\n",
      "todo OK\n",
      "https://open.spotify.com/track/7wBhAFIYqEgsMFNBG96THW?si=6522c6665c6842b4\n",
      "/var/folders/s4/79ykyqjn7f16bdl_zqjgsbzh0000gp/T/ipykernel_14170/863171515.py:4: DeprecationWarning: executable_path has been deprecated, please pass in a Service object\n",
      "  driver=webdriver.Chrome(PATH)\n",
      "todo OK\n",
      "https://open.spotify.com/track/5b6C325qSx97lW02Xk3rzw?si=f29cdc0f25a44749\n",
      "/var/folders/s4/79ykyqjn7f16bdl_zqjgsbzh0000gp/T/ipykernel_14170/863171515.py:4: DeprecationWarning: executable_path has been deprecated, please pass in a Service object\n",
      "  driver=webdriver.Chrome(PATH)\n",
      "error 4\n",
      "todo OK\n",
      "https://open.spotify.com/track/5b6C325qSx97lW02Xk3rzw?si=f29cdc0f25a44749\n",
      "/var/folders/s4/79ykyqjn7f16bdl_zqjgsbzh0000gp/T/ipykernel_14170/863171515.py:4: DeprecationWarning: executable_path has been deprecated, please pass in a Service object\n",
      "  driver=webdriver.Chrome(PATH)\n",
      "todo OK\n",
      "https://open.spotify.com/track/0KNlNycgMUZUJY1uwIclRa?si=a3ce81d609d7439f\n",
      "/var/folders/s4/79ykyqjn7f16bdl_zqjgsbzh0000gp/T/ipykernel_14170/863171515.py:4: DeprecationWarning: executable_path has been deprecated, please pass in a Service object\n",
      "  driver=webdriver.Chrome(PATH)\n",
      "todo OK\n",
      "https://open.spotify.com/track/5j2X7ohkhveo4dSu75LmGk?si=78d96fb3e14241c7\n",
      "/var/folders/s4/79ykyqjn7f16bdl_zqjgsbzh0000gp/T/ipykernel_14170/863171515.py:4: DeprecationWarning: executable_path has been deprecated, please pass in a Service object\n",
      "  driver=webdriver.Chrome(PATH)\n",
      "error 1\n",
      "todo OK\n",
      "https://open.spotify.com/track/5WKW5VeavHIqp4fgvCBw8U?si=64232ec6578d4ef1\n",
      "/var/folders/s4/79ykyqjn7f16bdl_zqjgsbzh0000gp/T/ipykernel_14170/863171515.py:4: DeprecationWarning: executable_path has been deprecated, please pass in a Service object\n",
      "  driver=webdriver.Chrome(PATH)\n",
      "error 1\n",
      "todo OK\n",
      "https://open.spotify.com/track/4CeeEOM32jQcH3eN9Q2dGj?si=30e33899abef4652\n",
      "/var/folders/s4/79ykyqjn7f16bdl_zqjgsbzh0000gp/T/ipykernel_14170/863171515.py:4: DeprecationWarning: executable_path has been deprecated, please pass in a Service object\n",
      "  driver=webdriver.Chrome(PATH)\n",
      "todo OK\n",
      "https://open.spotify.com/track/11LmqTE2naFULdEP94AUBa?si=e172f8f430b64074\n",
      "/var/folders/s4/79ykyqjn7f16bdl_zqjgsbzh0000gp/T/ipykernel_14170/863171515.py:4: DeprecationWarning: executable_path has been deprecated, please pass in a Service object\n",
      "  driver=webdriver.Chrome(PATH)\n",
      "error 1\n",
      "todo OK\n",
      "https://open.spotify.com/track/2RsAajgo0g7bMCHxwH3Sk0?si=aa562adad5044320\n",
      "/var/folders/s4/79ykyqjn7f16bdl_zqjgsbzh0000gp/T/ipykernel_14170/863171515.py:4: DeprecationWarning: executable_path has been deprecated, please pass in a Service object\n",
      "  driver=webdriver.Chrome(PATH)\n",
      "todo OK\n",
      "https://open.spotify.com/track/15VRO9CQwMpbqUYA7e6Hwg?si=8735d9f90d764910\n",
      "/var/folders/s4/79ykyqjn7f16bdl_zqjgsbzh0000gp/T/ipykernel_14170/863171515.py:4: DeprecationWarning: executable_path has been deprecated, please pass in a Service object\n",
      "  driver=webdriver.Chrome(PATH)\n",
      "error 1\n",
      "todo OK\n",
      "https://open.spotify.com/track/55yvzYuvJYG2RUEnMK78tr?si=554a09db44cd437b\n",
      "/var/folders/s4/79ykyqjn7f16bdl_zqjgsbzh0000gp/T/ipykernel_14170/863171515.py:4: DeprecationWarning: executable_path has been deprecated, please pass in a Service object\n",
      "  driver=webdriver.Chrome(PATH)\n",
      "todo OK\n",
      "https://open.spotify.com/track/4gHnSNHs8RyVukKoWdS99f?si=5d3d3dce9e524e59\n",
      "/var/folders/s4/79ykyqjn7f16bdl_zqjgsbzh0000gp/T/ipykernel_14170/863171515.py:4: DeprecationWarning: executable_path has been deprecated, please pass in a Service object\n",
      "  driver=webdriver.Chrome(PATH)\n",
      "todo OK\n",
      "https://open.spotify.com/track/5vHLwhxxlGzmClMcxRRFPr?si=3cdfdff10362489f\n",
      "/var/folders/s4/79ykyqjn7f16bdl_zqjgsbzh0000gp/T/ipykernel_14170/863171515.py:4: DeprecationWarning: executable_path has been deprecated, please pass in a Service object\n",
      "  driver=webdriver.Chrome(PATH)\n",
      "error 1\n",
      "todo OK\n",
      "https://open.spotify.com/track/2mvffzYUJ9Ld9xhsF5DUjU?si=0cbd50352e1f4036\n",
      "/var/folders/s4/79ykyqjn7f16bdl_zqjgsbzh0000gp/T/ipykernel_14170/863171515.py:4: DeprecationWarning: executable_path has been deprecated, please pass in a Service object\n",
      "  driver=webdriver.Chrome(PATH)\n",
      "error 4\n",
      "todo OK\n",
      "https://open.spotify.com/track/2mvffzYUJ9Ld9xhsF5DUjU?si=0cbd50352e1f4036\n",
      "/var/folders/s4/79ykyqjn7f16bdl_zqjgsbzh0000gp/T/ipykernel_14170/863171515.py:4: DeprecationWarning: executable_path has been deprecated, please pass in a Service object\n",
      "  driver=webdriver.Chrome(PATH)\n",
      "error 1\n",
      "error 4\n",
      "todo OK\n",
      "https://open.spotify.com/track/2mvffzYUJ9Ld9xhsF5DUjU?si=0cbd50352e1f4036\n",
      "/var/folders/s4/79ykyqjn7f16bdl_zqjgsbzh0000gp/T/ipykernel_14170/863171515.py:4: DeprecationWarning: executable_path has been deprecated, please pass in a Service object\n",
      "  driver=webdriver.Chrome(PATH)\n",
      "error 1\n",
      "error 4\n",
      "todo OK\n",
      "https://open.spotify.com/track/2mvffzYUJ9Ld9xhsF5DUjU?si=0cbd50352e1f4036\n",
      "/var/folders/s4/79ykyqjn7f16bdl_zqjgsbzh0000gp/T/ipykernel_14170/863171515.py:4: DeprecationWarning: executable_path has been deprecated, please pass in a Service object\n",
      "  driver=webdriver.Chrome(PATH)\n",
      "error 1\n",
      "error 4\n",
      "todo OK\n",
      "https://open.spotify.com/track/2mvffzYUJ9Ld9xhsF5DUjU?si=0cbd50352e1f4036\n",
      "/var/folders/s4/79ykyqjn7f16bdl_zqjgsbzh0000gp/T/ipykernel_14170/863171515.py:4: DeprecationWarning: executable_path has been deprecated, please pass in a Service object\n",
      "  driver=webdriver.Chrome(PATH)\n",
      "error 1\n",
      "error 4\n",
      "todo OK\n",
      "https://open.spotify.com/track/2mvffzYUJ9Ld9xhsF5DUjU?si=0cbd50352e1f4036\n",
      "/var/folders/s4/79ykyqjn7f16bdl_zqjgsbzh0000gp/T/ipykernel_14170/863171515.py:4: DeprecationWarning: executable_path has been deprecated, please pass in a Service object\n",
      "  driver=webdriver.Chrome(PATH)\n",
      "error 1\n",
      "error 4\n",
      "todo OK\n",
      "https://open.spotify.com/track/2mvffzYUJ9Ld9xhsF5DUjU?si=0cbd50352e1f4036\n",
      "/var/folders/s4/79ykyqjn7f16bdl_zqjgsbzh0000gp/T/ipykernel_14170/863171515.py:4: DeprecationWarning: executable_path has been deprecated, please pass in a Service object\n",
      "  driver=webdriver.Chrome(PATH)\n",
      "error 1\n",
      "error 4\n",
      "todo OK\n",
      "https://open.spotify.com/track/2mvffzYUJ9Ld9xhsF5DUjU?si=0cbd50352e1f4036\n",
      "/var/folders/s4/79ykyqjn7f16bdl_zqjgsbzh0000gp/T/ipykernel_14170/863171515.py:4: DeprecationWarning: executable_path has been deprecated, please pass in a Service object\n",
      "  driver=webdriver.Chrome(PATH)\n",
      "error 1\n",
      "error 4\n",
      "todo OK\n",
      "https://open.spotify.com/track/2mvffzYUJ9Ld9xhsF5DUjU?si=0cbd50352e1f4036\n",
      "/var/folders/s4/79ykyqjn7f16bdl_zqjgsbzh0000gp/T/ipykernel_14170/863171515.py:4: DeprecationWarning: executable_path has been deprecated, please pass in a Service object\n",
      "  driver=webdriver.Chrome(PATH)\n",
      "todo OK\n",
      "https://open.spotify.com/track/2Sfl7odHUmG7qc8SbqUyzE?si=be2e155e381f41fb\n",
      "/var/folders/s4/79ykyqjn7f16bdl_zqjgsbzh0000gp/T/ipykernel_14170/863171515.py:4: DeprecationWarning: executable_path has been deprecated, please pass in a Service object\n",
      "  driver=webdriver.Chrome(PATH)\n",
      "error 1\n",
      "error 4\n",
      "todo OK\n",
      "https://open.spotify.com/track/2Sfl7odHUmG7qc8SbqUyzE?si=be2e155e381f41fb\n",
      "/var/folders/s4/79ykyqjn7f16bdl_zqjgsbzh0000gp/T/ipykernel_14170/863171515.py:4: DeprecationWarning: executable_path has been deprecated, please pass in a Service object\n",
      "  driver=webdriver.Chrome(PATH)\n",
      "todo OK\n",
      "https://open.spotify.com/track/0oufSLnKQDoBFX5mgkDCgR?si=7d50aaf7da5b4c5a\n",
      "/var/folders/s4/79ykyqjn7f16bdl_zqjgsbzh0000gp/T/ipykernel_14170/863171515.py:4: DeprecationWarning: executable_path has been deprecated, please pass in a Service object\n",
      "  driver=webdriver.Chrome(PATH)\n",
      "error 1\n",
      "todo OK\n",
      "https://open.spotify.com/track/7gMIMcvnL39uNIyxZI2D5y?si=74330c5d8d2145e3\n",
      "/var/folders/s4/79ykyqjn7f16bdl_zqjgsbzh0000gp/T/ipykernel_14170/863171515.py:4: DeprecationWarning: executable_path has been deprecated, please pass in a Service object\n",
      "  driver=webdriver.Chrome(PATH)\n",
      "todo OK\n",
      "https://open.spotify.com/track/4pgv7cklqP38HF9V6xekJI?si=d7bf96d6bc35452b\n",
      "/var/folders/s4/79ykyqjn7f16bdl_zqjgsbzh0000gp/T/ipykernel_14170/863171515.py:4: DeprecationWarning: executable_path has been deprecated, please pass in a Service object\n",
      "  driver=webdriver.Chrome(PATH)\n",
      "error 1\n",
      "todo OK\n",
      "https://open.spotify.com/track/02qcrVQ61nS94wWvLaiXGf?si=f918500639614107\n",
      "/var/folders/s4/79ykyqjn7f16bdl_zqjgsbzh0000gp/T/ipykernel_14170/863171515.py:4: DeprecationWarning: executable_path has been deprecated, please pass in a Service object\n",
      "  driver=webdriver.Chrome(PATH)\n",
      "todo OK\n",
      "https://open.spotify.com/track/6OPrbQGZgOkIBrwWTzyuZn?si=a0f0bbf1487847d7\n",
      "/var/folders/s4/79ykyqjn7f16bdl_zqjgsbzh0000gp/T/ipykernel_14170/863171515.py:4: DeprecationWarning: executable_path has been deprecated, please pass in a Service object\n",
      "  driver=webdriver.Chrome(PATH)\n",
      "todo OK\n",
      "https://open.spotify.com/track/5hM5arv9KDbCHS0k9uqwjr?si=969b480bb87140ec\n",
      "/var/folders/s4/79ykyqjn7f16bdl_zqjgsbzh0000gp/T/ipykernel_14170/863171515.py:4: DeprecationWarning: executable_path has been deprecated, please pass in a Service object\n",
      "  driver=webdriver.Chrome(PATH)\n",
      "error 1\n",
      "error 4\n",
      "todo OK\n",
      "https://open.spotify.com/track/5hM5arv9KDbCHS0k9uqwjr?si=969b480bb87140ec\n",
      "/var/folders/s4/79ykyqjn7f16bdl_zqjgsbzh0000gp/T/ipykernel_14170/863171515.py:4: DeprecationWarning: executable_path has been deprecated, please pass in a Service object\n",
      "  driver=webdriver.Chrome(PATH)\n",
      "error 4\n",
      "todo OK\n",
      "https://open.spotify.com/track/5hM5arv9KDbCHS0k9uqwjr?si=969b480bb87140ec\n",
      "/var/folders/s4/79ykyqjn7f16bdl_zqjgsbzh0000gp/T/ipykernel_14170/863171515.py:4: DeprecationWarning: executable_path has been deprecated, please pass in a Service object\n",
      "  driver=webdriver.Chrome(PATH)\n",
      "error 4\n",
      "todo OK\n",
      "https://open.spotify.com/track/5hM5arv9KDbCHS0k9uqwjr?si=969b480bb87140ec\n",
      "/var/folders/s4/79ykyqjn7f16bdl_zqjgsbzh0000gp/T/ipykernel_14170/863171515.py:4: DeprecationWarning: executable_path has been deprecated, please pass in a Service object\n",
      "  driver=webdriver.Chrome(PATH)\n",
      "error 1\n",
      "error 4\n",
      "todo OK\n",
      "https://open.spotify.com/track/5hM5arv9KDbCHS0k9uqwjr?si=969b480bb87140ec\n",
      "/var/folders/s4/79ykyqjn7f16bdl_zqjgsbzh0000gp/T/ipykernel_14170/863171515.py:4: DeprecationWarning: executable_path has been deprecated, please pass in a Service object\n",
      "  driver=webdriver.Chrome(PATH)\n",
      "driver.quit()\n",
      "uri\n",
      "link=[]\n",
      "'https://open.spotify.com/search/\n",
      "def buscarlink (trackartist):\n",
      "        \n",
      "    url=f'https://open.spotify.com/search/{trackartist}'\n",
      "    # inicia el driver\n",
      "    driver=webdriver.Chrome(PATH)\n",
      "    driver.get(url)\n",
      "​\n",
      "​\n",
      "    # acepta cookies\n",
      "    try:\n",
      "        time.sleep(10)\n",
      "        aceptar=driver.find_element(By.XPATH, '//*[@id=\"onetrust-accept-btn-handler\"]')\n",
      "        aceptar.click()\n",
      "​\n",
      "        time.sleep(4)\n",
      "    except:\n",
      "        time.sleep(0.00001)\n",
      "​\n",
      "    #Anuncio Premium\n",
      "    try:\n",
      "        anuncio=driver.find_element(By.XPATH, '//*[@id=\"main\"]/div/div[2]/div[2]/footer/div[1]/button[2]')\n",
      "        anuncio.click()\n",
      "        time.sleep(4)\n",
      "​\n",
      "    except:\n",
      "        time.sleep(0.0001)\n",
      "​\n",
      "    # seleccionar las opciones de la canción\n",
      "    opciones=driver.find_element(By.XPATH, '//*[@id=\"searchPage\"]/div/div/section[2]/div[2]/div/div/div/div[2]/div[1]/div/div[2]/button[2]')\n",
      "    opciones.click()\n",
      "​\n",
      "    #seleccionar compartir\n",
      "    compartir=driver.find_element(By.XPATH, '//*[@id=\"context-menu\"]/ul/li[7]/button/span[1]')\n",
      "    compartir.click()\n",
      "​\n",
      "    #copiar el enlace de la canción\n",
      "    copiarlink = driver.find_element(By.XPATH, '//*[@id=\"tippy-4\"]/ul/li[1]/button/span')\n",
      "    copiarlink.click()\n",
      "    print(copiarlink.text())\n",
      "​\n",
      "    #pegar el enlace\n",
      "    global listita\n",
      "    listita = []\n",
      "    listita.append(clipboard.paste())\n",
      "    print(clipboard.paste())\n",
      "    print(listita)\n",
      "    \n",
      "    #cerrar driver\n",
      "    driver.quit()\n",
      "    \n",
      "    return listita\n",
      "​\n",
      "Elephant%20Tame%20Impala\n",
      "prueba = ['Experimento%20Myke%20Towers','Rocky%20Still%20Woozy', 'Elephant%20Tame%20Impala', 'Experimento%20Myke%20Towers', 'Experimento%20Myke%20Towers', 'Experimento%20Myke%20Towers', 'Experimento%20Myke%20Towers', 'Experimento%20Myke%20Towers', 'Experimento%20Myke%20Towers', 'Experimento%20Myke%20Towers', 'fallin%20Alicia%20Keys']\n",
      "df = Parallel(n_jobs=1, verbose=True)(delayed(buscarlink)(e) for e in prueba)\n",
      "driver.quit()\n",
      "listita\n",
      "music.head(25)\n",
      "​\n",
      "\n"
     ]
    },
    {
     "name": "stderr",
     "output_type": "stream",
     "text": [
      "/var/folders/s4/79ykyqjn7f16bdl_zqjgsbzh0000gp/T/ipykernel_14170/863171515.py:4: DeprecationWarning: executable_path has been deprecated, please pass in a Service object\n",
      "  driver=webdriver.Chrome(PATH)\n"
     ]
    },
    {
     "name": "stdout",
     "output_type": "stream",
     "text": [
      "error 1\n",
      "error 4\n",
      "todo OK\n",
      "error 1\n",
      "todo OK\n",
      "https://open.spotify.com/track/6ic8OlLUNEATToEFU3xmaH?si=b84d9157d84e473f\n",
      "/var/folders/s4/79ykyqjn7f16bdl_zqjgsbzh0000gp/T/ipykernel_14170/863171515.py:4: DeprecationWarning: executable_path has been deprecated, please pass in a Service object\n",
      "  driver=webdriver.Chrome(PATH)\n",
      "todo OK\n",
      "https://open.spotify.com/track/1sl1cpix9GnwNwaVt04BIu?si=c413ef03913040dd\n",
      "/var/folders/s4/79ykyqjn7f16bdl_zqjgsbzh0000gp/T/ipykernel_14170/863171515.py:4: DeprecationWarning: executable_path has been deprecated, please pass in a Service object\n",
      "  driver=webdriver.Chrome(PATH)\n",
      "error 4\n",
      "todo OK\n",
      "https://open.spotify.com/track/1sl1cpix9GnwNwaVt04BIu?si=c413ef03913040dd\n",
      "/var/folders/s4/79ykyqjn7f16bdl_zqjgsbzh0000gp/T/ipykernel_14170/863171515.py:4: DeprecationWarning: executable_path has been deprecated, please pass in a Service object\n",
      "  driver=webdriver.Chrome(PATH)\n",
      "error 4\n",
      "todo OK\n",
      "https://open.spotify.com/track/1sl1cpix9GnwNwaVt04BIu?si=c413ef03913040dd\n",
      "/var/folders/s4/79ykyqjn7f16bdl_zqjgsbzh0000gp/T/ipykernel_14170/863171515.py:4: DeprecationWarning: executable_path has been deprecated, please pass in a Service object\n",
      "  driver=webdriver.Chrome(PATH)\n",
      "todo OK\n",
      "https://open.spotify.com/track/0BxfFnk0YzONqvmrkO0QrB?si=60b5f0cf8b6141a0\n",
      "/var/folders/s4/79ykyqjn7f16bdl_zqjgsbzh0000gp/T/ipykernel_14170/863171515.py:4: DeprecationWarning: executable_path has been deprecated, please pass in a Service object\n",
      "  driver=webdriver.Chrome(PATH)\n",
      "error 4\n",
      "todo OK\n",
      "https://open.spotify.com/track/0BxfFnk0YzONqvmrkO0QrB?si=60b5f0cf8b6141a0\n",
      "/var/folders/s4/79ykyqjn7f16bdl_zqjgsbzh0000gp/T/ipykernel_14170/863171515.py:4: DeprecationWarning: executable_path has been deprecated, please pass in a Service object\n",
      "  driver=webdriver.Chrome(PATH)\n",
      "error 1\n",
      "error 4\n",
      "todo OK\n",
      "https://open.spotify.com/track/0BxfFnk0YzONqvmrkO0QrB?si=60b5f0cf8b6141a0\n",
      "/var/folders/s4/79ykyqjn7f16bdl_zqjgsbzh0000gp/T/ipykernel_14170/863171515.py:4: DeprecationWarning: executable_path has been deprecated, please pass in a Service object\n",
      "  driver=webdriver.Chrome(PATH)\n",
      "error 4\n",
      "todo OK\n",
      "https://open.spotify.com/track/0BxfFnk0YzONqvmrkO0QrB?si=60b5f0cf8b6141a0\n",
      "/var/folders/s4/79ykyqjn7f16bdl_zqjgsbzh0000gp/T/ipykernel_14170/863171515.py:4: DeprecationWarning: executable_path has been deprecated, please pass in a Service object\n",
      "  driver=webdriver.Chrome(PATH)\n",
      "error 1\n",
      "error 4\n",
      "todo OK\n",
      "https://open.spotify.com/track/0BxfFnk0YzONqvmrkO0QrB?si=60b5f0cf8b6141a0\n",
      "/var/folders/s4/79ykyqjn7f16bdl_zqjgsbzh0000gp/T/ipykernel_14170/863171515.py:4: DeprecationWarning: executable_path has been deprecated, please pass in a Service object\n",
      "  driver=webdriver.Chrome(PATH)\n",
      "todo OK\n",
      "https://open.spotify.com/track/4D6TpthzUVNTjWQqfBW5Kb?si=10999c999e8d4168\n",
      "/var/folders/s4/79ykyqjn7f16bdl_zqjgsbzh0000gp/T/ipykernel_14170/863171515.py:4: DeprecationWarning: executable_path has been deprecated, please pass in a Service object\n",
      "  driver=webdriver.Chrome(PATH)\n",
      "todo OK\n",
      "https://open.spotify.com/track/22L7bfCiAkJo5xGSQgmiIO?si=b759bbb76e37486e\n",
      "/var/folders/s4/79ykyqjn7f16bdl_zqjgsbzh0000gp/T/ipykernel_14170/863171515.py:4: DeprecationWarning: executable_path has been deprecated, please pass in a Service object\n",
      "  driver=webdriver.Chrome(PATH)\n",
      "error 4\n",
      "todo OK\n",
      "https://open.spotify.com/track/22L7bfCiAkJo5xGSQgmiIO?si=b759bbb76e37486e\n",
      "/var/folders/s4/79ykyqjn7f16bdl_zqjgsbzh0000gp/T/ipykernel_14170/863171515.py:4: DeprecationWarning: executable_path has been deprecated, please pass in a Service object\n",
      "  driver=webdriver.Chrome(PATH)\n",
      "error 4\n",
      "todo OK\n",
      "https://open.spotify.com/track/22L7bfCiAkJo5xGSQgmiIO?si=b759bbb76e37486e\n",
      "/var/folders/s4/79ykyqjn7f16bdl_zqjgsbzh0000gp/T/ipykernel_14170/863171515.py:4: DeprecationWarning: executable_path has been deprecated, please pass in a Service object\n",
      "  driver=webdriver.Chrome(PATH)\n",
      "todo OK\n",
      "https://open.spotify.com/track/27OeeYzk6klgBh83TSvGMA?si=096e7937bd83440e\n",
      "/var/folders/s4/79ykyqjn7f16bdl_zqjgsbzh0000gp/T/ipykernel_14170/863171515.py:4: DeprecationWarning: executable_path has been deprecated, please pass in a Service object\n",
      "  driver=webdriver.Chrome(PATH)\n",
      "error 4\n",
      "todo OK\n",
      "https://open.spotify.com/track/27OeeYzk6klgBh83TSvGMA?si=096e7937bd83440e\n",
      "/var/folders/s4/79ykyqjn7f16bdl_zqjgsbzh0000gp/T/ipykernel_14170/863171515.py:4: DeprecationWarning: executable_path has been deprecated, please pass in a Service object\n",
      "  driver=webdriver.Chrome(PATH)\n",
      "error 1\n",
      "error 4\n",
      "todo OK\n",
      "https://open.spotify.com/track/27OeeYzk6klgBh83TSvGMA?si=096e7937bd83440e\n",
      "/var/folders/s4/79ykyqjn7f16bdl_zqjgsbzh0000gp/T/ipykernel_14170/863171515.py:4: DeprecationWarning: executable_path has been deprecated, please pass in a Service object\n",
      "  driver=webdriver.Chrome(PATH)\n",
      "error 1\n",
      "todo OK\n",
      "https://open.spotify.com/track/2gqWRRCXnma9L8xQ1RdemQ?si=f4f9269b76e040e1\n",
      "/var/folders/s4/79ykyqjn7f16bdl_zqjgsbzh0000gp/T/ipykernel_14170/863171515.py:4: DeprecationWarning: executable_path has been deprecated, please pass in a Service object\n",
      "  driver=webdriver.Chrome(PATH)\n",
      "error 1\n",
      "todo OK\n",
      "https://open.spotify.com/track/1ibeKVCiXORhvUpMmtsQWq?si=306646ebca874c5c\n",
      "/var/folders/s4/79ykyqjn7f16bdl_zqjgsbzh0000gp/T/ipykernel_14170/863171515.py:4: DeprecationWarning: executable_path has been deprecated, please pass in a Service object\n",
      "  driver=webdriver.Chrome(PATH)\n",
      "error 1\n",
      "todo OK\n",
      "https://open.spotify.com/track/3yzHIAzk3zVE1WgspS8W21?si=d0e465071b6844b1\n",
      "/var/folders/s4/79ykyqjn7f16bdl_zqjgsbzh0000gp/T/ipykernel_14170/863171515.py:4: DeprecationWarning: executable_path has been deprecated, please pass in a Service object\n",
      "  driver=webdriver.Chrome(PATH)\n",
      "error 1\n",
      "error 4\n",
      "todo OK\n",
      "https://open.spotify.com/track/3yzHIAzk3zVE1WgspS8W21?si=d0e465071b6844b1\n",
      "/var/folders/s4/79ykyqjn7f16bdl_zqjgsbzh0000gp/T/ipykernel_14170/863171515.py:4: DeprecationWarning: executable_path has been deprecated, please pass in a Service object\n",
      "  driver=webdriver.Chrome(PATH)\n",
      "error 1\n",
      "todo OK\n",
      "https://open.spotify.com/track/7BIy3EGQhg98CsRdKYHnJC?si=dc209b9c2f494860\n",
      "/var/folders/s4/79ykyqjn7f16bdl_zqjgsbzh0000gp/T/ipykernel_14170/863171515.py:4: DeprecationWarning: executable_path has been deprecated, please pass in a Service object\n",
      "  driver=webdriver.Chrome(PATH)\n",
      "error 1\n",
      "todo OK\n",
      "https://open.spotify.com/track/7wD6WAp1lowdxnvEfgyvNV?si=b8b70e9fd65f42b5\n",
      "/var/folders/s4/79ykyqjn7f16bdl_zqjgsbzh0000gp/T/ipykernel_14170/863171515.py:4: DeprecationWarning: executable_path has been deprecated, please pass in a Service object\n",
      "  driver=webdriver.Chrome(PATH)\n",
      "error 1\n",
      "todo OK\n",
      "https://open.spotify.com/track/0fwIHsKXNEcb57u2um7z9I?si=f7d851c45267403a\n",
      "/var/folders/s4/79ykyqjn7f16bdl_zqjgsbzh0000gp/T/ipykernel_14170/863171515.py:4: DeprecationWarning: executable_path has been deprecated, please pass in a Service object\n",
      "  driver=webdriver.Chrome(PATH)\n",
      "error 1\n",
      "error 4\n",
      "todo OK\n",
      "https://open.spotify.com/track/0fwIHsKXNEcb57u2um7z9I?si=f7d851c45267403a\n",
      "/var/folders/s4/79ykyqjn7f16bdl_zqjgsbzh0000gp/T/ipykernel_14170/863171515.py:4: DeprecationWarning: executable_path has been deprecated, please pass in a Service object\n",
      "  driver=webdriver.Chrome(PATH)\n",
      "error 1\n",
      "todo OK\n",
      "https://open.spotify.com/track/17nOJOcPbcl4sKzM2yyYDp?si=7889c510fd514652\n",
      "/var/folders/s4/79ykyqjn7f16bdl_zqjgsbzh0000gp/T/ipykernel_14170/863171515.py:4: DeprecationWarning: executable_path has been deprecated, please pass in a Service object\n",
      "  driver=webdriver.Chrome(PATH)\n",
      "todo OK\n",
      "https://open.spotify.com/track/7AjfklMN4WpQYz5FkT4E66?si=953806031e9c4a0c\n",
      "/var/folders/s4/79ykyqjn7f16bdl_zqjgsbzh0000gp/T/ipykernel_14170/863171515.py:4: DeprecationWarning: executable_path has been deprecated, please pass in a Service object\n",
      "  driver=webdriver.Chrome(PATH)\n",
      "error 1\n",
      "todo OK\n",
      "https://open.spotify.com/track/7rt0kEDWRg3pgTZJKuszoE?si=e163f7ff83d04653\n",
      "/var/folders/s4/79ykyqjn7f16bdl_zqjgsbzh0000gp/T/ipykernel_14170/863171515.py:4: DeprecationWarning: executable_path has been deprecated, please pass in a Service object\n",
      "  driver=webdriver.Chrome(PATH)\n",
      "error 1\n",
      "todo OK\n",
      "https://open.spotify.com/track/7hzgk557YLr0722EFkmp9Z?si=741edbe3741a43ca\n",
      "/var/folders/s4/79ykyqjn7f16bdl_zqjgsbzh0000gp/T/ipykernel_14170/863171515.py:4: DeprecationWarning: executable_path has been deprecated, please pass in a Service object\n",
      "  driver=webdriver.Chrome(PATH)\n",
      "error 1\n",
      "todo OK\n",
      "https://open.spotify.com/track/4oPNN7syJYSjzDhRerF966?si=73909cbc1aa34c2b\n",
      "/var/folders/s4/79ykyqjn7f16bdl_zqjgsbzh0000gp/T/ipykernel_14170/863171515.py:4: DeprecationWarning: executable_path has been deprecated, please pass in a Service object\n",
      "  driver=webdriver.Chrome(PATH)\n",
      "error 1\n",
      "todo OK\n",
      "https://open.spotify.com/track/2RcanAJpudPNDkyIe9DzKS?si=b978533554424662\n",
      "/var/folders/s4/79ykyqjn7f16bdl_zqjgsbzh0000gp/T/ipykernel_14170/863171515.py:4: DeprecationWarning: executable_path has been deprecated, please pass in a Service object\n",
      "  driver=webdriver.Chrome(PATH)\n",
      "error 1\n",
      "todo OK\n",
      "https://open.spotify.com/track/456WNXWhDwYOSf5SpTuqxd?si=0a7432de74ae4068\n",
      "/var/folders/s4/79ykyqjn7f16bdl_zqjgsbzh0000gp/T/ipykernel_14170/863171515.py:4: DeprecationWarning: executable_path has been deprecated, please pass in a Service object\n",
      "  driver=webdriver.Chrome(PATH)\n",
      "error 1\n",
      "todo OK\n",
      "https://open.spotify.com/track/244AvzGQ4Ksa5637JQu5Gy?si=d27211ccf7734917\n",
      "/var/folders/s4/79ykyqjn7f16bdl_zqjgsbzh0000gp/T/ipykernel_14170/863171515.py:4: DeprecationWarning: executable_path has been deprecated, please pass in a Service object\n",
      "  driver=webdriver.Chrome(PATH)\n",
      "error 1\n",
      "error 4\n",
      "todo OK\n",
      "https://open.spotify.com/track/244AvzGQ4Ksa5637JQu5Gy?si=d27211ccf7734917\n",
      "/var/folders/s4/79ykyqjn7f16bdl_zqjgsbzh0000gp/T/ipykernel_14170/863171515.py:4: DeprecationWarning: executable_path has been deprecated, please pass in a Service object\n",
      "  driver=webdriver.Chrome(PATH)\n",
      "error 1\n",
      "todo OK\n",
      "https://open.spotify.com/track/244AvzGQ4Ksa5637JQu5Gy?si=d27211ccf7734917\n",
      "/var/folders/s4/79ykyqjn7f16bdl_zqjgsbzh0000gp/T/ipykernel_14170/863171515.py:4: DeprecationWarning: executable_path has been deprecated, please pass in a Service object\n",
      "  driver=webdriver.Chrome(PATH)\n",
      "error 4\n",
      "todo OK\n",
      "https://open.spotify.com/track/244AvzGQ4Ksa5637JQu5Gy?si=d27211ccf7734917\n",
      "/var/folders/s4/79ykyqjn7f16bdl_zqjgsbzh0000gp/T/ipykernel_14170/863171515.py:4: DeprecationWarning: executable_path has been deprecated, please pass in a Service object\n",
      "  driver=webdriver.Chrome(PATH)\n",
      "error 1\n",
      "todo OK\n",
      "https://open.spotify.com/track/3wA4ronkc8ZcPXUP0fDgYA?si=a103224f0739474c\n",
      "/var/folders/s4/79ykyqjn7f16bdl_zqjgsbzh0000gp/T/ipykernel_14170/863171515.py:4: DeprecationWarning: executable_path has been deprecated, please pass in a Service object\n",
      "  driver=webdriver.Chrome(PATH)\n",
      "error 1\n",
      "todo OK\n",
      "https://open.spotify.com/track/7kjjpSYKszLz8TwQXEnqlx?si=ba7261e2e40240d1\n",
      "/var/folders/s4/79ykyqjn7f16bdl_zqjgsbzh0000gp/T/ipykernel_14170/863171515.py:4: DeprecationWarning: executable_path has been deprecated, please pass in a Service object\n",
      "  driver=webdriver.Chrome(PATH)\n",
      "error 1\n",
      "todo OK\n",
      "https://open.spotify.com/track/32YHCNItnCdiYaPbw0uTo8?si=7a87127bae874f97\n",
      "/var/folders/s4/79ykyqjn7f16bdl_zqjgsbzh0000gp/T/ipykernel_14170/863171515.py:4: DeprecationWarning: executable_path has been deprecated, please pass in a Service object\n",
      "  driver=webdriver.Chrome(PATH)\n",
      "todo OK\n",
      "https://open.spotify.com/track/2PIvq1pGrUjY007X5y1UpM?si=8b889b5283404b25\n",
      "/var/folders/s4/79ykyqjn7f16bdl_zqjgsbzh0000gp/T/ipykernel_14170/863171515.py:4: DeprecationWarning: executable_path has been deprecated, please pass in a Service object\n",
      "  driver=webdriver.Chrome(PATH)\n",
      "error 1\n",
      "error 4\n",
      "todo OK\n",
      "https://open.spotify.com/track/2PIvq1pGrUjY007X5y1UpM?si=8b889b5283404b25\n",
      "/var/folders/s4/79ykyqjn7f16bdl_zqjgsbzh0000gp/T/ipykernel_14170/863171515.py:4: DeprecationWarning: executable_path has been deprecated, please pass in a Service object\n",
      "  driver=webdriver.Chrome(PATH)\n",
      "todo OK\n",
      "https://open.spotify.com/track/5GbVzc6Ex5LYlLJqzRQhuy?si=952ecdd7d07e43e2\n",
      "/var/folders/s4/79ykyqjn7f16bdl_zqjgsbzh0000gp/T/ipykernel_14170/863171515.py:4: DeprecationWarning: executable_path has been deprecated, please pass in a Service object\n",
      "  driver=webdriver.Chrome(PATH)\n",
      "error 1\n",
      "error 4\n",
      "todo OK\n",
      "https://open.spotify.com/track/5GbVzc6Ex5LYlLJqzRQhuy?si=952ecdd7d07e43e2\n",
      "/var/folders/s4/79ykyqjn7f16bdl_zqjgsbzh0000gp/T/ipykernel_14170/863171515.py:4: DeprecationWarning: executable_path has been deprecated, please pass in a Service object\n",
      "  driver=webdriver.Chrome(PATH)\n",
      "error 4\n",
      "todo OK\n",
      "https://open.spotify.com/track/5GbVzc6Ex5LYlLJqzRQhuy?si=952ecdd7d07e43e2\n",
      "/var/folders/s4/79ykyqjn7f16bdl_zqjgsbzh0000gp/T/ipykernel_14170/863171515.py:4: DeprecationWarning: executable_path has been deprecated, please pass in a Service object\n",
      "  driver=webdriver.Chrome(PATH)\n",
      "error 1\n",
      "todo OK\n",
      "https://open.spotify.com/track/1ai9FDnFQDv18WAtFhMTIz?si=fe6cbfce3e4648e8\n",
      "/var/folders/s4/79ykyqjn7f16bdl_zqjgsbzh0000gp/T/ipykernel_14170/863171515.py:4: DeprecationWarning: executable_path has been deprecated, please pass in a Service object\n",
      "  driver=webdriver.Chrome(PATH)\n",
      "error 1\n",
      "error 4\n",
      "todo OK\n",
      "https://open.spotify.com/track/1ai9FDnFQDv18WAtFhMTIz?si=fe6cbfce3e4648e8\n",
      "/var/folders/s4/79ykyqjn7f16bdl_zqjgsbzh0000gp/T/ipykernel_14170/863171515.py:4: DeprecationWarning: executable_path has been deprecated, please pass in a Service object\n",
      "  driver=webdriver.Chrome(PATH)\n",
      "error 1\n",
      "error 4\n",
      "todo OK\n",
      "https://open.spotify.com/track/1ai9FDnFQDv18WAtFhMTIz?si=fe6cbfce3e4648e8\n",
      "/var/folders/s4/79ykyqjn7f16bdl_zqjgsbzh0000gp/T/ipykernel_14170/863171515.py:4: DeprecationWarning: executable_path has been deprecated, please pass in a Service object\n",
      "  driver=webdriver.Chrome(PATH)\n",
      "error 1\n",
      "todo OK\n",
      "https://open.spotify.com/track/79jQjC6BpnSFuF1CZsOBHh?si=1a1ab56447284b59\n",
      "/var/folders/s4/79ykyqjn7f16bdl_zqjgsbzh0000gp/T/ipykernel_14170/863171515.py:4: DeprecationWarning: executable_path has been deprecated, please pass in a Service object\n",
      "  driver=webdriver.Chrome(PATH)\n",
      "error 1\n",
      "todo OK\n",
      "https://open.spotify.com/track/0tRQ7UZtDQtKUkFFRtyTyM?si=105c8dbcd69b4d4f\n",
      "/var/folders/s4/79ykyqjn7f16bdl_zqjgsbzh0000gp/T/ipykernel_14170/863171515.py:4: DeprecationWarning: executable_path has been deprecated, please pass in a Service object\n",
      "  driver=webdriver.Chrome(PATH)\n",
      "todo OK\n",
      "https://open.spotify.com/track/0B3wgb9raXYpnjy1euSWlz?si=4923a0d301834fc8\n",
      "/var/folders/s4/79ykyqjn7f16bdl_zqjgsbzh0000gp/T/ipykernel_14170/863171515.py:4: DeprecationWarning: executable_path has been deprecated, please pass in a Service object\n",
      "  driver=webdriver.Chrome(PATH)\n",
      "error 1\n",
      "todo OK\n",
      "https://open.spotify.com/track/0s7eMNB8DDKTQ1W3LY5oay?si=c2fff3e8a538414d\n",
      "/var/folders/s4/79ykyqjn7f16bdl_zqjgsbzh0000gp/T/ipykernel_14170/863171515.py:4: DeprecationWarning: executable_path has been deprecated, please pass in a Service object\n",
      "  driver=webdriver.Chrome(PATH)\n",
      "todo OK\n",
      "https://open.spotify.com/track/0HL5XOeVxgX1cEPY2KgRRa?si=75a10f806a034df1\n",
      "/var/folders/s4/79ykyqjn7f16bdl_zqjgsbzh0000gp/T/ipykernel_14170/863171515.py:4: DeprecationWarning: executable_path has been deprecated, please pass in a Service object\n",
      "  driver=webdriver.Chrome(PATH)\n",
      "todo OK\n",
      "https://open.spotify.com/track/3jfZ9M23l0L7RxzYMTgBTv?si=0c7b9d55dac94480\n",
      "/var/folders/s4/79ykyqjn7f16bdl_zqjgsbzh0000gp/T/ipykernel_14170/863171515.py:4: DeprecationWarning: executable_path has been deprecated, please pass in a Service object\n",
      "  driver=webdriver.Chrome(PATH)\n",
      "todo OK\n",
      "https://open.spotify.com/track/04F42oEuKrRComYJfJuyVR?si=e51927c58821463b\n",
      "/var/folders/s4/79ykyqjn7f16bdl_zqjgsbzh0000gp/T/ipykernel_14170/863171515.py:4: DeprecationWarning: executable_path has been deprecated, please pass in a Service object\n",
      "  driver=webdriver.Chrome(PATH)\n",
      "error 1\n",
      "todo OK\n",
      "https://open.spotify.com/track/02MWAaffLxlfxAUY7c5dvx?si=0e28057042c54d67\n",
      "/var/folders/s4/79ykyqjn7f16bdl_zqjgsbzh0000gp/T/ipykernel_14170/863171515.py:4: DeprecationWarning: executable_path has been deprecated, please pass in a Service object\n",
      "  driver=webdriver.Chrome(PATH)\n",
      "error 1\n",
      "todo OK\n",
      "https://open.spotify.com/track/6AtZLIzUINvExIUy4QhdjP?si=293c7e95909d4f76\n",
      "/var/folders/s4/79ykyqjn7f16bdl_zqjgsbzh0000gp/T/ipykernel_14170/863171515.py:4: DeprecationWarning: executable_path has been deprecated, please pass in a Service object\n",
      "  driver=webdriver.Chrome(PATH)\n",
      "error 1\n",
      "todo OK\n",
      "https://open.spotify.com/track/2vpVR1L7Qfkd7D6qFNuorq?si=4d759b45fba1437a\n",
      "/var/folders/s4/79ykyqjn7f16bdl_zqjgsbzh0000gp/T/ipykernel_14170/863171515.py:4: DeprecationWarning: executable_path has been deprecated, please pass in a Service object\n",
      "  driver=webdriver.Chrome(PATH)\n",
      "error 1\n",
      "todo OK\n",
      "https://open.spotify.com/track/0JU7KoyKSFgY1zJV2ex6Ee?si=7247869a3b9d4e10\n",
      "/var/folders/s4/79ykyqjn7f16bdl_zqjgsbzh0000gp/T/ipykernel_14170/863171515.py:4: DeprecationWarning: executable_path has been deprecated, please pass in a Service object\n",
      "  driver=webdriver.Chrome(PATH)\n",
      "error 1\n",
      "todo OK\n",
      "https://open.spotify.com/track/6LOZws7T3jqZz78unPgFF9?si=5526779e594c433b\n",
      "/var/folders/s4/79ykyqjn7f16bdl_zqjgsbzh0000gp/T/ipykernel_14170/863171515.py:4: DeprecationWarning: executable_path has been deprecated, please pass in a Service object\n",
      "  driver=webdriver.Chrome(PATH)\n",
      "error 1\n",
      "todo OK\n",
      "https://open.spotify.com/track/6KfoDhO4XUWSbnyKjNp9c4?si=fa7f55b4e68244a6\n",
      "/var/folders/s4/79ykyqjn7f16bdl_zqjgsbzh0000gp/T/ipykernel_14170/863171515.py:4: DeprecationWarning: executable_path has been deprecated, please pass in a Service object\n",
      "  driver=webdriver.Chrome(PATH)\n",
      "error 1\n",
      "error 4\n",
      "todo OK\n",
      "https://open.spotify.com/track/6KfoDhO4XUWSbnyKjNp9c4?si=fa7f55b4e68244a6\n",
      "/var/folders/s4/79ykyqjn7f16bdl_zqjgsbzh0000gp/T/ipykernel_14170/863171515.py:4: DeprecationWarning: executable_path has been deprecated, please pass in a Service object\n",
      "  driver=webdriver.Chrome(PATH)\n",
      "error 1\n",
      "todo OK\n",
      "https://open.spotify.com/track/1jVjOcs7QeQZJXScbqvofI?si=5a1dd0ac93d741e7\n",
      "/var/folders/s4/79ykyqjn7f16bdl_zqjgsbzh0000gp/T/ipykernel_14170/863171515.py:4: DeprecationWarning: executable_path has been deprecated, please pass in a Service object\n",
      "  driver=webdriver.Chrome(PATH)\n",
      "error 1\n",
      "error 4\n",
      "todo OK\n",
      "https://open.spotify.com/track/1jVjOcs7QeQZJXScbqvofI?si=5a1dd0ac93d741e7\n",
      "/var/folders/s4/79ykyqjn7f16bdl_zqjgsbzh0000gp/T/ipykernel_14170/863171515.py:4: DeprecationWarning: executable_path has been deprecated, please pass in a Service object\n",
      "  driver=webdriver.Chrome(PATH)\n",
      "error 0\n",
      "error 1\n",
      "error 3\n",
      "error 4\n",
      "todo OK\n",
      "https://open.spotify.com/track/1jVjOcs7QeQZJXScbqvofI?si=5a1dd0ac93d741e7\n",
      "/var/folders/s4/79ykyqjn7f16bdl_zqjgsbzh0000gp/T/ipykernel_14170/863171515.py:4: DeprecationWarning: executable_path has been deprecated, please pass in a Service object\n",
      "  driver=webdriver.Chrome(PATH)\n",
      "error 1\n",
      "error 4\n",
      "todo OK\n",
      "https://open.spotify.com/track/1jVjOcs7QeQZJXScbqvofI?si=5a1dd0ac93d741e7\n",
      "/var/folders/s4/79ykyqjn7f16bdl_zqjgsbzh0000gp/T/ipykernel_14170/863171515.py:4: DeprecationWarning: executable_path has been deprecated, please pass in a Service object\n",
      "  driver=webdriver.Chrome(PATH)\n",
      "error 1\n",
      "todo OK\n",
      "https://open.spotify.com/track/0W95eMaAxNVYTquOsXXkC5?si=8f5031044a86410b\n",
      "/var/folders/s4/79ykyqjn7f16bdl_zqjgsbzh0000gp/T/ipykernel_14170/863171515.py:4: DeprecationWarning: executable_path has been deprecated, please pass in a Service object\n",
      "  driver=webdriver.Chrome(PATH)\n",
      "error 1\n",
      "error 4\n",
      "todo OK\n",
      "https://open.spotify.com/track/0W95eMaAxNVYTquOsXXkC5?si=8f5031044a86410b\n",
      "/var/folders/s4/79ykyqjn7f16bdl_zqjgsbzh0000gp/T/ipykernel_14170/863171515.py:4: DeprecationWarning: executable_path has been deprecated, please pass in a Service object\n",
      "  driver=webdriver.Chrome(PATH)\n",
      "error 1\n",
      "error 4\n",
      "todo OK\n",
      "https://open.spotify.com/track/0W95eMaAxNVYTquOsXXkC5?si=8f5031044a86410b\n",
      "/var/folders/s4/79ykyqjn7f16bdl_zqjgsbzh0000gp/T/ipykernel_14170/863171515.py:4: DeprecationWarning: executable_path has been deprecated, please pass in a Service object\n",
      "  driver=webdriver.Chrome(PATH)\n",
      "error 1\n",
      "error 4\n",
      "todo OK\n",
      "https://open.spotify.com/track/0W95eMaAxNVYTquOsXXkC5?si=8f5031044a86410b\n",
      "/var/folders/s4/79ykyqjn7f16bdl_zqjgsbzh0000gp/T/ipykernel_14170/863171515.py:4: DeprecationWarning: executable_path has been deprecated, please pass in a Service object\n",
      "  driver=webdriver.Chrome(PATH)\n",
      "error 1\n",
      "todo OK\n",
      "https://open.spotify.com/track/4ZtFanR9U6ndgddUvNcjcG?si=fa0df8f52e054526\n",
      "/var/folders/s4/79ykyqjn7f16bdl_zqjgsbzh0000gp/T/ipykernel_14170/863171515.py:4: DeprecationWarning: executable_path has been deprecated, please pass in a Service object\n",
      "  driver=webdriver.Chrome(PATH)\n",
      "error 1\n",
      "todo OK\n",
      "https://open.spotify.com/track/2B4nQ6yvVVBMqfgOrYtubb?si=c8132c36c23c421b\n",
      "/var/folders/s4/79ykyqjn7f16bdl_zqjgsbzh0000gp/T/ipykernel_14170/863171515.py:4: DeprecationWarning: executable_path has been deprecated, please pass in a Service object\n",
      "  driver=webdriver.Chrome(PATH)\n",
      "error 1\n",
      "todo OK\n",
      "https://open.spotify.com/track/3CQDFLetMMxD5hzAnUk410?si=29fdb122d188466f\n",
      "/var/folders/s4/79ykyqjn7f16bdl_zqjgsbzh0000gp/T/ipykernel_14170/863171515.py:4: DeprecationWarning: executable_path has been deprecated, please pass in a Service object\n",
      "  driver=webdriver.Chrome(PATH)\n",
      "error 1\n",
      "error 4\n",
      "todo OK\n",
      "https://open.spotify.com/track/3CQDFLetMMxD5hzAnUk410?si=29fdb122d188466f\n",
      "/var/folders/s4/79ykyqjn7f16bdl_zqjgsbzh0000gp/T/ipykernel_14170/863171515.py:4: DeprecationWarning: executable_path has been deprecated, please pass in a Service object\n",
      "  driver=webdriver.Chrome(PATH)\n",
      "error 4\n",
      "todo OK\n",
      "https://open.spotify.com/track/3CQDFLetMMxD5hzAnUk410?si=29fdb122d188466f\n",
      "/var/folders/s4/79ykyqjn7f16bdl_zqjgsbzh0000gp/T/ipykernel_14170/863171515.py:4: DeprecationWarning: executable_path has been deprecated, please pass in a Service object\n",
      "  driver=webdriver.Chrome(PATH)\n",
      "error 1\n",
      "error 4\n",
      "todo OK\n",
      "https://open.spotify.com/track/3CQDFLetMMxD5hzAnUk410?si=29fdb122d188466f\n",
      "/var/folders/s4/79ykyqjn7f16bdl_zqjgsbzh0000gp/T/ipykernel_14170/863171515.py:4: DeprecationWarning: executable_path has been deprecated, please pass in a Service object\n",
      "  driver=webdriver.Chrome(PATH)\n",
      "todo OK\n",
      "https://open.spotify.com/track/5PjdC2gMATetx5xdnwGUu7?si=6b674833d6fa49d0\n",
      "/var/folders/s4/79ykyqjn7f16bdl_zqjgsbzh0000gp/T/ipykernel_14170/863171515.py:4: DeprecationWarning: executable_path has been deprecated, please pass in a Service object\n",
      "  driver=webdriver.Chrome(PATH)\n",
      "error 1\n",
      "error 4\n",
      "todo OK\n",
      "https://open.spotify.com/track/5PjdC2gMATetx5xdnwGUu7?si=6b674833d6fa49d0\n",
      "/var/folders/s4/79ykyqjn7f16bdl_zqjgsbzh0000gp/T/ipykernel_14170/863171515.py:4: DeprecationWarning: executable_path has been deprecated, please pass in a Service object\n",
      "  driver=webdriver.Chrome(PATH)\n",
      "error 1\n",
      "error 4\n",
      "todo OK\n",
      "https://open.spotify.com/track/5PjdC2gMATetx5xdnwGUu7?si=6b674833d6fa49d0\n",
      "/var/folders/s4/79ykyqjn7f16bdl_zqjgsbzh0000gp/T/ipykernel_14170/863171515.py:4: DeprecationWarning: executable_path has been deprecated, please pass in a Service object\n",
      "  driver=webdriver.Chrome(PATH)\n",
      "error 1\n",
      "todo OK\n",
      "https://open.spotify.com/track/4qEmZddPnyEpGkHeGTNmWa?si=d7d341a046094d7e\n",
      "/var/folders/s4/79ykyqjn7f16bdl_zqjgsbzh0000gp/T/ipykernel_14170/863171515.py:4: DeprecationWarning: executable_path has been deprecated, please pass in a Service object\n",
      "  driver=webdriver.Chrome(PATH)\n",
      "error 1\n",
      "todo OK\n",
      "https://open.spotify.com/track/1OWGLpptXlHLw1yibeHiHa?si=0f9000843b1c44b3\n",
      "/var/folders/s4/79ykyqjn7f16bdl_zqjgsbzh0000gp/T/ipykernel_14170/863171515.py:4: DeprecationWarning: executable_path has been deprecated, please pass in a Service object\n",
      "  driver=webdriver.Chrome(PATH)\n",
      "error 4\n",
      "todo OK\n",
      "https://open.spotify.com/track/1OWGLpptXlHLw1yibeHiHa?si=0f9000843b1c44b3\n",
      "/var/folders/s4/79ykyqjn7f16bdl_zqjgsbzh0000gp/T/ipykernel_14170/863171515.py:4: DeprecationWarning: executable_path has been deprecated, please pass in a Service object\n",
      "  driver=webdriver.Chrome(PATH)\n",
      "error 1\n",
      "error 4\n",
      "todo OK\n",
      "https://open.spotify.com/track/1OWGLpptXlHLw1yibeHiHa?si=0f9000843b1c44b3\n",
      "/var/folders/s4/79ykyqjn7f16bdl_zqjgsbzh0000gp/T/ipykernel_14170/863171515.py:4: DeprecationWarning: executable_path has been deprecated, please pass in a Service object\n",
      "  driver=webdriver.Chrome(PATH)\n",
      "todo OK\n",
      "https://open.spotify.com/track/46hkty784UBYP0kR3KcAUJ?si=dcbcfb42c08144ba\n",
      "/var/folders/s4/79ykyqjn7f16bdl_zqjgsbzh0000gp/T/ipykernel_14170/863171515.py:4: DeprecationWarning: executable_path has been deprecated, please pass in a Service object\n",
      "  driver=webdriver.Chrome(PATH)\n",
      "error 1\n",
      "todo OK\n",
      "https://open.spotify.com/track/4X70hLzIDfY5T2BcsOcv6Q?si=6baa8c8b65d947df\n",
      "/var/folders/s4/79ykyqjn7f16bdl_zqjgsbzh0000gp/T/ipykernel_14170/863171515.py:4: DeprecationWarning: executable_path has been deprecated, please pass in a Service object\n",
      "  driver=webdriver.Chrome(PATH)\n",
      "todo OK\n",
      "https://open.spotify.com/track/6U9OkV9oa8kN8LyBGf3wvJ?si=42834b3be2d1482e\n",
      "/var/folders/s4/79ykyqjn7f16bdl_zqjgsbzh0000gp/T/ipykernel_14170/863171515.py:4: DeprecationWarning: executable_path has been deprecated, please pass in a Service object\n",
      "  driver=webdriver.Chrome(PATH)\n",
      "error 1\n",
      "error 4\n",
      "todo OK\n",
      "https://open.spotify.com/track/6U9OkV9oa8kN8LyBGf3wvJ?si=42834b3be2d1482e\n",
      "/var/folders/s4/79ykyqjn7f16bdl_zqjgsbzh0000gp/T/ipykernel_14170/863171515.py:4: DeprecationWarning: executable_path has been deprecated, please pass in a Service object\n",
      "  driver=webdriver.Chrome(PATH)\n",
      "error 1\n",
      "todo OK\n",
      "https://open.spotify.com/track/2pGz1Afwxe0KHJtJLwm0Kd?si=3da3abb68c864449\n",
      "/var/folders/s4/79ykyqjn7f16bdl_zqjgsbzh0000gp/T/ipykernel_14170/863171515.py:4: DeprecationWarning: executable_path has been deprecated, please pass in a Service object\n",
      "  driver=webdriver.Chrome(PATH)\n",
      "error 4\n",
      "todo OK\n",
      "https://open.spotify.com/track/2pGz1Afwxe0KHJtJLwm0Kd?si=3da3abb68c864449\n",
      "/var/folders/s4/79ykyqjn7f16bdl_zqjgsbzh0000gp/T/ipykernel_14170/863171515.py:4: DeprecationWarning: executable_path has been deprecated, please pass in a Service object\n",
      "  driver=webdriver.Chrome(PATH)\n",
      "error 1\n",
      "error 4\n",
      "todo OK\n",
      "https://open.spotify.com/track/2pGz1Afwxe0KHJtJLwm0Kd?si=3da3abb68c864449\n",
      "/var/folders/s4/79ykyqjn7f16bdl_zqjgsbzh0000gp/T/ipykernel_14170/863171515.py:4: DeprecationWarning: executable_path has been deprecated, please pass in a Service object\n",
      "  driver=webdriver.Chrome(PATH)\n",
      "error 1\n",
      "error 4\n",
      "todo OK\n",
      "https://open.spotify.com/track/2pGz1Afwxe0KHJtJLwm0Kd?si=3da3abb68c864449\n",
      "/var/folders/s4/79ykyqjn7f16bdl_zqjgsbzh0000gp/T/ipykernel_14170/863171515.py:4: DeprecationWarning: executable_path has been deprecated, please pass in a Service object\n",
      "  driver=webdriver.Chrome(PATH)\n",
      "error 1\n",
      "error 4\n",
      "todo OK\n",
      "https://open.spotify.com/track/2pGz1Afwxe0KHJtJLwm0Kd?si=3da3abb68c864449\n",
      "/var/folders/s4/79ykyqjn7f16bdl_zqjgsbzh0000gp/T/ipykernel_14170/863171515.py:4: DeprecationWarning: executable_path has been deprecated, please pass in a Service object\n",
      "  driver=webdriver.Chrome(PATH)\n",
      "error 1\n",
      "todo OK\n",
      "https://open.spotify.com/track/1yJGcxW3Pg5txBM45L1PeF?si=086070d7c85b495a\n",
      "/var/folders/s4/79ykyqjn7f16bdl_zqjgsbzh0000gp/T/ipykernel_14170/863171515.py:4: DeprecationWarning: executable_path has been deprecated, please pass in a Service object\n",
      "  driver=webdriver.Chrome(PATH)\n",
      "error 4\n",
      "todo OK\n",
      "https://open.spotify.com/track/1yJGcxW3Pg5txBM45L1PeF?si=086070d7c85b495a\n",
      "/var/folders/s4/79ykyqjn7f16bdl_zqjgsbzh0000gp/T/ipykernel_14170/863171515.py:4: DeprecationWarning: executable_path has been deprecated, please pass in a Service object\n",
      "  driver=webdriver.Chrome(PATH)\n",
      "error 1\n",
      "error 4\n",
      "todo OK\n",
      "https://open.spotify.com/track/1yJGcxW3Pg5txBM45L1PeF?si=086070d7c85b495a\n",
      "/var/folders/s4/79ykyqjn7f16bdl_zqjgsbzh0000gp/T/ipykernel_14170/863171515.py:4: DeprecationWarning: executable_path has been deprecated, please pass in a Service object\n",
      "  driver=webdriver.Chrome(PATH)\n",
      "error 1\n",
      "todo OK\n",
      "https://open.spotify.com/track/6BnHksggg8CKWAwmtBknSF?si=c50d8e85026a45dd\n",
      "/var/folders/s4/79ykyqjn7f16bdl_zqjgsbzh0000gp/T/ipykernel_14170/863171515.py:4: DeprecationWarning: executable_path has been deprecated, please pass in a Service object\n",
      "  driver=webdriver.Chrome(PATH)\n",
      "error 4\n",
      "todo OK\n",
      "https://open.spotify.com/track/6BnHksggg8CKWAwmtBknSF?si=c50d8e85026a45dd\n",
      "/var/folders/s4/79ykyqjn7f16bdl_zqjgsbzh0000gp/T/ipykernel_14170/863171515.py:4: DeprecationWarning: executable_path has been deprecated, please pass in a Service object\n",
      "  driver=webdriver.Chrome(PATH)\n",
      "error 1\n",
      "error 4\n",
      "todo OK\n",
      "https://open.spotify.com/track/6BnHksggg8CKWAwmtBknSF?si=c50d8e85026a45dd\n",
      "/var/folders/s4/79ykyqjn7f16bdl_zqjgsbzh0000gp/T/ipykernel_14170/863171515.py:4: DeprecationWarning: executable_path has been deprecated, please pass in a Service object\n",
      "  driver=webdriver.Chrome(PATH)\n",
      "error 1\n",
      "todo OK\n",
      "https://open.spotify.com/track/4MktgUVvEo4Ep1HBmRQ5LJ?si=c0514319d5bc4837\n",
      "/var/folders/s4/79ykyqjn7f16bdl_zqjgsbzh0000gp/T/ipykernel_14170/863171515.py:4: DeprecationWarning: executable_path has been deprecated, please pass in a Service object\n",
      "  driver=webdriver.Chrome(PATH)\n",
      "error 1\n",
      "todo OK\n",
      "https://open.spotify.com/track/0ha4TPphnCc1Xoxr8wA6wc?si=c4ba8e5de0074b06\n",
      "/var/folders/s4/79ykyqjn7f16bdl_zqjgsbzh0000gp/T/ipykernel_14170/863171515.py:4: DeprecationWarning: executable_path has been deprecated, please pass in a Service object\n",
      "  driver=webdriver.Chrome(PATH)\n",
      "error 1\n",
      "error 4\n",
      "todo OK\n",
      "https://open.spotify.com/track/0ha4TPphnCc1Xoxr8wA6wc?si=c4ba8e5de0074b06\n",
      "/var/folders/s4/79ykyqjn7f16bdl_zqjgsbzh0000gp/T/ipykernel_14170/863171515.py:4: DeprecationWarning: executable_path has been deprecated, please pass in a Service object\n",
      "  driver=webdriver.Chrome(PATH)\n",
      "error 4\n",
      "todo OK\n",
      "https://open.spotify.com/track/0ha4TPphnCc1Xoxr8wA6wc?si=c4ba8e5de0074b06\n",
      "/var/folders/s4/79ykyqjn7f16bdl_zqjgsbzh0000gp/T/ipykernel_14170/863171515.py:4: DeprecationWarning: executable_path has been deprecated, please pass in a Service object\n",
      "  driver=webdriver.Chrome(PATH)\n",
      "error 4\n",
      "todo OK\n",
      "https://open.spotify.com/track/0ha4TPphnCc1Xoxr8wA6wc?si=c4ba8e5de0074b06\n",
      "/var/folders/s4/79ykyqjn7f16bdl_zqjgsbzh0000gp/T/ipykernel_14170/863171515.py:4: DeprecationWarning: executable_path has been deprecated, please pass in a Service object\n",
      "  driver=webdriver.Chrome(PATH)\n",
      "error 1\n",
      "todo OK\n",
      "https://open.spotify.com/track/5m9l5wILQ9iiLd8csLeR5v?si=abd109da21e94624\n",
      "/var/folders/s4/79ykyqjn7f16bdl_zqjgsbzh0000gp/T/ipykernel_14170/863171515.py:4: DeprecationWarning: executable_path has been deprecated, please pass in a Service object\n",
      "  driver=webdriver.Chrome(PATH)\n",
      "error 1\n",
      "todo OK\n",
      "https://open.spotify.com/track/2K3bjojp1sCLdMMoO5lJ2p?si=f125274ef5f54386\n",
      "/var/folders/s4/79ykyqjn7f16bdl_zqjgsbzh0000gp/T/ipykernel_14170/863171515.py:4: DeprecationWarning: executable_path has been deprecated, please pass in a Service object\n",
      "  driver=webdriver.Chrome(PATH)\n",
      "error 1\n",
      "error 4\n",
      "todo OK\n",
      "https://open.spotify.com/track/2K3bjojp1sCLdMMoO5lJ2p?si=f125274ef5f54386\n",
      "/var/folders/s4/79ykyqjn7f16bdl_zqjgsbzh0000gp/T/ipykernel_14170/863171515.py:4: DeprecationWarning: executable_path has been deprecated, please pass in a Service object\n",
      "  driver=webdriver.Chrome(PATH)\n",
      "todo OK\n",
      "https://open.spotify.com/track/1zZ7vl1amOLI4GE5oUn0YB?si=ec87eb7ecdcd4094\n",
      "/var/folders/s4/79ykyqjn7f16bdl_zqjgsbzh0000gp/T/ipykernel_14170/863171515.py:4: DeprecationWarning: executable_path has been deprecated, please pass in a Service object\n",
      "  driver=webdriver.Chrome(PATH)\n",
      "todo OK\n",
      "https://open.spotify.com/track/2reL9PAUza4PUtbjqW1fRf?si=4e3067f2c55848b0\n",
      "/var/folders/s4/79ykyqjn7f16bdl_zqjgsbzh0000gp/T/ipykernel_14170/863171515.py:4: DeprecationWarning: executable_path has been deprecated, please pass in a Service object\n",
      "  driver=webdriver.Chrome(PATH)\n",
      "error 1\n",
      "todo OK\n",
      "https://open.spotify.com/track/7dQFpbs34ufIEU745DVclf?si=e345731f975c4395\n",
      "/var/folders/s4/79ykyqjn7f16bdl_zqjgsbzh0000gp/T/ipykernel_14170/863171515.py:4: DeprecationWarning: executable_path has been deprecated, please pass in a Service object\n",
      "  driver=webdriver.Chrome(PATH)\n",
      "error 1\n",
      "error 4\n",
      "todo OK\n",
      "https://open.spotify.com/track/7dQFpbs34ufIEU745DVclf?si=e345731f975c4395\n",
      "/var/folders/s4/79ykyqjn7f16bdl_zqjgsbzh0000gp/T/ipykernel_14170/863171515.py:4: DeprecationWarning: executable_path has been deprecated, please pass in a Service object\n",
      "  driver=webdriver.Chrome(PATH)\n",
      "error 1\n",
      "todo OK\n",
      "https://open.spotify.com/track/5r8mGKhCDIVWb3AG4hm0l0?si=9671526faadd4c53\n",
      "/var/folders/s4/79ykyqjn7f16bdl_zqjgsbzh0000gp/T/ipykernel_14170/863171515.py:4: DeprecationWarning: executable_path has been deprecated, please pass in a Service object\n",
      "  driver=webdriver.Chrome(PATH)\n",
      "error 1\n",
      "error 4\n",
      "todo OK\n",
      "https://open.spotify.com/track/5r8mGKhCDIVWb3AG4hm0l0?si=9671526faadd4c53\n",
      "/var/folders/s4/79ykyqjn7f16bdl_zqjgsbzh0000gp/T/ipykernel_14170/863171515.py:4: DeprecationWarning: executable_path has been deprecated, please pass in a Service object\n",
      "  driver=webdriver.Chrome(PATH)\n",
      "error 4\n",
      "todo OK\n",
      "https://open.spotify.com/track/5r8mGKhCDIVWb3AG4hm0l0?si=9671526faadd4c53\n",
      "/var/folders/s4/79ykyqjn7f16bdl_zqjgsbzh0000gp/T/ipykernel_14170/863171515.py:4: DeprecationWarning: executable_path has been deprecated, please pass in a Service object\n",
      "  driver=webdriver.Chrome(PATH)\n",
      "error 4\n",
      "todo OK\n",
      "https://open.spotify.com/track/5r8mGKhCDIVWb3AG4hm0l0?si=9671526faadd4c53\n",
      "/var/folders/s4/79ykyqjn7f16bdl_zqjgsbzh0000gp/T/ipykernel_14170/863171515.py:4: DeprecationWarning: executable_path has been deprecated, please pass in a Service object\n",
      "  driver=webdriver.Chrome(PATH)\n",
      "error 1\n",
      "todo OK\n",
      "https://open.spotify.com/track/3ZwQCZ2LuYwuQ6R1p1CJ3w?si=0247a9d86d014e42\n",
      "/var/folders/s4/79ykyqjn7f16bdl_zqjgsbzh0000gp/T/ipykernel_14170/863171515.py:4: DeprecationWarning: executable_path has been deprecated, please pass in a Service object\n",
      "  driver=webdriver.Chrome(PATH)\n",
      "error 1\n",
      "todo OK\n",
      "https://open.spotify.com/track/1B0BQaSRHxhI0AUlItY3LK?si=412fe5ed12f546ed\n",
      "/var/folders/s4/79ykyqjn7f16bdl_zqjgsbzh0000gp/T/ipykernel_14170/863171515.py:4: DeprecationWarning: executable_path has been deprecated, please pass in a Service object\n",
      "  driver=webdriver.Chrome(PATH)\n",
      "todo OK\n",
      "https://open.spotify.com/track/23zJcKwLf5CeaKVbFhrWgF?si=d45839dbce3b4fc6\n",
      "/var/folders/s4/79ykyqjn7f16bdl_zqjgsbzh0000gp/T/ipykernel_14170/863171515.py:4: DeprecationWarning: executable_path has been deprecated, please pass in a Service object\n",
      "  driver=webdriver.Chrome(PATH)\n",
      "error 4\n",
      "todo OK\n",
      "https://open.spotify.com/track/23zJcKwLf5CeaKVbFhrWgF?si=d45839dbce3b4fc6\n",
      "/var/folders/s4/79ykyqjn7f16bdl_zqjgsbzh0000gp/T/ipykernel_14170/863171515.py:4: DeprecationWarning: executable_path has been deprecated, please pass in a Service object\n",
      "  driver=webdriver.Chrome(PATH)\n",
      "error 1\n",
      "todo OK\n",
      "https://open.spotify.com/track/3o3YFP1o1SEb4Rh5jNkVT4?si=897f8fbb73f44079\n",
      "/var/folders/s4/79ykyqjn7f16bdl_zqjgsbzh0000gp/T/ipykernel_14170/863171515.py:4: DeprecationWarning: executable_path has been deprecated, please pass in a Service object\n",
      "  driver=webdriver.Chrome(PATH)\n",
      "todo OK\n",
      "https://open.spotify.com/track/6dDhaHqJ3wUD3jbjGUBwzh?si=ad52d0c10bf443af\n",
      "/var/folders/s4/79ykyqjn7f16bdl_zqjgsbzh0000gp/T/ipykernel_14170/863171515.py:4: DeprecationWarning: executable_path has been deprecated, please pass in a Service object\n",
      "  driver=webdriver.Chrome(PATH)\n",
      "error 1\n",
      "todo OK\n",
      "https://open.spotify.com/track/7rlKjHvYFlAjMIUDY1CMLu?si=f49b7b048e094bce\n",
      "/var/folders/s4/79ykyqjn7f16bdl_zqjgsbzh0000gp/T/ipykernel_14170/863171515.py:4: DeprecationWarning: executable_path has been deprecated, please pass in a Service object\n",
      "  driver=webdriver.Chrome(PATH)\n",
      "todo OK\n",
      "https://open.spotify.com/track/6qraVL4IJaIj0IuEexYJNa?si=29e3918518944c39\n",
      "/var/folders/s4/79ykyqjn7f16bdl_zqjgsbzh0000gp/T/ipykernel_14170/863171515.py:4: DeprecationWarning: executable_path has been deprecated, please pass in a Service object\n",
      "  driver=webdriver.Chrome(PATH)\n",
      "error 1\n",
      "todo OK\n",
      "https://open.spotify.com/track/75KrTLbcLWgCcldZGxZR12?si=96b69f29188d42da\n",
      "/var/folders/s4/79ykyqjn7f16bdl_zqjgsbzh0000gp/T/ipykernel_14170/863171515.py:4: DeprecationWarning: executable_path has been deprecated, please pass in a Service object\n",
      "  driver=webdriver.Chrome(PATH)\n",
      "error 1\n",
      "error 4\n",
      "todo OK\n",
      "https://open.spotify.com/track/75KrTLbcLWgCcldZGxZR12?si=96b69f29188d42da\n",
      "/var/folders/s4/79ykyqjn7f16bdl_zqjgsbzh0000gp/T/ipykernel_14170/863171515.py:4: DeprecationWarning: executable_path has been deprecated, please pass in a Service object\n",
      "  driver=webdriver.Chrome(PATH)\n",
      "error 1\n",
      "error 4\n",
      "todo OK\n",
      "https://open.spotify.com/track/75KrTLbcLWgCcldZGxZR12?si=96b69f29188d42da\n",
      "/var/folders/s4/79ykyqjn7f16bdl_zqjgsbzh0000gp/T/ipykernel_14170/863171515.py:4: DeprecationWarning: executable_path has been deprecated, please pass in a Service object\n",
      "  driver=webdriver.Chrome(PATH)\n",
      "error 1\n",
      "todo OK\n",
      "https://open.spotify.com/track/5o2M4yHxo9kyNLdgihFeV1?si=079a4a9c5673428a\n",
      "/var/folders/s4/79ykyqjn7f16bdl_zqjgsbzh0000gp/T/ipykernel_14170/863171515.py:4: DeprecationWarning: executable_path has been deprecated, please pass in a Service object\n",
      "  driver=webdriver.Chrome(PATH)\n",
      "todo OK\n",
      "https://open.spotify.com/track/3UdBoC4SNDukSeorNxU6jx?si=7327a7fc9e354bf4\n",
      "/var/folders/s4/79ykyqjn7f16bdl_zqjgsbzh0000gp/T/ipykernel_14170/863171515.py:4: DeprecationWarning: executable_path has been deprecated, please pass in a Service object\n",
      "  driver=webdriver.Chrome(PATH)\n",
      "error 1\n",
      "todo OK\n",
      "https://open.spotify.com/track/1YgPkZ6GOwajDveEsuy3uH?si=67be67da7330401d\n",
      "/var/folders/s4/79ykyqjn7f16bdl_zqjgsbzh0000gp/T/ipykernel_14170/863171515.py:4: DeprecationWarning: executable_path has been deprecated, please pass in a Service object\n",
      "  driver=webdriver.Chrome(PATH)\n",
      "todo OK\n",
      "https://open.spotify.com/track/3s3SRwttipEjIzKUB70jka?si=d980d216d0034ea3\n",
      "/var/folders/s4/79ykyqjn7f16bdl_zqjgsbzh0000gp/T/ipykernel_14170/863171515.py:4: DeprecationWarning: executable_path has been deprecated, please pass in a Service object\n",
      "  driver=webdriver.Chrome(PATH)\n",
      "error 1\n",
      "todo OK\n",
      "https://open.spotify.com/track/3iVwzH29gquHzkrZuy3M4w?si=ab45ede75b00474c\n",
      "/var/folders/s4/79ykyqjn7f16bdl_zqjgsbzh0000gp/T/ipykernel_14170/863171515.py:4: DeprecationWarning: executable_path has been deprecated, please pass in a Service object\n",
      "  driver=webdriver.Chrome(PATH)\n",
      "error 1\n",
      "todo OK\n",
      "https://open.spotify.com/track/7tXHU3EeMfHioXLSCRdDO9?si=428e026e2e6c4645\n",
      "/var/folders/s4/79ykyqjn7f16bdl_zqjgsbzh0000gp/T/ipykernel_14170/863171515.py:4: DeprecationWarning: executable_path has been deprecated, please pass in a Service object\n",
      "  driver=webdriver.Chrome(PATH)\n",
      "error 1\n",
      "todo OK\n",
      "https://open.spotify.com/track/3POjNkAofASd07ivmm3XoY?si=0d7bb0082bff4975\n",
      "/var/folders/s4/79ykyqjn7f16bdl_zqjgsbzh0000gp/T/ipykernel_14170/863171515.py:4: DeprecationWarning: executable_path has been deprecated, please pass in a Service object\n",
      "  driver=webdriver.Chrome(PATH)\n",
      "error 1\n",
      "todo OK\n",
      "https://open.spotify.com/track/1N94ACjwdfczb42LO4dNc8?si=a351c10dcbf54f32\n",
      "/var/folders/s4/79ykyqjn7f16bdl_zqjgsbzh0000gp/T/ipykernel_14170/863171515.py:4: DeprecationWarning: executable_path has been deprecated, please pass in a Service object\n",
      "  driver=webdriver.Chrome(PATH)\n",
      "error 1\n",
      "error 4\n",
      "todo OK\n",
      "https://open.spotify.com/track/1N94ACjwdfczb42LO4dNc8?si=a351c10dcbf54f32\n",
      "/var/folders/s4/79ykyqjn7f16bdl_zqjgsbzh0000gp/T/ipykernel_14170/863171515.py:4: DeprecationWarning: executable_path has been deprecated, please pass in a Service object\n",
      "  driver=webdriver.Chrome(PATH)\n",
      "error 1\n",
      "todo OK\n",
      "https://open.spotify.com/track/3AKyURJxA2IRJwxjkZggC8?si=97b0587d21374cf0\n",
      "/var/folders/s4/79ykyqjn7f16bdl_zqjgsbzh0000gp/T/ipykernel_14170/863171515.py:4: DeprecationWarning: executable_path has been deprecated, please pass in a Service object\n",
      "  driver=webdriver.Chrome(PATH)\n",
      "error 1\n",
      "error 4\n",
      "todo OK\n",
      "https://open.spotify.com/track/3AKyURJxA2IRJwxjkZggC8?si=97b0587d21374cf0\n",
      "/var/folders/s4/79ykyqjn7f16bdl_zqjgsbzh0000gp/T/ipykernel_14170/863171515.py:4: DeprecationWarning: executable_path has been deprecated, please pass in a Service object\n",
      "  driver=webdriver.Chrome(PATH)\n",
      "error 4\n",
      "todo OK\n",
      "https://open.spotify.com/track/3AKyURJxA2IRJwxjkZggC8?si=97b0587d21374cf0\n",
      "/var/folders/s4/79ykyqjn7f16bdl_zqjgsbzh0000gp/T/ipykernel_14170/863171515.py:4: DeprecationWarning: executable_path has been deprecated, please pass in a Service object\n",
      "  driver=webdriver.Chrome(PATH)\n",
      "error 1\n",
      "todo OK\n",
      "https://open.spotify.com/track/6Loso92Vze7MFU9FnaFQBk?si=3f3d671fa3694612\n",
      "/var/folders/s4/79ykyqjn7f16bdl_zqjgsbzh0000gp/T/ipykernel_14170/863171515.py:4: DeprecationWarning: executable_path has been deprecated, please pass in a Service object\n",
      "  driver=webdriver.Chrome(PATH)\n",
      "todo OK\n",
      "https://open.spotify.com/track/0Jl7YPC0sPpqL1d31IixiG?si=b981b639e2ed46d6\n",
      "/var/folders/s4/79ykyqjn7f16bdl_zqjgsbzh0000gp/T/ipykernel_14170/863171515.py:4: DeprecationWarning: executable_path has been deprecated, please pass in a Service object\n",
      "  driver=webdriver.Chrome(PATH)\n",
      "error 1\n",
      "todo OK\n",
      "https://open.spotify.com/track/7piXNyrajEfqhOkzgDq2Ts?si=2244475808ab4877\n",
      "/var/folders/s4/79ykyqjn7f16bdl_zqjgsbzh0000gp/T/ipykernel_14170/863171515.py:4: DeprecationWarning: executable_path has been deprecated, please pass in a Service object\n",
      "  driver=webdriver.Chrome(PATH)\n",
      "error 4\n",
      "todo OK\n",
      "https://open.spotify.com/track/7piXNyrajEfqhOkzgDq2Ts?si=2244475808ab4877\n",
      "/var/folders/s4/79ykyqjn7f16bdl_zqjgsbzh0000gp/T/ipykernel_14170/863171515.py:4: DeprecationWarning: executable_path has been deprecated, please pass in a Service object\n",
      "  driver=webdriver.Chrome(PATH)\n",
      "error 1\n",
      "todo OK\n",
      "https://open.spotify.com/track/32wvhi3fa8Z8kuHK58zAoz?si=422d45ec15834f44\n",
      "/var/folders/s4/79ykyqjn7f16bdl_zqjgsbzh0000gp/T/ipykernel_14170/863171515.py:4: DeprecationWarning: executable_path has been deprecated, please pass in a Service object\n",
      "  driver=webdriver.Chrome(PATH)\n",
      "error 1\n",
      "todo OK\n",
      "https://open.spotify.com/track/0HwA568tvDPPSyT3k3XVRa?si=b228d57c26df4677\n",
      "/var/folders/s4/79ykyqjn7f16bdl_zqjgsbzh0000gp/T/ipykernel_14170/863171515.py:4: DeprecationWarning: executable_path has been deprecated, please pass in a Service object\n",
      "  driver=webdriver.Chrome(PATH)\n",
      "todo OK\n",
      "https://open.spotify.com/track/3kGFPMLAixmHVyvP9Hgl30?si=86632ab6b36e4565\n",
      "/var/folders/s4/79ykyqjn7f16bdl_zqjgsbzh0000gp/T/ipykernel_14170/863171515.py:4: DeprecationWarning: executable_path has been deprecated, please pass in a Service object\n",
      "  driver=webdriver.Chrome(PATH)\n",
      "error 1\n",
      "todo OK\n",
      "https://open.spotify.com/track/2gPhe3c43KG27IcR7D0A1m?si=21430521353d4eb2\n",
      "/var/folders/s4/79ykyqjn7f16bdl_zqjgsbzh0000gp/T/ipykernel_14170/863171515.py:4: DeprecationWarning: executable_path has been deprecated, please pass in a Service object\n",
      "  driver=webdriver.Chrome(PATH)\n",
      "error 1\n",
      "todo OK\n",
      "https://open.spotify.com/track/1tTZAlO1azoGoOJX01KKou?si=7f8f0e65ee6c42f4\n",
      "/var/folders/s4/79ykyqjn7f16bdl_zqjgsbzh0000gp/T/ipykernel_14170/863171515.py:4: DeprecationWarning: executable_path has been deprecated, please pass in a Service object\n",
      "  driver=webdriver.Chrome(PATH)\n",
      "error 1\n",
      "todo OK\n",
      "https://open.spotify.com/track/7wBhAFIYqEgsMFNBG96THW?si=6522c6665c6842b4\n",
      "/var/folders/s4/79ykyqjn7f16bdl_zqjgsbzh0000gp/T/ipykernel_14170/863171515.py:4: DeprecationWarning: executable_path has been deprecated, please pass in a Service object\n",
      "  driver=webdriver.Chrome(PATH)\n",
      "todo OK\n",
      "https://open.spotify.com/track/5b6C325qSx97lW02Xk3rzw?si=f29cdc0f25a44749\n",
      "/var/folders/s4/79ykyqjn7f16bdl_zqjgsbzh0000gp/T/ipykernel_14170/863171515.py:4: DeprecationWarning: executable_path has been deprecated, please pass in a Service object\n",
      "  driver=webdriver.Chrome(PATH)\n",
      "error 4\n",
      "todo OK\n",
      "https://open.spotify.com/track/5b6C325qSx97lW02Xk3rzw?si=f29cdc0f25a44749\n",
      "/var/folders/s4/79ykyqjn7f16bdl_zqjgsbzh0000gp/T/ipykernel_14170/863171515.py:4: DeprecationWarning: executable_path has been deprecated, please pass in a Service object\n",
      "  driver=webdriver.Chrome(PATH)\n",
      "todo OK\n",
      "https://open.spotify.com/track/0KNlNycgMUZUJY1uwIclRa?si=a3ce81d609d7439f\n",
      "/var/folders/s4/79ykyqjn7f16bdl_zqjgsbzh0000gp/T/ipykernel_14170/863171515.py:4: DeprecationWarning: executable_path has been deprecated, please pass in a Service object\n",
      "  driver=webdriver.Chrome(PATH)\n",
      "todo OK\n",
      "https://open.spotify.com/track/5j2X7ohkhveo4dSu75LmGk?si=78d96fb3e14241c7\n",
      "/var/folders/s4/79ykyqjn7f16bdl_zqjgsbzh0000gp/T/ipykernel_14170/863171515.py:4: DeprecationWarning: executable_path has been deprecated, please pass in a Service object\n",
      "  driver=webdriver.Chrome(PATH)\n",
      "error 1\n",
      "todo OK\n",
      "https://open.spotify.com/track/5WKW5VeavHIqp4fgvCBw8U?si=64232ec6578d4ef1\n",
      "/var/folders/s4/79ykyqjn7f16bdl_zqjgsbzh0000gp/T/ipykernel_14170/863171515.py:4: DeprecationWarning: executable_path has been deprecated, please pass in a Service object\n",
      "  driver=webdriver.Chrome(PATH)\n",
      "error 1\n",
      "todo OK\n",
      "https://open.spotify.com/track/4CeeEOM32jQcH3eN9Q2dGj?si=30e33899abef4652\n",
      "/var/folders/s4/79ykyqjn7f16bdl_zqjgsbzh0000gp/T/ipykernel_14170/863171515.py:4: DeprecationWarning: executable_path has been deprecated, please pass in a Service object\n",
      "  driver=webdriver.Chrome(PATH)\n",
      "todo OK\n",
      "https://open.spotify.com/track/11LmqTE2naFULdEP94AUBa?si=e172f8f430b64074\n",
      "/var/folders/s4/79ykyqjn7f16bdl_zqjgsbzh0000gp/T/ipykernel_14170/863171515.py:4: DeprecationWarning: executable_path has been deprecated, please pass in a Service object\n",
      "  driver=webdriver.Chrome(PATH)\n",
      "error 1\n",
      "todo OK\n",
      "https://open.spotify.com/track/2RsAajgo0g7bMCHxwH3Sk0?si=aa562adad5044320\n",
      "/var/folders/s4/79ykyqjn7f16bdl_zqjgsbzh0000gp/T/ipykernel_14170/863171515.py:4: DeprecationWarning: executable_path has been deprecated, please pass in a Service object\n",
      "  driver=webdriver.Chrome(PATH)\n",
      "todo OK\n",
      "https://open.spotify.com/track/15VRO9CQwMpbqUYA7e6Hwg?si=8735d9f90d764910\n",
      "/var/folders/s4/79ykyqjn7f16bdl_zqjgsbzh0000gp/T/ipykernel_14170/863171515.py:4: DeprecationWarning: executable_path has been deprecated, please pass in a Service object\n",
      "  driver=webdriver.Chrome(PATH)\n",
      "error 1\n",
      "todo OK\n",
      "https://open.spotify.com/track/55yvzYuvJYG2RUEnMK78tr?si=554a09db44cd437b\n",
      "/var/folders/s4/79ykyqjn7f16bdl_zqjgsbzh0000gp/T/ipykernel_14170/863171515.py:4: DeprecationWarning: executable_path has been deprecated, please pass in a Service object\n",
      "  driver=webdriver.Chrome(PATH)\n",
      "todo OK\n",
      "https://open.spotify.com/track/4gHnSNHs8RyVukKoWdS99f?si=5d3d3dce9e524e59\n",
      "/var/folders/s4/79ykyqjn7f16bdl_zqjgsbzh0000gp/T/ipykernel_14170/863171515.py:4: DeprecationWarning: executable_path has been deprecated, please pass in a Service object\n",
      "  driver=webdriver.Chrome(PATH)\n",
      "todo OK\n",
      "https://open.spotify.com/track/5vHLwhxxlGzmClMcxRRFPr?si=3cdfdff10362489f\n",
      "/var/folders/s4/79ykyqjn7f16bdl_zqjgsbzh0000gp/T/ipykernel_14170/863171515.py:4: DeprecationWarning: executable_path has been deprecated, please pass in a Service object\n",
      "  driver=webdriver.Chrome(PATH)\n",
      "error 1\n",
      "todo OK\n",
      "https://open.spotify.com/track/2mvffzYUJ9Ld9xhsF5DUjU?si=0cbd50352e1f4036\n",
      "/var/folders/s4/79ykyqjn7f16bdl_zqjgsbzh0000gp/T/ipykernel_14170/863171515.py:4: DeprecationWarning: executable_path has been deprecated, please pass in a Service object\n",
      "  driver=webdriver.Chrome(PATH)\n",
      "error 4\n",
      "todo OK\n",
      "https://open.spotify.com/track/2mvffzYUJ9Ld9xhsF5DUjU?si=0cbd50352e1f4036\n",
      "/var/folders/s4/79ykyqjn7f16bdl_zqjgsbzh0000gp/T/ipykernel_14170/863171515.py:4: DeprecationWarning: executable_path has been deprecated, please pass in a Service object\n",
      "  driver=webdriver.Chrome(PATH)\n",
      "error 1\n",
      "error 4\n",
      "todo OK\n",
      "https://open.spotify.com/track/2mvffzYUJ9Ld9xhsF5DUjU?si=0cbd50352e1f4036\n",
      "/var/folders/s4/79ykyqjn7f16bdl_zqjgsbzh0000gp/T/ipykernel_14170/863171515.py:4: DeprecationWarning: executable_path has been deprecated, please pass in a Service object\n",
      "  driver=webdriver.Chrome(PATH)\n",
      "error 1\n",
      "error 4\n",
      "todo OK\n",
      "https://open.spotify.com/track/2mvffzYUJ9Ld9xhsF5DUjU?si=0cbd50352e1f4036\n",
      "/var/folders/s4/79ykyqjn7f16bdl_zqjgsbzh0000gp/T/ipykernel_14170/863171515.py:4: DeprecationWarning: executable_path has been deprecated, please pass in a Service object\n",
      "  driver=webdriver.Chrome(PATH)\n",
      "error 1\n",
      "error 4\n",
      "todo OK\n",
      "https://open.spotify.com/track/2mvffzYUJ9Ld9xhsF5DUjU?si=0cbd50352e1f4036\n",
      "/var/folders/s4/79ykyqjn7f16bdl_zqjgsbzh0000gp/T/ipykernel_14170/863171515.py:4: DeprecationWarning: executable_path has been deprecated, please pass in a Service object\n",
      "  driver=webdriver.Chrome(PATH)\n",
      "error 1\n",
      "error 4\n",
      "todo OK\n",
      "https://open.spotify.com/track/2mvffzYUJ9Ld9xhsF5DUjU?si=0cbd50352e1f4036\n",
      "/var/folders/s4/79ykyqjn7f16bdl_zqjgsbzh0000gp/T/ipykernel_14170/863171515.py:4: DeprecationWarning: executable_path has been deprecated, please pass in a Service object\n",
      "  driver=webdriver.Chrome(PATH)\n",
      "error 1\n",
      "error 4\n",
      "todo OK\n",
      "https://open.spotify.com/track/2mvffzYUJ9Ld9xhsF5DUjU?si=0cbd50352e1f4036\n",
      "/var/folders/s4/79ykyqjn7f16bdl_zqjgsbzh0000gp/T/ipykernel_14170/863171515.py:4: DeprecationWarning: executable_path has been deprecated, please pass in a Service object\n",
      "  driver=webdriver.Chrome(PATH)\n",
      "error 1\n",
      "error 4\n",
      "todo OK\n",
      "https://open.spotify.com/track/2mvffzYUJ9Ld9xhsF5DUjU?si=0cbd50352e1f4036\n",
      "/var/folders/s4/79ykyqjn7f16bdl_zqjgsbzh0000gp/T/ipykernel_14170/863171515.py:4: DeprecationWarning: executable_path has been deprecated, please pass in a Service object\n",
      "  driver=webdriver.Chrome(PATH)\n",
      "error 1\n",
      "error 4\n",
      "todo OK\n",
      "https://open.spotify.com/track/2mvffzYUJ9Ld9xhsF5DUjU?si=0cbd50352e1f4036\n",
      "/var/folders/s4/79ykyqjn7f16bdl_zqjgsbzh0000gp/T/ipykernel_14170/863171515.py:4: DeprecationWarning: executable_path has been deprecated, please pass in a Service object\n",
      "  driver=webdriver.Chrome(PATH)\n",
      "todo OK\n",
      "https://open.spotify.com/track/2Sfl7odHUmG7qc8SbqUyzE?si=be2e155e381f41fb\n",
      "/var/folders/s4/79ykyqjn7f16bdl_zqjgsbzh0000gp/T/ipykernel_14170/863171515.py:4: DeprecationWarning: executable_path has been deprecated, please pass in a Service object\n",
      "  driver=webdriver.Chrome(PATH)\n",
      "error 1\n",
      "error 4\n",
      "todo OK\n",
      "https://open.spotify.com/track/2Sfl7odHUmG7qc8SbqUyzE?si=be2e155e381f41fb\n",
      "/var/folders/s4/79ykyqjn7f16bdl_zqjgsbzh0000gp/T/ipykernel_14170/863171515.py:4: DeprecationWarning: executable_path has been deprecated, please pass in a Service object\n",
      "  driver=webdriver.Chrome(PATH)\n",
      "todo OK\n",
      "https://open.spotify.com/track/0oufSLnKQDoBFX5mgkDCgR?si=7d50aaf7da5b4c5a\n",
      "/var/folders/s4/79ykyqjn7f16bdl_zqjgsbzh0000gp/T/ipykernel_14170/863171515.py:4: DeprecationWarning: executable_path has been deprecated, please pass in a Service object\n",
      "  driver=webdriver.Chrome(PATH)\n",
      "error 1\n",
      "todo OK\n",
      "https://open.spotify.com/track/7gMIMcvnL39uNIyxZI2D5y?si=74330c5d8d2145e3\n",
      "/var/folders/s4/79ykyqjn7f16bdl_zqjgsbzh0000gp/T/ipykernel_14170/863171515.py:4: DeprecationWarning: executable_path has been deprecated, please pass in a Service object\n",
      "  driver=webdriver.Chrome(PATH)\n",
      "todo OK\n",
      "https://open.spotify.com/track/4pgv7cklqP38HF9V6xekJI?si=d7bf96d6bc35452b\n",
      "/var/folders/s4/79ykyqjn7f16bdl_zqjgsbzh0000gp/T/ipykernel_14170/863171515.py:4: DeprecationWarning: executable_path has been deprecated, please pass in a Service object\n",
      "  driver=webdriver.Chrome(PATH)\n",
      "error 1\n",
      "todo OK\n",
      "https://open.spotify.com/track/02qcrVQ61nS94wWvLaiXGf?si=f918500639614107\n",
      "/var/folders/s4/79ykyqjn7f16bdl_zqjgsbzh0000gp/T/ipykernel_14170/863171515.py:4: DeprecationWarning: executable_path has been deprecated, please pass in a Service object\n",
      "  driver=webdriver.Chrome(PATH)\n",
      "todo OK\n",
      "https://open.spotify.com/track/6OPrbQGZgOkIBrwWTzyuZn?si=a0f0bbf1487847d7\n",
      "/var/folders/s4/79ykyqjn7f16bdl_zqjgsbzh0000gp/T/ipykernel_14170/863171515.py:4: DeprecationWarning: executable_path has been deprecated, please pass in a Service object\n",
      "  driver=webdriver.Chrome(PATH)\n",
      "todo OK\n",
      "https://open.spotify.com/track/5hM5arv9KDbCHS0k9uqwjr?si=969b480bb87140ec\n",
      "/var/folders/s4/79ykyqjn7f16bdl_zqjgsbzh0000gp/T/ipykernel_14170/863171515.py:4: DeprecationWarning: executable_path has been deprecated, please pass in a Service object\n",
      "  driver=webdriver.Chrome(PATH)\n",
      "error 1\n",
      "error 4\n",
      "todo OK\n",
      "https://open.spotify.com/track/5hM5arv9KDbCHS0k9uqwjr?si=969b480bb87140ec\n",
      "/var/folders/s4/79ykyqjn7f16bdl_zqjgsbzh0000gp/T/ipykernel_14170/863171515.py:4: DeprecationWarning: executable_path has been deprecated, please pass in a Service object\n",
      "  driver=webdriver.Chrome(PATH)\n",
      "error 4\n",
      "todo OK\n",
      "https://open.spotify.com/track/5hM5arv9KDbCHS0k9uqwjr?si=969b480bb87140ec\n",
      "/var/folders/s4/79ykyqjn7f16bdl_zqjgsbzh0000gp/T/ipykernel_14170/863171515.py:4: DeprecationWarning: executable_path has been deprecated, please pass in a Service object\n",
      "  driver=webdriver.Chrome(PATH)\n",
      "error 4\n",
      "todo OK\n",
      "https://open.spotify.com/track/5hM5arv9KDbCHS0k9uqwjr?si=969b480bb87140ec\n",
      "/var/folders/s4/79ykyqjn7f16bdl_zqjgsbzh0000gp/T/ipykernel_14170/863171515.py:4: DeprecationWarning: executable_path has been deprecated, please pass in a Service object\n",
      "  driver=webdriver.Chrome(PATH)\n",
      "error 1\n",
      "error 4\n",
      "todo OK\n",
      "https://open.spotify.com/track/5hM5arv9KDbCHS0k9uqwjr?si=969b480bb87140ec\n",
      "/var/folders/s4/79ykyqjn7f16bdl_zqjgsbzh0000gp/T/ipykernel_14170/863171515.py:4: DeprecationWarning: executable_path has been deprecated, please pass in a Service object\n",
      "  driver=webdriver.Chrome(PATH)\n",
      "driver.quit()\n",
      "uri\n",
      "link=[]\n",
      "'https://open.spotify.com/search/\n",
      "def buscarlink (trackartist):\n",
      "        \n",
      "    url=f'https://open.spotify.com/search/{trackartist}'\n",
      "    # inicia el driver\n",
      "    driver=webdriver.Chrome(PATH)\n",
      "    driver.get(url)\n",
      "​\n",
      "​\n",
      "    # acepta cookies\n",
      "    try:\n",
      "        time.sleep(10)\n",
      "        aceptar=driver.find_element(By.XPATH, '//*[@id=\"onetrust-accept-btn-handler\"]')\n",
      "        aceptar.click()\n",
      "​\n",
      "        time.sleep(4)\n",
      "    except:\n",
      "        time.sleep(0.00001)\n",
      "​\n",
      "    #Anuncio Premium\n",
      "    try:\n",
      "        anuncio=driver.find_element(By.XPATH, '//*[@id=\"main\"]/div/div[2]/div[2]/footer/div[1]/button[2]')\n",
      "        anuncio.click()\n",
      "        time.sleep(4)\n",
      "​\n",
      "    except:\n",
      "        time.sleep(0.0001)\n",
      "​\n",
      "    # seleccionar las opciones de la canción\n",
      "    opciones=driver.find_element(By.XPATH, '//*[@id=\"searchPage\"]/div/div/section[2]/div[2]/div/div/div/div[2]/div[1]/div/div[2]/button[2]')\n",
      "    opciones.click()\n",
      "​\n",
      "    #seleccionar compartir\n",
      "    compartir=driver.find_element(By.XPATH, '//*[@id=\"context-menu\"]/ul/li[7]/button/span[1]')\n",
      "    compartir.click()\n",
      "​\n",
      "    #copiar el enlace de la canción\n",
      "    copiarlink = driver.find_element(By.XPATH, '//*[@id=\"tippy-4\"]/ul/li[1]/button/span')\n",
      "    copiarlink.click()\n",
      "    print(copiarlink.text())\n",
      "​\n",
      "    #pegar el enlace\n",
      "    global listita\n",
      "    listita = []\n",
      "    listita.append(clipboard.paste())\n",
      "    print(clipboard.paste())\n",
      "    print(listita)\n",
      "    \n",
      "    #cerrar driver\n",
      "    driver.quit()\n",
      "    \n",
      "    return listita\n",
      "​\n",
      "Elephant%20Tame%20Impala\n",
      "prueba = ['Experimento%20Myke%20Towers','Rocky%20Still%20Woozy', 'Elephant%20Tame%20Impala', 'Experimento%20Myke%20Towers', 'Experimento%20Myke%20Towers', 'Experimento%20Myke%20Towers', 'Experimento%20Myke%20Towers', 'Experimento%20Myke%20Towers', 'Experimento%20Myke%20Towers', 'Experimento%20Myke%20Towers', 'fallin%20Alicia%20Keys']\n",
      "df = Parallel(n_jobs=1, verbose=True)(delayed(buscarlink)(e) for e in prueba)\n",
      "driver.quit()\n",
      "listita\n",
      "music.head(25)\n",
      "​\n",
      "\n"
     ]
    },
    {
     "name": "stderr",
     "output_type": "stream",
     "text": [
      "/var/folders/s4/79ykyqjn7f16bdl_zqjgsbzh0000gp/T/ipykernel_14170/863171515.py:4: DeprecationWarning: executable_path has been deprecated, please pass in a Service object\n",
      "  driver=webdriver.Chrome(PATH)\n"
     ]
    },
    {
     "name": "stdout",
     "output_type": "stream",
     "text": [
      "error 1\n",
      "error 4\n",
      "todo OK\n",
      "error 1\n",
      "todo OK\n",
      "https://open.spotify.com/track/6ic8OlLUNEATToEFU3xmaH?si=b84d9157d84e473f\n",
      "/var/folders/s4/79ykyqjn7f16bdl_zqjgsbzh0000gp/T/ipykernel_14170/863171515.py:4: DeprecationWarning: executable_path has been deprecated, please pass in a Service object\n",
      "  driver=webdriver.Chrome(PATH)\n",
      "todo OK\n",
      "https://open.spotify.com/track/1sl1cpix9GnwNwaVt04BIu?si=c413ef03913040dd\n",
      "/var/folders/s4/79ykyqjn7f16bdl_zqjgsbzh0000gp/T/ipykernel_14170/863171515.py:4: DeprecationWarning: executable_path has been deprecated, please pass in a Service object\n",
      "  driver=webdriver.Chrome(PATH)\n",
      "error 4\n",
      "todo OK\n",
      "https://open.spotify.com/track/1sl1cpix9GnwNwaVt04BIu?si=c413ef03913040dd\n",
      "/var/folders/s4/79ykyqjn7f16bdl_zqjgsbzh0000gp/T/ipykernel_14170/863171515.py:4: DeprecationWarning: executable_path has been deprecated, please pass in a Service object\n",
      "  driver=webdriver.Chrome(PATH)\n",
      "error 4\n",
      "todo OK\n",
      "https://open.spotify.com/track/1sl1cpix9GnwNwaVt04BIu?si=c413ef03913040dd\n",
      "/var/folders/s4/79ykyqjn7f16bdl_zqjgsbzh0000gp/T/ipykernel_14170/863171515.py:4: DeprecationWarning: executable_path has been deprecated, please pass in a Service object\n",
      "  driver=webdriver.Chrome(PATH)\n",
      "todo OK\n",
      "https://open.spotify.com/track/0BxfFnk0YzONqvmrkO0QrB?si=60b5f0cf8b6141a0\n",
      "/var/folders/s4/79ykyqjn7f16bdl_zqjgsbzh0000gp/T/ipykernel_14170/863171515.py:4: DeprecationWarning: executable_path has been deprecated, please pass in a Service object\n",
      "  driver=webdriver.Chrome(PATH)\n",
      "error 4\n",
      "todo OK\n",
      "https://open.spotify.com/track/0BxfFnk0YzONqvmrkO0QrB?si=60b5f0cf8b6141a0\n",
      "/var/folders/s4/79ykyqjn7f16bdl_zqjgsbzh0000gp/T/ipykernel_14170/863171515.py:4: DeprecationWarning: executable_path has been deprecated, please pass in a Service object\n",
      "  driver=webdriver.Chrome(PATH)\n",
      "error 1\n",
      "error 4\n",
      "todo OK\n",
      "https://open.spotify.com/track/0BxfFnk0YzONqvmrkO0QrB?si=60b5f0cf8b6141a0\n",
      "/var/folders/s4/79ykyqjn7f16bdl_zqjgsbzh0000gp/T/ipykernel_14170/863171515.py:4: DeprecationWarning: executable_path has been deprecated, please pass in a Service object\n",
      "  driver=webdriver.Chrome(PATH)\n",
      "error 4\n",
      "todo OK\n",
      "https://open.spotify.com/track/0BxfFnk0YzONqvmrkO0QrB?si=60b5f0cf8b6141a0\n",
      "/var/folders/s4/79ykyqjn7f16bdl_zqjgsbzh0000gp/T/ipykernel_14170/863171515.py:4: DeprecationWarning: executable_path has been deprecated, please pass in a Service object\n",
      "  driver=webdriver.Chrome(PATH)\n",
      "error 1\n",
      "error 4\n",
      "todo OK\n",
      "https://open.spotify.com/track/0BxfFnk0YzONqvmrkO0QrB?si=60b5f0cf8b6141a0\n",
      "/var/folders/s4/79ykyqjn7f16bdl_zqjgsbzh0000gp/T/ipykernel_14170/863171515.py:4: DeprecationWarning: executable_path has been deprecated, please pass in a Service object\n",
      "  driver=webdriver.Chrome(PATH)\n",
      "todo OK\n",
      "https://open.spotify.com/track/4D6TpthzUVNTjWQqfBW5Kb?si=10999c999e8d4168\n",
      "/var/folders/s4/79ykyqjn7f16bdl_zqjgsbzh0000gp/T/ipykernel_14170/863171515.py:4: DeprecationWarning: executable_path has been deprecated, please pass in a Service object\n",
      "  driver=webdriver.Chrome(PATH)\n",
      "todo OK\n",
      "https://open.spotify.com/track/22L7bfCiAkJo5xGSQgmiIO?si=b759bbb76e37486e\n",
      "/var/folders/s4/79ykyqjn7f16bdl_zqjgsbzh0000gp/T/ipykernel_14170/863171515.py:4: DeprecationWarning: executable_path has been deprecated, please pass in a Service object\n",
      "  driver=webdriver.Chrome(PATH)\n",
      "error 4\n",
      "todo OK\n",
      "https://open.spotify.com/track/22L7bfCiAkJo5xGSQgmiIO?si=b759bbb76e37486e\n",
      "/var/folders/s4/79ykyqjn7f16bdl_zqjgsbzh0000gp/T/ipykernel_14170/863171515.py:4: DeprecationWarning: executable_path has been deprecated, please pass in a Service object\n",
      "  driver=webdriver.Chrome(PATH)\n",
      "error 4\n",
      "todo OK\n",
      "https://open.spotify.com/track/22L7bfCiAkJo5xGSQgmiIO?si=b759bbb76e37486e\n",
      "/var/folders/s4/79ykyqjn7f16bdl_zqjgsbzh0000gp/T/ipykernel_14170/863171515.py:4: DeprecationWarning: executable_path has been deprecated, please pass in a Service object\n",
      "  driver=webdriver.Chrome(PATH)\n",
      "todo OK\n",
      "https://open.spotify.com/track/27OeeYzk6klgBh83TSvGMA?si=096e7937bd83440e\n",
      "/var/folders/s4/79ykyqjn7f16bdl_zqjgsbzh0000gp/T/ipykernel_14170/863171515.py:4: DeprecationWarning: executable_path has been deprecated, please pass in a Service object\n",
      "  driver=webdriver.Chrome(PATH)\n",
      "error 4\n",
      "todo OK\n",
      "https://open.spotify.com/track/27OeeYzk6klgBh83TSvGMA?si=096e7937bd83440e\n",
      "/var/folders/s4/79ykyqjn7f16bdl_zqjgsbzh0000gp/T/ipykernel_14170/863171515.py:4: DeprecationWarning: executable_path has been deprecated, please pass in a Service object\n",
      "  driver=webdriver.Chrome(PATH)\n",
      "error 1\n",
      "error 4\n",
      "todo OK\n",
      "https://open.spotify.com/track/27OeeYzk6klgBh83TSvGMA?si=096e7937bd83440e\n",
      "/var/folders/s4/79ykyqjn7f16bdl_zqjgsbzh0000gp/T/ipykernel_14170/863171515.py:4: DeprecationWarning: executable_path has been deprecated, please pass in a Service object\n",
      "  driver=webdriver.Chrome(PATH)\n",
      "error 1\n",
      "todo OK\n",
      "https://open.spotify.com/track/2gqWRRCXnma9L8xQ1RdemQ?si=f4f9269b76e040e1\n",
      "/var/folders/s4/79ykyqjn7f16bdl_zqjgsbzh0000gp/T/ipykernel_14170/863171515.py:4: DeprecationWarning: executable_path has been deprecated, please pass in a Service object\n",
      "  driver=webdriver.Chrome(PATH)\n",
      "error 1\n",
      "todo OK\n",
      "https://open.spotify.com/track/1ibeKVCiXORhvUpMmtsQWq?si=306646ebca874c5c\n",
      "/var/folders/s4/79ykyqjn7f16bdl_zqjgsbzh0000gp/T/ipykernel_14170/863171515.py:4: DeprecationWarning: executable_path has been deprecated, please pass in a Service object\n",
      "  driver=webdriver.Chrome(PATH)\n",
      "error 1\n",
      "todo OK\n",
      "https://open.spotify.com/track/3yzHIAzk3zVE1WgspS8W21?si=d0e465071b6844b1\n",
      "/var/folders/s4/79ykyqjn7f16bdl_zqjgsbzh0000gp/T/ipykernel_14170/863171515.py:4: DeprecationWarning: executable_path has been deprecated, please pass in a Service object\n",
      "  driver=webdriver.Chrome(PATH)\n",
      "error 1\n",
      "error 4\n",
      "todo OK\n",
      "https://open.spotify.com/track/3yzHIAzk3zVE1WgspS8W21?si=d0e465071b6844b1\n",
      "/var/folders/s4/79ykyqjn7f16bdl_zqjgsbzh0000gp/T/ipykernel_14170/863171515.py:4: DeprecationWarning: executable_path has been deprecated, please pass in a Service object\n",
      "  driver=webdriver.Chrome(PATH)\n",
      "error 1\n",
      "todo OK\n",
      "https://open.spotify.com/track/7BIy3EGQhg98CsRdKYHnJC?si=dc209b9c2f494860\n",
      "/var/folders/s4/79ykyqjn7f16bdl_zqjgsbzh0000gp/T/ipykernel_14170/863171515.py:4: DeprecationWarning: executable_path has been deprecated, please pass in a Service object\n",
      "  driver=webdriver.Chrome(PATH)\n",
      "error 1\n",
      "todo OK\n",
      "https://open.spotify.com/track/7wD6WAp1lowdxnvEfgyvNV?si=b8b70e9fd65f42b5\n",
      "/var/folders/s4/79ykyqjn7f16bdl_zqjgsbzh0000gp/T/ipykernel_14170/863171515.py:4: DeprecationWarning: executable_path has been deprecated, please pass in a Service object\n",
      "  driver=webdriver.Chrome(PATH)\n",
      "error 1\n",
      "todo OK\n",
      "https://open.spotify.com/track/0fwIHsKXNEcb57u2um7z9I?si=f7d851c45267403a\n",
      "/var/folders/s4/79ykyqjn7f16bdl_zqjgsbzh0000gp/T/ipykernel_14170/863171515.py:4: DeprecationWarning: executable_path has been deprecated, please pass in a Service object\n",
      "  driver=webdriver.Chrome(PATH)\n",
      "error 1\n",
      "error 4\n",
      "todo OK\n",
      "https://open.spotify.com/track/0fwIHsKXNEcb57u2um7z9I?si=f7d851c45267403a\n",
      "/var/folders/s4/79ykyqjn7f16bdl_zqjgsbzh0000gp/T/ipykernel_14170/863171515.py:4: DeprecationWarning: executable_path has been deprecated, please pass in a Service object\n",
      "  driver=webdriver.Chrome(PATH)\n",
      "error 1\n",
      "todo OK\n",
      "https://open.spotify.com/track/17nOJOcPbcl4sKzM2yyYDp?si=7889c510fd514652\n",
      "/var/folders/s4/79ykyqjn7f16bdl_zqjgsbzh0000gp/T/ipykernel_14170/863171515.py:4: DeprecationWarning: executable_path has been deprecated, please pass in a Service object\n",
      "  driver=webdriver.Chrome(PATH)\n",
      "todo OK\n",
      "https://open.spotify.com/track/7AjfklMN4WpQYz5FkT4E66?si=953806031e9c4a0c\n",
      "/var/folders/s4/79ykyqjn7f16bdl_zqjgsbzh0000gp/T/ipykernel_14170/863171515.py:4: DeprecationWarning: executable_path has been deprecated, please pass in a Service object\n",
      "  driver=webdriver.Chrome(PATH)\n",
      "error 1\n",
      "todo OK\n",
      "https://open.spotify.com/track/7rt0kEDWRg3pgTZJKuszoE?si=e163f7ff83d04653\n",
      "/var/folders/s4/79ykyqjn7f16bdl_zqjgsbzh0000gp/T/ipykernel_14170/863171515.py:4: DeprecationWarning: executable_path has been deprecated, please pass in a Service object\n",
      "  driver=webdriver.Chrome(PATH)\n",
      "error 1\n",
      "todo OK\n",
      "https://open.spotify.com/track/7hzgk557YLr0722EFkmp9Z?si=741edbe3741a43ca\n",
      "/var/folders/s4/79ykyqjn7f16bdl_zqjgsbzh0000gp/T/ipykernel_14170/863171515.py:4: DeprecationWarning: executable_path has been deprecated, please pass in a Service object\n",
      "  driver=webdriver.Chrome(PATH)\n",
      "error 1\n",
      "todo OK\n",
      "https://open.spotify.com/track/4oPNN7syJYSjzDhRerF966?si=73909cbc1aa34c2b\n",
      "/var/folders/s4/79ykyqjn7f16bdl_zqjgsbzh0000gp/T/ipykernel_14170/863171515.py:4: DeprecationWarning: executable_path has been deprecated, please pass in a Service object\n",
      "  driver=webdriver.Chrome(PATH)\n",
      "error 1\n",
      "todo OK\n",
      "https://open.spotify.com/track/2RcanAJpudPNDkyIe9DzKS?si=b978533554424662\n",
      "/var/folders/s4/79ykyqjn7f16bdl_zqjgsbzh0000gp/T/ipykernel_14170/863171515.py:4: DeprecationWarning: executable_path has been deprecated, please pass in a Service object\n",
      "  driver=webdriver.Chrome(PATH)\n",
      "error 1\n",
      "todo OK\n",
      "https://open.spotify.com/track/456WNXWhDwYOSf5SpTuqxd?si=0a7432de74ae4068\n",
      "/var/folders/s4/79ykyqjn7f16bdl_zqjgsbzh0000gp/T/ipykernel_14170/863171515.py:4: DeprecationWarning: executable_path has been deprecated, please pass in a Service object\n",
      "  driver=webdriver.Chrome(PATH)\n",
      "error 1\n",
      "todo OK\n",
      "https://open.spotify.com/track/244AvzGQ4Ksa5637JQu5Gy?si=d27211ccf7734917\n",
      "/var/folders/s4/79ykyqjn7f16bdl_zqjgsbzh0000gp/T/ipykernel_14170/863171515.py:4: DeprecationWarning: executable_path has been deprecated, please pass in a Service object\n",
      "  driver=webdriver.Chrome(PATH)\n",
      "error 1\n",
      "error 4\n",
      "todo OK\n",
      "https://open.spotify.com/track/244AvzGQ4Ksa5637JQu5Gy?si=d27211ccf7734917\n",
      "/var/folders/s4/79ykyqjn7f16bdl_zqjgsbzh0000gp/T/ipykernel_14170/863171515.py:4: DeprecationWarning: executable_path has been deprecated, please pass in a Service object\n",
      "  driver=webdriver.Chrome(PATH)\n",
      "error 1\n",
      "todo OK\n",
      "https://open.spotify.com/track/244AvzGQ4Ksa5637JQu5Gy?si=d27211ccf7734917\n",
      "/var/folders/s4/79ykyqjn7f16bdl_zqjgsbzh0000gp/T/ipykernel_14170/863171515.py:4: DeprecationWarning: executable_path has been deprecated, please pass in a Service object\n",
      "  driver=webdriver.Chrome(PATH)\n",
      "error 4\n",
      "todo OK\n",
      "https://open.spotify.com/track/244AvzGQ4Ksa5637JQu5Gy?si=d27211ccf7734917\n",
      "/var/folders/s4/79ykyqjn7f16bdl_zqjgsbzh0000gp/T/ipykernel_14170/863171515.py:4: DeprecationWarning: executable_path has been deprecated, please pass in a Service object\n",
      "  driver=webdriver.Chrome(PATH)\n",
      "error 1\n",
      "todo OK\n",
      "https://open.spotify.com/track/3wA4ronkc8ZcPXUP0fDgYA?si=a103224f0739474c\n",
      "/var/folders/s4/79ykyqjn7f16bdl_zqjgsbzh0000gp/T/ipykernel_14170/863171515.py:4: DeprecationWarning: executable_path has been deprecated, please pass in a Service object\n",
      "  driver=webdriver.Chrome(PATH)\n",
      "error 1\n",
      "todo OK\n",
      "https://open.spotify.com/track/7kjjpSYKszLz8TwQXEnqlx?si=ba7261e2e40240d1\n",
      "/var/folders/s4/79ykyqjn7f16bdl_zqjgsbzh0000gp/T/ipykernel_14170/863171515.py:4: DeprecationWarning: executable_path has been deprecated, please pass in a Service object\n",
      "  driver=webdriver.Chrome(PATH)\n",
      "error 1\n",
      "todo OK\n",
      "https://open.spotify.com/track/32YHCNItnCdiYaPbw0uTo8?si=7a87127bae874f97\n",
      "/var/folders/s4/79ykyqjn7f16bdl_zqjgsbzh0000gp/T/ipykernel_14170/863171515.py:4: DeprecationWarning: executable_path has been deprecated, please pass in a Service object\n",
      "  driver=webdriver.Chrome(PATH)\n",
      "todo OK\n",
      "https://open.spotify.com/track/2PIvq1pGrUjY007X5y1UpM?si=8b889b5283404b25\n",
      "/var/folders/s4/79ykyqjn7f16bdl_zqjgsbzh0000gp/T/ipykernel_14170/863171515.py:4: DeprecationWarning: executable_path has been deprecated, please pass in a Service object\n",
      "  driver=webdriver.Chrome(PATH)\n",
      "error 1\n",
      "error 4\n",
      "todo OK\n",
      "https://open.spotify.com/track/2PIvq1pGrUjY007X5y1UpM?si=8b889b5283404b25\n",
      "/var/folders/s4/79ykyqjn7f16bdl_zqjgsbzh0000gp/T/ipykernel_14170/863171515.py:4: DeprecationWarning: executable_path has been deprecated, please pass in a Service object\n",
      "  driver=webdriver.Chrome(PATH)\n",
      "todo OK\n",
      "https://open.spotify.com/track/5GbVzc6Ex5LYlLJqzRQhuy?si=952ecdd7d07e43e2\n",
      "/var/folders/s4/79ykyqjn7f16bdl_zqjgsbzh0000gp/T/ipykernel_14170/863171515.py:4: DeprecationWarning: executable_path has been deprecated, please pass in a Service object\n",
      "  driver=webdriver.Chrome(PATH)\n",
      "error 1\n",
      "error 4\n",
      "todo OK\n",
      "https://open.spotify.com/track/5GbVzc6Ex5LYlLJqzRQhuy?si=952ecdd7d07e43e2\n",
      "/var/folders/s4/79ykyqjn7f16bdl_zqjgsbzh0000gp/T/ipykernel_14170/863171515.py:4: DeprecationWarning: executable_path has been deprecated, please pass in a Service object\n",
      "  driver=webdriver.Chrome(PATH)\n",
      "error 4\n",
      "todo OK\n",
      "https://open.spotify.com/track/5GbVzc6Ex5LYlLJqzRQhuy?si=952ecdd7d07e43e2\n",
      "/var/folders/s4/79ykyqjn7f16bdl_zqjgsbzh0000gp/T/ipykernel_14170/863171515.py:4: DeprecationWarning: executable_path has been deprecated, please pass in a Service object\n",
      "  driver=webdriver.Chrome(PATH)\n",
      "error 1\n",
      "todo OK\n",
      "https://open.spotify.com/track/1ai9FDnFQDv18WAtFhMTIz?si=fe6cbfce3e4648e8\n",
      "/var/folders/s4/79ykyqjn7f16bdl_zqjgsbzh0000gp/T/ipykernel_14170/863171515.py:4: DeprecationWarning: executable_path has been deprecated, please pass in a Service object\n",
      "  driver=webdriver.Chrome(PATH)\n",
      "error 1\n",
      "error 4\n",
      "todo OK\n",
      "https://open.spotify.com/track/1ai9FDnFQDv18WAtFhMTIz?si=fe6cbfce3e4648e8\n",
      "/var/folders/s4/79ykyqjn7f16bdl_zqjgsbzh0000gp/T/ipykernel_14170/863171515.py:4: DeprecationWarning: executable_path has been deprecated, please pass in a Service object\n",
      "  driver=webdriver.Chrome(PATH)\n",
      "error 1\n",
      "error 4\n",
      "todo OK\n",
      "https://open.spotify.com/track/1ai9FDnFQDv18WAtFhMTIz?si=fe6cbfce3e4648e8\n",
      "/var/folders/s4/79ykyqjn7f16bdl_zqjgsbzh0000gp/T/ipykernel_14170/863171515.py:4: DeprecationWarning: executable_path has been deprecated, please pass in a Service object\n",
      "  driver=webdriver.Chrome(PATH)\n",
      "error 1\n",
      "todo OK\n",
      "https://open.spotify.com/track/79jQjC6BpnSFuF1CZsOBHh?si=1a1ab56447284b59\n",
      "/var/folders/s4/79ykyqjn7f16bdl_zqjgsbzh0000gp/T/ipykernel_14170/863171515.py:4: DeprecationWarning: executable_path has been deprecated, please pass in a Service object\n",
      "  driver=webdriver.Chrome(PATH)\n",
      "error 1\n",
      "todo OK\n",
      "https://open.spotify.com/track/0tRQ7UZtDQtKUkFFRtyTyM?si=105c8dbcd69b4d4f\n",
      "/var/folders/s4/79ykyqjn7f16bdl_zqjgsbzh0000gp/T/ipykernel_14170/863171515.py:4: DeprecationWarning: executable_path has been deprecated, please pass in a Service object\n",
      "  driver=webdriver.Chrome(PATH)\n",
      "todo OK\n",
      "https://open.spotify.com/track/0B3wgb9raXYpnjy1euSWlz?si=4923a0d301834fc8\n",
      "/var/folders/s4/79ykyqjn7f16bdl_zqjgsbzh0000gp/T/ipykernel_14170/863171515.py:4: DeprecationWarning: executable_path has been deprecated, please pass in a Service object\n",
      "  driver=webdriver.Chrome(PATH)\n",
      "error 1\n",
      "todo OK\n",
      "https://open.spotify.com/track/0s7eMNB8DDKTQ1W3LY5oay?si=c2fff3e8a538414d\n",
      "/var/folders/s4/79ykyqjn7f16bdl_zqjgsbzh0000gp/T/ipykernel_14170/863171515.py:4: DeprecationWarning: executable_path has been deprecated, please pass in a Service object\n",
      "  driver=webdriver.Chrome(PATH)\n",
      "todo OK\n",
      "https://open.spotify.com/track/0HL5XOeVxgX1cEPY2KgRRa?si=75a10f806a034df1\n",
      "/var/folders/s4/79ykyqjn7f16bdl_zqjgsbzh0000gp/T/ipykernel_14170/863171515.py:4: DeprecationWarning: executable_path has been deprecated, please pass in a Service object\n",
      "  driver=webdriver.Chrome(PATH)\n",
      "todo OK\n",
      "https://open.spotify.com/track/3jfZ9M23l0L7RxzYMTgBTv?si=0c7b9d55dac94480\n",
      "/var/folders/s4/79ykyqjn7f16bdl_zqjgsbzh0000gp/T/ipykernel_14170/863171515.py:4: DeprecationWarning: executable_path has been deprecated, please pass in a Service object\n",
      "  driver=webdriver.Chrome(PATH)\n",
      "todo OK\n",
      "https://open.spotify.com/track/04F42oEuKrRComYJfJuyVR?si=e51927c58821463b\n",
      "/var/folders/s4/79ykyqjn7f16bdl_zqjgsbzh0000gp/T/ipykernel_14170/863171515.py:4: DeprecationWarning: executable_path has been deprecated, please pass in a Service object\n",
      "  driver=webdriver.Chrome(PATH)\n",
      "error 1\n",
      "todo OK\n",
      "https://open.spotify.com/track/02MWAaffLxlfxAUY7c5dvx?si=0e28057042c54d67\n",
      "/var/folders/s4/79ykyqjn7f16bdl_zqjgsbzh0000gp/T/ipykernel_14170/863171515.py:4: DeprecationWarning: executable_path has been deprecated, please pass in a Service object\n",
      "  driver=webdriver.Chrome(PATH)\n",
      "error 1\n",
      "todo OK\n",
      "https://open.spotify.com/track/6AtZLIzUINvExIUy4QhdjP?si=293c7e95909d4f76\n",
      "/var/folders/s4/79ykyqjn7f16bdl_zqjgsbzh0000gp/T/ipykernel_14170/863171515.py:4: DeprecationWarning: executable_path has been deprecated, please pass in a Service object\n",
      "  driver=webdriver.Chrome(PATH)\n",
      "error 1\n",
      "todo OK\n",
      "https://open.spotify.com/track/2vpVR1L7Qfkd7D6qFNuorq?si=4d759b45fba1437a\n",
      "/var/folders/s4/79ykyqjn7f16bdl_zqjgsbzh0000gp/T/ipykernel_14170/863171515.py:4: DeprecationWarning: executable_path has been deprecated, please pass in a Service object\n",
      "  driver=webdriver.Chrome(PATH)\n",
      "error 1\n",
      "todo OK\n",
      "https://open.spotify.com/track/0JU7KoyKSFgY1zJV2ex6Ee?si=7247869a3b9d4e10\n",
      "/var/folders/s4/79ykyqjn7f16bdl_zqjgsbzh0000gp/T/ipykernel_14170/863171515.py:4: DeprecationWarning: executable_path has been deprecated, please pass in a Service object\n",
      "  driver=webdriver.Chrome(PATH)\n",
      "error 1\n",
      "todo OK\n",
      "https://open.spotify.com/track/6LOZws7T3jqZz78unPgFF9?si=5526779e594c433b\n",
      "/var/folders/s4/79ykyqjn7f16bdl_zqjgsbzh0000gp/T/ipykernel_14170/863171515.py:4: DeprecationWarning: executable_path has been deprecated, please pass in a Service object\n",
      "  driver=webdriver.Chrome(PATH)\n",
      "error 1\n",
      "todo OK\n",
      "https://open.spotify.com/track/6KfoDhO4XUWSbnyKjNp9c4?si=fa7f55b4e68244a6\n",
      "/var/folders/s4/79ykyqjn7f16bdl_zqjgsbzh0000gp/T/ipykernel_14170/863171515.py:4: DeprecationWarning: executable_path has been deprecated, please pass in a Service object\n",
      "  driver=webdriver.Chrome(PATH)\n",
      "error 1\n",
      "error 4\n",
      "todo OK\n",
      "https://open.spotify.com/track/6KfoDhO4XUWSbnyKjNp9c4?si=fa7f55b4e68244a6\n",
      "/var/folders/s4/79ykyqjn7f16bdl_zqjgsbzh0000gp/T/ipykernel_14170/863171515.py:4: DeprecationWarning: executable_path has been deprecated, please pass in a Service object\n",
      "  driver=webdriver.Chrome(PATH)\n",
      "error 1\n",
      "todo OK\n",
      "https://open.spotify.com/track/1jVjOcs7QeQZJXScbqvofI?si=5a1dd0ac93d741e7\n",
      "/var/folders/s4/79ykyqjn7f16bdl_zqjgsbzh0000gp/T/ipykernel_14170/863171515.py:4: DeprecationWarning: executable_path has been deprecated, please pass in a Service object\n",
      "  driver=webdriver.Chrome(PATH)\n",
      "error 1\n",
      "error 4\n",
      "todo OK\n",
      "https://open.spotify.com/track/1jVjOcs7QeQZJXScbqvofI?si=5a1dd0ac93d741e7\n",
      "/var/folders/s4/79ykyqjn7f16bdl_zqjgsbzh0000gp/T/ipykernel_14170/863171515.py:4: DeprecationWarning: executable_path has been deprecated, please pass in a Service object\n",
      "  driver=webdriver.Chrome(PATH)\n",
      "error 0\n",
      "error 1\n",
      "error 3\n",
      "error 4\n",
      "todo OK\n",
      "https://open.spotify.com/track/1jVjOcs7QeQZJXScbqvofI?si=5a1dd0ac93d741e7\n",
      "/var/folders/s4/79ykyqjn7f16bdl_zqjgsbzh0000gp/T/ipykernel_14170/863171515.py:4: DeprecationWarning: executable_path has been deprecated, please pass in a Service object\n",
      "  driver=webdriver.Chrome(PATH)\n",
      "error 1\n",
      "error 4\n",
      "todo OK\n",
      "https://open.spotify.com/track/1jVjOcs7QeQZJXScbqvofI?si=5a1dd0ac93d741e7\n",
      "/var/folders/s4/79ykyqjn7f16bdl_zqjgsbzh0000gp/T/ipykernel_14170/863171515.py:4: DeprecationWarning: executable_path has been deprecated, please pass in a Service object\n",
      "  driver=webdriver.Chrome(PATH)\n",
      "error 1\n",
      "todo OK\n",
      "https://open.spotify.com/track/0W95eMaAxNVYTquOsXXkC5?si=8f5031044a86410b\n",
      "/var/folders/s4/79ykyqjn7f16bdl_zqjgsbzh0000gp/T/ipykernel_14170/863171515.py:4: DeprecationWarning: executable_path has been deprecated, please pass in a Service object\n",
      "  driver=webdriver.Chrome(PATH)\n",
      "error 1\n",
      "error 4\n",
      "todo OK\n",
      "https://open.spotify.com/track/0W95eMaAxNVYTquOsXXkC5?si=8f5031044a86410b\n",
      "/var/folders/s4/79ykyqjn7f16bdl_zqjgsbzh0000gp/T/ipykernel_14170/863171515.py:4: DeprecationWarning: executable_path has been deprecated, please pass in a Service object\n",
      "  driver=webdriver.Chrome(PATH)\n",
      "error 1\n",
      "error 4\n",
      "todo OK\n",
      "https://open.spotify.com/track/0W95eMaAxNVYTquOsXXkC5?si=8f5031044a86410b\n",
      "/var/folders/s4/79ykyqjn7f16bdl_zqjgsbzh0000gp/T/ipykernel_14170/863171515.py:4: DeprecationWarning: executable_path has been deprecated, please pass in a Service object\n",
      "  driver=webdriver.Chrome(PATH)\n",
      "error 1\n",
      "error 4\n",
      "todo OK\n",
      "https://open.spotify.com/track/0W95eMaAxNVYTquOsXXkC5?si=8f5031044a86410b\n",
      "/var/folders/s4/79ykyqjn7f16bdl_zqjgsbzh0000gp/T/ipykernel_14170/863171515.py:4: DeprecationWarning: executable_path has been deprecated, please pass in a Service object\n",
      "  driver=webdriver.Chrome(PATH)\n",
      "error 1\n",
      "todo OK\n",
      "https://open.spotify.com/track/4ZtFanR9U6ndgddUvNcjcG?si=fa0df8f52e054526\n",
      "/var/folders/s4/79ykyqjn7f16bdl_zqjgsbzh0000gp/T/ipykernel_14170/863171515.py:4: DeprecationWarning: executable_path has been deprecated, please pass in a Service object\n",
      "  driver=webdriver.Chrome(PATH)\n",
      "error 1\n",
      "todo OK\n",
      "https://open.spotify.com/track/2B4nQ6yvVVBMqfgOrYtubb?si=c8132c36c23c421b\n",
      "/var/folders/s4/79ykyqjn7f16bdl_zqjgsbzh0000gp/T/ipykernel_14170/863171515.py:4: DeprecationWarning: executable_path has been deprecated, please pass in a Service object\n",
      "  driver=webdriver.Chrome(PATH)\n",
      "error 1\n",
      "todo OK\n",
      "https://open.spotify.com/track/3CQDFLetMMxD5hzAnUk410?si=29fdb122d188466f\n",
      "/var/folders/s4/79ykyqjn7f16bdl_zqjgsbzh0000gp/T/ipykernel_14170/863171515.py:4: DeprecationWarning: executable_path has been deprecated, please pass in a Service object\n",
      "  driver=webdriver.Chrome(PATH)\n",
      "error 1\n",
      "error 4\n",
      "todo OK\n",
      "https://open.spotify.com/track/3CQDFLetMMxD5hzAnUk410?si=29fdb122d188466f\n",
      "/var/folders/s4/79ykyqjn7f16bdl_zqjgsbzh0000gp/T/ipykernel_14170/863171515.py:4: DeprecationWarning: executable_path has been deprecated, please pass in a Service object\n",
      "  driver=webdriver.Chrome(PATH)\n",
      "error 4\n",
      "todo OK\n",
      "https://open.spotify.com/track/3CQDFLetMMxD5hzAnUk410?si=29fdb122d188466f\n",
      "/var/folders/s4/79ykyqjn7f16bdl_zqjgsbzh0000gp/T/ipykernel_14170/863171515.py:4: DeprecationWarning: executable_path has been deprecated, please pass in a Service object\n",
      "  driver=webdriver.Chrome(PATH)\n",
      "error 1\n",
      "error 4\n",
      "todo OK\n",
      "https://open.spotify.com/track/3CQDFLetMMxD5hzAnUk410?si=29fdb122d188466f\n",
      "/var/folders/s4/79ykyqjn7f16bdl_zqjgsbzh0000gp/T/ipykernel_14170/863171515.py:4: DeprecationWarning: executable_path has been deprecated, please pass in a Service object\n",
      "  driver=webdriver.Chrome(PATH)\n",
      "todo OK\n",
      "https://open.spotify.com/track/5PjdC2gMATetx5xdnwGUu7?si=6b674833d6fa49d0\n",
      "/var/folders/s4/79ykyqjn7f16bdl_zqjgsbzh0000gp/T/ipykernel_14170/863171515.py:4: DeprecationWarning: executable_path has been deprecated, please pass in a Service object\n",
      "  driver=webdriver.Chrome(PATH)\n",
      "error 1\n",
      "error 4\n",
      "todo OK\n",
      "https://open.spotify.com/track/5PjdC2gMATetx5xdnwGUu7?si=6b674833d6fa49d0\n",
      "/var/folders/s4/79ykyqjn7f16bdl_zqjgsbzh0000gp/T/ipykernel_14170/863171515.py:4: DeprecationWarning: executable_path has been deprecated, please pass in a Service object\n",
      "  driver=webdriver.Chrome(PATH)\n",
      "error 1\n",
      "error 4\n",
      "todo OK\n",
      "https://open.spotify.com/track/5PjdC2gMATetx5xdnwGUu7?si=6b674833d6fa49d0\n",
      "/var/folders/s4/79ykyqjn7f16bdl_zqjgsbzh0000gp/T/ipykernel_14170/863171515.py:4: DeprecationWarning: executable_path has been deprecated, please pass in a Service object\n",
      "  driver=webdriver.Chrome(PATH)\n",
      "error 1\n",
      "todo OK\n",
      "https://open.spotify.com/track/4qEmZddPnyEpGkHeGTNmWa?si=d7d341a046094d7e\n",
      "/var/folders/s4/79ykyqjn7f16bdl_zqjgsbzh0000gp/T/ipykernel_14170/863171515.py:4: DeprecationWarning: executable_path has been deprecated, please pass in a Service object\n",
      "  driver=webdriver.Chrome(PATH)\n",
      "error 1\n",
      "todo OK\n",
      "https://open.spotify.com/track/1OWGLpptXlHLw1yibeHiHa?si=0f9000843b1c44b3\n",
      "/var/folders/s4/79ykyqjn7f16bdl_zqjgsbzh0000gp/T/ipykernel_14170/863171515.py:4: DeprecationWarning: executable_path has been deprecated, please pass in a Service object\n",
      "  driver=webdriver.Chrome(PATH)\n",
      "error 4\n",
      "todo OK\n",
      "https://open.spotify.com/track/1OWGLpptXlHLw1yibeHiHa?si=0f9000843b1c44b3\n",
      "/var/folders/s4/79ykyqjn7f16bdl_zqjgsbzh0000gp/T/ipykernel_14170/863171515.py:4: DeprecationWarning: executable_path has been deprecated, please pass in a Service object\n",
      "  driver=webdriver.Chrome(PATH)\n",
      "error 1\n",
      "error 4\n",
      "todo OK\n",
      "https://open.spotify.com/track/1OWGLpptXlHLw1yibeHiHa?si=0f9000843b1c44b3\n",
      "/var/folders/s4/79ykyqjn7f16bdl_zqjgsbzh0000gp/T/ipykernel_14170/863171515.py:4: DeprecationWarning: executable_path has been deprecated, please pass in a Service object\n",
      "  driver=webdriver.Chrome(PATH)\n",
      "todo OK\n",
      "https://open.spotify.com/track/46hkty784UBYP0kR3KcAUJ?si=dcbcfb42c08144ba\n",
      "/var/folders/s4/79ykyqjn7f16bdl_zqjgsbzh0000gp/T/ipykernel_14170/863171515.py:4: DeprecationWarning: executable_path has been deprecated, please pass in a Service object\n",
      "  driver=webdriver.Chrome(PATH)\n",
      "error 1\n",
      "todo OK\n",
      "https://open.spotify.com/track/4X70hLzIDfY5T2BcsOcv6Q?si=6baa8c8b65d947df\n",
      "/var/folders/s4/79ykyqjn7f16bdl_zqjgsbzh0000gp/T/ipykernel_14170/863171515.py:4: DeprecationWarning: executable_path has been deprecated, please pass in a Service object\n",
      "  driver=webdriver.Chrome(PATH)\n",
      "todo OK\n",
      "https://open.spotify.com/track/6U9OkV9oa8kN8LyBGf3wvJ?si=42834b3be2d1482e\n",
      "/var/folders/s4/79ykyqjn7f16bdl_zqjgsbzh0000gp/T/ipykernel_14170/863171515.py:4: DeprecationWarning: executable_path has been deprecated, please pass in a Service object\n",
      "  driver=webdriver.Chrome(PATH)\n",
      "error 1\n",
      "error 4\n",
      "todo OK\n",
      "https://open.spotify.com/track/6U9OkV9oa8kN8LyBGf3wvJ?si=42834b3be2d1482e\n",
      "/var/folders/s4/79ykyqjn7f16bdl_zqjgsbzh0000gp/T/ipykernel_14170/863171515.py:4: DeprecationWarning: executable_path has been deprecated, please pass in a Service object\n",
      "  driver=webdriver.Chrome(PATH)\n",
      "error 1\n",
      "todo OK\n",
      "https://open.spotify.com/track/2pGz1Afwxe0KHJtJLwm0Kd?si=3da3abb68c864449\n",
      "/var/folders/s4/79ykyqjn7f16bdl_zqjgsbzh0000gp/T/ipykernel_14170/863171515.py:4: DeprecationWarning: executable_path has been deprecated, please pass in a Service object\n",
      "  driver=webdriver.Chrome(PATH)\n",
      "error 4\n",
      "todo OK\n",
      "https://open.spotify.com/track/2pGz1Afwxe0KHJtJLwm0Kd?si=3da3abb68c864449\n",
      "/var/folders/s4/79ykyqjn7f16bdl_zqjgsbzh0000gp/T/ipykernel_14170/863171515.py:4: DeprecationWarning: executable_path has been deprecated, please pass in a Service object\n",
      "  driver=webdriver.Chrome(PATH)\n",
      "error 1\n",
      "error 4\n",
      "todo OK\n",
      "https://open.spotify.com/track/2pGz1Afwxe0KHJtJLwm0Kd?si=3da3abb68c864449\n",
      "/var/folders/s4/79ykyqjn7f16bdl_zqjgsbzh0000gp/T/ipykernel_14170/863171515.py:4: DeprecationWarning: executable_path has been deprecated, please pass in a Service object\n",
      "  driver=webdriver.Chrome(PATH)\n",
      "error 1\n",
      "error 4\n",
      "todo OK\n",
      "https://open.spotify.com/track/2pGz1Afwxe0KHJtJLwm0Kd?si=3da3abb68c864449\n",
      "/var/folders/s4/79ykyqjn7f16bdl_zqjgsbzh0000gp/T/ipykernel_14170/863171515.py:4: DeprecationWarning: executable_path has been deprecated, please pass in a Service object\n",
      "  driver=webdriver.Chrome(PATH)\n",
      "error 1\n",
      "error 4\n",
      "todo OK\n",
      "https://open.spotify.com/track/2pGz1Afwxe0KHJtJLwm0Kd?si=3da3abb68c864449\n",
      "/var/folders/s4/79ykyqjn7f16bdl_zqjgsbzh0000gp/T/ipykernel_14170/863171515.py:4: DeprecationWarning: executable_path has been deprecated, please pass in a Service object\n",
      "  driver=webdriver.Chrome(PATH)\n",
      "error 1\n",
      "todo OK\n",
      "https://open.spotify.com/track/1yJGcxW3Pg5txBM45L1PeF?si=086070d7c85b495a\n",
      "/var/folders/s4/79ykyqjn7f16bdl_zqjgsbzh0000gp/T/ipykernel_14170/863171515.py:4: DeprecationWarning: executable_path has been deprecated, please pass in a Service object\n",
      "  driver=webdriver.Chrome(PATH)\n",
      "error 4\n",
      "todo OK\n",
      "https://open.spotify.com/track/1yJGcxW3Pg5txBM45L1PeF?si=086070d7c85b495a\n",
      "/var/folders/s4/79ykyqjn7f16bdl_zqjgsbzh0000gp/T/ipykernel_14170/863171515.py:4: DeprecationWarning: executable_path has been deprecated, please pass in a Service object\n",
      "  driver=webdriver.Chrome(PATH)\n",
      "error 1\n",
      "error 4\n",
      "todo OK\n",
      "https://open.spotify.com/track/1yJGcxW3Pg5txBM45L1PeF?si=086070d7c85b495a\n",
      "/var/folders/s4/79ykyqjn7f16bdl_zqjgsbzh0000gp/T/ipykernel_14170/863171515.py:4: DeprecationWarning: executable_path has been deprecated, please pass in a Service object\n",
      "  driver=webdriver.Chrome(PATH)\n",
      "error 1\n",
      "todo OK\n",
      "https://open.spotify.com/track/6BnHksggg8CKWAwmtBknSF?si=c50d8e85026a45dd\n",
      "/var/folders/s4/79ykyqjn7f16bdl_zqjgsbzh0000gp/T/ipykernel_14170/863171515.py:4: DeprecationWarning: executable_path has been deprecated, please pass in a Service object\n",
      "  driver=webdriver.Chrome(PATH)\n",
      "error 4\n",
      "todo OK\n",
      "https://open.spotify.com/track/6BnHksggg8CKWAwmtBknSF?si=c50d8e85026a45dd\n",
      "/var/folders/s4/79ykyqjn7f16bdl_zqjgsbzh0000gp/T/ipykernel_14170/863171515.py:4: DeprecationWarning: executable_path has been deprecated, please pass in a Service object\n",
      "  driver=webdriver.Chrome(PATH)\n",
      "error 1\n",
      "error 4\n",
      "todo OK\n",
      "https://open.spotify.com/track/6BnHksggg8CKWAwmtBknSF?si=c50d8e85026a45dd\n",
      "/var/folders/s4/79ykyqjn7f16bdl_zqjgsbzh0000gp/T/ipykernel_14170/863171515.py:4: DeprecationWarning: executable_path has been deprecated, please pass in a Service object\n",
      "  driver=webdriver.Chrome(PATH)\n",
      "error 1\n",
      "todo OK\n",
      "https://open.spotify.com/track/4MktgUVvEo4Ep1HBmRQ5LJ?si=c0514319d5bc4837\n",
      "/var/folders/s4/79ykyqjn7f16bdl_zqjgsbzh0000gp/T/ipykernel_14170/863171515.py:4: DeprecationWarning: executable_path has been deprecated, please pass in a Service object\n",
      "  driver=webdriver.Chrome(PATH)\n",
      "error 1\n",
      "todo OK\n",
      "https://open.spotify.com/track/0ha4TPphnCc1Xoxr8wA6wc?si=c4ba8e5de0074b06\n",
      "/var/folders/s4/79ykyqjn7f16bdl_zqjgsbzh0000gp/T/ipykernel_14170/863171515.py:4: DeprecationWarning: executable_path has been deprecated, please pass in a Service object\n",
      "  driver=webdriver.Chrome(PATH)\n",
      "error 1\n",
      "error 4\n",
      "todo OK\n",
      "https://open.spotify.com/track/0ha4TPphnCc1Xoxr8wA6wc?si=c4ba8e5de0074b06\n",
      "/var/folders/s4/79ykyqjn7f16bdl_zqjgsbzh0000gp/T/ipykernel_14170/863171515.py:4: DeprecationWarning: executable_path has been deprecated, please pass in a Service object\n",
      "  driver=webdriver.Chrome(PATH)\n",
      "error 4\n",
      "todo OK\n",
      "https://open.spotify.com/track/0ha4TPphnCc1Xoxr8wA6wc?si=c4ba8e5de0074b06\n",
      "/var/folders/s4/79ykyqjn7f16bdl_zqjgsbzh0000gp/T/ipykernel_14170/863171515.py:4: DeprecationWarning: executable_path has been deprecated, please pass in a Service object\n",
      "  driver=webdriver.Chrome(PATH)\n",
      "error 4\n",
      "todo OK\n",
      "https://open.spotify.com/track/0ha4TPphnCc1Xoxr8wA6wc?si=c4ba8e5de0074b06\n",
      "/var/folders/s4/79ykyqjn7f16bdl_zqjgsbzh0000gp/T/ipykernel_14170/863171515.py:4: DeprecationWarning: executable_path has been deprecated, please pass in a Service object\n",
      "  driver=webdriver.Chrome(PATH)\n",
      "error 1\n",
      "todo OK\n",
      "https://open.spotify.com/track/5m9l5wILQ9iiLd8csLeR5v?si=abd109da21e94624\n",
      "/var/folders/s4/79ykyqjn7f16bdl_zqjgsbzh0000gp/T/ipykernel_14170/863171515.py:4: DeprecationWarning: executable_path has been deprecated, please pass in a Service object\n",
      "  driver=webdriver.Chrome(PATH)\n",
      "error 1\n",
      "todo OK\n",
      "https://open.spotify.com/track/2K3bjojp1sCLdMMoO5lJ2p?si=f125274ef5f54386\n",
      "/var/folders/s4/79ykyqjn7f16bdl_zqjgsbzh0000gp/T/ipykernel_14170/863171515.py:4: DeprecationWarning: executable_path has been deprecated, please pass in a Service object\n",
      "  driver=webdriver.Chrome(PATH)\n",
      "error 1\n",
      "error 4\n",
      "todo OK\n",
      "https://open.spotify.com/track/2K3bjojp1sCLdMMoO5lJ2p?si=f125274ef5f54386\n",
      "/var/folders/s4/79ykyqjn7f16bdl_zqjgsbzh0000gp/T/ipykernel_14170/863171515.py:4: DeprecationWarning: executable_path has been deprecated, please pass in a Service object\n",
      "  driver=webdriver.Chrome(PATH)\n",
      "todo OK\n",
      "https://open.spotify.com/track/1zZ7vl1amOLI4GE5oUn0YB?si=ec87eb7ecdcd4094\n",
      "/var/folders/s4/79ykyqjn7f16bdl_zqjgsbzh0000gp/T/ipykernel_14170/863171515.py:4: DeprecationWarning: executable_path has been deprecated, please pass in a Service object\n",
      "  driver=webdriver.Chrome(PATH)\n",
      "todo OK\n",
      "https://open.spotify.com/track/2reL9PAUza4PUtbjqW1fRf?si=4e3067f2c55848b0\n",
      "/var/folders/s4/79ykyqjn7f16bdl_zqjgsbzh0000gp/T/ipykernel_14170/863171515.py:4: DeprecationWarning: executable_path has been deprecated, please pass in a Service object\n",
      "  driver=webdriver.Chrome(PATH)\n",
      "error 1\n",
      "todo OK\n",
      "https://open.spotify.com/track/7dQFpbs34ufIEU745DVclf?si=e345731f975c4395\n",
      "/var/folders/s4/79ykyqjn7f16bdl_zqjgsbzh0000gp/T/ipykernel_14170/863171515.py:4: DeprecationWarning: executable_path has been deprecated, please pass in a Service object\n",
      "  driver=webdriver.Chrome(PATH)\n",
      "error 1\n",
      "error 4\n",
      "todo OK\n",
      "https://open.spotify.com/track/7dQFpbs34ufIEU745DVclf?si=e345731f975c4395\n",
      "/var/folders/s4/79ykyqjn7f16bdl_zqjgsbzh0000gp/T/ipykernel_14170/863171515.py:4: DeprecationWarning: executable_path has been deprecated, please pass in a Service object\n",
      "  driver=webdriver.Chrome(PATH)\n",
      "error 1\n",
      "todo OK\n",
      "https://open.spotify.com/track/5r8mGKhCDIVWb3AG4hm0l0?si=9671526faadd4c53\n",
      "/var/folders/s4/79ykyqjn7f16bdl_zqjgsbzh0000gp/T/ipykernel_14170/863171515.py:4: DeprecationWarning: executable_path has been deprecated, please pass in a Service object\n",
      "  driver=webdriver.Chrome(PATH)\n",
      "error 1\n",
      "error 4\n",
      "todo OK\n",
      "https://open.spotify.com/track/5r8mGKhCDIVWb3AG4hm0l0?si=9671526faadd4c53\n",
      "/var/folders/s4/79ykyqjn7f16bdl_zqjgsbzh0000gp/T/ipykernel_14170/863171515.py:4: DeprecationWarning: executable_path has been deprecated, please pass in a Service object\n",
      "  driver=webdriver.Chrome(PATH)\n",
      "error 4\n",
      "todo OK\n",
      "https://open.spotify.com/track/5r8mGKhCDIVWb3AG4hm0l0?si=9671526faadd4c53\n",
      "/var/folders/s4/79ykyqjn7f16bdl_zqjgsbzh0000gp/T/ipykernel_14170/863171515.py:4: DeprecationWarning: executable_path has been deprecated, please pass in a Service object\n",
      "  driver=webdriver.Chrome(PATH)\n",
      "error 4\n",
      "todo OK\n",
      "https://open.spotify.com/track/5r8mGKhCDIVWb3AG4hm0l0?si=9671526faadd4c53\n",
      "/var/folders/s4/79ykyqjn7f16bdl_zqjgsbzh0000gp/T/ipykernel_14170/863171515.py:4: DeprecationWarning: executable_path has been deprecated, please pass in a Service object\n",
      "  driver=webdriver.Chrome(PATH)\n",
      "error 1\n",
      "todo OK\n",
      "https://open.spotify.com/track/3ZwQCZ2LuYwuQ6R1p1CJ3w?si=0247a9d86d014e42\n",
      "/var/folders/s4/79ykyqjn7f16bdl_zqjgsbzh0000gp/T/ipykernel_14170/863171515.py:4: DeprecationWarning: executable_path has been deprecated, please pass in a Service object\n",
      "  driver=webdriver.Chrome(PATH)\n",
      "error 1\n",
      "todo OK\n",
      "https://open.spotify.com/track/1B0BQaSRHxhI0AUlItY3LK?si=412fe5ed12f546ed\n",
      "/var/folders/s4/79ykyqjn7f16bdl_zqjgsbzh0000gp/T/ipykernel_14170/863171515.py:4: DeprecationWarning: executable_path has been deprecated, please pass in a Service object\n",
      "  driver=webdriver.Chrome(PATH)\n",
      "todo OK\n",
      "https://open.spotify.com/track/23zJcKwLf5CeaKVbFhrWgF?si=d45839dbce3b4fc6\n",
      "/var/folders/s4/79ykyqjn7f16bdl_zqjgsbzh0000gp/T/ipykernel_14170/863171515.py:4: DeprecationWarning: executable_path has been deprecated, please pass in a Service object\n",
      "  driver=webdriver.Chrome(PATH)\n",
      "error 4\n",
      "todo OK\n",
      "https://open.spotify.com/track/23zJcKwLf5CeaKVbFhrWgF?si=d45839dbce3b4fc6\n",
      "/var/folders/s4/79ykyqjn7f16bdl_zqjgsbzh0000gp/T/ipykernel_14170/863171515.py:4: DeprecationWarning: executable_path has been deprecated, please pass in a Service object\n",
      "  driver=webdriver.Chrome(PATH)\n",
      "error 1\n",
      "todo OK\n",
      "https://open.spotify.com/track/3o3YFP1o1SEb4Rh5jNkVT4?si=897f8fbb73f44079\n",
      "/var/folders/s4/79ykyqjn7f16bdl_zqjgsbzh0000gp/T/ipykernel_14170/863171515.py:4: DeprecationWarning: executable_path has been deprecated, please pass in a Service object\n",
      "  driver=webdriver.Chrome(PATH)\n",
      "todo OK\n",
      "https://open.spotify.com/track/6dDhaHqJ3wUD3jbjGUBwzh?si=ad52d0c10bf443af\n",
      "/var/folders/s4/79ykyqjn7f16bdl_zqjgsbzh0000gp/T/ipykernel_14170/863171515.py:4: DeprecationWarning: executable_path has been deprecated, please pass in a Service object\n",
      "  driver=webdriver.Chrome(PATH)\n",
      "error 1\n",
      "todo OK\n",
      "https://open.spotify.com/track/7rlKjHvYFlAjMIUDY1CMLu?si=f49b7b048e094bce\n",
      "/var/folders/s4/79ykyqjn7f16bdl_zqjgsbzh0000gp/T/ipykernel_14170/863171515.py:4: DeprecationWarning: executable_path has been deprecated, please pass in a Service object\n",
      "  driver=webdriver.Chrome(PATH)\n",
      "todo OK\n",
      "https://open.spotify.com/track/6qraVL4IJaIj0IuEexYJNa?si=29e3918518944c39\n",
      "/var/folders/s4/79ykyqjn7f16bdl_zqjgsbzh0000gp/T/ipykernel_14170/863171515.py:4: DeprecationWarning: executable_path has been deprecated, please pass in a Service object\n",
      "  driver=webdriver.Chrome(PATH)\n",
      "error 1\n",
      "todo OK\n",
      "https://open.spotify.com/track/75KrTLbcLWgCcldZGxZR12?si=96b69f29188d42da\n",
      "/var/folders/s4/79ykyqjn7f16bdl_zqjgsbzh0000gp/T/ipykernel_14170/863171515.py:4: DeprecationWarning: executable_path has been deprecated, please pass in a Service object\n",
      "  driver=webdriver.Chrome(PATH)\n",
      "error 1\n",
      "error 4\n",
      "todo OK\n",
      "https://open.spotify.com/track/75KrTLbcLWgCcldZGxZR12?si=96b69f29188d42da\n",
      "/var/folders/s4/79ykyqjn7f16bdl_zqjgsbzh0000gp/T/ipykernel_14170/863171515.py:4: DeprecationWarning: executable_path has been deprecated, please pass in a Service object\n",
      "  driver=webdriver.Chrome(PATH)\n",
      "error 1\n",
      "error 4\n",
      "todo OK\n",
      "https://open.spotify.com/track/75KrTLbcLWgCcldZGxZR12?si=96b69f29188d42da\n",
      "/var/folders/s4/79ykyqjn7f16bdl_zqjgsbzh0000gp/T/ipykernel_14170/863171515.py:4: DeprecationWarning: executable_path has been deprecated, please pass in a Service object\n",
      "  driver=webdriver.Chrome(PATH)\n",
      "error 1\n",
      "todo OK\n",
      "https://open.spotify.com/track/5o2M4yHxo9kyNLdgihFeV1?si=079a4a9c5673428a\n",
      "/var/folders/s4/79ykyqjn7f16bdl_zqjgsbzh0000gp/T/ipykernel_14170/863171515.py:4: DeprecationWarning: executable_path has been deprecated, please pass in a Service object\n",
      "  driver=webdriver.Chrome(PATH)\n",
      "todo OK\n",
      "https://open.spotify.com/track/3UdBoC4SNDukSeorNxU6jx?si=7327a7fc9e354bf4\n",
      "/var/folders/s4/79ykyqjn7f16bdl_zqjgsbzh0000gp/T/ipykernel_14170/863171515.py:4: DeprecationWarning: executable_path has been deprecated, please pass in a Service object\n",
      "  driver=webdriver.Chrome(PATH)\n",
      "error 1\n",
      "todo OK\n",
      "https://open.spotify.com/track/1YgPkZ6GOwajDveEsuy3uH?si=67be67da7330401d\n",
      "/var/folders/s4/79ykyqjn7f16bdl_zqjgsbzh0000gp/T/ipykernel_14170/863171515.py:4: DeprecationWarning: executable_path has been deprecated, please pass in a Service object\n",
      "  driver=webdriver.Chrome(PATH)\n",
      "todo OK\n",
      "https://open.spotify.com/track/3s3SRwttipEjIzKUB70jka?si=d980d216d0034ea3\n",
      "/var/folders/s4/79ykyqjn7f16bdl_zqjgsbzh0000gp/T/ipykernel_14170/863171515.py:4: DeprecationWarning: executable_path has been deprecated, please pass in a Service object\n",
      "  driver=webdriver.Chrome(PATH)\n",
      "error 1\n",
      "todo OK\n",
      "https://open.spotify.com/track/3iVwzH29gquHzkrZuy3M4w?si=ab45ede75b00474c\n",
      "/var/folders/s4/79ykyqjn7f16bdl_zqjgsbzh0000gp/T/ipykernel_14170/863171515.py:4: DeprecationWarning: executable_path has been deprecated, please pass in a Service object\n",
      "  driver=webdriver.Chrome(PATH)\n",
      "error 1\n",
      "todo OK\n",
      "https://open.spotify.com/track/7tXHU3EeMfHioXLSCRdDO9?si=428e026e2e6c4645\n",
      "/var/folders/s4/79ykyqjn7f16bdl_zqjgsbzh0000gp/T/ipykernel_14170/863171515.py:4: DeprecationWarning: executable_path has been deprecated, please pass in a Service object\n",
      "  driver=webdriver.Chrome(PATH)\n",
      "error 1\n",
      "todo OK\n",
      "https://open.spotify.com/track/3POjNkAofASd07ivmm3XoY?si=0d7bb0082bff4975\n",
      "/var/folders/s4/79ykyqjn7f16bdl_zqjgsbzh0000gp/T/ipykernel_14170/863171515.py:4: DeprecationWarning: executable_path has been deprecated, please pass in a Service object\n",
      "  driver=webdriver.Chrome(PATH)\n",
      "error 1\n",
      "todo OK\n",
      "https://open.spotify.com/track/1N94ACjwdfczb42LO4dNc8?si=a351c10dcbf54f32\n",
      "/var/folders/s4/79ykyqjn7f16bdl_zqjgsbzh0000gp/T/ipykernel_14170/863171515.py:4: DeprecationWarning: executable_path has been deprecated, please pass in a Service object\n",
      "  driver=webdriver.Chrome(PATH)\n",
      "error 1\n",
      "error 4\n",
      "todo OK\n",
      "https://open.spotify.com/track/1N94ACjwdfczb42LO4dNc8?si=a351c10dcbf54f32\n",
      "/var/folders/s4/79ykyqjn7f16bdl_zqjgsbzh0000gp/T/ipykernel_14170/863171515.py:4: DeprecationWarning: executable_path has been deprecated, please pass in a Service object\n",
      "  driver=webdriver.Chrome(PATH)\n",
      "error 1\n",
      "todo OK\n",
      "https://open.spotify.com/track/3AKyURJxA2IRJwxjkZggC8?si=97b0587d21374cf0\n",
      "/var/folders/s4/79ykyqjn7f16bdl_zqjgsbzh0000gp/T/ipykernel_14170/863171515.py:4: DeprecationWarning: executable_path has been deprecated, please pass in a Service object\n",
      "  driver=webdriver.Chrome(PATH)\n",
      "error 1\n",
      "error 4\n",
      "todo OK\n",
      "https://open.spotify.com/track/3AKyURJxA2IRJwxjkZggC8?si=97b0587d21374cf0\n",
      "/var/folders/s4/79ykyqjn7f16bdl_zqjgsbzh0000gp/T/ipykernel_14170/863171515.py:4: DeprecationWarning: executable_path has been deprecated, please pass in a Service object\n",
      "  driver=webdriver.Chrome(PATH)\n",
      "error 4\n",
      "todo OK\n",
      "https://open.spotify.com/track/3AKyURJxA2IRJwxjkZggC8?si=97b0587d21374cf0\n",
      "/var/folders/s4/79ykyqjn7f16bdl_zqjgsbzh0000gp/T/ipykernel_14170/863171515.py:4: DeprecationWarning: executable_path has been deprecated, please pass in a Service object\n",
      "  driver=webdriver.Chrome(PATH)\n",
      "error 1\n",
      "todo OK\n",
      "https://open.spotify.com/track/6Loso92Vze7MFU9FnaFQBk?si=3f3d671fa3694612\n",
      "/var/folders/s4/79ykyqjn7f16bdl_zqjgsbzh0000gp/T/ipykernel_14170/863171515.py:4: DeprecationWarning: executable_path has been deprecated, please pass in a Service object\n",
      "  driver=webdriver.Chrome(PATH)\n",
      "todo OK\n",
      "https://open.spotify.com/track/0Jl7YPC0sPpqL1d31IixiG?si=b981b639e2ed46d6\n",
      "/var/folders/s4/79ykyqjn7f16bdl_zqjgsbzh0000gp/T/ipykernel_14170/863171515.py:4: DeprecationWarning: executable_path has been deprecated, please pass in a Service object\n",
      "  driver=webdriver.Chrome(PATH)\n",
      "error 1\n",
      "todo OK\n",
      "https://open.spotify.com/track/7piXNyrajEfqhOkzgDq2Ts?si=2244475808ab4877\n",
      "/var/folders/s4/79ykyqjn7f16bdl_zqjgsbzh0000gp/T/ipykernel_14170/863171515.py:4: DeprecationWarning: executable_path has been deprecated, please pass in a Service object\n",
      "  driver=webdriver.Chrome(PATH)\n",
      "error 4\n",
      "todo OK\n",
      "https://open.spotify.com/track/7piXNyrajEfqhOkzgDq2Ts?si=2244475808ab4877\n",
      "/var/folders/s4/79ykyqjn7f16bdl_zqjgsbzh0000gp/T/ipykernel_14170/863171515.py:4: DeprecationWarning: executable_path has been deprecated, please pass in a Service object\n",
      "  driver=webdriver.Chrome(PATH)\n",
      "error 1\n",
      "todo OK\n",
      "https://open.spotify.com/track/32wvhi3fa8Z8kuHK58zAoz?si=422d45ec15834f44\n",
      "/var/folders/s4/79ykyqjn7f16bdl_zqjgsbzh0000gp/T/ipykernel_14170/863171515.py:4: DeprecationWarning: executable_path has been deprecated, please pass in a Service object\n",
      "  driver=webdriver.Chrome(PATH)\n",
      "error 1\n",
      "todo OK\n",
      "https://open.spotify.com/track/0HwA568tvDPPSyT3k3XVRa?si=b228d57c26df4677\n",
      "/var/folders/s4/79ykyqjn7f16bdl_zqjgsbzh0000gp/T/ipykernel_14170/863171515.py:4: DeprecationWarning: executable_path has been deprecated, please pass in a Service object\n",
      "  driver=webdriver.Chrome(PATH)\n",
      "todo OK\n",
      "https://open.spotify.com/track/3kGFPMLAixmHVyvP9Hgl30?si=86632ab6b36e4565\n",
      "/var/folders/s4/79ykyqjn7f16bdl_zqjgsbzh0000gp/T/ipykernel_14170/863171515.py:4: DeprecationWarning: executable_path has been deprecated, please pass in a Service object\n",
      "  driver=webdriver.Chrome(PATH)\n",
      "error 1\n",
      "todo OK\n",
      "https://open.spotify.com/track/2gPhe3c43KG27IcR7D0A1m?si=21430521353d4eb2\n",
      "/var/folders/s4/79ykyqjn7f16bdl_zqjgsbzh0000gp/T/ipykernel_14170/863171515.py:4: DeprecationWarning: executable_path has been deprecated, please pass in a Service object\n",
      "  driver=webdriver.Chrome(PATH)\n",
      "error 1\n",
      "todo OK\n",
      "https://open.spotify.com/track/1tTZAlO1azoGoOJX01KKou?si=7f8f0e65ee6c42f4\n",
      "/var/folders/s4/79ykyqjn7f16bdl_zqjgsbzh0000gp/T/ipykernel_14170/863171515.py:4: DeprecationWarning: executable_path has been deprecated, please pass in a Service object\n",
      "  driver=webdriver.Chrome(PATH)\n",
      "error 1\n",
      "todo OK\n",
      "https://open.spotify.com/track/7wBhAFIYqEgsMFNBG96THW?si=6522c6665c6842b4\n",
      "/var/folders/s4/79ykyqjn7f16bdl_zqjgsbzh0000gp/T/ipykernel_14170/863171515.py:4: DeprecationWarning: executable_path has been deprecated, please pass in a Service object\n",
      "  driver=webdriver.Chrome(PATH)\n",
      "todo OK\n",
      "https://open.spotify.com/track/5b6C325qSx97lW02Xk3rzw?si=f29cdc0f25a44749\n",
      "/var/folders/s4/79ykyqjn7f16bdl_zqjgsbzh0000gp/T/ipykernel_14170/863171515.py:4: DeprecationWarning: executable_path has been deprecated, please pass in a Service object\n",
      "  driver=webdriver.Chrome(PATH)\n",
      "error 4\n",
      "todo OK\n",
      "https://open.spotify.com/track/5b6C325qSx97lW02Xk3rzw?si=f29cdc0f25a44749\n",
      "/var/folders/s4/79ykyqjn7f16bdl_zqjgsbzh0000gp/T/ipykernel_14170/863171515.py:4: DeprecationWarning: executable_path has been deprecated, please pass in a Service object\n",
      "  driver=webdriver.Chrome(PATH)\n",
      "todo OK\n",
      "https://open.spotify.com/track/0KNlNycgMUZUJY1uwIclRa?si=a3ce81d609d7439f\n",
      "/var/folders/s4/79ykyqjn7f16bdl_zqjgsbzh0000gp/T/ipykernel_14170/863171515.py:4: DeprecationWarning: executable_path has been deprecated, please pass in a Service object\n",
      "  driver=webdriver.Chrome(PATH)\n",
      "todo OK\n",
      "https://open.spotify.com/track/5j2X7ohkhveo4dSu75LmGk?si=78d96fb3e14241c7\n",
      "/var/folders/s4/79ykyqjn7f16bdl_zqjgsbzh0000gp/T/ipykernel_14170/863171515.py:4: DeprecationWarning: executable_path has been deprecated, please pass in a Service object\n",
      "  driver=webdriver.Chrome(PATH)\n",
      "error 1\n",
      "todo OK\n",
      "https://open.spotify.com/track/5WKW5VeavHIqp4fgvCBw8U?si=64232ec6578d4ef1\n",
      "/var/folders/s4/79ykyqjn7f16bdl_zqjgsbzh0000gp/T/ipykernel_14170/863171515.py:4: DeprecationWarning: executable_path has been deprecated, please pass in a Service object\n",
      "  driver=webdriver.Chrome(PATH)\n",
      "error 1\n",
      "todo OK\n",
      "https://open.spotify.com/track/4CeeEOM32jQcH3eN9Q2dGj?si=30e33899abef4652\n",
      "/var/folders/s4/79ykyqjn7f16bdl_zqjgsbzh0000gp/T/ipykernel_14170/863171515.py:4: DeprecationWarning: executable_path has been deprecated, please pass in a Service object\n",
      "  driver=webdriver.Chrome(PATH)\n",
      "todo OK\n",
      "https://open.spotify.com/track/11LmqTE2naFULdEP94AUBa?si=e172f8f430b64074\n",
      "/var/folders/s4/79ykyqjn7f16bdl_zqjgsbzh0000gp/T/ipykernel_14170/863171515.py:4: DeprecationWarning: executable_path has been deprecated, please pass in a Service object\n",
      "  driver=webdriver.Chrome(PATH)\n",
      "error 1\n",
      "todo OK\n",
      "https://open.spotify.com/track/2RsAajgo0g7bMCHxwH3Sk0?si=aa562adad5044320\n",
      "/var/folders/s4/79ykyqjn7f16bdl_zqjgsbzh0000gp/T/ipykernel_14170/863171515.py:4: DeprecationWarning: executable_path has been deprecated, please pass in a Service object\n",
      "  driver=webdriver.Chrome(PATH)\n",
      "todo OK\n",
      "https://open.spotify.com/track/15VRO9CQwMpbqUYA7e6Hwg?si=8735d9f90d764910\n",
      "/var/folders/s4/79ykyqjn7f16bdl_zqjgsbzh0000gp/T/ipykernel_14170/863171515.py:4: DeprecationWarning: executable_path has been deprecated, please pass in a Service object\n",
      "  driver=webdriver.Chrome(PATH)\n",
      "error 1\n",
      "todo OK\n",
      "https://open.spotify.com/track/55yvzYuvJYG2RUEnMK78tr?si=554a09db44cd437b\n",
      "/var/folders/s4/79ykyqjn7f16bdl_zqjgsbzh0000gp/T/ipykernel_14170/863171515.py:4: DeprecationWarning: executable_path has been deprecated, please pass in a Service object\n",
      "  driver=webdriver.Chrome(PATH)\n",
      "todo OK\n",
      "https://open.spotify.com/track/4gHnSNHs8RyVukKoWdS99f?si=5d3d3dce9e524e59\n",
      "/var/folders/s4/79ykyqjn7f16bdl_zqjgsbzh0000gp/T/ipykernel_14170/863171515.py:4: DeprecationWarning: executable_path has been deprecated, please pass in a Service object\n",
      "  driver=webdriver.Chrome(PATH)\n",
      "todo OK\n",
      "https://open.spotify.com/track/5vHLwhxxlGzmClMcxRRFPr?si=3cdfdff10362489f\n",
      "/var/folders/s4/79ykyqjn7f16bdl_zqjgsbzh0000gp/T/ipykernel_14170/863171515.py:4: DeprecationWarning: executable_path has been deprecated, please pass in a Service object\n",
      "  driver=webdriver.Chrome(PATH)\n",
      "error 1\n",
      "todo OK\n",
      "https://open.spotify.com/track/2mvffzYUJ9Ld9xhsF5DUjU?si=0cbd50352e1f4036\n",
      "/var/folders/s4/79ykyqjn7f16bdl_zqjgsbzh0000gp/T/ipykernel_14170/863171515.py:4: DeprecationWarning: executable_path has been deprecated, please pass in a Service object\n",
      "  driver=webdriver.Chrome(PATH)\n",
      "error 4\n",
      "todo OK\n",
      "https://open.spotify.com/track/2mvffzYUJ9Ld9xhsF5DUjU?si=0cbd50352e1f4036\n",
      "/var/folders/s4/79ykyqjn7f16bdl_zqjgsbzh0000gp/T/ipykernel_14170/863171515.py:4: DeprecationWarning: executable_path has been deprecated, please pass in a Service object\n",
      "  driver=webdriver.Chrome(PATH)\n",
      "error 1\n",
      "error 4\n",
      "todo OK\n",
      "https://open.spotify.com/track/2mvffzYUJ9Ld9xhsF5DUjU?si=0cbd50352e1f4036\n",
      "/var/folders/s4/79ykyqjn7f16bdl_zqjgsbzh0000gp/T/ipykernel_14170/863171515.py:4: DeprecationWarning: executable_path has been deprecated, please pass in a Service object\n",
      "  driver=webdriver.Chrome(PATH)\n",
      "error 1\n",
      "error 4\n",
      "todo OK\n",
      "https://open.spotify.com/track/2mvffzYUJ9Ld9xhsF5DUjU?si=0cbd50352e1f4036\n",
      "/var/folders/s4/79ykyqjn7f16bdl_zqjgsbzh0000gp/T/ipykernel_14170/863171515.py:4: DeprecationWarning: executable_path has been deprecated, please pass in a Service object\n",
      "  driver=webdriver.Chrome(PATH)\n",
      "error 1\n",
      "error 4\n",
      "todo OK\n",
      "https://open.spotify.com/track/2mvffzYUJ9Ld9xhsF5DUjU?si=0cbd50352e1f4036\n",
      "/var/folders/s4/79ykyqjn7f16bdl_zqjgsbzh0000gp/T/ipykernel_14170/863171515.py:4: DeprecationWarning: executable_path has been deprecated, please pass in a Service object\n",
      "  driver=webdriver.Chrome(PATH)\n",
      "error 1\n",
      "error 4\n",
      "todo OK\n",
      "https://open.spotify.com/track/2mvffzYUJ9Ld9xhsF5DUjU?si=0cbd50352e1f4036\n",
      "/var/folders/s4/79ykyqjn7f16bdl_zqjgsbzh0000gp/T/ipykernel_14170/863171515.py:4: DeprecationWarning: executable_path has been deprecated, please pass in a Service object\n",
      "  driver=webdriver.Chrome(PATH)\n",
      "error 1\n",
      "error 4\n",
      "todo OK\n",
      "https://open.spotify.com/track/2mvffzYUJ9Ld9xhsF5DUjU?si=0cbd50352e1f4036\n",
      "/var/folders/s4/79ykyqjn7f16bdl_zqjgsbzh0000gp/T/ipykernel_14170/863171515.py:4: DeprecationWarning: executable_path has been deprecated, please pass in a Service object\n",
      "  driver=webdriver.Chrome(PATH)\n",
      "error 1\n",
      "error 4\n",
      "todo OK\n",
      "https://open.spotify.com/track/2mvffzYUJ9Ld9xhsF5DUjU?si=0cbd50352e1f4036\n",
      "/var/folders/s4/79ykyqjn7f16bdl_zqjgsbzh0000gp/T/ipykernel_14170/863171515.py:4: DeprecationWarning: executable_path has been deprecated, please pass in a Service object\n",
      "  driver=webdriver.Chrome(PATH)\n",
      "error 1\n",
      "error 4\n",
      "todo OK\n",
      "https://open.spotify.com/track/2mvffzYUJ9Ld9xhsF5DUjU?si=0cbd50352e1f4036\n",
      "/var/folders/s4/79ykyqjn7f16bdl_zqjgsbzh0000gp/T/ipykernel_14170/863171515.py:4: DeprecationWarning: executable_path has been deprecated, please pass in a Service object\n",
      "  driver=webdriver.Chrome(PATH)\n",
      "todo OK\n",
      "https://open.spotify.com/track/2Sfl7odHUmG7qc8SbqUyzE?si=be2e155e381f41fb\n",
      "/var/folders/s4/79ykyqjn7f16bdl_zqjgsbzh0000gp/T/ipykernel_14170/863171515.py:4: DeprecationWarning: executable_path has been deprecated, please pass in a Service object\n",
      "  driver=webdriver.Chrome(PATH)\n",
      "error 1\n",
      "error 4\n",
      "todo OK\n",
      "https://open.spotify.com/track/2Sfl7odHUmG7qc8SbqUyzE?si=be2e155e381f41fb\n",
      "/var/folders/s4/79ykyqjn7f16bdl_zqjgsbzh0000gp/T/ipykernel_14170/863171515.py:4: DeprecationWarning: executable_path has been deprecated, please pass in a Service object\n",
      "  driver=webdriver.Chrome(PATH)\n",
      "todo OK\n",
      "https://open.spotify.com/track/0oufSLnKQDoBFX5mgkDCgR?si=7d50aaf7da5b4c5a\n",
      "/var/folders/s4/79ykyqjn7f16bdl_zqjgsbzh0000gp/T/ipykernel_14170/863171515.py:4: DeprecationWarning: executable_path has been deprecated, please pass in a Service object\n",
      "  driver=webdriver.Chrome(PATH)\n",
      "error 1\n",
      "todo OK\n",
      "https://open.spotify.com/track/7gMIMcvnL39uNIyxZI2D5y?si=74330c5d8d2145e3\n",
      "/var/folders/s4/79ykyqjn7f16bdl_zqjgsbzh0000gp/T/ipykernel_14170/863171515.py:4: DeprecationWarning: executable_path has been deprecated, please pass in a Service object\n",
      "  driver=webdriver.Chrome(PATH)\n",
      "todo OK\n",
      "https://open.spotify.com/track/4pgv7cklqP38HF9V6xekJI?si=d7bf96d6bc35452b\n",
      "/var/folders/s4/79ykyqjn7f16bdl_zqjgsbzh0000gp/T/ipykernel_14170/863171515.py:4: DeprecationWarning: executable_path has been deprecated, please pass in a Service object\n",
      "  driver=webdriver.Chrome(PATH)\n",
      "error 1\n",
      "todo OK\n",
      "https://open.spotify.com/track/02qcrVQ61nS94wWvLaiXGf?si=f918500639614107\n",
      "/var/folders/s4/79ykyqjn7f16bdl_zqjgsbzh0000gp/T/ipykernel_14170/863171515.py:4: DeprecationWarning: executable_path has been deprecated, please pass in a Service object\n",
      "  driver=webdriver.Chrome(PATH)\n",
      "todo OK\n",
      "https://open.spotify.com/track/6OPrbQGZgOkIBrwWTzyuZn?si=a0f0bbf1487847d7\n",
      "/var/folders/s4/79ykyqjn7f16bdl_zqjgsbzh0000gp/T/ipykernel_14170/863171515.py:4: DeprecationWarning: executable_path has been deprecated, please pass in a Service object\n",
      "  driver=webdriver.Chrome(PATH)\n",
      "todo OK\n",
      "https://open.spotify.com/track/5hM5arv9KDbCHS0k9uqwjr?si=969b480bb87140ec\n",
      "/var/folders/s4/79ykyqjn7f16bdl_zqjgsbzh0000gp/T/ipykernel_14170/863171515.py:4: DeprecationWarning: executable_path has been deprecated, please pass in a Service object\n",
      "  driver=webdriver.Chrome(PATH)\n",
      "error 1\n",
      "error 4\n",
      "todo OK\n",
      "https://open.spotify.com/track/5hM5arv9KDbCHS0k9uqwjr?si=969b480bb87140ec\n",
      "/var/folders/s4/79ykyqjn7f16bdl_zqjgsbzh0000gp/T/ipykernel_14170/863171515.py:4: DeprecationWarning: executable_path has been deprecated, please pass in a Service object\n",
      "  driver=webdriver.Chrome(PATH)\n",
      "error 4\n",
      "todo OK\n",
      "https://open.spotify.com/track/5hM5arv9KDbCHS0k9uqwjr?si=969b480bb87140ec\n",
      "/var/folders/s4/79ykyqjn7f16bdl_zqjgsbzh0000gp/T/ipykernel_14170/863171515.py:4: DeprecationWarning: executable_path has been deprecated, please pass in a Service object\n",
      "  driver=webdriver.Chrome(PATH)\n",
      "error 4\n",
      "todo OK\n",
      "https://open.spotify.com/track/5hM5arv9KDbCHS0k9uqwjr?si=969b480bb87140ec\n",
      "/var/folders/s4/79ykyqjn7f16bdl_zqjgsbzh0000gp/T/ipykernel_14170/863171515.py:4: DeprecationWarning: executable_path has been deprecated, please pass in a Service object\n",
      "  driver=webdriver.Chrome(PATH)\n",
      "error 1\n",
      "error 4\n",
      "todo OK\n",
      "https://open.spotify.com/track/5hM5arv9KDbCHS0k9uqwjr?si=969b480bb87140ec\n",
      "/var/folders/s4/79ykyqjn7f16bdl_zqjgsbzh0000gp/T/ipykernel_14170/863171515.py:4: DeprecationWarning: executable_path has been deprecated, please pass in a Service object\n",
      "  driver=webdriver.Chrome(PATH)\n",
      "driver.quit()\n",
      "uri\n",
      "link=[]\n",
      "'https://open.spotify.com/search/\n",
      "def buscarlink (trackartist):\n",
      "        \n",
      "    url=f'https://open.spotify.com/search/{trackartist}'\n",
      "    # inicia el driver\n",
      "    driver=webdriver.Chrome(PATH)\n",
      "    driver.get(url)\n",
      "​\n",
      "​\n",
      "    # acepta cookies\n",
      "    try:\n",
      "        time.sleep(10)\n",
      "        aceptar=driver.find_element(By.XPATH, '//*[@id=\"onetrust-accept-btn-handler\"]')\n",
      "        aceptar.click()\n",
      "​\n",
      "        time.sleep(4)\n",
      "    except:\n",
      "        time.sleep(0.00001)\n",
      "​\n",
      "    #Anuncio Premium\n",
      "    try:\n",
      "        anuncio=driver.find_element(By.XPATH, '//*[@id=\"main\"]/div/div[2]/div[2]/footer/div[1]/button[2]')\n",
      "        anuncio.click()\n",
      "        time.sleep(4)\n",
      "​\n",
      "    except:\n",
      "        time.sleep(0.0001)\n",
      "​\n",
      "    # seleccionar las opciones de la canción\n",
      "    opciones=driver.find_element(By.XPATH, '//*[@id=\"searchPage\"]/div/div/section[2]/div[2]/div/div/div/div[2]/div[1]/div/div[2]/button[2]')\n",
      "    opciones.click()\n",
      "​\n",
      "    #seleccionar compartir\n",
      "    compartir=driver.find_element(By.XPATH, '//*[@id=\"context-menu\"]/ul/li[7]/button/span[1]')\n",
      "    compartir.click()\n",
      "​\n",
      "    #copiar el enlace de la canción\n",
      "    copiarlink = driver.find_element(By.XPATH, '//*[@id=\"tippy-4\"]/ul/li[1]/button/span')\n",
      "    copiarlink.click()\n",
      "    print(copiarlink.text())\n",
      "​\n",
      "    #pegar el enlace\n",
      "    global listita\n",
      "    listita = []\n",
      "    listita.append(clipboard.paste())\n",
      "    print(clipboard.paste())\n",
      "    print(listita)\n",
      "    \n",
      "    #cerrar driver\n",
      "    driver.quit()\n",
      "    \n",
      "    return listita\n",
      "​\n",
      "Elephant%20Tame%20Impala\n",
      "prueba = ['Experimento%20Myke%20Towers','Rocky%20Still%20Woozy', 'Elephant%20Tame%20Impala', 'Experimento%20Myke%20Towers', 'Experimento%20Myke%20Towers', 'Experimento%20Myke%20Towers', 'Experimento%20Myke%20Towers', 'Experimento%20Myke%20Towers', 'Experimento%20Myke%20Towers', 'Experimento%20Myke%20Towers', 'fallin%20Alicia%20Keys']\n",
      "df = Parallel(n_jobs=1, verbose=True)(delayed(buscarlink)(e) for e in prueba)\n",
      "driver.quit()\n",
      "listita\n",
      "music.head(25)\n",
      "​\n",
      "\n"
     ]
    },
    {
     "name": "stderr",
     "output_type": "stream",
     "text": [
      "/var/folders/s4/79ykyqjn7f16bdl_zqjgsbzh0000gp/T/ipykernel_14170/863171515.py:4: DeprecationWarning: executable_path has been deprecated, please pass in a Service object\n",
      "  driver=webdriver.Chrome(PATH)\n"
     ]
    },
    {
     "name": "stdout",
     "output_type": "stream",
     "text": [
      "todo OK\n",
      "https://open.spotify.com/track/1eOuuW7VHBrIpwQ8drsPQN?si=2f927640edfd4b41\n"
     ]
    },
    {
     "name": "stderr",
     "output_type": "stream",
     "text": [
      "/var/folders/s4/79ykyqjn7f16bdl_zqjgsbzh0000gp/T/ipykernel_14170/863171515.py:4: DeprecationWarning: executable_path has been deprecated, please pass in a Service object\n",
      "  driver=webdriver.Chrome(PATH)\n"
     ]
    },
    {
     "name": "stdout",
     "output_type": "stream",
     "text": [
      "error 1\n",
      "todo OK\n",
      "https://open.spotify.com/track/778x5bolqJeICcrtSBNrko?si=889dae0e20364e53\n"
     ]
    },
    {
     "name": "stderr",
     "output_type": "stream",
     "text": [
      "/var/folders/s4/79ykyqjn7f16bdl_zqjgsbzh0000gp/T/ipykernel_14170/863171515.py:4: DeprecationWarning: executable_path has been deprecated, please pass in a Service object\n",
      "  driver=webdriver.Chrome(PATH)\n"
     ]
    },
    {
     "name": "stdout",
     "output_type": "stream",
     "text": [
      "error 1\n",
      "todo OK\n",
      "https://open.spotify.com/track/5uFKO19VWXkT5FgdrKnKRB?si=943f879f5a174a69\n"
     ]
    },
    {
     "name": "stderr",
     "output_type": "stream",
     "text": [
      "/var/folders/s4/79ykyqjn7f16bdl_zqjgsbzh0000gp/T/ipykernel_14170/863171515.py:4: DeprecationWarning: executable_path has been deprecated, please pass in a Service object\n",
      "  driver=webdriver.Chrome(PATH)\n"
     ]
    },
    {
     "name": "stdout",
     "output_type": "stream",
     "text": [
      "error 1\n",
      "todo OK\n",
      "https://open.spotify.com/track/7Js278ET3O52ymQd8LU5bq?si=5e01aca0517b4360\n"
     ]
    },
    {
     "name": "stderr",
     "output_type": "stream",
     "text": [
      "/var/folders/s4/79ykyqjn7f16bdl_zqjgsbzh0000gp/T/ipykernel_14170/863171515.py:4: DeprecationWarning: executable_path has been deprecated, please pass in a Service object\n",
      "  driver=webdriver.Chrome(PATH)\n"
     ]
    },
    {
     "name": "stdout",
     "output_type": "stream",
     "text": [
      "error 1\n",
      "todo OK\n",
      "https://open.spotify.com/track/3wNNbf63xkxw9rIVWtFy7a?si=9ac3cb811cd24c78\n"
     ]
    },
    {
     "name": "stderr",
     "output_type": "stream",
     "text": [
      "/var/folders/s4/79ykyqjn7f16bdl_zqjgsbzh0000gp/T/ipykernel_14170/863171515.py:4: DeprecationWarning: executable_path has been deprecated, please pass in a Service object\n",
      "  driver=webdriver.Chrome(PATH)\n"
     ]
    },
    {
     "name": "stdout",
     "output_type": "stream",
     "text": [
      "error 1\n",
      "todo OK\n",
      "https://open.spotify.com/track/3bUgLRNw01Vmvo29MvK1LV?si=ba5bc3ac2a2f4531\n"
     ]
    },
    {
     "name": "stderr",
     "output_type": "stream",
     "text": [
      "/var/folders/s4/79ykyqjn7f16bdl_zqjgsbzh0000gp/T/ipykernel_14170/863171515.py:4: DeprecationWarning: executable_path has been deprecated, please pass in a Service object\n",
      "  driver=webdriver.Chrome(PATH)\n"
     ]
    },
    {
     "name": "stdout",
     "output_type": "stream",
     "text": [
      "error 1\n",
      "error 4\n",
      "todo OK\n",
      "hola\n"
     ]
    },
    {
     "name": "stderr",
     "output_type": "stream",
     "text": [
      "/var/folders/s4/79ykyqjn7f16bdl_zqjgsbzh0000gp/T/ipykernel_14170/863171515.py:4: DeprecationWarning: executable_path has been deprecated, please pass in a Service object\n",
      "  driver=webdriver.Chrome(PATH)\n"
     ]
    },
    {
     "name": "stdout",
     "output_type": "stream",
     "text": [
      "error 4\n",
      "todo OK\n",
      "hola\n"
     ]
    },
    {
     "name": "stderr",
     "output_type": "stream",
     "text": [
      "/var/folders/s4/79ykyqjn7f16bdl_zqjgsbzh0000gp/T/ipykernel_14170/863171515.py:4: DeprecationWarning: executable_path has been deprecated, please pass in a Service object\n",
      "  driver=webdriver.Chrome(PATH)\n"
     ]
    },
    {
     "name": "stdout",
     "output_type": "stream",
     "text": [
      "error 1\n",
      "error 4\n",
      "todo OK\n",
      "error 1\n"
     ]
    },
    {
     "name": "stderr",
     "output_type": "stream",
     "text": [
      "/var/folders/s4/79ykyqjn7f16bdl_zqjgsbzh0000gp/T/ipykernel_14170/863171515.py:4: DeprecationWarning: executable_path has been deprecated, please pass in a Service object\n",
      "  driver=webdriver.Chrome(PATH)\n"
     ]
    },
    {
     "name": "stdout",
     "output_type": "stream",
     "text": [
      "error 1\n",
      "error 4\n",
      "todo OK\n",
      "\n"
     ]
    },
    {
     "name": "stderr",
     "output_type": "stream",
     "text": [
      "/var/folders/s4/79ykyqjn7f16bdl_zqjgsbzh0000gp/T/ipykernel_14170/863171515.py:4: DeprecationWarning: executable_path has been deprecated, please pass in a Service object\n",
      "  driver=webdriver.Chrome(PATH)\n"
     ]
    },
    {
     "name": "stdout",
     "output_type": "stream",
     "text": [
      "error 4\n",
      "todo OK\n",
      "\n"
     ]
    },
    {
     "name": "stderr",
     "output_type": "stream",
     "text": [
      "/var/folders/s4/79ykyqjn7f16bdl_zqjgsbzh0000gp/T/ipykernel_14170/863171515.py:4: DeprecationWarning: executable_path has been deprecated, please pass in a Service object\n",
      "  driver=webdriver.Chrome(PATH)\n"
     ]
    },
    {
     "name": "stdout",
     "output_type": "stream",
     "text": [
      "error 1\n",
      "todo OK\n",
      "https://open.spotify.com/track/2rUaOWPwavTDdatnNc8n0w?si=73c39f57195e4eaf\n"
     ]
    },
    {
     "name": "stderr",
     "output_type": "stream",
     "text": [
      "/var/folders/s4/79ykyqjn7f16bdl_zqjgsbzh0000gp/T/ipykernel_14170/863171515.py:4: DeprecationWarning: executable_path has been deprecated, please pass in a Service object\n",
      "  driver=webdriver.Chrome(PATH)\n"
     ]
    },
    {
     "name": "stdout",
     "output_type": "stream",
     "text": [
      "error 1\n",
      "error 4\n",
      "todo OK\n",
      "https://open.spotify.com/track/2rUaOWPwavTDdatnNc8n0w?si=73c39f57195e4eaf\n"
     ]
    },
    {
     "name": "stderr",
     "output_type": "stream",
     "text": [
      "/var/folders/s4/79ykyqjn7f16bdl_zqjgsbzh0000gp/T/ipykernel_14170/863171515.py:4: DeprecationWarning: executable_path has been deprecated, please pass in a Service object\n",
      "  driver=webdriver.Chrome(PATH)\n"
     ]
    },
    {
     "name": "stdout",
     "output_type": "stream",
     "text": [
      "todo OK\n",
      "https://open.spotify.com/track/0ag6PHPRD9CaOdC00SYXm7?si=52e33f11e9384355\n"
     ]
    },
    {
     "name": "stderr",
     "output_type": "stream",
     "text": [
      "/var/folders/s4/79ykyqjn7f16bdl_zqjgsbzh0000gp/T/ipykernel_14170/863171515.py:4: DeprecationWarning: executable_path has been deprecated, please pass in a Service object\n",
      "  driver=webdriver.Chrome(PATH)\n"
     ]
    },
    {
     "name": "stdout",
     "output_type": "stream",
     "text": [
      "error 1\n",
      "todo OK\n",
      "https://open.spotify.com/track/5CaExenjzUR0up1YtC6NFv?si=192bcc5d92fb491f\n"
     ]
    },
    {
     "name": "stderr",
     "output_type": "stream",
     "text": [
      "/var/folders/s4/79ykyqjn7f16bdl_zqjgsbzh0000gp/T/ipykernel_14170/863171515.py:4: DeprecationWarning: executable_path has been deprecated, please pass in a Service object\n",
      "  driver=webdriver.Chrome(PATH)\n"
     ]
    },
    {
     "name": "stdout",
     "output_type": "stream",
     "text": [
      "error 1\n",
      "todo OK\n",
      "https://open.spotify.com/track/2aaUTdC6YQqEZiQEk8wPxK?si=e08a7df2a657419f\n"
     ]
    },
    {
     "name": "stderr",
     "output_type": "stream",
     "text": [
      "/var/folders/s4/79ykyqjn7f16bdl_zqjgsbzh0000gp/T/ipykernel_14170/863171515.py:4: DeprecationWarning: executable_path has been deprecated, please pass in a Service object\n",
      "  driver=webdriver.Chrome(PATH)\n"
     ]
    },
    {
     "name": "stdout",
     "output_type": "stream",
     "text": [
      "todo OK\n",
      "https://open.spotify.com/track/6wS2qpDF5iX9jlfOJN4OPg?si=c32f5508721a47c0\n"
     ]
    },
    {
     "name": "stderr",
     "output_type": "stream",
     "text": [
      "/var/folders/s4/79ykyqjn7f16bdl_zqjgsbzh0000gp/T/ipykernel_14170/863171515.py:4: DeprecationWarning: executable_path has been deprecated, please pass in a Service object\n",
      "  driver=webdriver.Chrome(PATH)\n"
     ]
    },
    {
     "name": "stdout",
     "output_type": "stream",
     "text": [
      "error 1\n",
      "error 4\n",
      "todo OK\n",
      "https://open.spotify.com/track/6wS2qpDF5iX9jlfOJN4OPg?si=c32f5508721a47c0\n"
     ]
    },
    {
     "name": "stderr",
     "output_type": "stream",
     "text": [
      "/var/folders/s4/79ykyqjn7f16bdl_zqjgsbzh0000gp/T/ipykernel_14170/863171515.py:4: DeprecationWarning: executable_path has been deprecated, please pass in a Service object\n",
      "  driver=webdriver.Chrome(PATH)\n"
     ]
    },
    {
     "name": "stdout",
     "output_type": "stream",
     "text": [
      "todo OK\n",
      "https://open.spotify.com/track/3qHo2MASEJ79lbJcaDvhRE?si=bd271521427541c0\n"
     ]
    },
    {
     "name": "stderr",
     "output_type": "stream",
     "text": [
      "/var/folders/s4/79ykyqjn7f16bdl_zqjgsbzh0000gp/T/ipykernel_14170/863171515.py:4: DeprecationWarning: executable_path has been deprecated, please pass in a Service object\n",
      "  driver=webdriver.Chrome(PATH)\n"
     ]
    },
    {
     "name": "stdout",
     "output_type": "stream",
     "text": [
      "todo OK\n",
      "https://open.spotify.com/track/7FsAFw1oZeTJUZmIzSh0cg?si=153f0814e55f4aec\n"
     ]
    },
    {
     "name": "stderr",
     "output_type": "stream",
     "text": [
      "/var/folders/s4/79ykyqjn7f16bdl_zqjgsbzh0000gp/T/ipykernel_14170/863171515.py:4: DeprecationWarning: executable_path has been deprecated, please pass in a Service object\n",
      "  driver=webdriver.Chrome(PATH)\n"
     ]
    }
   ],
   "source": [
    "for i in tqdm(range(len(df.search))):\n",
    "    \n",
    "    #inicia el driver\n",
    "    driver=webdriver.Chrome(PATH)\n",
    "    driver.get(df['search'][i])\n",
    "    time.sleep(6)\n",
    "\n",
    "    # acepta cookies\n",
    "    try:\n",
    "        aceptar=driver.find_element(By.XPATH, '//*[@id=\"onetrust-accept-btn-handler\"]')\n",
    "        aceptar.click()\n",
    "\n",
    "        time.sleep(2)\n",
    "    \n",
    "    except:\n",
    "        print('error 0')      \n",
    "\n",
    "    #Anuncio Premium\n",
    "    try:\n",
    "        anuncio=driver.find_element(By.XPATH, '//*[@id=\"main\"]/div/div[2]/div[2]/footer/div[1]/button[2]')\n",
    "        anuncio.click()\n",
    "        time.sleep(1)\n",
    "\n",
    "    except:\n",
    "        print('error 1')\n",
    "\n",
    "    # seleccionar las opciones de la canción\n",
    "    try:\n",
    "        opciones=driver.find_element(By.XPATH, '//*[@id=\"searchPage\"]/div/div/section[2]/div[2]/div/div/div/div[2]/div[1]/div/div[2]/button[2]')\n",
    "        opciones.click()\n",
    "        time.sleep(1)\n",
    "        \n",
    "    except:\n",
    "        print('error 2')\n",
    "\n",
    "    #seleccionar compartir\n",
    "    try:\n",
    "        compartir=driver.find_element(By.XPATH, '//*[@id=\"context-menu\"]/ul/li[7]/button/span[1]')\n",
    "        compartir.click()\n",
    "        time.sleep(1)\n",
    "        \n",
    "    except:\n",
    "        print('error 3')\n",
    "\n",
    "    #copiar el enlace de la canción\n",
    "    try:\n",
    "        copiarlink = driver.find_element(By.XPATH, '//*[@id=\"tippy-4\"]/ul/li[1]/button/span')\n",
    "        copiarlink.click()\n",
    "    \n",
    "    except:\n",
    "        print('error 4')\n",
    "\n",
    "    #pegar el enlace\n",
    "    try:\n",
    "        a= clipboard.paste()\n",
    "        uri.append(a)\n",
    "        print('todo OK')\n",
    "        print(a)\n",
    "\n",
    "    except:\n",
    "        uri.append('0')\n",
    "        print('error al pegar')\n",
    "        \n",
    "    #apagamos el driver\n",
    "    driver.quit()"
   ]
  },
  {
   "cell_type": "code",
   "execution_count": null,
   "id": "38bd658f",
   "metadata": {},
   "outputs": [],
   "source": [
    "driver.quit()"
   ]
  },
  {
   "cell_type": "code",
   "execution_count": null,
   "id": "4b28386e",
   "metadata": {},
   "outputs": [],
   "source": [
    "uri"
   ]
  },
  {
   "cell_type": "code",
   "execution_count": null,
   "id": "e6167acc",
   "metadata": {},
   "outputs": [],
   "source": [
    "link=[]"
   ]
  },
  {
   "cell_type": "code",
   "execution_count": null,
   "id": "e77dc38d",
   "metadata": {},
   "outputs": [],
   "source": [
    "def buscarlink (trackartist):\n",
    "        \n",
    "    url=f'https://open.spotify.com/search/{trackartist}'\n",
    "    # inicia el driver\n",
    "    driver=webdriver.Chrome(PATH)\n",
    "    driver.get(url)\n",
    "\n",
    "\n",
    "    # acepta cookies\n",
    "    try:\n",
    "        time.sleep(10)\n",
    "        aceptar=driver.find_element(By.XPATH, '//*[@id=\"onetrust-accept-btn-handler\"]')\n",
    "        aceptar.click()\n",
    "\n",
    "        time.sleep(4)\n",
    "    except:\n",
    "        time.sleep(0.00001)\n",
    "\n",
    "    #Anuncio Premium\n",
    "    try:\n",
    "        anuncio=driver.find_element(By.XPATH, '//*[@id=\"main\"]/div/div[2]/div[2]/footer/div[1]/button[2]')\n",
    "        anuncio.click()\n",
    "        time.sleep(4)\n",
    "\n",
    "    except:\n",
    "        time.sleep(0.0001)\n",
    "\n",
    "    # seleccionar las opciones de la canción\n",
    "    opciones=driver.find_element(By.XPATH, '//*[@id=\"searchPage\"]/div/div/section[2]/div[2]/div/div/div/div[2]/div[1]/div/div[2]/button[2]')\n",
    "    opciones.click()\n",
    "\n",
    "    #seleccionar compartir\n",
    "    compartir=driver.find_element(By.XPATH, '//*[@id=\"context-menu\"]/ul/li[7]/button/span[1]')\n",
    "    compartir.click()\n",
    "\n",
    "    #copiar el enlace de la canción\n",
    "    copiarlink = driver.find_element(By.XPATH, '//*[@id=\"tippy-4\"]/ul/li[1]/button/span')\n",
    "    copiarlink.click()\n",
    "    print(copiarlink.text())\n",
    "\n",
    "    #pegar el enlace\n",
    "    global listita\n",
    "    listita = []\n",
    "    listita.append(clipboard.paste())\n",
    "    print(clipboard.paste())\n",
    "    print(listita)\n",
    "    \n",
    "    #cerrar driver\n",
    "    driver.quit()\n",
    "    \n",
    "    return listita\n"
   ]
  },
  {
   "cell_type": "code",
   "execution_count": null,
   "id": "b94b955b",
   "metadata": {},
   "outputs": [],
   "source": [
    "prueba = ['Experimento%20Myke%20Towers','Rocky%20Still%20Woozy', 'Elephant%20Tame%20Impala', 'Experimento%20Myke%20Towers', 'Experimento%20Myke%20Towers', 'Experimento%20Myke%20Towers', 'Experimento%20Myke%20Towers', 'Experimento%20Myke%20Towers', 'Experimento%20Myke%20Towers', 'Experimento%20Myke%20Towers', 'fallin%20Alicia%20Keys']"
   ]
  },
  {
   "cell_type": "code",
   "execution_count": null,
   "id": "fc3154d6",
   "metadata": {
    "scrolled": true
   },
   "outputs": [],
   "source": [
    "df = Parallel(n_jobs=1, verbose=True)(delayed(buscarlink)(e) for e in prueba)"
   ]
  },
  {
   "cell_type": "code",
   "execution_count": null,
   "id": "fcbe088f",
   "metadata": {},
   "outputs": [],
   "source": [
    "driver.quit()"
   ]
  },
  {
   "cell_type": "code",
   "execution_count": null,
   "id": "e00ef896",
   "metadata": {},
   "outputs": [],
   "source": [
    "listita"
   ]
  },
  {
   "cell_type": "code",
   "execution_count": null,
   "id": "a4c07fdd",
   "metadata": {},
   "outputs": [],
   "source": [
    "music.head(25)"
   ]
  },
  {
   "cell_type": "code",
   "execution_count": null,
   "id": "11338a7e",
   "metadata": {},
   "outputs": [],
   "source": []
  }
 ],
 "metadata": {
  "kernelspec": {
   "display_name": "Python 3 (ipykernel)",
   "language": "python",
   "name": "python3"
  },
  "language_info": {
   "codemirror_mode": {
    "name": "ipython",
    "version": 3
   },
   "file_extension": ".py",
   "mimetype": "text/x-python",
   "name": "python",
   "nbconvert_exporter": "python",
   "pygments_lexer": "ipython3",
   "version": "3.9.12"
  }
 },
 "nbformat": 4,
 "nbformat_minor": 5
}
