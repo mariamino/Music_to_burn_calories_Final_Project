{
 "cells": [
  {
   "cell_type": "code",
   "execution_count": 1,
   "id": "63a16796",
   "metadata": {
    "scrolled": true
   },
   "outputs": [
    {
     "name": "stdout",
     "output_type": "stream",
     "text": [
      "Requirement already satisfied: spotipy in /Users/maria/opt/anaconda3/lib/python3.9/site-packages (2.21.0)\n",
      "Requirement already satisfied: requests>=2.25.0 in /Users/maria/opt/anaconda3/lib/python3.9/site-packages (from spotipy) (2.27.1)\n",
      "Requirement already satisfied: redis>=3.5.3 in /Users/maria/opt/anaconda3/lib/python3.9/site-packages (from spotipy) (4.4.0)\n",
      "Requirement already satisfied: six>=1.15.0 in /Users/maria/opt/anaconda3/lib/python3.9/site-packages (from spotipy) (1.16.0)\n",
      "Requirement already satisfied: urllib3>=1.26.0 in /Users/maria/opt/anaconda3/lib/python3.9/site-packages (from spotipy) (1.26.9)\n",
      "Requirement already satisfied: async-timeout>=4.0.2 in /Users/maria/opt/anaconda3/lib/python3.9/site-packages (from redis>=3.5.3->spotipy) (4.0.2)\n",
      "Requirement already satisfied: idna<4,>=2.5 in /Users/maria/opt/anaconda3/lib/python3.9/site-packages (from requests>=2.25.0->spotipy) (3.3)\n",
      "Requirement already satisfied: certifi>=2017.4.17 in /Users/maria/opt/anaconda3/lib/python3.9/site-packages (from requests>=2.25.0->spotipy) (2021.10.8)\n",
      "Requirement already satisfied: charset-normalizer~=2.0.0 in /Users/maria/opt/anaconda3/lib/python3.9/site-packages (from requests>=2.25.0->spotipy) (2.0.4)\n",
      "Note: you may need to restart the kernel to use updated packages.\n"
     ]
    }
   ],
   "source": [
    "pip install spotipy --upgrade"
   ]
  },
  {
   "cell_type": "code",
   "execution_count": 2,
   "id": "c56f8d84",
   "metadata": {},
   "outputs": [],
   "source": [
    "import pandas as pd\n",
    "import spotipy as sp\n",
    "from spotipy.oauth2 import SpotifyClientCredentials"
   ]
  },
  {
   "cell_type": "code",
   "execution_count": 3,
   "id": "c8e7fcbe",
   "metadata": {},
   "outputs": [
    {
     "name": "stdout",
     "output_type": "stream",
     "text": [
      "Requirement already satisfied: npm in /Users/maria/opt/anaconda3/lib/python3.9/site-packages (0.1.1)\n",
      "Requirement already satisfied: optional-django==0.1.0 in /Users/maria/opt/anaconda3/lib/python3.9/site-packages (from npm) (0.1.0)\n",
      "Note: you may need to restart the kernel to use updated packages.\n"
     ]
    }
   ],
   "source": [
    "%pip install npm"
   ]
  },
  {
   "cell_type": "code",
   "execution_count": 4,
   "id": "b365aff7",
   "metadata": {},
   "outputs": [],
   "source": [
    "auth_manager = SpotifyClientCredentials('a73d30556eba483fa2f6901678510692', '96937d6cdfe94f87944e79a475e9d679')\n",
    "sp = sp.Spotify(auth_manager=auth_manager)"
   ]
  },
  {
   "cell_type": "code",
   "execution_count": 5,
   "id": "0e22da97",
   "metadata": {
    "scrolled": false
   },
   "outputs": [
    {
     "data": {
      "text/plain": [
       "[{'danceability': 0.609,\n",
       "  'energy': 0.444,\n",
       "  'key': 7,\n",
       "  'loudness': -9.129,\n",
       "  'mode': 1,\n",
       "  'speechiness': 0.106,\n",
       "  'acousticness': 0.603,\n",
       "  'instrumentalness': 6.86e-06,\n",
       "  'liveness': 0.104,\n",
       "  'valence': 0.166,\n",
       "  'tempo': 118.402,\n",
       "  'type': 'audio_features',\n",
       "  'id': '3XVBdLihbNbxUwZosxcGuJ',\n",
       "  'uri': 'spotify:track:3XVBdLihbNbxUwZosxcGuJ',\n",
       "  'track_href': 'https://api.spotify.com/v1/tracks/3XVBdLihbNbxUwZosxcGuJ',\n",
       "  'analysis_url': 'https://api.spotify.com/v1/audio-analysis/3XVBdLihbNbxUwZosxcGuJ',\n",
       "  'duration_ms': 228707,\n",
       "  'time_signature': 3}]"
      ]
     },
     "execution_count": 5,
     "metadata": {},
     "output_type": "execute_result"
    }
   ],
   "source": [
    "sp.audio_features('https://open.spotify.com/track/3XVBdLihbNbxUwZosxcGuJ?si=4cdf178a4f9f4561')"
   ]
  },
  {
   "cell_type": "markdown",
   "id": "efab7403",
   "metadata": {},
   "source": [
    "# Scrapeo de los links de las canciones"
   ]
  },
  {
   "cell_type": "markdown",
   "id": "d5f98633",
   "metadata": {},
   "source": [
    "Para poder utilizar la API de Spotify necesitas conocer la URL de las canciones que quieres scrapear, como solo contamos con el nombre del artista y de la canción, necesitamos escrapear spotify para obtener el link de las canciones."
   ]
  },
  {
   "cell_type": "code",
   "execution_count": 6,
   "id": "bba61ee5",
   "metadata": {},
   "outputs": [
    {
     "name": "stdout",
     "output_type": "stream",
     "text": [
      "Requirement already satisfied: joblib in /Users/maria/opt/anaconda3/lib/python3.9/site-packages (1.1.0)\n",
      "Note: you may need to restart the kernel to use updated packages.\n"
     ]
    }
   ],
   "source": [
    "%pip install joblib"
   ]
  },
  {
   "cell_type": "code",
   "execution_count": 7,
   "id": "9a56a0ab",
   "metadata": {},
   "outputs": [],
   "source": [
    "from joblib import Parallel, delayed"
   ]
  },
  {
   "cell_type": "code",
   "execution_count": 11,
   "id": "e3a056ff",
   "metadata": {},
   "outputs": [
    {
     "name": "stderr",
     "output_type": "stream",
     "text": [
      "[WDM] - Downloading: 100%|█████████████████| 8.61M/8.61M [00:03<00:00, 2.65MB/s]\n"
     ]
    }
   ],
   "source": [
    "from selenium import webdriver\n",
    "from selenium.webdriver.common.by import By\n",
    "import time\n",
    "from webdriver_manager.chrome import ChromeDriverManager\n",
    "PATH=ChromeDriverManager().install()"
   ]
  },
  {
   "cell_type": "code",
   "execution_count": 8,
   "id": "3d666f8f",
   "metadata": {},
   "outputs": [],
   "source": [
    "music = pd.read_csv('../../proyecto_final/data/clean_data/usermusic&usercal.csv', index_col=None)"
   ]
  },
  {
   "cell_type": "code",
   "execution_count": 9,
   "id": "72676e91",
   "metadata": {},
   "outputs": [
    {
     "data": {
      "text/html": [
       "<div>\n",
       "<style scoped>\n",
       "    .dataframe tbody tr th:only-of-type {\n",
       "        vertical-align: middle;\n",
       "    }\n",
       "\n",
       "    .dataframe tbody tr th {\n",
       "        vertical-align: top;\n",
       "    }\n",
       "\n",
       "    .dataframe thead th {\n",
       "        text-align: right;\n",
       "    }\n",
       "</style>\n",
       "<table border=\"1\" class=\"dataframe\">\n",
       "  <thead>\n",
       "    <tr style=\"text-align: right;\">\n",
       "      <th></th>\n",
       "      <th>date</th>\n",
       "      <th>artistName</th>\n",
       "      <th>trackName</th>\n",
       "      <th>msPlayed</th>\n",
       "      <th>sgPlayed</th>\n",
       "      <th>minPlayed</th>\n",
       "      <th>cal_min</th>\n",
       "    </tr>\n",
       "  </thead>\n",
       "  <tbody>\n",
       "    <tr>\n",
       "      <th>0</th>\n",
       "      <td>2021-11-12 15:22:00</td>\n",
       "      <td>Myke Towers</td>\n",
       "      <td>Experimento</td>\n",
       "      <td>106394</td>\n",
       "      <td>106.394</td>\n",
       "      <td>1.773233</td>\n",
       "      <td>0.316418</td>\n",
       "    </tr>\n",
       "    <tr>\n",
       "      <th>1</th>\n",
       "      <td>2021-11-13 08:53:00</td>\n",
       "      <td>Tame Impala</td>\n",
       "      <td>The Less I Know The Better</td>\n",
       "      <td>3712</td>\n",
       "      <td>3.712</td>\n",
       "      <td>0.061867</td>\n",
       "      <td>0.210588</td>\n",
       "    </tr>\n",
       "    <tr>\n",
       "      <th>2</th>\n",
       "      <td>2021-11-13 08:56:00</td>\n",
       "      <td>Tame Impala</td>\n",
       "      <td>The Less I Know The Better</td>\n",
       "      <td>213141</td>\n",
       "      <td>213.141</td>\n",
       "      <td>3.552350</td>\n",
       "      <td>0.210588</td>\n",
       "    </tr>\n",
       "    <tr>\n",
       "      <th>3</th>\n",
       "      <td>2021-11-13 09:33:00</td>\n",
       "      <td>Goth Babe</td>\n",
       "      <td>Canary Islands</td>\n",
       "      <td>3904</td>\n",
       "      <td>3.904</td>\n",
       "      <td>0.065067</td>\n",
       "      <td>0.316364</td>\n",
       "    </tr>\n",
       "    <tr>\n",
       "      <th>4</th>\n",
       "      <td>2021-11-13 09:36:00</td>\n",
       "      <td>Goth Babe</td>\n",
       "      <td>Canary Islands</td>\n",
       "      <td>201042</td>\n",
       "      <td>201.042</td>\n",
       "      <td>3.350700</td>\n",
       "      <td>0.316364</td>\n",
       "    </tr>\n",
       "  </tbody>\n",
       "</table>\n",
       "</div>"
      ],
      "text/plain": [
       "                  date   artistName                   trackName  msPlayed  \\\n",
       "0  2021-11-12 15:22:00  Myke Towers                 Experimento    106394   \n",
       "1  2021-11-13 08:53:00  Tame Impala  The Less I Know The Better      3712   \n",
       "2  2021-11-13 08:56:00  Tame Impala  The Less I Know The Better    213141   \n",
       "3  2021-11-13 09:33:00    Goth Babe              Canary Islands      3904   \n",
       "4  2021-11-13 09:36:00    Goth Babe              Canary Islands    201042   \n",
       "\n",
       "   sgPlayed  minPlayed   cal_min  \n",
       "0   106.394   1.773233  0.316418  \n",
       "1     3.712   0.061867  0.210588  \n",
       "2   213.141   3.552350  0.210588  \n",
       "3     3.904   0.065067  0.316364  \n",
       "4   201.042   3.350700  0.316364  "
      ]
     },
     "execution_count": 9,
     "metadata": {},
     "output_type": "execute_result"
    }
   ],
   "source": [
    "music.head()"
   ]
  },
  {
   "cell_type": "code",
   "execution_count": 14,
   "id": "7b2ece87",
   "metadata": {},
   "outputs": [],
   "source": [
    "url='https://open.spotify.com/search/fallin%20Alicia%20Keys'"
   ]
  },
  {
   "cell_type": "code",
   "execution_count": 40,
   "id": "57d55439",
   "metadata": {},
   "outputs": [],
   "source": [
    "driver.quit()"
   ]
  },
  {
   "cell_type": "code",
   "execution_count": 41,
   "id": "87114206",
   "metadata": {},
   "outputs": [
    {
     "name": "stderr",
     "output_type": "stream",
     "text": [
      "/var/folders/s4/79ykyqjn7f16bdl_zqjgsbzh0000gp/T/ipykernel_84344/3339396098.py:1: DeprecationWarning: executable_path has been deprecated, please pass in a Service object\n",
      "  driver=webdriver.Chrome(PATH)\n"
     ]
    },
    {
     "name": "stdout",
     "output_type": "stream",
     "text": [
      "no hay anuncio\n"
     ]
    },
    {
     "ename": "AttributeError",
     "evalue": "'WebElement' object has no attribute 'SendKeys'",
     "output_type": "error",
     "traceback": [
      "\u001b[0;31m---------------------------------------------------------------------------\u001b[0m",
      "\u001b[0;31mAttributeError\u001b[0m                            Traceback (most recent call last)",
      "Input \u001b[0;32mIn [41]\u001b[0m, in \u001b[0;36m<cell line: 38>\u001b[0;34m()\u001b[0m\n\u001b[1;32m     35\u001b[0m copiarlink\u001b[38;5;241m.\u001b[39mclick()\n\u001b[1;32m     37\u001b[0m \u001b[38;5;66;03m#pegar el enlace\u001b[39;00m\n\u001b[0;32m---> 38\u001b[0m \u001b[43mcopiarlink\u001b[49m\u001b[38;5;241;43m.\u001b[39;49m\u001b[43mSendKeys\u001b[49m(Keys\u001b[38;5;241m.\u001b[39mCOMMAND \u001b[38;5;241m+\u001b[39m \u001b[38;5;124m\"\u001b[39m\u001b[38;5;124mv\u001b[39m\u001b[38;5;124m\"\u001b[39m)\n",
      "\u001b[0;31mAttributeError\u001b[0m: 'WebElement' object has no attribute 'SendKeys'"
     ]
    }
   ],
   "source": [
    "driver=webdriver.Chrome(PATH)\n",
    "driver.get(url)\n",
    "\n",
    "time.sleep(6)\n",
    "\n",
    "# acepta cookies\n",
    "aceptar=driver.find_element(By.XPATH, '//*[@id=\"onetrust-accept-btn-handler\"]')\n",
    "aceptar.click()\n",
    "\n",
    "time.sleep(4)\n",
    "\n",
    "#Anuncio Premium\n",
    "try:\n",
    "    anuncio=driver.find_element(By.XPATH, '//*[@id=\"main\"]/div/div[2]/div[2]/footer/div[1]/button[2]')\n",
    "    anuncio.click()\n",
    "    time.sleep(4)\n",
    "    \n",
    "except:\n",
    "    print('no hay anuncio')\n",
    "    \n",
    "#Seleccionar cancion\n",
    "seleccionar=driver.find_element(By.XPATH, '//*[@id=\"searchPage\"]/div/div/section[2]/div[2]/div/div/div/div[2]/div[1]/div')\n",
    "seleccionar.click()\n",
    "\n",
    "# seleccionar las opciones de la canción\n",
    "opciones=driver.find_element(By.XPATH, '//*[@id=\"searchPage\"]/div/div/section[2]/div[2]/div/div/div/div[2]/div[1]/div/div[2]/button[2]')\n",
    "opciones.click()\n",
    "\n",
    "#seleccionar compartir\n",
    "compartir=driver.find_element(By.XPATH, '//*[@id=\"context-menu\"]/ul/li[7]/button/span[1]')\n",
    "compartir.click()\n",
    "\n",
    "#copiar el enlace de la canción\n",
    "copiarlink = driver.find_element(By.XPATH, '//*[@id=\"tippy-4\"]/ul/li[1]/button/span')\n",
    "copiarlink.click()\n",
    "\n",
    "#pegar el enlace\n",
    "copiarlink.SendKeys(Keys.COMMAND + \"v\");"
   ]
  },
  {
   "cell_type": "code",
   "execution_count": null,
   "id": "e77dc38d",
   "metadata": {},
   "outputs": [],
   "source": [
    "def buscarlink (nombrecancion):\n",
    "    \n",
    "    # inicia el driver\n",
    "    driver=webdriver.Chrome(PATH)\n",
    "    driver.get(url)\n",
    "\n",
    "    time.sleep(2)\n",
    "    \n",
    "    # acepta cookies\n",
    "    aceptar=driver.find_element(By.XPATH, '//*[@id=\"onetrust-accept-btn-handler\"]')\n",
    "    aceptar.click()\n",
    "\n",
    "    time.sleep(2)\n",
    "    \n",
    "    # seleccionar las opciones de la canción\n",
    "    opciones=driver.find_element(By.XPATH, '//*[@id=\"searchPage\"]/div/div/section[2]/div[2]/div/div/div/div[2]/div[1]/div/div[2]/button[2]/svg/path')\n",
    "    opciones.click()"
   ]
  },
  {
   "cell_type": "code",
   "execution_count": 10,
   "id": "fc3154d6",
   "metadata": {},
   "outputs": [
    {
     "ename": "NameError",
     "evalue": "name 'data' is not defined",
     "output_type": "error",
     "traceback": [
      "\u001b[0;31m---------------------------------------------------------------------------\u001b[0m",
      "\u001b[0;31mNameError\u001b[0m                                 Traceback (most recent call last)",
      "Input \u001b[0;32mIn [10]\u001b[0m, in \u001b[0;36m<cell line: 1>\u001b[0;34m()\u001b[0m\n\u001b[0;32m----> 1\u001b[0m lst\u001b[38;5;241m=\u001b[39mParallel(n_jobs\u001b[38;5;241m=\u001b[39m\u001b[38;5;241m-\u001b[39m\u001b[38;5;241m1\u001b[39m, verbose\u001b[38;5;241m=\u001b[39m\u001b[38;5;28;01mTrue\u001b[39;00m)(delayed(cuadrado)(e) \u001b[38;5;28;01mfor\u001b[39;00m e \u001b[38;5;129;01min\u001b[39;00m \u001b[43mdata\u001b[49m)\n",
      "\u001b[0;31mNameError\u001b[0m: name 'data' is not defined"
     ]
    }
   ],
   "source": [
    "music['link'] = Parallel(n_jobs=-1, verbose=True)(delayed(buscarlink)(e) for e in music.trackName)"
   ]
  },
  {
   "cell_type": "code",
   "execution_count": null,
   "id": "a4c07fdd",
   "metadata": {},
   "outputs": [],
   "source": []
  }
 ],
 "metadata": {
  "kernelspec": {
   "display_name": "Python 3 (ipykernel)",
   "language": "python",
   "name": "python3"
  },
  "language_info": {
   "codemirror_mode": {
    "name": "ipython",
    "version": 3
   },
   "file_extension": ".py",
   "mimetype": "text/x-python",
   "name": "python",
   "nbconvert_exporter": "python",
   "pygments_lexer": "ipython3",
   "version": "3.9.12"
  }
 },
 "nbformat": 4,
 "nbformat_minor": 5
}
