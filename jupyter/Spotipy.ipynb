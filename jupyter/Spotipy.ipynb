{
 "cells": [
  {
   "cell_type": "code",
   "execution_count": 1,
   "id": "63a16796",
   "metadata": {
    "scrolled": false
   },
   "outputs": [
    {
     "name": "stdout",
     "output_type": "stream",
     "text": [
      "Requirement already satisfied: spotipy in /Users/maria/opt/anaconda3/lib/python3.9/site-packages (2.21.0)\n",
      "Requirement already satisfied: requests>=2.25.0 in /Users/maria/opt/anaconda3/lib/python3.9/site-packages (from spotipy) (2.27.1)\n",
      "Requirement already satisfied: redis>=3.5.3 in /Users/maria/opt/anaconda3/lib/python3.9/site-packages (from spotipy) (4.4.0)\n",
      "Requirement already satisfied: urllib3>=1.26.0 in /Users/maria/opt/anaconda3/lib/python3.9/site-packages (from spotipy) (1.26.9)\n",
      "Requirement already satisfied: six>=1.15.0 in /Users/maria/opt/anaconda3/lib/python3.9/site-packages (from spotipy) (1.16.0)\n",
      "Requirement already satisfied: async-timeout>=4.0.2 in /Users/maria/opt/anaconda3/lib/python3.9/site-packages (from redis>=3.5.3->spotipy) (4.0.2)\n",
      "Requirement already satisfied: charset-normalizer~=2.0.0 in /Users/maria/opt/anaconda3/lib/python3.9/site-packages (from requests>=2.25.0->spotipy) (2.0.4)\n",
      "Requirement already satisfied: certifi>=2017.4.17 in /Users/maria/opt/anaconda3/lib/python3.9/site-packages (from requests>=2.25.0->spotipy) (2021.10.8)\n",
      "Requirement already satisfied: idna<4,>=2.5 in /Users/maria/opt/anaconda3/lib/python3.9/site-packages (from requests>=2.25.0->spotipy) (3.3)\n",
      "Note: you may need to restart the kernel to use updated packages.\n"
     ]
    }
   ],
   "source": [
    "pip install spotipy --upgrade"
   ]
  },
  {
   "cell_type": "code",
   "execution_count": 2,
   "id": "cdc4b4d6",
   "metadata": {
    "scrolled": false
   },
   "outputs": [
    {
     "name": "stdout",
     "output_type": "stream",
     "text": [
      "Requirement already satisfied: clipboard in /Users/maria/opt/anaconda3/lib/python3.9/site-packages (0.0.4)\n",
      "Requirement already satisfied: pyperclip>=1.3 in /Users/maria/opt/anaconda3/lib/python3.9/site-packages (from clipboard) (1.8.2)\n",
      "Note: you may need to restart the kernel to use updated packages.\n"
     ]
    }
   ],
   "source": [
    "pip install clipboard"
   ]
  },
  {
   "cell_type": "code",
   "execution_count": 3,
   "id": "66120c94",
   "metadata": {},
   "outputs": [
    {
     "name": "stdout",
     "output_type": "stream",
     "text": [
      "Requirement already satisfied: tqdm in /Users/maria/opt/anaconda3/lib/python3.9/site-packages (4.64.0)\n",
      "Note: you may need to restart the kernel to use updated packages.\n"
     ]
    }
   ],
   "source": [
    "%pip install tqdm"
   ]
  },
  {
   "cell_type": "code",
   "execution_count": 4,
   "id": "c56f8d84",
   "metadata": {},
   "outputs": [],
   "source": [
    "import pandas as pd\n",
    "import spotipy as sp\n",
    "from spotipy.oauth2 import SpotifyClientCredentials\n",
    "import clipboard\n",
    "from tqdm.notebook import tqdm"
   ]
  },
  {
   "cell_type": "code",
   "execution_count": 5,
   "id": "b365aff7",
   "metadata": {},
   "outputs": [],
   "source": [
    "auth_manager = SpotifyClientCredentials('a73d30556eba483fa2f6901678510692', '96937d6cdfe94f87944e79a475e9d679')\n",
    "sp = sp.Spotify(auth_manager=auth_manager)"
   ]
  },
  {
   "cell_type": "code",
   "execution_count": 6,
   "id": "0e22da97",
   "metadata": {
    "scrolled": false
   },
   "outputs": [
    {
     "data": {
      "text/plain": [
       "[{'danceability': 0.609,\n",
       "  'energy': 0.444,\n",
       "  'key': 7,\n",
       "  'loudness': -9.129,\n",
       "  'mode': 1,\n",
       "  'speechiness': 0.106,\n",
       "  'acousticness': 0.603,\n",
       "  'instrumentalness': 6.86e-06,\n",
       "  'liveness': 0.104,\n",
       "  'valence': 0.166,\n",
       "  'tempo': 118.402,\n",
       "  'type': 'audio_features',\n",
       "  'id': '3XVBdLihbNbxUwZosxcGuJ',\n",
       "  'uri': 'spotify:track:3XVBdLihbNbxUwZosxcGuJ',\n",
       "  'track_href': 'https://api.spotify.com/v1/tracks/3XVBdLihbNbxUwZosxcGuJ',\n",
       "  'analysis_url': 'https://api.spotify.com/v1/audio-analysis/3XVBdLihbNbxUwZosxcGuJ',\n",
       "  'duration_ms': 228707,\n",
       "  'time_signature': 3}]"
      ]
     },
     "execution_count": 6,
     "metadata": {},
     "output_type": "execute_result"
    }
   ],
   "source": [
    "sp.audio_features('https://open.spotify.com/track/3XVBdLihbNbxUwZosxcGuJ?si=4cdf178a4f9f4561')"
   ]
  },
  {
   "cell_type": "markdown",
   "id": "efab7403",
   "metadata": {},
   "source": [
    "# Scrapeo de los links de las canciones"
   ]
  },
  {
   "cell_type": "markdown",
   "id": "d5f98633",
   "metadata": {},
   "source": [
    "Para poder utilizar la API de Spotify necesitas conocer la URL de las canciones que quieres scrapear, como solo contamos con el nombre del artista y de la canción, necesitamos escrapear spotify para obtener el link de las canciones."
   ]
  },
  {
   "cell_type": "code",
   "execution_count": 7,
   "id": "bba61ee5",
   "metadata": {},
   "outputs": [
    {
     "name": "stdout",
     "output_type": "stream",
     "text": [
      "Requirement already satisfied: joblib in /Users/maria/opt/anaconda3/lib/python3.9/site-packages (1.1.0)\n",
      "Note: you may need to restart the kernel to use updated packages.\n"
     ]
    }
   ],
   "source": [
    "%pip install joblib"
   ]
  },
  {
   "cell_type": "code",
   "execution_count": 8,
   "id": "9a56a0ab",
   "metadata": {},
   "outputs": [],
   "source": [
    "from joblib import Parallel, delayed"
   ]
  },
  {
   "cell_type": "code",
   "execution_count": 9,
   "id": "e3a056ff",
   "metadata": {},
   "outputs": [],
   "source": [
    "from selenium import webdriver\n",
    "from selenium.webdriver.common.by import By\n",
    "import time\n",
    "from webdriver_manager.chrome import ChromeDriverManager\n",
    "PATH=ChromeDriverManager().install()"
   ]
  },
  {
   "cell_type": "code",
   "execution_count": 10,
   "id": "3d666f8f",
   "metadata": {},
   "outputs": [],
   "source": [
    "music0 = pd.read_json('../../proyecto_final/data/mydataspotify/StreamingHistory0.json')"
   ]
  },
  {
   "cell_type": "code",
   "execution_count": 11,
   "id": "72676e91",
   "metadata": {},
   "outputs": [],
   "source": [
    "music1 = pd.read_json('../../proyecto_final/data/mydataspotify/StreamingHistory1.json')"
   ]
  },
  {
   "cell_type": "code",
   "execution_count": 12,
   "id": "6be5fc56",
   "metadata": {},
   "outputs": [],
   "source": [
    "music = pd.concat([music0, music1], axis=0)"
   ]
  },
  {
   "cell_type": "code",
   "execution_count": 13,
   "id": "9f26d704",
   "metadata": {},
   "outputs": [],
   "source": [
    "music.to_csv('../../proyecto_final/data/mydataspotify/CompleteStreamingHistory.csv', index=False)"
   ]
  },
  {
   "cell_type": "code",
   "execution_count": 14,
   "id": "7b2ece87",
   "metadata": {},
   "outputs": [],
   "source": [
    "url='https://open.spotify.com/search/fallin%20Alicia%20Keys'"
   ]
  },
  {
   "cell_type": "code",
   "execution_count": 15,
   "id": "87114206",
   "metadata": {
    "scrolled": true
   },
   "outputs": [
    {
     "name": "stderr",
     "output_type": "stream",
     "text": [
      "/var/folders/s4/79ykyqjn7f16bdl_zqjgsbzh0000gp/T/ipykernel_10090/2355854285.py:1: DeprecationWarning: executable_path has been deprecated, please pass in a Service object\n",
      "  driver=webdriver.Chrome(PATH)\n"
     ]
    }
   ],
   "source": [
    "driver=webdriver.Chrome(PATH)\n",
    "driver.get(url)\n",
    "time.sleep(6)\n",
    "\n",
    "# acepta cookies\n",
    "aceptar=driver.find_element(By.XPATH, '//*[@id=\"onetrust-accept-btn-handler\"]')\n",
    "aceptar.click()\n",
    "\n",
    "time.sleep(4)\n",
    "\n",
    "#Anuncio Premium\n",
    "try:\n",
    "    anuncio=driver.find_element(By.XPATH, '//*[@id=\"main\"]/div/div[2]/div[2]/footer/div[1]/button[2]')\n",
    "    anuncio.click()\n",
    "    time.sleep(1)\n",
    "\n",
    "except:\n",
    "    time.sleep(0.0001)\n",
    "\n",
    "# seleccionar las opciones de la canción\n",
    "opciones=driver.find_element(By.XPATH, '//*[@id=\"searchPage\"]/div/div/section[2]/div[2]/div/div/div/div[2]/div[1]/div/div[2]/button[2]')\n",
    "opciones.click()\n",
    "\n",
    "#seleccionar compartir\n",
    "compartir=driver.find_element(By.XPATH, '//*[@id=\"context-menu\"]/ul/li[7]/button/span[1]')\n",
    "compartir.click()\n",
    "\n",
    "#copiar el enlace de la canción\n",
    "copiarlink = driver.find_element(By.XPATH, '//*[@id=\"tippy-4\"]/ul/li[1]/button/span')\n",
    "copiarlink.click()\n",
    "\n",
    "#pegar el enlace\n",
    "global pepe\n",
    "pepe = []\n",
    "pepe.append(clipboard.paste())"
   ]
  },
  {
   "cell_type": "code",
   "execution_count": 16,
   "id": "063433f6",
   "metadata": {},
   "outputs": [],
   "source": [
    "driver.quit()"
   ]
  },
  {
   "cell_type": "code",
   "execution_count": 17,
   "id": "07e76fbc",
   "metadata": {},
   "outputs": [
    {
     "data": {
      "text/plain": [
       "['https://open.spotify.com/track/0KQx6HOpJueiSkztcS0r7D?si=a07f1abbd6c3456e']"
      ]
     },
     "execution_count": 17,
     "metadata": {},
     "output_type": "execute_result"
    }
   ],
   "source": [
    "pepe"
   ]
  },
  {
   "cell_type": "code",
   "execution_count": 18,
   "id": "330e006b",
   "metadata": {},
   "outputs": [],
   "source": [
    "link=[]"
   ]
  },
  {
   "cell_type": "code",
   "execution_count": 23,
   "id": "e77dc38d",
   "metadata": {},
   "outputs": [],
   "source": [
    "def buscarlink (trackartist):\n",
    "        \n",
    "    url=f'https://open.spotify.com/search/{trackartist}'\n",
    "    # inicia el driver\n",
    "    driver=webdriver.Chrome(PATH)\n",
    "    driver.get(url)\n",
    "\n",
    "\n",
    "    # acepta cookies\n",
    "    try:\n",
    "        time.sleep(10)\n",
    "        aceptar=driver.find_element(By.XPATH, '//*[@id=\"onetrust-accept-btn-handler\"]')\n",
    "        aceptar.click()\n",
    "\n",
    "        time.sleep(4)\n",
    "    except:\n",
    "        time.sleep(0.00001)\n",
    "\n",
    "    #Anuncio Premium\n",
    "    try:\n",
    "        anuncio=driver.find_element(By.XPATH, '//*[@id=\"main\"]/div/div[2]/div[2]/footer/div[1]/button[2]')\n",
    "        anuncio.click()\n",
    "        time.sleep(4)\n",
    "\n",
    "    except:\n",
    "        time.sleep(0.0001)\n",
    "\n",
    "    # seleccionar las opciones de la canción\n",
    "    opciones=driver.find_element(By.XPATH, '//*[@id=\"searchPage\"]/div/div/section[2]/div[2]/div/div/div/div[2]/div[1]/div/div[2]/button[2]')\n",
    "    opciones.click()\n",
    "\n",
    "    #seleccionar compartir\n",
    "    compartir=driver.find_element(By.XPATH, '//*[@id=\"context-menu\"]/ul/li[7]/button/span[1]')\n",
    "    compartir.click()\n",
    "\n",
    "    #copiar el enlace de la canción\n",
    "    copiarlink = driver.find_element(By.XPATH, '//*[@id=\"tippy-4\"]/ul/li[1]/button/span')\n",
    "    copiarlink.click()\n",
    "    print(copiarlink.text)\n",
    "\n",
    "    #pegar el enlace\n",
    "    global listita\n",
    "    listita = []\n",
    "    listita.append(clipboard.paste())\n",
    "    print(clipboard.paste())\n",
    "    print(listita)\n",
    "        \n",
    "    return listita\n"
   ]
  },
  {
   "cell_type": "code",
   "execution_count": 24,
   "id": "41c8de9a",
   "metadata": {},
   "outputs": [],
   "source": [
    "prueba = ['Experimento%20Myke%20Towers','Rocky%20Still%20Woozy', 'Elephant%20Tame%20Impala', 'Experimento%20Myke%20Towers', 'Experimento%20Myke%20Towers', 'Experimento%20Myke%20Towers', 'Experimento%20Myke%20Towers', 'Experimento%20Myke%20Towers', 'Experimento%20Myke%20Towers', 'Experimento%20Myke%20Towers']"
   ]
  },
  {
   "cell_type": "code",
   "execution_count": 26,
   "id": "fc3154d6",
   "metadata": {
    "scrolled": true
   },
   "outputs": [
    {
     "name": "stderr",
     "output_type": "stream",
     "text": [
      "[Parallel(n_jobs=6)]: Using backend LokyBackend with 6 concurrent workers.\n",
      "/var/folders/s4/79ykyqjn7f16bdl_zqjgsbzh0000gp/T/ipykernel_10090/1286452685.py:5: DeprecationWarning: executable_path has been deprecated, please pass in a Service object\n",
      "/var/folders/s4/79ykyqjn7f16bdl_zqjgsbzh0000gp/T/ipykernel_10090/1286452685.py:5: DeprecationWarning: executable_path has been deprecated, please pass in a Service object\n",
      "/var/folders/s4/79ykyqjn7f16bdl_zqjgsbzh0000gp/T/ipykernel_10090/1286452685.py:5: DeprecationWarning: executable_path has been deprecated, please pass in a Service object\n",
      "/var/folders/s4/79ykyqjn7f16bdl_zqjgsbzh0000gp/T/ipykernel_10090/1286452685.py:5: DeprecationWarning: executable_path has been deprecated, please pass in a Service object\n",
      "/var/folders/s4/79ykyqjn7f16bdl_zqjgsbzh0000gp/T/ipykernel_10090/1286452685.py:5: DeprecationWarning: executable_path has been deprecated, please pass in a Service object\n",
      "/var/folders/s4/79ykyqjn7f16bdl_zqjgsbzh0000gp/T/ipykernel_10090/1286452685.py:5: DeprecationWarning: executable_path has been deprecated, please pass in a Service object\n",
      "/var/folders/s4/79ykyqjn7f16bdl_zqjgsbzh0000gp/T/ipykernel_10090/1286452685.py:5: DeprecationWarning: executable_path has been deprecated, please pass in a Service object\n",
      "/var/folders/s4/79ykyqjn7f16bdl_zqjgsbzh0000gp/T/ipykernel_10090/1286452685.py:5: DeprecationWarning: executable_path has been deprecated, please pass in a Service object\n",
      "/var/folders/s4/79ykyqjn7f16bdl_zqjgsbzh0000gp/T/ipykernel_10090/1286452685.py:5: DeprecationWarning: executable_path has been deprecated, please pass in a Service object\n",
      "/var/folders/s4/79ykyqjn7f16bdl_zqjgsbzh0000gp/T/ipykernel_10090/1286452685.py:5: DeprecationWarning: executable_path has been deprecated, please pass in a Service object\n",
      "[Parallel(n_jobs=6)]: Done  10 out of  10 | elapsed:   53.8s remaining:    0.0s\n"
     ]
    },
    {
     "ename": "NoSuchElementException",
     "evalue": "Message: no such element: Unable to locate element: {\"method\":\"xpath\",\"selector\":\"//*[@id=\"searchPage\"]/div/div/section[2]/div[2]/div/div/div/div[2]/div[1]/div/div[2]/button[2]\"}\n  (Session info: chrome=108.0.5359.98)\nStacktrace:\n0   chromedriver                        0x00000001033fbf38 chromedriver + 4910904\n1   chromedriver                        0x000000010337ba03 chromedriver + 4385283\n2   chromedriver                        0x0000000102fc0747 chromedriver + 472903\n3   chromedriver                        0x000000010300534c chromedriver + 754508\n4   chromedriver                        0x00000001030055a1 chromedriver + 755105\n5   chromedriver                        0x0000000103048e94 chromedriver + 1031828\n6   chromedriver                        0x000000010302b13d chromedriver + 909629\n7   chromedriver                        0x000000010304628e chromedriver + 1020558\n8   chromedriver                        0x000000010302aee3 chromedriver + 909027\n9   chromedriver                        0x0000000102ff530c chromedriver + 688908\n10  chromedriver                        0x0000000102ff688e chromedriver + 694414\n11  chromedriver                        0x00000001033c91de chromedriver + 4702686\n12  chromedriver                        0x00000001033cdb19 chromedriver + 4721433\n13  chromedriver                        0x00000001033d528e chromedriver + 4752014\n14  chromedriver                        0x00000001033ce91a chromedriver + 4725018\n15  chromedriver                        0x00000001033a2b02 chromedriver + 4545282\n16  chromedriver                        0x00000001033ed888 chromedriver + 4851848\n17  chromedriver                        0x00000001033eda05 chromedriver + 4852229\n18  chromedriver                        0x0000000103403e5f chromedriver + 4943455\n19  libsystem_pthread.dylib             0x00007ff8039f14e1 _pthread_start + 125\n20  libsystem_pthread.dylib             0x00007ff8039ecf6b thread_start + 15\n",
     "output_type": "error",
     "traceback": [
      "\u001b[0;31m---------------------------------------------------------------------------\u001b[0m",
      "\u001b[0;31m_RemoteTraceback\u001b[0m                          Traceback (most recent call last)",
      "\u001b[0;31m_RemoteTraceback\u001b[0m: \n\"\"\"\nTraceback (most recent call last):\n  File \"/Users/maria/opt/anaconda3/lib/python3.9/site-packages/joblib/externals/loky/process_executor.py\", line 436, in _process_worker\n    r = call_item()\n  File \"/Users/maria/opt/anaconda3/lib/python3.9/site-packages/joblib/externals/loky/process_executor.py\", line 288, in __call__\n    return self.fn(*self.args, **self.kwargs)\n  File \"/Users/maria/opt/anaconda3/lib/python3.9/site-packages/joblib/_parallel_backends.py\", line 595, in __call__\n    return self.func(*args, **kwargs)\n  File \"/Users/maria/opt/anaconda3/lib/python3.9/site-packages/joblib/parallel.py\", line 262, in __call__\n    return [func(*args, **kwargs)\n  File \"/Users/maria/opt/anaconda3/lib/python3.9/site-packages/joblib/parallel.py\", line 262, in <listcomp>\n    return [func(*args, **kwargs)\n  File \"/var/folders/s4/79ykyqjn7f16bdl_zqjgsbzh0000gp/T/ipykernel_10090/1286452685.py\", line 29, in buscarlink\n  File \"/Users/maria/opt/anaconda3/lib/python3.9/site-packages/selenium/webdriver/remote/webdriver.py\", line 861, in find_element\n    return self.execute(Command.FIND_ELEMENT, {\"using\": by, \"value\": value})[\"value\"]\n  File \"/Users/maria/opt/anaconda3/lib/python3.9/site-packages/selenium/webdriver/remote/webdriver.py\", line 444, in execute\n    self.error_handler.check_response(response)\n  File \"/Users/maria/opt/anaconda3/lib/python3.9/site-packages/selenium/webdriver/remote/errorhandler.py\", line 249, in check_response\n    raise exception_class(message, screen, stacktrace)\nselenium.common.exceptions.NoSuchElementException: Message: no such element: Unable to locate element: {\"method\":\"xpath\",\"selector\":\"//*[@id=\"searchPage\"]/div/div/section[2]/div[2]/div/div/div/div[2]/div[1]/div/div[2]/button[2]\"}\n  (Session info: chrome=108.0.5359.98)\nStacktrace:\n0   chromedriver                        0x00000001033fbf38 chromedriver + 4910904\n1   chromedriver                        0x000000010337ba03 chromedriver + 4385283\n2   chromedriver                        0x0000000102fc0747 chromedriver + 472903\n3   chromedriver                        0x000000010300534c chromedriver + 754508\n4   chromedriver                        0x00000001030055a1 chromedriver + 755105\n5   chromedriver                        0x0000000103048e94 chromedriver + 1031828\n6   chromedriver                        0x000000010302b13d chromedriver + 909629\n7   chromedriver                        0x000000010304628e chromedriver + 1020558\n8   chromedriver                        0x000000010302aee3 chromedriver + 909027\n9   chromedriver                        0x0000000102ff530c chromedriver + 688908\n10  chromedriver                        0x0000000102ff688e chromedriver + 694414\n11  chromedriver                        0x00000001033c91de chromedriver + 4702686\n12  chromedriver                        0x00000001033cdb19 chromedriver + 4721433\n13  chromedriver                        0x00000001033d528e chromedriver + 4752014\n14  chromedriver                        0x00000001033ce91a chromedriver + 4725018\n15  chromedriver                        0x00000001033a2b02 chromedriver + 4545282\n16  chromedriver                        0x00000001033ed888 chromedriver + 4851848\n17  chromedriver                        0x00000001033eda05 chromedriver + 4852229\n18  chromedriver                        0x0000000103403e5f chromedriver + 4943455\n19  libsystem_pthread.dylib             0x00007ff8039f14e1 _pthread_start + 125\n20  libsystem_pthread.dylib             0x00007ff8039ecf6b thread_start + 15\n\n\"\"\"",
      "\nThe above exception was the direct cause of the following exception:\n",
      "\u001b[0;31mNoSuchElementException\u001b[0m                    Traceback (most recent call last)",
      "Input \u001b[0;32mIn [26]\u001b[0m, in \u001b[0;36m<cell line: 1>\u001b[0;34m()\u001b[0m\n\u001b[0;32m----> 1\u001b[0m df \u001b[38;5;241m=\u001b[39m \u001b[43mParallel\u001b[49m\u001b[43m(\u001b[49m\u001b[43mn_jobs\u001b[49m\u001b[38;5;241;43m=\u001b[39;49m\u001b[38;5;241;43m6\u001b[39;49m\u001b[43m,\u001b[49m\u001b[43m \u001b[49m\u001b[43mverbose\u001b[49m\u001b[38;5;241;43m=\u001b[39;49m\u001b[38;5;28;43;01mTrue\u001b[39;49;00m\u001b[43m)\u001b[49m\u001b[43m(\u001b[49m\u001b[43mdelayed\u001b[49m\u001b[43m(\u001b[49m\u001b[43mbuscarlink\u001b[49m\u001b[43m)\u001b[49m\u001b[43m(\u001b[49m\u001b[43me\u001b[49m\u001b[43m)\u001b[49m\u001b[43m \u001b[49m\u001b[38;5;28;43;01mfor\u001b[39;49;00m\u001b[43m \u001b[49m\u001b[43me\u001b[49m\u001b[43m \u001b[49m\u001b[38;5;129;43;01min\u001b[39;49;00m\u001b[43m \u001b[49m\u001b[43mprueba\u001b[49m\u001b[43m)\u001b[49m\n",
      "File \u001b[0;32m~/opt/anaconda3/lib/python3.9/site-packages/joblib/parallel.py:1056\u001b[0m, in \u001b[0;36mParallel.__call__\u001b[0;34m(self, iterable)\u001b[0m\n\u001b[1;32m   1053\u001b[0m     \u001b[38;5;28mself\u001b[39m\u001b[38;5;241m.\u001b[39m_iterating \u001b[38;5;241m=\u001b[39m \u001b[38;5;28;01mFalse\u001b[39;00m\n\u001b[1;32m   1055\u001b[0m \u001b[38;5;28;01mwith\u001b[39;00m \u001b[38;5;28mself\u001b[39m\u001b[38;5;241m.\u001b[39m_backend\u001b[38;5;241m.\u001b[39mretrieval_context():\n\u001b[0;32m-> 1056\u001b[0m     \u001b[38;5;28;43mself\u001b[39;49m\u001b[38;5;241;43m.\u001b[39;49m\u001b[43mretrieve\u001b[49m\u001b[43m(\u001b[49m\u001b[43m)\u001b[49m\n\u001b[1;32m   1057\u001b[0m \u001b[38;5;66;03m# Make sure that we get a last message telling us we are done\u001b[39;00m\n\u001b[1;32m   1058\u001b[0m elapsed_time \u001b[38;5;241m=\u001b[39m time\u001b[38;5;241m.\u001b[39mtime() \u001b[38;5;241m-\u001b[39m \u001b[38;5;28mself\u001b[39m\u001b[38;5;241m.\u001b[39m_start_time\n",
      "File \u001b[0;32m~/opt/anaconda3/lib/python3.9/site-packages/joblib/parallel.py:935\u001b[0m, in \u001b[0;36mParallel.retrieve\u001b[0;34m(self)\u001b[0m\n\u001b[1;32m    933\u001b[0m \u001b[38;5;28;01mtry\u001b[39;00m:\n\u001b[1;32m    934\u001b[0m     \u001b[38;5;28;01mif\u001b[39;00m \u001b[38;5;28mgetattr\u001b[39m(\u001b[38;5;28mself\u001b[39m\u001b[38;5;241m.\u001b[39m_backend, \u001b[38;5;124m'\u001b[39m\u001b[38;5;124msupports_timeout\u001b[39m\u001b[38;5;124m'\u001b[39m, \u001b[38;5;28;01mFalse\u001b[39;00m):\n\u001b[0;32m--> 935\u001b[0m         \u001b[38;5;28mself\u001b[39m\u001b[38;5;241m.\u001b[39m_output\u001b[38;5;241m.\u001b[39mextend(\u001b[43mjob\u001b[49m\u001b[38;5;241;43m.\u001b[39;49m\u001b[43mget\u001b[49m\u001b[43m(\u001b[49m\u001b[43mtimeout\u001b[49m\u001b[38;5;241;43m=\u001b[39;49m\u001b[38;5;28;43mself\u001b[39;49m\u001b[38;5;241;43m.\u001b[39;49m\u001b[43mtimeout\u001b[49m\u001b[43m)\u001b[49m)\n\u001b[1;32m    936\u001b[0m     \u001b[38;5;28;01melse\u001b[39;00m:\n\u001b[1;32m    937\u001b[0m         \u001b[38;5;28mself\u001b[39m\u001b[38;5;241m.\u001b[39m_output\u001b[38;5;241m.\u001b[39mextend(job\u001b[38;5;241m.\u001b[39mget())\n",
      "File \u001b[0;32m~/opt/anaconda3/lib/python3.9/site-packages/joblib/_parallel_backends.py:542\u001b[0m, in \u001b[0;36mLokyBackend.wrap_future_result\u001b[0;34m(future, timeout)\u001b[0m\n\u001b[1;32m    539\u001b[0m \u001b[38;5;124;03m\"\"\"Wrapper for Future.result to implement the same behaviour as\u001b[39;00m\n\u001b[1;32m    540\u001b[0m \u001b[38;5;124;03mAsyncResults.get from multiprocessing.\"\"\"\u001b[39;00m\n\u001b[1;32m    541\u001b[0m \u001b[38;5;28;01mtry\u001b[39;00m:\n\u001b[0;32m--> 542\u001b[0m     \u001b[38;5;28;01mreturn\u001b[39;00m \u001b[43mfuture\u001b[49m\u001b[38;5;241;43m.\u001b[39;49m\u001b[43mresult\u001b[49m\u001b[43m(\u001b[49m\u001b[43mtimeout\u001b[49m\u001b[38;5;241;43m=\u001b[39;49m\u001b[43mtimeout\u001b[49m\u001b[43m)\u001b[49m\n\u001b[1;32m    543\u001b[0m \u001b[38;5;28;01mexcept\u001b[39;00m CfTimeoutError \u001b[38;5;28;01mas\u001b[39;00m e:\n\u001b[1;32m    544\u001b[0m     \u001b[38;5;28;01mraise\u001b[39;00m \u001b[38;5;167;01mTimeoutError\u001b[39;00m \u001b[38;5;28;01mfrom\u001b[39;00m \u001b[38;5;21;01me\u001b[39;00m\n",
      "File \u001b[0;32m~/opt/anaconda3/lib/python3.9/concurrent/futures/_base.py:446\u001b[0m, in \u001b[0;36mFuture.result\u001b[0;34m(self, timeout)\u001b[0m\n\u001b[1;32m    444\u001b[0m     \u001b[38;5;28;01mraise\u001b[39;00m CancelledError()\n\u001b[1;32m    445\u001b[0m \u001b[38;5;28;01melif\u001b[39;00m \u001b[38;5;28mself\u001b[39m\u001b[38;5;241m.\u001b[39m_state \u001b[38;5;241m==\u001b[39m FINISHED:\n\u001b[0;32m--> 446\u001b[0m     \u001b[38;5;28;01mreturn\u001b[39;00m \u001b[38;5;28;43mself\u001b[39;49m\u001b[38;5;241;43m.\u001b[39;49m\u001b[43m__get_result\u001b[49m\u001b[43m(\u001b[49m\u001b[43m)\u001b[49m\n\u001b[1;32m    447\u001b[0m \u001b[38;5;28;01melse\u001b[39;00m:\n\u001b[1;32m    448\u001b[0m     \u001b[38;5;28;01mraise\u001b[39;00m \u001b[38;5;167;01mTimeoutError\u001b[39;00m()\n",
      "File \u001b[0;32m~/opt/anaconda3/lib/python3.9/concurrent/futures/_base.py:391\u001b[0m, in \u001b[0;36mFuture.__get_result\u001b[0;34m(self)\u001b[0m\n\u001b[1;32m    389\u001b[0m \u001b[38;5;28;01mif\u001b[39;00m \u001b[38;5;28mself\u001b[39m\u001b[38;5;241m.\u001b[39m_exception:\n\u001b[1;32m    390\u001b[0m     \u001b[38;5;28;01mtry\u001b[39;00m:\n\u001b[0;32m--> 391\u001b[0m         \u001b[38;5;28;01mraise\u001b[39;00m \u001b[38;5;28mself\u001b[39m\u001b[38;5;241m.\u001b[39m_exception\n\u001b[1;32m    392\u001b[0m     \u001b[38;5;28;01mfinally\u001b[39;00m:\n\u001b[1;32m    393\u001b[0m         \u001b[38;5;66;03m# Break a reference cycle with the exception in self._exception\u001b[39;00m\n\u001b[1;32m    394\u001b[0m         \u001b[38;5;28mself\u001b[39m \u001b[38;5;241m=\u001b[39m \u001b[38;5;28;01mNone\u001b[39;00m\n",
      "\u001b[0;31mNoSuchElementException\u001b[0m: Message: no such element: Unable to locate element: {\"method\":\"xpath\",\"selector\":\"//*[@id=\"searchPage\"]/div/div/section[2]/div[2]/div/div/div/div[2]/div[1]/div/div[2]/button[2]\"}\n  (Session info: chrome=108.0.5359.98)\nStacktrace:\n0   chromedriver                        0x00000001033fbf38 chromedriver + 4910904\n1   chromedriver                        0x000000010337ba03 chromedriver + 4385283\n2   chromedriver                        0x0000000102fc0747 chromedriver + 472903\n3   chromedriver                        0x000000010300534c chromedriver + 754508\n4   chromedriver                        0x00000001030055a1 chromedriver + 755105\n5   chromedriver                        0x0000000103048e94 chromedriver + 1031828\n6   chromedriver                        0x000000010302b13d chromedriver + 909629\n7   chromedriver                        0x000000010304628e chromedriver + 1020558\n8   chromedriver                        0x000000010302aee3 chromedriver + 909027\n9   chromedriver                        0x0000000102ff530c chromedriver + 688908\n10  chromedriver                        0x0000000102ff688e chromedriver + 694414\n11  chromedriver                        0x00000001033c91de chromedriver + 4702686\n12  chromedriver                        0x00000001033cdb19 chromedriver + 4721433\n13  chromedriver                        0x00000001033d528e chromedriver + 4752014\n14  chromedriver                        0x00000001033ce91a chromedriver + 4725018\n15  chromedriver                        0x00000001033a2b02 chromedriver + 4545282\n16  chromedriver                        0x00000001033ed888 chromedriver + 4851848\n17  chromedriver                        0x00000001033eda05 chromedriver + 4852229\n18  chromedriver                        0x0000000103403e5f chromedriver + 4943455\n19  libsystem_pthread.dylib             0x00007ff8039f14e1 _pthread_start + 125\n20  libsystem_pthread.dylib             0x00007ff8039ecf6b thread_start + 15\n"
     ]
    }
   ],
   "source": [
    "df = Parallel(n_jobs=6, verbose=True)(delayed(buscarlink)(e) for e in prueba)"
   ]
  },
  {
   "cell_type": "code",
   "execution_count": 28,
   "id": "19287117",
   "metadata": {},
   "outputs": [],
   "source": [
    "driver.quit()"
   ]
  },
  {
   "cell_type": "code",
   "execution_count": 27,
   "id": "626872bd",
   "metadata": {},
   "outputs": [
    {
     "ename": "NameError",
     "evalue": "name 'listita' is not defined",
     "output_type": "error",
     "traceback": [
      "\u001b[0;31m---------------------------------------------------------------------------\u001b[0m",
      "\u001b[0;31mNameError\u001b[0m                                 Traceback (most recent call last)",
      "Input \u001b[0;32mIn [27]\u001b[0m, in \u001b[0;36m<cell line: 1>\u001b[0;34m()\u001b[0m\n\u001b[0;32m----> 1\u001b[0m \u001b[43mlistita\u001b[49m\n",
      "\u001b[0;31mNameError\u001b[0m: name 'listita' is not defined"
     ]
    }
   ],
   "source": [
    "listita"
   ]
  },
  {
   "cell_type": "code",
   "execution_count": null,
   "id": "a4c07fdd",
   "metadata": {},
   "outputs": [],
   "source": [
    "music.head(25)"
   ]
  },
  {
   "cell_type": "code",
   "execution_count": null,
   "id": "bd2267e1",
   "metadata": {},
   "outputs": [],
   "source": []
  }
 ],
 "metadata": {
  "kernelspec": {
   "display_name": "Python 3 (ipykernel)",
   "language": "python",
   "name": "python3"
  },
  "language_info": {
   "codemirror_mode": {
    "name": "ipython",
    "version": 3
   },
   "file_extension": ".py",
   "mimetype": "text/x-python",
   "name": "python",
   "nbconvert_exporter": "python",
   "pygments_lexer": "ipython3",
   "version": "3.9.12"
  }
 },
 "nbformat": 4,
 "nbformat_minor": 5
}
