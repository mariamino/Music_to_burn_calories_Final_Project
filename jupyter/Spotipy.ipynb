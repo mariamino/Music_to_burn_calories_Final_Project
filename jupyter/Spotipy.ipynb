{
 "cells": [
  {
   "cell_type": "code",
   "execution_count": 1,
   "id": "63a16796",
   "metadata": {
    "scrolled": true
   },
   "outputs": [
    {
     "name": "stdout",
     "output_type": "stream",
     "text": [
      "Requirement already satisfied: spotipy in /Users/maria/opt/anaconda3/lib/python3.9/site-packages (2.21.0)\n",
      "Requirement already satisfied: six>=1.15.0 in /Users/maria/opt/anaconda3/lib/python3.9/site-packages (from spotipy) (1.16.0)\n",
      "Requirement already satisfied: requests>=2.25.0 in /Users/maria/opt/anaconda3/lib/python3.9/site-packages (from spotipy) (2.27.1)\n",
      "Requirement already satisfied: redis>=3.5.3 in /Users/maria/opt/anaconda3/lib/python3.9/site-packages (from spotipy) (4.4.0)\n",
      "Requirement already satisfied: urllib3>=1.26.0 in /Users/maria/opt/anaconda3/lib/python3.9/site-packages (from spotipy) (1.26.9)\n",
      "Requirement already satisfied: async-timeout>=4.0.2 in /Users/maria/opt/anaconda3/lib/python3.9/site-packages (from redis>=3.5.3->spotipy) (4.0.2)\n",
      "Requirement already satisfied: certifi>=2017.4.17 in /Users/maria/opt/anaconda3/lib/python3.9/site-packages (from requests>=2.25.0->spotipy) (2021.10.8)\n",
      "Requirement already satisfied: charset-normalizer~=2.0.0 in /Users/maria/opt/anaconda3/lib/python3.9/site-packages (from requests>=2.25.0->spotipy) (2.0.4)\n",
      "Requirement already satisfied: idna<4,>=2.5 in /Users/maria/opt/anaconda3/lib/python3.9/site-packages (from requests>=2.25.0->spotipy) (3.3)\n",
      "Note: you may need to restart the kernel to use updated packages.\n"
     ]
    }
   ],
   "source": [
    "pip install spotipy --upgrade"
   ]
  },
  {
   "cell_type": "code",
   "execution_count": 2,
   "id": "c0b94263",
   "metadata": {
    "scrolled": false
   },
   "outputs": [
    {
     "name": "stdout",
     "output_type": "stream",
     "text": [
      "Requirement already satisfied: clipboard in /Users/maria/opt/anaconda3/lib/python3.9/site-packages (0.0.4)\n",
      "Requirement already satisfied: pyperclip>=1.3 in /Users/maria/opt/anaconda3/lib/python3.9/site-packages (from clipboard) (1.8.2)\n",
      "Note: you may need to restart the kernel to use updated packages.\n"
     ]
    }
   ],
   "source": [
    "pip install clipboard"
   ]
  },
  {
   "cell_type": "code",
   "execution_count": 3,
   "id": "ee110b45",
   "metadata": {},
   "outputs": [
    {
     "name": "stdout",
     "output_type": "stream",
     "text": [
      "Requirement already satisfied: tqdm in /Users/maria/opt/anaconda3/lib/python3.9/site-packages (4.64.0)\n",
      "Note: you may need to restart the kernel to use updated packages.\n"
     ]
    }
   ],
   "source": [
    "%pip install tqdm"
   ]
  },
  {
   "cell_type": "code",
   "execution_count": 4,
   "id": "c56f8d84",
   "metadata": {},
   "outputs": [],
   "source": [
    "import pandas as pd\n",
    "import spotipy as sp\n",
    "from spotipy.oauth2 import SpotifyClientCredentials\n",
    "import clipboard\n",
    "from tqdm.notebook import tqdm"
   ]
  },
  {
   "cell_type": "code",
   "execution_count": 5,
   "id": "b365aff7",
   "metadata": {},
   "outputs": [],
   "source": [
    "auth_manager = SpotifyClientCredentials('a73d30556eba483fa2f6901678510692', '96937d6cdfe94f87944e79a475e9d679')\n",
    "sp = sp.Spotify(auth_manager=auth_manager)"
   ]
  },
  {
   "cell_type": "code",
   "execution_count": 6,
   "id": "0e22da97",
   "metadata": {
    "scrolled": false
   },
   "outputs": [
    {
     "data": {
      "text/plain": [
       "[{'danceability': 0.609,\n",
       "  'energy': 0.444,\n",
       "  'key': 7,\n",
       "  'loudness': -9.129,\n",
       "  'mode': 1,\n",
       "  'speechiness': 0.106,\n",
       "  'acousticness': 0.603,\n",
       "  'instrumentalness': 6.86e-06,\n",
       "  'liveness': 0.104,\n",
       "  'valence': 0.166,\n",
       "  'tempo': 118.402,\n",
       "  'type': 'audio_features',\n",
       "  'id': '3XVBdLihbNbxUwZosxcGuJ',\n",
       "  'uri': 'spotify:track:3XVBdLihbNbxUwZosxcGuJ',\n",
       "  'track_href': 'https://api.spotify.com/v1/tracks/3XVBdLihbNbxUwZosxcGuJ',\n",
       "  'analysis_url': 'https://api.spotify.com/v1/audio-analysis/3XVBdLihbNbxUwZosxcGuJ',\n",
       "  'duration_ms': 228707,\n",
       "  'time_signature': 3}]"
      ]
     },
     "execution_count": 6,
     "metadata": {},
     "output_type": "execute_result"
    }
   ],
   "source": [
    "sp.audio_features('https://open.spotify.com/track/3XVBdLihbNbxUwZosxcGuJ?si=4cdf178a4f9f4561')"
   ]
  },
  {
   "cell_type": "markdown",
   "id": "efab7403",
   "metadata": {},
   "source": [
    "# Scrapeo de los links de las canciones"
   ]
  },
  {
   "cell_type": "markdown",
   "id": "d5f98633",
   "metadata": {},
   "source": [
    "Para poder utilizar la API de Spotify necesitas conocer la URL de las canciones que quieres scrapear, como solo contamos con el nombre del artista y de la canción, necesitamos escrapear spotify para obtener el link de las canciones."
   ]
  },
  {
   "cell_type": "code",
   "execution_count": 7,
   "id": "bba61ee5",
   "metadata": {},
   "outputs": [
    {
     "name": "stdout",
     "output_type": "stream",
     "text": [
      "Requirement already satisfied: joblib in /Users/maria/opt/anaconda3/lib/python3.9/site-packages (1.1.0)\n",
      "Note: you may need to restart the kernel to use updated packages.\n"
     ]
    }
   ],
   "source": [
    "%pip install joblib"
   ]
  },
  {
   "cell_type": "code",
   "execution_count": 8,
   "id": "9a56a0ab",
   "metadata": {},
   "outputs": [],
   "source": [
    "from joblib import Parallel, delayed"
   ]
  },
  {
   "cell_type": "code",
   "execution_count": 9,
   "id": "e3a056ff",
   "metadata": {},
   "outputs": [
    {
     "name": "stderr",
     "output_type": "stream",
     "text": [
      "[WDM] - Downloading: 100%|█████████████████| 8.61M/8.61M [00:04<00:00, 2.08MB/s]\n"
     ]
    }
   ],
   "source": [
    "from selenium import webdriver\n",
    "from selenium.webdriver.common.by import By\n",
    "import time\n",
    "from webdriver_manager.chrome import ChromeDriverManager\n",
    "PATH=ChromeDriverManager().install()"
   ]
  },
  {
   "cell_type": "code",
   "execution_count": 10,
   "id": "3d666f8f",
   "metadata": {},
   "outputs": [],
   "source": [
    "music0 = pd.read_json('../../proyecto_final/data/mydataspotify/StreamingHistory0.json')"
   ]
  },
  {
   "cell_type": "code",
   "execution_count": 11,
   "id": "72676e91",
   "metadata": {},
   "outputs": [],
   "source": [
    "music1 = pd.read_json('../../proyecto_final/data/mydataspotify/StreamingHistory1.json')"
   ]
  },
  {
   "cell_type": "code",
   "execution_count": 12,
   "id": "f8bab765",
   "metadata": {},
   "outputs": [],
   "source": [
    "music = pd.concat([music0, music1], axis=0)"
   ]
  },
  {
   "cell_type": "code",
   "execution_count": 13,
   "id": "e08dbdf1",
   "metadata": {},
   "outputs": [],
   "source": [
    "music.to_csv('../../proyecto_final/data/mydataspotify/CompleteStreamingHistory.csv', index=False)"
   ]
  },
  {
   "cell_type": "code",
   "execution_count": 14,
   "id": "0b8b44a1",
   "metadata": {},
   "outputs": [],
   "source": [
    "pep=[]"
   ]
  },
  {
   "cell_type": "code",
   "execution_count": 15,
   "id": "7b2ece87",
   "metadata": {},
   "outputs": [],
   "source": [
    "url='https://open.spotify.com/search/Elephant%20Tame%20Impala'"
   ]
  },
  {
   "cell_type": "code",
   "execution_count": 16,
   "id": "a6d177d9",
   "metadata": {
    "scrolled": true
   },
   "outputs": [
    {
     "data": {
      "text/html": [
       "<div>\n",
       "<style scoped>\n",
       "    .dataframe tbody tr th:only-of-type {\n",
       "        vertical-align: middle;\n",
       "    }\n",
       "\n",
       "    .dataframe tbody tr th {\n",
       "        vertical-align: top;\n",
       "    }\n",
       "\n",
       "    .dataframe thead th {\n",
       "        text-align: right;\n",
       "    }\n",
       "</style>\n",
       "<table border=\"1\" class=\"dataframe\">\n",
       "  <thead>\n",
       "    <tr style=\"text-align: right;\">\n",
       "      <th></th>\n",
       "      <th>endTime</th>\n",
       "      <th>artistName</th>\n",
       "      <th>trackName</th>\n",
       "      <th>msPlayed</th>\n",
       "    </tr>\n",
       "  </thead>\n",
       "  <tbody>\n",
       "    <tr>\n",
       "      <th>0</th>\n",
       "      <td>2021-11-12 15:22</td>\n",
       "      <td>Myke Towers</td>\n",
       "      <td>Experimento</td>\n",
       "      <td>106394</td>\n",
       "    </tr>\n",
       "    <tr>\n",
       "      <th>1</th>\n",
       "      <td>2021-11-13 08:53</td>\n",
       "      <td>Tame Impala</td>\n",
       "      <td>The Less I Know The Better</td>\n",
       "      <td>3712</td>\n",
       "    </tr>\n",
       "    <tr>\n",
       "      <th>2</th>\n",
       "      <td>2021-11-13 08:56</td>\n",
       "      <td>Tame Impala</td>\n",
       "      <td>The Less I Know The Better</td>\n",
       "      <td>213141</td>\n",
       "    </tr>\n",
       "    <tr>\n",
       "      <th>3</th>\n",
       "      <td>2021-11-13 09:33</td>\n",
       "      <td>Goth Babe</td>\n",
       "      <td>Canary Islands</td>\n",
       "      <td>3904</td>\n",
       "    </tr>\n",
       "    <tr>\n",
       "      <th>4</th>\n",
       "      <td>2021-11-13 09:36</td>\n",
       "      <td>Goth Babe</td>\n",
       "      <td>Canary Islands</td>\n",
       "      <td>201042</td>\n",
       "    </tr>\n",
       "  </tbody>\n",
       "</table>\n",
       "</div>"
      ],
      "text/plain": [
       "            endTime   artistName                   trackName  msPlayed\n",
       "0  2021-11-12 15:22  Myke Towers                 Experimento    106394\n",
       "1  2021-11-13 08:53  Tame Impala  The Less I Know The Better      3712\n",
       "2  2021-11-13 08:56  Tame Impala  The Less I Know The Better    213141\n",
       "3  2021-11-13 09:33    Goth Babe              Canary Islands      3904\n",
       "4  2021-11-13 09:36    Goth Babe              Canary Islands    201042"
      ]
     },
     "execution_count": 16,
     "metadata": {},
     "output_type": "execute_result"
    }
   ],
   "source": [
    "music.head()"
   ]
  },
  {
   "cell_type": "code",
   "execution_count": 17,
   "id": "97ffa8b8",
   "metadata": {
    "scrolled": true
   },
   "outputs": [],
   "source": [
    "df = music"
   ]
  },
  {
   "cell_type": "code",
   "execution_count": 18,
   "id": "c5c4fb4d",
   "metadata": {},
   "outputs": [],
   "source": [
    "df.drop_duplicates(subset='trackName', ignore_index=True, inplace=True)"
   ]
  },
  {
   "cell_type": "code",
   "execution_count": 19,
   "id": "b4bc6980",
   "metadata": {
    "scrolled": true
   },
   "outputs": [
    {
     "data": {
      "text/html": [
       "<div>\n",
       "<style scoped>\n",
       "    .dataframe tbody tr th:only-of-type {\n",
       "        vertical-align: middle;\n",
       "    }\n",
       "\n",
       "    .dataframe tbody tr th {\n",
       "        vertical-align: top;\n",
       "    }\n",
       "\n",
       "    .dataframe thead th {\n",
       "        text-align: right;\n",
       "    }\n",
       "</style>\n",
       "<table border=\"1\" class=\"dataframe\">\n",
       "  <thead>\n",
       "    <tr style=\"text-align: right;\">\n",
       "      <th></th>\n",
       "      <th>artistName</th>\n",
       "      <th>trackName</th>\n",
       "    </tr>\n",
       "  </thead>\n",
       "  <tbody>\n",
       "    <tr>\n",
       "      <th>0</th>\n",
       "      <td>Myke Towers</td>\n",
       "      <td>Experimento</td>\n",
       "    </tr>\n",
       "    <tr>\n",
       "      <th>1</th>\n",
       "      <td>Tame Impala</td>\n",
       "      <td>The Less I Know The Better</td>\n",
       "    </tr>\n",
       "    <tr>\n",
       "      <th>2</th>\n",
       "      <td>Goth Babe</td>\n",
       "      <td>Canary Islands</td>\n",
       "    </tr>\n",
       "    <tr>\n",
       "      <th>3</th>\n",
       "      <td>Steve Lacy</td>\n",
       "      <td>Some</td>\n",
       "    </tr>\n",
       "    <tr>\n",
       "      <th>4</th>\n",
       "      <td>Tame Impala</td>\n",
       "      <td>Feels Like We Only Go Backwards</td>\n",
       "    </tr>\n",
       "  </tbody>\n",
       "</table>\n",
       "</div>"
      ],
      "text/plain": [
       "    artistName                        trackName\n",
       "0  Myke Towers                      Experimento\n",
       "1  Tame Impala       The Less I Know The Better\n",
       "2    Goth Babe                   Canary Islands\n",
       "3   Steve Lacy                             Some\n",
       "4  Tame Impala  Feels Like We Only Go Backwards"
      ]
     },
     "execution_count": 19,
     "metadata": {},
     "output_type": "execute_result"
    }
   ],
   "source": [
    "df.drop(columns=['endTime','msPlayed']).head()"
   ]
  },
  {
   "cell_type": "code",
   "execution_count": 20,
   "id": "51d4a78c",
   "metadata": {},
   "outputs": [],
   "source": [
    "df['search'] = df['trackName'] + ' ' + df['artistName']"
   ]
  },
  {
   "cell_type": "code",
   "execution_count": 21,
   "id": "86da177c",
   "metadata": {},
   "outputs": [],
   "source": [
    "df['search'] = df.search.str.replace(' ','%20')"
   ]
  },
  {
   "cell_type": "code",
   "execution_count": 22,
   "id": "e7f46dc9",
   "metadata": {
    "scrolled": true
   },
   "outputs": [
    {
     "data": {
      "text/html": [
       "<div>\n",
       "<style scoped>\n",
       "    .dataframe tbody tr th:only-of-type {\n",
       "        vertical-align: middle;\n",
       "    }\n",
       "\n",
       "    .dataframe tbody tr th {\n",
       "        vertical-align: top;\n",
       "    }\n",
       "\n",
       "    .dataframe thead th {\n",
       "        text-align: right;\n",
       "    }\n",
       "</style>\n",
       "<table border=\"1\" class=\"dataframe\">\n",
       "  <thead>\n",
       "    <tr style=\"text-align: right;\">\n",
       "      <th></th>\n",
       "      <th>endTime</th>\n",
       "      <th>artistName</th>\n",
       "      <th>trackName</th>\n",
       "      <th>msPlayed</th>\n",
       "      <th>search</th>\n",
       "    </tr>\n",
       "  </thead>\n",
       "  <tbody>\n",
       "    <tr>\n",
       "      <th>0</th>\n",
       "      <td>2021-11-12 15:22</td>\n",
       "      <td>Myke Towers</td>\n",
       "      <td>Experimento</td>\n",
       "      <td>106394</td>\n",
       "      <td>Experimento%20Myke%20Towers</td>\n",
       "    </tr>\n",
       "    <tr>\n",
       "      <th>1</th>\n",
       "      <td>2021-11-13 08:53</td>\n",
       "      <td>Tame Impala</td>\n",
       "      <td>The Less I Know The Better</td>\n",
       "      <td>3712</td>\n",
       "      <td>The%20Less%20I%20Know%20The%20Better%20Tame%20...</td>\n",
       "    </tr>\n",
       "    <tr>\n",
       "      <th>2</th>\n",
       "      <td>2021-11-13 09:33</td>\n",
       "      <td>Goth Babe</td>\n",
       "      <td>Canary Islands</td>\n",
       "      <td>3904</td>\n",
       "      <td>Canary%20Islands%20Goth%20Babe</td>\n",
       "    </tr>\n",
       "    <tr>\n",
       "      <th>3</th>\n",
       "      <td>2021-11-13 09:38</td>\n",
       "      <td>Steve Lacy</td>\n",
       "      <td>Some</td>\n",
       "      <td>118393</td>\n",
       "      <td>Some%20Steve%20Lacy</td>\n",
       "    </tr>\n",
       "    <tr>\n",
       "      <th>4</th>\n",
       "      <td>2021-11-13 09:41</td>\n",
       "      <td>Tame Impala</td>\n",
       "      <td>Feels Like We Only Go Backwards</td>\n",
       "      <td>192960</td>\n",
       "      <td>Feels%20Like%20We%20Only%20Go%20Backwards%20Ta...</td>\n",
       "    </tr>\n",
       "  </tbody>\n",
       "</table>\n",
       "</div>"
      ],
      "text/plain": [
       "            endTime   artistName                        trackName  msPlayed  \\\n",
       "0  2021-11-12 15:22  Myke Towers                      Experimento    106394   \n",
       "1  2021-11-13 08:53  Tame Impala       The Less I Know The Better      3712   \n",
       "2  2021-11-13 09:33    Goth Babe                   Canary Islands      3904   \n",
       "3  2021-11-13 09:38   Steve Lacy                             Some    118393   \n",
       "4  2021-11-13 09:41  Tame Impala  Feels Like We Only Go Backwards    192960   \n",
       "\n",
       "                                              search  \n",
       "0                        Experimento%20Myke%20Towers  \n",
       "1  The%20Less%20I%20Know%20The%20Better%20Tame%20...  \n",
       "2                     Canary%20Islands%20Goth%20Babe  \n",
       "3                                Some%20Steve%20Lacy  \n",
       "4  Feels%20Like%20We%20Only%20Go%20Backwards%20Ta...  "
      ]
     },
     "execution_count": 22,
     "metadata": {},
     "output_type": "execute_result"
    }
   ],
   "source": [
    "df.head()"
   ]
  },
  {
   "cell_type": "code",
   "execution_count": 23,
   "id": "9c6f2024",
   "metadata": {},
   "outputs": [],
   "source": [
    "df['search'] = 'https://open.spotify.com/search/' + df['search']"
   ]
  },
  {
   "cell_type": "code",
   "execution_count": 24,
   "id": "04ffa004",
   "metadata": {
    "scrolled": true
   },
   "outputs": [
    {
     "data": {
      "text/html": [
       "<div>\n",
       "<style scoped>\n",
       "    .dataframe tbody tr th:only-of-type {\n",
       "        vertical-align: middle;\n",
       "    }\n",
       "\n",
       "    .dataframe tbody tr th {\n",
       "        vertical-align: top;\n",
       "    }\n",
       "\n",
       "    .dataframe thead th {\n",
       "        text-align: right;\n",
       "    }\n",
       "</style>\n",
       "<table border=\"1\" class=\"dataframe\">\n",
       "  <thead>\n",
       "    <tr style=\"text-align: right;\">\n",
       "      <th></th>\n",
       "      <th>endTime</th>\n",
       "      <th>artistName</th>\n",
       "      <th>trackName</th>\n",
       "      <th>msPlayed</th>\n",
       "      <th>search</th>\n",
       "    </tr>\n",
       "  </thead>\n",
       "  <tbody>\n",
       "    <tr>\n",
       "      <th>0</th>\n",
       "      <td>2021-11-12 15:22</td>\n",
       "      <td>Myke Towers</td>\n",
       "      <td>Experimento</td>\n",
       "      <td>106394</td>\n",
       "      <td>https://open.spotify.com/search/Experimento%20...</td>\n",
       "    </tr>\n",
       "    <tr>\n",
       "      <th>1</th>\n",
       "      <td>2021-11-13 08:53</td>\n",
       "      <td>Tame Impala</td>\n",
       "      <td>The Less I Know The Better</td>\n",
       "      <td>3712</td>\n",
       "      <td>https://open.spotify.com/search/The%20Less%20I...</td>\n",
       "    </tr>\n",
       "    <tr>\n",
       "      <th>2</th>\n",
       "      <td>2021-11-13 09:33</td>\n",
       "      <td>Goth Babe</td>\n",
       "      <td>Canary Islands</td>\n",
       "      <td>3904</td>\n",
       "      <td>https://open.spotify.com/search/Canary%20Islan...</td>\n",
       "    </tr>\n",
       "    <tr>\n",
       "      <th>3</th>\n",
       "      <td>2021-11-13 09:38</td>\n",
       "      <td>Steve Lacy</td>\n",
       "      <td>Some</td>\n",
       "      <td>118393</td>\n",
       "      <td>https://open.spotify.com/search/Some%20Steve%2...</td>\n",
       "    </tr>\n",
       "    <tr>\n",
       "      <th>4</th>\n",
       "      <td>2021-11-13 09:41</td>\n",
       "      <td>Tame Impala</td>\n",
       "      <td>Feels Like We Only Go Backwards</td>\n",
       "      <td>192960</td>\n",
       "      <td>https://open.spotify.com/search/Feels%20Like%2...</td>\n",
       "    </tr>\n",
       "  </tbody>\n",
       "</table>\n",
       "</div>"
      ],
      "text/plain": [
       "            endTime   artistName                        trackName  msPlayed  \\\n",
       "0  2021-11-12 15:22  Myke Towers                      Experimento    106394   \n",
       "1  2021-11-13 08:53  Tame Impala       The Less I Know The Better      3712   \n",
       "2  2021-11-13 09:33    Goth Babe                   Canary Islands      3904   \n",
       "3  2021-11-13 09:38   Steve Lacy                             Some    118393   \n",
       "4  2021-11-13 09:41  Tame Impala  Feels Like We Only Go Backwards    192960   \n",
       "\n",
       "                                              search  \n",
       "0  https://open.spotify.com/search/Experimento%20...  \n",
       "1  https://open.spotify.com/search/The%20Less%20I...  \n",
       "2  https://open.spotify.com/search/Canary%20Islan...  \n",
       "3  https://open.spotify.com/search/Some%20Steve%2...  \n",
       "4  https://open.spotify.com/search/Feels%20Like%2...  "
      ]
     },
     "execution_count": 24,
     "metadata": {},
     "output_type": "execute_result"
    }
   ],
   "source": [
    "df.head()"
   ]
  },
  {
   "cell_type": "code",
   "execution_count": 25,
   "id": "60d43519",
   "metadata": {},
   "outputs": [],
   "source": [
    "uri=[]"
   ]
  },
  {
   "cell_type": "code",
   "execution_count": 47,
   "id": "87114206",
   "metadata": {
    "scrolled": true
   },
   "outputs": [
    {
     "data": {
      "application/vnd.jupyter.widget-view+json": {
       "model_id": "1f6f7fec78ba4d35a87501932307aed0",
       "version_major": 2,
       "version_minor": 0
      },
      "text/plain": [
       "  0%|          | 0/80 [00:00<?, ?it/s]"
      ]
     },
     "metadata": {},
     "output_type": "display_data"
    },
    {
     "name": "stderr",
     "output_type": "stream",
     "text": [
      "/var/folders/s4/79ykyqjn7f16bdl_zqjgsbzh0000gp/T/ipykernel_14170/100902511.py:4: DeprecationWarning: executable_path has been deprecated, please pass in a Service object\n",
      "  driver=webdriver.Chrome(PATH)\n"
     ]
    },
    {
     "name": "stdout",
     "output_type": "stream",
     "text": [
      "error 0\n",
      "no anuncio\n",
      "error 2\n",
      "error 3\n",
      "error 4\n",
      "todo OK\n",
      "clipboard.paste()\n"
     ]
    },
    {
     "name": "stderr",
     "output_type": "stream",
     "text": [
      "/var/folders/s4/79ykyqjn7f16bdl_zqjgsbzh0000gp/T/ipykernel_14170/100902511.py:4: DeprecationWarning: executable_path has been deprecated, please pass in a Service object\n",
      "  driver=webdriver.Chrome(PATH)\n"
     ]
    },
    {
     "name": "stdout",
     "output_type": "stream",
     "text": [
      "error 4\n",
      "todo OK\n",
      "clipboard.paste()\n"
     ]
    },
    {
     "name": "stderr",
     "output_type": "stream",
     "text": [
      "/var/folders/s4/79ykyqjn7f16bdl_zqjgsbzh0000gp/T/ipykernel_14170/100902511.py:4: DeprecationWarning: executable_path has been deprecated, please pass in a Service object\n",
      "  driver=webdriver.Chrome(PATH)\n"
     ]
    },
    {
     "name": "stdout",
     "output_type": "stream",
     "text": [
      "no anuncio\n",
      "todo OK\n",
      "https://open.spotify.com/track/2FafQK71iOZd1nOiz8ge2U?si=a2e4e80ac19c4482\n"
     ]
    },
    {
     "name": "stderr",
     "output_type": "stream",
     "text": [
      "/var/folders/s4/79ykyqjn7f16bdl_zqjgsbzh0000gp/T/ipykernel_14170/100902511.py:4: DeprecationWarning: executable_path has been deprecated, please pass in a Service object\n",
      "  driver=webdriver.Chrome(PATH)\n"
     ]
    },
    {
     "name": "stdout",
     "output_type": "stream",
     "text": [
      "no anuncio\n",
      "todo OK\n",
      "https://open.spotify.com/track/6syVXJ8MF5axHLZ6A1TGMn?si=e28d4a9873a64453\n"
     ]
    },
    {
     "name": "stderr",
     "output_type": "stream",
     "text": [
      "/var/folders/s4/79ykyqjn7f16bdl_zqjgsbzh0000gp/T/ipykernel_14170/100902511.py:4: DeprecationWarning: executable_path has been deprecated, please pass in a Service object\n",
      "  driver=webdriver.Chrome(PATH)\n"
     ]
    },
    {
     "name": "stdout",
     "output_type": "stream",
     "text": [
      "no anuncio\n",
      "todo OK\n",
      "https://open.spotify.com/track/3ieBy1I9Kxf5yJsBid2O6s?si=2f7e674cb7dc4067\n"
     ]
    },
    {
     "name": "stderr",
     "output_type": "stream",
     "text": [
      "/var/folders/s4/79ykyqjn7f16bdl_zqjgsbzh0000gp/T/ipykernel_14170/100902511.py:4: DeprecationWarning: executable_path has been deprecated, please pass in a Service object\n",
      "  driver=webdriver.Chrome(PATH)\n"
     ]
    },
    {
     "name": "stdout",
     "output_type": "stream",
     "text": [
      "no anuncio\n",
      "todo OK\n",
      "https://open.spotify.com/track/1d25M6kPDtSktdks4rMa35?si=1850aa596d6b4e55\n"
     ]
    },
    {
     "name": "stderr",
     "output_type": "stream",
     "text": [
      "/var/folders/s4/79ykyqjn7f16bdl_zqjgsbzh0000gp/T/ipykernel_14170/100902511.py:4: DeprecationWarning: executable_path has been deprecated, please pass in a Service object\n",
      "  driver=webdriver.Chrome(PATH)\n"
     ]
    },
    {
     "name": "stdout",
     "output_type": "stream",
     "text": [
      "todo OK\n",
      "https://open.spotify.com/track/1SkD2f6MnxMTPzLJ6ljRlx?si=4facc96e44904be1\n"
     ]
    },
    {
     "name": "stderr",
     "output_type": "stream",
     "text": [
      "/var/folders/s4/79ykyqjn7f16bdl_zqjgsbzh0000gp/T/ipykernel_14170/100902511.py:4: DeprecationWarning: executable_path has been deprecated, please pass in a Service object\n",
      "  driver=webdriver.Chrome(PATH)\n"
     ]
    },
    {
     "name": "stdout",
     "output_type": "stream",
     "text": [
      "no anuncio\n",
      "todo OK\n",
      "https://open.spotify.com/track/1DOgkaR5Gqa8JtPEIbQORC?si=48d084f07291489f\n"
     ]
    },
    {
     "name": "stderr",
     "output_type": "stream",
     "text": [
      "/var/folders/s4/79ykyqjn7f16bdl_zqjgsbzh0000gp/T/ipykernel_14170/100902511.py:4: DeprecationWarning: executable_path has been deprecated, please pass in a Service object\n",
      "  driver=webdriver.Chrome(PATH)\n"
     ]
    },
    {
     "name": "stdout",
     "output_type": "stream",
     "text": [
      "todo OK\n",
      "https://open.spotify.com/track/1Oi2zpmL81Q0yScF1zxaC0?si=c6fb3dabbdab4cec\n"
     ]
    },
    {
     "name": "stderr",
     "output_type": "stream",
     "text": [
      "/var/folders/s4/79ykyqjn7f16bdl_zqjgsbzh0000gp/T/ipykernel_14170/100902511.py:4: DeprecationWarning: executable_path has been deprecated, please pass in a Service object\n",
      "  driver=webdriver.Chrome(PATH)\n"
     ]
    },
    {
     "name": "stdout",
     "output_type": "stream",
     "text": [
      "no anuncio\n",
      "error 4\n",
      "todo OK\n",
      "https://open.spotify.com/track/1Oi2zpmL81Q0yScF1zxaC0?si=c6fb3dabbdab4cec\n"
     ]
    },
    {
     "name": "stderr",
     "output_type": "stream",
     "text": [
      "/var/folders/s4/79ykyqjn7f16bdl_zqjgsbzh0000gp/T/ipykernel_14170/100902511.py:4: DeprecationWarning: executable_path has been deprecated, please pass in a Service object\n",
      "  driver=webdriver.Chrome(PATH)\n"
     ]
    },
    {
     "name": "stdout",
     "output_type": "stream",
     "text": [
      "no anuncio\n",
      "error 4\n",
      "todo OK\n",
      "https://open.spotify.com/track/1Oi2zpmL81Q0yScF1zxaC0?si=c6fb3dabbdab4cec\n"
     ]
    },
    {
     "name": "stderr",
     "output_type": "stream",
     "text": [
      "/var/folders/s4/79ykyqjn7f16bdl_zqjgsbzh0000gp/T/ipykernel_14170/100902511.py:4: DeprecationWarning: executable_path has been deprecated, please pass in a Service object\n",
      "  driver=webdriver.Chrome(PATH)\n"
     ]
    },
    {
     "name": "stdout",
     "output_type": "stream",
     "text": [
      "error 4\n",
      "todo OK\n",
      "https://open.spotify.com/track/1Oi2zpmL81Q0yScF1zxaC0?si=c6fb3dabbdab4cec\n"
     ]
    },
    {
     "name": "stderr",
     "output_type": "stream",
     "text": [
      "/var/folders/s4/79ykyqjn7f16bdl_zqjgsbzh0000gp/T/ipykernel_14170/100902511.py:4: DeprecationWarning: executable_path has been deprecated, please pass in a Service object\n",
      "  driver=webdriver.Chrome(PATH)\n"
     ]
    },
    {
     "name": "stdout",
     "output_type": "stream",
     "text": [
      "todo OK\n",
      "https://open.spotify.com/track/6zueMZGDJW6r26cG6zlnft?si=74de63955cc5426f\n"
     ]
    },
    {
     "name": "stderr",
     "output_type": "stream",
     "text": [
      "/var/folders/s4/79ykyqjn7f16bdl_zqjgsbzh0000gp/T/ipykernel_14170/100902511.py:4: DeprecationWarning: executable_path has been deprecated, please pass in a Service object\n",
      "  driver=webdriver.Chrome(PATH)\n"
     ]
    },
    {
     "name": "stdout",
     "output_type": "stream",
     "text": [
      "no anuncio\n",
      "todo OK\n",
      "https://open.spotify.com/track/5EmLnaMopRAzdvMVTyPovM?si=848c0f8d2ae64a3d\n"
     ]
    },
    {
     "name": "stderr",
     "output_type": "stream",
     "text": [
      "/var/folders/s4/79ykyqjn7f16bdl_zqjgsbzh0000gp/T/ipykernel_14170/100902511.py:4: DeprecationWarning: executable_path has been deprecated, please pass in a Service object\n",
      "  driver=webdriver.Chrome(PATH)\n"
     ]
    },
    {
     "name": "stdout",
     "output_type": "stream",
     "text": [
      "no anuncio\n",
      "todo OK\n",
      "https://open.spotify.com/track/2oVYnyDY1NA9SmJrxXhyWd?si=86ff5cf3f91f49a6\n"
     ]
    },
    {
     "name": "stderr",
     "output_type": "stream",
     "text": [
      "/var/folders/s4/79ykyqjn7f16bdl_zqjgsbzh0000gp/T/ipykernel_14170/100902511.py:4: DeprecationWarning: executable_path has been deprecated, please pass in a Service object\n",
      "  driver=webdriver.Chrome(PATH)\n"
     ]
    },
    {
     "name": "stdout",
     "output_type": "stream",
     "text": [
      "no anuncio\n",
      "error 4\n",
      "todo OK\n",
      "https://open.spotify.com/track/2oVYnyDY1NA9SmJrxXhyWd?si=86ff5cf3f91f49a6\n"
     ]
    },
    {
     "name": "stderr",
     "output_type": "stream",
     "text": [
      "/var/folders/s4/79ykyqjn7f16bdl_zqjgsbzh0000gp/T/ipykernel_14170/100902511.py:4: DeprecationWarning: executable_path has been deprecated, please pass in a Service object\n",
      "  driver=webdriver.Chrome(PATH)\n"
     ]
    },
    {
     "name": "stdout",
     "output_type": "stream",
     "text": [
      "no anuncio\n",
      "todo OK\n",
      "https://open.spotify.com/track/3IqlVU6AunWVMcGmfgiDLF?si=7d99b0db44024546\n"
     ]
    },
    {
     "name": "stderr",
     "output_type": "stream",
     "text": [
      "/var/folders/s4/79ykyqjn7f16bdl_zqjgsbzh0000gp/T/ipykernel_14170/100902511.py:4: DeprecationWarning: executable_path has been deprecated, please pass in a Service object\n",
      "  driver=webdriver.Chrome(PATH)\n"
     ]
    },
    {
     "name": "stdout",
     "output_type": "stream",
     "text": [
      "no anuncio\n",
      "todo OK\n",
      "https://open.spotify.com/track/2xVrFCODKe7cGjc8nkOINq?si=03ff162ca23843e4\n"
     ]
    },
    {
     "name": "stderr",
     "output_type": "stream",
     "text": [
      "/var/folders/s4/79ykyqjn7f16bdl_zqjgsbzh0000gp/T/ipykernel_14170/100902511.py:4: DeprecationWarning: executable_path has been deprecated, please pass in a Service object\n",
      "  driver=webdriver.Chrome(PATH)\n"
     ]
    },
    {
     "name": "stdout",
     "output_type": "stream",
     "text": [
      "no anuncio\n",
      "todo OK\n",
      "https://open.spotify.com/track/42fEi9btF7pTboFbvm36ZF?si=afdf20d269d24128\n"
     ]
    },
    {
     "name": "stderr",
     "output_type": "stream",
     "text": [
      "/var/folders/s4/79ykyqjn7f16bdl_zqjgsbzh0000gp/T/ipykernel_14170/100902511.py:4: DeprecationWarning: executable_path has been deprecated, please pass in a Service object\n",
      "  driver=webdriver.Chrome(PATH)\n"
     ]
    },
    {
     "name": "stdout",
     "output_type": "stream",
     "text": [
      "no anuncio\n",
      "error 4\n",
      "todo OK\n",
      "https://open.spotify.com/track/42fEi9btF7pTboFbvm36ZF?si=afdf20d269d24128\n"
     ]
    },
    {
     "name": "stderr",
     "output_type": "stream",
     "text": [
      "/var/folders/s4/79ykyqjn7f16bdl_zqjgsbzh0000gp/T/ipykernel_14170/100902511.py:4: DeprecationWarning: executable_path has been deprecated, please pass in a Service object\n",
      "  driver=webdriver.Chrome(PATH)\n"
     ]
    },
    {
     "name": "stdout",
     "output_type": "stream",
     "text": [
      "no anuncio\n",
      "todo OK\n",
      "https://open.spotify.com/track/575TV9YEnYo7bVLa0sveRn?si=d5ca94b5567c4ecb\n"
     ]
    },
    {
     "name": "stderr",
     "output_type": "stream",
     "text": [
      "/var/folders/s4/79ykyqjn7f16bdl_zqjgsbzh0000gp/T/ipykernel_14170/100902511.py:4: DeprecationWarning: executable_path has been deprecated, please pass in a Service object\n",
      "  driver=webdriver.Chrome(PATH)\n"
     ]
    },
    {
     "name": "stdout",
     "output_type": "stream",
     "text": [
      "no anuncio\n",
      "error 4\n",
      "todo OK\n",
      "https://open.spotify.com/track/575TV9YEnYo7bVLa0sveRn?si=d5ca94b5567c4ecb\n"
     ]
    },
    {
     "name": "stderr",
     "output_type": "stream",
     "text": [
      "/var/folders/s4/79ykyqjn7f16bdl_zqjgsbzh0000gp/T/ipykernel_14170/100902511.py:4: DeprecationWarning: executable_path has been deprecated, please pass in a Service object\n",
      "  driver=webdriver.Chrome(PATH)\n"
     ]
    },
    {
     "name": "stdout",
     "output_type": "stream",
     "text": [
      "no anuncio\n",
      "todo OK\n",
      "https://open.spotify.com/track/4NQCnecu3hdoRSWH883bju?si=473b97135ff04e1b\n"
     ]
    },
    {
     "name": "stderr",
     "output_type": "stream",
     "text": [
      "/var/folders/s4/79ykyqjn7f16bdl_zqjgsbzh0000gp/T/ipykernel_14170/100902511.py:4: DeprecationWarning: executable_path has been deprecated, please pass in a Service object\n",
      "  driver=webdriver.Chrome(PATH)\n"
     ]
    },
    {
     "name": "stdout",
     "output_type": "stream",
     "text": [
      "no anuncio\n",
      "todo OK\n",
      "https://open.spotify.com/track/1Yw9hi4DLI5X5WaJbXNoYc?si=8d8e5274e2b24da3\n"
     ]
    },
    {
     "name": "stderr",
     "output_type": "stream",
     "text": [
      "/var/folders/s4/79ykyqjn7f16bdl_zqjgsbzh0000gp/T/ipykernel_14170/100902511.py:4: DeprecationWarning: executable_path has been deprecated, please pass in a Service object\n",
      "  driver=webdriver.Chrome(PATH)\n"
     ]
    },
    {
     "name": "stdout",
     "output_type": "stream",
     "text": [
      "no anuncio\n",
      "todo OK\n",
      "https://open.spotify.com/track/09wIlgp2ovcAj2qZFx5bJd?si=0eff226345a64058\n"
     ]
    },
    {
     "name": "stderr",
     "output_type": "stream",
     "text": [
      "/var/folders/s4/79ykyqjn7f16bdl_zqjgsbzh0000gp/T/ipykernel_14170/100902511.py:4: DeprecationWarning: executable_path has been deprecated, please pass in a Service object\n",
      "  driver=webdriver.Chrome(PATH)\n"
     ]
    },
    {
     "name": "stdout",
     "output_type": "stream",
     "text": [
      "no anuncio\n",
      "todo OK\n",
      "https://open.spotify.com/track/4yJiXe9Rpjt0IskmpXYgYo?si=1637c6c8de984370\n"
     ]
    },
    {
     "name": "stderr",
     "output_type": "stream",
     "text": [
      "/var/folders/s4/79ykyqjn7f16bdl_zqjgsbzh0000gp/T/ipykernel_14170/100902511.py:4: DeprecationWarning: executable_path has been deprecated, please pass in a Service object\n",
      "  driver=webdriver.Chrome(PATH)\n"
     ]
    },
    {
     "name": "stdout",
     "output_type": "stream",
     "text": [
      "no anuncio\n",
      "error 4\n",
      "todo OK\n",
      "https://open.spotify.com/track/4yJiXe9Rpjt0IskmpXYgYo?si=1637c6c8de984370\n"
     ]
    },
    {
     "name": "stderr",
     "output_type": "stream",
     "text": [
      "/var/folders/s4/79ykyqjn7f16bdl_zqjgsbzh0000gp/T/ipykernel_14170/100902511.py:4: DeprecationWarning: executable_path has been deprecated, please pass in a Service object\n",
      "  driver=webdriver.Chrome(PATH)\n"
     ]
    },
    {
     "name": "stdout",
     "output_type": "stream",
     "text": [
      "todo OK\n",
      "https://open.spotify.com/track/7rlKjHvYFlAjMIUDY1CMLu?si=5b98734c43124135\n"
     ]
    },
    {
     "name": "stderr",
     "output_type": "stream",
     "text": [
      "/var/folders/s4/79ykyqjn7f16bdl_zqjgsbzh0000gp/T/ipykernel_14170/100902511.py:4: DeprecationWarning: executable_path has been deprecated, please pass in a Service object\n",
      "  driver=webdriver.Chrome(PATH)\n"
     ]
    },
    {
     "name": "stdout",
     "output_type": "stream",
     "text": [
      "todo OK\n",
      "https://open.spotify.com/track/3Bzil9UjZsRWDJjC4qcrdR?si=397d7beee366433a\n"
     ]
    },
    {
     "name": "stderr",
     "output_type": "stream",
     "text": [
      "/var/folders/s4/79ykyqjn7f16bdl_zqjgsbzh0000gp/T/ipykernel_14170/100902511.py:4: DeprecationWarning: executable_path has been deprecated, please pass in a Service object\n",
      "  driver=webdriver.Chrome(PATH)\n"
     ]
    },
    {
     "name": "stdout",
     "output_type": "stream",
     "text": [
      "no anuncio\n",
      "todo OK\n",
      "https://open.spotify.com/track/5BAHP1SSe7fdFsWTu9yoiU?si=fb69d36887a24c40\n"
     ]
    },
    {
     "name": "stderr",
     "output_type": "stream",
     "text": [
      "/var/folders/s4/79ykyqjn7f16bdl_zqjgsbzh0000gp/T/ipykernel_14170/100902511.py:4: DeprecationWarning: executable_path has been deprecated, please pass in a Service object\n",
      "  driver=webdriver.Chrome(PATH)\n"
     ]
    },
    {
     "name": "stdout",
     "output_type": "stream",
     "text": [
      "error 4\n",
      "todo OK\n",
      "https://open.spotify.com/track/5BAHP1SSe7fdFsWTu9yoiU?si=fb69d36887a24c40\n"
     ]
    },
    {
     "name": "stderr",
     "output_type": "stream",
     "text": [
      "/var/folders/s4/79ykyqjn7f16bdl_zqjgsbzh0000gp/T/ipykernel_14170/100902511.py:4: DeprecationWarning: executable_path has been deprecated, please pass in a Service object\n",
      "  driver=webdriver.Chrome(PATH)\n"
     ]
    },
    {
     "name": "stdout",
     "output_type": "stream",
     "text": [
      "todo OK\n",
      "https://open.spotify.com/track/6hYidRx2EkQ39bmZHvqqaI?si=4e60ee1c51574c22\n"
     ]
    },
    {
     "name": "stderr",
     "output_type": "stream",
     "text": [
      "/var/folders/s4/79ykyqjn7f16bdl_zqjgsbzh0000gp/T/ipykernel_14170/100902511.py:4: DeprecationWarning: executable_path has been deprecated, please pass in a Service object\n",
      "  driver=webdriver.Chrome(PATH)\n"
     ]
    },
    {
     "name": "stdout",
     "output_type": "stream",
     "text": [
      "no anuncio\n",
      "todo OK\n",
      "https://open.spotify.com/track/25mYG9U2wb2UnQrOVkSIbE?si=410d74ae6eb340e1\n"
     ]
    },
    {
     "name": "stderr",
     "output_type": "stream",
     "text": [
      "/var/folders/s4/79ykyqjn7f16bdl_zqjgsbzh0000gp/T/ipykernel_14170/100902511.py:4: DeprecationWarning: executable_path has been deprecated, please pass in a Service object\n",
      "  driver=webdriver.Chrome(PATH)\n"
     ]
    },
    {
     "name": "stdout",
     "output_type": "stream",
     "text": [
      "no anuncio\n",
      "todo OK\n",
      "https://open.spotify.com/track/1RSBgWXopVCzHkoCr2k3pH?si=3b00ef8fa66c49ef\n"
     ]
    },
    {
     "name": "stderr",
     "output_type": "stream",
     "text": [
      "/var/folders/s4/79ykyqjn7f16bdl_zqjgsbzh0000gp/T/ipykernel_14170/100902511.py:4: DeprecationWarning: executable_path has been deprecated, please pass in a Service object\n",
      "  driver=webdriver.Chrome(PATH)\n"
     ]
    },
    {
     "name": "stdout",
     "output_type": "stream",
     "text": [
      "todo OK\n",
      "https://open.spotify.com/track/4SutBECg5t8YqY1hz8SbwX?si=2931df547de0451d\n"
     ]
    },
    {
     "name": "stderr",
     "output_type": "stream",
     "text": [
      "/var/folders/s4/79ykyqjn7f16bdl_zqjgsbzh0000gp/T/ipykernel_14170/100902511.py:4: DeprecationWarning: executable_path has been deprecated, please pass in a Service object\n",
      "  driver=webdriver.Chrome(PATH)\n"
     ]
    },
    {
     "name": "stdout",
     "output_type": "stream",
     "text": [
      "todo OK\n",
      "https://open.spotify.com/track/4qFkP6Kyhw3WDOSKqJaZbP?si=60afde76ba944f79\n"
     ]
    },
    {
     "name": "stderr",
     "output_type": "stream",
     "text": [
      "/var/folders/s4/79ykyqjn7f16bdl_zqjgsbzh0000gp/T/ipykernel_14170/100902511.py:4: DeprecationWarning: executable_path has been deprecated, please pass in a Service object\n",
      "  driver=webdriver.Chrome(PATH)\n"
     ]
    },
    {
     "name": "stdout",
     "output_type": "stream",
     "text": [
      "no anuncio\n",
      "todo OK\n",
      "https://open.spotify.com/track/0kZKpOLObAOKeIM36VvScx?si=423e0efa22bc4143\n"
     ]
    },
    {
     "name": "stderr",
     "output_type": "stream",
     "text": [
      "/var/folders/s4/79ykyqjn7f16bdl_zqjgsbzh0000gp/T/ipykernel_14170/100902511.py:4: DeprecationWarning: executable_path has been deprecated, please pass in a Service object\n",
      "  driver=webdriver.Chrome(PATH)\n"
     ]
    },
    {
     "name": "stdout",
     "output_type": "stream",
     "text": [
      "no anuncio\n",
      "error 4\n",
      "todo OK\n",
      "https://open.spotify.com/track/0kZKpOLObAOKeIM36VvScx?si=423e0efa22bc4143\n"
     ]
    },
    {
     "name": "stderr",
     "output_type": "stream",
     "text": [
      "/var/folders/s4/79ykyqjn7f16bdl_zqjgsbzh0000gp/T/ipykernel_14170/100902511.py:4: DeprecationWarning: executable_path has been deprecated, please pass in a Service object\n",
      "  driver=webdriver.Chrome(PATH)\n"
     ]
    },
    {
     "name": "stdout",
     "output_type": "stream",
     "text": [
      "todo OK\n",
      "https://open.spotify.com/track/2miieLikjb9vswUqKdpObx?si=918b9e6d63e148e6\n"
     ]
    },
    {
     "name": "stderr",
     "output_type": "stream",
     "text": [
      "/var/folders/s4/79ykyqjn7f16bdl_zqjgsbzh0000gp/T/ipykernel_14170/100902511.py:4: DeprecationWarning: executable_path has been deprecated, please pass in a Service object\n",
      "  driver=webdriver.Chrome(PATH)\n"
     ]
    },
    {
     "name": "stdout",
     "output_type": "stream",
     "text": [
      "no anuncio\n",
      "todo OK\n",
      "https://open.spotify.com/track/1DXkgi6Wx3oBeeR3Z8N0gg?si=9f68ba24ccad414b\n"
     ]
    },
    {
     "name": "stderr",
     "output_type": "stream",
     "text": [
      "/var/folders/s4/79ykyqjn7f16bdl_zqjgsbzh0000gp/T/ipykernel_14170/100902511.py:4: DeprecationWarning: executable_path has been deprecated, please pass in a Service object\n",
      "  driver=webdriver.Chrome(PATH)\n"
     ]
    },
    {
     "name": "stdout",
     "output_type": "stream",
     "text": [
      "no anuncio\n",
      "todo OK\n",
      "https://open.spotify.com/track/70F02o9PmiL5OxLN2Lcl4M?si=29b9830b446a46b4\n"
     ]
    },
    {
     "name": "stderr",
     "output_type": "stream",
     "text": [
      "/var/folders/s4/79ykyqjn7f16bdl_zqjgsbzh0000gp/T/ipykernel_14170/100902511.py:4: DeprecationWarning: executable_path has been deprecated, please pass in a Service object\n",
      "  driver=webdriver.Chrome(PATH)\n"
     ]
    },
    {
     "name": "stdout",
     "output_type": "stream",
     "text": [
      "error 4\n",
      "todo OK\n",
      "https://open.spotify.com/track/70F02o9PmiL5OxLN2Lcl4M?si=29b9830b446a46b4\n"
     ]
    },
    {
     "name": "stderr",
     "output_type": "stream",
     "text": [
      "/var/folders/s4/79ykyqjn7f16bdl_zqjgsbzh0000gp/T/ipykernel_14170/100902511.py:4: DeprecationWarning: executable_path has been deprecated, please pass in a Service object\n",
      "  driver=webdriver.Chrome(PATH)\n"
     ]
    },
    {
     "name": "stdout",
     "output_type": "stream",
     "text": [
      "no anuncio\n",
      "todo OK\n",
      "https://open.spotify.com/track/6Wv5nTvTfsxxeUub2MhxBN?si=c27732f0cbf647b2\n"
     ]
    },
    {
     "name": "stderr",
     "output_type": "stream",
     "text": [
      "/var/folders/s4/79ykyqjn7f16bdl_zqjgsbzh0000gp/T/ipykernel_14170/100902511.py:4: DeprecationWarning: executable_path has been deprecated, please pass in a Service object\n",
      "  driver=webdriver.Chrome(PATH)\n"
     ]
    },
    {
     "name": "stdout",
     "output_type": "stream",
     "text": [
      "error 2\n",
      "error 3\n",
      "error 4\n",
      "todo OK\n",
      "https://open.spotify.com/track/6Wv5nTvTfsxxeUub2MhxBN?si=c27732f0cbf647b2\n"
     ]
    },
    {
     "name": "stderr",
     "output_type": "stream",
     "text": [
      "/var/folders/s4/79ykyqjn7f16bdl_zqjgsbzh0000gp/T/ipykernel_14170/100902511.py:4: DeprecationWarning: executable_path has been deprecated, please pass in a Service object\n",
      "  driver=webdriver.Chrome(PATH)\n"
     ]
    },
    {
     "name": "stdout",
     "output_type": "stream",
     "text": [
      "no anuncio\n",
      "todo OK\n",
      "https://open.spotify.com/track/7kYbxvrGXv8cmKjkqgqhrw?si=d41c496fa7c54960\n"
     ]
    },
    {
     "name": "stderr",
     "output_type": "stream",
     "text": [
      "/var/folders/s4/79ykyqjn7f16bdl_zqjgsbzh0000gp/T/ipykernel_14170/100902511.py:4: DeprecationWarning: executable_path has been deprecated, please pass in a Service object\n",
      "  driver=webdriver.Chrome(PATH)\n"
     ]
    },
    {
     "name": "stdout",
     "output_type": "stream",
     "text": [
      "no anuncio\n",
      "todo OK\n",
      "https://open.spotify.com/track/0Yc0ziTsyjahYqlWXVXlTU?si=a57c3ea830304e99\n"
     ]
    },
    {
     "name": "stderr",
     "output_type": "stream",
     "text": [
      "/var/folders/s4/79ykyqjn7f16bdl_zqjgsbzh0000gp/T/ipykernel_14170/100902511.py:4: DeprecationWarning: executable_path has been deprecated, please pass in a Service object\n",
      "  driver=webdriver.Chrome(PATH)\n"
     ]
    },
    {
     "name": "stdout",
     "output_type": "stream",
     "text": [
      "error 4\n",
      "todo OK\n",
      "https://open.spotify.com/track/0Yc0ziTsyjahYqlWXVXlTU?si=a57c3ea830304e99\n"
     ]
    },
    {
     "name": "stderr",
     "output_type": "stream",
     "text": [
      "/var/folders/s4/79ykyqjn7f16bdl_zqjgsbzh0000gp/T/ipykernel_14170/100902511.py:4: DeprecationWarning: executable_path has been deprecated, please pass in a Service object\n",
      "  driver=webdriver.Chrome(PATH)\n"
     ]
    },
    {
     "name": "stdout",
     "output_type": "stream",
     "text": [
      "no anuncio\n",
      "todo OK\n",
      "https://open.spotify.com/track/4HzqWEdAbzcVFDv0pvxV4w?si=99e5bffcdd9f49ae\n"
     ]
    },
    {
     "name": "stderr",
     "output_type": "stream",
     "text": [
      "/var/folders/s4/79ykyqjn7f16bdl_zqjgsbzh0000gp/T/ipykernel_14170/100902511.py:4: DeprecationWarning: executable_path has been deprecated, please pass in a Service object\n",
      "  driver=webdriver.Chrome(PATH)\n"
     ]
    },
    {
     "name": "stdout",
     "output_type": "stream",
     "text": [
      "todo OK\n",
      "https://open.spotify.com/track/7aas8dzWDkeIazqlBf2GTD?si=75ce1ee959f24d03\n"
     ]
    },
    {
     "name": "stderr",
     "output_type": "stream",
     "text": [
      "/var/folders/s4/79ykyqjn7f16bdl_zqjgsbzh0000gp/T/ipykernel_14170/100902511.py:4: DeprecationWarning: executable_path has been deprecated, please pass in a Service object\n",
      "  driver=webdriver.Chrome(PATH)\n"
     ]
    },
    {
     "name": "stdout",
     "output_type": "stream",
     "text": [
      "no anuncio\n",
      "todo OK\n",
      "https://open.spotify.com/track/3ieHpKBDipSoLwmfZ5t5py?si=d2abf239ea4345be\n"
     ]
    },
    {
     "name": "stderr",
     "output_type": "stream",
     "text": [
      "/var/folders/s4/79ykyqjn7f16bdl_zqjgsbzh0000gp/T/ipykernel_14170/100902511.py:4: DeprecationWarning: executable_path has been deprecated, please pass in a Service object\n",
      "  driver=webdriver.Chrome(PATH)\n"
     ]
    },
    {
     "name": "stdout",
     "output_type": "stream",
     "text": [
      "todo OK\n",
      "https://open.spotify.com/track/1pdK71OIQBAEHHSZ3pUggO?si=7264fdb2cdab4427\n"
     ]
    },
    {
     "name": "stderr",
     "output_type": "stream",
     "text": [
      "/var/folders/s4/79ykyqjn7f16bdl_zqjgsbzh0000gp/T/ipykernel_14170/100902511.py:4: DeprecationWarning: executable_path has been deprecated, please pass in a Service object\n",
      "  driver=webdriver.Chrome(PATH)\n"
     ]
    },
    {
     "name": "stdout",
     "output_type": "stream",
     "text": [
      "no anuncio\n",
      "todo OK\n",
      "https://open.spotify.com/track/1mvxeYPxbnqI1k2mlR0PBX?si=89cfc417e1194f79\n"
     ]
    },
    {
     "name": "stderr",
     "output_type": "stream",
     "text": [
      "/var/folders/s4/79ykyqjn7f16bdl_zqjgsbzh0000gp/T/ipykernel_14170/100902511.py:4: DeprecationWarning: executable_path has been deprecated, please pass in a Service object\n",
      "  driver=webdriver.Chrome(PATH)\n"
     ]
    },
    {
     "name": "stdout",
     "output_type": "stream",
     "text": [
      "error 0\n",
      "no anuncio\n",
      "error 2\n",
      "error 3\n",
      "error 4\n",
      "todo OK\n",
      "https://open.spotify.com/track/1mvxeYPxbnqI1k2mlR0PBX?si=89cfc417e1194f79\n"
     ]
    },
    {
     "name": "stderr",
     "output_type": "stream",
     "text": [
      "/var/folders/s4/79ykyqjn7f16bdl_zqjgsbzh0000gp/T/ipykernel_14170/100902511.py:4: DeprecationWarning: executable_path has been deprecated, please pass in a Service object\n",
      "  driver=webdriver.Chrome(PATH)\n"
     ]
    },
    {
     "name": "stdout",
     "output_type": "stream",
     "text": [
      "no anuncio\n",
      "error 4\n",
      "todo OK\n",
      "https://open.spotify.com/track/1mvxeYPxbnqI1k2mlR0PBX?si=89cfc417e1194f79\n"
     ]
    },
    {
     "name": "stderr",
     "output_type": "stream",
     "text": [
      "/var/folders/s4/79ykyqjn7f16bdl_zqjgsbzh0000gp/T/ipykernel_14170/100902511.py:4: DeprecationWarning: executable_path has been deprecated, please pass in a Service object\n",
      "  driver=webdriver.Chrome(PATH)\n"
     ]
    },
    {
     "name": "stdout",
     "output_type": "stream",
     "text": [
      "error 4\n",
      "todo OK\n",
      "https://open.spotify.com/track/1mvxeYPxbnqI1k2mlR0PBX?si=89cfc417e1194f79\n"
     ]
    },
    {
     "name": "stderr",
     "output_type": "stream",
     "text": [
      "/var/folders/s4/79ykyqjn7f16bdl_zqjgsbzh0000gp/T/ipykernel_14170/100902511.py:4: DeprecationWarning: executable_path has been deprecated, please pass in a Service object\n",
      "  driver=webdriver.Chrome(PATH)\n"
     ]
    },
    {
     "name": "stdout",
     "output_type": "stream",
     "text": [
      "no anuncio\n",
      "error 4\n",
      "todo OK\n",
      "https://open.spotify.com/track/1mvxeYPxbnqI1k2mlR0PBX?si=89cfc417e1194f79\n"
     ]
    },
    {
     "name": "stderr",
     "output_type": "stream",
     "text": [
      "/var/folders/s4/79ykyqjn7f16bdl_zqjgsbzh0000gp/T/ipykernel_14170/100902511.py:4: DeprecationWarning: executable_path has been deprecated, please pass in a Service object\n",
      "  driver=webdriver.Chrome(PATH)\n"
     ]
    },
    {
     "name": "stdout",
     "output_type": "stream",
     "text": [
      "no anuncio\n",
      "error 4\n",
      "todo OK\n",
      "https://open.spotify.com/track/1mvxeYPxbnqI1k2mlR0PBX?si=89cfc417e1194f79\n"
     ]
    },
    {
     "name": "stderr",
     "output_type": "stream",
     "text": [
      "/var/folders/s4/79ykyqjn7f16bdl_zqjgsbzh0000gp/T/ipykernel_14170/100902511.py:4: DeprecationWarning: executable_path has been deprecated, please pass in a Service object\n",
      "  driver=webdriver.Chrome(PATH)\n"
     ]
    },
    {
     "name": "stdout",
     "output_type": "stream",
     "text": [
      "todo OK\n",
      "https://open.spotify.com/track/0LY7UGk8YteottEo4mLs4z?si=c30cf43b05ff49c8\n"
     ]
    },
    {
     "name": "stderr",
     "output_type": "stream",
     "text": [
      "/var/folders/s4/79ykyqjn7f16bdl_zqjgsbzh0000gp/T/ipykernel_14170/100902511.py:4: DeprecationWarning: executable_path has been deprecated, please pass in a Service object\n",
      "  driver=webdriver.Chrome(PATH)\n"
     ]
    },
    {
     "name": "stdout",
     "output_type": "stream",
     "text": [
      "no anuncio\n",
      "todo OK\n",
      "https://open.spotify.com/track/769Ld8demNhMgVLAQcjTDn?si=7728d444655c4ce5\n"
     ]
    },
    {
     "name": "stderr",
     "output_type": "stream",
     "text": [
      "/var/folders/s4/79ykyqjn7f16bdl_zqjgsbzh0000gp/T/ipykernel_14170/100902511.py:4: DeprecationWarning: executable_path has been deprecated, please pass in a Service object\n",
      "  driver=webdriver.Chrome(PATH)\n"
     ]
    },
    {
     "name": "stdout",
     "output_type": "stream",
     "text": [
      "no anuncio\n",
      "todo OK\n",
      "https://open.spotify.com/track/3nOz1U41SZZ0N3fuUWr9nb?si=4be68ce72ed14da9\n"
     ]
    },
    {
     "name": "stderr",
     "output_type": "stream",
     "text": [
      "/var/folders/s4/79ykyqjn7f16bdl_zqjgsbzh0000gp/T/ipykernel_14170/100902511.py:4: DeprecationWarning: executable_path has been deprecated, please pass in a Service object\n",
      "  driver=webdriver.Chrome(PATH)\n"
     ]
    },
    {
     "name": "stdout",
     "output_type": "stream",
     "text": [
      "no anuncio\n",
      "todo OK\n",
      "https://open.spotify.com/track/37QESn0sRQybnIeEWwFb3Q?si=85f0773c43784717\n"
     ]
    },
    {
     "name": "stderr",
     "output_type": "stream",
     "text": [
      "/var/folders/s4/79ykyqjn7f16bdl_zqjgsbzh0000gp/T/ipykernel_14170/100902511.py:4: DeprecationWarning: executable_path has been deprecated, please pass in a Service object\n",
      "  driver=webdriver.Chrome(PATH)\n"
     ]
    },
    {
     "name": "stdout",
     "output_type": "stream",
     "text": [
      "todo OK\n",
      "https://open.spotify.com/track/1PckUlxKqWQs3RlWXVBLw3?si=3e49b34e259140e9\n"
     ]
    },
    {
     "name": "stderr",
     "output_type": "stream",
     "text": [
      "/var/folders/s4/79ykyqjn7f16bdl_zqjgsbzh0000gp/T/ipykernel_14170/100902511.py:4: DeprecationWarning: executable_path has been deprecated, please pass in a Service object\n",
      "  driver=webdriver.Chrome(PATH)\n"
     ]
    },
    {
     "name": "stdout",
     "output_type": "stream",
     "text": [
      "no anuncio\n",
      "error 4\n",
      "todo OK\n",
      "https://open.spotify.com/track/1PckUlxKqWQs3RlWXVBLw3?si=3e49b34e259140e9\n"
     ]
    },
    {
     "name": "stderr",
     "output_type": "stream",
     "text": [
      "/var/folders/s4/79ykyqjn7f16bdl_zqjgsbzh0000gp/T/ipykernel_14170/100902511.py:4: DeprecationWarning: executable_path has been deprecated, please pass in a Service object\n",
      "  driver=webdriver.Chrome(PATH)\n"
     ]
    },
    {
     "name": "stdout",
     "output_type": "stream",
     "text": [
      "no anuncio\n",
      "todo OK\n",
      "https://open.spotify.com/track/1QxIFMs4M8qd5cbJJu80v4?si=21b1e757ff764782\n"
     ]
    },
    {
     "name": "stderr",
     "output_type": "stream",
     "text": [
      "/var/folders/s4/79ykyqjn7f16bdl_zqjgsbzh0000gp/T/ipykernel_14170/100902511.py:4: DeprecationWarning: executable_path has been deprecated, please pass in a Service object\n",
      "  driver=webdriver.Chrome(PATH)\n"
     ]
    },
    {
     "name": "stdout",
     "output_type": "stream",
     "text": [
      "no anuncio\n",
      "todo OK\n",
      "https://open.spotify.com/track/5CmIIBRVQWLX2uXAkuBlS8?si=0bc3ed3cf7614e3a\n"
     ]
    },
    {
     "name": "stderr",
     "output_type": "stream",
     "text": [
      "/var/folders/s4/79ykyqjn7f16bdl_zqjgsbzh0000gp/T/ipykernel_14170/100902511.py:4: DeprecationWarning: executable_path has been deprecated, please pass in a Service object\n",
      "  driver=webdriver.Chrome(PATH)\n"
     ]
    },
    {
     "name": "stdout",
     "output_type": "stream",
     "text": [
      "todo OK\n",
      "https://open.spotify.com/track/0DGTcMqvVR7fmBXgiG6jz4?si=bf4915da4ec74f11\n"
     ]
    },
    {
     "name": "stderr",
     "output_type": "stream",
     "text": [
      "/var/folders/s4/79ykyqjn7f16bdl_zqjgsbzh0000gp/T/ipykernel_14170/100902511.py:4: DeprecationWarning: executable_path has been deprecated, please pass in a Service object\n",
      "  driver=webdriver.Chrome(PATH)\n"
     ]
    },
    {
     "name": "stdout",
     "output_type": "stream",
     "text": [
      "no anuncio\n",
      "todo OK\n",
      "https://open.spotify.com/track/1ftxpepwP6o3oEPTIlKK58?si=d8ae3b5e10154c82\n"
     ]
    },
    {
     "name": "stderr",
     "output_type": "stream",
     "text": [
      "/var/folders/s4/79ykyqjn7f16bdl_zqjgsbzh0000gp/T/ipykernel_14170/100902511.py:4: DeprecationWarning: executable_path has been deprecated, please pass in a Service object\n",
      "  driver=webdriver.Chrome(PATH)\n"
     ]
    },
    {
     "name": "stdout",
     "output_type": "stream",
     "text": [
      "no anuncio\n",
      "error 4\n",
      "todo OK\n",
      "https://open.spotify.com/track/1ftxpepwP6o3oEPTIlKK58?si=d8ae3b5e10154c82\n"
     ]
    },
    {
     "name": "stderr",
     "output_type": "stream",
     "text": [
      "/var/folders/s4/79ykyqjn7f16bdl_zqjgsbzh0000gp/T/ipykernel_14170/100902511.py:4: DeprecationWarning: executable_path has been deprecated, please pass in a Service object\n",
      "  driver=webdriver.Chrome(PATH)\n"
     ]
    },
    {
     "name": "stdout",
     "output_type": "stream",
     "text": [
      "no anuncio\n",
      "todo OK\n",
      "https://open.spotify.com/track/6UelLqGlWMcVH1E5c4H7lY?si=f3b944cac20b4650\n"
     ]
    },
    {
     "name": "stderr",
     "output_type": "stream",
     "text": [
      "/var/folders/s4/79ykyqjn7f16bdl_zqjgsbzh0000gp/T/ipykernel_14170/100902511.py:4: DeprecationWarning: executable_path has been deprecated, please pass in a Service object\n",
      "  driver=webdriver.Chrome(PATH)\n"
     ]
    },
    {
     "name": "stdout",
     "output_type": "stream",
     "text": [
      "no anuncio\n",
      "todo OK\n",
      "https://open.spotify.com/track/0T5iIrXA4p5GsubkhuBIKV?si=d5c4c0a4654f4575\n"
     ]
    },
    {
     "name": "stderr",
     "output_type": "stream",
     "text": [
      "/var/folders/s4/79ykyqjn7f16bdl_zqjgsbzh0000gp/T/ipykernel_14170/100902511.py:4: DeprecationWarning: executable_path has been deprecated, please pass in a Service object\n",
      "  driver=webdriver.Chrome(PATH)\n"
     ]
    },
    {
     "name": "stdout",
     "output_type": "stream",
     "text": [
      "no anuncio\n",
      "todo OK\n",
      "https://open.spotify.com/track/374EKgkkuCrw0ovQPYn1vT?si=6d72c7464ea34b49\n"
     ]
    },
    {
     "name": "stderr",
     "output_type": "stream",
     "text": [
      "/var/folders/s4/79ykyqjn7f16bdl_zqjgsbzh0000gp/T/ipykernel_14170/100902511.py:4: DeprecationWarning: executable_path has been deprecated, please pass in a Service object\n",
      "  driver=webdriver.Chrome(PATH)\n"
     ]
    },
    {
     "name": "stdout",
     "output_type": "stream",
     "text": [
      "no anuncio\n",
      "todo OK\n",
      "https://open.spotify.com/track/5kyJ6sznnWACqHbw65p34Q?si=8f2bbc8b341a4dbb\n"
     ]
    },
    {
     "name": "stderr",
     "output_type": "stream",
     "text": [
      "/var/folders/s4/79ykyqjn7f16bdl_zqjgsbzh0000gp/T/ipykernel_14170/100902511.py:4: DeprecationWarning: executable_path has been deprecated, please pass in a Service object\n",
      "  driver=webdriver.Chrome(PATH)\n"
     ]
    },
    {
     "name": "stdout",
     "output_type": "stream",
     "text": [
      "no anuncio\n",
      "error 4\n",
      "todo OK\n",
      "https://open.spotify.com/track/5kyJ6sznnWACqHbw65p34Q?si=8f2bbc8b341a4dbb\n"
     ]
    },
    {
     "name": "stderr",
     "output_type": "stream",
     "text": [
      "/var/folders/s4/79ykyqjn7f16bdl_zqjgsbzh0000gp/T/ipykernel_14170/100902511.py:4: DeprecationWarning: executable_path has been deprecated, please pass in a Service object\n",
      "  driver=webdriver.Chrome(PATH)\n"
     ]
    },
    {
     "name": "stdout",
     "output_type": "stream",
     "text": [
      "todo OK\n",
      "https://open.spotify.com/track/5Ts1DYOuouQLgzTaisxWYh?si=ce8ce9f2bf20404e\n"
     ]
    },
    {
     "name": "stderr",
     "output_type": "stream",
     "text": [
      "/var/folders/s4/79ykyqjn7f16bdl_zqjgsbzh0000gp/T/ipykernel_14170/100902511.py:4: DeprecationWarning: executable_path has been deprecated, please pass in a Service object\n",
      "  driver=webdriver.Chrome(PATH)\n"
     ]
    },
    {
     "name": "stdout",
     "output_type": "stream",
     "text": [
      "todo OK\n",
      "https://open.spotify.com/track/1DHrUYdgRoAptl0DFOCyuj?si=b9e33154c404409b\n"
     ]
    },
    {
     "name": "stderr",
     "output_type": "stream",
     "text": [
      "/var/folders/s4/79ykyqjn7f16bdl_zqjgsbzh0000gp/T/ipykernel_14170/100902511.py:4: DeprecationWarning: executable_path has been deprecated, please pass in a Service object\n",
      "  driver=webdriver.Chrome(PATH)\n"
     ]
    },
    {
     "name": "stdout",
     "output_type": "stream",
     "text": [
      "no anuncio\n",
      "todo OK\n",
      "https://open.spotify.com/track/2FUvrVJvsDB4GsNnXc8h3A?si=b85221b00a724b07\n"
     ]
    },
    {
     "name": "stderr",
     "output_type": "stream",
     "text": [
      "/var/folders/s4/79ykyqjn7f16bdl_zqjgsbzh0000gp/T/ipykernel_14170/100902511.py:4: DeprecationWarning: executable_path has been deprecated, please pass in a Service object\n",
      "  driver=webdriver.Chrome(PATH)\n"
     ]
    },
    {
     "name": "stdout",
     "output_type": "stream",
     "text": [
      "no anuncio\n",
      "todo OK\n",
      "https://open.spotify.com/track/2SJZdZ5DLtlRosJ2xHJJJa?si=11bab53c8be5415e\n"
     ]
    },
    {
     "name": "stderr",
     "output_type": "stream",
     "text": [
      "/var/folders/s4/79ykyqjn7f16bdl_zqjgsbzh0000gp/T/ipykernel_14170/100902511.py:4: DeprecationWarning: executable_path has been deprecated, please pass in a Service object\n",
      "  driver=webdriver.Chrome(PATH)\n"
     ]
    },
    {
     "name": "stdout",
     "output_type": "stream",
     "text": [
      "todo OK\n",
      "https://open.spotify.com/track/226QoQqaAhCQun0LzpFlQE?si=1cda97c8cccc43dc\n"
     ]
    },
    {
     "name": "stderr",
     "output_type": "stream",
     "text": [
      "/var/folders/s4/79ykyqjn7f16bdl_zqjgsbzh0000gp/T/ipykernel_14170/100902511.py:4: DeprecationWarning: executable_path has been deprecated, please pass in a Service object\n",
      "  driver=webdriver.Chrome(PATH)\n"
     ]
    },
    {
     "name": "stdout",
     "output_type": "stream",
     "text": [
      "no anuncio\n",
      "todo OK\n",
      "https://open.spotify.com/track/7dKqJB09t92xID0Hw4ycMt?si=bff06421f6e9496f\n"
     ]
    },
    {
     "name": "stderr",
     "output_type": "stream",
     "text": [
      "/var/folders/s4/79ykyqjn7f16bdl_zqjgsbzh0000gp/T/ipykernel_14170/100902511.py:4: DeprecationWarning: executable_path has been deprecated, please pass in a Service object\n",
      "  driver=webdriver.Chrome(PATH)\n"
     ]
    },
    {
     "name": "stdout",
     "output_type": "stream",
     "text": [
      "no anuncio\n",
      "todo OK\n",
      "https://open.spotify.com/track/15wMJJiVpt2ABQw032Rywi?si=3d74f647a0754b65\n"
     ]
    }
   ],
   "source": [
    "for i in tqdm(range(len(df['search'][2837]))):\n",
    "    \n",
    "    #inicia el driver\n",
    "    driver=webdriver.Chrome(PATH)\n",
    "    driver.get(df['search'][i+2837])\n",
    "    time.sleep(6)\n",
    "\n",
    "    # acepta cookies\n",
    "    try:\n",
    "        aceptar=driver.find_element(By.XPATH, '//*[@id=\"onetrust-accept-btn-handler\"]')\n",
    "        aceptar.click()\n",
    "\n",
    "        time.sleep(2)\n",
    "    \n",
    "    except:\n",
    "        print('error 0')      \n",
    "\n",
    "    #Anuncio Premium\n",
    "    try:\n",
    "        anuncio=driver.find_element(By.XPATH, '//*[@id=\"main\"]/div/div[2]/div[2]/footer/div[1]/button[2]')\n",
    "        anuncio.click()\n",
    "        time.sleep(1)\n",
    "\n",
    "    except:\n",
    "        print('no anuncio')\n",
    "\n",
    "    # seleccionar las opciones de la canción\n",
    "    try:\n",
    "        opciones=driver.find_element(By.XPATH, '//*[@id=\"searchPage\"]/div/div/section[2]/div[2]/div/div/div/div[2]/div[1]/div/div[2]/button[2]')\n",
    "        opciones.click()\n",
    "        time.sleep(1)\n",
    "        \n",
    "    except:\n",
    "        print('error 2')\n",
    "\n",
    "    #seleccionar compartir\n",
    "    try:\n",
    "        compartir=driver.find_element(By.XPATH, '//*[@id=\"context-menu\"]/ul/li[7]/button/span[1]')\n",
    "        compartir.click()\n",
    "        time.sleep(1)\n",
    "        \n",
    "    except:\n",
    "        print('error 3')\n",
    "\n",
    "    #copiar el enlace de la canción\n",
    "    try:\n",
    "        copiarlink = driver.find_element(By.XPATH, '//*[@id=\"tippy-4\"]/ul/li[1]/button/span')\n",
    "        copiarlink.click()\n",
    "    \n",
    "    except:\n",
    "        print('error 4')\n",
    "\n",
    "    #pegar el enlace\n",
    "    try: \n",
    "        uri.append(clipboard.paste())\n",
    "        print('todo OK')\n",
    "        print(clipboard.paste())\n",
    "\n",
    "    except:\n",
    "        uri.append('0')\n",
    "        print('error al pegar')\n",
    "        \n",
    "    #apagamos el driver\n",
    "    driver.quit()"
   ]
  },
  {
   "cell_type": "code",
   "execution_count": null,
   "id": "9526b665",
   "metadata": {},
   "outputs": [],
   "source": [
    "driver.quit()"
   ]
  },
  {
   "cell_type": "code",
   "execution_count": 53,
   "id": "2fd7bc96",
   "metadata": {},
   "outputs": [
    {
     "data": {
      "text/plain": [
       "2189"
      ]
     },
     "execution_count": 53,
     "metadata": {},
     "output_type": "execute_result"
    }
   ],
   "source": [
    "len(set(uri))"
   ]
  },
  {
   "cell_type": "code",
   "execution_count": 51,
   "id": "60fa6706",
   "metadata": {},
   "outputs": [
    {
     "data": {
      "text/plain": [
       "{'https://open.spotify.com/track/15wMJJiVpt2ABQw032Rywi?si=3d74f647a0754b65'}"
      ]
     },
     "execution_count": 51,
     "metadata": {},
     "output_type": "execute_result"
    }
   ],
   "source": [
    "set(uri[-1:])"
   ]
  },
  {
   "cell_type": "code",
   "execution_count": null,
   "id": "e77dc38d",
   "metadata": {},
   "outputs": [],
   "source": [
    "def buscarlink (trackartist):\n",
    "        \n",
    "    url=f'https://open.spotify.com/search/{trackartist}'\n",
    "    # inicia el driver\n",
    "    driver=webdriver.Chrome(PATH)\n",
    "    driver.get(url)\n",
    "\n",
    "\n",
    "    # acepta cookies\n",
    "    try:\n",
    "        time.sleep(10)\n",
    "        aceptar=driver.find_element(By.XPATH, '//*[@id=\"onetrust-accept-btn-handler\"]')\n",
    "        aceptar.click()\n",
    "\n",
    "        time.sleep(4)\n",
    "    except:\n",
    "        time.sleep(0.00001)\n",
    "\n",
    "    #Anuncio Premium\n",
    "    try:\n",
    "        anuncio=driver.find_element(By.XPATH, '//*[@id=\"main\"]/div/div[2]/div[2]/footer/div[1]/button[2]')\n",
    "        anuncio.click()\n",
    "        time.sleep(4)\n",
    "\n",
    "    except:\n",
    "        time.sleep(0.0001)\n",
    "\n",
    "    # seleccionar las opciones de la canción\n",
    "    opciones=driver.find_element(By.XPATH, '//*[@id=\"searchPage\"]/div/div/section[2]/div[2]/div/div/div/div[2]/div[1]/div/div[2]/button[2]')\n",
    "    opciones.click()\n",
    "\n",
    "    #seleccionar compartir\n",
    "    compartir=driver.find_element(By.XPATH, '//*[@id=\"context-menu\"]/ul/li[7]/button/span[1]')\n",
    "    compartir.click()\n",
    "\n",
    "    #copiar el enlace de la canción\n",
    "    copiarlink = driver.find_element(By.XPATH, '//*[@id=\"tippy-4\"]/ul/li[1]/button/span')\n",
    "    copiarlink.click()\n",
    "    print(copiarlink.text())\n",
    "\n",
    "    #pegar el enlace\n",
    "    global listita\n",
    "    listita = []\n",
    "    listita.append(clipboard.paste())\n",
    "    print(clipboard.paste())\n",
    "    print(listita)\n",
    "    \n",
    "    #cerrar driver\n",
    "    driver.quit()\n",
    "    \n",
    "    return listita\n"
   ]
  },
  {
   "cell_type": "code",
   "execution_count": null,
   "id": "277fa0ea",
   "metadata": {},
   "outputs": [],
   "source": [
    "prueba = ['Experimento%20Myke%20Towers','Rocky%20Still%20Woozy', 'Elephant%20Tame%20Impala', 'Experimento%20Myke%20Towers', 'Experimento%20Myke%20Towers', 'Experimento%20Myke%20Towers', 'Experimento%20Myke%20Towers', 'Experimento%20Myke%20Towers', 'Experimento%20Myke%20Towers', 'Experimento%20Myke%20Towers', 'fallin%20Alicia%20Keys']"
   ]
  },
  {
   "cell_type": "code",
   "execution_count": null,
   "id": "fc3154d6",
   "metadata": {
    "scrolled": true
   },
   "outputs": [],
   "source": [
    "df = Parallel(n_jobs=1, verbose=True)(delayed(buscarlink)(e) for e in prueba)"
   ]
  },
  {
   "cell_type": "code",
   "execution_count": null,
   "id": "7b117c29",
   "metadata": {},
   "outputs": [],
   "source": [
    "driver.quit()"
   ]
  },
  {
   "cell_type": "code",
   "execution_count": null,
   "id": "f6ead66b",
   "metadata": {},
   "outputs": [],
   "source": [
    "listita"
   ]
  },
  {
   "cell_type": "code",
   "execution_count": null,
   "id": "a4c07fdd",
   "metadata": {},
   "outputs": [],
   "source": [
    "music.head(25)"
   ]
  },
  {
   "cell_type": "code",
   "execution_count": 33,
   "id": "c1a417c3",
   "metadata": {},
   "outputs": [
    {
     "data": {
      "text/html": [
       "<div>\n",
       "<style scoped>\n",
       "    .dataframe tbody tr th:only-of-type {\n",
       "        vertical-align: middle;\n",
       "    }\n",
       "\n",
       "    .dataframe tbody tr th {\n",
       "        vertical-align: top;\n",
       "    }\n",
       "\n",
       "    .dataframe thead th {\n",
       "        text-align: right;\n",
       "    }\n",
       "</style>\n",
       "<table border=\"1\" class=\"dataframe\">\n",
       "  <thead>\n",
       "    <tr style=\"text-align: right;\">\n",
       "      <th></th>\n",
       "      <th>endTime</th>\n",
       "      <th>artistName</th>\n",
       "      <th>trackName</th>\n",
       "      <th>msPlayed</th>\n",
       "      <th>search</th>\n",
       "    </tr>\n",
       "  </thead>\n",
       "  <tbody>\n",
       "    <tr>\n",
       "      <th>2836</th>\n",
       "      <td>2022-05-11 07:47</td>\n",
       "      <td>Cheti</td>\n",
       "      <td>Color Pomelo</td>\n",
       "      <td>233168</td>\n",
       "      <td>https://open.spotify.com/search/Color%20Pomelo...</td>\n",
       "    </tr>\n",
       "  </tbody>\n",
       "</table>\n",
       "</div>"
      ],
      "text/plain": [
       "               endTime artistName     trackName  msPlayed  \\\n",
       "2836  2022-05-11 07:47      Cheti  Color Pomelo    233168   \n",
       "\n",
       "                                                 search  \n",
       "2836  https://open.spotify.com/search/Color%20Pomelo...  "
      ]
     },
     "execution_count": 33,
     "metadata": {},
     "output_type": "execute_result"
    }
   ],
   "source": [
    "df.loc[df['trackName']=='Color Pomelo']"
   ]
  },
  {
   "cell_type": "code",
   "execution_count": 28,
   "id": "5b4f8c01",
   "metadata": {},
   "outputs": [
    {
     "data": {
      "text/html": [
       "<div>\n",
       "<style scoped>\n",
       "    .dataframe tbody tr th:only-of-type {\n",
       "        vertical-align: middle;\n",
       "    }\n",
       "\n",
       "    .dataframe tbody tr th {\n",
       "        vertical-align: top;\n",
       "    }\n",
       "\n",
       "    .dataframe thead th {\n",
       "        text-align: right;\n",
       "    }\n",
       "</style>\n",
       "<table border=\"1\" class=\"dataframe\">\n",
       "  <thead>\n",
       "    <tr style=\"text-align: right;\">\n",
       "      <th></th>\n",
       "      <th>endTime</th>\n",
       "      <th>artistName</th>\n",
       "      <th>trackName</th>\n",
       "      <th>msPlayed</th>\n",
       "      <th>search</th>\n",
       "    </tr>\n",
       "  </thead>\n",
       "  <tbody>\n",
       "    <tr>\n",
       "      <th>0</th>\n",
       "      <td>2021-11-12 15:22</td>\n",
       "      <td>Myke Towers</td>\n",
       "      <td>Experimento</td>\n",
       "      <td>106394</td>\n",
       "      <td>https://open.spotify.com/search/Experimento%20...</td>\n",
       "    </tr>\n",
       "    <tr>\n",
       "      <th>1</th>\n",
       "      <td>2021-11-13 08:53</td>\n",
       "      <td>Tame Impala</td>\n",
       "      <td>The Less I Know The Better</td>\n",
       "      <td>3712</td>\n",
       "      <td>https://open.spotify.com/search/The%20Less%20I...</td>\n",
       "    </tr>\n",
       "    <tr>\n",
       "      <th>2</th>\n",
       "      <td>2021-11-13 09:33</td>\n",
       "      <td>Goth Babe</td>\n",
       "      <td>Canary Islands</td>\n",
       "      <td>3904</td>\n",
       "      <td>https://open.spotify.com/search/Canary%20Islan...</td>\n",
       "    </tr>\n",
       "    <tr>\n",
       "      <th>3</th>\n",
       "      <td>2021-11-13 09:38</td>\n",
       "      <td>Steve Lacy</td>\n",
       "      <td>Some</td>\n",
       "      <td>118393</td>\n",
       "      <td>https://open.spotify.com/search/Some%20Steve%2...</td>\n",
       "    </tr>\n",
       "    <tr>\n",
       "      <th>4</th>\n",
       "      <td>2021-11-13 09:41</td>\n",
       "      <td>Tame Impala</td>\n",
       "      <td>Feels Like We Only Go Backwards</td>\n",
       "      <td>192960</td>\n",
       "      <td>https://open.spotify.com/search/Feels%20Like%2...</td>\n",
       "    </tr>\n",
       "  </tbody>\n",
       "</table>\n",
       "</div>"
      ],
      "text/plain": [
       "            endTime   artistName                        trackName  msPlayed  \\\n",
       "0  2021-11-12 15:22  Myke Towers                      Experimento    106394   \n",
       "1  2021-11-13 08:53  Tame Impala       The Less I Know The Better      3712   \n",
       "2  2021-11-13 09:33    Goth Babe                   Canary Islands      3904   \n",
       "3  2021-11-13 09:38   Steve Lacy                             Some    118393   \n",
       "4  2021-11-13 09:41  Tame Impala  Feels Like We Only Go Backwards    192960   \n",
       "\n",
       "                                              search  \n",
       "0  https://open.spotify.com/search/Experimento%20...  \n",
       "1  https://open.spotify.com/search/The%20Less%20I...  \n",
       "2  https://open.spotify.com/search/Canary%20Islan...  \n",
       "3  https://open.spotify.com/search/Some%20Steve%2...  \n",
       "4  https://open.spotify.com/search/Feels%20Like%2...  "
      ]
     },
     "execution_count": 28,
     "metadata": {},
     "output_type": "execute_result"
    }
   ],
   "source": [
    "df.head()"
   ]
  },
  {
   "cell_type": "code",
   "execution_count": 35,
   "id": "30dfaafb",
   "metadata": {},
   "outputs": [
    {
     "data": {
      "text/plain": [
       "'https://open.spotify.com/search/Un%20Día%20Más%20(de%20Septiembre)%20Malmö%20040'"
      ]
     },
     "execution_count": 35,
     "metadata": {},
     "output_type": "execute_result"
    }
   ],
   "source": [
    "df['search'][2837]"
   ]
  },
  {
   "cell_type": "code",
   "execution_count": null,
   "id": "9a7a0fed",
   "metadata": {},
   "outputs": [],
   "source": []
  }
 ],
 "metadata": {
  "kernelspec": {
   "display_name": "Python 3 (ipykernel)",
   "language": "python",
   "name": "python3"
  },
  "language_info": {
   "codemirror_mode": {
    "name": "ipython",
    "version": 3
   },
   "file_extension": ".py",
   "mimetype": "text/x-python",
   "name": "python",
   "nbconvert_exporter": "python",
   "pygments_lexer": "ipython3",
   "version": "3.9.12"
  }
 },
 "nbformat": 4,
 "nbformat_minor": 5
}
