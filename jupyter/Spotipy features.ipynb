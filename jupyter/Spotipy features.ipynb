{
 "cells": [
  {
   "cell_type": "code",
   "execution_count": 17,
   "id": "63a16796",
   "metadata": {
    "scrolled": true
   },
   "outputs": [
    {
     "name": "stdout",
     "output_type": "stream",
     "text": [
      "Requirement already satisfied: spotipy in /Users/maria/opt/anaconda3/lib/python3.9/site-packages (2.21.0)\n",
      "Requirement already satisfied: urllib3>=1.26.0 in /Users/maria/opt/anaconda3/lib/python3.9/site-packages (from spotipy) (1.26.9)\n",
      "Requirement already satisfied: redis>=3.5.3 in /Users/maria/opt/anaconda3/lib/python3.9/site-packages (from spotipy) (4.4.0)\n",
      "Requirement already satisfied: six>=1.15.0 in /Users/maria/opt/anaconda3/lib/python3.9/site-packages (from spotipy) (1.16.0)\n",
      "Requirement already satisfied: requests>=2.25.0 in /Users/maria/opt/anaconda3/lib/python3.9/site-packages (from spotipy) (2.27.1)\n",
      "Requirement already satisfied: async-timeout>=4.0.2 in /Users/maria/opt/anaconda3/lib/python3.9/site-packages (from redis>=3.5.3->spotipy) (4.0.2)\n",
      "Requirement already satisfied: certifi>=2017.4.17 in /Users/maria/opt/anaconda3/lib/python3.9/site-packages (from requests>=2.25.0->spotipy) (2021.10.8)\n",
      "Requirement already satisfied: idna<4,>=2.5 in /Users/maria/opt/anaconda3/lib/python3.9/site-packages (from requests>=2.25.0->spotipy) (3.3)\n",
      "Requirement already satisfied: charset-normalizer~=2.0.0 in /Users/maria/opt/anaconda3/lib/python3.9/site-packages (from requests>=2.25.0->spotipy) (2.0.4)\n",
      "Note: you may need to restart the kernel to use updated packages.\n"
     ]
    }
   ],
   "source": [
    "pip install spotipy --upgrade"
   ]
  },
  {
   "cell_type": "code",
   "execution_count": 18,
   "id": "16b8e3e2",
   "metadata": {},
   "outputs": [
    {
     "name": "stdout",
     "output_type": "stream",
     "text": [
      "Requirement already satisfied: tqdm in /Users/maria/opt/anaconda3/lib/python3.9/site-packages (4.64.0)\n",
      "Note: you may need to restart the kernel to use updated packages.\n"
     ]
    }
   ],
   "source": [
    "%pip install tqdm"
   ]
  },
  {
   "cell_type": "code",
   "execution_count": 19,
   "id": "c56f8d84",
   "metadata": {},
   "outputs": [],
   "source": [
    "import pandas as pd\n",
    "import spotipy as sp\n",
    "from spotipy.oauth2 import SpotifyClientCredentials\n",
    "from tqdm.notebook import tqdm"
   ]
  },
  {
   "cell_type": "markdown",
   "id": "f0668fbf",
   "metadata": {},
   "source": [
    "## Conectamos con la API de Spotify"
   ]
  },
  {
   "cell_type": "code",
   "execution_count": 20,
   "id": "b365aff7",
   "metadata": {},
   "outputs": [],
   "source": [
    "auth_manager = SpotifyClientCredentials('a73d30556eba483fa2f6901678510692', '96937d6cdfe94f87944e79a475e9d679')\n",
    "sp = sp.Spotify(auth_manager=auth_manager)"
   ]
  },
  {
   "cell_type": "markdown",
   "id": "152da1a7",
   "metadata": {},
   "source": [
    "## Comenzamos a solicitar información a la API"
   ]
  },
  {
   "cell_type": "code",
   "execution_count": 21,
   "id": "422a8acb",
   "metadata": {},
   "outputs": [],
   "source": [
    "links = pd.read_excel('../../../links.xlsx', sheet_name='links')"
   ]
  },
  {
   "cell_type": "code",
   "execution_count": 22,
   "id": "9f190758",
   "metadata": {},
   "outputs": [],
   "source": [
    "links.drop(columns=['Unnamed: 0'], inplace=True)"
   ]
  },
  {
   "cell_type": "code",
   "execution_count": 23,
   "id": "b300d63a",
   "metadata": {},
   "outputs": [
    {
     "data": {
      "text/plain": [
       "Index(['links_canciones'], dtype='object')"
      ]
     },
     "execution_count": 23,
     "metadata": {},
     "output_type": "execute_result"
    }
   ],
   "source": [
    "links.columns"
   ]
  },
  {
   "cell_type": "code",
   "execution_count": 24,
   "id": "ae319fc1",
   "metadata": {
    "scrolled": true
   },
   "outputs": [
    {
     "data": {
      "text/plain": [
       "(2566, 1)"
      ]
     },
     "execution_count": 24,
     "metadata": {},
     "output_type": "execute_result"
    }
   ],
   "source": [
    "links.shape"
   ]
  },
  {
   "cell_type": "code",
   "execution_count": 25,
   "id": "fbd7d73c",
   "metadata": {},
   "outputs": [],
   "source": [
    "links.drop_duplicates(inplace=True)"
   ]
  },
  {
   "cell_type": "code",
   "execution_count": 84,
   "id": "1597ebd6",
   "metadata": {},
   "outputs": [
    {
     "data": {
      "text/plain": [
       "'https://open.spotify.com/track/4riDfclV7kPDT9D58FpmHd?si=fd1dca8f4d094b65'"
      ]
     },
     "execution_count": 84,
     "metadata": {},
     "output_type": "execute_result"
    }
   ],
   "source": [
    "links['links_canciones'][3]"
   ]
  },
  {
   "cell_type": "code",
   "execution_count": 95,
   "id": "b3d1f6a2",
   "metadata": {},
   "outputs": [],
   "source": [
    "todo=[]\n",
    "trackName=[]\n",
    "artistName=[]\n",
    "artistLink=[]\n",
    "albumLink=[]\n",
    "albumType=[]\n",
    "albumReleaseDate=[]\n",
    "trackDuration=[]\n",
    "trackExplicit=[]\n",
    "trackPopularity=[]\n",
    "local=[]"
   ]
  },
  {
   "cell_type": "code",
   "execution_count": 96,
   "id": "d63003e3",
   "metadata": {},
   "outputs": [
    {
     "data": {
      "application/vnd.jupyter.widget-view+json": {
       "model_id": "45895264ad7a4bddab03dadfba5bf73d",
       "version_major": 2,
       "version_minor": 0
      },
      "text/plain": [
       "0it [00:00, ?it/s]"
      ]
     },
     "metadata": {},
     "output_type": "display_data"
    },
    {
     "data": {
      "text/html": [
       "<div>\n",
       "<style scoped>\n",
       "    .dataframe tbody tr th:only-of-type {\n",
       "        vertical-align: middle;\n",
       "    }\n",
       "\n",
       "    .dataframe tbody tr th {\n",
       "        vertical-align: top;\n",
       "    }\n",
       "\n",
       "    .dataframe thead th {\n",
       "        text-align: right;\n",
       "    }\n",
       "</style>\n",
       "<table border=\"1\" class=\"dataframe\">\n",
       "  <thead>\n",
       "    <tr style=\"text-align: right;\">\n",
       "      <th></th>\n",
       "      <th>todo</th>\n",
       "      <th>trackName</th>\n",
       "      <th>artistName</th>\n",
       "      <th>artistLink</th>\n",
       "      <th>albumLink</th>\n",
       "      <th>albumType</th>\n",
       "      <th>albumReleaseDate</th>\n",
       "      <th>trackDuration</th>\n",
       "      <th>trackExplicit</th>\n",
       "      <th>trackPopularity</th>\n",
       "      <th>local</th>\n",
       "    </tr>\n",
       "  </thead>\n",
       "  <tbody>\n",
       "    <tr>\n",
       "      <th>0</th>\n",
       "      <td>{'album': {'album_type': 'single', 'artists': ...</td>\n",
       "      <td>Experimento</td>\n",
       "      <td>Myke Towers</td>\n",
       "      <td>https://api.spotify.com/v1/artists/7iK8PXO48We...</td>\n",
       "      <td>https://open.spotify.com/album/1KKwufGzWD4zIKq...</td>\n",
       "      <td>single</td>\n",
       "      <td>2021-09-23</td>\n",
       "      <td>222728</td>\n",
       "      <td>False</td>\n",
       "      <td>75</td>\n",
       "      <td>False</td>\n",
       "    </tr>\n",
       "    <tr>\n",
       "      <th>1</th>\n",
       "      <td>{'album': {'album_type': 'single', 'artists': ...</td>\n",
       "      <td>Canary Islands</td>\n",
       "      <td>Goth Babe</td>\n",
       "      <td>https://api.spotify.com/v1/artists/7o96HO2zruj...</td>\n",
       "      <td>https://open.spotify.com/album/3T0gMffhvjVW4DQ...</td>\n",
       "      <td>single</td>\n",
       "      <td>2021-01-28</td>\n",
       "      <td>204521</td>\n",
       "      <td>False</td>\n",
       "      <td>62</td>\n",
       "      <td>False</td>\n",
       "    </tr>\n",
       "    <tr>\n",
       "      <th>2</th>\n",
       "      <td>{'album': {'album_type': 'single', 'artists': ...</td>\n",
       "      <td>Some</td>\n",
       "      <td>Steve Lacy</td>\n",
       "      <td>https://api.spotify.com/v1/artists/57vWImR43h4...</td>\n",
       "      <td>https://open.spotify.com/album/4POiurFeB5bDsF9...</td>\n",
       "      <td>single</td>\n",
       "      <td>2016-10-31</td>\n",
       "      <td>118393</td>\n",
       "      <td>True</td>\n",
       "      <td>79</td>\n",
       "      <td>False</td>\n",
       "    </tr>\n",
       "    <tr>\n",
       "      <th>3</th>\n",
       "      <td>{'album': {'album_type': 'album', 'artists': [...</td>\n",
       "      <td>Feels Like We Only Go Backwards</td>\n",
       "      <td>Tame Impala</td>\n",
       "      <td>https://api.spotify.com/v1/artists/5INjqkS1o8h...</td>\n",
       "      <td>https://open.spotify.com/album/3C2MFZ2iHotUQOS...</td>\n",
       "      <td>album</td>\n",
       "      <td>2012-01-01</td>\n",
       "      <td>192960</td>\n",
       "      <td>False</td>\n",
       "      <td>75</td>\n",
       "      <td>False</td>\n",
       "    </tr>\n",
       "    <tr>\n",
       "      <th>4</th>\n",
       "      <td>{'album': {'album_type': 'album', 'artists': [...</td>\n",
       "      <td>Selfless</td>\n",
       "      <td>The Strokes</td>\n",
       "      <td>https://api.spotify.com/v1/artists/0epOFNiUfyO...</td>\n",
       "      <td>https://open.spotify.com/album/2xkZV2Hl1Omi8rk...</td>\n",
       "      <td>album</td>\n",
       "      <td>2020-04-10</td>\n",
       "      <td>222093</td>\n",
       "      <td>False</td>\n",
       "      <td>70</td>\n",
       "      <td>False</td>\n",
       "    </tr>\n",
       "  </tbody>\n",
       "</table>\n",
       "</div>"
      ],
      "text/plain": [
       "                                                todo  \\\n",
       "0  {'album': {'album_type': 'single', 'artists': ...   \n",
       "1  {'album': {'album_type': 'single', 'artists': ...   \n",
       "2  {'album': {'album_type': 'single', 'artists': ...   \n",
       "3  {'album': {'album_type': 'album', 'artists': [...   \n",
       "4  {'album': {'album_type': 'album', 'artists': [...   \n",
       "\n",
       "                         trackName   artistName  \\\n",
       "0                      Experimento  Myke Towers   \n",
       "1                   Canary Islands    Goth Babe   \n",
       "2                             Some   Steve Lacy   \n",
       "3  Feels Like We Only Go Backwards  Tame Impala   \n",
       "4                         Selfless  The Strokes   \n",
       "\n",
       "                                          artistLink  \\\n",
       "0  https://api.spotify.com/v1/artists/7iK8PXO48We...   \n",
       "1  https://api.spotify.com/v1/artists/7o96HO2zruj...   \n",
       "2  https://api.spotify.com/v1/artists/57vWImR43h4...   \n",
       "3  https://api.spotify.com/v1/artists/5INjqkS1o8h...   \n",
       "4  https://api.spotify.com/v1/artists/0epOFNiUfyO...   \n",
       "\n",
       "                                           albumLink albumType  \\\n",
       "0  https://open.spotify.com/album/1KKwufGzWD4zIKq...    single   \n",
       "1  https://open.spotify.com/album/3T0gMffhvjVW4DQ...    single   \n",
       "2  https://open.spotify.com/album/4POiurFeB5bDsF9...    single   \n",
       "3  https://open.spotify.com/album/3C2MFZ2iHotUQOS...     album   \n",
       "4  https://open.spotify.com/album/2xkZV2Hl1Omi8rk...     album   \n",
       "\n",
       "  albumReleaseDate  trackDuration  trackExplicit  trackPopularity  local  \n",
       "0       2021-09-23         222728          False               75  False  \n",
       "1       2021-01-28         204521          False               62  False  \n",
       "2       2016-10-31         118393           True               79  False  \n",
       "3       2012-01-01         192960          False               75  False  \n",
       "4       2020-04-10         222093          False               70  False  "
      ]
     },
     "execution_count": 96,
     "metadata": {},
     "output_type": "execute_result"
    }
   ],
   "source": [
    "for i,e in tqdm(enumerate(links.links_canciones)):\n",
    "    a = sp.track(e, market=None)\n",
    "    todo.append(a)\n",
    "    trackName.append(a['name'])\n",
    "    artistName.append(a['artists'][0]['name'])\n",
    "    artistLink.append(a['artists'][0]['href'])\n",
    "    albumLink.append(a['album']['external_urls']['spotify'])\n",
    "    albumType.append(a['album']['album_type'])\n",
    "    albumReleaseDate.append(a['album']['release_date'])\n",
    "    trackDuration.append(a['duration_ms'])\n",
    "    trackExplicit.append(a['explicit'])\n",
    "    trackPopularity.append(a['popularity'])\n",
    "    local.append(a['is_local'])\n",
    "\n",
    "df = pd.DataFrame({'todo':todo,\n",
    "'trackName':trackName,\n",
    "'artistName':artistName,\n",
    "'artistLink':artistLink,\n",
    "'albumLink':albumLink,\n",
    "'albumType':albumType,\n",
    "'albumReleaseDate':albumReleaseDate,\n",
    "'trackDuration':trackDuration,\n",
    "'trackExplicit':trackExplicit,\n",
    "'trackPopularity':trackPopularity,\n",
    "'local':local})\n",
    "df.head()"
   ]
  },
  {
   "cell_type": "markdown",
   "id": "83739e39",
   "metadata": {},
   "source": [
    "## Obtener las características de la canción Spotify API"
   ]
  },
  {
   "cell_type": "code",
   "execution_count": 125,
   "id": "0e22da97",
   "metadata": {
    "scrolled": true
   },
   "outputs": [],
   "source": [
    "q = sp.audio_features('https://open.spotify.com/track/3XVBdLihbNbxUwZosxcGuJ?si=4cdf178a4f9f4561')"
   ]
  },
  {
   "cell_type": "code",
   "execution_count": 127,
   "id": "be6bc700",
   "metadata": {},
   "outputs": [
    {
     "data": {
      "text/plain": [
       "0.609"
      ]
     },
     "execution_count": 127,
     "metadata": {},
     "output_type": "execute_result"
    }
   ],
   "source": [
    "q[0]['danceability']"
   ]
  },
  {
   "cell_type": "code",
   "execution_count": 124,
   "id": "83886612",
   "metadata": {},
   "outputs": [],
   "source": [
    "danceability=[]\n",
    "energy=[]\n",
    "key=[]\n",
    "loudness=[]\n",
    "mode=[]\n",
    "speechiness=[]\n",
    "acousticness=[]\n",
    "instrumentalness=[]\n",
    "liveness=[]\n",
    "valence=[]\n",
    "tempo=[]"
   ]
  },
  {
   "cell_type": "code",
   "execution_count": null,
   "id": "cf0a9b2a",
   "metadata": {},
   "outputs": [
    {
     "data": {
      "application/vnd.jupyter.widget-view+json": {
       "model_id": "21a60cd37ab644a39b4f88884f16ac9e",
       "version_major": 2,
       "version_minor": 0
      },
      "text/plain": [
       "0it [00:00, ?it/s]"
      ]
     },
     "metadata": {},
     "output_type": "display_data"
    }
   ],
   "source": [
    "for i,e in tqdm(enumerate(links.links_canciones)):\n",
    "    a = sp.audio_features(e)\n",
    "    danceability.append(a[0]['danceability'])\n",
    "    energy.append(a[0]['energy'])\n",
    "    key.append(a[0]['key'])\n",
    "    loudness.append(a[0]['loudness'])\n",
    "    mode.append(a[0]['mode'])\n",
    "    speechiness.append(a[0]['speechiness'])\n",
    "    acousticness.append(a[0]['acousticness'])\n",
    "    instrumentalness.append(a[0]['instrumentalness'])\n",
    "    liveness.append(a[0]['liveness'])\n",
    "    valence.append(a[0]['valence'])\n",
    "    tempo.append(a[0]['tempo'])\n",
    "\n",
    "df['danceability'] = danceability\n",
    "df['energy'] = energy\n",
    "df['key'] = key\n",
    "df['loudness'] = loudness\n",
    "df['mode'] = mode\n",
    "df['speechiness'] = speechiness\n",
    "df['acousticness'] = acousticness\n",
    "df['instrumentalness'] = instrumentalness\n",
    "df['liveness'] = liveness\n",
    "df['valence'] = valence\n",
    "df['tempo'] = tempo\n",
    "\n",
    "df.head()"
   ]
  },
  {
   "cell_type": "code",
   "execution_count": null,
   "id": "9d8d19e1",
   "metadata": {},
   "outputs": [],
   "source": []
  }
 ],
 "metadata": {
  "kernelspec": {
   "display_name": "Python 3 (ipykernel)",
   "language": "python",
   "name": "python3"
  },
  "language_info": {
   "codemirror_mode": {
    "name": "ipython",
    "version": 3
   },
   "file_extension": ".py",
   "mimetype": "text/x-python",
   "name": "python",
   "nbconvert_exporter": "python",
   "pygments_lexer": "ipython3",
   "version": "3.9.12"
  }
 },
 "nbformat": 4,
 "nbformat_minor": 5
}
