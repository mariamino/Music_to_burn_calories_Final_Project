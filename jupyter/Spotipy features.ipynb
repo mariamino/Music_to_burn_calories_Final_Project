{
 "cells": [
  {
   "cell_type": "code",
   "execution_count": 17,
   "id": "63a16796",
   "metadata": {
    "scrolled": true
   },
   "outputs": [
    {
     "name": "stdout",
     "output_type": "stream",
     "text": [
      "Requirement already satisfied: spotipy in /Users/maria/opt/anaconda3/lib/python3.9/site-packages (2.21.0)\n",
      "Requirement already satisfied: urllib3>=1.26.0 in /Users/maria/opt/anaconda3/lib/python3.9/site-packages (from spotipy) (1.26.9)\n",
      "Requirement already satisfied: redis>=3.5.3 in /Users/maria/opt/anaconda3/lib/python3.9/site-packages (from spotipy) (4.4.0)\n",
      "Requirement already satisfied: six>=1.15.0 in /Users/maria/opt/anaconda3/lib/python3.9/site-packages (from spotipy) (1.16.0)\n",
      "Requirement already satisfied: requests>=2.25.0 in /Users/maria/opt/anaconda3/lib/python3.9/site-packages (from spotipy) (2.27.1)\n",
      "Requirement already satisfied: async-timeout>=4.0.2 in /Users/maria/opt/anaconda3/lib/python3.9/site-packages (from redis>=3.5.3->spotipy) (4.0.2)\n",
      "Requirement already satisfied: certifi>=2017.4.17 in /Users/maria/opt/anaconda3/lib/python3.9/site-packages (from requests>=2.25.0->spotipy) (2021.10.8)\n",
      "Requirement already satisfied: idna<4,>=2.5 in /Users/maria/opt/anaconda3/lib/python3.9/site-packages (from requests>=2.25.0->spotipy) (3.3)\n",
      "Requirement already satisfied: charset-normalizer~=2.0.0 in /Users/maria/opt/anaconda3/lib/python3.9/site-packages (from requests>=2.25.0->spotipy) (2.0.4)\n",
      "Note: you may need to restart the kernel to use updated packages.\n"
     ]
    }
   ],
   "source": [
    "pip install spotipy --upgrade"
   ]
  },
  {
   "cell_type": "code",
   "execution_count": 18,
   "id": "16b8e3e2",
   "metadata": {},
   "outputs": [
    {
     "name": "stdout",
     "output_type": "stream",
     "text": [
      "Requirement already satisfied: tqdm in /Users/maria/opt/anaconda3/lib/python3.9/site-packages (4.64.0)\n",
      "Note: you may need to restart the kernel to use updated packages.\n"
     ]
    }
   ],
   "source": [
    "%pip install tqdm"
   ]
  },
  {
   "cell_type": "code",
   "execution_count": 132,
   "id": "c56f8d84",
   "metadata": {},
   "outputs": [],
   "source": [
    "import pandas as pd\n",
    "import spotipy as sp\n",
    "from spotipy.oauth2 import SpotifyClientCredentials\n",
    "from tqdm.notebook import tqdm"
   ]
  },
  {
   "cell_type": "markdown",
   "id": "3bddefe8",
   "metadata": {},
   "source": [
    "## Conectamos con la API de Spotify"
   ]
  },
  {
   "cell_type": "code",
   "execution_count": 133,
   "id": "b365aff7",
   "metadata": {},
   "outputs": [],
   "source": [
    "auth_manager = SpotifyClientCredentials('a73d30556eba483fa2f6901678510692', '96937d6cdfe94f87944e79a475e9d679')\n",
    "sp = sp.Spotify(auth_manager=auth_manager)"
   ]
  },
  {
   "cell_type": "markdown",
   "id": "16fb089e",
   "metadata": {},
   "source": [
    "## Comenzamos a solicitar información a la API"
   ]
  },
  {
   "cell_type": "code",
   "execution_count": 21,
   "id": "a8c974c0",
   "metadata": {},
   "outputs": [],
   "source": [
    "links = pd.read_excel('../../../links.xlsx', sheet_name='links')"
   ]
  },
  {
   "cell_type": "code",
   "execution_count": 22,
   "id": "016b2d4a",
   "metadata": {},
   "outputs": [],
   "source": [
    "links.drop(columns=['Unnamed: 0'], inplace=True)"
   ]
  },
  {
   "cell_type": "code",
   "execution_count": 23,
   "id": "dbdce74a",
   "metadata": {},
   "outputs": [
    {
     "data": {
      "text/plain": [
       "Index(['links_canciones'], dtype='object')"
      ]
     },
     "execution_count": 23,
     "metadata": {},
     "output_type": "execute_result"
    }
   ],
   "source": [
    "links.columns"
   ]
  },
  {
   "cell_type": "code",
   "execution_count": 24,
   "id": "b150c327",
   "metadata": {
    "scrolled": true
   },
   "outputs": [
    {
     "data": {
      "text/plain": [
       "(2566, 1)"
      ]
     },
     "execution_count": 24,
     "metadata": {},
     "output_type": "execute_result"
    }
   ],
   "source": [
    "links.shape"
   ]
  },
  {
   "cell_type": "code",
   "execution_count": 25,
   "id": "59f848af",
   "metadata": {},
   "outputs": [],
   "source": [
    "links.drop_duplicates(inplace=True)"
   ]
  },
  {
   "cell_type": "code",
   "execution_count": 84,
   "id": "1e523bac",
   "metadata": {},
   "outputs": [
    {
     "data": {
      "text/plain": [
       "'https://open.spotify.com/track/4riDfclV7kPDT9D58FpmHd?si=fd1dca8f4d094b65'"
      ]
     },
     "execution_count": 84,
     "metadata": {},
     "output_type": "execute_result"
    }
   ],
   "source": [
    "links['links_canciones'][3]"
   ]
  },
  {
   "cell_type": "code",
   "execution_count": 95,
   "id": "b8e6dcb2",
   "metadata": {},
   "outputs": [],
   "source": [
    "todo=[]\n",
    "trackName=[]\n",
    "artistName=[]\n",
    "artistLink=[]\n",
    "albumLink=[]\n",
    "albumType=[]\n",
    "albumReleaseDate=[]\n",
    "trackDuration=[]\n",
    "trackExplicit=[]\n",
    "trackPopularity=[]\n",
    "local=[]"
   ]
  },
  {
   "cell_type": "code",
   "execution_count": 96,
   "id": "7a0839cb",
   "metadata": {
    "scrolled": true
   },
   "outputs": [
    {
     "data": {
      "application/vnd.jupyter.widget-view+json": {
       "model_id": "45895264ad7a4bddab03dadfba5bf73d",
       "version_major": 2,
       "version_minor": 0
      },
      "text/plain": [
       "0it [00:00, ?it/s]"
      ]
     },
     "metadata": {},
     "output_type": "display_data"
    },
    {
     "data": {
      "text/html": [
       "<div>\n",
       "<style scoped>\n",
       "    .dataframe tbody tr th:only-of-type {\n",
       "        vertical-align: middle;\n",
       "    }\n",
       "\n",
       "    .dataframe tbody tr th {\n",
       "        vertical-align: top;\n",
       "    }\n",
       "\n",
       "    .dataframe thead th {\n",
       "        text-align: right;\n",
       "    }\n",
       "</style>\n",
       "<table border=\"1\" class=\"dataframe\">\n",
       "  <thead>\n",
       "    <tr style=\"text-align: right;\">\n",
       "      <th></th>\n",
       "      <th>todo</th>\n",
       "      <th>trackName</th>\n",
       "      <th>artistName</th>\n",
       "      <th>artistLink</th>\n",
       "      <th>albumLink</th>\n",
       "      <th>albumType</th>\n",
       "      <th>albumReleaseDate</th>\n",
       "      <th>trackDuration</th>\n",
       "      <th>trackExplicit</th>\n",
       "      <th>trackPopularity</th>\n",
       "      <th>local</th>\n",
       "    </tr>\n",
       "  </thead>\n",
       "  <tbody>\n",
       "    <tr>\n",
       "      <th>0</th>\n",
       "      <td>{'album': {'album_type': 'single', 'artists': ...</td>\n",
       "      <td>Experimento</td>\n",
       "      <td>Myke Towers</td>\n",
       "      <td>https://api.spotify.com/v1/artists/7iK8PXO48We...</td>\n",
       "      <td>https://open.spotify.com/album/1KKwufGzWD4zIKq...</td>\n",
       "      <td>single</td>\n",
       "      <td>2021-09-23</td>\n",
       "      <td>222728</td>\n",
       "      <td>False</td>\n",
       "      <td>75</td>\n",
       "      <td>False</td>\n",
       "    </tr>\n",
       "    <tr>\n",
       "      <th>1</th>\n",
       "      <td>{'album': {'album_type': 'single', 'artists': ...</td>\n",
       "      <td>Canary Islands</td>\n",
       "      <td>Goth Babe</td>\n",
       "      <td>https://api.spotify.com/v1/artists/7o96HO2zruj...</td>\n",
       "      <td>https://open.spotify.com/album/3T0gMffhvjVW4DQ...</td>\n",
       "      <td>single</td>\n",
       "      <td>2021-01-28</td>\n",
       "      <td>204521</td>\n",
       "      <td>False</td>\n",
       "      <td>62</td>\n",
       "      <td>False</td>\n",
       "    </tr>\n",
       "    <tr>\n",
       "      <th>2</th>\n",
       "      <td>{'album': {'album_type': 'single', 'artists': ...</td>\n",
       "      <td>Some</td>\n",
       "      <td>Steve Lacy</td>\n",
       "      <td>https://api.spotify.com/v1/artists/57vWImR43h4...</td>\n",
       "      <td>https://open.spotify.com/album/4POiurFeB5bDsF9...</td>\n",
       "      <td>single</td>\n",
       "      <td>2016-10-31</td>\n",
       "      <td>118393</td>\n",
       "      <td>True</td>\n",
       "      <td>79</td>\n",
       "      <td>False</td>\n",
       "    </tr>\n",
       "    <tr>\n",
       "      <th>3</th>\n",
       "      <td>{'album': {'album_type': 'album', 'artists': [...</td>\n",
       "      <td>Feels Like We Only Go Backwards</td>\n",
       "      <td>Tame Impala</td>\n",
       "      <td>https://api.spotify.com/v1/artists/5INjqkS1o8h...</td>\n",
       "      <td>https://open.spotify.com/album/3C2MFZ2iHotUQOS...</td>\n",
       "      <td>album</td>\n",
       "      <td>2012-01-01</td>\n",
       "      <td>192960</td>\n",
       "      <td>False</td>\n",
       "      <td>75</td>\n",
       "      <td>False</td>\n",
       "    </tr>\n",
       "    <tr>\n",
       "      <th>4</th>\n",
       "      <td>{'album': {'album_type': 'album', 'artists': [...</td>\n",
       "      <td>Selfless</td>\n",
       "      <td>The Strokes</td>\n",
       "      <td>https://api.spotify.com/v1/artists/0epOFNiUfyO...</td>\n",
       "      <td>https://open.spotify.com/album/2xkZV2Hl1Omi8rk...</td>\n",
       "      <td>album</td>\n",
       "      <td>2020-04-10</td>\n",
       "      <td>222093</td>\n",
       "      <td>False</td>\n",
       "      <td>70</td>\n",
       "      <td>False</td>\n",
       "    </tr>\n",
       "  </tbody>\n",
       "</table>\n",
       "</div>"
      ],
      "text/plain": [
       "                                                todo  \\\n",
       "0  {'album': {'album_type': 'single', 'artists': ...   \n",
       "1  {'album': {'album_type': 'single', 'artists': ...   \n",
       "2  {'album': {'album_type': 'single', 'artists': ...   \n",
       "3  {'album': {'album_type': 'album', 'artists': [...   \n",
       "4  {'album': {'album_type': 'album', 'artists': [...   \n",
       "\n",
       "                         trackName   artistName  \\\n",
       "0                      Experimento  Myke Towers   \n",
       "1                   Canary Islands    Goth Babe   \n",
       "2                             Some   Steve Lacy   \n",
       "3  Feels Like We Only Go Backwards  Tame Impala   \n",
       "4                         Selfless  The Strokes   \n",
       "\n",
       "                                          artistLink  \\\n",
       "0  https://api.spotify.com/v1/artists/7iK8PXO48We...   \n",
       "1  https://api.spotify.com/v1/artists/7o96HO2zruj...   \n",
       "2  https://api.spotify.com/v1/artists/57vWImR43h4...   \n",
       "3  https://api.spotify.com/v1/artists/5INjqkS1o8h...   \n",
       "4  https://api.spotify.com/v1/artists/0epOFNiUfyO...   \n",
       "\n",
       "                                           albumLink albumType  \\\n",
       "0  https://open.spotify.com/album/1KKwufGzWD4zIKq...    single   \n",
       "1  https://open.spotify.com/album/3T0gMffhvjVW4DQ...    single   \n",
       "2  https://open.spotify.com/album/4POiurFeB5bDsF9...    single   \n",
       "3  https://open.spotify.com/album/3C2MFZ2iHotUQOS...     album   \n",
       "4  https://open.spotify.com/album/2xkZV2Hl1Omi8rk...     album   \n",
       "\n",
       "  albumReleaseDate  trackDuration  trackExplicit  trackPopularity  local  \n",
       "0       2021-09-23         222728          False               75  False  \n",
       "1       2021-01-28         204521          False               62  False  \n",
       "2       2016-10-31         118393           True               79  False  \n",
       "3       2012-01-01         192960          False               75  False  \n",
       "4       2020-04-10         222093          False               70  False  "
      ]
     },
     "execution_count": 96,
     "metadata": {},
     "output_type": "execute_result"
    }
   ],
   "source": [
    "for i,e in tqdm(enumerate(links.links_canciones)):\n",
    "    a = sp.track(e, market=None)\n",
    "    todo.append(a)\n",
    "    trackName.append(a['name'])\n",
    "    artistName.append(a['artists'][0]['name'])\n",
    "    artistLink.append(a['artists'][0]['href'])\n",
    "    albumLink.append(a['album']['external_urls']['spotify'])\n",
    "    albumType.append(a['album']['album_type'])\n",
    "    albumReleaseDate.append(a['album']['release_date'])\n",
    "    trackDuration.append(a['duration_ms'])\n",
    "    trackExplicit.append(a['explicit'])\n",
    "    trackPopularity.append(a['popularity'])\n",
    "    local.append(a['is_local'])\n",
    "\n",
    "df = pd.DataFrame({'todo':todo,\n",
    "'trackName':trackName,\n",
    "'artistName':artistName,\n",
    "'artistLink':artistLink,\n",
    "'albumLink':albumLink,\n",
    "'albumType':albumType,\n",
    "'albumReleaseDate':albumReleaseDate,\n",
    "'trackDuration':trackDuration,\n",
    "'trackExplicit':trackExplicit,\n",
    "'trackPopularity':trackPopularity,\n",
    "'local':local})\n",
    "df.head()"
   ]
  },
  {
   "cell_type": "markdown",
   "id": "1b2e7b7a",
   "metadata": {},
   "source": [
    "## Obtener las características sonoras de la canción Spotify API"
   ]
  },
  {
   "cell_type": "code",
   "execution_count": 125,
   "id": "0e22da97",
   "metadata": {
    "scrolled": true
   },
   "outputs": [],
   "source": [
    "q = sp.audio_features('https://open.spotify.com/track/3XVBdLihbNbxUwZosxcGuJ?si=4cdf178a4f9f4561')"
   ]
  },
  {
   "cell_type": "code",
   "execution_count": 127,
   "id": "a26cb6d5",
   "metadata": {},
   "outputs": [
    {
     "data": {
      "text/plain": [
       "0.609"
      ]
     },
     "execution_count": 127,
     "metadata": {},
     "output_type": "execute_result"
    }
   ],
   "source": [
    "q[0]['danceability']"
   ]
  },
  {
   "cell_type": "code",
   "execution_count": 124,
   "id": "83886612",
   "metadata": {},
   "outputs": [],
   "source": [
    "danceability=[]\n",
    "energy=[]\n",
    "key=[]\n",
    "loudness=[]\n",
    "mode=[]\n",
    "speechiness=[]\n",
    "acousticness=[]\n",
    "instrumentalness=[]\n",
    "liveness=[]\n",
    "valence=[]\n",
    "tempo=[]"
   ]
  },
  {
   "cell_type": "code",
   "execution_count": 128,
   "id": "49a1b3b4",
   "metadata": {
    "scrolled": true
   },
   "outputs": [
    {
     "data": {
      "application/vnd.jupyter.widget-view+json": {
       "model_id": "21a60cd37ab644a39b4f88884f16ac9e",
       "version_major": 2,
       "version_minor": 0
      },
      "text/plain": [
       "0it [00:00, ?it/s]"
      ]
     },
     "metadata": {},
     "output_type": "display_data"
    },
    {
     "data": {
      "text/html": [
       "<div>\n",
       "<style scoped>\n",
       "    .dataframe tbody tr th:only-of-type {\n",
       "        vertical-align: middle;\n",
       "    }\n",
       "\n",
       "    .dataframe tbody tr th {\n",
       "        vertical-align: top;\n",
       "    }\n",
       "\n",
       "    .dataframe thead th {\n",
       "        text-align: right;\n",
       "    }\n",
       "</style>\n",
       "<table border=\"1\" class=\"dataframe\">\n",
       "  <thead>\n",
       "    <tr style=\"text-align: right;\">\n",
       "      <th></th>\n",
       "      <th>todo</th>\n",
       "      <th>trackName</th>\n",
       "      <th>artistName</th>\n",
       "      <th>artistLink</th>\n",
       "      <th>albumLink</th>\n",
       "      <th>albumType</th>\n",
       "      <th>albumReleaseDate</th>\n",
       "      <th>trackDuration</th>\n",
       "      <th>trackExplicit</th>\n",
       "      <th>trackPopularity</th>\n",
       "      <th>...</th>\n",
       "      <th>energy</th>\n",
       "      <th>key</th>\n",
       "      <th>loudness</th>\n",
       "      <th>mode</th>\n",
       "      <th>speechiness</th>\n",
       "      <th>acousticness</th>\n",
       "      <th>instrumentalness</th>\n",
       "      <th>liveness</th>\n",
       "      <th>valence</th>\n",
       "      <th>tempo</th>\n",
       "    </tr>\n",
       "  </thead>\n",
       "  <tbody>\n",
       "    <tr>\n",
       "      <th>0</th>\n",
       "      <td>{'album': {'album_type': 'single', 'artists': ...</td>\n",
       "      <td>Experimento</td>\n",
       "      <td>Myke Towers</td>\n",
       "      <td>https://api.spotify.com/v1/artists/7iK8PXO48We...</td>\n",
       "      <td>https://open.spotify.com/album/1KKwufGzWD4zIKq...</td>\n",
       "      <td>single</td>\n",
       "      <td>2021-09-23</td>\n",
       "      <td>222728</td>\n",
       "      <td>False</td>\n",
       "      <td>75</td>\n",
       "      <td>...</td>\n",
       "      <td>0.806</td>\n",
       "      <td>6</td>\n",
       "      <td>-3.589</td>\n",
       "      <td>0</td>\n",
       "      <td>0.0393</td>\n",
       "      <td>0.08280</td>\n",
       "      <td>0.00000</td>\n",
       "      <td>0.1560</td>\n",
       "      <td>0.6820</td>\n",
       "      <td>110.042</td>\n",
       "    </tr>\n",
       "    <tr>\n",
       "      <th>1</th>\n",
       "      <td>{'album': {'album_type': 'single', 'artists': ...</td>\n",
       "      <td>Canary Islands</td>\n",
       "      <td>Goth Babe</td>\n",
       "      <td>https://api.spotify.com/v1/artists/7o96HO2zruj...</td>\n",
       "      <td>https://open.spotify.com/album/3T0gMffhvjVW4DQ...</td>\n",
       "      <td>single</td>\n",
       "      <td>2021-01-28</td>\n",
       "      <td>204521</td>\n",
       "      <td>False</td>\n",
       "      <td>62</td>\n",
       "      <td>...</td>\n",
       "      <td>0.683</td>\n",
       "      <td>1</td>\n",
       "      <td>-7.699</td>\n",
       "      <td>1</td>\n",
       "      <td>0.0523</td>\n",
       "      <td>0.02800</td>\n",
       "      <td>0.00329</td>\n",
       "      <td>0.1560</td>\n",
       "      <td>0.7280</td>\n",
       "      <td>115.058</td>\n",
       "    </tr>\n",
       "    <tr>\n",
       "      <th>2</th>\n",
       "      <td>{'album': {'album_type': 'single', 'artists': ...</td>\n",
       "      <td>Some</td>\n",
       "      <td>Steve Lacy</td>\n",
       "      <td>https://api.spotify.com/v1/artists/57vWImR43h4...</td>\n",
       "      <td>https://open.spotify.com/album/4POiurFeB5bDsF9...</td>\n",
       "      <td>single</td>\n",
       "      <td>2016-10-31</td>\n",
       "      <td>118393</td>\n",
       "      <td>True</td>\n",
       "      <td>79</td>\n",
       "      <td>...</td>\n",
       "      <td>0.554</td>\n",
       "      <td>7</td>\n",
       "      <td>-6.417</td>\n",
       "      <td>1</td>\n",
       "      <td>0.0300</td>\n",
       "      <td>0.00548</td>\n",
       "      <td>0.25400</td>\n",
       "      <td>0.0995</td>\n",
       "      <td>0.6340</td>\n",
       "      <td>104.010</td>\n",
       "    </tr>\n",
       "    <tr>\n",
       "      <th>3</th>\n",
       "      <td>{'album': {'album_type': 'album', 'artists': [...</td>\n",
       "      <td>Feels Like We Only Go Backwards</td>\n",
       "      <td>Tame Impala</td>\n",
       "      <td>https://api.spotify.com/v1/artists/5INjqkS1o8h...</td>\n",
       "      <td>https://open.spotify.com/album/3C2MFZ2iHotUQOS...</td>\n",
       "      <td>album</td>\n",
       "      <td>2012-01-01</td>\n",
       "      <td>192960</td>\n",
       "      <td>False</td>\n",
       "      <td>75</td>\n",
       "      <td>...</td>\n",
       "      <td>0.900</td>\n",
       "      <td>2</td>\n",
       "      <td>-2.352</td>\n",
       "      <td>0</td>\n",
       "      <td>0.0574</td>\n",
       "      <td>0.02770</td>\n",
       "      <td>0.63500</td>\n",
       "      <td>0.1100</td>\n",
       "      <td>0.4910</td>\n",
       "      <td>149.508</td>\n",
       "    </tr>\n",
       "    <tr>\n",
       "      <th>4</th>\n",
       "      <td>{'album': {'album_type': 'album', 'artists': [...</td>\n",
       "      <td>Selfless</td>\n",
       "      <td>The Strokes</td>\n",
       "      <td>https://api.spotify.com/v1/artists/0epOFNiUfyO...</td>\n",
       "      <td>https://open.spotify.com/album/2xkZV2Hl1Omi8rk...</td>\n",
       "      <td>album</td>\n",
       "      <td>2020-04-10</td>\n",
       "      <td>222093</td>\n",
       "      <td>False</td>\n",
       "      <td>70</td>\n",
       "      <td>...</td>\n",
       "      <td>0.679</td>\n",
       "      <td>4</td>\n",
       "      <td>-4.297</td>\n",
       "      <td>1</td>\n",
       "      <td>0.0333</td>\n",
       "      <td>0.19100</td>\n",
       "      <td>0.00175</td>\n",
       "      <td>0.0889</td>\n",
       "      <td>0.0888</td>\n",
       "      <td>121.990</td>\n",
       "    </tr>\n",
       "  </tbody>\n",
       "</table>\n",
       "<p>5 rows × 22 columns</p>\n",
       "</div>"
      ],
      "text/plain": [
       "                                                todo  \\\n",
       "0  {'album': {'album_type': 'single', 'artists': ...   \n",
       "1  {'album': {'album_type': 'single', 'artists': ...   \n",
       "2  {'album': {'album_type': 'single', 'artists': ...   \n",
       "3  {'album': {'album_type': 'album', 'artists': [...   \n",
       "4  {'album': {'album_type': 'album', 'artists': [...   \n",
       "\n",
       "                         trackName   artistName  \\\n",
       "0                      Experimento  Myke Towers   \n",
       "1                   Canary Islands    Goth Babe   \n",
       "2                             Some   Steve Lacy   \n",
       "3  Feels Like We Only Go Backwards  Tame Impala   \n",
       "4                         Selfless  The Strokes   \n",
       "\n",
       "                                          artistLink  \\\n",
       "0  https://api.spotify.com/v1/artists/7iK8PXO48We...   \n",
       "1  https://api.spotify.com/v1/artists/7o96HO2zruj...   \n",
       "2  https://api.spotify.com/v1/artists/57vWImR43h4...   \n",
       "3  https://api.spotify.com/v1/artists/5INjqkS1o8h...   \n",
       "4  https://api.spotify.com/v1/artists/0epOFNiUfyO...   \n",
       "\n",
       "                                           albumLink albumType  \\\n",
       "0  https://open.spotify.com/album/1KKwufGzWD4zIKq...    single   \n",
       "1  https://open.spotify.com/album/3T0gMffhvjVW4DQ...    single   \n",
       "2  https://open.spotify.com/album/4POiurFeB5bDsF9...    single   \n",
       "3  https://open.spotify.com/album/3C2MFZ2iHotUQOS...     album   \n",
       "4  https://open.spotify.com/album/2xkZV2Hl1Omi8rk...     album   \n",
       "\n",
       "  albumReleaseDate  trackDuration  trackExplicit  trackPopularity  ...  \\\n",
       "0       2021-09-23         222728          False               75  ...   \n",
       "1       2021-01-28         204521          False               62  ...   \n",
       "2       2016-10-31         118393           True               79  ...   \n",
       "3       2012-01-01         192960          False               75  ...   \n",
       "4       2020-04-10         222093          False               70  ...   \n",
       "\n",
       "   energy  key  loudness  mode  speechiness  acousticness  instrumentalness  \\\n",
       "0   0.806    6    -3.589     0       0.0393       0.08280           0.00000   \n",
       "1   0.683    1    -7.699     1       0.0523       0.02800           0.00329   \n",
       "2   0.554    7    -6.417     1       0.0300       0.00548           0.25400   \n",
       "3   0.900    2    -2.352     0       0.0574       0.02770           0.63500   \n",
       "4   0.679    4    -4.297     1       0.0333       0.19100           0.00175   \n",
       "\n",
       "   liveness  valence    tempo  \n",
       "0    0.1560   0.6820  110.042  \n",
       "1    0.1560   0.7280  115.058  \n",
       "2    0.0995   0.6340  104.010  \n",
       "3    0.1100   0.4910  149.508  \n",
       "4    0.0889   0.0888  121.990  \n",
       "\n",
       "[5 rows x 22 columns]"
      ]
     },
     "execution_count": 128,
     "metadata": {},
     "output_type": "execute_result"
    }
   ],
   "source": [
    "for i,e in tqdm(enumerate(links.links_canciones)):\n",
    "    a = sp.audio_features(e)\n",
    "    danceability.append(a[0]['danceability'])\n",
    "    energy.append(a[0]['energy'])\n",
    "    key.append(a[0]['key'])\n",
    "    loudness.append(a[0]['loudness'])\n",
    "    mode.append(a[0]['mode'])\n",
    "    speechiness.append(a[0]['speechiness'])\n",
    "    acousticness.append(a[0]['acousticness'])\n",
    "    instrumentalness.append(a[0]['instrumentalness'])\n",
    "    liveness.append(a[0]['liveness'])\n",
    "    valence.append(a[0]['valence'])\n",
    "    tempo.append(a[0]['tempo'])\n",
    "\n",
    "df['danceability'] = danceability\n",
    "df['energy'] = energy\n",
    "df['key'] = key\n",
    "df['loudness'] = loudness\n",
    "df['mode'] = mode\n",
    "df['speechiness'] = speechiness\n",
    "df['acousticness'] = acousticness\n",
    "df['instrumentalness'] = instrumentalness\n",
    "df['liveness'] = liveness\n",
    "df['valence'] = valence\n",
    "df['tempo'] = tempo\n",
    "\n",
    "df.head()"
   ]
  },
  {
   "cell_type": "markdown",
   "id": "c6e19763",
   "metadata": {},
   "source": [
    "## Añadimos más links (2568-3271)"
   ]
  },
  {
   "cell_type": "code",
   "execution_count": 137,
   "id": "f081ee64",
   "metadata": {},
   "outputs": [],
   "source": [
    "links2 = pd.read_excel('../../../links.xlsx', sheet_name='2568-3271')"
   ]
  },
  {
   "cell_type": "code",
   "execution_count": 138,
   "id": "f91f9eb9",
   "metadata": {},
   "outputs": [
    {
     "data": {
      "text/plain": [
       "Index(['links_canciones'], dtype='object')"
      ]
     },
     "execution_count": 138,
     "metadata": {},
     "output_type": "execute_result"
    }
   ],
   "source": [
    "links2.columns"
   ]
  },
  {
   "cell_type": "code",
   "execution_count": 140,
   "id": "cd013266",
   "metadata": {
    "scrolled": true
   },
   "outputs": [
    {
     "data": {
      "text/plain": [
       "(704, 1)"
      ]
     },
     "execution_count": 140,
     "metadata": {},
     "output_type": "execute_result"
    }
   ],
   "source": [
    "links2.shape"
   ]
  },
  {
   "cell_type": "code",
   "execution_count": 152,
   "id": "54646bdc",
   "metadata": {
    "scrolled": true
   },
   "outputs": [],
   "source": [
    "links2.drop_duplicates(inplace=True)"
   ]
  },
  {
   "cell_type": "code",
   "execution_count": 153,
   "id": "46aa4e00",
   "metadata": {},
   "outputs": [
    {
     "data": {
      "text/plain": [
       "(474, 1)"
      ]
     },
     "execution_count": 153,
     "metadata": {},
     "output_type": "execute_result"
    }
   ],
   "source": [
    "links2.shape"
   ]
  },
  {
   "cell_type": "code",
   "execution_count": 148,
   "id": "8671349b",
   "metadata": {},
   "outputs": [],
   "source": [
    "links2 = links2.reset_index(drop=True)"
   ]
  },
  {
   "cell_type": "code",
   "execution_count": 149,
   "id": "348ad43f",
   "metadata": {},
   "outputs": [
    {
     "data": {
      "text/plain": [
       "'https://open.spotify.com/track/5mcYWxQAAlqGAhEPqVMMR5?si=55a367a71b684cd5'"
      ]
     },
     "execution_count": 149,
     "metadata": {},
     "output_type": "execute_result"
    }
   ],
   "source": [
    "links2['links_canciones'][3]"
   ]
  },
  {
   "cell_type": "code",
   "execution_count": 168,
   "id": "0ed73d9a",
   "metadata": {},
   "outputs": [],
   "source": [
    "todo2=[]\n",
    "trackName2=[]\n",
    "artistName2=[]\n",
    "artistLink2=[]\n",
    "albumLink2=[]\n",
    "albumType2=[]\n",
    "albumReleaseDate2=[]\n",
    "trackDuration2=[]\n",
    "trackExplicit2=[]\n",
    "trackPopularity2=[]\n",
    "local2=[]"
   ]
  },
  {
   "cell_type": "code",
   "execution_count": 169,
   "id": "3f58e699",
   "metadata": {
    "scrolled": true
   },
   "outputs": [
    {
     "data": {
      "application/vnd.jupyter.widget-view+json": {
       "model_id": "2808d0d6e9184d3fb7e3760e5b68f57b",
       "version_major": 2,
       "version_minor": 0
      },
      "text/plain": [
       "0it [00:00, ?it/s]"
      ]
     },
     "metadata": {},
     "output_type": "display_data"
    },
    {
     "data": {
      "text/html": [
       "<div>\n",
       "<style scoped>\n",
       "    .dataframe tbody tr th:only-of-type {\n",
       "        vertical-align: middle;\n",
       "    }\n",
       "\n",
       "    .dataframe tbody tr th {\n",
       "        vertical-align: top;\n",
       "    }\n",
       "\n",
       "    .dataframe thead th {\n",
       "        text-align: right;\n",
       "    }\n",
       "</style>\n",
       "<table border=\"1\" class=\"dataframe\">\n",
       "  <thead>\n",
       "    <tr style=\"text-align: right;\">\n",
       "      <th></th>\n",
       "      <th>todo</th>\n",
       "      <th>trackName</th>\n",
       "      <th>artistName</th>\n",
       "      <th>artistLink</th>\n",
       "      <th>albumLink</th>\n",
       "      <th>albumType</th>\n",
       "      <th>albumReleaseDate</th>\n",
       "      <th>trackDuration</th>\n",
       "      <th>trackExplicit</th>\n",
       "      <th>trackPopularity</th>\n",
       "      <th>local</th>\n",
       "    </tr>\n",
       "  </thead>\n",
       "  <tbody>\n",
       "    <tr>\n",
       "      <th>0</th>\n",
       "      <td>{'album': {'album_type': 'album', 'artists': [...</td>\n",
       "      <td>Aquatic Mouth Dance</td>\n",
       "      <td>Red Hot Chili Peppers</td>\n",
       "      <td>https://api.spotify.com/v1/artists/0L8ExT028jH...</td>\n",
       "      <td>https://open.spotify.com/album/2ITVvrNiINKRiW7...</td>\n",
       "      <td>album</td>\n",
       "      <td>2022-04-01</td>\n",
       "      <td>260792</td>\n",
       "      <td>False</td>\n",
       "      <td>60</td>\n",
       "      <td>False</td>\n",
       "    </tr>\n",
       "    <tr>\n",
       "      <th>1</th>\n",
       "      <td>{'album': {'album_type': 'album', 'artists': [...</td>\n",
       "      <td>The Chain - 2004 Remaster</td>\n",
       "      <td>Fleetwood Mac</td>\n",
       "      <td>https://api.spotify.com/v1/artists/08GQAI4eElD...</td>\n",
       "      <td>https://open.spotify.com/album/0BwWUstDMUbgq2N...</td>\n",
       "      <td>album</td>\n",
       "      <td>1977-02-04</td>\n",
       "      <td>270213</td>\n",
       "      <td>False</td>\n",
       "      <td>80</td>\n",
       "      <td>False</td>\n",
       "    </tr>\n",
       "    <tr>\n",
       "      <th>2</th>\n",
       "      <td>{'album': {'album_type': 'album', 'artists': [...</td>\n",
       "      <td>Stressed Out</td>\n",
       "      <td>Twenty One Pilots</td>\n",
       "      <td>https://api.spotify.com/v1/artists/3YQKmKGau1P...</td>\n",
       "      <td>https://open.spotify.com/album/3cQO7jp5S9qLBoI...</td>\n",
       "      <td>album</td>\n",
       "      <td>2015-05-15</td>\n",
       "      <td>202333</td>\n",
       "      <td>False</td>\n",
       "      <td>84</td>\n",
       "      <td>False</td>\n",
       "    </tr>\n",
       "    <tr>\n",
       "      <th>3</th>\n",
       "      <td>{'album': {'album_type': 'single', 'artists': ...</td>\n",
       "      <td>En El Coche</td>\n",
       "      <td>Aitana</td>\n",
       "      <td>https://api.spotify.com/v1/artists/7eLcDZDYHXZ...</td>\n",
       "      <td>https://open.spotify.com/album/6sIXTuaE9F2p4Pc...</td>\n",
       "      <td>single</td>\n",
       "      <td>2022-03-31</td>\n",
       "      <td>125080</td>\n",
       "      <td>False</td>\n",
       "      <td>71</td>\n",
       "      <td>False</td>\n",
       "    </tr>\n",
       "    <tr>\n",
       "      <th>4</th>\n",
       "      <td>{'album': {'album_type': 'single', 'artists': ...</td>\n",
       "      <td>As It Was</td>\n",
       "      <td>Harry Styles</td>\n",
       "      <td>https://api.spotify.com/v1/artists/6KImCVD70vt...</td>\n",
       "      <td>https://open.spotify.com/album/2pqdSWeJVsXAhHF...</td>\n",
       "      <td>single</td>\n",
       "      <td>2022-03-31</td>\n",
       "      <td>167303</td>\n",
       "      <td>False</td>\n",
       "      <td>93</td>\n",
       "      <td>False</td>\n",
       "    </tr>\n",
       "  </tbody>\n",
       "</table>\n",
       "</div>"
      ],
      "text/plain": [
       "                                                todo  \\\n",
       "0  {'album': {'album_type': 'album', 'artists': [...   \n",
       "1  {'album': {'album_type': 'album', 'artists': [...   \n",
       "2  {'album': {'album_type': 'album', 'artists': [...   \n",
       "3  {'album': {'album_type': 'single', 'artists': ...   \n",
       "4  {'album': {'album_type': 'single', 'artists': ...   \n",
       "\n",
       "                   trackName             artistName  \\\n",
       "0        Aquatic Mouth Dance  Red Hot Chili Peppers   \n",
       "1  The Chain - 2004 Remaster          Fleetwood Mac   \n",
       "2               Stressed Out      Twenty One Pilots   \n",
       "3                En El Coche                 Aitana   \n",
       "4                  As It Was           Harry Styles   \n",
       "\n",
       "                                          artistLink  \\\n",
       "0  https://api.spotify.com/v1/artists/0L8ExT028jH...   \n",
       "1  https://api.spotify.com/v1/artists/08GQAI4eElD...   \n",
       "2  https://api.spotify.com/v1/artists/3YQKmKGau1P...   \n",
       "3  https://api.spotify.com/v1/artists/7eLcDZDYHXZ...   \n",
       "4  https://api.spotify.com/v1/artists/6KImCVD70vt...   \n",
       "\n",
       "                                           albumLink albumType  \\\n",
       "0  https://open.spotify.com/album/2ITVvrNiINKRiW7...     album   \n",
       "1  https://open.spotify.com/album/0BwWUstDMUbgq2N...     album   \n",
       "2  https://open.spotify.com/album/3cQO7jp5S9qLBoI...     album   \n",
       "3  https://open.spotify.com/album/6sIXTuaE9F2p4Pc...    single   \n",
       "4  https://open.spotify.com/album/2pqdSWeJVsXAhHF...    single   \n",
       "\n",
       "  albumReleaseDate  trackDuration  trackExplicit  trackPopularity  local  \n",
       "0       2022-04-01         260792          False               60  False  \n",
       "1       1977-02-04         270213          False               80  False  \n",
       "2       2015-05-15         202333          False               84  False  \n",
       "3       2022-03-31         125080          False               71  False  \n",
       "4       2022-03-31         167303          False               93  False  "
      ]
     },
     "execution_count": 169,
     "metadata": {},
     "output_type": "execute_result"
    }
   ],
   "source": [
    "for i,e in tqdm(enumerate(links2.links_canciones)):\n",
    "    a = sp.track(e, market=None)\n",
    "    todo2.append(a)\n",
    "    trackName2.append(a['name'])\n",
    "    artistName2.append(a['artists'][0]['name'])\n",
    "    artistLink2.append(a['artists'][0]['href'])\n",
    "    albumLink2.append(a['album']['external_urls']['spotify'])\n",
    "    albumType2.append(a['album']['album_type'])\n",
    "    albumReleaseDate2.append(a['album']['release_date'])\n",
    "    trackDuration2.append(a['duration_ms'])\n",
    "    trackExplicit2.append(a['explicit'])\n",
    "    trackPopularity2.append(a['popularity'])\n",
    "    local2.append(a['is_local'])\n",
    "\n",
    "df2 = pd.DataFrame({'todo':todo2,\n",
    "'trackName':trackName2,\n",
    "'artistName':artistName2,\n",
    "'artistLink':artistLink2,\n",
    "'albumLink':albumLink2,\n",
    "'albumType':albumType2,\n",
    "'albumReleaseDate':albumReleaseDate2,\n",
    "'trackDuration':trackDuration2,\n",
    "'trackExplicit':trackExplicit2,\n",
    "'trackPopularity':trackPopularity2,\n",
    "'local':local2})\n",
    "df2.head()"
   ]
  },
  {
   "cell_type": "markdown",
   "id": "1574e11d",
   "metadata": {},
   "source": [
    "## Obtener las características sonoras de la canción Spotify API"
   ]
  },
  {
   "cell_type": "code",
   "execution_count": 171,
   "id": "f1203b03",
   "metadata": {},
   "outputs": [],
   "source": [
    "danceability2=[]\n",
    "energy2=[]\n",
    "key2=[]\n",
    "loudness2=[]\n",
    "mode2=[]\n",
    "speechiness2=[]\n",
    "acousticness2=[]\n",
    "instrumentalness2=[]\n",
    "liveness2=[]\n",
    "valence2=[]\n",
    "tempo2=[]"
   ]
  },
  {
   "cell_type": "code",
   "execution_count": 172,
   "id": "2a4c5377",
   "metadata": {
    "scrolled": true
   },
   "outputs": [
    {
     "data": {
      "application/vnd.jupyter.widget-view+json": {
       "model_id": "8496ee8e47624f41b91e30f26b6bdccb",
       "version_major": 2,
       "version_minor": 0
      },
      "text/plain": [
       "0it [00:00, ?it/s]"
      ]
     },
     "metadata": {},
     "output_type": "display_data"
    },
    {
     "data": {
      "text/html": [
       "<div>\n",
       "<style scoped>\n",
       "    .dataframe tbody tr th:only-of-type {\n",
       "        vertical-align: middle;\n",
       "    }\n",
       "\n",
       "    .dataframe tbody tr th {\n",
       "        vertical-align: top;\n",
       "    }\n",
       "\n",
       "    .dataframe thead th {\n",
       "        text-align: right;\n",
       "    }\n",
       "</style>\n",
       "<table border=\"1\" class=\"dataframe\">\n",
       "  <thead>\n",
       "    <tr style=\"text-align: right;\">\n",
       "      <th></th>\n",
       "      <th>todo</th>\n",
       "      <th>trackName</th>\n",
       "      <th>artistName</th>\n",
       "      <th>artistLink</th>\n",
       "      <th>albumLink</th>\n",
       "      <th>albumType</th>\n",
       "      <th>albumReleaseDate</th>\n",
       "      <th>trackDuration</th>\n",
       "      <th>trackExplicit</th>\n",
       "      <th>trackPopularity</th>\n",
       "      <th>...</th>\n",
       "      <th>energy</th>\n",
       "      <th>key</th>\n",
       "      <th>loudness</th>\n",
       "      <th>mode</th>\n",
       "      <th>speechiness</th>\n",
       "      <th>acousticness</th>\n",
       "      <th>instrumentalness</th>\n",
       "      <th>liveness</th>\n",
       "      <th>valence</th>\n",
       "      <th>tempo</th>\n",
       "    </tr>\n",
       "  </thead>\n",
       "  <tbody>\n",
       "    <tr>\n",
       "      <th>0</th>\n",
       "      <td>{'album': {'album_type': 'album', 'artists': [...</td>\n",
       "      <td>Aquatic Mouth Dance</td>\n",
       "      <td>Red Hot Chili Peppers</td>\n",
       "      <td>https://api.spotify.com/v1/artists/0L8ExT028jH...</td>\n",
       "      <td>https://open.spotify.com/album/2ITVvrNiINKRiW7...</td>\n",
       "      <td>album</td>\n",
       "      <td>2022-04-01</td>\n",
       "      <td>260792</td>\n",
       "      <td>False</td>\n",
       "      <td>60</td>\n",
       "      <td>...</td>\n",
       "      <td>0.884</td>\n",
       "      <td>5</td>\n",
       "      <td>-4.987</td>\n",
       "      <td>0</td>\n",
       "      <td>0.0700</td>\n",
       "      <td>0.00413</td>\n",
       "      <td>0.018600</td>\n",
       "      <td>0.1470</td>\n",
       "      <td>0.811</td>\n",
       "      <td>99.631</td>\n",
       "    </tr>\n",
       "    <tr>\n",
       "      <th>1</th>\n",
       "      <td>{'album': {'album_type': 'album', 'artists': [...</td>\n",
       "      <td>The Chain - 2004 Remaster</td>\n",
       "      <td>Fleetwood Mac</td>\n",
       "      <td>https://api.spotify.com/v1/artists/08GQAI4eElD...</td>\n",
       "      <td>https://open.spotify.com/album/0BwWUstDMUbgq2N...</td>\n",
       "      <td>album</td>\n",
       "      <td>1977-02-04</td>\n",
       "      <td>270213</td>\n",
       "      <td>False</td>\n",
       "      <td>80</td>\n",
       "      <td>...</td>\n",
       "      <td>0.670</td>\n",
       "      <td>9</td>\n",
       "      <td>-8.810</td>\n",
       "      <td>1</td>\n",
       "      <td>0.0496</td>\n",
       "      <td>0.00900</td>\n",
       "      <td>0.000822</td>\n",
       "      <td>0.0451</td>\n",
       "      <td>0.481</td>\n",
       "      <td>151.553</td>\n",
       "    </tr>\n",
       "    <tr>\n",
       "      <th>2</th>\n",
       "      <td>{'album': {'album_type': 'album', 'artists': [...</td>\n",
       "      <td>Stressed Out</td>\n",
       "      <td>Twenty One Pilots</td>\n",
       "      <td>https://api.spotify.com/v1/artists/3YQKmKGau1P...</td>\n",
       "      <td>https://open.spotify.com/album/3cQO7jp5S9qLBoI...</td>\n",
       "      <td>album</td>\n",
       "      <td>2015-05-15</td>\n",
       "      <td>202333</td>\n",
       "      <td>False</td>\n",
       "      <td>84</td>\n",
       "      <td>...</td>\n",
       "      <td>0.637</td>\n",
       "      <td>4</td>\n",
       "      <td>-5.677</td>\n",
       "      <td>0</td>\n",
       "      <td>0.1410</td>\n",
       "      <td>0.04620</td>\n",
       "      <td>0.000023</td>\n",
       "      <td>0.0602</td>\n",
       "      <td>0.648</td>\n",
       "      <td>169.977</td>\n",
       "    </tr>\n",
       "    <tr>\n",
       "      <th>3</th>\n",
       "      <td>{'album': {'album_type': 'single', 'artists': ...</td>\n",
       "      <td>En El Coche</td>\n",
       "      <td>Aitana</td>\n",
       "      <td>https://api.spotify.com/v1/artists/7eLcDZDYHXZ...</td>\n",
       "      <td>https://open.spotify.com/album/6sIXTuaE9F2p4Pc...</td>\n",
       "      <td>single</td>\n",
       "      <td>2022-03-31</td>\n",
       "      <td>125080</td>\n",
       "      <td>False</td>\n",
       "      <td>71</td>\n",
       "      <td>...</td>\n",
       "      <td>0.650</td>\n",
       "      <td>1</td>\n",
       "      <td>-4.000</td>\n",
       "      <td>0</td>\n",
       "      <td>0.0952</td>\n",
       "      <td>0.15000</td>\n",
       "      <td>0.000001</td>\n",
       "      <td>0.3750</td>\n",
       "      <td>0.893</td>\n",
       "      <td>128.030</td>\n",
       "    </tr>\n",
       "    <tr>\n",
       "      <th>4</th>\n",
       "      <td>{'album': {'album_type': 'single', 'artists': ...</td>\n",
       "      <td>As It Was</td>\n",
       "      <td>Harry Styles</td>\n",
       "      <td>https://api.spotify.com/v1/artists/6KImCVD70vt...</td>\n",
       "      <td>https://open.spotify.com/album/2pqdSWeJVsXAhHF...</td>\n",
       "      <td>single</td>\n",
       "      <td>2022-03-31</td>\n",
       "      <td>167303</td>\n",
       "      <td>False</td>\n",
       "      <td>93</td>\n",
       "      <td>...</td>\n",
       "      <td>0.731</td>\n",
       "      <td>6</td>\n",
       "      <td>-5.338</td>\n",
       "      <td>0</td>\n",
       "      <td>0.0557</td>\n",
       "      <td>0.34200</td>\n",
       "      <td>0.001010</td>\n",
       "      <td>0.3110</td>\n",
       "      <td>0.662</td>\n",
       "      <td>173.930</td>\n",
       "    </tr>\n",
       "  </tbody>\n",
       "</table>\n",
       "<p>5 rows × 22 columns</p>\n",
       "</div>"
      ],
      "text/plain": [
       "                                                todo  \\\n",
       "0  {'album': {'album_type': 'album', 'artists': [...   \n",
       "1  {'album': {'album_type': 'album', 'artists': [...   \n",
       "2  {'album': {'album_type': 'album', 'artists': [...   \n",
       "3  {'album': {'album_type': 'single', 'artists': ...   \n",
       "4  {'album': {'album_type': 'single', 'artists': ...   \n",
       "\n",
       "                   trackName             artistName  \\\n",
       "0        Aquatic Mouth Dance  Red Hot Chili Peppers   \n",
       "1  The Chain - 2004 Remaster          Fleetwood Mac   \n",
       "2               Stressed Out      Twenty One Pilots   \n",
       "3                En El Coche                 Aitana   \n",
       "4                  As It Was           Harry Styles   \n",
       "\n",
       "                                          artistLink  \\\n",
       "0  https://api.spotify.com/v1/artists/0L8ExT028jH...   \n",
       "1  https://api.spotify.com/v1/artists/08GQAI4eElD...   \n",
       "2  https://api.spotify.com/v1/artists/3YQKmKGau1P...   \n",
       "3  https://api.spotify.com/v1/artists/7eLcDZDYHXZ...   \n",
       "4  https://api.spotify.com/v1/artists/6KImCVD70vt...   \n",
       "\n",
       "                                           albumLink albumType  \\\n",
       "0  https://open.spotify.com/album/2ITVvrNiINKRiW7...     album   \n",
       "1  https://open.spotify.com/album/0BwWUstDMUbgq2N...     album   \n",
       "2  https://open.spotify.com/album/3cQO7jp5S9qLBoI...     album   \n",
       "3  https://open.spotify.com/album/6sIXTuaE9F2p4Pc...    single   \n",
       "4  https://open.spotify.com/album/2pqdSWeJVsXAhHF...    single   \n",
       "\n",
       "  albumReleaseDate  trackDuration  trackExplicit  trackPopularity  ...  \\\n",
       "0       2022-04-01         260792          False               60  ...   \n",
       "1       1977-02-04         270213          False               80  ...   \n",
       "2       2015-05-15         202333          False               84  ...   \n",
       "3       2022-03-31         125080          False               71  ...   \n",
       "4       2022-03-31         167303          False               93  ...   \n",
       "\n",
       "   energy  key  loudness  mode  speechiness  acousticness  instrumentalness  \\\n",
       "0   0.884    5    -4.987     0       0.0700       0.00413          0.018600   \n",
       "1   0.670    9    -8.810     1       0.0496       0.00900          0.000822   \n",
       "2   0.637    4    -5.677     0       0.1410       0.04620          0.000023   \n",
       "3   0.650    1    -4.000     0       0.0952       0.15000          0.000001   \n",
       "4   0.731    6    -5.338     0       0.0557       0.34200          0.001010   \n",
       "\n",
       "   liveness  valence    tempo  \n",
       "0    0.1470    0.811   99.631  \n",
       "1    0.0451    0.481  151.553  \n",
       "2    0.0602    0.648  169.977  \n",
       "3    0.3750    0.893  128.030  \n",
       "4    0.3110    0.662  173.930  \n",
       "\n",
       "[5 rows x 22 columns]"
      ]
     },
     "execution_count": 172,
     "metadata": {},
     "output_type": "execute_result"
    }
   ],
   "source": [
    "for i,e in tqdm(enumerate(links2.links_canciones)):\n",
    "    a = sp.audio_features(e)\n",
    "    danceability2.append(a[0]['danceability'])\n",
    "    energy2.append(a[0]['energy'])\n",
    "    key2.append(a[0]['key'])\n",
    "    loudness2.append(a[0]['loudness'])\n",
    "    mode2.append(a[0]['mode'])\n",
    "    speechiness2.append(a[0]['speechiness'])\n",
    "    acousticness2.append(a[0]['acousticness'])\n",
    "    instrumentalness2.append(a[0]['instrumentalness'])\n",
    "    liveness2.append(a[0]['liveness'])\n",
    "    valence2.append(a[0]['valence'])\n",
    "    tempo2.append(a[0]['tempo'])\n",
    "\n",
    "df2['danceability'] = danceability2\n",
    "df2['energy'] = energy2\n",
    "df2['key'] = key2\n",
    "df2['loudness'] = loudness2\n",
    "df2['mode'] = mode2\n",
    "df2['speechiness'] = speechiness2\n",
    "df2['acousticness'] = acousticness2\n",
    "df2['instrumentalness'] = instrumentalness2\n",
    "df2['liveness'] = liveness2\n",
    "df2['valence'] = valence2\n",
    "df2['tempo'] = tempo2\n",
    "\n",
    "df2.head()"
   ]
  },
  {
   "cell_type": "code",
   "execution_count": 173,
   "id": "dd0d979a",
   "metadata": {},
   "outputs": [
    {
     "data": {
      "text/plain": [
       "(1318, 22)"
      ]
     },
     "execution_count": 173,
     "metadata": {},
     "output_type": "execute_result"
    }
   ],
   "source": [
    "df.shape"
   ]
  },
  {
   "cell_type": "code",
   "execution_count": 174,
   "id": "dcde192e",
   "metadata": {},
   "outputs": [
    {
     "data": {
      "text/plain": [
       "(474, 22)"
      ]
     },
     "execution_count": 174,
     "metadata": {},
     "output_type": "execute_result"
    }
   ],
   "source": [
    "df2.shape"
   ]
  },
  {
   "cell_type": "code",
   "execution_count": 176,
   "id": "3ebd4145",
   "metadata": {},
   "outputs": [],
   "source": [
    "df3 = pd.concat([df,df2], axis=0, ignore_index=True)"
   ]
  },
  {
   "cell_type": "code",
   "execution_count": 177,
   "id": "9ebfd950",
   "metadata": {},
   "outputs": [
    {
     "data": {
      "text/plain": [
       "(1792, 22)"
      ]
     },
     "execution_count": 177,
     "metadata": {},
     "output_type": "execute_result"
    }
   ],
   "source": [
    "df3.shape"
   ]
  },
  {
   "cell_type": "code",
   "execution_count": null,
   "id": "7dd218e8",
   "metadata": {},
   "outputs": [],
   "source": []
  }
 ],
 "metadata": {
  "kernelspec": {
   "display_name": "Python 3 (ipykernel)",
   "language": "python",
   "name": "python3"
  },
  "language_info": {
   "codemirror_mode": {
    "name": "ipython",
    "version": 3
   },
   "file_extension": ".py",
   "mimetype": "text/x-python",
   "name": "python",
   "nbconvert_exporter": "python",
   "pygments_lexer": "ipython3",
   "version": "3.9.12"
  }
 },
 "nbformat": 4,
 "nbformat_minor": 5
}
