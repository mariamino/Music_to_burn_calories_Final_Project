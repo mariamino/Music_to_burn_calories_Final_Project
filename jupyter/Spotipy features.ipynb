{
 "cells": [
  {
   "cell_type": "code",
   "execution_count": 17,
   "id": "63a16796",
   "metadata": {
    "scrolled": true
   },
   "outputs": [
    {
     "name": "stdout",
     "output_type": "stream",
     "text": [
      "Requirement already satisfied: spotipy in /Users/maria/opt/anaconda3/lib/python3.9/site-packages (2.21.0)\n",
      "Requirement already satisfied: urllib3>=1.26.0 in /Users/maria/opt/anaconda3/lib/python3.9/site-packages (from spotipy) (1.26.9)\n",
      "Requirement already satisfied: redis>=3.5.3 in /Users/maria/opt/anaconda3/lib/python3.9/site-packages (from spotipy) (4.4.0)\n",
      "Requirement already satisfied: six>=1.15.0 in /Users/maria/opt/anaconda3/lib/python3.9/site-packages (from spotipy) (1.16.0)\n",
      "Requirement already satisfied: requests>=2.25.0 in /Users/maria/opt/anaconda3/lib/python3.9/site-packages (from spotipy) (2.27.1)\n",
      "Requirement already satisfied: async-timeout>=4.0.2 in /Users/maria/opt/anaconda3/lib/python3.9/site-packages (from redis>=3.5.3->spotipy) (4.0.2)\n",
      "Requirement already satisfied: certifi>=2017.4.17 in /Users/maria/opt/anaconda3/lib/python3.9/site-packages (from requests>=2.25.0->spotipy) (2021.10.8)\n",
      "Requirement already satisfied: idna<4,>=2.5 in /Users/maria/opt/anaconda3/lib/python3.9/site-packages (from requests>=2.25.0->spotipy) (3.3)\n",
      "Requirement already satisfied: charset-normalizer~=2.0.0 in /Users/maria/opt/anaconda3/lib/python3.9/site-packages (from requests>=2.25.0->spotipy) (2.0.4)\n",
      "Note: you may need to restart the kernel to use updated packages.\n"
     ]
    }
   ],
   "source": [
    "pip install spotipy --upgrade"
   ]
  },
  {
   "cell_type": "code",
   "execution_count": 18,
   "id": "16b8e3e2",
   "metadata": {},
   "outputs": [
    {
     "name": "stdout",
     "output_type": "stream",
     "text": [
      "Requirement already satisfied: tqdm in /Users/maria/opt/anaconda3/lib/python3.9/site-packages (4.64.0)\n",
      "Note: you may need to restart the kernel to use updated packages.\n"
     ]
    }
   ],
   "source": [
    "%pip install tqdm"
   ]
  },
  {
   "cell_type": "code",
   "execution_count": 19,
   "id": "c56f8d84",
   "metadata": {},
   "outputs": [],
   "source": [
    "import pandas as pd\n",
    "import spotipy as sp\n",
    "from spotipy.oauth2 import SpotifyClientCredentials\n",
    "from tqdm.notebook import tqdm"
   ]
  },
  {
   "cell_type": "markdown",
   "id": "d9a3ace6",
   "metadata": {},
   "source": [
    "## Conectamos con la API de Spotify"
   ]
  },
  {
   "cell_type": "code",
   "execution_count": 20,
   "id": "b365aff7",
   "metadata": {},
   "outputs": [],
   "source": [
    "auth_manager = SpotifyClientCredentials('a73d30556eba483fa2f6901678510692', '96937d6cdfe94f87944e79a475e9d679')\n",
    "sp = sp.Spotify(auth_manager=auth_manager)"
   ]
  },
  {
   "cell_type": "markdown",
   "id": "2bbb6da6",
   "metadata": {},
   "source": [
    "## Comenzamos a solicitar información a la API"
   ]
  },
  {
   "cell_type": "code",
   "execution_count": 21,
   "id": "065c9c75",
   "metadata": {},
   "outputs": [],
   "source": [
    "links = pd.read_excel('../../../links.xlsx', sheet_name='links')"
   ]
  },
  {
   "cell_type": "code",
   "execution_count": 22,
   "id": "2cca1bca",
   "metadata": {},
   "outputs": [],
   "source": [
    "links.drop(columns=['Unnamed: 0'], inplace=True)"
   ]
  },
  {
   "cell_type": "code",
   "execution_count": 23,
   "id": "246070b9",
   "metadata": {},
   "outputs": [
    {
     "data": {
      "text/plain": [
       "Index(['links_canciones'], dtype='object')"
      ]
     },
     "execution_count": 23,
     "metadata": {},
     "output_type": "execute_result"
    }
   ],
   "source": [
    "links.columns"
   ]
  },
  {
   "cell_type": "code",
   "execution_count": 24,
   "id": "a769c244",
   "metadata": {
    "scrolled": true
   },
   "outputs": [
    {
     "data": {
      "text/plain": [
       "(2566, 1)"
      ]
     },
     "execution_count": 24,
     "metadata": {},
     "output_type": "execute_result"
    }
   ],
   "source": [
    "links.shape"
   ]
  },
  {
   "cell_type": "code",
   "execution_count": 25,
   "id": "957d0fd9",
   "metadata": {},
   "outputs": [],
   "source": [
    "links.drop_duplicates(inplace=True)"
   ]
  },
  {
   "cell_type": "code",
   "execution_count": 84,
   "id": "acf86543",
   "metadata": {},
   "outputs": [
    {
     "data": {
      "text/plain": [
       "'https://open.spotify.com/track/4riDfclV7kPDT9D58FpmHd?si=fd1dca8f4d094b65'"
      ]
     },
     "execution_count": 84,
     "metadata": {},
     "output_type": "execute_result"
    }
   ],
   "source": [
    "links['links_canciones'][3]"
   ]
  },
  {
   "cell_type": "code",
   "execution_count": 95,
   "id": "83591859",
   "metadata": {},
   "outputs": [],
   "source": [
    "todo=[]\n",
    "trackName=[]\n",
    "artistName=[]\n",
    "artistLink=[]\n",
    "albumLink=[]\n",
    "albumType=[]\n",
    "albumReleaseDate=[]\n",
    "trackDuration=[]\n",
    "trackExplicit=[]\n",
    "trackPopularity=[]\n",
    "local=[]"
   ]
  },
  {
   "cell_type": "code",
   "execution_count": null,
   "id": "f1ff7b7a",
   "metadata": {},
   "outputs": [
    {
     "data": {
      "application/vnd.jupyter.widget-view+json": {
       "model_id": "45895264ad7a4bddab03dadfba5bf73d",
       "version_major": 2,
       "version_minor": 0
      },
      "text/plain": [
       "0it [00:00, ?it/s]"
      ]
     },
     "metadata": {},
     "output_type": "display_data"
    }
   ],
   "source": [
    "for i,e in tqdm(enumerate(links.links_canciones)):\n",
    "    a = sp.track(e, market=None)\n",
    "    todo.append(a)\n",
    "    trackName.append(a['name'])\n",
    "    artistName.append(a['artists'][0]['name'])\n",
    "    artistLink.append(a['artists'][0]['href'])\n",
    "    albumLink.append(a['album']['external_urls']['spotify'])\n",
    "    albumType.append(a['album']['album_type'])\n",
    "    albumReleaseDate.append(a['album']['release_date'])\n",
    "    trackDuration.append(a['duration_ms'])\n",
    "    trackExplicit.append(a['explicit'])\n",
    "    trackPopularity.append(a['popularity'])\n",
    "    local.append(a['is_local'])\n",
    "\n",
    "df = pd.DataFrame({'todo':todo,\n",
    "'trackName':trackName,\n",
    "'artistName':artistName,\n",
    "'artistLink':artistLink,\n",
    "'albumLink':albumLink,\n",
    "'albumType':albumType,\n",
    "'albumReleaseDate':albumReleaseDate,\n",
    "'trackDuration':trackDuration,\n",
    "'trackExplicit':trackExplicit,\n",
    "'trackPopularity':trackPopularity,\n",
    "'local':local})\n",
    "df.head()"
   ]
  },
  {
   "cell_type": "code",
   "execution_count": 94,
   "id": "9921885e",
   "metadata": {},
   "outputs": [],
   "source": []
  },
  {
   "cell_type": "code",
   "execution_count": 80,
   "id": "66ad22de",
   "metadata": {},
   "outputs": [],
   "source": [
    "a = sp.track('https://open.spotify.com/track/7MmrcXVA7A5zZ2CbDuGHNa?si=43f2590743cd40af', market=None)"
   ]
  },
  {
   "cell_type": "code",
   "execution_count": 44,
   "id": "b65cffc1",
   "metadata": {
    "scrolled": true
   },
   "outputs": [
    {
     "data": {
      "text/plain": [
       "dict_keys(['album', 'artists', 'available_markets', 'disc_number', 'duration_ms', 'explicit', 'external_ids', 'external_urls', 'href', 'id', 'is_local', 'name', 'popularity', 'preview_url', 'track_number', 'type', 'uri'])"
      ]
     },
     "execution_count": 44,
     "metadata": {},
     "output_type": "execute_result"
    }
   ],
   "source": [
    "a.keys()"
   ]
  },
  {
   "cell_type": "code",
   "execution_count": 48,
   "id": "2c35e95a",
   "metadata": {},
   "outputs": [
    {
     "data": {
      "text/plain": [
       "'A Mí'"
      ]
     },
     "execution_count": 48,
     "metadata": {},
     "output_type": "execute_result"
    }
   ],
   "source": [
    "a['name']"
   ]
  },
  {
   "cell_type": "code",
   "execution_count": 57,
   "id": "fdbd1b6d",
   "metadata": {},
   "outputs": [
    {
     "data": {
      "text/plain": [
       "'Rels B'"
      ]
     },
     "execution_count": 57,
     "metadata": {},
     "output_type": "execute_result"
    }
   ],
   "source": [
    "a['artists'][0]['name']"
   ]
  },
  {
   "cell_type": "code",
   "execution_count": 61,
   "id": "613bf85a",
   "metadata": {},
   "outputs": [
    {
     "data": {
      "text/plain": [
       "'https://api.spotify.com/v1/artists/2IMZYfNi21MGqxopj9fWx8'"
      ]
     },
     "execution_count": 61,
     "metadata": {},
     "output_type": "execute_result"
    }
   ],
   "source": [
    "a['artists'][0]['href']"
   ]
  },
  {
   "cell_type": "code",
   "execution_count": 67,
   "id": "a40ea944",
   "metadata": {},
   "outputs": [
    {
     "data": {
      "text/plain": [
       "'https://open.spotify.com/album/3tc9WifLZvWKnoWzLPmaeO'"
      ]
     },
     "execution_count": 67,
     "metadata": {},
     "output_type": "execute_result"
    }
   ],
   "source": [
    "a['album']['external_urls']['spotify']"
   ]
  },
  {
   "cell_type": "code",
   "execution_count": 69,
   "id": "1fd90c78",
   "metadata": {},
   "outputs": [
    {
     "data": {
      "text/plain": [
       "'single'"
      ]
     },
     "execution_count": 69,
     "metadata": {},
     "output_type": "execute_result"
    }
   ],
   "source": [
    "a['album']['album_type']"
   ]
  },
  {
   "cell_type": "code",
   "execution_count": 71,
   "id": "51d2b9d4",
   "metadata": {},
   "outputs": [
    {
     "data": {
      "text/plain": [
       "'2019-02-21'"
      ]
     },
     "execution_count": 71,
     "metadata": {},
     "output_type": "execute_result"
    }
   ],
   "source": [
    "a['album']['release_date']"
   ]
  },
  {
   "cell_type": "code",
   "execution_count": 73,
   "id": "a493d678",
   "metadata": {},
   "outputs": [
    {
     "data": {
      "text/plain": [
       "209680"
      ]
     },
     "execution_count": 73,
     "metadata": {},
     "output_type": "execute_result"
    }
   ],
   "source": [
    "a['duration_ms']"
   ]
  },
  {
   "cell_type": "code",
   "execution_count": 75,
   "id": "367cc3ec",
   "metadata": {},
   "outputs": [
    {
     "data": {
      "text/plain": [
       "False"
      ]
     },
     "execution_count": 75,
     "metadata": {},
     "output_type": "execute_result"
    }
   ],
   "source": [
    "a['explicit']"
   ]
  },
  {
   "cell_type": "code",
   "execution_count": 77,
   "id": "2bc69a14",
   "metadata": {
    "scrolled": true
   },
   "outputs": [
    {
     "data": {
      "text/plain": [
       "80"
      ]
     },
     "execution_count": 77,
     "metadata": {},
     "output_type": "execute_result"
    }
   ],
   "source": [
    "a['popularity']"
   ]
  },
  {
   "cell_type": "code",
   "execution_count": 79,
   "id": "48b4ba76",
   "metadata": {},
   "outputs": [
    {
     "data": {
      "text/plain": [
       "False"
      ]
     },
     "execution_count": 79,
     "metadata": {},
     "output_type": "execute_result"
    }
   ],
   "source": [
    "a['is_local']"
   ]
  },
  {
   "cell_type": "code",
   "execution_count": 6,
   "id": "0e22da97",
   "metadata": {
    "scrolled": true
   },
   "outputs": [
    {
     "data": {
      "text/plain": [
       "[{'danceability': 0.609,\n",
       "  'energy': 0.444,\n",
       "  'key': 7,\n",
       "  'loudness': -9.129,\n",
       "  'mode': 1,\n",
       "  'speechiness': 0.106,\n",
       "  'acousticness': 0.603,\n",
       "  'instrumentalness': 6.86e-06,\n",
       "  'liveness': 0.104,\n",
       "  'valence': 0.166,\n",
       "  'tempo': 118.402,\n",
       "  'type': 'audio_features',\n",
       "  'id': '3XVBdLihbNbxUwZosxcGuJ',\n",
       "  'uri': 'spotify:track:3XVBdLihbNbxUwZosxcGuJ',\n",
       "  'track_href': 'https://api.spotify.com/v1/tracks/3XVBdLihbNbxUwZosxcGuJ',\n",
       "  'analysis_url': 'https://api.spotify.com/v1/audio-analysis/3XVBdLihbNbxUwZosxcGuJ',\n",
       "  'duration_ms': 228707,\n",
       "  'time_signature': 3}]"
      ]
     },
     "execution_count": 6,
     "metadata": {},
     "output_type": "execute_result"
    }
   ],
   "source": [
    "sp.audio_features('https://open.spotify.com/track/3XVBdLihbNbxUwZosxcGuJ?si=4cdf178a4f9f4561')"
   ]
  },
  {
   "cell_type": "code",
   "execution_count": null,
   "id": "83886612",
   "metadata": {},
   "outputs": [],
   "source": []
  }
 ],
 "metadata": {
  "kernelspec": {
   "display_name": "Python 3 (ipykernel)",
   "language": "python",
   "name": "python3"
  },
  "language_info": {
   "codemirror_mode": {
    "name": "ipython",
    "version": 3
   },
   "file_extension": ".py",
   "mimetype": "text/x-python",
   "name": "python",
   "nbconvert_exporter": "python",
   "pygments_lexer": "ipython3",
   "version": "3.9.12"
  }
 },
 "nbformat": 4,
 "nbformat_minor": 5
}
